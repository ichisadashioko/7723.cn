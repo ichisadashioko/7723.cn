{
 "cells": [
  {
   "cell_type": "code",
   "execution_count": 1,
   "metadata": {},
   "outputs": [],
   "source": [
    "import time\n",
    "import re\n",
    "import os\n",
    "import json\n",
    "from urllib.parse import urlparse, urlunparse, urljoin\n",
    "\n",
    "# external modules\n",
    "from tqdm import tqdm\n",
    "import requests\n",
    "from bs4 import BeautifulSoup"
   ]
  },
  {
   "cell_type": "code",
   "execution_count": 3,
   "metadata": {},
   "outputs": [
    {
     "data": {
      "text/plain": [
       "True"
      ]
     },
     "execution_count": 3,
     "metadata": {},
     "output_type": "execute_result"
    }
   ],
   "source": [
    "url = 'http://www.7723.cn/download/10420.htm'\n",
    "res = requests.get(url)\n",
    "res.ok"
   ]
  },
  {
   "cell_type": "code",
   "execution_count": 8,
   "metadata": {},
   "outputs": [
    {
     "data": {
      "text/plain": [
       "'ISO-8859-1'"
      ]
     },
     "execution_count": 8,
     "metadata": {},
     "output_type": "execute_result"
    }
   ],
   "source": [
    "res.encoding"
   ]
  },
  {
   "cell_type": "code",
   "execution_count": 7,
   "metadata": {},
   "outputs": [
    {
     "data": {
      "text/plain": [
       "str"
      ]
     },
     "execution_count": 7,
     "metadata": {},
     "output_type": "execute_result"
    }
   ],
   "source": [
    "type(res.text)"
   ]
  },
  {
   "cell_type": "code",
   "execution_count": 5,
   "metadata": {
    "scrolled": true
   },
   "outputs": [
    {
     "data": {
      "text/plain": [
       "'<!DOCTYPE html PUBLIC \"-//W3C//DTD XHTML 1.0 Transitional//EN\" \"http://www.w3.org/TR/xhtml1/DTD/xhtml1-transitional.dtd\">\\n<html xmlns=\"http://www.w3.org/1999/xhtml\">\\n<head>\\n<meta http-equiv=\"Content-Type\" content=\"text/html; charset=utf-8\" />\\n<title>è\\x8b\\x8då¼\\x93é»\\x98ç¤ºå½\\x95ï¼\\x8då\\x90\\x9eå\\x99¬æ\\x97¶ç©º_JAVAæ¸¸æ\\x88\\x8få\\x85\\x8dè´¹ç\\x89\\x88ä¸\\x8bè½½_7723æ\\x89\\x8bæ\\x9cºæ¸¸æ\\x88\\x8f[www.7723.cn]</title>\\n<meta content=\"è\\x8b\\x8då¼\\x93é»\\x98ç¤ºå½\\x95ï¼\\x8då\\x90\\x9eå\\x99¬æ\\x97¶ç©º\" name=\"keywords\">\\n<meta content=\"\" name=\"description\">\\n<link type=\"text/css\" rel=\"stylesheet\" href=\"/static/css/androidb.css\">\\n<script type=\"text/javascript\" src=\"http://www.7723.cn/static/common/jquery.min.js\"></script>\\n<script type=\"text/javascript\" src=\"http://cbjs.baidu.com/js/m.js\"></script>\\n<link type=\"image/x-icon\" rel=\"shortcut icon\" href=\"http://www.7723.cn/favicon.ico\">\\n</head>\\n<body id=\"downmain\" class=\"\">\\n<div id=\"contanier\">\\n<div id=\"top\">\\n<div class=\"main\">\\n<p>\\n7723æ\\x89\\x8bæ\\x9cºæ¸¸æ\\x88\\x8fä¸\\x8bè½½ä¸\\xadå¿\\x83&nbsp;\\n<a target=\"_blank\" href=\"http://www.7723.cn/jx/sheding.htm\" title=\"è®¾å®\\x9aæ\\x9cºå\\x9e\\x8bå¿«é\\x80\\x9fä¸\\x8bè½½æ¸¸æ\\x88\\x8f\">è®¾å®\\x9aæ\\x9cºå\\x9e\\x8bå¿«é\\x80\\x9fä¸\\x8bè½½æ¸¸æ\\x88\\x8fé\\x80\\x9aé\\x81\\x93</a>\\n&nbsp;\\næ\\x8a\\x8a7723å\\x88\\x86äº«ç»\\x99æ\\x9b´å¤\\x9aç\\x9a\\x84æ\\x9c\\x8bå\\x8f\\x8bï¼\\x9a\\n</p>\\n<div id=\"bdshare\" class=\"bdshare_t bds_tools get-codes-bdshare\">\\n<a class=\"bds_qzone\"></a>\\n<a class=\"bds_tsina\"></a>\\n<a class=\"bds_tqq\"></a>\\n<a class=\"bds_renren\"></a>\\n<a class=\"bds_t163\"></a>\\n<a class=\"shareCount\"></a>\\n</div>\\n<script type=\"text/javascript\" id=\"bdshare_js\" data=\"type=tools&amp;uid=0\"></script>\\n<script type=\"text/javascript\" id=\"bdshell_js\"></script>\\n<script type=\"text/javascript\">\\r\\n            document.getElementById(\"bdshell_js\").src = \"http://bdimg.share.baidu.com/static/js/shell_v2.js?cdnversion=\" + Math.ceil(new Date()/3600000)\\r\\n            </script>\\n<ul>\\n<li class=\"img1\">\\n<a onclick=\"this.style.behavior=\\'url(#default#homepage)\\';this.setHomePage(\\'http://www.7723.cn/\\');clickCount(\\'homepage\\');return(false);\" style=\"BEHAVIOR:url(#default#homepage)\" href=\"javascript:void(0)\" title=\"è®¾7723æ\\x89\\x8bæ\\x9cºæ¸¸æ\\x88\\x8fä¸ºé¦\\x96é¡µ\">è®¾ä¸ºé¦\\x96é¡µ</a>\\n</li>\\n</ul>\\n</div>\\n</div>\\n<div id=\"header\">\\n<div class=\"main\">\\n<div class=\"logo\">\\n<a href=\"http://www.7723.cn/\" title=\"7723æ\\x89\\x8bæ\\x9cºæ¸¸æ\\x88\\x8f\">\\n<img width=\"146\" align=\"middle\" height=\"74\" alt=\"7723æ\\x89\\x8bæ\\x9cºæ¸¸æ\\x88\\x8f\" src=\"http://www.7723.cn/static/images/logo.gif\">\\n</a>\\n</div>\\n<div id=\"nav\">\\n<ul id=\"primaryNav\">\\n<li id=\"index\"><a href=\"http://www.7723.cn/\" title=\"7723æ\\x89\\x8bæ\\x9cºæ¸¸æ\\x88\\x8f\">é¦\\x96é¡µ</a></li>\\n<li id=\"click\"><a href=\"http://www.7723.cn/android\" title=\"å®\\x89å\\x8d\\x93(Android)æ\\x89\\x8bæ\\x9cºæ¸¸æ\\x88\\x8f\">å®\\x89å\\x8d\\x93</a></li>\\n<li id=\"click\" class=\"current\"><a href=\"http://www.7723.cn/symbian_java\" title=\"å¡\\x9eç\\x8f\\xad.Javaæ\\x89\\x8bæ\\x9cºæ¸¸æ\\x88\\x8f\">å¡\\x9eç\\x8f\\xad</a></li>\\n<li id=\"webgame\"><a href=\"http://www.7723.cn/sjwy\" title=\"æ\\x89\\x8bæ\\x9cºç½\\x91æ¸¸\">ç½\\x91æ¸¸</a></li>\\n<li id=\"news\"><a href=\"http://www.7723.cn/paihang\" title=\"æ\\x89\\x8bæ\\x9cºæ¸¸æ\\x88\\x8fèµ\\x84è®¯\">æ\\x8e\\x92è¡\\x8cæ¦\\x9c</a></li>\\n</ul>\\n<div id=\"subMenu\">\\n<div id=\"search\">\\n<form target=\"_blank\" action=\"http://www.7723.cn/newsearch/syban.shtml\" method=\"post\">\\n<p>\\n<label for=\"searchWorks\">æ¸¸æ\\x88\\x8fæ\\x90\\x9cç´¢:</label>\\n<input type=\"text\" id=\"searchWorks\" value=\"\" name=\"keyword\">\\n</p>\\n<p>\\n<input type=\"submit\" id=\"search_btn\" value=\"\">\\n</p>\\n</form>\\n</div>\\n<div id=\"hotKeywords\">\\n<h4>ç\\x83\\xadé\\x97¨å\\x85³é\\x94®å\\xad\\x97:</h4>\\n<ul>\\n<li><a title=\"æ\\x96\\x97å\\x9c°ä¸»\" href=\"http://www.7723.cn/adyx/p_list.asp?title=æ\\x96\\x97å\\x9c°ä¸»\" target=\"_blank\">æ\\x96\\x97å\\x9c°ä¸»</a></li>\\n<li><a title=\"é\\xad\\x94å\\x85½\" href=\"http://www.7723.cn/adyx/p_list.asp?title=é\\xad\\x94å\\x85½\" target=\"_blank\">é\\xad\\x94å\\x85½</a></li>\\n<li><a title=\"è¿\\x9eè¿\\x9eç\\x9c\\x8b\" href=\"http://www.7723.cn/adyx/p_list.asp?title=è¿\\x9eè¿\\x9eç\\x9c\\x8b\" target=\"_blank\">è¿\\x9eè¿\\x9eç\\x9c\\x8b</a></li>\\n<li><a title=\"ä¸\\x89å\\x9b½\" href=\"http://www.7723.cn/adyx/p_list.asp?title=ä¸\\x89å\\x9b½\" target=\"_blank\">ä¸\\x89å\\x9b½</a></li>\\n<li><a title=\"é\\xad\\x82æ\\x96\\x97ç½\\x97\" href=\"http://www.7723.cn/adyx/p_list.asp?title=é\\xad\\x82æ\\x96\\x97ç½\\x97\" target=\"_blank\">é\\xad\\x82æ\\x96\\x97ç½\\x97</a></li>\\n</ul>\\n</div>\\n</div>\\n</div>\\n</div>\\n</div>\\n<div class=\"main\">\\n<p class=\"nowSite\"><a href=\"http://www.7723.cn/\" title=\"7723æ\\x89\\x8bæ\\x9cºæ¸¸æ\\x88\\x8f\">é¦\\x96é¡µ</a> &gt;&gt; <a href=\"http://www.7723.cn/symbian_java\" title=\"å\\x8d\\x95æ\\x9cºæ¸¸æ\\x88\\x8f\">å\\x8d\\x95æ\\x9cºæ¸¸æ\\x88\\x8f</a> &gt;&gt; è\\x8b\\x8då¼\\x93é»\\x98ç¤ºå½\\x95ï¼\\x8då\\x90\\x9eå\\x99¬æ\\x97¶ç©º</p>\\n<div align=\"left\" style=\" clear:both; margin-top:px;\"><script type=\"text/javascript\">BAIDU_CLB_fillSlot(\"802401\");</script></div>\\n<div id=\"baidu_clb_slot_744445\"></div>\\n<div id=\"content\">\\n<div class=\"frame\" id=\"new\">\\n<div class=\"title\">\\n<h3>è\\x8b\\x8då¼\\x93é»\\x98ç¤ºå½\\x95ï¼\\x8då\\x90\\x9eå\\x99¬æ\\x97¶ç©º</h3> <span style=\"margin-right:2px;float:right;margin-top:5px;\">  7723ç½\\x91æ¸¸ç¾¤ï¼\\x9a172111691 </span>\\n</div>\\n<ul class=\"container\">\\n<li>\\n<dl>\\n<dt class=\"img\"><img width=\"120\" height=\"80\" src=\"http://image.7723.cn/wuza/pico/2011111O8007024.jpg\" alt=\"è\\x8b\\x8då¼\\x93é»\\x98ç¤ºå½\\x95ï¼\\x8då\\x90\\x9eå\\x99¬æ\\x97¶ç©º\"></dt>\\n<dd>ç±»å\\x9e\\x8bï¼\\x9aå\\x8a¨ä½\\x9cæ¸¸æ\\x88\\x8f</dd>\\n<dd>è¯\\xadè¨\\x80ï¼\\x9aä¸\\xadæ\\x96\\x87</dd>\\n<dd>å®\\x89å\\x85¨ï¼\\x9aæ\\x97\\xa0ç\\x97\\x85æ¯\\x92ï¼\\x8cæ\\x97\\xa0æ\\x8f\\x92ä»¶</dd>\\n<dd>èµ\\x84è´¹ï¼\\x9aå®\\x8cå\\x85¨å\\x85\\x8dè´¹</dd>\\n<dd>æ\\x9b´æ\\x96°æ\\x97¥æ\\x9c\\x9fï¼\\x9a2011-11-01</dd>\\n</dl>\\n<ul class=\"list\">\\n<li><h3>å¦\\x82ä½\\x95ä¸\\x8bè½½å\\x88°æ\\x89\\x8bæ\\x9cºï¼\\x9a</h3></li>\\n<li>æ\\x89\\x8bæ\\x9cºç\\x99»é\\x99\\x86ç½\\x91å\\x9d\\x807723.cnç\\x9b´æ\\x8e¥ä¸\\x8bè½½</li>\\n<li>æ³¨ï¼\\x9aæ\\x89\\x8bæ\\x9cºä¸\\x8aç½\\x91é\\x9c\\x80å¼\\x80é\\x80\\x9aGPRSæ\\x9c\\x8då\\x8a¡ï¼\\x8cè¯¦ç»\\x86èµ\\x84è´¹è¯·å\\x92¨è¯¢è¿\\x90è\\x90¥å\\x95\\x86ã\\x80\\x82</li>\\n</ul>\\n</li>\\n</ul>\\n</div>\\n<div align=\"left\" style=\" clear:both; margin-top:px;\"><script type=\"text/javascript\">BAIDU_CLB_fillSlot(\"802438\");</script></div>\\n<div class=\"frame\" id=\"intro\">\\n<div class=\"title\">\\n<h3>æ¸¸æ\\x88\\x8fç®\\x80ä»\\x8b</h3>\\n</div>\\n<div class=\"container\">\\næ¸¸æ\\x88\\x8få·²XXï¼\\x8cä¸ºå®\\x89å\\x85¨èµ·è§\\x81ï¼\\x8cè¯·ç\\x94¨ç¦»çº¿æ\\x88\\x96åº\\x9få\\x8d¡ç\\x8e©è\\x80\\x8dã\\x80\\x82ä¹\\x90å\\xa0\\x82å\\x8a¨æ¼«å\\x8f²è¯\\x97ARPGã\\x80\\x8aè\\x8b\\x8dç©¹é»\\x98ç¤ºå½\\x95ã\\x80\\x8bå¤\\x96ä¼\\xa0ã\\x80\\x8aè\\x8b\\x8dç©¹é»\\x98ç¤ºå½\\x95ï¼\\x8då\\x90\\x9eå\\x99¬æ\\x97¶ç©ºã\\x80\\x8bæ\\xad£å¼\\x8få\\x8f\\x91å¸\\x83ã\\x80\\x82å\\x8f\\x8cä¸»è§\\x92ï¼\\x8cå\\x8f\\x8cçº¿è·¯è¶\\x85å\\x8e\\x9aé\\x81\\x93æµ\\x81ç¨\\x8bï¼\\x8cå¼\\x95äººå\\x85¥è\\x83\\x9cç\\x9a\\x84è°\\x9cé¢\\x98ç\\xad\\x89ç\\x9d\\x80ä½\\xa0è§£å¼\\x80ã\\x80\\x82å\\x90\\x8cä¼´ç³»ç»\\x9fï¼\\x8cè®©æ\\x82¨äº«å\\x8f\\x97å\\x88ºæ¿\\x80å¤\\x9aäººæ¸¸æ\\x88\\x8fä¹\\x90è¶£ã\\x80\\x82è¿\\x91200ä»¶è£\\x85å¤\\x87ï¼\\x8c100å¼\\xa0å\\x9c°å\\x9b¾ï¼\\x8cæ\\x97\\xa0é\\x99\\x90ç«\\x9eæ\\x8a\\x80å\\x9cºï¼\\x8cè\\x81\\x94ç½\\x91PKï¼\\x8cè®©æ\\x82¨ç\\x8e©å\\x88°ç\\x88½ã\\x80\\x82å\\x90\\x88æ\\x88\\x90ï¼\\x8cå¼ºå\\x8c\\x96ï¼\\x8cæ\\x89\\x93é\\x80\\xa0å±\\x9eäº\\x8eæ\\x82¨è\\x87ªå·±ç\\x9a\\x84å\\x8f²è¯\\x97è£\\x85å¤\\x87ã\\x80\\x82 26\\n</div>\\n</div>\\n<div align=\"left\" style=\" clear:both; margin-top:px;\"><script type=\"text/javascript\">BAIDU_CLB_fillSlot(\"802404\");</script></div>\\n<div class=\"frame\" id=\"show\">\\n<div class=\"title\">\\n<h3>æ¸¸æ\\x88\\x8fæ\\x88ªå\\x9b¾</h3>\\n</div>\\n<ul class=\"container\">\\n<li>\\n<img width=\"172\" height=\"208\" alt=\"è\\x8b\\x8då¼\\x93é»\\x98ç¤ºå½\\x95ï¼\\x8då\\x90\\x9eå\\x99¬æ\\x97¶ç©º\" src=\"http://images.7723.cn/wuza/pico/2011111O800703.jpg\"> &nbsp;\\n<img width=\"172\" height=\"208\" alt=\"è\\x8b\\x8då¼\\x93é»\\x98ç¤ºå½\\x95ï¼\\x8då\\x90\\x9eå\\x99¬æ\\x97¶ç©º\" src=\"http://images.7723.cn/wuza/pico/2011111O8037376.jpg\"> &nbsp;\\n<img width=\"172\" height=\"208\" alt=\"è\\x8b\\x8då¼\\x93é»\\x98ç¤ºå½\\x95ï¼\\x8då\\x90\\x9eå\\x99¬æ\\x97¶ç©º\" src=\"http://images.7723.cn/wuza/pico/2011111O8037478.jpg\"> &nbsp;\\n<img width=\"172\" height=\"208\" alt=\"è\\x8b\\x8då¼\\x93é»\\x98ç¤ºå½\\x95ï¼\\x8då\\x90\\x9eå\\x99¬æ\\x97¶ç©º\" src=\"http://images.7723.cn/wuza/pico/2011111O8037431.jpg\"> &nbsp;\\n<img width=\"172\" height=\"208\" alt=\"è\\x8b\\x8då¼\\x93é»\\x98ç¤ºå½\\x95ï¼\\x8då\\x90\\x9eå\\x99¬æ\\x97¶ç©º\" src=\"http://images.7723.cn/wuza/pico/2011111O8037492.jpg\"> &nbsp;\\n<img width=\"172\" height=\"208\" alt=\"è\\x8b\\x8då¼\\x93é»\\x98ç¤ºå½\\x95ï¼\\x8då\\x90\\x9eå\\x99¬æ\\x97¶ç©º\" src=\"http://images.7723.cn/wuza/pico/2011111O8037477.jpg\"> &nbsp;\\n</li>\\n</ul>\\n</div>\\n<div align=\"left\" style=\" clear:both; margin-top:px;\"><script type=\"text/javascript\">BAIDU_CLB_fillSlot(\"802422\");</script></div>\\n<div class=\"frame\" id=\"gameload\">\\n<div class=\"title\">\\n<h3>æ¸¸æ\\x88\\x8fä¸\\x8bè½½</h3>\\n</div>\\n<ul class=\"container\">\\n<div id=\"subMenu\">\\n<div id=\"search\">\\n<form target=\"_blank\" action=\"http://www.7723.cn/downloads.asp?\" method=\"get\">\\n<p>\\n<label for=\"searchWorks\">å¿«é\\x80\\x9fæ\\x90\\x9cç´¢æ\\x9cºå\\x9e\\x8b:</label>\\n<input type=\"hidden\" name=\"idd\" value=\"5\" />\\n<input type=\"hidden\" name=\"id\" value=\"10420\" />\\n<input type=\"text\" id=\"searchWorks\" name=\"jxgob\" value=\"\">\\n</p>\\n<p>\\n<input type=\"submit\" id=\"search_btn\" value=\"\">\\n</p>\\n</form>\\n</div>\\n</div>\\n<li>\\n<h3><a href=\"http://www.7723.cn/downb.asp?idd=5&id=10420&ksp=1\" target=\"_blank\">ç\\x82¹å\\x87»ä¸\\x8bè½½[jar]&nbsp;883K</a></h3>\\n<p>è¯ºå\\x9fºäº\\x9a N70ç³»å\\x88\\x97(176Ã\\x97208)<br />7610 3230 6600 6260 6620 6630 6670 6680 6681 6682 N70 N72 ;æ\\x9d¾ä¸\\x8b: X700 X800 ;è\\x81\\x94æ\\x83³: P930<br /></p>\\n</li>\\n<li>\\n<h3><a href=\"http://www.7723.cn/downb.asp?idd=5&id=10420&ksp=2\" target=\"_blank\">ç\\x82¹å\\x87»ä¸\\x8bè½½[jar]&nbsp;1,281K</a></h3>\\n<p>è¯ºå\\x9fºäº\\x9a N73ç³»å\\x88\\x97(240Ã\\x97320)<br />N73 5320 5320XM 5320di_XM 5630XM 5700 5700XM 5710XM 5730XM 6110 6110N 6120 6120C 6120ci 6121 6122C 6124C 6210S 6210ci 6220C 6290 6650F 6700S 6702S 6710N 6720C 6730c 6788 6788I 6790 C5 C5-01 E101 E50 E51 E52 E55 E65 E66 E75 X5-00 X5-01 N71 N73ie N75 N76 N76-1 N77 N78 N79 N79 Eco N81 N81 8GB N82 N85 N86 N92 N93 N93I N95 N958G N95 8GB N95-3 NAM N96<br /></p>\\n</li>\\n<li>\\n<h3><a href=\"http://www.7723.cn/downb.asp?idd=5&id=10420&ksp=3\" target=\"_blank\">ç\\x82¹å\\x87»ä¸\\x8bè½½[jar]&nbsp;913K</a></h3>\\n<p>è¯ºå\\x9fºäº\\x9a N7370ç³»å\\x88\\x97(240Ã\\x97320)<br />7370 2700C 2710C 2710N 2730C 3120C 3208C 3600S 3602S 3610A 3610F 3620 3710F 3711 3720C 3806 5000 5000D 5130 5130C 5132 5132XM 5220 5220XM 5300 5310 5310XM 5330XM 5610 5610D 5610XM 5611 5611XM 6126 6131 6131I 6131NF 6133 6202C 6208C 6212 6233 6234 6263 6265 6265I 6267 6268 6270 6275 6275I 6280 6282 6288 6300 6300I 6301 6303C 6303CI 6303CLASSIC 6303I 6316S 6350 6500 6500C 6500S 6555 6600F 6600I 6600S 6600IS 6650T 6700S 6750 7020 7100 7100S 7205 7230 7210S 7212C 7230 7310C 7373 7390 7500 7500P 7510A 7510S 7610S 7612S 7705 7900 7900P 8208 8600 8600L 8800A 8800CA 8800DA 8800E 8800GA 8900 C2-01 C2-06 C3-01 C3-01M C3-03<br /></p>\\n</li>\\n<li>\\n<h3><a href=\"http://www.7723.cn/downb.asp?idd=5&id=10420&ksp=4\" target=\"_blank\">ç\\x82¹å\\x87»ä¸\\x8bè½½[jar]&nbsp;1,314K</a></h3>\\n<p>è¯ºå\\x9fºäº\\x9a N97ç³»å\\x88\\x97(360Ã\\x97640)<br />N97 5228 5230 5230XM 5232 5233 5235 5236 5238 5250 5530 5530XM 5800 5800I 5800XM 5800W 5802XM 5900XM 6788I C5-03 C5-04 C6 C6-00 C6-01 C7 C7-00I E7 E7-00 I8910 SAGA SATIO X6 X6M X7 N8 N8-00 N97I N97MINI NURON ï¼\\x9bç´¢ç\\x88±ï¼\\x9aU1I U5I(VIVAZ) U8I Satio IDOU ï¼\\x9bä¸\\x89æ\\x98\\x9fï¼\\x9aI8910 I8910U M8;000<br /></p>\\n</li>\\n<li>\\n<h3><a href=\"http://www.7723.cn/downb.asp?idd=5&id=10420&ksp=5\" target=\"_blank\">ç\\x82¹å\\x87»ä¸\\x8bè½½[jar]&nbsp;883K</a></h3>\\n<p>è¯ºå\\x9fºäº\\x9a 3250ç³»å\\x88\\x97(176Ã\\x97208)<br />3250 N91 N91 8GB<br /></p>\\n</li>\\n<li>\\n<h3><a href=\"http://www.7723.cn/downb.asp?idd=5&id=10420&ksp=6\" target=\"_blank\">ç\\x82¹å\\x87»ä¸\\x8bè½½[jar]&nbsp;913K</a></h3>\\n<p>æ\\x91©æ\\x89\\x98ç½\\x97æ\\x8b\\x89 A1000ç³»å\\x88\\x97(208Ã\\x97320)<br />A920 A925 A1000 A1010 M1000<br /></p>\\n</li>\\n<li>\\n<h3><a href=\"http://www.7723.cn/downb.asp?idd=5&id=10420&ksp=7\" target=\"_blank\">ç\\x82¹å\\x87»ä¸\\x8bè½½[jar]&nbsp;918K</a></h3>\\n<p>æ\\x91©æ\\x89\\x98ç½\\x97æ\\x8b\\x89 E6ç³»å\\x88\\x97(240Ã\\x97320)<br />E6 E6E A1200 A1200E A1200R A1208 A1600 A1800 ROKRE6<br /></p>\\n</li>\\n<li>\\n<h3><a href=\"http://www.7723.cn/downb.asp?idd=5&id=10420&ksp=8\" target=\"_blank\">ç\\x82¹å\\x87»ä¸\\x8bè½½[jar]&nbsp;1,270K</a></h3>\\n<p>è¯ºå\\x9fºäº\\x9a E62ç³»å\\x88\\x97(320Ã\\x97240)<br /E62 5630xm 7100s C3 E5 E5-00 E5-00M E61 E61I E63 E71 E71X E72 E72I E73 MYTHIC X2-01 X2-03 X5-01<br /></p>\\n</li>\\n<li>\\n<h3><a href=\"http://www.7723.cn/downb.asp?idd=5&id=10420&ksp=9\" target=\"_blank\">ç\\x82¹å\\x87»ä¸\\x8bè½½[jar]&nbsp;918K</a></h3>\\n<p>æ\\x91©æ\\x89\\x98ç½\\x97æ\\x8b\\x89 E680ç³»å\\x88\\x97(240Ã\\x97320)<br />E680 A780 E680i E680g E690<br /></p>\\n</li>\\n<li>\\n<h3><a href=\"http://www.7723.cn/downb.asp?idd=5&id=10420&ksp=10\" target=\"_blank\">ç\\x82¹å\\x87»ä¸\\x8bè½½[jar]&nbsp;1,276K</a></h3>\\n<p>ç´¢ç\\x88± K790ç³»å\\x88\\x97(240Ã\\x97320)<br />K790 C510 C702 C702C G900C C901 C902 C902C C903 C905 C905C G502 G502C G700C G705 K660 K660I K770 K770I K790C K800 K800C K800I K810 K810C K810I K818 K818C K850 K850I K858 K858C K880 T650I T658 T658C T700 T707 T715 W508 W518A W580 W580C W580I W595 W595C W660I W705 W707 W715 W760 W760C W760I W830 W830C W830I W850 w880 W880I W888 W888C W890 W890I W898 W898C W900 W900C W900I W902 W908 W908C W910 W910I W980 W995 M1I J20 JALOU J105I S500 S500C S500I U100I Z750 Z750I Z770 Z770I Z780 Z780I<br /></p>\\n</li>\\n<li>\\n<h3><a href=\"http://www.7723.cn/downb.asp?idd=5&id=10420&ksp=11\" target=\"_blank\">ç\\x82¹å\\x87»ä¸\\x8bè½½[jar]&nbsp;1,281K</a></h3>\\n<p>ä¸\\x89æ\\x98\\x9f I450ç³»å\\x88\\x97(240Ã\\x97320)<br />B5210U G810 G818 G818E I400 I408 I450 I458 I520 I550 I550W I558 I560 I568 I570 I7110 I780 I8510 I8510C I900 INNOV8 L870 L878 L878E SGH-I570<br /></p>\\n</li>\\n<li>\\n<h3><a href=\"http://www.7723.cn/downb.asp?idd=5&id=10420&ksp=12\" target=\"_blank\">ç\\x82¹å\\x87»ä¸\\x8bè½½[jar]&nbsp;913K</a></h3>\\n<p>æ\\x91©æ\\x89\\x98ç½\\x97 V8æ\\x8b\\x89ç³»å\\x88\\x97(240Ã\\x97320)<br />E895 V8 V82GB RAZRV8 RAZRV82GB RAZRV6 RAZRV3xx RIZR-Z8 ROKR Z6 Z10<br /></p>\\n</li>\\n<li>\\n<h3><a href=\"http://www.7723.cn/downb.asp?idd=5&id=10420&ksp=13\" target=\"_blank\">ç\\x82¹å\\x87»ä¸\\x8bè½½[jar]&nbsp;913K</a></h3>\\n<p>è¯ºå\\x9fºäº\\x9a X3ç³»å\\x88\\x97(240Ã\\x97320)<br />X3 6700C X2 X2-01 X2-03 X3-01 X3-02 X3 S40<br /></p>\\n</li>\\n<li>\\n<h3><a href=\"http://www.7723.cn/downb.asp?idd=5&id=10420&ksp=14\" target=\"_blank\">ç\\x82¹å\\x87»ä¸\\x8bè½½[jar]&nbsp;913K</a></h3>\\n<p>å¤§å±\\x8fé\\x80\\x9aç\\x94¨ç\\x89\\x88(240Ã\\x97320)<br />æ\\x94¯æ\\x8c\\x81å\\x88\\x86è¾¨ç\\x8e\\x87ä¸º 240x320 ç\\x9a\\x84å¤§å±\\x8få¹\\x95æ\\x89\\x8bæ\\x9cº<br /></p>\\n</li>\\n<li>\\n<h3><a href=\"http://www.7723.cn/downb.asp?idd=5&id=10420&ksp=15\" target=\"_blank\">ç\\x82¹å\\x87»ä¸\\x8bè½½[jar]&nbsp;918K</a></h3>\\n<p>è§¦æ\\x91¸å±\\x8fé\\x80\\x9aç\\x94¨ç\\x89\\x88(240Ã\\x97320)<br />æ\\x94¯æ\\x8c\\x81å\\x88\\x86è¾¨ç\\x8e\\x87ä¸º 240x320 è§¦æ\\x91¸å±\\x8fç\\x9a\\x84æ\\x89\\x8bæ\\x9cº<br /></p>\\n</li>\\n<li>\\n<h3><a href=\"http://www.7723.cn/downb.asp?idd=5&id=10420&ksp=16\" target=\"_blank\">ç\\x82¹å\\x87»ä¸\\x8bè½½[jar]&nbsp;1,314K</a></h3>\\n<p>è§¦æ\\x91¸å±\\x8fé\\x80\\x9aç\\x94¨ç\\x89\\x88(360Ã\\x97640)<br />æ\\x94¯æ\\x8c\\x81å\\x88\\x86è¾¨ç\\x8e\\x87ä¸º 360x640 è§¦æ\\x91¸å±\\x8fç\\x9a\\x84æ\\x89\\x8bæ\\x9cº<br /></p>\\n</li>\\n</ul>\\n</div>\\n<div class=\"frame androidComment\">\\n<div class=\"title\">\\n<h3>æ\\x89\\x8bæ\\x9cºç\\x94¨æ\\x88·è¯\\x84è®º<span>( è¯·ç\\x94¨æ\\x89\\x8bæ\\x9cºç\\x99»é\\x99\\x86 wap.7723.cn å\\x8f\\x91è¡¨æ¸¸æ\\x88\\x8fè¯\\x84è®ºä¸\\x8eç½\\x91å\\x8f\\x8bå\\x88\\x86äº«æ¸¸æ\\x88\\x8få¿\\x83å¾\\x97ã\\x80\\x82)</span></h3>\\n</div>\\n<ul class=\"commentList\">\\n<li>\\n<h4>[å¡\\x9eç\\x8f\\xadäº¡é\\x81\\x93ï¼\\x81ï¼\\x81ï¼\\x81] è¯\\x84è®ºäº\\x8e<span>2013-04-30 10:32:46</span></h4>\\n<p>æ\\x91\\x87ä¸\\x83å\\x8d\\x83æ¬¡æ\\xa0\\x91å\\x8d³å\\x8f¯è\\x8e·å\\x8f\\x96æ\\x88\\x90å°±</p>\\n</li>\\n<li>\\n<h4>[æµ\\x81æ°\\x93é«\\x98æ\\x89\\x8bã\\x81®å\\x87\\x8cç©ºã\\x80\\x81] è¯\\x84è®ºäº\\x8e<span>2013-03-02 22:56:34</span></h4>\\n<p>æ\\x88\\x91ç\\x8e©å\\x88°å\\x90\\x8eæ\\x9c\\x9fäººå\\x93\\x81ç\\x88\\x86å\\x8f\\x91äº\\x86ï¼\\x8cä¸\\x8dç\\x9f¥æ\\x98¯ä¸\\x8aäº\\x86ä»\\x80ä¹\\x88è£\\x85å¤\\x87è¿\\x98æ\\x98¯ä»\\x80ä¹\\x88ç\\x9a\\x84ï¼\\x8cæ\\x9d\\x80ä¸¤æ\\x80ªæ\\x80\\x92æ°\\x94å°±æ\\x94\\x92æ»¡äº\\x86</p>\\n</li>\\n<li>\\n<h4>[å°\\x8få\\xad©Go] è¯\\x84è®ºäº\\x8e<span>2013-02-04 23:37:04</span></h4>\\n<p>å®¢æ\\x9c\\x8dï¼\\x81å°\\x8få±\\x8få\\x93ªé\\x87\\x8cä¸\\x8bï¼\\x9f</p>\\n</li>\\n<li>\\n<h4>[æ\\x81¶é\\xad\\x94eç\\x94»å¸\\x88] è¯\\x84è®ºäº\\x8e<span>2012-10-04 23:47:39</span></h4>\\n<p>ä¸ªäººè§\\x89å¾\\x97è\\x8b\\x8dç©¹ï¼\\x91ï¼\\x8cæ¯\\x94è¿\\x99å¤\\x96ä¼\\xa0å¥½ç\\x8e©</p>\\n</li>\\n<li>\\n<h4>[ï¼\\x91ï¼\\x92ï¼\\x97ï¼\\x91ï¼\\x95ï¼\\x96ï¼\\x97ï¼\\x90ï¼\\x95ï¼\\x93] è¯\\x84è®ºäº\\x8e<span>2012-10-01 22:38:18</span></h4>\\n<p>å\\x88\\x87ï¼\\x8cç\\x99¾åº¦æ\\x90\\x9câ\\x80\\x9cè\\x8b\\x8dç©¹é»\\x98ç¤ºå½\\x95è´´å\\x90§â\\x80\\x9dï¼\\x8cé\\x82£é\\x87\\x8cæ\\x9c\\x89å¾\\x88å¤\\x9aå\\x85³äº\\x8eè\\x8b\\x8dç©¹ç\\x9a\\x84èµ\\x84æ\\x96\\x99ï¼\\x8cæ\\x88\\x91æ\\x98¯â\\x80\\x9cï¼\\x91ï¼\\x92ï¼\\x97ï¼\\x91ï¼\\x95ï¼\\x96ï¼\\x97ï¼\\x90ï¼\\x95ï¼\\x93â\\x80\\x9dï¼\\x8cç»°å\\x8f·â\\x80\\x9cé\\xad\\x94ç\\x81µå¸\\x9dâ\\x80\\x9d</p>\\n</li>\\n<li>\\n<h4>[æ\\x9d¨å°\\x91] è¯\\x84è®ºäº\\x8e<span>2012-09-18 13:51:30</span></h4>\\n<p>ç\\x8e©å\\x90\\x9eå\\x99¬ç\\x9a\\x84å\\x85\\x84å¼\\x9fä»¬å¸®å¿\\x99é¡¶ä¸\\x80é¡¶æ\\x9a\\x97é»\\x91ï¼\\x92è®©é\\x9b·å\\x93¥å\\x87ºä¸\\x89å\\x95\\x8a</p>\\n</li>\\n</ul>\\n<p class=\"more\"><a target=\"_blank\" title=\"æ\\x9f¥ç\\x9c\\x8bæ\\x9b´å¤\\x9aè¯\\x84è®º\" href=\"/pinglun.asp?idd=5&id=10420\">æ\\x9f¥ç\\x9c\\x8bæ\\x9b´å¤\\x9aè¯\\x84è®º</a></p>\\n</div>\\n<div align=\"left\" style=\" clear:both; margin-top:px;\"></div>\\n</div>\\n<div id=\"sidebar\">\\n<div id=\"clickmain\">\\n<div id=\"sidebar\">\\n<div class=\"frame\" id=\"gameSorts\">\\n<div class=\"title\">\\n<h3>æ¸¸æ\\x88\\x8få\\x88\\x86ç±»</h3>\\n</div>\\n<ul class=\"content\">\\n<li><a target=\"_blank\" href=\"/zuixin/jiaose_1.htm\" title=\"è§\\x92è\\x89²æ\\x89®æ¼\\x94\">è§\\x92è\\x89²æ\\x89®æ¼\\x94</a></li>\\n<li><a target=\"_blank\" href=\"/zuixin/yizhi_1.htm\" title=\"ç\\x9b\\x8aæ\\x99ºæ¸¸æ\\x88\\x8f\">ç\\x9b\\x8aæ\\x99ºæ¸¸æ\\x88\\x8f</a></li>\\n<li><a target=\"_blank\" href=\"/zuixin/dongzuo_1.htm\" title=\"å\\x8a¨ä½\\x9cæ¸¸æ\\x88\\x8f\">å\\x8a¨ä½\\x9cæ¸¸æ\\x88\\x8f</a></li>\\n<li><a target=\"_blank\" href=\"/zuixin/saiche_1.htm\" title=\"èµ\\x9bè½¦æ¸¸æ\\x88\\x8f\">èµ\\x9bè½¦æ¸¸æ\\x88\\x8f</a></li>\\n<li><a target=\"_blank\" href=\"/zuixin/maoxian_1.htm\" title=\"å\\x86\\x92é\\x99©æ¸¸æ\\x88\\x8f\">å\\x86\\x92é\\x99©æ¸¸æ\\x88\\x8f</a></li>\\n<li><a target=\"_blank\" href=\"/zuixin/yangcheng_1.htm\" title=\"å\\x85»æ\\x88\\x90æ¸¸æ\\x88\\x8f\">å\\x85»æ\\x88\\x90æ¸¸æ\\x88\\x8f</a></li>\\n<li><a target=\"_blank\" href=\"/zuixin/tiyu_1.htm\" title=\"ä½\\x93è\\x82²æ¸¸æ\\x88\\x8f\">ä½\\x93è\\x82²æ¸¸æ\\x88\\x8f</a></li>\\n<li><a target=\"_blank\" href=\"/zuixin/gedou_1.htm\" title=\"æ\\xa0¼æ\\x96\\x97æ¸¸æ\\x88\\x8f\">æ\\xa0¼æ\\x96\\x97æ¸¸æ\\x88\\x8f</a></li>\\n<li><a target=\"_blank\" href=\"/zuixin/qipai_1.htm\" title=\"æ£\\x8bç\\x89\\x8cæ¸¸æ\\x88\\x8f\">æ£\\x8bç\\x89\\x8cæ¸¸æ\\x88\\x8f</a></li>\\n<li><a target=\"_blank\" href=\"/zuixin/celue_1.htm\" title=\"ç\\xad\\x96ç\\x95¥æ¸¸æ\\x88\\x8f\">ç\\xad\\x96ç\\x95¥æ¸¸æ\\x88\\x8f</a></li>\\n<li><a target=\"_blank\" href=\"/zuixin/sheji_1.htm\" title=\"å°\\x84å\\x87»æ¸¸æ\\x88\\x8f\">å°\\x84å\\x87»æ¸¸æ\\x88\\x8f</a></li>\\n<li><a target=\"_blank\" href=\"/zuixin/moni_1.htm\" title=\"æ¨¡æ\\x8b\\x9fç»\\x8fè\\x90¥\">æ¨¡æ\\x8b\\x9fç»\\x8fè\\x90¥</a></li>\\n<li><a target=\"_blank\" href=\"/zuixin/feixing_1.htm\" title=\"é£\\x9eè¡\\x8cæ¸¸æ\\x88\\x8f\">é£\\x9eè¡\\x8cæ¸¸æ\\x88\\x8f</a></li>\\n<li><a target=\"_blank\" href=\"/zuixin/wangyou_1.htm\" title=\"æ\\x89\\x8bæ\\x9cºç½\\x91æ¸¸\">æ\\x89\\x8bæ\\x9cºç½\\x91æ¸¸</a></li>\\n</ul>\\n</div>\\n<div class=\"frame\" id=\"gamecollects\">\\n<div class=\"title\">\\n<h3>æ¸¸æ\\x88\\x8få\\x90\\x88é\\x9b\\x86</h3>\\n</div>\\n<ul class=\"content\">\\n<li><a target=\"_blank\" href=\"/sis/sis_1.htm\" title=\"SISæ¸¸æ\\x88\\x8f\">SISæ¸¸æ\\x88\\x8f</a></li>\\n<li><a target=\"_blank\" href=\"/sisx/sisx_1.htm\" title=\"SISXæ¸¸æ\\x88\\x8f\">SISXæ¸¸æ\\x88\\x8f</a></li>\\n<li><a target=\"_blank\" href=\"/3d/3d_1.htm\" title=\"3Dæ¸¸æ\\x88\\x8f\">3Dæ¸¸æ\\x88\\x8f</a></li>\\n<li><a target=\"_blank\" href=\"/lanya/lanya_1.htm\" title=\"è\\x93\\x9dç\\x89\\x99å¯¹æ\\x88\\x98\">è\\x93\\x9dç\\x89\\x99å¯¹æ\\x88\\x98</a></li>\\n</ul>\\n</div>\\n<div class=\"frame\" id=\"gameload\">\\n<div class=\"title\">\\n<h3>ç²¾å½©æ\\x8e¨è\\x8d\\x90</h3>\\n</div>\\n<ul class=\"content\">\\n<li><p class=\"img\"><a target=\"_blank\" href=\"/shanggu/\" title=\"ä¸\\x8aå\\x8f¤2\"><img width=\"70\" height=\"70\" src=\"wuza/pice/2010126O443962.jpg\" alt=\"ä¸\\x8aå\\x8f¤2\"></a></p>\\n<p class=\"name\"><a target=\"_blank\" href=\"/shanggu/\" title=\"ä¸\\x8aå\\x8f¤2\">ä¸\\x8aå\\x8f¤2</a></p></li>\\n<li><p class=\"img\"><a target=\"_blank\" href=\"/diwang/\" title=\"å¸\\x9dç\\x8e\\x8bä¸\\x89å\\x9b½\"><img width=\"70\" height=\"70\" src=\"wuza/pici/20111014O5408068.jpg\" alt=\"å¸\\x9dç\\x8e\\x8bä¸\\x89å\\x9b½\"></a></p>\\n<p class=\"name\"><a target=\"_blank\" href=\"/diwang/\" title=\"å¸\\x9dç\\x8e\\x8bä¸\\x89å\\x9b½\">å¸\\x9dç\\x8e\\x8bä¸\\x89å\\x9b½</a></p></li>\\n<li><p class=\"img\"><a target=\"_blank\" href=\"/download/9874.htm\" title=\"å\\x8f£è¢\\x8bç²¾ç\\x81µ-è\\x8b±é\\x9b\\x84å¤§é\\x99\\x86\"><img width=\"70\" height=\"70\" src=\"wuza/pich/2011819O4396480.jpg\" alt=\"å\\x8f£è¢\\x8bç²¾ç\\x81µ-è\\x8b±é\\x9b\\x84å¤§é\\x99\\x86\"></a></p>\\n<p class=\"name\"><a target=\"_blank\" href=\"/download/9874.htm\" title=\"å\\x8f£è¢\\x8bç²¾ç\\x81µ-è\\x8b±é\\x9b\\x84å¤§é\\x99\\x86\">å\\x8f£è¢\\x8bç²¾ç\\x81µ</a></p></li>\\n<li><p class=\"img\"><a target=\"_blank\" href=\"http://shijie.7723.cn/\" title=\"ä¸\\x96ç\\x95\\x8c\"><img width=\"70\" height=\"70\" src=\"wuza/pici/2011926O6150187.jpg\" alt=\"ä¸\\x96ç\\x95\\x8c\"></a></p>\\n<p class=\"name\"><a target=\"_blank\" href=\"http://shijie.7723.cn/\" title=\"ä¸\\x96ç\\x95\\x8c\">ä¸\\x96ç\\x95\\x8c</a></p></li>\\n<li><p class=\"img\"><a target=\"_blank\" href=\"http://wangxian.7723.cn/\" title=\"å¿\\x98ä»\\x99\"><img width=\"70\" height=\"70\" src=\"wadyx/pic1/2012926O5561517.png\" alt=\"å¿\\x98ä»\\x99\"></a></p>\\n<p class=\"name\"><a target=\"_blank\" href=\"http://wangxian.7723.cn/\" title=\"å¿\\x98ä»\\x99\">å¿\\x98ä»\\x99</a></p></li>\\n<li><p class=\"img\"><a target=\"_blank\" href=\"/download/9260.htm\" title=\"é\\x86\\x89æ±\\x9fæ¹\\x96OL-å®\\x9då\\x88\\x80å±\\xa0é¾\\x99\"><img width=\"70\" height=\"70\" src=\"wuza/picg/201168O6335485.jpg\" alt=\"é\\x86\\x89æ±\\x9fæ¹\\x96OL-å®\\x9då\\x88\\x80å±\\xa0é¾\\x99\"></a></p>\\n<p class=\"name\"><a target=\"_blank\" href=\"/download/9260.htm\" title=\"é\\x86\\x89æ±\\x9fæ¹\\x96OL-å®\\x9då\\x88\\x80å±\\xa0é¾\\x99\">é\\x86\\x89æ±\\x9fæ¹\\x96</a></p></li>\\n</ul>\\n</div>\\n<div class=\"frame\" id=\"gameTOP\">\\n<div class=\"title\">\\n<h3>æ\\x9c\\x80ç\\x83\\xadä¸\\x8bè½½TOP10</h3>\\n</div>\\n<div class=\"content\">\\n<table>\\n<tbody class=\"topThree\">\\n<tr>\\n<th>&nbsp;</th>\\n<td><a target=\"_blank\" href=\"/download/9435.htm\" title=\"æ¤\\x8dç\\x89©å¤§æ\\x88\\x98å\\x83µå°¸(æ\\x96°è§\\x92è\\x89²å\\x8a\\xa0å¼ºç\\x89\\x88)\">æ¤\\x8dç\\x89©å¤§æ\\x88\\x98å\\x83µå°¸</a></td>\\n</tr>\\n<tr>\\n<th>2</th>\\n<td><a target=\"_blank\" href=\"/game/2796.htm\" title=\"ç¥\\x9eåº\\x99é\\x80\\x83äº¡2\">ç¥\\x9eåº\\x99é\\x80\\x83äº¡2</a></td>\\n</tr>\\n<tr>\\n<th>3</th>\\n<td><a target=\"_blank\" href=\"/download/9641.htm\" title=\"æ°´æ\\x9e\\x9cå¿\\x8dè\\x80\\x85v1.7.2\">æ°´æ\\x9e\\x9cå¿\\x8dè\\x80\\x85v1.7.2</a></td>\\n</tr>\\n</tbody>\\n<tbody>\\n<tr>\\n<th>4</th>\\n<td><a target=\"_blank\" href=\"/kdjl/\" title=\"å\\x8f£è¢\\x8bç²¾ç\\x81µ\">å\\x8f£è¢\\x8bç²¾ç\\x81µ</a></td>\\n</tr>\\n<tr>\\n<th>5</th>\\n<td><a target=\"_blank\" href=\"/download/7132.htm\" title=\"æ\\x80¥é\\x80\\x9fç\\x8b\\x82é£\\x99å®\\x8cç¾\\x8eç\\xa0´è§£ç\\x89\\x88\">æ\\x80¥é\\x80\\x9fç\\x8b\\x82é£\\x99å®\\x8cç¾\\x8eç\\xa0´è§£ç\\x89\\x88</a></td>\\n</tr>\\n<tr>\\n<th>6</th>\\n<td><a target=\"_blank\" href=\"/download/9789.htm\" title=\"æ\\x8d\\x95é±¼è¾¾äºº-å¤\\x8få¨\\x81å¤·æµ·åº\\x95ç\\x89\\x88\">æ\\x8d\\x95é±¼è¾¾äºº-å¤\\x8få¨\\x81å¤·æµ·åº\\x95ç\\x89\\x88</a></td>\\n</tr>\\n<tr>\\n<th>7</th>\\n<td><a target=\"_blank\" href=\"http://sklr.7723.cn/\" title=\"æ\\x97¶ç©ºç\\x8c\\x8eäºº\">æ\\x97¶ç©ºç\\x8c\\x8eäºº</a></td>\\n</tr>\\n<tr>\\n<th>8</th>\\n<td><a target=\"_blank\" href=\"http://wzzj.7723.cn/\" title=\"ç\\x8e\\x8bè\\x80\\x85ä¹\\x8bå\\x89\\x91\">ç\\x8e\\x8bè\\x80\\x85ä¹\\x8bå\\x89\\x91</a></td>\\n</tr>\\n<tr>\\n<th>9</th>\\n<td><a target=\"_blank\" href=\"http://bwzq.7723.cn/\" title=\"æ¯\\x94æ\\xad¦æ\\x8b\\x9bäº²\">æ¯\\x94æ\\xad¦æ\\x8b\\x9bäº²</a></td>\\n</tr>\\n<tr>\\n<th>10</th>\\n<td><a target=\"_blank\" href=\"/download/11661.htm\" title=\"é\\xad\\x94ä¸\\x8eé\\x81\\x93-ä»\\x99å¢\\x83ä¹\\x8bæ\\x88\\x98\">é\\xad\\x94ä¸\\x8eé\\x81\\x93-ä»\\x99å¢\\x83ä¹\\x8bæ\\x88\\x98</a></td>\\n</tr>\\n</tbody>\\n</table>\\n</div>\\n</div>\\n<div class=\"frame\" id=\"help\">\\n<div class=\"title\">\\n<h3>ç\\x8e©å®¶æ\\x9c\\x80ç\\x88±æ¸¸æ\\x88\\x8f</h3>\\n</div>\\n<ul class=\"content\">\\n<li><a target=\"_blank\" href=\"/download/9199.htm\" title=\"æ¢¦å\\x9b\\x9eè¥¿æ¸¸-éª\\x91ä¹\\x90æ\\x97\\xa0ç©·\">æ¢¦å\\x9b\\x9eè¥¿æ¸¸-éª\\x91ä¹\\x90æ\\x97\\xa0ç©·</a></li>\\n<li><a target=\"_blank\" href=\"http://zhanhun.7723.cn/\" title=\"è\\x8b±é\\x9b\\x84æ\\x88\\x98é\\xad\\x82\">è\\x8b±é\\x9b\\x84æ\\x88\\x98é\\xad\\x82</a></li>\\n<li><a target=\"_blank\" href=\"/download/11331.htm\" title=\"è\\x8b±é\\x9b\\x84å\\x9b½åº¦\">è\\x8b±é\\x9b\\x84å\\x9b½åº¦</a></li>\\n<li><a target=\"_blank\" href=\"/download/6793.htm\" title=\"æ\\xad¦æ\\x9e\\x97OLÂ·ç»\\x9dä»£å\\x8f\\x8céª\\x84\">æ\\xad¦æ\\x9e\\x97OLÂ·ç»\\x9dä»£å\\x8f\\x8céª\\x84</a></li>\\n<li><a target=\"_blank\" href=\"/download/11076.htm\" title=\"æµ©å¤©å¥\\x87ç¼\\x98-æ\\x88\\x98ç¥\\x9eå½\\x92æ\\x9d¥\">æµ©å¤©å¥\\x87ç¼\\x98-æ\\x88\\x98ç¥\\x9eå½\\x92æ\\x9d¥</a></li>\\n<li><a target=\"_blank\" href=\"/download/10871.htm\" title=\"æ¢¦å¹»å®\\x9dè´\\x9d-å\\x8b\\x87è\\x80\\x85ä¹\\x8bç«\\xa0\">æ¢¦å¹»å®\\x9dè´\\x9d-å\\x8b\\x87è\\x80\\x85ä¹\\x8bç«\\xa0</a></li>\\n<li><a target=\"_blank\" href=\"/download/10090.htm\" title=\"æ\\x98\\x8eç\\x8f\\xa0è½©è¾\\x95\">æ\\x98\\x8eç\\x8f\\xa0è½©è¾\\x95</a></li>\\n<li><a target=\"_blank\" href=\"/download/10526.htm\" title=\"æµ·è´¼ç\\x8e\\x8b-ç§\\x98å®\\x9dä¼\\xa0è¯´\">æµ·è´¼ç\\x8e\\x8b-ç§\\x98å®\\x9dä¼\\xa0è¯´</a></li>\\n<li><a target=\"_blank\" href=\"/download/9785.htm\" title=\"ä¾\\xa0ä¹\\x89OL-å\\x85«é¾\\x99è\\x81\\x9aé¦\\x96\">ä¾\\xa0ä¹\\x89OL-å\\x85«é¾\\x99è\\x81\\x9aé¦\\x96</a></li>\\n<li><a target=\"_blank\" href=\"/download/9800.htm\" title=\"å¤§å®\\x8bè±ªä¾\\xa02ä¹\\x8bæ\\xad¦é\\xad\\x82é\\x86\\x92è§\\x89\">å¤§å®\\x8bè±ªä¾\\xa02ä¹\\x8bæ\\xad¦é\\xad\\x82é\\x86\\x92è§\\x89</a></li>\\n</ul>\\n</div>\\n</div>\\n</div>\\n</div>\\n<div class=\"clear\"></div>\\n<div id=\"footer\">\\n<div id=\"jump\">\\n<span><a href=\"#top\" title=\"è·³å\\x88°é¡¶é\\x83¨\"></a></span>\\n</div>\\n<ul id=\"footerbar\">\\n<li><a href=\"http://www.7723.cn/zonghe/gy.htm\" title=\"å\\x85³äº\\x8eæ\\x88\\x91ä»¬\">å\\x85³äº\\x8eæ\\x88\\x91ä»¬</a></li>\\n<li><a href=\"http://www.7723.cn/zonghe/lcwm.htm\" title=\"è\\x81\\x94ç³»æ\\x88\\x91ä»¬\">è\\x81\\x94ç³»æ\\x88\\x91ä»¬</a></li>\\n<li><a href=\"http://www.7723.cn/zonghe/yclj.htm\" title=\"å\\x8f\\x8bæ\\x83\\x85é\\x93¾æ\\x8e¥\">å\\x8f\\x8bæ\\x83\\x85é\\x93¾æ\\x8e¥</a></li>\\n<li><a href=\"http://www.7723.cn/zonghe/bqsm.htm\" title=\"ç\\x89\\x88æ\\x9d\\x83å£°æ\\x98\\x8e\">ç\\x89\\x88æ\\x9d\\x83å£°æ\\x98\\x8e</a></li>\\n<li style=\"background:none;\"><a href=\"http://www.7723.cn/zonghe/bz.htm\" title=\"å¸®å\\x8a©ä¸\\xadå¿\\x83\">å¸®å\\x8a©ä¸\\xadå¿\\x83</a></li>\\n</ul>\\n<div id=\"copyright\">\\n<p>å\\x85³æ³¨æ\\x89\\x8bæ\\x9cºæ¸¸æ\\x88\\x8fï¼\\x8cæ\\x95¬è¯·å\\x85³æ³¨www.7723.cnï¼\\x8cè¯·å\\x90\\x91æ\\x82¨ç\\x9a\\x845ä¸ªQQå¥½å\\x8f\\x8bæ\\x8e¨è\\x8d\\x90http://www.7723.cn/ï¼\\x8cå¤\\x9aè°¢æ\\x94¯æ\\x8c\\x81ï¼\\x81</p>\\n<p>Copyright (C) 2010 7723æ\\x89\\x8bæ\\x9cºæ¸¸æ\\x88\\x8f All Rights Reserved </p>\\n<p><a href=\"http://www.miitbeian.gov.cn/\" title=\"è\\x8b\\x8fICPå¤\\x8713017671å\\x8f·-1\">è\\x8b\\x8fICPå¤\\x8713017671å\\x8f·-1</a></p>\\n<div align=\"left\" style=\" clear:both; margin-top:px;\"><script type=\"text/javascript\">BAIDU_CLB_fillSlot(\"802396\");</script><script type=\"text/javascript\">\\r\\nvar _bdhmProtocol = ((\"https:\" == document.location.protocol) ? \" https://\" : \" http://\");\\r\\ndocument.write(unescape(\"%3Cscript src=\\'\" + _bdhmProtocol + \"hm.baidu.com/h.js%3Fc040557a8f4f8d0710c9a409084a1f1b\\' type=\\'text/javascript\\'%3E%3C/script%3E\"));\\r\\n</script></div>\\n</div>\\n</div>\\n<div id=\"tbox\" class=\"iz_tboxw1\"><a id=\"gotop\" href=\"javascript:void(0)\" style=\"display: inline;\"></a><a href=\"javascript:void(0)\" id=\"izp_ewm\"></a><div class=\"izpewm_h izp_yc\"><span>å\\x85³é\\x97\\xad</span><img src=\"http://www.7723.cn/static/images/zp_wxgzh.jpg\" width=\"107\" height=\"107\" /></div></div>\\n<script language=\"javascript\" src=\"http://www.7723.cn/static/common/jquery.zptip.js\"></script>\\n</div>\\n</div>\\n<div align=\"left\" style=\" clear:both; margin-top:px;\"></div>'"
      ]
     },
     "execution_count": 5,
     "metadata": {},
     "output_type": "execute_result"
    }
   ],
   "source": [
    "res.text"
   ]
  },
  {
   "cell_type": "code",
   "execution_count": 9,
   "metadata": {},
   "outputs": [],
   "source": [
    "class Encoding:\n",
    "    UTF8 = 'utf-8'\n",
    "    UTF8_WITH_BOM = 'utf-8-sig'\n",
    "    UTF16 = 'utf-16'\n",
    "    GB2312 = 'gb2312' # chinese encoding\n",
    "\n",
    "    @classmethod\n",
    "    def decode(cls, bs: bytes):\n",
    "        try:\n",
    "            return cls.UTF8_WITH_BOM, bs.decode(cls.UTF8_WITH_BOM)\n",
    "        except Exception as ex:\n",
    "            # traceback.print_exc()\n",
    "            pass\n",
    "\n",
    "        try:\n",
    "            return cls.UTF8, bs.decode(cls.UTF8)\n",
    "        except Exception as ex:\n",
    "            # traceback.print_exc()\n",
    "            pass\n",
    "\n",
    "        try:\n",
    "            return cls.UTF16, bs.decode(cls.UTF16)\n",
    "        except Exception as ex:\n",
    "            # traceback.print_exc()\n",
    "            pass\n",
    "\n",
    "        try:\n",
    "            return cls.GB2312, bs.decode(cls.GB2312)\n",
    "        except Exception as ex:\n",
    "            # traceback.print_exc()\n",
    "            pass\n",
    "\n",
    "        return None, bs"
   ]
  },
  {
   "cell_type": "code",
   "execution_count": 11,
   "metadata": {},
   "outputs": [
    {
     "data": {
      "text/plain": [
       "urllib3.response.HTTPResponse"
      ]
     },
     "execution_count": 11,
     "metadata": {},
     "output_type": "execute_result"
    }
   ],
   "source": [
    "type(res.raw)"
   ]
  },
  {
   "cell_type": "code",
   "execution_count": 14,
   "metadata": {},
   "outputs": [
    {
     "data": {
      "text/plain": [
       "bytes"
      ]
     },
     "execution_count": 14,
     "metadata": {},
     "output_type": "execute_result"
    }
   ],
   "source": [
    "type(res.content)"
   ]
  },
  {
   "cell_type": "code",
   "execution_count": 15,
   "metadata": {},
   "outputs": [
    {
     "data": {
      "text/plain": [
       "22255"
      ]
     },
     "execution_count": 15,
     "metadata": {},
     "output_type": "execute_result"
    }
   ],
   "source": [
    "len(res.content)"
   ]
  },
  {
   "cell_type": "code",
   "execution_count": 17,
   "metadata": {
    "scrolled": true
   },
   "outputs": [
    {
     "data": {
      "text/plain": [
       "'<!DOCTYPE html PUBLIC \"-//W3C//DTD XHTML 1.0 Transitional//EN\" \"http://www.w3.org/TR/xhtml1/DTD/xhtml1-transitional.dtd\">\\n<html xmlns=\"http://www.w3.org/1999/xhtml\">\\n<head>\\n<meta http-equiv=\"Content-Type\" content=\"text/html; charset=utf-8\" />\\n<title>苍弓默示录－吞噬时空_JAVA游戏免费版下载_7723手机游戏[www.7723.cn]</title>\\n<meta content=\"苍弓默示录－吞噬时空\" name=\"keywords\">\\n<meta content=\"\" name=\"description\">\\n<link type=\"text/css\" rel=\"stylesheet\" href=\"/static/css/androidb.css\">\\n<script type=\"text/javascript\" src=\"http://www.7723.cn/static/common/jquery.min.js\"></script>\\n<script type=\"text/javascript\" src=\"http://cbjs.baidu.com/js/m.js\"></script>\\n<link type=\"image/x-icon\" rel=\"shortcut icon\" href=\"http://www.7723.cn/favicon.ico\">\\n</head>\\n<body id=\"downmain\" class=\"\">\\n<div id=\"contanier\">\\n<div id=\"top\">\\n<div class=\"main\">\\n<p>\\n7723手机游戏下载中心&nbsp;\\n<a target=\"_blank\" href=\"http://www.7723.cn/jx/sheding.htm\" title=\"设定机型快速下载游戏\">设定机型快速下载游戏通道</a>\\n&nbsp;\\n把7723分享给更多的朋友：\\n</p>\\n<div id=\"bdshare\" class=\"bdshare_t bds_tools get-codes-bdshare\">\\n<a class=\"bds_qzone\"></a>\\n<a class=\"bds_tsina\"></a>\\n<a class=\"bds_tqq\"></a>\\n<a class=\"bds_renren\"></a>\\n<a class=\"bds_t163\"></a>\\n<a class=\"shareCount\"></a>\\n</div>\\n<script type=\"text/javascript\" id=\"bdshare_js\" data=\"type=tools&amp;uid=0\"></script>\\n<script type=\"text/javascript\" id=\"bdshell_js\"></script>\\n<script type=\"text/javascript\">\\r\\n            document.getElementById(\"bdshell_js\").src = \"http://bdimg.share.baidu.com/static/js/shell_v2.js?cdnversion=\" + Math.ceil(new Date()/3600000)\\r\\n            </script>\\n<ul>\\n<li class=\"img1\">\\n<a onclick=\"this.style.behavior=\\'url(#default#homepage)\\';this.setHomePage(\\'http://www.7723.cn/\\');clickCount(\\'homepage\\');return(false);\" style=\"BEHAVIOR:url(#default#homepage)\" href=\"javascript:void(0)\" title=\"设7723手机游戏为首页\">设为首页</a>\\n</li>\\n</ul>\\n</div>\\n</div>\\n<div id=\"header\">\\n<div class=\"main\">\\n<div class=\"logo\">\\n<a href=\"http://www.7723.cn/\" title=\"7723手机游戏\">\\n<img width=\"146\" align=\"middle\" height=\"74\" alt=\"7723手机游戏\" src=\"http://www.7723.cn/static/images/logo.gif\">\\n</a>\\n</div>\\n<div id=\"nav\">\\n<ul id=\"primaryNav\">\\n<li id=\"index\"><a href=\"http://www.7723.cn/\" title=\"7723手机游戏\">首页</a></li>\\n<li id=\"click\"><a href=\"http://www.7723.cn/android\" title=\"安卓(Android)手机游戏\">安卓</a></li>\\n<li id=\"click\" class=\"current\"><a href=\"http://www.7723.cn/symbian_java\" title=\"塞班.Java手机游戏\">塞班</a></li>\\n<li id=\"webgame\"><a href=\"http://www.7723.cn/sjwy\" title=\"手机网游\">网游</a></li>\\n<li id=\"news\"><a href=\"http://www.7723.cn/paihang\" title=\"手机游戏资讯\">排行榜</a></li>\\n</ul>\\n<div id=\"subMenu\">\\n<div id=\"search\">\\n<form target=\"_blank\" action=\"http://www.7723.cn/newsearch/syban.shtml\" method=\"post\">\\n<p>\\n<label for=\"searchWorks\">游戏搜索:</label>\\n<input type=\"text\" id=\"searchWorks\" value=\"\" name=\"keyword\">\\n</p>\\n<p>\\n<input type=\"submit\" id=\"search_btn\" value=\"\">\\n</p>\\n</form>\\n</div>\\n<div id=\"hotKeywords\">\\n<h4>热门关键字:</h4>\\n<ul>\\n<li><a title=\"斗地主\" href=\"http://www.7723.cn/adyx/p_list.asp?title=斗地主\" target=\"_blank\">斗地主</a></li>\\n<li><a title=\"魔兽\" href=\"http://www.7723.cn/adyx/p_list.asp?title=魔兽\" target=\"_blank\">魔兽</a></li>\\n<li><a title=\"连连看\" href=\"http://www.7723.cn/adyx/p_list.asp?title=连连看\" target=\"_blank\">连连看</a></li>\\n<li><a title=\"三国\" href=\"http://www.7723.cn/adyx/p_list.asp?title=三国\" target=\"_blank\">三国</a></li>\\n<li><a title=\"魂斗罗\" href=\"http://www.7723.cn/adyx/p_list.asp?title=魂斗罗\" target=\"_blank\">魂斗罗</a></li>\\n</ul>\\n</div>\\n</div>\\n</div>\\n</div>\\n</div>\\n<div class=\"main\">\\n<p class=\"nowSite\"><a href=\"http://www.7723.cn/\" title=\"7723手机游戏\">首页</a> &gt;&gt; <a href=\"http://www.7723.cn/symbian_java\" title=\"单机游戏\">单机游戏</a> &gt;&gt; 苍弓默示录－吞噬时空</p>\\n<div align=\"left\" style=\" clear:both; margin-top:px;\"><script type=\"text/javascript\">BAIDU_CLB_fillSlot(\"802401\");</script></div>\\n<div id=\"baidu_clb_slot_744445\"></div>\\n<div id=\"content\">\\n<div class=\"frame\" id=\"new\">\\n<div class=\"title\">\\n<h3>苍弓默示录－吞噬时空</h3> <span style=\"margin-right:2px;float:right;margin-top:5px;\">  7723网游群：172111691 </span>\\n</div>\\n<ul class=\"container\">\\n<li>\\n<dl>\\n<dt class=\"img\"><img width=\"120\" height=\"80\" src=\"http://image.7723.cn/wuza/pico/2011111O8007024.jpg\" alt=\"苍弓默示录－吞噬时空\"></dt>\\n<dd>类型：动作游戏</dd>\\n<dd>语言：中文</dd>\\n<dd>安全：无病毒，无插件</dd>\\n<dd>资费：完全免费</dd>\\n<dd>更新日期：2011-11-01</dd>\\n</dl>\\n<ul class=\"list\">\\n<li><h3>如何下载到手机：</h3></li>\\n<li>手机登陆网址7723.cn直接下载</li>\\n<li>注：手机上网需开通GPRS服务，详细资费请咨询运营商。</li>\\n</ul>\\n</li>\\n</ul>\\n</div>\\n<div align=\"left\" style=\" clear:both; margin-top:px;\"><script type=\"text/javascript\">BAIDU_CLB_fillSlot(\"802438\");</script></div>\\n<div class=\"frame\" id=\"intro\">\\n<div class=\"title\">\\n<h3>游戏简介</h3>\\n</div>\\n<div class=\"container\">\\n游戏已XX，为安全起见，请用离线或废卡玩耍。乐堂动漫史诗ARPG《苍穹默示录》外传《苍穹默示录－吞噬时空》正式发布。双主角，双线路超厚道流程，引人入胜的谜题等着你解开。同伴系统，让您享受刺激多人游戏乐趣。近200件装备，100张地图，无限竞技场，联网PK，让您玩到爽。合成，强化，打造属于您自己的史诗装备。 26\\n</div>\\n</div>\\n<div align=\"left\" style=\" clear:both; margin-top:px;\"><script type=\"text/javascript\">BAIDU_CLB_fillSlot(\"802404\");</script></div>\\n<div class=\"frame\" id=\"show\">\\n<div class=\"title\">\\n<h3>游戏截图</h3>\\n</div>\\n<ul class=\"container\">\\n<li>\\n<img width=\"172\" height=\"208\" alt=\"苍弓默示录－吞噬时空\" src=\"http://images.7723.cn/wuza/pico/2011111O800703.jpg\"> &nbsp;\\n<img width=\"172\" height=\"208\" alt=\"苍弓默示录－吞噬时空\" src=\"http://images.7723.cn/wuza/pico/2011111O8037376.jpg\"> &nbsp;\\n<img width=\"172\" height=\"208\" alt=\"苍弓默示录－吞噬时空\" src=\"http://images.7723.cn/wuza/pico/2011111O8037478.jpg\"> &nbsp;\\n<img width=\"172\" height=\"208\" alt=\"苍弓默示录－吞噬时空\" src=\"http://images.7723.cn/wuza/pico/2011111O8037431.jpg\"> &nbsp;\\n<img width=\"172\" height=\"208\" alt=\"苍弓默示录－吞噬时空\" src=\"http://images.7723.cn/wuza/pico/2011111O8037492.jpg\"> &nbsp;\\n<img width=\"172\" height=\"208\" alt=\"苍弓默示录－吞噬时空\" src=\"http://images.7723.cn/wuza/pico/2011111O8037477.jpg\"> &nbsp;\\n</li>\\n</ul>\\n</div>\\n<div align=\"left\" style=\" clear:both; margin-top:px;\"><script type=\"text/javascript\">BAIDU_CLB_fillSlot(\"802422\");</script></div>\\n<div class=\"frame\" id=\"gameload\">\\n<div class=\"title\">\\n<h3>游戏下载</h3>\\n</div>\\n<ul class=\"container\">\\n<div id=\"subMenu\">\\n<div id=\"search\">\\n<form target=\"_blank\" action=\"http://www.7723.cn/downloads.asp?\" method=\"get\">\\n<p>\\n<label for=\"searchWorks\">快速搜索机型:</label>\\n<input type=\"hidden\" name=\"idd\" value=\"5\" />\\n<input type=\"hidden\" name=\"id\" value=\"10420\" />\\n<input type=\"text\" id=\"searchWorks\" name=\"jxgob\" value=\"\">\\n</p>\\n<p>\\n<input type=\"submit\" id=\"search_btn\" value=\"\">\\n</p>\\n</form>\\n</div>\\n</div>\\n<li>\\n<h3><a href=\"http://www.7723.cn/downb.asp?idd=5&id=10420&ksp=1\" target=\"_blank\">点击下载[jar]&nbsp;883K</a></h3>\\n<p>诺基亚 N70系列(176×208)<br />7610 3230 6600 6260 6620 6630 6670 6680 6681 6682 N70 N72 ;松下: X700 X800 ;联想: P930<br /></p>\\n</li>\\n<li>\\n<h3><a href=\"http://www.7723.cn/downb.asp?idd=5&id=10420&ksp=2\" target=\"_blank\">点击下载[jar]&nbsp;1,281K</a></h3>\\n<p>诺基亚 N73系列(240×320)<br />N73 5320 5320XM 5320di_XM 5630XM 5700 5700XM 5710XM 5730XM 6110 6110N 6120 6120C 6120ci 6121 6122C 6124C 6210S 6210ci 6220C 6290 6650F 6700S 6702S 6710N 6720C 6730c 6788 6788I 6790 C5 C5-01 E101 E50 E51 E52 E55 E65 E66 E75 X5-00 X5-01 N71 N73ie N75 N76 N76-1 N77 N78 N79 N79 Eco N81 N81 8GB N82 N85 N86 N92 N93 N93I N95 N958G N95 8GB N95-3 NAM N96<br /></p>\\n</li>\\n<li>\\n<h3><a href=\"http://www.7723.cn/downb.asp?idd=5&id=10420&ksp=3\" target=\"_blank\">点击下载[jar]&nbsp;913K</a></h3>\\n<p>诺基亚 N7370系列(240×320)<br />7370 2700C 2710C 2710N 2730C 3120C 3208C 3600S 3602S 3610A 3610F 3620 3710F 3711 3720C 3806 5000 5000D 5130 5130C 5132 5132XM 5220 5220XM 5300 5310 5310XM 5330XM 5610 5610D 5610XM 5611 5611XM 6126 6131 6131I 6131NF 6133 6202C 6208C 6212 6233 6234 6263 6265 6265I 6267 6268 6270 6275 6275I 6280 6282 6288 6300 6300I 6301 6303C 6303CI 6303CLASSIC 6303I 6316S 6350 6500 6500C 6500S 6555 6600F 6600I 6600S 6600IS 6650T 6700S 6750 7020 7100 7100S 7205 7230 7210S 7212C 7230 7310C 7373 7390 7500 7500P 7510A 7510S 7610S 7612S 7705 7900 7900P 8208 8600 8600L 8800A 8800CA 8800DA 8800E 8800GA 8900 C2-01 C2-06 C3-01 C3-01M C3-03<br /></p>\\n</li>\\n<li>\\n<h3><a href=\"http://www.7723.cn/downb.asp?idd=5&id=10420&ksp=4\" target=\"_blank\">点击下载[jar]&nbsp;1,314K</a></h3>\\n<p>诺基亚 N97系列(360×640)<br />N97 5228 5230 5230XM 5232 5233 5235 5236 5238 5250 5530 5530XM 5800 5800I 5800XM 5800W 5802XM 5900XM 6788I C5-03 C5-04 C6 C6-00 C6-01 C7 C7-00I E7 E7-00 I8910 SAGA SATIO X6 X6M X7 N8 N8-00 N97I N97MINI NURON ；索爱：U1I U5I(VIVAZ) U8I Satio IDOU ；三星：I8910 I8910U M8;000<br /></p>\\n</li>\\n<li>\\n<h3><a href=\"http://www.7723.cn/downb.asp?idd=5&id=10420&ksp=5\" target=\"_blank\">点击下载[jar]&nbsp;883K</a></h3>\\n<p>诺基亚 3250系列(176×208)<br />3250 N91 N91 8GB<br /></p>\\n</li>\\n<li>\\n<h3><a href=\"http://www.7723.cn/downb.asp?idd=5&id=10420&ksp=6\" target=\"_blank\">点击下载[jar]&nbsp;913K</a></h3>\\n<p>摩托罗拉 A1000系列(208×320)<br />A920 A925 A1000 A1010 M1000<br /></p>\\n</li>\\n<li>\\n<h3><a href=\"http://www.7723.cn/downb.asp?idd=5&id=10420&ksp=7\" target=\"_blank\">点击下载[jar]&nbsp;918K</a></h3>\\n<p>摩托罗拉 E6系列(240×320)<br />E6 E6E A1200 A1200E A1200R A1208 A1600 A1800 ROKRE6<br /></p>\\n</li>\\n<li>\\n<h3><a href=\"http://www.7723.cn/downb.asp?idd=5&id=10420&ksp=8\" target=\"_blank\">点击下载[jar]&nbsp;1,270K</a></h3>\\n<p>诺基亚 E62系列(320×240)<br /E62 5630xm 7100s C3 E5 E5-00 E5-00M E61 E61I E63 E71 E71X E72 E72I E73 MYTHIC X2-01 X2-03 X5-01<br /></p>\\n</li>\\n<li>\\n<h3><a href=\"http://www.7723.cn/downb.asp?idd=5&id=10420&ksp=9\" target=\"_blank\">点击下载[jar]&nbsp;918K</a></h3>\\n<p>摩托罗拉 E680系列(240×320)<br />E680 A780 E680i E680g E690<br /></p>\\n</li>\\n<li>\\n<h3><a href=\"http://www.7723.cn/downb.asp?idd=5&id=10420&ksp=10\" target=\"_blank\">点击下载[jar]&nbsp;1,276K</a></h3>\\n<p>索爱 K790系列(240×320)<br />K790 C510 C702 C702C G900C C901 C902 C902C C903 C905 C905C G502 G502C G700C G705 K660 K660I K770 K770I K790C K800 K800C K800I K810 K810C K810I K818 K818C K850 K850I K858 K858C K880 T650I T658 T658C T700 T707 T715 W508 W518A W580 W580C W580I W595 W595C W660I W705 W707 W715 W760 W760C W760I W830 W830C W830I W850 w880 W880I W888 W888C W890 W890I W898 W898C W900 W900C W900I W902 W908 W908C W910 W910I W980 W995 M1I J20 JALOU J105I S500 S500C S500I U100I Z750 Z750I Z770 Z770I Z780 Z780I<br /></p>\\n</li>\\n<li>\\n<h3><a href=\"http://www.7723.cn/downb.asp?idd=5&id=10420&ksp=11\" target=\"_blank\">点击下载[jar]&nbsp;1,281K</a></h3>\\n<p>三星 I450系列(240×320)<br />B5210U G810 G818 G818E I400 I408 I450 I458 I520 I550 I550W I558 I560 I568 I570 I7110 I780 I8510 I8510C I900 INNOV8 L870 L878 L878E SGH-I570<br /></p>\\n</li>\\n<li>\\n<h3><a href=\"http://www.7723.cn/downb.asp?idd=5&id=10420&ksp=12\" target=\"_blank\">点击下载[jar]&nbsp;913K</a></h3>\\n<p>摩托罗 V8拉系列(240×320)<br />E895 V8 V82GB RAZRV8 RAZRV82GB RAZRV6 RAZRV3xx RIZR-Z8 ROKR Z6 Z10<br /></p>\\n</li>\\n<li>\\n<h3><a href=\"http://www.7723.cn/downb.asp?idd=5&id=10420&ksp=13\" target=\"_blank\">点击下载[jar]&nbsp;913K</a></h3>\\n<p>诺基亚 X3系列(240×320)<br />X3 6700C X2 X2-01 X2-03 X3-01 X3-02 X3 S40<br /></p>\\n</li>\\n<li>\\n<h3><a href=\"http://www.7723.cn/downb.asp?idd=5&id=10420&ksp=14\" target=\"_blank\">点击下载[jar]&nbsp;913K</a></h3>\\n<p>大屏通用版(240×320)<br />支持分辨率为 240x320 的大屏幕手机<br /></p>\\n</li>\\n<li>\\n<h3><a href=\"http://www.7723.cn/downb.asp?idd=5&id=10420&ksp=15\" target=\"_blank\">点击下载[jar]&nbsp;918K</a></h3>\\n<p>触摸屏通用版(240×320)<br />支持分辨率为 240x320 触摸屏的手机<br /></p>\\n</li>\\n<li>\\n<h3><a href=\"http://www.7723.cn/downb.asp?idd=5&id=10420&ksp=16\" target=\"_blank\">点击下载[jar]&nbsp;1,314K</a></h3>\\n<p>触摸屏通用版(360×640)<br />支持分辨率为 360x640 触摸屏的手机<br /></p>\\n</li>\\n</ul>\\n</div>\\n<div class=\"frame androidComment\">\\n<div class=\"title\">\\n<h3>手机用户评论<span>( 请用手机登陆 wap.7723.cn 发表游戏评论与网友分享游戏心得。)</span></h3>\\n</div>\\n<ul class=\"commentList\">\\n<li>\\n<h4>[塞班亡道！！！] 评论于<span>2013-04-30 10:32:46</span></h4>\\n<p>摇七千次树即可获取成就</p>\\n</li>\\n<li>\\n<h4>[流氓高手の凌空、] 评论于<span>2013-03-02 22:56:34</span></h4>\\n<p>我玩到后期人品爆发了，不知是上了什么装备还是什么的，杀两怪怒气就攒满了</p>\\n</li>\\n<li>\\n<h4>[小孩Go] 评论于<span>2013-02-04 23:37:04</span></h4>\\n<p>客服！小屏哪里下？</p>\\n</li>\\n<li>\\n<h4>[恶魔e画师] 评论于<span>2012-10-04 23:47:39</span></h4>\\n<p>个人觉得苍穹１，比这外传好玩</p>\\n</li>\\n<li>\\n<h4>[１２７１５６７０５３] 评论于<span>2012-10-01 22:38:18</span></h4>\\n<p>切，百度搜“苍穹默示录贴吧”，那里有很多关于苍穹的资料，我是“１２７１５６７０５３”，绰号“魔灵帝”</p>\\n</li>\\n<li>\\n<h4>[杨少] 评论于<span>2012-09-18 13:51:30</span></h4>\\n<p>玩吞噬的兄弟们帮忙顶一顶暗黑２让雷哥出三啊</p>\\n</li>\\n</ul>\\n<p class=\"more\"><a target=\"_blank\" title=\"查看更多评论\" href=\"/pinglun.asp?idd=5&id=10420\">查看更多评论</a></p>\\n</div>\\n<div align=\"left\" style=\" clear:both; margin-top:px;\"></div>\\n</div>\\n<div id=\"sidebar\">\\n<div id=\"clickmain\">\\n<div id=\"sidebar\">\\n<div class=\"frame\" id=\"gameSorts\">\\n<div class=\"title\">\\n<h3>游戏分类</h3>\\n</div>\\n<ul class=\"content\">\\n<li><a target=\"_blank\" href=\"/zuixin/jiaose_1.htm\" title=\"角色扮演\">角色扮演</a></li>\\n<li><a target=\"_blank\" href=\"/zuixin/yizhi_1.htm\" title=\"益智游戏\">益智游戏</a></li>\\n<li><a target=\"_blank\" href=\"/zuixin/dongzuo_1.htm\" title=\"动作游戏\">动作游戏</a></li>\\n<li><a target=\"_blank\" href=\"/zuixin/saiche_1.htm\" title=\"赛车游戏\">赛车游戏</a></li>\\n<li><a target=\"_blank\" href=\"/zuixin/maoxian_1.htm\" title=\"冒险游戏\">冒险游戏</a></li>\\n<li><a target=\"_blank\" href=\"/zuixin/yangcheng_1.htm\" title=\"养成游戏\">养成游戏</a></li>\\n<li><a target=\"_blank\" href=\"/zuixin/tiyu_1.htm\" title=\"体育游戏\">体育游戏</a></li>\\n<li><a target=\"_blank\" href=\"/zuixin/gedou_1.htm\" title=\"格斗游戏\">格斗游戏</a></li>\\n<li><a target=\"_blank\" href=\"/zuixin/qipai_1.htm\" title=\"棋牌游戏\">棋牌游戏</a></li>\\n<li><a target=\"_blank\" href=\"/zuixin/celue_1.htm\" title=\"策略游戏\">策略游戏</a></li>\\n<li><a target=\"_blank\" href=\"/zuixin/sheji_1.htm\" title=\"射击游戏\">射击游戏</a></li>\\n<li><a target=\"_blank\" href=\"/zuixin/moni_1.htm\" title=\"模拟经营\">模拟经营</a></li>\\n<li><a target=\"_blank\" href=\"/zuixin/feixing_1.htm\" title=\"飞行游戏\">飞行游戏</a></li>\\n<li><a target=\"_blank\" href=\"/zuixin/wangyou_1.htm\" title=\"手机网游\">手机网游</a></li>\\n</ul>\\n</div>\\n<div class=\"frame\" id=\"gamecollects\">\\n<div class=\"title\">\\n<h3>游戏合集</h3>\\n</div>\\n<ul class=\"content\">\\n<li><a target=\"_blank\" href=\"/sis/sis_1.htm\" title=\"SIS游戏\">SIS游戏</a></li>\\n<li><a target=\"_blank\" href=\"/sisx/sisx_1.htm\" title=\"SISX游戏\">SISX游戏</a></li>\\n<li><a target=\"_blank\" href=\"/3d/3d_1.htm\" title=\"3D游戏\">3D游戏</a></li>\\n<li><a target=\"_blank\" href=\"/lanya/lanya_1.htm\" title=\"蓝牙对战\">蓝牙对战</a></li>\\n</ul>\\n</div>\\n<div class=\"frame\" id=\"gameload\">\\n<div class=\"title\">\\n<h3>精彩推荐</h3>\\n</div>\\n<ul class=\"content\">\\n<li><p class=\"img\"><a target=\"_blank\" href=\"/shanggu/\" title=\"上古2\"><img width=\"70\" height=\"70\" src=\"wuza/pice/2010126O443962.jpg\" alt=\"上古2\"></a></p>\\n<p class=\"name\"><a target=\"_blank\" href=\"/shanggu/\" title=\"上古2\">上古2</a></p></li>\\n<li><p class=\"img\"><a target=\"_blank\" href=\"/diwang/\" title=\"帝王三国\"><img width=\"70\" height=\"70\" src=\"wuza/pici/20111014O5408068.jpg\" alt=\"帝王三国\"></a></p>\\n<p class=\"name\"><a target=\"_blank\" href=\"/diwang/\" title=\"帝王三国\">帝王三国</a></p></li>\\n<li><p class=\"img\"><a target=\"_blank\" href=\"/download/9874.htm\" title=\"口袋精灵-英雄大陆\"><img width=\"70\" height=\"70\" src=\"wuza/pich/2011819O4396480.jpg\" alt=\"口袋精灵-英雄大陆\"></a></p>\\n<p class=\"name\"><a target=\"_blank\" href=\"/download/9874.htm\" title=\"口袋精灵-英雄大陆\">口袋精灵</a></p></li>\\n<li><p class=\"img\"><a target=\"_blank\" href=\"http://shijie.7723.cn/\" title=\"世界\"><img width=\"70\" height=\"70\" src=\"wuza/pici/2011926O6150187.jpg\" alt=\"世界\"></a></p>\\n<p class=\"name\"><a target=\"_blank\" href=\"http://shijie.7723.cn/\" title=\"世界\">世界</a></p></li>\\n<li><p class=\"img\"><a target=\"_blank\" href=\"http://wangxian.7723.cn/\" title=\"忘仙\"><img width=\"70\" height=\"70\" src=\"wadyx/pic1/2012926O5561517.png\" alt=\"忘仙\"></a></p>\\n<p class=\"name\"><a target=\"_blank\" href=\"http://wangxian.7723.cn/\" title=\"忘仙\">忘仙</a></p></li>\\n<li><p class=\"img\"><a target=\"_blank\" href=\"/download/9260.htm\" title=\"醉江湖OL-宝刀屠龙\"><img width=\"70\" height=\"70\" src=\"wuza/picg/201168O6335485.jpg\" alt=\"醉江湖OL-宝刀屠龙\"></a></p>\\n<p class=\"name\"><a target=\"_blank\" href=\"/download/9260.htm\" title=\"醉江湖OL-宝刀屠龙\">醉江湖</a></p></li>\\n</ul>\\n</div>\\n<div class=\"frame\" id=\"gameTOP\">\\n<div class=\"title\">\\n<h3>最热下载TOP10</h3>\\n</div>\\n<div class=\"content\">\\n<table>\\n<tbody class=\"topThree\">\\n<tr>\\n<th>&nbsp;</th>\\n<td><a target=\"_blank\" href=\"/download/9435.htm\" title=\"植物大战僵尸(新角色加强版)\">植物大战僵尸</a></td>\\n</tr>\\n<tr>\\n<th>2</th>\\n<td><a target=\"_blank\" href=\"/game/2796.htm\" title=\"神庙逃亡2\">神庙逃亡2</a></td>\\n</tr>\\n<tr>\\n<th>3</th>\\n<td><a target=\"_blank\" href=\"/download/9641.htm\" title=\"水果忍者v1.7.2\">水果忍者v1.7.2</a></td>\\n</tr>\\n</tbody>\\n<tbody>\\n<tr>\\n<th>4</th>\\n<td><a target=\"_blank\" href=\"/kdjl/\" title=\"口袋精灵\">口袋精灵</a></td>\\n</tr>\\n<tr>\\n<th>5</th>\\n<td><a target=\"_blank\" href=\"/download/7132.htm\" title=\"急速狂飙完美破解版\">急速狂飙完美破解版</a></td>\\n</tr>\\n<tr>\\n<th>6</th>\\n<td><a target=\"_blank\" href=\"/download/9789.htm\" title=\"捕鱼达人-夏威夷海底版\">捕鱼达人-夏威夷海底版</a></td>\\n</tr>\\n<tr>\\n<th>7</th>\\n<td><a target=\"_blank\" href=\"http://sklr.7723.cn/\" title=\"时空猎人\">时空猎人</a></td>\\n</tr>\\n<tr>\\n<th>8</th>\\n<td><a target=\"_blank\" href=\"http://wzzj.7723.cn/\" title=\"王者之剑\">王者之剑</a></td>\\n</tr>\\n<tr>\\n<th>9</th>\\n<td><a target=\"_blank\" href=\"http://bwzq.7723.cn/\" title=\"比武招亲\">比武招亲</a></td>\\n</tr>\\n<tr>\\n<th>10</th>\\n<td><a target=\"_blank\" href=\"/download/11661.htm\" title=\"魔与道-仙境之战\">魔与道-仙境之战</a></td>\\n</tr>\\n</tbody>\\n</table>\\n</div>\\n</div>\\n<div class=\"frame\" id=\"help\">\\n<div class=\"title\">\\n<h3>玩家最爱游戏</h3>\\n</div>\\n<ul class=\"content\">\\n<li><a target=\"_blank\" href=\"/download/9199.htm\" title=\"梦回西游-骑乐无穷\">梦回西游-骑乐无穷</a></li>\\n<li><a target=\"_blank\" href=\"http://zhanhun.7723.cn/\" title=\"英雄战魂\">英雄战魂</a></li>\\n<li><a target=\"_blank\" href=\"/download/11331.htm\" title=\"英雄国度\">英雄国度</a></li>\\n<li><a target=\"_blank\" href=\"/download/6793.htm\" title=\"武林OL·绝代双骄\">武林OL·绝代双骄</a></li>\\n<li><a target=\"_blank\" href=\"/download/11076.htm\" title=\"浩天奇缘-战神归来\">浩天奇缘-战神归来</a></li>\\n<li><a target=\"_blank\" href=\"/download/10871.htm\" title=\"梦幻宝贝-勇者之章\">梦幻宝贝-勇者之章</a></li>\\n<li><a target=\"_blank\" href=\"/download/10090.htm\" title=\"明珠轩辕\">明珠轩辕</a></li>\\n<li><a target=\"_blank\" href=\"/download/10526.htm\" title=\"海贼王-秘宝传说\">海贼王-秘宝传说</a></li>\\n<li><a target=\"_blank\" href=\"/download/9785.htm\" title=\"侠义OL-八龙聚首\">侠义OL-八龙聚首</a></li>\\n<li><a target=\"_blank\" href=\"/download/9800.htm\" title=\"大宋豪侠2之武魂醒觉\">大宋豪侠2之武魂醒觉</a></li>\\n</ul>\\n</div>\\n</div>\\n</div>\\n</div>\\n<div class=\"clear\"></div>\\n<div id=\"footer\">\\n<div id=\"jump\">\\n<span><a href=\"#top\" title=\"跳到顶部\"></a></span>\\n</div>\\n<ul id=\"footerbar\">\\n<li><a href=\"http://www.7723.cn/zonghe/gy.htm\" title=\"关于我们\">关于我们</a></li>\\n<li><a href=\"http://www.7723.cn/zonghe/lcwm.htm\" title=\"联系我们\">联系我们</a></li>\\n<li><a href=\"http://www.7723.cn/zonghe/yclj.htm\" title=\"友情链接\">友情链接</a></li>\\n<li><a href=\"http://www.7723.cn/zonghe/bqsm.htm\" title=\"版权声明\">版权声明</a></li>\\n<li style=\"background:none;\"><a href=\"http://www.7723.cn/zonghe/bz.htm\" title=\"帮助中心\">帮助中心</a></li>\\n</ul>\\n<div id=\"copyright\">\\n<p>关注手机游戏，敬请关注www.7723.cn，请向您的5个QQ好友推荐http://www.7723.cn/，多谢支持！</p>\\n<p>Copyright (C) 2010 7723手机游戏 All Rights Reserved </p>\\n<p><a href=\"http://www.miitbeian.gov.cn/\" title=\"苏ICP备13017671号-1\">苏ICP备13017671号-1</a></p>\\n<div align=\"left\" style=\" clear:both; margin-top:px;\"><script type=\"text/javascript\">BAIDU_CLB_fillSlot(\"802396\");</script><script type=\"text/javascript\">\\r\\nvar _bdhmProtocol = ((\"https:\" == document.location.protocol) ? \" https://\" : \" http://\");\\r\\ndocument.write(unescape(\"%3Cscript src=\\'\" + _bdhmProtocol + \"hm.baidu.com/h.js%3Fc040557a8f4f8d0710c9a409084a1f1b\\' type=\\'text/javascript\\'%3E%3C/script%3E\"));\\r\\n</script></div>\\n</div>\\n</div>\\n<div id=\"tbox\" class=\"iz_tboxw1\"><a id=\"gotop\" href=\"javascript:void(0)\" style=\"display: inline;\"></a><a href=\"javascript:void(0)\" id=\"izp_ewm\"></a><div class=\"izpewm_h izp_yc\"><span>关闭</span><img src=\"http://www.7723.cn/static/images/zp_wxgzh.jpg\" width=\"107\" height=\"107\" /></div></div>\\n<script language=\"javascript\" src=\"http://www.7723.cn/static/common/jquery.zptip.js\"></script>\\n</div>\\n</div>\\n<div align=\"left\" style=\" clear:both; margin-top:px;\"></div>'"
      ]
     },
     "execution_count": 17,
     "metadata": {},
     "output_type": "execute_result"
    }
   ],
   "source": [
    "res_encoding, res_content = Encoding.decode(res.content)\n",
    "res_content"
   ]
  },
  {
   "cell_type": "code",
   "execution_count": 18,
   "metadata": {},
   "outputs": [
    {
     "data": {
      "text/plain": [
       "[<title>苍弓默示录－吞噬时空_JAVA游戏免费版下载_7723手机游戏[www.7723.cn]</title>]"
      ]
     },
     "execution_count": 18,
     "metadata": {},
     "output_type": "execute_result"
    }
   ],
   "source": [
    "soup = BeautifulSoup(res_content)\n",
    "soup.select('title')"
   ]
  },
  {
   "cell_type": "code",
   "execution_count": 19,
   "metadata": {},
   "outputs": [
    {
     "data": {
      "text/plain": [
       "[<h3>苍弓默示录－吞噬时空</h3>,\n",
       " <h3>游戏简介</h3>,\n",
       " <h3>游戏截图</h3>,\n",
       " <h3>游戏下载</h3>,\n",
       " <h3>手机用户评论<span>( 请用手机登陆 wap.7723.cn 发表游戏评论与网友分享游戏心得。)</span></h3>]"
      ]
     },
     "execution_count": 19,
     "metadata": {},
     "output_type": "execute_result"
    }
   ],
   "source": [
    "soup.select('#content .title h3')"
   ]
  },
  {
   "cell_type": "code",
   "execution_count": 20,
   "metadata": {},
   "outputs": [
    {
     "data": {
      "text/plain": [
       "<div id=\"content\">\n",
       "<div class=\"frame\" id=\"new\">\n",
       "<div class=\"title\">\n",
       "<h3>苍弓默示录－吞噬时空</h3> <span style=\"margin-right:2px;float:right;margin-top:5px;\">  7723网游群：172111691 </span>\n",
       "</div>\n",
       "<ul class=\"container\">\n",
       "<li>\n",
       "<dl>\n",
       "<dt class=\"img\"><img alt=\"苍弓默示录－吞噬时空\" height=\"80\" src=\"http://image.7723.cn/wuza/pico/2011111O8007024.jpg\" width=\"120\"/></dt>\n",
       "<dd>类型：动作游戏</dd>\n",
       "<dd>语言：中文</dd>\n",
       "<dd>安全：无病毒，无插件</dd>\n",
       "<dd>资费：完全免费</dd>\n",
       "<dd>更新日期：2011-11-01</dd>\n",
       "</dl>\n",
       "<ul class=\"list\">\n",
       "<li><h3>如何下载到手机：</h3></li>\n",
       "<li>手机登陆网址7723.cn直接下载</li>\n",
       "<li>注：手机上网需开通GPRS服务，详细资费请咨询运营商。</li>\n",
       "</ul>\n",
       "</li>\n",
       "</ul>\n",
       "</div>\n",
       "<div align=\"left\" style=\" clear:both; margin-top:px;\"><script type=\"text/javascript\">BAIDU_CLB_fillSlot(\"802438\");</script></div>\n",
       "<div class=\"frame\" id=\"intro\">\n",
       "<div class=\"title\">\n",
       "<h3>游戏简介</h3>\n",
       "</div>\n",
       "<div class=\"container\">\n",
       "游戏已XX，为安全起见，请用离线或废卡玩耍。乐堂动漫史诗ARPG《苍穹默示录》外传《苍穹默示录－吞噬时空》正式发布。双主角，双线路超厚道流程，引人入胜的谜题等着你解开。同伴系统，让您享受刺激多人游戏乐趣。近200件装备，100张地图，无限竞技场，联网PK，让您玩到爽。合成，强化，打造属于您自己的史诗装备。 26\n",
       "</div>\n",
       "</div>\n",
       "<div align=\"left\" style=\" clear:both; margin-top:px;\"><script type=\"text/javascript\">BAIDU_CLB_fillSlot(\"802404\");</script></div>\n",
       "<div class=\"frame\" id=\"show\">\n",
       "<div class=\"title\">\n",
       "<h3>游戏截图</h3>\n",
       "</div>\n",
       "<ul class=\"container\">\n",
       "<li>\n",
       "<img alt=\"苍弓默示录－吞噬时空\" height=\"208\" src=\"http://images.7723.cn/wuza/pico/2011111O800703.jpg\" width=\"172\"/>  \n",
       "<img alt=\"苍弓默示录－吞噬时空\" height=\"208\" src=\"http://images.7723.cn/wuza/pico/2011111O8037376.jpg\" width=\"172\"/>  \n",
       "<img alt=\"苍弓默示录－吞噬时空\" height=\"208\" src=\"http://images.7723.cn/wuza/pico/2011111O8037478.jpg\" width=\"172\"/>  \n",
       "<img alt=\"苍弓默示录－吞噬时空\" height=\"208\" src=\"http://images.7723.cn/wuza/pico/2011111O8037431.jpg\" width=\"172\"/>  \n",
       "<img alt=\"苍弓默示录－吞噬时空\" height=\"208\" src=\"http://images.7723.cn/wuza/pico/2011111O8037492.jpg\" width=\"172\"/>  \n",
       "<img alt=\"苍弓默示录－吞噬时空\" height=\"208\" src=\"http://images.7723.cn/wuza/pico/2011111O8037477.jpg\" width=\"172\"/>  \n",
       "</li>\n",
       "</ul>\n",
       "</div>\n",
       "<div align=\"left\" style=\" clear:both; margin-top:px;\"><script type=\"text/javascript\">BAIDU_CLB_fillSlot(\"802422\");</script></div>\n",
       "<div class=\"frame\" id=\"gameload\">\n",
       "<div class=\"title\">\n",
       "<h3>游戏下载</h3>\n",
       "</div>\n",
       "<ul class=\"container\">\n",
       "<div id=\"subMenu\">\n",
       "<div id=\"search\">\n",
       "<form action=\"http://www.7723.cn/downloads.asp?\" method=\"get\" target=\"_blank\">\n",
       "<p>\n",
       "<label for=\"searchWorks\">快速搜索机型:</label>\n",
       "<input name=\"idd\" type=\"hidden\" value=\"5\">\n",
       "<input name=\"id\" type=\"hidden\" value=\"10420\">\n",
       "<input id=\"searchWorks\" name=\"jxgob\" type=\"text\" value=\"\"/>\n",
       "</input></input></p>\n",
       "<p>\n",
       "<input id=\"search_btn\" type=\"submit\" value=\"\"/>\n",
       "</p>\n",
       "</form>\n",
       "</div>\n",
       "</div>\n",
       "<li>\n",
       "<h3><a href=\"http://www.7723.cn/downb.asp?idd=5&amp;id=10420&amp;ksp=1\" target=\"_blank\">点击下载[jar] 883K</a></h3>\n",
       "<p>诺基亚 N70系列(176×208)<br/>7610 3230 6600 6260 6620 6630 6670 6680 6681 6682 N70 N72 ;松下: X700 X800 ;联想: P930<br/></p>\n",
       "</li>\n",
       "<li>\n",
       "<h3><a href=\"http://www.7723.cn/downb.asp?idd=5&amp;id=10420&amp;ksp=2\" target=\"_blank\">点击下载[jar] 1,281K</a></h3>\n",
       "<p>诺基亚 N73系列(240×320)<br/>N73 5320 5320XM 5320di_XM 5630XM 5700 5700XM 5710XM 5730XM 6110 6110N 6120 6120C 6120ci 6121 6122C 6124C 6210S 6210ci 6220C 6290 6650F 6700S 6702S 6710N 6720C 6730c 6788 6788I 6790 C5 C5-01 E101 E50 E51 E52 E55 E65 E66 E75 X5-00 X5-01 N71 N73ie N75 N76 N76-1 N77 N78 N79 N79 Eco N81 N81 8GB N82 N85 N86 N92 N93 N93I N95 N958G N95 8GB N95-3 NAM N96<br/></p>\n",
       "</li>\n",
       "<li>\n",
       "<h3><a href=\"http://www.7723.cn/downb.asp?idd=5&amp;id=10420&amp;ksp=3\" target=\"_blank\">点击下载[jar] 913K</a></h3>\n",
       "<p>诺基亚 N7370系列(240×320)<br/>7370 2700C 2710C 2710N 2730C 3120C 3208C 3600S 3602S 3610A 3610F 3620 3710F 3711 3720C 3806 5000 5000D 5130 5130C 5132 5132XM 5220 5220XM 5300 5310 5310XM 5330XM 5610 5610D 5610XM 5611 5611XM 6126 6131 6131I 6131NF 6133 6202C 6208C 6212 6233 6234 6263 6265 6265I 6267 6268 6270 6275 6275I 6280 6282 6288 6300 6300I 6301 6303C 6303CI 6303CLASSIC 6303I 6316S 6350 6500 6500C 6500S 6555 6600F 6600I 6600S 6600IS 6650T 6700S 6750 7020 7100 7100S 7205 7230 7210S 7212C 7230 7310C 7373 7390 7500 7500P 7510A 7510S 7610S 7612S 7705 7900 7900P 8208 8600 8600L 8800A 8800CA 8800DA 8800E 8800GA 8900 C2-01 C2-06 C3-01 C3-01M C3-03<br/></p>\n",
       "</li>\n",
       "<li>\n",
       "<h3><a href=\"http://www.7723.cn/downb.asp?idd=5&amp;id=10420&amp;ksp=4\" target=\"_blank\">点击下载[jar] 1,314K</a></h3>\n",
       "<p>诺基亚 N97系列(360×640)<br/>N97 5228 5230 5230XM 5232 5233 5235 5236 5238 5250 5530 5530XM 5800 5800I 5800XM 5800W 5802XM 5900XM 6788I C5-03 C5-04 C6 C6-00 C6-01 C7 C7-00I E7 E7-00 I8910 SAGA SATIO X6 X6M X7 N8 N8-00 N97I N97MINI NURON ；索爱：U1I U5I(VIVAZ) U8I Satio IDOU ；三星：I8910 I8910U M8;000<br/></p>\n",
       "</li>\n",
       "<li>\n",
       "<h3><a href=\"http://www.7723.cn/downb.asp?idd=5&amp;id=10420&amp;ksp=5\" target=\"_blank\">点击下载[jar] 883K</a></h3>\n",
       "<p>诺基亚 3250系列(176×208)<br/>3250 N91 N91 8GB<br/></p>\n",
       "</li>\n",
       "<li>\n",
       "<h3><a href=\"http://www.7723.cn/downb.asp?idd=5&amp;id=10420&amp;ksp=6\" target=\"_blank\">点击下载[jar] 913K</a></h3>\n",
       "<p>摩托罗拉 A1000系列(208×320)<br/>A920 A925 A1000 A1010 M1000<br/></p>\n",
       "</li>\n",
       "<li>\n",
       "<h3><a href=\"http://www.7723.cn/downb.asp?idd=5&amp;id=10420&amp;ksp=7\" target=\"_blank\">点击下载[jar] 918K</a></h3>\n",
       "<p>摩托罗拉 E6系列(240×320)<br/>E6 E6E A1200 A1200E A1200R A1208 A1600 A1800 ROKRE6<br/></p>\n",
       "</li>\n",
       "<li>\n",
       "<h3><a href=\"http://www.7723.cn/downb.asp?idd=5&amp;id=10420&amp;ksp=8\" target=\"_blank\">点击下载[jar] 1,270K</a></h3>\n",
       "<p>诺基亚 E62系列(320×240)<br 5630xm=\"\" 7100s=\"\" c3=\"\" e5=\"\" e5-00=\"\" e5-00m=\"\" e61=\"\" e61i=\"\" e62=\"\" e63=\"\" e71=\"\" e71x=\"\" e72=\"\" e72i=\"\" e73=\"\" mythic=\"\" x2-01=\"\" x2-03=\"\" x5-01<br=\"\"/></p>\n",
       "</li>\n",
       "<li>\n",
       "<h3><a href=\"http://www.7723.cn/downb.asp?idd=5&amp;id=10420&amp;ksp=9\" target=\"_blank\">点击下载[jar] 918K</a></h3>\n",
       "<p>摩托罗拉 E680系列(240×320)<br/>E680 A780 E680i E680g E690<br/></p>\n",
       "</li>\n",
       "<li>\n",
       "<h3><a href=\"http://www.7723.cn/downb.asp?idd=5&amp;id=10420&amp;ksp=10\" target=\"_blank\">点击下载[jar] 1,276K</a></h3>\n",
       "<p>索爱 K790系列(240×320)<br/>K790 C510 C702 C702C G900C C901 C902 C902C C903 C905 C905C G502 G502C G700C G705 K660 K660I K770 K770I K790C K800 K800C K800I K810 K810C K810I K818 K818C K850 K850I K858 K858C K880 T650I T658 T658C T700 T707 T715 W508 W518A W580 W580C W580I W595 W595C W660I W705 W707 W715 W760 W760C W760I W830 W830C W830I W850 w880 W880I W888 W888C W890 W890I W898 W898C W900 W900C W900I W902 W908 W908C W910 W910I W980 W995 M1I J20 JALOU J105I S500 S500C S500I U100I Z750 Z750I Z770 Z770I Z780 Z780I<br/></p>\n",
       "</li>\n",
       "<li>\n",
       "<h3><a href=\"http://www.7723.cn/downb.asp?idd=5&amp;id=10420&amp;ksp=11\" target=\"_blank\">点击下载[jar] 1,281K</a></h3>\n",
       "<p>三星 I450系列(240×320)<br/>B5210U G810 G818 G818E I400 I408 I450 I458 I520 I550 I550W I558 I560 I568 I570 I7110 I780 I8510 I8510C I900 INNOV8 L870 L878 L878E SGH-I570<br/></p>\n",
       "</li>\n",
       "<li>\n",
       "<h3><a href=\"http://www.7723.cn/downb.asp?idd=5&amp;id=10420&amp;ksp=12\" target=\"_blank\">点击下载[jar] 913K</a></h3>\n",
       "<p>摩托罗 V8拉系列(240×320)<br/>E895 V8 V82GB RAZRV8 RAZRV82GB RAZRV6 RAZRV3xx RIZR-Z8 ROKR Z6 Z10<br/></p>\n",
       "</li>\n",
       "<li>\n",
       "<h3><a href=\"http://www.7723.cn/downb.asp?idd=5&amp;id=10420&amp;ksp=13\" target=\"_blank\">点击下载[jar] 913K</a></h3>\n",
       "<p>诺基亚 X3系列(240×320)<br/>X3 6700C X2 X2-01 X2-03 X3-01 X3-02 X3 S40<br/></p>\n",
       "</li>\n",
       "<li>\n",
       "<h3><a href=\"http://www.7723.cn/downb.asp?idd=5&amp;id=10420&amp;ksp=14\" target=\"_blank\">点击下载[jar] 913K</a></h3>\n",
       "<p>大屏通用版(240×320)<br/>支持分辨率为 240x320 的大屏幕手机<br/></p>\n",
       "</li>\n",
       "<li>\n",
       "<h3><a href=\"http://www.7723.cn/downb.asp?idd=5&amp;id=10420&amp;ksp=15\" target=\"_blank\">点击下载[jar] 918K</a></h3>\n",
       "<p>触摸屏通用版(240×320)<br/>支持分辨率为 240x320 触摸屏的手机<br/></p>\n",
       "</li>\n",
       "<li>\n",
       "<h3><a href=\"http://www.7723.cn/downb.asp?idd=5&amp;id=10420&amp;ksp=16\" target=\"_blank\">点击下载[jar] 1,314K</a></h3>\n",
       "<p>触摸屏通用版(360×640)<br/>支持分辨率为 360x640 触摸屏的手机<br/></p>\n",
       "</li>\n",
       "</ul>\n",
       "</div>\n",
       "<div class=\"frame androidComment\">\n",
       "<div class=\"title\">\n",
       "<h3>手机用户评论<span>( 请用手机登陆 wap.7723.cn 发表游戏评论与网友分享游戏心得。)</span></h3>\n",
       "</div>\n",
       "<ul class=\"commentList\">\n",
       "<li>\n",
       "<h4>[塞班亡道！！！] 评论于<span>2013-04-30 10:32:46</span></h4>\n",
       "<p>摇七千次树即可获取成就</p>\n",
       "</li>\n",
       "<li>\n",
       "<h4>[流氓高手の凌空、] 评论于<span>2013-03-02 22:56:34</span></h4>\n",
       "<p>我玩到后期人品爆发了，不知是上了什么装备还是什么的，杀两怪怒气就攒满了</p>\n",
       "</li>\n",
       "<li>\n",
       "<h4>[小孩Go] 评论于<span>2013-02-04 23:37:04</span></h4>\n",
       "<p>客服！小屏哪里下？</p>\n",
       "</li>\n",
       "<li>\n",
       "<h4>[恶魔e画师] 评论于<span>2012-10-04 23:47:39</span></h4>\n",
       "<p>个人觉得苍穹１，比这外传好玩</p>\n",
       "</li>\n",
       "<li>\n",
       "<h4>[１２７１５６７０５３] 评论于<span>2012-10-01 22:38:18</span></h4>\n",
       "<p>切，百度搜“苍穹默示录贴吧”，那里有很多关于苍穹的资料，我是“１２７１５６７０５３”，绰号“魔灵帝”</p>\n",
       "</li>\n",
       "<li>\n",
       "<h4>[杨少] 评论于<span>2012-09-18 13:51:30</span></h4>\n",
       "<p>玩吞噬的兄弟们帮忙顶一顶暗黑２让雷哥出三啊</p>\n",
       "</li>\n",
       "</ul>\n",
       "<p class=\"more\"><a href=\"/pinglun.asp?idd=5&amp;id=10420\" target=\"_blank\" title=\"查看更多评论\">查看更多评论</a></p>\n",
       "</div>\n",
       "<div align=\"left\" style=\" clear:both; margin-top:px;\"></div>\n",
       "</div>"
      ]
     },
     "execution_count": 20,
     "metadata": {},
     "output_type": "execute_result"
    }
   ],
   "source": [
    "soup.select_one('#content')"
   ]
  },
  {
   "cell_type": "code",
   "execution_count": 25,
   "metadata": {},
   "outputs": [
    {
     "data": {
      "text/plain": [
       "'苍弓默示录－吞噬时空'"
      ]
     },
     "execution_count": 25,
     "metadata": {},
     "output_type": "execute_result"
    }
   ],
   "source": [
    "title = soup.select_one('#content').select_one('.title').select_one('h3').text\n",
    "title"
   ]
  },
  {
   "cell_type": "code",
   "execution_count": 27,
   "metadata": {},
   "outputs": [],
   "source": [
    "content_div = soup.select_one('#content')"
   ]
  },
  {
   "cell_type": "markdown",
   "metadata": {},
   "source": [
    "With `ul.container` selector, we will have 3 matches.\n",
    "\n",
    "- The first one has the banner image.\n",
    "- The second one has sample gameplay images.\n",
    "- The third one has list of versions for multiple phone models."
   ]
  },
  {
   "cell_type": "code",
   "execution_count": 35,
   "metadata": {
    "scrolled": true
   },
   "outputs": [
    {
     "data": {
      "text/plain": [
       "3"
      ]
     },
     "execution_count": 35,
     "metadata": {},
     "output_type": "execute_result"
    }
   ],
   "source": [
    "container_list = content_div.select('ul.container')\n",
    "len(container_list)"
   ]
  },
  {
   "cell_type": "markdown",
   "metadata": {},
   "source": [
    "# Retreive banner image"
   ]
  },
  {
   "cell_type": "code",
   "execution_count": 107,
   "metadata": {},
   "outputs": [
    {
     "data": {
      "text/plain": [
       "<img alt=\"苍弓默示录－吞噬时空\" height=\"80\" src=\"http://image.7723.cn/wuza/pico/2011111O8007024.jpg\" width=\"120\"/>"
      ]
     },
     "execution_count": 107,
     "metadata": {},
     "output_type": "execute_result"
    }
   ],
   "source": [
    "container_list[0].select_one('img')"
   ]
  },
  {
   "cell_type": "code",
   "execution_count": 108,
   "metadata": {},
   "outputs": [],
   "source": [
    "attrs_dict = container_list[0].select_one('img').attrs"
   ]
  },
  {
   "cell_type": "code",
   "execution_count": 109,
   "metadata": {},
   "outputs": [
    {
     "data": {
      "text/plain": [
       "dict"
      ]
     },
     "execution_count": 109,
     "metadata": {},
     "output_type": "execute_result"
    }
   ],
   "source": [
    "type(attrs_dict)"
   ]
  },
  {
   "cell_type": "code",
   "execution_count": 111,
   "metadata": {},
   "outputs": [
    {
     "data": {
      "text/plain": [
       "True"
      ]
     },
     "execution_count": 111,
     "metadata": {},
     "output_type": "execute_result"
    }
   ],
   "source": [
    "'src' in attrs_dict"
   ]
  },
  {
   "cell_type": "code",
   "execution_count": 40,
   "metadata": {},
   "outputs": [
    {
     "data": {
      "text/plain": [
       "{'width': '120',\n",
       " 'height': '80',\n",
       " 'src': 'http://image.7723.cn/wuza/pico/2011111O8007024.jpg',\n",
       " 'alt': '苍弓默示录－吞噬时空'}"
      ]
     },
     "execution_count": 40,
     "metadata": {},
     "output_type": "execute_result"
    }
   ],
   "source": [
    "_.attrs"
   ]
  },
  {
   "cell_type": "code",
   "execution_count": 41,
   "metadata": {},
   "outputs": [
    {
     "data": {
      "text/plain": [
       "'http://image.7723.cn/wuza/pico/2011111O8007024.jpg'"
      ]
     },
     "execution_count": 41,
     "metadata": {},
     "output_type": "execute_result"
    }
   ],
   "source": [
    "_['src']"
   ]
  },
  {
   "cell_type": "code",
   "execution_count": 42,
   "metadata": {},
   "outputs": [
    {
     "data": {
      "text/plain": [
       "'http://image.7723.cn/wuza/pico/2011111O8007024.jpg'"
      ]
     },
     "execution_count": 42,
     "metadata": {},
     "output_type": "execute_result"
    }
   ],
   "source": [
    "banner_url = container_list[0].select_one('img').attrs['src']\n",
    "banner_url"
   ]
  },
  {
   "cell_type": "markdown",
   "metadata": {},
   "source": [
    "# Retrieve sample gameplay images"
   ]
  },
  {
   "cell_type": "code",
   "execution_count": 43,
   "metadata": {},
   "outputs": [
    {
     "data": {
      "text/plain": [
       "<ul class=\"container\">\n",
       "<li>\n",
       "<img alt=\"苍弓默示录－吞噬时空\" height=\"208\" src=\"http://images.7723.cn/wuza/pico/2011111O800703.jpg\" width=\"172\"/>  \n",
       "<img alt=\"苍弓默示录－吞噬时空\" height=\"208\" src=\"http://images.7723.cn/wuza/pico/2011111O8037376.jpg\" width=\"172\"/>  \n",
       "<img alt=\"苍弓默示录－吞噬时空\" height=\"208\" src=\"http://images.7723.cn/wuza/pico/2011111O8037478.jpg\" width=\"172\"/>  \n",
       "<img alt=\"苍弓默示录－吞噬时空\" height=\"208\" src=\"http://images.7723.cn/wuza/pico/2011111O8037431.jpg\" width=\"172\"/>  \n",
       "<img alt=\"苍弓默示录－吞噬时空\" height=\"208\" src=\"http://images.7723.cn/wuza/pico/2011111O8037492.jpg\" width=\"172\"/>  \n",
       "<img alt=\"苍弓默示录－吞噬时空\" height=\"208\" src=\"http://images.7723.cn/wuza/pico/2011111O8037477.jpg\" width=\"172\"/>  \n",
       "</li>\n",
       "</ul>"
      ]
     },
     "execution_count": 43,
     "metadata": {},
     "output_type": "execute_result"
    }
   ],
   "source": [
    "container_list[1]"
   ]
  },
  {
   "cell_type": "code",
   "execution_count": 44,
   "metadata": {},
   "outputs": [
    {
     "data": {
      "text/plain": [
       "[<img alt=\"苍弓默示录－吞噬时空\" height=\"208\" src=\"http://images.7723.cn/wuza/pico/2011111O800703.jpg\" width=\"172\"/>,\n",
       " <img alt=\"苍弓默示录－吞噬时空\" height=\"208\" src=\"http://images.7723.cn/wuza/pico/2011111O8037376.jpg\" width=\"172\"/>,\n",
       " <img alt=\"苍弓默示录－吞噬时空\" height=\"208\" src=\"http://images.7723.cn/wuza/pico/2011111O8037478.jpg\" width=\"172\"/>,\n",
       " <img alt=\"苍弓默示录－吞噬时空\" height=\"208\" src=\"http://images.7723.cn/wuza/pico/2011111O8037431.jpg\" width=\"172\"/>,\n",
       " <img alt=\"苍弓默示录－吞噬时空\" height=\"208\" src=\"http://images.7723.cn/wuza/pico/2011111O8037492.jpg\" width=\"172\"/>,\n",
       " <img alt=\"苍弓默示录－吞噬时空\" height=\"208\" src=\"http://images.7723.cn/wuza/pico/2011111O8037477.jpg\" width=\"172\"/>]"
      ]
     },
     "execution_count": 44,
     "metadata": {},
     "output_type": "execute_result"
    }
   ],
   "source": [
    "container_list[1].select('img')"
   ]
  },
  {
   "cell_type": "code",
   "execution_count": 45,
   "metadata": {},
   "outputs": [
    {
     "data": {
      "text/plain": [
       "['http://images.7723.cn/wuza/pico/2011111O800703.jpg',\n",
       " 'http://images.7723.cn/wuza/pico/2011111O8037376.jpg',\n",
       " 'http://images.7723.cn/wuza/pico/2011111O8037478.jpg',\n",
       " 'http://images.7723.cn/wuza/pico/2011111O8037431.jpg',\n",
       " 'http://images.7723.cn/wuza/pico/2011111O8037492.jpg',\n",
       " 'http://images.7723.cn/wuza/pico/2011111O8037477.jpg']"
      ]
     },
     "execution_count": 45,
     "metadata": {},
     "output_type": "execute_result"
    }
   ],
   "source": [
    "promotion_images = [imgE.attrs['src'] for imgE in container_list[1].select('img')]\n",
    "promotion_images"
   ]
  },
  {
   "cell_type": "markdown",
   "metadata": {},
   "source": [
    "# Retrieve URLs for download for multiple phone models"
   ]
  },
  {
   "cell_type": "code",
   "execution_count": 46,
   "metadata": {
    "scrolled": true
   },
   "outputs": [
    {
     "data": {
      "text/plain": [
       "<ul class=\"container\">\n",
       "<div id=\"subMenu\">\n",
       "<div id=\"search\">\n",
       "<form action=\"http://www.7723.cn/downloads.asp?\" method=\"get\" target=\"_blank\">\n",
       "<p>\n",
       "<label for=\"searchWorks\">快速搜索机型:</label>\n",
       "<input name=\"idd\" type=\"hidden\" value=\"5\">\n",
       "<input name=\"id\" type=\"hidden\" value=\"10420\">\n",
       "<input id=\"searchWorks\" name=\"jxgob\" type=\"text\" value=\"\"/>\n",
       "</input></input></p>\n",
       "<p>\n",
       "<input id=\"search_btn\" type=\"submit\" value=\"\"/>\n",
       "</p>\n",
       "</form>\n",
       "</div>\n",
       "</div>\n",
       "<li>\n",
       "<h3><a href=\"http://www.7723.cn/downb.asp?idd=5&amp;id=10420&amp;ksp=1\" target=\"_blank\">点击下载[jar] 883K</a></h3>\n",
       "<p>诺基亚 N70系列(176×208)<br/>7610 3230 6600 6260 6620 6630 6670 6680 6681 6682 N70 N72 ;松下: X700 X800 ;联想: P930<br/></p>\n",
       "</li>\n",
       "<li>\n",
       "<h3><a href=\"http://www.7723.cn/downb.asp?idd=5&amp;id=10420&amp;ksp=2\" target=\"_blank\">点击下载[jar] 1,281K</a></h3>\n",
       "<p>诺基亚 N73系列(240×320)<br/>N73 5320 5320XM 5320di_XM 5630XM 5700 5700XM 5710XM 5730XM 6110 6110N 6120 6120C 6120ci 6121 6122C 6124C 6210S 6210ci 6220C 6290 6650F 6700S 6702S 6710N 6720C 6730c 6788 6788I 6790 C5 C5-01 E101 E50 E51 E52 E55 E65 E66 E75 X5-00 X5-01 N71 N73ie N75 N76 N76-1 N77 N78 N79 N79 Eco N81 N81 8GB N82 N85 N86 N92 N93 N93I N95 N958G N95 8GB N95-3 NAM N96<br/></p>\n",
       "</li>\n",
       "<li>\n",
       "<h3><a href=\"http://www.7723.cn/downb.asp?idd=5&amp;id=10420&amp;ksp=3\" target=\"_blank\">点击下载[jar] 913K</a></h3>\n",
       "<p>诺基亚 N7370系列(240×320)<br/>7370 2700C 2710C 2710N 2730C 3120C 3208C 3600S 3602S 3610A 3610F 3620 3710F 3711 3720C 3806 5000 5000D 5130 5130C 5132 5132XM 5220 5220XM 5300 5310 5310XM 5330XM 5610 5610D 5610XM 5611 5611XM 6126 6131 6131I 6131NF 6133 6202C 6208C 6212 6233 6234 6263 6265 6265I 6267 6268 6270 6275 6275I 6280 6282 6288 6300 6300I 6301 6303C 6303CI 6303CLASSIC 6303I 6316S 6350 6500 6500C 6500S 6555 6600F 6600I 6600S 6600IS 6650T 6700S 6750 7020 7100 7100S 7205 7230 7210S 7212C 7230 7310C 7373 7390 7500 7500P 7510A 7510S 7610S 7612S 7705 7900 7900P 8208 8600 8600L 8800A 8800CA 8800DA 8800E 8800GA 8900 C2-01 C2-06 C3-01 C3-01M C3-03<br/></p>\n",
       "</li>\n",
       "<li>\n",
       "<h3><a href=\"http://www.7723.cn/downb.asp?idd=5&amp;id=10420&amp;ksp=4\" target=\"_blank\">点击下载[jar] 1,314K</a></h3>\n",
       "<p>诺基亚 N97系列(360×640)<br/>N97 5228 5230 5230XM 5232 5233 5235 5236 5238 5250 5530 5530XM 5800 5800I 5800XM 5800W 5802XM 5900XM 6788I C5-03 C5-04 C6 C6-00 C6-01 C7 C7-00I E7 E7-00 I8910 SAGA SATIO X6 X6M X7 N8 N8-00 N97I N97MINI NURON ；索爱：U1I U5I(VIVAZ) U8I Satio IDOU ；三星：I8910 I8910U M8;000<br/></p>\n",
       "</li>\n",
       "<li>\n",
       "<h3><a href=\"http://www.7723.cn/downb.asp?idd=5&amp;id=10420&amp;ksp=5\" target=\"_blank\">点击下载[jar] 883K</a></h3>\n",
       "<p>诺基亚 3250系列(176×208)<br/>3250 N91 N91 8GB<br/></p>\n",
       "</li>\n",
       "<li>\n",
       "<h3><a href=\"http://www.7723.cn/downb.asp?idd=5&amp;id=10420&amp;ksp=6\" target=\"_blank\">点击下载[jar] 913K</a></h3>\n",
       "<p>摩托罗拉 A1000系列(208×320)<br/>A920 A925 A1000 A1010 M1000<br/></p>\n",
       "</li>\n",
       "<li>\n",
       "<h3><a href=\"http://www.7723.cn/downb.asp?idd=5&amp;id=10420&amp;ksp=7\" target=\"_blank\">点击下载[jar] 918K</a></h3>\n",
       "<p>摩托罗拉 E6系列(240×320)<br/>E6 E6E A1200 A1200E A1200R A1208 A1600 A1800 ROKRE6<br/></p>\n",
       "</li>\n",
       "<li>\n",
       "<h3><a href=\"http://www.7723.cn/downb.asp?idd=5&amp;id=10420&amp;ksp=8\" target=\"_blank\">点击下载[jar] 1,270K</a></h3>\n",
       "<p>诺基亚 E62系列(320×240)<br 5630xm=\"\" 7100s=\"\" c3=\"\" e5=\"\" e5-00=\"\" e5-00m=\"\" e61=\"\" e61i=\"\" e62=\"\" e63=\"\" e71=\"\" e71x=\"\" e72=\"\" e72i=\"\" e73=\"\" mythic=\"\" x2-01=\"\" x2-03=\"\" x5-01<br=\"\"/></p>\n",
       "</li>\n",
       "<li>\n",
       "<h3><a href=\"http://www.7723.cn/downb.asp?idd=5&amp;id=10420&amp;ksp=9\" target=\"_blank\">点击下载[jar] 918K</a></h3>\n",
       "<p>摩托罗拉 E680系列(240×320)<br/>E680 A780 E680i E680g E690<br/></p>\n",
       "</li>\n",
       "<li>\n",
       "<h3><a href=\"http://www.7723.cn/downb.asp?idd=5&amp;id=10420&amp;ksp=10\" target=\"_blank\">点击下载[jar] 1,276K</a></h3>\n",
       "<p>索爱 K790系列(240×320)<br/>K790 C510 C702 C702C G900C C901 C902 C902C C903 C905 C905C G502 G502C G700C G705 K660 K660I K770 K770I K790C K800 K800C K800I K810 K810C K810I K818 K818C K850 K850I K858 K858C K880 T650I T658 T658C T700 T707 T715 W508 W518A W580 W580C W580I W595 W595C W660I W705 W707 W715 W760 W760C W760I W830 W830C W830I W850 w880 W880I W888 W888C W890 W890I W898 W898C W900 W900C W900I W902 W908 W908C W910 W910I W980 W995 M1I J20 JALOU J105I S500 S500C S500I U100I Z750 Z750I Z770 Z770I Z780 Z780I<br/></p>\n",
       "</li>\n",
       "<li>\n",
       "<h3><a href=\"http://www.7723.cn/downb.asp?idd=5&amp;id=10420&amp;ksp=11\" target=\"_blank\">点击下载[jar] 1,281K</a></h3>\n",
       "<p>三星 I450系列(240×320)<br/>B5210U G810 G818 G818E I400 I408 I450 I458 I520 I550 I550W I558 I560 I568 I570 I7110 I780 I8510 I8510C I900 INNOV8 L870 L878 L878E SGH-I570<br/></p>\n",
       "</li>\n",
       "<li>\n",
       "<h3><a href=\"http://www.7723.cn/downb.asp?idd=5&amp;id=10420&amp;ksp=12\" target=\"_blank\">点击下载[jar] 913K</a></h3>\n",
       "<p>摩托罗 V8拉系列(240×320)<br/>E895 V8 V82GB RAZRV8 RAZRV82GB RAZRV6 RAZRV3xx RIZR-Z8 ROKR Z6 Z10<br/></p>\n",
       "</li>\n",
       "<li>\n",
       "<h3><a href=\"http://www.7723.cn/downb.asp?idd=5&amp;id=10420&amp;ksp=13\" target=\"_blank\">点击下载[jar] 913K</a></h3>\n",
       "<p>诺基亚 X3系列(240×320)<br/>X3 6700C X2 X2-01 X2-03 X3-01 X3-02 X3 S40<br/></p>\n",
       "</li>\n",
       "<li>\n",
       "<h3><a href=\"http://www.7723.cn/downb.asp?idd=5&amp;id=10420&amp;ksp=14\" target=\"_blank\">点击下载[jar] 913K</a></h3>\n",
       "<p>大屏通用版(240×320)<br/>支持分辨率为 240x320 的大屏幕手机<br/></p>\n",
       "</li>\n",
       "<li>\n",
       "<h3><a href=\"http://www.7723.cn/downb.asp?idd=5&amp;id=10420&amp;ksp=15\" target=\"_blank\">点击下载[jar] 918K</a></h3>\n",
       "<p>触摸屏通用版(240×320)<br/>支持分辨率为 240x320 触摸屏的手机<br/></p>\n",
       "</li>\n",
       "<li>\n",
       "<h3><a href=\"http://www.7723.cn/downb.asp?idd=5&amp;id=10420&amp;ksp=16\" target=\"_blank\">点击下载[jar] 1,314K</a></h3>\n",
       "<p>触摸屏通用版(360×640)<br/>支持分辨率为 360x640 触摸屏的手机<br/></p>\n",
       "</li>\n",
       "</ul>"
      ]
     },
     "execution_count": 46,
     "metadata": {},
     "output_type": "execute_result"
    }
   ],
   "source": [
    "container_list[2]"
   ]
  },
  {
   "cell_type": "code",
   "execution_count": 47,
   "metadata": {
    "scrolled": true
   },
   "outputs": [
    {
     "data": {
      "text/plain": [
       "[<li>\n",
       " <h3><a href=\"http://www.7723.cn/downb.asp?idd=5&amp;id=10420&amp;ksp=1\" target=\"_blank\">点击下载[jar] 883K</a></h3>\n",
       " <p>诺基亚 N70系列(176×208)<br/>7610 3230 6600 6260 6620 6630 6670 6680 6681 6682 N70 N72 ;松下: X700 X800 ;联想: P930<br/></p>\n",
       " </li>,\n",
       " <li>\n",
       " <h3><a href=\"http://www.7723.cn/downb.asp?idd=5&amp;id=10420&amp;ksp=2\" target=\"_blank\">点击下载[jar] 1,281K</a></h3>\n",
       " <p>诺基亚 N73系列(240×320)<br/>N73 5320 5320XM 5320di_XM 5630XM 5700 5700XM 5710XM 5730XM 6110 6110N 6120 6120C 6120ci 6121 6122C 6124C 6210S 6210ci 6220C 6290 6650F 6700S 6702S 6710N 6720C 6730c 6788 6788I 6790 C5 C5-01 E101 E50 E51 E52 E55 E65 E66 E75 X5-00 X5-01 N71 N73ie N75 N76 N76-1 N77 N78 N79 N79 Eco N81 N81 8GB N82 N85 N86 N92 N93 N93I N95 N958G N95 8GB N95-3 NAM N96<br/></p>\n",
       " </li>,\n",
       " <li>\n",
       " <h3><a href=\"http://www.7723.cn/downb.asp?idd=5&amp;id=10420&amp;ksp=3\" target=\"_blank\">点击下载[jar] 913K</a></h3>\n",
       " <p>诺基亚 N7370系列(240×320)<br/>7370 2700C 2710C 2710N 2730C 3120C 3208C 3600S 3602S 3610A 3610F 3620 3710F 3711 3720C 3806 5000 5000D 5130 5130C 5132 5132XM 5220 5220XM 5300 5310 5310XM 5330XM 5610 5610D 5610XM 5611 5611XM 6126 6131 6131I 6131NF 6133 6202C 6208C 6212 6233 6234 6263 6265 6265I 6267 6268 6270 6275 6275I 6280 6282 6288 6300 6300I 6301 6303C 6303CI 6303CLASSIC 6303I 6316S 6350 6500 6500C 6500S 6555 6600F 6600I 6600S 6600IS 6650T 6700S 6750 7020 7100 7100S 7205 7230 7210S 7212C 7230 7310C 7373 7390 7500 7500P 7510A 7510S 7610S 7612S 7705 7900 7900P 8208 8600 8600L 8800A 8800CA 8800DA 8800E 8800GA 8900 C2-01 C2-06 C3-01 C3-01M C3-03<br/></p>\n",
       " </li>,\n",
       " <li>\n",
       " <h3><a href=\"http://www.7723.cn/downb.asp?idd=5&amp;id=10420&amp;ksp=4\" target=\"_blank\">点击下载[jar] 1,314K</a></h3>\n",
       " <p>诺基亚 N97系列(360×640)<br/>N97 5228 5230 5230XM 5232 5233 5235 5236 5238 5250 5530 5530XM 5800 5800I 5800XM 5800W 5802XM 5900XM 6788I C5-03 C5-04 C6 C6-00 C6-01 C7 C7-00I E7 E7-00 I8910 SAGA SATIO X6 X6M X7 N8 N8-00 N97I N97MINI NURON ；索爱：U1I U5I(VIVAZ) U8I Satio IDOU ；三星：I8910 I8910U M8;000<br/></p>\n",
       " </li>,\n",
       " <li>\n",
       " <h3><a href=\"http://www.7723.cn/downb.asp?idd=5&amp;id=10420&amp;ksp=5\" target=\"_blank\">点击下载[jar] 883K</a></h3>\n",
       " <p>诺基亚 3250系列(176×208)<br/>3250 N91 N91 8GB<br/></p>\n",
       " </li>,\n",
       " <li>\n",
       " <h3><a href=\"http://www.7723.cn/downb.asp?idd=5&amp;id=10420&amp;ksp=6\" target=\"_blank\">点击下载[jar] 913K</a></h3>\n",
       " <p>摩托罗拉 A1000系列(208×320)<br/>A920 A925 A1000 A1010 M1000<br/></p>\n",
       " </li>,\n",
       " <li>\n",
       " <h3><a href=\"http://www.7723.cn/downb.asp?idd=5&amp;id=10420&amp;ksp=7\" target=\"_blank\">点击下载[jar] 918K</a></h3>\n",
       " <p>摩托罗拉 E6系列(240×320)<br/>E6 E6E A1200 A1200E A1200R A1208 A1600 A1800 ROKRE6<br/></p>\n",
       " </li>,\n",
       " <li>\n",
       " <h3><a href=\"http://www.7723.cn/downb.asp?idd=5&amp;id=10420&amp;ksp=8\" target=\"_blank\">点击下载[jar] 1,270K</a></h3>\n",
       " <p>诺基亚 E62系列(320×240)<br 5630xm=\"\" 7100s=\"\" c3=\"\" e5=\"\" e5-00=\"\" e5-00m=\"\" e61=\"\" e61i=\"\" e62=\"\" e63=\"\" e71=\"\" e71x=\"\" e72=\"\" e72i=\"\" e73=\"\" mythic=\"\" x2-01=\"\" x2-03=\"\" x5-01<br=\"\"/></p>\n",
       " </li>,\n",
       " <li>\n",
       " <h3><a href=\"http://www.7723.cn/downb.asp?idd=5&amp;id=10420&amp;ksp=9\" target=\"_blank\">点击下载[jar] 918K</a></h3>\n",
       " <p>摩托罗拉 E680系列(240×320)<br/>E680 A780 E680i E680g E690<br/></p>\n",
       " </li>,\n",
       " <li>\n",
       " <h3><a href=\"http://www.7723.cn/downb.asp?idd=5&amp;id=10420&amp;ksp=10\" target=\"_blank\">点击下载[jar] 1,276K</a></h3>\n",
       " <p>索爱 K790系列(240×320)<br/>K790 C510 C702 C702C G900C C901 C902 C902C C903 C905 C905C G502 G502C G700C G705 K660 K660I K770 K770I K790C K800 K800C K800I K810 K810C K810I K818 K818C K850 K850I K858 K858C K880 T650I T658 T658C T700 T707 T715 W508 W518A W580 W580C W580I W595 W595C W660I W705 W707 W715 W760 W760C W760I W830 W830C W830I W850 w880 W880I W888 W888C W890 W890I W898 W898C W900 W900C W900I W902 W908 W908C W910 W910I W980 W995 M1I J20 JALOU J105I S500 S500C S500I U100I Z750 Z750I Z770 Z770I Z780 Z780I<br/></p>\n",
       " </li>,\n",
       " <li>\n",
       " <h3><a href=\"http://www.7723.cn/downb.asp?idd=5&amp;id=10420&amp;ksp=11\" target=\"_blank\">点击下载[jar] 1,281K</a></h3>\n",
       " <p>三星 I450系列(240×320)<br/>B5210U G810 G818 G818E I400 I408 I450 I458 I520 I550 I550W I558 I560 I568 I570 I7110 I780 I8510 I8510C I900 INNOV8 L870 L878 L878E SGH-I570<br/></p>\n",
       " </li>,\n",
       " <li>\n",
       " <h3><a href=\"http://www.7723.cn/downb.asp?idd=5&amp;id=10420&amp;ksp=12\" target=\"_blank\">点击下载[jar] 913K</a></h3>\n",
       " <p>摩托罗 V8拉系列(240×320)<br/>E895 V8 V82GB RAZRV8 RAZRV82GB RAZRV6 RAZRV3xx RIZR-Z8 ROKR Z6 Z10<br/></p>\n",
       " </li>,\n",
       " <li>\n",
       " <h3><a href=\"http://www.7723.cn/downb.asp?idd=5&amp;id=10420&amp;ksp=13\" target=\"_blank\">点击下载[jar] 913K</a></h3>\n",
       " <p>诺基亚 X3系列(240×320)<br/>X3 6700C X2 X2-01 X2-03 X3-01 X3-02 X3 S40<br/></p>\n",
       " </li>,\n",
       " <li>\n",
       " <h3><a href=\"http://www.7723.cn/downb.asp?idd=5&amp;id=10420&amp;ksp=14\" target=\"_blank\">点击下载[jar] 913K</a></h3>\n",
       " <p>大屏通用版(240×320)<br/>支持分辨率为 240x320 的大屏幕手机<br/></p>\n",
       " </li>,\n",
       " <li>\n",
       " <h3><a href=\"http://www.7723.cn/downb.asp?idd=5&amp;id=10420&amp;ksp=15\" target=\"_blank\">点击下载[jar] 918K</a></h3>\n",
       " <p>触摸屏通用版(240×320)<br/>支持分辨率为 240x320 触摸屏的手机<br/></p>\n",
       " </li>,\n",
       " <li>\n",
       " <h3><a href=\"http://www.7723.cn/downb.asp?idd=5&amp;id=10420&amp;ksp=16\" target=\"_blank\">点击下载[jar] 1,314K</a></h3>\n",
       " <p>触摸屏通用版(360×640)<br/>支持分辨率为 360x640 触摸屏的手机<br/></p>\n",
       " </li>]"
      ]
     },
     "execution_count": 47,
     "metadata": {},
     "output_type": "execute_result"
    }
   ],
   "source": [
    "container_list[2].select('li')"
   ]
  },
  {
   "cell_type": "code",
   "execution_count": 48,
   "metadata": {},
   "outputs": [
    {
     "data": {
      "text/plain": [
       "16"
      ]
     },
     "execution_count": 48,
     "metadata": {},
     "output_type": "execute_result"
    }
   ],
   "source": [
    "len(container_list[2].select('li'))"
   ]
  },
  {
   "cell_type": "code",
   "execution_count": 49,
   "metadata": {},
   "outputs": [],
   "source": [
    "download_containers = container_list[2].select('li')"
   ]
  },
  {
   "cell_type": "code",
   "execution_count": 50,
   "metadata": {},
   "outputs": [
    {
     "data": {
      "text/plain": [
       "<li>\n",
       "<h3><a href=\"http://www.7723.cn/downb.asp?idd=5&amp;id=10420&amp;ksp=1\" target=\"_blank\">点击下载[jar] 883K</a></h3>\n",
       "<p>诺基亚 N70系列(176×208)<br/>7610 3230 6600 6260 6620 6630 6670 6680 6681 6682 N70 N72 ;松下: X700 X800 ;联想: P930<br/></p>\n",
       "</li>"
      ]
     },
     "execution_count": 50,
     "metadata": {},
     "output_type": "execute_result"
    }
   ],
   "source": [
    "download_container = download_containers[0]\n",
    "download_container"
   ]
  },
  {
   "cell_type": "code",
   "execution_count": 51,
   "metadata": {},
   "outputs": [
    {
     "data": {
      "text/plain": [
       "'http://www.7723.cn/downb.asp?idd=5&id=10420&ksp=1'"
      ]
     },
     "execution_count": 51,
     "metadata": {},
     "output_type": "execute_result"
    }
   ],
   "source": [
    "download_link = download_container.select_one('a').attrs['href']\n",
    "download_link"
   ]
  },
  {
   "cell_type": "code",
   "execution_count": 54,
   "metadata": {},
   "outputs": [
    {
     "data": {
      "text/plain": [
       "<p>诺基亚 N70系列(176×208)<br/>7610 3230 6600 6260 6620 6630 6670 6680 6681 6682 N70 N72 ;松下: X700 X800 ;联想: P930<br/></p>"
      ]
     },
     "execution_count": 54,
     "metadata": {},
     "output_type": "execute_result"
    }
   ],
   "source": [
    "download_desc_element = download_container.select_one('p')\n",
    "download_desc_element"
   ]
  },
  {
   "cell_type": "code",
   "execution_count": 60,
   "metadata": {},
   "outputs": [
    {
     "data": {
      "text/plain": [
       "'诺基亚 N70系列(176×208)7610 3230 6600 6260 6620 6630 6670 6680 6681 6682 N70 N72 ;松下: X700 X800 ;联想: P930'"
      ]
     },
     "execution_count": 60,
     "metadata": {},
     "output_type": "execute_result"
    }
   ],
   "source": [
    "download_desc = download_desc_element.text\n",
    "download_desc"
   ]
  },
  {
   "cell_type": "code",
   "execution_count": 66,
   "metadata": {},
   "outputs": [
    {
     "data": {
      "text/plain": [
       "<re.Match object; span=(9, 18), match='(176×208)'>"
      ]
     },
     "execution_count": 66,
     "metadata": {},
     "output_type": "execute_result"
    }
   ],
   "source": [
    "resolution_search_result = re.search(r'\\((\\d+)×(\\d+)\\)', download_desc)\n",
    "resolution_search_result"
   ]
  },
  {
   "cell_type": "code",
   "execution_count": 68,
   "metadata": {},
   "outputs": [
    {
     "data": {
      "text/plain": [
       "9"
      ]
     },
     "execution_count": 68,
     "metadata": {},
     "output_type": "execute_result"
    }
   ],
   "source": [
    "resolution_search_result.start()"
   ]
  },
  {
   "cell_type": "code",
   "execution_count": 69,
   "metadata": {},
   "outputs": [
    {
     "data": {
      "text/plain": [
       "'诺基亚 N70系列'"
      ]
     },
     "execution_count": 69,
     "metadata": {},
     "output_type": "execute_result"
    }
   ],
   "source": [
    "download_desc[:resolution_search_result.start()]"
   ]
  },
  {
   "cell_type": "code",
   "execution_count": 70,
   "metadata": {},
   "outputs": [
    {
     "data": {
      "text/plain": [
       "'(176×208)'"
      ]
     },
     "execution_count": 70,
     "metadata": {},
     "output_type": "execute_result"
    }
   ],
   "source": [
    "resolution_text = download_desc[resolution_search_result.start():resolution_search_result.end()]\n",
    "resolution_text"
   ]
  },
  {
   "cell_type": "code",
   "execution_count": 73,
   "metadata": {},
   "outputs": [
    {
     "data": {
      "text/plain": [
       "'176x208'"
      ]
     },
     "execution_count": 73,
     "metadata": {},
     "output_type": "execute_result"
    }
   ],
   "source": [
    "resolution_text = resolution_text.replace('×', 'x')\n",
    "resolution_text = re.sub(r'[\\(\\)]+', '', resolution_text)\n",
    "resolution_text"
   ]
  },
  {
   "cell_type": "code",
   "execution_count": 75,
   "metadata": {},
   "outputs": [
    {
     "data": {
      "text/plain": [
       "'诺基亚 N70系列'"
      ]
     },
     "execution_count": 75,
     "metadata": {},
     "output_type": "execute_result"
    }
   ],
   "source": [
    "model_desc = download_desc[:resolution_search_result.start()]\n",
    "model_desc"
   ]
  },
  {
   "cell_type": "code",
   "execution_count": 97,
   "metadata": {},
   "outputs": [
    {
     "data": {
      "text/plain": [
       "<re.Match object; span=(0, 3), match='诺基亚'>"
      ]
     },
     "execution_count": 97,
     "metadata": {},
     "output_type": "execute_result"
    }
   ],
   "source": [
    "model_sr = re.search(r'\\w+', model_desc)\n",
    "model_sr"
   ]
  },
  {
   "cell_type": "code",
   "execution_count": 98,
   "metadata": {},
   "outputs": [
    {
     "data": {
      "text/plain": [
       "<re.Match object; span=(3, 7), match=' N70'>"
      ]
     },
     "execution_count": 98,
     "metadata": {},
     "output_type": "execute_result"
    }
   ],
   "source": [
    "model_sr = re.search(r'[\\x00-\\x7F]+', model_desc)\n",
    "model_sr"
   ]
  },
  {
   "cell_type": "code",
   "execution_count": 100,
   "metadata": {},
   "outputs": [
    {
     "data": {
      "text/plain": [
       "'N70'"
      ]
     },
     "execution_count": 100,
     "metadata": {},
     "output_type": "execute_result"
    }
   ],
   "source": [
    "phone_model_text = model_desc[model_sr.start():model_sr.end()]\n",
    "phone_model_text = phone_model_text.replace(' ', '')\n",
    "phone_model_text"
   ]
  },
  {
   "cell_type": "code",
   "execution_count": 102,
   "metadata": {},
   "outputs": [
    {
     "data": {
      "text/plain": [
       "'http://www.7723.cn/downb.asp?idd=5&id=10420&ksp=1'"
      ]
     },
     "execution_count": 102,
     "metadata": {},
     "output_type": "execute_result"
    }
   ],
   "source": [
    "download_link"
   ]
  },
  {
   "cell_type": "code",
   "execution_count": 105,
   "metadata": {},
   "outputs": [
    {
     "data": {
      "text/plain": [
       "True"
      ]
     },
     "execution_count": 105,
     "metadata": {},
     "output_type": "execute_result"
    }
   ],
   "source": [
    "download_page = requests.post(download_link)\n",
    "download_page.ok"
   ]
  },
  {
   "cell_type": "code",
   "execution_count": 106,
   "metadata": {},
   "outputs": [
    {
     "data": {
      "text/plain": [
       "904556"
      ]
     },
     "execution_count": 106,
     "metadata": {},
     "output_type": "execute_result"
    }
   ],
   "source": [
    "len(download_page.content)"
   ]
  }
 ],
 "metadata": {
  "kernelspec": {
   "display_name": "Python 3",
   "language": "python",
   "name": "python3"
  },
  "language_info": {
   "codemirror_mode": {
    "name": "ipython",
    "version": 3
   },
   "file_extension": ".py",
   "mimetype": "text/x-python",
   "name": "python",
   "nbconvert_exporter": "python",
   "pygments_lexer": "ipython3",
   "version": "3.7.6"
  }
 },
 "nbformat": 4,
 "nbformat_minor": 4
}
