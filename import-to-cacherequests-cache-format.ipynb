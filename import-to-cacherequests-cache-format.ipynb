{
	"cells": [
		{
			"cell_type": "code",
			"execution_count": 18,
			"id": "0f3b859d",
			"metadata": {},
			"outputs": [],
			"source": [
				"import os\n",
				"import io\n",
				"import time\n",
				"import hashlib\n",
				"import json\n",
				"import pickle\n",
				"import traceback\n",
				"import urllib\n",
				"import urllib.parse\n",
				"import stat\n",
				"\n",
				"import tqdm"
			]
		},
		{
			"cell_type": "code",
			"execution_count": 3,
			"id": "7f67dd48",
			"metadata": {},
			"outputs": [
				{
					"data": {
						"text/plain": [
							"list"
						]
					},
					"execution_count": 3,
					"metadata": {},
					"output_type": "execute_result"
				}
			],
			"source": [
				"with open('tmp_pickle_files/url_info_list-1650285069904349100', 'rb') as infile:\n",
				"    url_info_list = pickle.load(infile)\n",
				"type(url_info_list)"
			]
		},
		{
			"cell_type": "code",
			"execution_count": 4,
			"id": "d60d3a8b",
			"metadata": {},
			"outputs": [
				{
					"data": {
						"text/plain": [
							"{'url': 'http://images.7723.cn/admin/zzxpic/200511151517531850533E-02.gif',\n",
							" 'url_hash': '117e9d406e5e67ba5d0b275e8b347c26',\n",
							" 'cache_path': '.requests_cache\\\\11\\\\117e9d406e5e67ba5d0b275e8b347c26',\n",
							" 'response_size': 0,\n",
							" 'response_md5hash': b'\\xd4\\x1d\\x8c\\xd9\\x8f\\x00\\xb2\\x04\\xe9\\x80\\t\\x98\\xec\\xf8B~'}"
						]
					},
					"execution_count": 4,
					"metadata": {},
					"output_type": "execute_result"
				}
			],
			"source": [
				"url_info_list[0]"
			]
		},
		{
			"cell_type": "code",
			"execution_count": 20,
			"id": "f1e927f0",
			"metadata": {},
			"outputs": [
				{
					"name": "stderr",
					"output_type": "stream",
					"text": [
						"100%|██████████████████████████████████████████████████████████████████████| 182366/182366 [00:00<00:00, 744781.16it/s]\n"
					]
				}
			],
			"source": [
				"new_cache_format_list = []\n",
				"error_entry_list = []\n",
				"zero_size_entry_list = []\n",
				"\n",
				"for url_info in tqdm.tqdm(url_info_list):\n",
				"    try:\n",
				"        body_content_size = url_info['response_size']\n",
				"        if body_content_size == 0:\n",
				"            zero_size_entry_list.append(url_info)\n",
				"            continue\n",
				"\n",
				"        url = url_info['url']\n",
				"        body_content_md5_hash_bs = url_info['response_md5hash']\n",
				"        body_content_md5_hash = body_content_md5_hash_bs.hex()\n",
				"        body_content_md5_size_key = f'{body_content_md5_hash}-{body_content_size}'\n",
				"\n",
				"        new_cache_format_list.append({\n",
				"            'url': url,\n",
				"            'body_content_md5_size_key': body_content_md5_size_key,\n",
				"        })\n",
				"    except Exception as ex:\n",
				"        stacktrace = traceback.format_exc()\n",
				"        error_entry_list.append({\n",
				"            'url_info': url_info,\n",
				"            'exception': ex,\n",
				"            'stacktrace': stacktrace,\n",
				"        })"
			]
		},
		{
			"cell_type": "code",
			"execution_count": 21,
			"id": "ec6c9bc9",
			"metadata": {},
			"outputs": [
				{
					"data": {
						"text/plain": [
							"172770"
						]
					},
					"execution_count": 21,
					"metadata": {},
					"output_type": "execute_result"
				}
			],
			"source": [
				"len(new_cache_format_list)"
			]
		},
		{
			"cell_type": "code",
			"execution_count": 23,
			"id": "7c6db9a1",
			"metadata": {},
			"outputs": [
				{
					"data": {
						"text/plain": [
							"9595"
						]
					},
					"execution_count": 23,
					"metadata": {},
					"output_type": "execute_result"
				}
			],
			"source": [
				"len(zero_size_entry_list)"
			]
		},
		{
			"cell_type": "code",
			"execution_count": 22,
			"id": "8038f04d",
			"metadata": {},
			"outputs": [
				{
					"data": {
						"text/plain": [
							"1"
						]
					},
					"execution_count": 22,
					"metadata": {},
					"output_type": "execute_result"
				}
			],
			"source": [
				"len(error_entry_list)"
			]
		},
		{
			"cell_type": "code",
			"execution_count": 11,
			"id": "e8f1193b",
			"metadata": {},
			"outputs": [
				{
					"data": {
						"text/plain": [
							"[{'url_info': {'url': 'http://www.7723.cn/downb.asp?idd=6&id=22&ksp=6',\n",
							"   'url_hash': 'fc2cabf6e440dcc364991de186d76067',\n",
							"   'cache_path': '.requests_cache\\\\fc\\\\fc2cabf6e440dcc364991de186d76067'},\n",
							"  'exception': KeyError('response_md5hash'),\n",
							"  'stacktrace': 'Traceback (most recent call last):\\n  File \"<ipython-input-8-e08d6e3996f8>\", line 7, in <module>\\n    body_content_md5_hash_bs = url_info[\\'response_md5hash\\']\\nKeyError: \\'response_md5hash\\'\\n'}]"
						]
					},
					"execution_count": 11,
					"metadata": {},
					"output_type": "execute_result"
				}
			],
			"source": [
				"error_entry_list"
			]
		},
		{
			"cell_type": "code",
			"execution_count": 12,
			"id": "bd3b5d95",
			"metadata": {},
			"outputs": [
				{
					"name": "stdout",
					"output_type": "stream",
					"text": [
						"Using cache directory from environment variable cacherequests_cache_dir\n"
					]
				}
			],
			"source": [
				"ENV_VAR_NAME_CACHE_DIR = 'cacherequests_cache_dir'\n",
				"# check for environment variable\n",
				"if ENV_VAR_NAME_CACHE_DIR in os.environ:\n",
				"    print(f'Using cache directory from environment variable {ENV_VAR_NAME_CACHE_DIR}')\n",
				"    CACHE_ROOT_DIR = os.environ[ENV_VAR_NAME_CACHE_DIR]\n",
				"else:\n",
				"    print(f'warning: Using cache directory from default value')\n",
				"    ROOT = os.path.dirname(os.path.realpath(__file__))\n",
				"    CACHE_ROOT_DIR = os.path.join(ROOT, 'cache')\n",
				"\n",
				"if not os.path.exists(CACHE_ROOT_DIR):\n",
				"    os.makedirs(CACHE_ROOT_DIR)\n",
				"if not os.path.isdir(CACHE_ROOT_DIR):\n",
				"    raise Exception(f'{CACHE_ROOT_DIR} is not a directory!')\n",
				"\n",
				"HEADER_CONTENT_CACHE_DIR = os.path.join(CACHE_ROOT_DIR, 'headers')\n",
				"BODY_CONTENT_CACHE_DIR = os.path.join(CACHE_ROOT_DIR, 'bodies')\n",
				"REQUEST_CACHE_DIR = os.path.join(CACHE_ROOT_DIR, 'requests')\n",
				"\n",
				"MAIN_DATABASE_CACHE_DIR = os.path.join(CACHE_ROOT_DIR, 'main_database')\n",
				"MAX_CACHE_SIZE_BYTES = 16777216  # 16MB"
			]
		},
		{
			"cell_type": "code",
			"execution_count": 13,
			"id": "312801e2",
			"metadata": {},
			"outputs": [
				{
					"data": {
						"text/plain": [
							"'D:\\\\cacherequests_cache_dir\\\\headers'"
						]
					},
					"execution_count": 13,
					"metadata": {},
					"output_type": "execute_result"
				}
			],
			"source": [
				"HEADER_CONTENT_CACHE_DIR"
			]
		},
		{
			"cell_type": "code",
			"execution_count": 14,
			"id": "eba551d6",
			"metadata": {},
			"outputs": [
				{
					"data": {
						"text/plain": [
							"'D:\\\\cacherequests_cache_dir\\\\bodies'"
						]
					},
					"execution_count": 14,
					"metadata": {},
					"output_type": "execute_result"
				}
			],
			"source": [
				"BODY_CONTENT_CACHE_DIR"
			]
		},
		{
			"cell_type": "code",
			"execution_count": 15,
			"id": "e0c8f77e",
			"metadata": {},
			"outputs": [
				{
					"data": {
						"text/plain": [
							"'D:\\\\cacherequests_cache_dir\\\\requests'"
						]
					},
					"execution_count": 15,
					"metadata": {},
					"output_type": "execute_result"
				}
			],
			"source": [
				"REQUEST_CACHE_DIR"
			]
		},
		{
			"cell_type": "code",
			"execution_count": 16,
			"id": "2ce847bd",
			"metadata": {},
			"outputs": [
				{
					"data": {
						"text/plain": [
							"'D:\\\\cacherequests_cache_dir\\\\main_database'"
						]
					},
					"execution_count": 16,
					"metadata": {},
					"output_type": "execute_result"
				}
			],
			"source": [
				"MAIN_DATABASE_CACHE_DIR"
			]
		},
		{
			"cell_type": "code",
			"execution_count": 27,
			"id": "40be31ae",
			"metadata": {},
			"outputs": [],
			"source": [
				"def give_me_a_new_cache_filepath(max_count=65536):\n",
				"    for i in range(max_count):\n",
				"        cache_filename = f'{i}.tsv'\n",
				"        cache_filepath = os.path.join(MAIN_DATABASE_CACHE_DIR, cache_filename)\n",
				"        if not os.path.exists(cache_filepath):\n",
				"            return cache_filepath\n",
				"\n",
				"    raise Exception(f'The number of existing cache log files is {max_count}!')"
			]
		},
		{
			"cell_type": "code",
			"execution_count": 28,
			"id": "59b298bd",
			"metadata": {},
			"outputs": [],
			"source": [
				"def store_response(\n",
				"    url: str,\n",
				"    body_content_md5_size_key: str,\n",
				"):\n",
				"    quoted_url = urllib.parse.quote(url)\n",
				"#     quoted_method = 'GET'\n",
				"\n",
				"    body_cache_key_quoted = urllib.parse.quote(body_content_md5_size_key)\n",
				"\n",
				"    cache_log_line_content = '\\t'.join([\n",
				"        quoted_url,\n",
				"        'GET', #quoted_method,\n",
				"        '', #quoted_status_code,\n",
				"        '', #quoted_request_time_ns,\n",
				"        '',\n",
				"        body_cache_key_quoted,\n",
				"    ])\n",
				"\n",
				"    cache_log_line_content = f'{cache_log_line_content}'\n",
				"    cache_log_line_content_bs = cache_log_line_content.encode('utf-8')\n",
				"    del cache_log_line_content\n",
				"    base_log_content_size = len(cache_log_line_content_bs)\n",
				"\n",
				"    if not os.path.exists(MAIN_DATABASE_CACHE_DIR):\n",
				"        os.makedirs(MAIN_DATABASE_CACHE_DIR)\n",
				"    if not os.path.isdir(MAIN_DATABASE_CACHE_DIR):\n",
				"        raise Exception(f'{MAIN_DATABASE_CACHE_DIR} is not a directory')\n",
				"\n",
				"    child_filename_list = os.listdir(MAIN_DATABASE_CACHE_DIR)\n",
				"    child_file_log_list = []\n",
				"    for child_filename in child_filename_list:\n",
				"        child_filepath = os.path.join(MAIN_DATABASE_CACHE_DIR, child_filename)\n",
				"        file_stat = os.stat(child_filepath)\n",
				"        if not stat.S_ISREG(file_stat.st_mode):\n",
				"            continue\n",
				"\n",
				"        modified_time_ns = file_stat.st_mtime_ns\n",
				"        log_info = {\n",
				"            'filename': child_filename,\n",
				"            'filepath': child_filepath,\n",
				"            'modified_time_ns': modified_time_ns,\n",
				"        }\n",
				"\n",
				"        child_file_log_list.append(log_info)\n",
				"\n",
				"    # sort by modified time with the most recently modified first\n",
				"    child_file_log_list.sort(key=lambda x: x['modified_time_ns'], reverse=True)\n",
				"\n",
				"    if len(child_file_log_list) == 0:\n",
				"        # no cache file exists\n",
				"        cache_filepath = give_me_a_new_cache_filepath()\n",
				"        with open(cache_filepath, 'wb') as outfile:\n",
				"            outfile.write(cache_log_line_content_bs)\n",
				"            return True\n",
				"\n",
				"    latest_child_file_log = child_file_log_list[0]\n",
				"    latest_log_filepath = latest_child_file_log['filepath']\n",
				"    latest_log_filesize = os.path.getsize(latest_log_filepath)\n",
				"\n",
				"    if (latest_log_filesize + base_log_content_size) > MAX_CACHE_SIZE_BYTES:\n",
				"        # the latest cache file is too large\n",
				"        # make a new cache file\n",
				"        cache_filepath = give_me_a_new_cache_filepath()\n",
				"        with open(cache_filepath, 'wb') as outfile:\n",
				"            outfile.write(cache_log_line_content_bs)\n",
				"            return True\n",
				"\n",
				"    # get the last character from the file\n",
				"    with open(latest_log_filepath, 'rb') as infile:\n",
				"        infile.seek(-1, os.SEEK_END)\n",
				"        last_character = infile.read(1)\n",
				"\n",
				"    if last_character == b'\\n':\n",
				"        # append to the latest cache file\n",
				"        with open(latest_log_filepath, 'ab') as outfile:\n",
				"            outfile.write(cache_log_line_content_bs)\n",
				"            return True\n",
				"    else:\n",
				"        # re check the size sum with 1 more byte\n",
				"        if (latest_log_filesize + base_log_content_size + 1) > MAX_CACHE_SIZE_BYTES:\n",
				"            # the latest cache file is too large\n",
				"            # make a new cache file\n",
				"            cache_filepath = give_me_a_new_cache_filepath()\n",
				"            with open(cache_filepath, 'wb') as outfile:\n",
				"                outfile.write(cache_log_line_content_bs)\n",
				"                return True\n",
				"\n",
				"        # append to the latest cache file\n",
				"        with open(latest_log_filepath, 'ab') as outfile:\n",
				"            outfile.write(b'\\n')\n",
				"            outfile.write(cache_log_line_content_bs)\n",
				"            return True"
			]
		},
		{
			"cell_type": "code",
			"execution_count": 29,
			"id": "70933a77",
			"metadata": {},
			"outputs": [
				{
					"name": "stderr",
					"output_type": "stream",
					"text": [
						"100%|████████████████████████████████████████████████████████████████████████| 172770/172770 [01:13<00:00, 2355.45it/s]\n"
					]
				}
			],
			"source": [
				"import_error_list = []\n",
				"not_return_true_import_list = []\n",
				"\n",
				"for url_info in tqdm.tqdm(new_cache_format_list):\n",
				"    try:\n",
				"        retval = store_response(\n",
				"            url=url_info['url'],\n",
				"            body_content_md5_size_key=url_info['body_content_md5_size_key'],\n",
				"        )\n",
				"        \n",
				"        if retval is not True:\n",
				"            not_return_true_import_list.append(url_info)\n",
				"    except Exception as ex:\n",
				"        stacktrace = traceback.format_exc()\n",
				"        import_error_list.append({\n",
				"            'url_info': url_info,\n",
				"            'exception': ex,\n",
				"            'stacktrace': stacktrace,\n",
				"        })"
			]
		},
		{
			"cell_type": "code",
			"execution_count": 30,
			"id": "04399c58",
			"metadata": {},
			"outputs": [
				{
					"data": {
						"text/plain": [
							"0"
						]
					},
					"execution_count": 30,
					"metadata": {},
					"output_type": "execute_result"
				}
			],
			"source": [
				"len(not_return_true_import_list)"
			]
		},
		{
			"cell_type": "code",
			"execution_count": 31,
			"id": "d6a22543",
			"metadata": {},
			"outputs": [
				{
					"data": {
						"text/plain": [
							"0"
						]
					},
					"execution_count": 31,
					"metadata": {},
					"output_type": "execute_result"
				}
			],
			"source": [
				"len(import_error_list)"
			]
		}
	],
	"metadata": {
		"kernelspec": {
			"display_name": "Python 3",
			"language": "python",
			"name": "python3"
		},
		"language_info": {
			"codemirror_mode": {
				"name": "ipython",
				"version": 3
			},
			"file_extension": ".py",
			"mimetype": "text/x-python",
			"name": "python",
			"nbconvert_exporter": "python",
			"pygments_lexer": "ipython3"
		}
	},
	"nbformat": 4,
	"nbformat_minor": 5
}
