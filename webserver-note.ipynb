{
	"cells": [
		{
			"cell_type": "code",
			"execution_count": 9,
			"metadata": {},
			"outputs": [],
			"source": [
				"import os\n",
				"import pickle"
			]
		},
		{
			"cell_type": "code",
			"execution_count": 10,
			"metadata": {},
			"outputs": [
				{
					"data": {
						"text/plain": [
							"'w:\\\\a\\\\coding\\\\download-from-7723.cn'"
						]
					},
					"execution_count": 10,
					"metadata": {},
					"output_type": "execute_result"
				}
			],
			"source": [
				"os.getcwd()"
			]
		},
		{
			"cell_type": "code",
			"execution_count": 11,
			"metadata": {},
			"outputs": [
				{
					"data": {
						"text/plain": [
							"True"
						]
					},
					"execution_count": 11,
					"metadata": {},
					"output_type": "execute_result"
				}
			],
			"source": [
				"game_obj_list_filepath = 'tmp_pickle_files/game_obj_list-1650280733912302100.pickle'\n",
				"os.path.exists(game_obj_list_filepath)"
			]
		},
		{
			"cell_type": "code",
			"execution_count": 12,
			"metadata": {},
			"outputs": [
				{
					"name": "stdout",
					"output_type": "stream",
					"text": [
						"<class 'list'>\n"
					]
				}
			],
			"source": [
				"with open(game_obj_list_filepath, 'rb') as infile:\n",
				"    game_obj_list = pickle.load(infile)\n",
				"    print(type(game_obj_list))"
			]
		},
		{
			"cell_type": "code",
			"execution_count": 13,
			"metadata": {},
			"outputs": [
				{
					"data": {
						"text/plain": [
							"11732"
						]
					},
					"execution_count": 13,
					"metadata": {},
					"output_type": "execute_result"
				}
			],
			"source": [
				"len(game_obj_list)"
			]
		},
		{
			"cell_type": "code",
			"execution_count": 14,
			"metadata": {},
			"outputs": [
				{
					"data": {
						"text/plain": [
							"{'url': 'http://www.7723.cn/download/10819.htm',\n",
							" 'name': '星际车手',\n",
							" 'banner_image': {'url': 'http://image.7723.cn/wuza/picp/201215O5239542.jpg'},\n",
							" 'gameplay_image_list': [{'url': 'http://image.7723.cn/wuza/picp/201215O5239542.jpg'},\n",
							"  {'url': 'http://images.7723.cn/wuza/picp/201215O5239522.gif'},\n",
							"  {'url': 'http://images.7723.cn/wuza/picp/201215O5242894.gif'}],\n",
							" 'binary_info_list': [{'url': 'http://www.7723.cn/downb.asp?idd=13&id=10819&ksp=1',\n",
							"   'description': '诺基亚 N73系列(240×320)\\nN73 5320 5320XM 5320di_XM 5630XM 5700 5700XM 5710XM 5730XM 6110 6110N 6120 6120C 6120ci 6121 6122C 6124C 6210S 6210ci 6220C 6290 6650F 6700S 6702S 6710N 6720C 6730c 6788 6788I 6790 C5 C5-01 E101 E50 E51 E52 E55 E65 E66 E75 X5-00 X5-01 N71 N73ie N75 N76 N76-1 N77 N78 N79 N79 Eco N81 N81 8GB N82 N85 N86 N92 N93 N93I N95 N958G N95 8GB N95-3 NAM N96'},\n",
							"  {'url': 'http://www.7723.cn/downb.asp?idd=13&id=10819&ksp=2',\n",
							"   'description': '诺基亚 N7370系列(240×320)\\n7370 2700C 2710C 2710N 2730C 3120C 3208C 3600S 3602S 3610A 3610F 3620 3710F 3711 3720C 3806 5000 5000D 5130 5130C 5132 5132XM 5220 5220XM 5300 5310 5310XM 5330XM 5610 5610D 5610XM 5611 5611XM 6126 6131 6131I 6131NF 6133 6202C 6208C 6212 6233 6234 6263 6265 6265I 6267 6268 6270 6275 6275I 6280 6282 6288 6300 6300I 6301 6303C 6303CI 6303CLASSIC 6303I 6316S 6350 6500 6500C 6500S 6555 6600F 6600I 6600S 6600IS 6650T 6700S 6750 7020 7100 7100S 7205 7230 7210S 7212C 7230 7310C 7373 7390 7500 7500P 7510A 7510S 7610S 7612S 7705 7900 7900P 8208 8600 8600L 8800A 8800CA 8800DA 8800E 8800GA 8900 C2-01 C2-06 C3-01 C3-01M C3-03'},\n",
							"  {'url': 'http://www.7723.cn/downb.asp?idd=13&id=10819&ksp=3',\n",
							"   'description': '诺基亚 N6101系列(128×160)\\n6101 1006 1650 1661 1680C 1681C 1682C 2220S 2228 2320C 2322C 2323C 2330C 2332C 2600C 2605 2630 2660 2660C 2680S 2690 2720A 2760 2855 2865 2865I 3109 3109C 3110C 3110E 3128 3152 3155 3500 3500C 3555 5030 5070 5200 5208 6060 6060V 6070 6080 6085 6086 6102 6103 6111 6125 6136 6151 6152 6155 6165 6170 6255 7070 7070P 7270 7360 8800a'},\n",
							"  {'url': 'http://www.7723.cn/downb.asp?idd=13&id=10819&ksp=4',\n",
							"   'description': '摩托罗拉 A760系列(240×320)\\nA760 A728 A760i A768 A768I A810'},\n",
							"  {'url': 'http://www.7723.cn/downb.asp?idd=13&id=10819&ksp=5',\n",
							"   'description': '三星 D508系列(176×220)\\nD508 C3110C D508 D410 D415 D418 D428 D488 D500 D518 D528 D618 E159 E208 E388 E398 E498 E508 E538 E568 E578 E610 E618 E628 E648 E720 E728 E738 E740 E758 E768 E778 E788 E788E E838 E860 E878 E888 F118 F209 F268 F278 F278I F308 F329 F369 F509 F519 F609 F679 GT-S3030C J618 J750 J808E L168 L600 L608 L708E L760 M2510C M2710C M299 M309 M329 P110 P308 P738 R500 S200 S3030C S3110C S319 S3600C S659 S730 T729 W219 W379 W399 W539 x708 X808 X828 X869 X889 X899 Z130 Z150 Z170 ZX10'},\n",
							"  {'url': 'http://www.7723.cn/downb.asp?idd=13&id=10819&ksp=6',\n",
							"   'description': '三星 D608系列(240×320)\\nD608 707SC 830W A717 A727 B109 B200 B250 B500 B5702C B600 B5712C C210 C3050C S3500C C3610C D706 D788 D808 D810 D820 D828 D838 D848 D880 D888 D900 D908 D908I D988 E2210C E239 E838 E840 E848 E848I E898 E900 E908 E918 E950 E958 F110 F310 F330 F488 F488E F510 F589 F639 G508E G608 G618 G800 G808 G808E G818E GT-S3930 GT-S3930C_CMCC I458 I688 I7110C I728 I839 I8510C J218 L258 L288 L288(TD) L878E M3318 M3318C M3510C M359 M509 M709 M7500C P520 P858 U308 U600 U608 U700 U708 U708E U808E U900 U908 U908E W2400 W509 W559 W569 W619 W629 S3500c S3930C S5050C S5200C S6700 SGH-I688 Z400 Z510 Z548 Z560 Z700 Z728'},\n",
							"  {'url': 'http://www.7723.cn/downb.asp?idd=13&id=10819&ksp=7',\n",
							"   'description': '摩托罗拉 A1000系列(208×320)\\nA920 A925 A1000 A1010 M1000'},\n",
							"  {'url': 'http://www.7723.cn/downb.asp?idd=13&id=10819&ksp=8',\n",
							"   'description': '摩托罗拉 E6系列(240×320)\\nE6 E6E A1200 A1200E A1200R A1208 A1600 A1800 ROKRE6'},\n",
							"  {'url': 'http://www.7723.cn/downb.asp?idd=13&id=10819&ksp=9',\n",
							"   'description': '三星 E258系列(128×160)\\nE258 B508 B528 C240 C3050C C308 C408 C506 C510 C520 D108 D488 E105 E108 E118 E2100C E2210C E218 E236 E250 E251C E300 E310 E318 E338 E348 E358 E368 E378 E428 E488 E638 E690 E700A E708 E710 E715 E810 E808 E818 E828 F250 F258 F319 F359 F379 F399 J608 J700 J708 M128 M300 M318 M608 M618 M620 M628 P400 P408 P510 P518 T108 T208 T308 T419 V208 X158 X168 X208 X218 X308 X438 X450 X458 X468 X478 X488 X508 X518 X568 X628 X638 X648 X658 X668 X678 X688 X818 X909 X919 X929 X939 X989 S105 S110 S159 S169 S199 S209 S259 S480 S508 S720I'},\n",
							"  {'url': 'http://www.7723.cn/downb.asp?idd=13&id=10819&ksp=10',\n",
							"   'description': '摩托罗拉 E398系列(176×220)\\nE398 A845 E398B E1 E1iTunes E375 E398B E550 V3 V3C V3M V330 V600I V635 V80 Vx00'},\n",
							"  {'url': 'http://www.7723.cn/downb.asp?idd=13&id=10819&ksp=11',\n",
							"   'description': '摩托罗拉 E680系列(240×320)\\nE680 A780 E680i E680g E690'},\n",
							"  {'url': 'http://www.7723.cn/downb.asp?idd=13&id=10819&ksp=12',\n",
							"   'description': '索爱 K506系列(128×160)\\nK506 F500 K250 K310C K320 K500 K500C K500I K508 K508C K508I K510 K510C K510I R300 R300I R306C T258 T258C T270 T270I T280 T303 T303C T610 T616 T618 T628 T630 T637 W200 W200C W200I W205 W300 W300C W300I J132 Z208 Z258 Z310 Z310C Z310I Z320 Z350 Z500 Z520 Z520C Z520I Z530 Z530C Z600 Z608'},\n",
							"  {'url': 'http://www.7723.cn/downb.asp?idd=13&id=10819&ksp=13',\n",
							"   'description': '索爱 K700系列(176×220)\\nK700 D750 F305 F305C k530 k530C k530I K550 K550C K600 K608 K610 K610C K618 K620 K630 k700C K700I K750 K750C K750I K758 K758C V630I V800 W302C W350 W350C W380 W380C w395C W550 W550C W550I W600 W600C W610 W610C W700 W700C W710 W710C W800 W800C W800I W810 W810C W810C Z1010 Z550 Z550C Z555 Z558 z558C Z610 Z710 Z710C Z800 S302C S312 S600'},\n",
							"  {'url': 'http://www.7723.cn/downb.asp?idd=13&id=10819&ksp=14',\n",
							"   'description': '索爱 K790系列(240×320)\\nK790 C510 C702 C702C G900C C901 C902 C902C C903 C905 C905C G502 G502C G700C G705 K660 K660I K770 K770I K790C K800 K800C K800I K810 K810C K810I K818 K818C K850 K850I K858 K858C K880 T650I T658 T658C T700 T707 T715 W508 W518A W580 W580C W580I W595 W595C W660I W705 W707 W715 W760 W760C W760I W830 W830C W830I W850 w880 W880I W888 W888C W890 W890I W898 W898C W900 W900C W900I W902 W908 W908C W910 W910I W980 W995 M1I J20 JALOU J105I S500 S500C S500I U100I Z750 Z750I Z770 Z770I Z780 Z780I'},\n",
							"  {'url': 'http://www.7723.cn/downb.asp?idd=13&id=10819&ksp=15',\n",
							"   'description': '摩托罗拉 L6系列(128×160)\\nL6 A668 V690 A732 C261 C257 C363 E365 EM330 EM325 F3 U3 W360 W362 W371 W375 W388 W396 WX390 WX395 L2 L6i L6g V176 V177 V191 V195 V235 V628 V690 V872 V878'},\n",
							"  {'url': 'http://www.7723.cn/downb.asp?idd=13&id=10819&ksp=16',\n",
							"   'description': '摩托罗拉 L7系列(176×220)\\nL7 A630 E1 E770 E770V L7e L800T PEBLU6 U6 V3I V3IE V360 V360I V360V V361 V3A V3R V3RE V547 V551 V620 W510 ZN200'},\n",
							"  {'url': 'http://www.7723.cn/downb.asp?idd=13&id=10819&ksp=17',\n",
							"   'description': '三星 I450系列(240×320)\\nB5210U G810 G818 G818E I400 I408 I450 I458 I520 I550 I550W I558 I560 I568 I570 I7110 I780 I8510 I8510C I900 INNOV8 L870 L878 L878E SGH-I570'},\n",
							"  {'url': 'http://www.7723.cn/downb.asp?idd=13&id=10819&ksp=18',\n",
							"   'description': '索爱 S700系列(240×320)\\nS700 S710 S700I S700C SES700 G602'},\n",
							"  {'url': 'http://www.7723.cn/downb.asp?idd=13&id=10819&ksp=19',\n",
							"   'description': '摩托罗拉 V600系列(176×220)\\nV300 A835 C975 V30 V400 V303 V500 V501 V535 V557 V600 V975 V980'},\n",
							"  {'url': 'http://www.7723.cn/downb.asp?idd=13&id=10819&ksp=20',\n",
							"   'description': '诺基亚 X3系列(240×320)\\nX3 6700C X2 X2-01 X2-03 X3-01 X3-02 X3 S40'},\n",
							"  {'url': 'http://www.7723.cn/downb.asp?idd=13&id=10819&ksp=21',\n",
							"   'description': '多普达 S1系列(240×320)\\nS1 515 535 565 568 575 585 566 586 310 577W 586W 595 596 686 696 699 700 710 818 828 828+ 830 838 900 A6188 C720 C730 C730w C750 C858 C858G D600 D600CMCC D802 D802CMCC D805 D810 E616 E806C M700 MUSE U1000 P3450 P4450 P4550 P5500 P6500 P660 P800 P860 S500 S640 S730 DUAL X7510 S600 S700 S900 T4288 TOUCH DIAMOND TOUCH PRO'},\n",
							"  {'url': 'http://www.7723.cn/downb.asp?idd=13&id=10819&ksp=22',\n",
							"   'description': '明基 EL71系列(240×320)\\nEL71'},\n",
							"  {'url': 'http://www.7723.cn/downb.asp?idd=13&id=10819&ksp=23',\n",
							"   'description': '松下 MX6系列(240×320)\\nMX6 MX7 VS2 VS3 VS7 SA6 SA7'},\n",
							"  {'url': 'http://www.7723.cn/downb.asp?idd=13&id=10819&ksp=24',\n",
							"   'description': '小屏通用版(128×160)\\n支持分辨率为 128x160 的小屏幕手机'},\n",
							"  {'url': 'http://www.7723.cn/downb.asp?idd=13&id=10819&ksp=25',\n",
							"   'description': '中屏通用版(176×220)\\n支持分辨率为 176x220 的中屏幕手机'},\n",
							"  {'url': 'http://www.7723.cn/downb.asp?idd=13&id=10819&ksp=26',\n",
							"   'description': '大屏通用版(240×320)\\n支持分辨率为 240x320 的大屏幕手机'},\n",
							"  {'url': 'http://www.7723.cn/downb.asp?idd=13&id=10819&ksp=27',\n",
							"   'description': '触摸屏通用版(240×320)\\n支持分辨率为 240x320 触摸屏的手机'}]}"
						]
					},
					"execution_count": 14,
					"metadata": {},
					"output_type": "execute_result"
				}
			],
			"source": [
				"game_obj = game_obj_list[0]\n",
				"game_obj"
			]
		},
		{
			"cell_type": "code",
			"execution_count": 15,
			"metadata": {},
			"outputs": [
				{
					"data": {
						"text/plain": [
							"True"
						]
					},
					"execution_count": 15,
					"metadata": {},
					"output_type": "execute_result"
				}
			],
			"source": [
				"hash_log_filepath = 'tmp_pickle_files/hash_log-1650109654532523300.pickle'\n",
				"os.path.exists(hash_log_filepath)"
			]
		},
		{
			"cell_type": "code",
			"execution_count": 16,
			"metadata": {},
			"outputs": [
				{
					"data": {
						"text/plain": [
							"list"
						]
					},
					"execution_count": 16,
					"metadata": {},
					"output_type": "execute_result"
				}
			],
			"source": [
				"hash_log_obj = pickle.load(open(hash_log_filepath, 'rb'))\n",
				"type(hash_log_obj)"
			]
		},
		{
			"cell_type": "code",
			"execution_count": 17,
			"metadata": {},
			"outputs": [
				{
					"data": {
						"text/plain": [
							"195094"
						]
					},
					"execution_count": 17,
					"metadata": {},
					"output_type": "execute_result"
				}
			],
			"source": [
				"len(hash_log_obj)"
			]
		},
		{
			"cell_type": "code",
			"execution_count": 18,
			"metadata": {},
			"outputs": [
				{
					"data": {
						"text/plain": [
							"[{'path': '.requests_cache\\\\00\\\\000000a86ac9fd0cc77dc4ecf80f0b89',\n",
							"  'size': 132302,\n",
							"  'md5hash': b\"\\t\\xf9V!W\\x82\\xbcIt/\\xcc\\x8c'k\\x1f\\xe1\"},\n",
							" {'path': '.requests_cache\\\\00\\\\00000d3a62a9fbb2f04edc87d8f0382d',\n",
							"  'size': 871586,\n",
							"  'md5hash': b'Gn|\\x08r\\xea\\r\\x14/s\\xc7-\\xdc\\xff\\xe6\\x9b'},\n",
							" {'path': '.requests_cache\\\\00\\\\000015a80264e66f976d156552abf764',\n",
							"  'size': 292275,\n",
							"  'md5hash': b'Uy{\\xdb$^\\x1eP\\x9f\\x92\\x975\\xf3\\xd5\\xf4\\x16'},\n",
							" {'path': '.requests_cache\\\\00\\\\00004bfa16254c038b950dac6c489e79',\n",
							"  'size': 727491,\n",
							"  'md5hash': b'\\xa26\\xf7\\x16\\xbc\\x97\\xe8\\x14\\xde\\x81\\xb618hpF'},\n",
							" {'path': '.requests_cache\\\\00\\\\00016a634884e0f305374acd8d0a2db7',\n",
							"  'size': 496616,\n",
							"  'md5hash': b'\\xfc=2\\xc0\\xd3\\xb8\\x0b\\xbc\\xf1#\\xed\\x84\\x1f\\x08\\xea\\xad'},\n",
							" {'path': '.requests_cache\\\\00\\\\0001a5806236e2786ea1a37d26139183',\n",
							"  'size': 0,\n",
							"  'md5hash': b'\\xd4\\x1d\\x8c\\xd9\\x8f\\x00\\xb2\\x04\\xe9\\x80\\t\\x98\\xec\\xf8B~'},\n",
							" {'path': '.requests_cache\\\\00\\\\0001c9682cb0bf195035b22b51a6f941',\n",
							"  'size': 144452,\n",
							"  'md5hash': b'R,\\xcd\\x8a\\xfbh\\n\\x0e\\xf1\\x0eF\\xc2\\x00)*n'},\n",
							" {'path': '.requests_cache\\\\00\\\\00020028b5da8e198d38c1fecaa5d0b7',\n",
							"  'size': 367157,\n",
							"  'md5hash': b\"\\x80'\\xfc\\xf6p\\x066\\xba\\t3!\\xda\\xd7g\\xac,\"},\n",
							" {'path': '.requests_cache\\\\00\\\\00029db8f86da5ff241218e7159ed3b7',\n",
							"  'size': 401309,\n",
							"  'md5hash': b'2\\xab\\n\\xe04>\\x0e<\\x00\\xf6\\xdcHF\\xa2\\xca\\x92'},\n",
							" {'path': '.requests_cache\\\\00\\\\0002afbdde69ca03cf06eb95e905e45c',\n",
							"  'size': 197836,\n",
							"  'md5hash': b'\\x1dX3z\\xa63\\r\\xf57\\xbf\\xa9\\xde\\x9c`\\xd3\\xb5'}]"
						]
					},
					"execution_count": 18,
					"metadata": {},
					"output_type": "execute_result"
				}
			],
			"source": [
				"hash_log_obj[:10]"
			]
		}
	],
	"metadata": {
		"interpreter": {
			"hash": "0a529d3509ce381a2ce9157bc78b598ed11ef7a775448a20f9c3074147cbb316"
		},
		"kernelspec": {
			"display_name": "Python 3.7.9 64-bit",
			"language": "python",
			"name": "python3"
		},
		"language_info": {
			"codemirror_mode": {
				"name": "ipython",
				"version": 3
			},
			"file_extension": ".py",
			"mimetype": "text/x-python",
			"name": "python",
			"nbconvert_exporter": "python",
			"pygments_lexer": "ipython3"
		},
		"orig_nbformat": 4
	},
	"nbformat": 4,
	"nbformat_minor": 2
}
