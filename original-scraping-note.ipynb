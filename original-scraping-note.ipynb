{
	"cells": [
		{
			"cell_type": "code",
			"execution_count": 6,
			"id": "9f1910dc",
			"metadata": {},
			"outputs": [],
			"source": [
				"import os\n",
				"import urllib\n",
				"import urllib.parse\n",
				"import time\n",
				"import re\n",
				"import hashlib\n",
				"import traceback\n",
				"import typing\n",
				"import pickle\n",
				"\n",
				"import bs4\n",
				"from tqdm import tqdm"
			]
		},
		{
			"cell_type": "code",
			"execution_count": 17,
			"id": "065a8d63",
			"metadata": {},
			"outputs": [],
			"source": [
				"class TermColor:\n",
				"    PURPLE = '\\033[95m'\n",
				"    BLUE = '\\033[94m'\n",
				"    GREEN = '\\033[92m'\n",
				"    YELLOW = '\\033[93m'\n",
				"    RED = '\\033[91m'\n",
				"    ENDC = '\\033[0m'\n",
				"\n",
				"\n",
				"class Encoding:\n",
				"    UTF8 = 'utf-8'\n",
				"    UTF8_WITH_BOM = 'utf-8-sig'\n",
				"    UTF16 = 'utf-16'\n",
				"    GB2312 = 'gb2312'\n",
				"    SHIFT_JIS = 'shift-jis'\n",
				"\n",
				"    @classmethod\n",
				"    def decode(cls, bs: bytes):\n",
				"        try:\n",
				"            encoding = cls.UTF8_WITH_BOM\n",
				"            decoded_content = bs.decode(encoding)\n",
				"            return encoding, decoded_content\n",
				"        except Exception as ex:\n",
				"            # traceback.print_exc()\n",
				"            pass\n",
				"\n",
				"        try:\n",
				"            encoding = cls.UTF8\n",
				"            decoded_content = bs.decode(encoding)\n",
				"            return encoding, decoded_content\n",
				"        except Exception as ex:\n",
				"            # traceback.print_exc()\n",
				"            pass\n",
				"\n",
				"        try:\n",
				"            encoding = cls.UTF16\n",
				"            decoded_content = bs.decode(encoding)\n",
				"            return encoding, decoded_content\n",
				"        except Exception as ex:\n",
				"            # traceback.print_exc()\n",
				"            pass\n",
				"\n",
				"        try:\n",
				"            encoding = cls.GB2312\n",
				"            decoded_content = bs.decode(encoding)\n",
				"            return encoding, decoded_content\n",
				"        except Exception as ex:\n",
				"            # traceback.print_exc()\n",
				"            pass\n",
				"\n",
				"        try:\n",
				"            encoding = cls.SHIFT_JIS\n",
				"            decoded_content = bs.decode(encoding)\n",
				"            return encoding, decoded_content\n",
				"        except Exception as ex:\n",
				"            # traceback.print_exc()\n",
				"            pass\n",
				"\n",
				"        return None, bs\n",
				"\n",
				"\n",
				"cache_dir = '.requests_cache'\n",
				"hash_prefix_length = 2\n",
				"\n",
				"\n",
				"def hash_url(url: str):\n",
				"    hash_str = hashlib.md5(url.encode('utf-8')).hexdigest()\n",
				"    hash_str = hash_str.lower()\n",
				"    return hash_str\n",
				"\n",
				"\n",
				"def get_hash_file_location(hash_str: str):\n",
				"    hash_prefix = hash_str[:hash_prefix_length]\n",
				"\n",
				"    sub_cache_dir = os.path.join(cache_dir, hash_prefix)\n",
				"    cache_file = os.path.join(sub_cache_dir, hash_str)\n",
				"\n",
				"    return cache_file, sub_cache_dir\n",
				"\n",
				"\n",
				"def is_game_page_url(url: str):\n",
				"    parse_result = urllib.parse.urlparse(url)\n",
				"    path_parts = parse_result.path.split('/')\n",
				"    # filter out empty strings\n",
				"    path_parts = [part for part in path_parts if part]\n",
				"    if len(path_parts) != 2:\n",
				"        return False\n",
				"\n",
				"    if path_parts[0] != 'download':\n",
				"        return False\n",
				"\n",
				"    if not path_parts[1].endswith('.htm'):\n",
				"        return False\n",
				"\n",
				"    return True\n",
				"\n",
				"\n",
				"def get_response_from_cache(url: str):\n",
				"    url_hash = hash_url(url)\n",
				"\n",
				"    cache_file, sub_cache_dir = get_hash_file_location(url_hash)\n",
				"\n",
				"    if os.path.exists(cache_file):\n",
				"        content = open(cache_file, mode='rb').read()\n",
				"        return content\n",
				"\n",
				"\n",
				"def parse_game_page_url(url: str):\n",
				"    if not is_game_page_url(url):\n",
				"        raise Exception(f'Not a game page url {url}')\n",
				"\n",
				"    content_bs = get_response_from_cache(url)\n",
				"    if (content_bs is None) or (len(content_bs) == 0):\n",
				"        raise Exception(f'Could not get response from cache for {url}')\n",
				"\n",
				"    _, html_str = Encoding.decode(content_bs)\n",
				"\n",
				"    game_page_obj = {\n",
				"        'url': url,\n",
				"    }\n",
				"\n",
				"    soup = bs4.BeautifulSoup(html_str)\n",
				"    ####################################################################\n",
				"    title_element_list = soup.select('#content .title h3')\n",
				"    if len(title_element_list) > 1:\n",
				"        game_name = title_element_list[0].text\n",
				"        game_page_obj['name'] = game_name\n",
				"    ####################################################################\n",
				"    img_element_list = soup.select('#content ul.container img')\n",
				"    img_url_list = []\n",
				"    for img_element in img_element_list:\n",
				"        if 'src' in img_element.attrs:\n",
				"            img_url_list.append(img_element.attrs['src'])\n",
				"\n",
				"    if len(img_url_list) > 0:\n",
				"        game_page_obj['banner_image'] = {\n",
				"            'url': img_url_list[0],\n",
				"        }\n",
				"\n",
				"        gameplay_image_info_list = []\n",
				"        for img_url in img_url_list:\n",
				"            gameplay_image_info_list.append({\n",
				"                'url': img_url,\n",
				"            })\n",
				"\n",
				"        game_page_obj['gameplay_image_list'] = gameplay_image_info_list\n",
				"    ####################################################################\n",
				"    container_element_list = soup.select('#content ul.container')\n",
				"    if len(container_element_list) > 2:\n",
				"        li_element_list = container_element_list[2].select('li')\n",
				"\n",
				"        game_binary_info_list = []\n",
				"        for li_element in li_element_list:\n",
				"            anchor_element = li_element.select_one('a')\n",
				"            if anchor_element is None:\n",
				"                continue\n",
				"\n",
				"            if 'href' not in anchor_element.attrs:\n",
				"                continue\n",
				"\n",
				"            download_url = anchor_element.attrs['href']\n",
				"            game_binary_info = {\n",
				"                'url': download_url,\n",
				"            }\n",
				"            description_element = li_element.select_one('p')\n",
				"            if description_element is not None:\n",
				"                description_text = description_element.get_text('\\n')\n",
				"                game_binary_info['description'] = description_text\n",
				"\n",
				"            game_binary_info_list.append(game_binary_info)\n",
				"\n",
				"        game_page_obj['binary_info_list'] = game_binary_info_list\n",
				"    ####################################################################\n",
				"    return game_page_obj\n",
				"\n",
				"\n",
				"def get_all_genre_urls(url: str):\n",
				"    content_bs = get_response_from_cache(url)\n",
				"\n",
				"    if content_bs is None:\n",
				"        raise Exception(f'Could not get response from cache for {url}')\n",
				"\n",
				"    _, content = Encoding.decode(content_bs)\n",
				"    soup = bs4.BeautifulSoup(content)\n",
				"    selector = '.pagenation'\n",
				"    page_container = soup.select_one(selector)\n",
				"\n",
				"    if page_container is None:\n",
				"        raise Exception(f'Failed to select {selector} for getting pages container!')\n",
				"\n",
				"    selector = 'a'\n",
				"    els = page_container.select(selector)\n",
				"\n",
				"    if len(els) == 0:\n",
				"        raise Exception(f'Failed to select {selector} for page navigation anchors!')\n",
				"\n",
				"    last_page_anchor = els[-1]\n",
				"    if not 'href' in last_page_anchor.attrs:\n",
				"        raise Exception(f'The last anchor element does not have href attribute!')\n",
				"\n",
				"    last_page_url = last_page_anchor.attrs['href']\n",
				"    genre_base, last_page_doc_name = os.path.split(last_page_url)\n",
				"\n",
				"    num_sr = re.search(r'\\d+', last_page_doc_name)\n",
				"    if num_sr is None:\n",
				"        raise Exception(f'Failed to find number of pages!')\n",
				"\n",
				"    num_text = last_page_doc_name[num_sr.start():num_sr.end()]\n",
				"    num_pages = int(num_text)\n",
				"\n",
				"    genre_page_urls = []\n",
				"\n",
				"    for i in range(num_pages):\n",
				"        page_url = f'{genre_base}/{last_page_doc_name[:num_sr.start()]}{i+1}{last_page_doc_name[num_sr.end():]}'\n",
				"        genre_page_urls.append(page_url)\n",
				"\n",
				"    return genre_page_urls\n",
				"\n",
				"\n",
				"def parse_game_listing_page(url: str):\n",
				"    content_bs = get_response_from_cache(url)\n",
				"    if content_bs is None:\n",
				"        raise Exception(f'Could not get response from cache for {url}')\n",
				"\n",
				"    _, decoded_content = Encoding.decode(content_bs)\n",
				"    soup = bs4.BeautifulSoup(decoded_content)\n",
				"\n",
				"    selector = '#content'\n",
				"    content_div = soup.select_one(selector)\n",
				"    if content_div is None:\n",
				"        raise Exception(f'Failed to get content container with selector {selector}')\n",
				"\n",
				"    selector = 'ul.container'\n",
				"    ul_container = content_div.select_one(selector)\n",
				"    if ul_container is None:\n",
				"        raise Exception(f'Failed to get game list container with selector {selector}')\n",
				"\n",
				"    game_pages = []\n",
				"\n",
				"    els = ul_container.find_all('li', recursive=False)\n",
				"    els.extend(ul_container.select('dd>li'))\n",
				"\n",
				"    for el in els:\n",
				"        selector = 'a'\n",
				"        anchor = el.select_one(selector)\n",
				"        if anchor is None:\n",
				"            print(f'This game entry does not have an a element!')\n",
				"            print('->', el)\n",
				"            print('->', url)\n",
				"            continue\n",
				"\n",
				"        if 'href' in anchor.attrs:\n",
				"            game_page_url = anchor.attrs['href']\n",
				"            game_pages.append(game_page_url)\n",
				"\n",
				"    return game_pages"
			]
		},
		{
			"cell_type": "code",
			"execution_count": 2,
			"id": "e276d90f",
			"metadata": {},
			"outputs": [
				{
					"data": {
						"text/plain": [
							"11732"
						]
					},
					"execution_count": 2,
					"metadata": {},
					"output_type": "execute_result"
				}
			],
			"source": [
				"genre_first_page_urls = [\n",
				"    'http://www.7723.cn/zuixin/jiaose_1.htm',  # 角色扮演 # RPG\n",
				"    'http://www.7723.cn/zuixin/yizhi_1.htm',  # 益智游戏 # Puzzle games\n",
				"    'http://www.7723.cn/zuixin/dongzuo_1.htm',  # 动作游戏 # Action games\n",
				"    'http://www.7723.cn/zuixin/saiche_1.htm',  # 赛车游戏 # Racing games\n",
				"    'http://www.7723.cn/zuixin/maoxian_1.htm',  # 冒险游戏 # Adventure games\n",
				"    'http://www.7723.cn/zuixin/yangcheng_1.htm',  # 养成游戏 # Dating sim?\n",
				"    'http://www.7723.cn/zuixin/tiyu_1.htm',  # 体育游戏 # Sports games\n",
				"    'http://www.7723.cn/zuixin/gedou_1.htm',  # 格斗游戏 # Fighting games\n",
				"    'http://www.7723.cn/zuixin/qipai_1.htm',  # 棋牌游戏 # Board games\n",
				"    'http://www.7723.cn/zuixin/celue_1.htm',  # 策略游戏 # Strategy games\n",
				"    'http://www.7723.cn/zuixin/sheji_1.htm',  # 射击游戏 # Shooting games\n",
				"    'http://www.7723.cn/zuixin/moni_1.htm',  # 模拟经营 # Simulation (city building, shop management, etc.)\n",
				"    'http://www.7723.cn/zuixin/feixing_1.htm',  # 飞行游戏 # Flying (e.g. space ship) games\n",
				"    'http://www.7723.cn/zuixin/wangyou_1.htm',  # 手机网游 # online games\n",
				"]\n",
				"\n",
				"game_listing_pages = []\n",
				"\n",
				"for first_page_url in tqdm(genre_first_page_urls):\n",
				"    try:\n",
				"        genre_page_urls = get_all_genre_urls(first_page_url)\n",
				"        game_listing_pages.extend(genre_page_urls)\n",
				"    except Exception as ex:\n",
				"        print(f'Error when getting genre page url {first_page_url}')\n",
				"        print(ex)\n",
				"\n",
				"game_page_url_list = []\n",
				"\n",
				"for game_listing_page_url in tqdm(game_listing_pages):\n",
				"    try:\n",
				"        game_page_urls = parse_game_listing_page(game_listing_page_url)\n",
				"        game_page_url_list.extend(game_page_urls)\n",
				"    except Exception as ex:\n",
				"        print(f'Error when parsing game listing page {game_listing_page_url}')\n",
				"        print(ex)\n",
				"len(game_page_url_list)"
			]
		},
		{
			"cell_type": "code",
			"execution_count": 4,
			"id": "cd78c5c9",
			"metadata": {},
			"outputs": [
				{
					"data": {
						"text/plain": [
							"11732"
						]
					},
					"execution_count": 4,
					"metadata": {},
					"output_type": "execute_result"
				}
			],
			"source": [
				"game_page_url_list = list(set(game_page_url_list))\n",
				"len(game_page_url_list)"
			]
		},
		{
			"cell_type": "code",
			"execution_count": 7,
			"id": "891d9e6c",
			"metadata": {},
			"outputs": [
				{
					"name": "stdout",
					"output_type": "stream",
					"text": [
						"game_listing_pages-1650279171613542300.pickle\n"
					]
				}
			],
			"source": [
				"pickle_log_filename = f'game_listing_pages-{time.time_ns()}.pickle'\n",
				"print(pickle_log_filename)\n",
				"with open(pickle_log_filename, 'wb') as outfile:\n",
				"    pickle.dump(game_listing_pages, outfile)"
			]
		},
		{
			"cell_type": "code",
			"execution_count": 8,
			"id": "87dd0d68",
			"metadata": {},
			"outputs": [
				{
					"name": "stdout",
					"output_type": "stream",
					"text": [
						"game_page_url_list-1650279173367714100.pickle\n"
					]
				}
			],
			"source": [
				"pickle_log_filename = f'game_page_url_list-{time.time_ns()}.pickle'\n",
				"print(pickle_log_filename)\n",
				"with open(pickle_log_filename, 'wb') as outfile:\n",
				"    pickle.dump(game_page_url_list, outfile)"
			]
		},
		{
			"cell_type": "code",
			"execution_count": 18,
			"id": "ab17de0e",
			"metadata": {},
			"outputs": [
				{
					"name": "stderr",
					"output_type": "stream",
					"text": [
						"100%|████████████████████████████████████████████████████████████████████████████| 11732/11732 [06:19<00:00, 30.95it/s]\n"
					]
				},
				{
					"data": {
						"text/plain": [
							"11732"
						]
					},
					"execution_count": 18,
					"metadata": {},
					"output_type": "execute_result"
				}
			],
			"source": [
				"game_obj_list = []\n",
				"for game_page_url in tqdm(game_page_url_list):\n",
				"    try:\n",
				"        obj = parse_game_page_url(game_page_url)\n",
				"        game_obj_list.append(obj)\n",
				"    except Exception as ex:\n",
				"        print(f'Error when parsing game page {game_page_url}')\n",
				"        print(ex)\n",
				"len(game_obj_list)"
			]
		},
		{
			"cell_type": "code",
			"execution_count": 19,
			"id": "f638f439",
			"metadata": {},
			"outputs": [
				{
					"name": "stdout",
					"output_type": "stream",
					"text": [
						"game_obj_list-1650280733912302100.pickle\n"
					]
				}
			],
			"source": [
				"pickle_log_filename = f'game_obj_list-{time.time_ns()}.pickle'\n",
				"print(pickle_log_filename)\n",
				"with open(pickle_log_filename, 'wb') as outfile:\n",
				"    pickle.dump(game_obj_list, outfile)"
			]
		},
		{
			"cell_type": "code",
			"execution_count": 20,
			"id": "aa404dca",
			"metadata": {},
			"outputs": [
				{
					"data": {
						"text/plain": [
							"48357112"
						]
					},
					"execution_count": 20,
					"metadata": {},
					"output_type": "execute_result"
				}
			],
			"source": [
				"os.path.getsize(pickle_log_filename)"
			]
		},
		{
			"cell_type": "code",
			"execution_count": 21,
			"id": "838f7781",
			"metadata": {},
			"outputs": [
				{
					"name": "stderr",
					"output_type": "stream",
					"text": [
						"100%|████████████████████████████████████████████████████████████████████████| 11732/11732 [00:00<00:00, 144906.31it/s]"
					]
				},
				{
					"name": "stdout",
					"output_type": "stream",
					"text": [
						"image_url_list-1650280741968099500.pickle\n",
						"game_binary_url_list-1650280741999342000.pickle\n"
					]
				},
				{
					"name": "stderr",
					"output_type": "stream",
					"text": [
						"\n"
					]
				}
			],
			"source": [
				"image_url_list = []\n",
				"game_binary_url_list = []\n",
				"\n",
				"for game_obj in tqdm(game_obj_list):\n",
				"    if 'banner_image' in game_obj:\n",
				"        image_url_list.append(game_obj['banner_image']['url'])\n",
				"\n",
				"    if 'gameplay_image_list' in game_obj:\n",
				"        for gameplay_image in game_obj['gameplay_image_list']:\n",
				"            image_url_list.append(gameplay_image['url'])\n",
				"\n",
				"    if 'binary_info_list' in game_obj:\n",
				"        for binary_info in game_obj['binary_info_list']:\n",
				"            game_binary_url_list.append(binary_info['url'])\n",
				"\n",
				"pickle_log_filename = f'image_url_list-{time.time_ns()}.pickle'\n",
				"print(pickle_log_filename)\n",
				"with open(pickle_log_filename, 'wb') as outfile:\n",
				"    pickle.dump(image_url_list, outfile)\n",
				"\n",
				"pickle_log_filename = f'game_binary_url_list-{time.time_ns()}.pickle'\n",
				"print(pickle_log_filename)\n",
				"with open(pickle_log_filename, 'wb') as outfile:\n",
				"    pickle.dump(game_binary_url_list, outfile)"
			]
		},
		{
			"cell_type": "code",
			"execution_count": 22,
			"id": "6993da76",
			"metadata": {},
			"outputs": [
				{
					"data": {
						"text/plain": [
							"40337"
						]
					},
					"execution_count": 22,
					"metadata": {},
					"output_type": "execute_result"
				}
			],
			"source": [
				"len(image_url_list)"
			]
		},
		{
			"cell_type": "code",
			"execution_count": 25,
			"id": "72dcd90b",
			"metadata": {},
			"outputs": [
				{
					"data": {
						"text/plain": [
							"28413"
						]
					},
					"execution_count": 25,
					"metadata": {},
					"output_type": "execute_result"
				}
			],
			"source": [
				"image_url_list = list(set(image_url_list))\n",
				"len(image_url_list)"
			]
		},
		{
			"cell_type": "code",
			"execution_count": 26,
			"id": "9cb7bf98",
			"metadata": {},
			"outputs": [
				{
					"data": {
						"text/plain": [
							"11924"
						]
					},
					"execution_count": 26,
					"metadata": {},
					"output_type": "execute_result"
				}
			],
			"source": [
				"40337 - 28413"
			]
		},
		{
			"cell_type": "code",
			"execution_count": 23,
			"id": "c99bd0d9",
			"metadata": {},
			"outputs": [
				{
					"data": {
						"text/plain": [
							"153953"
						]
					},
					"execution_count": 23,
					"metadata": {},
					"output_type": "execute_result"
				}
			],
			"source": [
				"len(game_binary_url_list)"
			]
		},
		{
			"cell_type": "code",
			"execution_count": 24,
			"id": "d3e5b75c",
			"metadata": {},
			"outputs": [
				{
					"data": {
						"text/plain": [
							"153953"
						]
					},
					"execution_count": 24,
					"metadata": {},
					"output_type": "execute_result"
				}
			],
			"source": [
				"game_binary_url_list = list(set(game_binary_url_list))\n",
				"len(game_binary_url_list)"
			]
		},
		{
			"cell_type": "code",
			"execution_count": 27,
			"id": "0332ed69",
			"metadata": {
				"scrolled": true
			},
			"outputs": [
				{
					"data": {
						"text/plain": [
							"{'url': 'http://www.7723.cn/download/5319.htm',\n",
							" 'name': '口袋小精灵200合一',\n",
							" 'banner_image': {'url': 'http://image.7723.cn/wuza/pic/201013O5423810.gif'},\n",
							" 'gameplay_image_list': [{'url': 'http://image.7723.cn/wuza/pic/201013O5423810.gif'},\n",
							"  {'url': 'http://images.7723.cn/wuza/pick/2011916O4793084.gif'},\n",
							"  {'url': 'http://images.7723.cn/wuza/pick/2011916O479301.gif'}],\n",
							" 'binary_info_list': [{'url': 'http://www.7723.cn/downb.asp?idd=5&id=5319&ksp=1',\n",
							"   'description': '诺基亚 N70系列(176×208)\\n7610 3230 6600 6260 6620 6630 6670 6680 6681 6682 N70 N72 ;松下: X700 X800 ;联想: P930'},\n",
							"  {'url': 'http://www.7723.cn/downb.asp?idd=5&id=5319&ksp=2',\n",
							"   'description': '诺基亚 N73系列(240×320)\\nN73 5320 5320XM 5320di_XM 5630XM 5700 5700XM 5710XM 5730XM 6110 6110N 6120 6120C 6120ci 6121 6122C 6124C 6210S 6210ci 6220C 6290 6650F 6700S 6702S 6710N 6720C 6730c 6788 6788I 6790 C5 C5-01 E101 E50 E51 E52 E55 E65 E66 E75 X5-00 X5-01 N71 N73ie N75 N76 N76-1 N77 N78 N79 N79 Eco N81 N81 8GB N82 N85 N86 N92 N93 N93I N95 N958G N95 8GB N95-3 NAM N96'},\n",
							"  {'url': 'http://www.7723.cn/downb.asp?idd=5&id=5319&ksp=3',\n",
							"   'description': '诺基亚 N7260系列(128×128)\\n7260 1508 2610 2626 3220 5140 5140I 6020 6021 6030 6230 6060'},\n",
							"  {'url': 'http://www.7723.cn/downb.asp?idd=5&id=5319&ksp=4',\n",
							"   'description': '诺基亚 N7370系列(240×320)\\n7370 2700C 2710C 2710N 2730C 3120C 3208C 3600S 3602S 3610A 3610F 3620 3710F 3711 3720C 3806 5000 5000D 5130 5130C 5132 5132XM 5220 5220XM 5300 5310 5310XM 5330XM 5610 5610D 5610XM 5611 5611XM 6126 6131 6131I 6131NF 6133 6202C 6208C 6212 6233 6234 6263 6265 6265I 6267 6268 6270 6275 6275I 6280 6282 6288 6300 6300I 6301 6303C 6303CI 6303CLASSIC 6303I 6316S 6350 6500 6500C 6500S 6555 6600F 6600I 6600S 6600IS 6650T 6700S 6750 7020 7100 7100S 7205 7230 7210S 7212C 7230 7310C 7373 7390 7500 7500P 7510A 7510S 7610S 7612S 7705 7900 7900P 8208 8600 8600L 8800A 8800CA 8800DA 8800E 8800GA 8900 C2-01 C2-06 C3-01 C3-01M C3-03'},\n",
							"  {'url': 'http://www.7723.cn/downb.asp?idd=5&id=5319&ksp=5',\n",
							"   'description': '诺基亚 N5500系列(208×208)\\n5500 5500d'},\n",
							"  {'url': 'http://www.7723.cn/downb.asp?idd=5&id=5319&ksp=6',\n",
							"   'description': '诺基亚 N6101系列(128×160)\\n6101 1006 1650 1661 1680C 1681C 1682C 2220S 2228 2320C 2322C 2323C 2330C 2332C 2600C 2605 2630 2660 2660C 2680S 2690 2720A 2760 2855 2865 2865I 3109 3109C 3110C 3110E 3128 3152 3155 3500 3500C 3555 5030 5070 5200 5208 6060 6060V 6070 6080 6085 6086 6102 6103 6111 6125 6136 6151 6152 6155 6165 6170 6255 7070 7070P 7270 7360 8800a'},\n",
							"  {'url': 'http://www.7723.cn/downb.asp?idd=5&id=5319&ksp=7',\n",
							"   'description': '诺基亚 N6230i系列(208×208)\\n6230i 8800 8800S'},\n",
							"  {'url': 'http://www.7723.cn/downb.asp?idd=5&id=5319&ksp=8',\n",
							"   'description': '诺基亚 3250系列(176×208)\\n3250 N91 N91 8GB'},\n",
							"  {'url': 'http://www.7723.cn/downb.asp?idd=5&id=5319&ksp=9',\n",
							"   'description': '三星 D508系列(176×220)\\nD508 C3110C D508 D410 D415 D418 D428 D488 D500 D518 D528 D618 E159 E208 E388 E398 E498 E508 E538 E568 E578 E610 E618 E628 E648 E720 E728 E738 E740 E758 E768 E778 E788 E788E E838 E860 E878 E888 F118 F209 F268 F278 F278I F308 F329 F369 F509 F519 F609 F679 GT-S3030C J618 J750 J808E L168 L600 L608 L708E L760 M2510C M2710C M299 M309 M329 P110 P308 P738 R500 S200 S3030C S3110C S319 S3600C S659 S730 T729 W219 W379 W399 W539 x708 X808 X828 X869 X889 X899 Z130 Z150 Z170 ZX10'},\n",
							"  {'url': 'http://www.7723.cn/downb.asp?idd=5&id=5319&ksp=10',\n",
							"   'description': '三星 D608系列(240×320)\\nD608 707SC 830W A717 A727 B109 B200 B250 B500 B5702C B600 B5712C C210 C3050C S3500C C3610C D706 D788 D808 D810 D820 D828 D838 D848 D880 D888 D900 D908 D908I D988 E2210C E239 E838 E840 E848 E848I E898 E900 E908 E918 E950 E958 F110 F310 F330 F488 F488E F510 F589 F639 G508E G608 G618 G800 G808 G808E G818E GT-S3930 GT-S3930C_CMCC I458 I688 I7110C I728 I839 I8510C J218 L258 L288 L288(TD) L878E M3318 M3318C M3510C M359 M509 M709 M7500C P520 P858 U308 U600 U608 U700 U708 U708E U808E U900 U908 U908E W2400 W509 W559 W569 W619 W629 S3500c S3930C S5050C S5200C S6700 SGH-I688 Z400 Z510 Z548 Z560 Z700 Z728'},\n",
							"  {'url': 'http://www.7723.cn/downb.asp?idd=5&id=5319&ksp=11',\n",
							"   'description': '摩托罗拉 A1000系列(208×320)\\nA920 A925 A1000 A1010 M1000'},\n",
							"  {'url': 'http://www.7723.cn/downb.asp?idd=5&id=5319&ksp=12',\n",
							"   'description': '摩托罗拉 E6系列(240×320)\\nE6 E6E A1200 A1200E A1200R A1208 A1600 A1800 ROKRE6'},\n",
							"  {'url': 'http://www.7723.cn/downb.asp?idd=5&id=5319&ksp=13',\n",
							"   'description': '诺基亚 E62系列(320×240)'},\n",
							"  {'url': 'http://www.7723.cn/downb.asp?idd=5&id=5319&ksp=14',\n",
							"   'description': '三星 E258系列(128×160)\\nE258 B508 B528 C240 C3050C C308 C408 C506 C510 C520 D108 D488 E105 E108 E118 E2100C E2210C E218 E236 E250 E251C E300 E310 E318 E338 E348 E358 E368 E378 E428 E488 E638 E690 E700A E708 E710 E715 E810 E808 E818 E828 F250 F258 F319 F359 F379 F399 J608 J700 J708 M128 M300 M318 M608 M618 M620 M628 P400 P408 P510 P518 T108 T208 T308 T419 V208 X158 X168 X208 X218 X308 X438 X450 X458 X468 X478 X488 X508 X518 X568 X628 X638 X648 X658 X668 X678 X688 X818 X909 X919 X929 X939 X989 S105 S110 S159 S169 S199 S209 S259 S480 S508 S720I'},\n",
							"  {'url': 'http://www.7723.cn/downb.asp?idd=5&id=5319&ksp=15',\n",
							"   'description': '摩托罗拉 E398系列(176×220)\\nE398 A845 E398B E1 E1iTunes E375 E398B E550 V3 V3C V3M V330 V600I V635 V80 Vx00'},\n",
							"  {'url': 'http://www.7723.cn/downb.asp?idd=5&id=5319&ksp=16',\n",
							"   'description': '摩托罗拉 E680系列(240×320)\\nE680 A780 E680i E680g E690'},\n",
							"  {'url': 'http://www.7723.cn/downb.asp?idd=5&id=5319&ksp=17',\n",
							"   'description': '摩托罗拉 K1系列(176×220)\\nK1 L7c L7I L71 L72 L9 Z3 W530'},\n",
							"  {'url': 'http://www.7723.cn/downb.asp?idd=5&id=5319&ksp=18',\n",
							"   'description': '索爱 K506系列(128×160)\\nK506 F500 K250 K310C K320 K500 K500C K500I K508 K508C K508I K510 K510C K510I R300 R300I R306C T258 T258C T270 T270I T280 T303 T303C T610 T616 T618 T628 T630 T637 W200 W200C W200I W205 W300 W300C W300I J132 Z208 Z258 Z310 Z310C Z310I Z320 Z350 Z500 Z520 Z520C Z520I Z530 Z530C Z600 Z608'},\n",
							"  {'url': 'http://www.7723.cn/downb.asp?idd=5&id=5319&ksp=19',\n",
							"   'description': '索爱 K700系列(176×220)\\nK700 D750 F305 F305C k530 k530C k530I K550 K550C K600 K608 K610 K610C K618 K620 K630 k700C K700I K750 K750C K750I K758 K758C V630I V800 W302C W350 W350C W380 W380C w395C W550 W550C W550I W600 W600C W610 W610C W700 W700C W710 W710C W800 W800C W800I W810 W810C W810C Z1010 Z550 Z550C Z555 Z558 z558C Z610 Z710 Z710C Z800 S302C S312 S600'},\n",
							"  {'url': 'http://www.7723.cn/downb.asp?idd=5&id=5319&ksp=20',\n",
							"   'description': '索爱 K790系列(240×320)\\nK790 C510 C702 C702C G900C C901 C902 C902C C903 C905 C905C G502 G502C G700C G705 K660 K660I K770 K770I K790C K800 K800C K800I K810 K810C K810I K818 K818C K850 K850I K858 K858C K880 T650I T658 T658C T700 T707 T715 W508 W518A W580 W580C W580I W595 W595C W660I W705 W707 W715 W760 W760C W760I W830 W830C W830I W850 w880 W880I W888 W888C W890 W890I W898 W898C W900 W900C W900I W902 W908 W908C W910 W910I W980 W995 M1I J20 JALOU J105I S500 S500C S500I U100I Z750 Z750I Z770 Z770I Z780 Z780I'},\n",
							"  {'url': 'http://www.7723.cn/downb.asp?idd=5&id=5319&ksp=21',\n",
							"   'description': '摩托罗拉 L6系列(128×160)\\nL6 A668 V690 A732 C261 C257 C363 E365 EM330 EM325 F3 U3 W360 W362 W371 W375 W388 W396 WX390 WX395 L2 L6i L6g V176 V177 V191 V195 V235 V628 V690 V872 V878'},\n",
							"  {'url': 'http://www.7723.cn/downb.asp?idd=5&id=5319&ksp=22',\n",
							"   'description': '摩托罗拉 L7系列(176×220)\\nL7 A630 E1 E770 E770V L7e L800T PEBLU6 U6 V3I V3IE V360 V360I V360V V361 V3A V3R V3RE V547 V551 V620 W510 ZN200'},\n",
							"  {'url': 'http://www.7723.cn/downb.asp?idd=5&id=5319&ksp=23',\n",
							"   'description': '三星 I450系列(240×320)\\nB5210U G810 G818 G818E I400 I408 I450 I458 I520 I550 I550W I558 I560 I568 I570 I7110 I780 I8510 I8510C I900 INNOV8 L870 L878 L878E SGH-I570'},\n",
							"  {'url': 'http://www.7723.cn/downb.asp?idd=5&id=5319&ksp=24',\n",
							"   'description': '索爱 S700系列(240×320)\\nS700 S710 S700I S700C SES700 G602'},\n",
							"  {'url': 'http://www.7723.cn/downb.asp?idd=5&id=5319&ksp=25',\n",
							"   'description': '摩托罗 V8拉系列(240×320)\\nE895 V8 V82GB RAZRV8 RAZRV82GB RAZRV6 RAZRV3xx RIZR-Z8 ROKR Z6 Z10'},\n",
							"  {'url': 'http://www.7723.cn/downb.asp?idd=5&id=5319&ksp=26',\n",
							"   'description': '摩托罗拉 V600系列(176×220)\\nV300 A835 C975 V30 V400 V303 V500 V501 V535 V557 V600 V975 V980'},\n",
							"  {'url': 'http://www.7723.cn/downb.asp?idd=5&id=5319&ksp=27',\n",
							"   'description': '诺基亚 X3系列(240×320)\\nX3 6700C X2 X2-01 X2-03 X3-01 X3-02 X3 S40'},\n",
							"  {'url': 'http://www.7723.cn/downb.asp?idd=5&id=5319&ksp=28',\n",
							"   'description': '小屏通用版(128×128)\\n支持分辨率为 128x128 的小屏幕手机'},\n",
							"  {'url': 'http://www.7723.cn/downb.asp?idd=5&id=5319&ksp=29',\n",
							"   'description': '小屏通用版(128×160)\\n支持分辨率为 128x160 的小屏幕手机'},\n",
							"  {'url': 'http://www.7723.cn/downb.asp?idd=5&id=5319&ksp=30',\n",
							"   'description': '中屏通用版(176×220)\\n支持分辨率为 176x220 的中屏幕手机'},\n",
							"  {'url': 'http://www.7723.cn/downb.asp?idd=5&id=5319&ksp=31',\n",
							"   'description': '大屏通用版(240×320)\\n支持分辨率为 240x320 的大屏幕手机'},\n",
							"  {'url': 'http://www.7723.cn/downb.asp?idd=5&id=5319&ksp=32',\n",
							"   'description': '触摸屏通用版(240×320)\\n支持分辨率为 240x320 触摸屏的手机'}]}"
						]
					},
					"execution_count": 27,
					"metadata": {},
					"output_type": "execute_result"
				}
			],
			"source": [
				"game_obj"
			]
		},
		{
			"cell_type": "code",
			"execution_count": 28,
			"id": "6c74aa48",
			"metadata": {},
			"outputs": [
				{
					"data": {
						"text/plain": [
							"195094"
						]
					},
					"execution_count": 28,
					"metadata": {},
					"output_type": "execute_result"
				}
			],
			"source": [
				"with open('hash_log-1650109654532523300.pickle', mode='rb') as infile:\n",
				"    cache_file_info_list = pickle.load(infile)\n",
				"len(cache_file_info_list)"
			]
		},
		{
			"cell_type": "code",
			"execution_count": 29,
			"id": "0ab4975f",
			"metadata": {},
			"outputs": [
				{
					"data": {
						"text/plain": [
							"[{'path': '.requests_cache\\\\00\\\\000000a86ac9fd0cc77dc4ecf80f0b89',\n",
							"  'size': 132302,\n",
							"  'md5hash': b\"\\t\\xf9V!W\\x82\\xbcIt/\\xcc\\x8c'k\\x1f\\xe1\"},\n",
							" {'path': '.requests_cache\\\\00\\\\00000d3a62a9fbb2f04edc87d8f0382d',\n",
							"  'size': 871586,\n",
							"  'md5hash': b'Gn|\\x08r\\xea\\r\\x14/s\\xc7-\\xdc\\xff\\xe6\\x9b'},\n",
							" {'path': '.requests_cache\\\\00\\\\000015a80264e66f976d156552abf764',\n",
							"  'size': 292275,\n",
							"  'md5hash': b'Uy{\\xdb$^\\x1eP\\x9f\\x92\\x975\\xf3\\xd5\\xf4\\x16'},\n",
							" {'path': '.requests_cache\\\\00\\\\00004bfa16254c038b950dac6c489e79',\n",
							"  'size': 727491,\n",
							"  'md5hash': b'\\xa26\\xf7\\x16\\xbc\\x97\\xe8\\x14\\xde\\x81\\xb618hpF'},\n",
							" {'path': '.requests_cache\\\\00\\\\00016a634884e0f305374acd8d0a2db7',\n",
							"  'size': 496616,\n",
							"  'md5hash': b'\\xfc=2\\xc0\\xd3\\xb8\\x0b\\xbc\\xf1#\\xed\\x84\\x1f\\x08\\xea\\xad'}]"
						]
					},
					"execution_count": 29,
					"metadata": {},
					"output_type": "execute_result"
				}
			],
			"source": [
				"cache_file_info_list[:5]"
			]
		},
		{
			"cell_type": "code",
			"execution_count": 30,
			"id": "ee256ab2",
			"metadata": {},
			"outputs": [
				{
					"data": {
						"text/plain": [
							"182366"
						]
					},
					"execution_count": 30,
					"metadata": {},
					"output_type": "execute_result"
				}
			],
			"source": [
				"all_asset_url_list = []\n",
				"all_asset_url_list.extend(image_url_list)\n",
				"all_asset_url_list.extend(game_binary_url_list)\n",
				"len(all_asset_url_list)"
			]
		},
		{
			"cell_type": "code",
			"execution_count": 31,
			"id": "371a8b93",
			"metadata": {},
			"outputs": [
				{
					"data": {
						"text/plain": [
							"182366"
						]
					},
					"execution_count": 31,
					"metadata": {},
					"output_type": "execute_result"
				}
			],
			"source": [
				"all_asset_url_list = list(set(all_asset_url_list))\n",
				"len(all_asset_url_list)"
			]
		},
		{
			"cell_type": "code",
			"execution_count": 33,
			"id": "05a9932c",
			"metadata": {},
			"outputs": [
				{
					"name": "stderr",
					"output_type": "stream",
					"text": [
						"100%|█████████████████████████████████████████████████████████████████████| 195094/195094 [00:00<00:00, 2440088.10it/s]\n"
					]
				}
			],
			"source": [
				"zero_size_response_cache_file_list = []\n",
				"for cache_file_info in tqdm(cache_file_info_list):\n",
				"    if cache_file_info['size'] == 0:\n",
				"        zero_size_response_cache_file_list.append(cache_file_info['path'])"
			]
		},
		{
			"cell_type": "code",
			"execution_count": 34,
			"id": "6e9bb00f",
			"metadata": {},
			"outputs": [
				{
					"data": {
						"text/plain": [
							"9595"
						]
					},
					"execution_count": 34,
					"metadata": {},
					"output_type": "execute_result"
				}
			],
			"source": [
				"len(zero_size_response_cache_file_list)"
			]
		},
		{
			"cell_type": "code",
			"execution_count": 36,
			"id": "ae48f46a",
			"metadata": {},
			"outputs": [
				{
					"name": "stdout",
					"output_type": "stream",
					"text": [
						"zero_size_response_cache_file_list-1650281805430150900\n",
						"584556\n"
					]
				}
			],
			"source": [
				"pickle_log_filename = f'zero_size_response_cache_file_list-{time.time_ns()}'\n",
				"print(pickle_log_filename)\n",
				"\n",
				"with open(pickle_log_filename, mode='wb') as outfile:\n",
				"    pickle.dump(zero_size_response_cache_file_list, outfile)\n",
				"print(os.path.getsize(pickle_log_filename))"
			]
		},
		{
			"cell_type": "code",
			"execution_count": 37,
			"id": "04d5ed30",
			"metadata": {},
			"outputs": [
				{
					"data": {
						"text/plain": [
							"[]"
						]
					},
					"execution_count": 37,
					"metadata": {},
					"output_type": "execute_result"
				}
			],
			"source": [
				"url_info_list = []\n",
				"url_info_list"
			]
		},
		{
			"cell_type": "code",
			"execution_count": 38,
			"id": "16820b36",
			"metadata": {},
			"outputs": [
				{
					"name": "stderr",
					"output_type": "stream",
					"text": [
						"100%|██████████████████████████████████████████████████████████████████████| 182366/182366 [00:01<00:00, 113961.06it/s]\n"
					]
				},
				{
					"data": {
						"text/plain": [
							"182366"
						]
					},
					"execution_count": 38,
					"metadata": {},
					"output_type": "execute_result"
				}
			],
			"source": [
				"for url in tqdm(all_asset_url_list):\n",
				"    url_hash = hash_url(url)\n",
				"    cache_path, sub_cache_dir = get_hash_file_location(url_hash)\n",
				"    url_info_list.append({\n",
				"        'url': url,\n",
				"        'url_hash': url_hash,\n",
				"        'cache_path': cache_path,\n",
				"    })\n",
				"len(url_info_list)"
			]
		},
		{
			"cell_type": "code",
			"execution_count": 39,
			"id": "8629f1f4",
			"metadata": {},
			"outputs": [
				{
					"name": "stderr",
					"output_type": "stream",
					"text": [
						"100%|██████████████████████████████████████████████████████████████████████████| 182366/182366 [36:24<00:00, 83.50it/s]\n"
					]
				}
			],
			"source": [
				"for url_info in tqdm(url_info_list):\n",
				"    cache_path = url_info['cache_path']\n",
				"    for cache_file_info in cache_file_info_list:\n",
				"        if cache_file_info['path'] == cache_path:\n",
				"            url_info['response_size'] = cache_file_info['size']\n",
				"            url_info['response_md5hash'] = cache_file_info['md5hash']\n",
				"            break"
			]
		},
		{
			"cell_type": "code",
			"execution_count": 40,
			"id": "ea718ac7",
			"metadata": {},
			"outputs": [
				{
					"data": {
						"text/plain": [
							"{'url': 'http://images.7723.cn/admin/zzxpic/200511151517531850533E-02.gif',\n",
							" 'url_hash': '117e9d406e5e67ba5d0b275e8b347c26',\n",
							" 'cache_path': '.requests_cache\\\\11\\\\117e9d406e5e67ba5d0b275e8b347c26',\n",
							" 'response_size': 0,\n",
							" 'response_md5hash': b'\\xd4\\x1d\\x8c\\xd9\\x8f\\x00\\xb2\\x04\\xe9\\x80\\t\\x98\\xec\\xf8B~'}"
						]
					},
					"execution_count": 40,
					"metadata": {},
					"output_type": "execute_result"
				}
			],
			"source": [
				"url_info_list[0]"
			]
		},
		{
			"cell_type": "code",
			"execution_count": 41,
			"id": "b4d82161",
			"metadata": {},
			"outputs": [
				{
					"name": "stdout",
					"output_type": "stream",
					"text": [
						"url_info_list-1650285069904349100\n",
						"37953718\n"
					]
				}
			],
			"source": [
				"pickle_log_filename = f'url_info_list-{time.time_ns()}'\n",
				"print(pickle_log_filename)\n",
				"\n",
				"with open(pickle_log_filename, mode='wb') as outfile:\n",
				"    pickle.dump(url_info_list, outfile)\n",
				"print(os.path.getsize(pickle_log_filename))"
			]
		}
	],
	"metadata": {
		"kernelspec": {
			"display_name": "Python 3",
			"language": "python",
			"name": "python3"
		},
		"language_info": {
			"codemirror_mode": {
				"name": "ipython",
				"version": 3
			},
			"file_extension": ".py",
			"mimetype": "text/x-python",
			"name": "python",
			"nbconvert_exporter": "python",
			"pygments_lexer": "ipython3"
		}
	},
	"nbformat": 4,
	"nbformat_minor": 5
}
