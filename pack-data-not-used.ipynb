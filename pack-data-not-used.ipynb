{
	"cells": [
		{
			"cell_type": "code",
			"execution_count": 1,
			"metadata": {},
			"outputs": [],
			"source": [
				"import time\n",
				"import re\n",
				"import os\n",
				"import json\n",
				"from urllib.parse import urlparse, urlunparse, urljoin\n",
				"from pprint import pprint\n",
				"import pickle\n",
				"\n",
				"# external modules\n",
				"from tqdm import tqdm\n",
				"import requests\n",
				"from bs4 import BeautifulSoup\n",
				"\n",
				"# local modules\n",
				"from shared import *"
			]
		}
	],
	"metadata": {
		"kernelspec": {
			"display_name": "Python 3",
			"language": "python",
			"name": "python3"
		},
		"language_info": {
			"codemirror_mode": {
				"name": "ipython",
				"version": 3
			},
			"file_extension": ".py",
			"mimetype": "text/x-python",
			"name": "python",
			"nbconvert_exporter": "python",
			"pygments_lexer": "ipython3"
		}
	},
	"nbformat": 4,
	"nbformat_minor": 4
}
