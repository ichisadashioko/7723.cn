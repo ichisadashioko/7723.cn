{
	"cells": [
		{
			"cell_type": "code",
			"execution_count": 25,
			"id": "ee954a66",
			"metadata": {},
			"outputs": [],
			"source": [
				"import os\n",
				"import io\n",
				"import hashlib\n",
				"import collections\n",
				"import time\n",
				"import pickle\n",
				"\n",
				"from tqdm import tqdm"
			]
		},
		{
			"cell_type": "code",
			"execution_count": 3,
			"id": "e2d8df75",
			"metadata": {},
			"outputs": [],
			"source": [
				"def get_all_file_path(inpath: str, outlog: list):\n",
				"    print(inpath, end='\\r')\n",
				"    \n",
				"    if os.path.exists('stop'):\n",
				"        return\n",
				"\n",
				"    if os.path.isfile(inpath):\n",
				"        outlog.append(inpath)\n",
				"    elif os.path.isdir(inpath):\n",
				"        child_file_list = os.listdir(inpath)\n",
				"        for child_fn in child_file_list:\n",
				"            child_path = os.path.join(inpath, child_fn)\n",
				"            get_all_file_path(child_path, outlog)"
			]
		},
		{
			"cell_type": "code",
			"execution_count": 4,
			"id": "c639e01f",
			"metadata": {},
			"outputs": [],
			"source": [
				"all_file_path_list = []"
			]
		},
		{
			"cell_type": "code",
			"execution_count": 5,
			"id": "5af9cf73",
			"metadata": {},
			"outputs": [
				{
					"name": "stdout",
					"output_type": "stream",
					"text": [
						".requests_cache\\ff\\ffff3b55502c0762b7d7f8dca3db02e3\r"
					]
				}
			],
			"source": [
				"get_all_file_path('.requests_cache', all_file_path_list)"
			]
		},
		{
			"cell_type": "code",
			"execution_count": 6,
			"id": "24800c94",
			"metadata": {},
			"outputs": [
				{
					"data": {
						"text/plain": [
							"195094"
						]
					},
					"execution_count": 6,
					"metadata": {},
					"output_type": "execute_result"
				}
			],
			"source": [
				"len(all_file_path_list)"
			]
		},
		{
			"cell_type": "code",
			"execution_count": 8,
			"id": "a478eef1",
			"metadata": {},
			"outputs": [
				{
					"data": {
						"text/plain": [
							"'all_file_path_log-1650108252097001700.pickle'"
						]
					},
					"execution_count": 8,
					"metadata": {},
					"output_type": "execute_result"
				}
			],
			"source": [
				"file_path_list_log_filename = f'all_file_path_log-{time.time_ns()}.pickle'\n",
				"file_path_list_log_filename"
			]
		},
		{
			"cell_type": "code",
			"execution_count": 9,
			"id": "a8c13973",
			"metadata": {},
			"outputs": [],
			"source": [
				"with open(file_path_list_log_filename, mode='wb') as outfile:\n",
				"    pickle.dump(all_file_path_list, outfile)"
			]
		},
		{
			"cell_type": "code",
			"execution_count": 13,
			"id": "87426b92",
			"metadata": {},
			"outputs": [],
			"source": [
				"def get_file_content_md5_hash(inpath: str):\n",
				"    content_bs = open(inpath, mode='rb').read()\n",
				"    file_size = len(content_bs)\n",
				"    md5_hash_bs = hashlib.md5(content_bs).digest()\n",
				"    return {\n",
				"        'path': inpath,\n",
				"        'size': file_size,\n",
				"        'md5hash': md5_hash_bs,\n",
				"    }"
			]
		},
		{
			"cell_type": "code",
			"execution_count": 14,
			"id": "0c7d5744",
			"metadata": {},
			"outputs": [
				{
					"data": {
						"text/plain": [
							"{'path': 'all_file_path_log-1650108252097001700.pickle',\n",
							" 'size': 11900367,\n",
							" 'md5hash': b'\\xb9\\x14\\xc0\\t\\xdd\\xdb\\x8a\\xdc\\xdaI\\x17\\xcc\\xc9\\xd9\\xf3\\xb6'}"
						]
					},
					"execution_count": 14,
					"metadata": {},
					"output_type": "execute_result"
				}
			],
			"source": [
				"get_file_content_md5_hash(file_path_list_log_filename)"
			]
		},
		{
			"cell_type": "code",
			"execution_count": 16,
			"id": "8bcbebf8",
			"metadata": {},
			"outputs": [
				{
					"data": {
						"text/plain": [
							"[]"
						]
					},
					"execution_count": 16,
					"metadata": {},
					"output_type": "execute_result"
				}
			],
			"source": [
				"hash_log_list = []\n",
				"hash_log_list"
			]
		},
		{
			"cell_type": "code",
			"execution_count": 17,
			"id": "c8fab1d6",
			"metadata": {},
			"outputs": [
				{
					"name": "stderr",
					"output_type": "stream",
					"text": [
						"100%|█████████████████████████████████████████████████████████████████████████| 195094/195094 [13:47<00:00, 235.64it/s]\n"
					]
				}
			],
			"source": [
				"for filepath in tqdm(all_file_path_list):\n",
				"    if os.path.exists('stop'):\n",
				"        break\n",
				"    info_obj = get_file_content_md5_hash(filepath)\n",
				"    hash_log_list.append(info_obj)"
			]
		},
		{
			"cell_type": "code",
			"execution_count": 18,
			"id": "cefe03b8",
			"metadata": {},
			"outputs": [
				{
					"data": {
						"text/plain": [
							"'hash_log-1650109654532523300.pickle'"
						]
					},
					"execution_count": 18,
					"metadata": {},
					"output_type": "execute_result"
				}
			],
			"source": [
				"hash_log_filename = f'hash_log-{time.time_ns()}.pickle'\n",
				"hash_log_filename"
			]
		},
		{
			"cell_type": "code",
			"execution_count": 19,
			"id": "dd8bc6bb",
			"metadata": {},
			"outputs": [
				{
					"name": "stdout",
					"output_type": "stream",
					"text": [
						"None\n"
					]
				}
			],
			"source": [
				"with open(hash_log_filename, mode='wb') as outfile:\n",
				"    retval = pickle.dump(hash_log_list, outfile)\n",
				"    print(retval)"
			]
		},
		{
			"cell_type": "code",
			"execution_count": 20,
			"id": "decb567a",
			"metadata": {},
			"outputs": [
				{
					"data": {
						"text/plain": [
							"20001503"
						]
					},
					"execution_count": 20,
					"metadata": {},
					"output_type": "execute_result"
				}
			],
			"source": [
				"os.path.getsize(hash_log_filename)"
			]
		},
		{
			"cell_type": "code",
			"execution_count": 26,
			"id": "64e2ec95",
			"metadata": {},
			"outputs": [
				{
					"data": {
						"text/plain": [
							"defaultdict(list, {})"
						]
					},
					"execution_count": 26,
					"metadata": {},
					"output_type": "execute_result"
				}
			],
			"source": [
				"duplicate_hash_log = collections.defaultdict(list)\n",
				"duplicate_hash_log"
			]
		},
		{
			"cell_type": "code",
			"execution_count": 27,
			"id": "f8e18c48",
			"metadata": {},
			"outputs": [
				{
					"name": "stderr",
					"output_type": "stream",
					"text": [
						"100%|██████████████████████████████████████████████████████████████████████| 195094/195094 [00:00<00:00, 380517.18it/s]\n"
					]
				}
			],
			"source": [
				"for info_obj in tqdm(hash_log_list):\n",
				"    filepath = info_obj['path']\n",
				"    size = info_obj['size']\n",
				"    md5hash = info_obj['md5hash']\n",
				"    duplicate_hash_log[md5hash].append({\n",
				"        'path': filepath,\n",
				"        'size': size,\n",
				"    })"
			]
		},
		{
			"cell_type": "code",
			"execution_count": 28,
			"id": "73d8aebc",
			"metadata": {},
			"outputs": [
				{
					"data": {
						"text/plain": [
							"[]"
						]
					},
					"execution_count": 28,
					"metadata": {},
					"output_type": "execute_result"
				}
			],
			"source": [
				"duplicated_hash_list = []\n",
				"duplicated_hash_list"
			]
		},
		{
			"cell_type": "code",
			"execution_count": 29,
			"id": "3e1a5ac1",
			"metadata": {},
			"outputs": [],
			"source": [
				"for md5hash, item_list in duplicate_hash_log.items():\n",
				"    if len(item_list) > 1:\n",
				"        duplicated_hash_list.append({\n",
				"            'md5hash': md5hash,\n",
				"            'item_list': item_list,\n",
				"        })"
			]
		},
		{
			"cell_type": "code",
			"execution_count": 30,
			"id": "2de023bc",
			"metadata": {},
			"outputs": [
				{
					"data": {
						"text/plain": [
							"38459"
						]
					},
					"execution_count": 30,
					"metadata": {},
					"output_type": "execute_result"
				}
			],
			"source": [
				"len(duplicated_hash_list)"
			]
		},
		{
			"cell_type": "code",
			"execution_count": 31,
			"id": "df303fb8",
			"metadata": {},
			"outputs": [
				{
					"data": {
						"text/plain": [
							"76918"
						]
					},
					"execution_count": 31,
					"metadata": {},
					"output_type": "execute_result"
				}
			],
			"source": [
				"_*2"
			]
		},
		{
			"cell_type": "code",
			"execution_count": null,
			"id": "e7db1001",
			"metadata": {
				"scrolled": true
			},
			"outputs": [],
			"source": [
				"duplicated_hash_list[2]"
			]
		},
		{
			"cell_type": "code",
			"execution_count": 36,
			"id": "ae627d30",
			"metadata": {},
			"outputs": [
				{
					"data": {
						"text/plain": [
							"9595"
						]
					},
					"execution_count": 36,
					"metadata": {},
					"output_type": "execute_result"
				}
			],
			"source": [
				"len(duplicated_hash_list[2]['item_list'])"
			]
		},
		{
			"cell_type": "code",
			"execution_count": 37,
			"id": "0f63734c",
			"metadata": {},
			"outputs": [
				{
					"data": {
						"text/plain": [
							"[]"
						]
					},
					"execution_count": 37,
					"metadata": {},
					"output_type": "execute_result"
				}
			],
			"source": [
				"duplicate_with_different_size_log = []\n",
				"duplicate_with_different_size_log"
			]
		},
		{
			"cell_type": "code",
			"execution_count": 38,
			"id": "70317ded",
			"metadata": {},
			"outputs": [],
			"source": [
				"for entry in duplicated_hash_list:\n",
				"    item_list = entry['item_list']\n",
				"    base_size = item_list[0]['size']\n",
				"    for i in range(1, len(item_list)):\n",
				"        size = item_list[i]['size']\n",
				"        if size != base_size:\n",
				"            duplicate_with_different_size_log.append(entry)\n",
				"            break"
			]
		},
		{
			"cell_type": "code",
			"execution_count": 39,
			"id": "eca41c4a",
			"metadata": {},
			"outputs": [
				{
					"data": {
						"text/plain": [
							"0"
						]
					},
					"execution_count": 39,
					"metadata": {},
					"output_type": "execute_result"
				}
			],
			"source": [
				"len(duplicate_with_different_size_log)"
			]
		},
		{
			"cell_type": "code",
			"execution_count": 40,
			"id": "7223d646",
			"metadata": {},
			"outputs": [
				{
					"data": {
						"text/plain": [
							"0"
						]
					},
					"execution_count": 40,
					"metadata": {},
					"output_type": "execute_result"
				}
			],
			"source": [
				"possible_size_reduction = 0\n",
				"possible_size_reduction"
			]
		},
		{
			"cell_type": "code",
			"execution_count": 41,
			"id": "748915ee",
			"metadata": {},
			"outputs": [
				{
					"data": {
						"text/plain": [
							"26957498768"
						]
					},
					"execution_count": 41,
					"metadata": {},
					"output_type": "execute_result"
				}
			],
			"source": [
				"for entry in duplicated_hash_list:\n",
				"    item_list = entry['item_list']\n",
				"    size = item_list[0]['size']\n",
				"    for i in range(1, len(item_list)):\n",
				"        possible_size_reduction += size\n",
				"possible_size_reduction"
			]
		},
		{
			"cell_type": "code",
			"execution_count": 42,
			"id": "37563eb1",
			"metadata": {},
			"outputs": [
				{
					"data": {
						"text/plain": [
							"25.10612715780735"
						]
					},
					"execution_count": 42,
					"metadata": {},
					"output_type": "execute_result"
				}
			],
			"source": [
				"possible_size_reduction / (1024**3)"
			]
		},
		{
			"cell_type": "code",
			"execution_count": 43,
			"id": "4ba7a08d",
			"metadata": {},
			"outputs": [
				{
					"data": {
						"text/plain": [
							"0"
						]
					},
					"execution_count": 43,
					"metadata": {},
					"output_type": "execute_result"
				}
			],
			"source": [
				"cache_content_size = 0\n",
				"cache_content_size"
			]
		},
		{
			"cell_type": "code",
			"execution_count": 44,
			"id": "8f7a41d6",
			"metadata": {},
			"outputs": [
				{
					"data": {
						"text/plain": [
							"77063600815"
						]
					},
					"execution_count": 44,
					"metadata": {},
					"output_type": "execute_result"
				}
			],
			"source": [
				"for info_obj in hash_log_list:\n",
				"    size = info_obj['size']\n",
				"    cache_content_size += size\n",
				"cache_content_size"
			]
		},
		{
			"cell_type": "code",
			"execution_count": 45,
			"id": "558a477b",
			"metadata": {},
			"outputs": [
				{
					"data": {
						"text/plain": [
							"50106102047"
						]
					},
					"execution_count": 45,
					"metadata": {},
					"output_type": "execute_result"
				}
			],
			"source": [
				"cache_content_size - possible_size_reduction"
			]
		},
		{
			"cell_type": "code",
			"execution_count": 46,
			"id": "5f9b4b8e",
			"metadata": {},
			"outputs": [
				{
					"data": {
						"text/plain": [
							"46.66494396235794"
						]
					},
					"execution_count": 46,
					"metadata": {},
					"output_type": "execute_result"
				}
			],
			"source": [
				"_  / (1024**3)"
			]
		}
	],
	"metadata": {
		"kernelspec": {
			"display_name": "Python 3",
			"language": "python",
			"name": "python3"
		},
		"language_info": {
			"codemirror_mode": {
				"name": "ipython",
				"version": 3
			},
			"file_extension": ".py",
			"mimetype": "text/x-python",
			"name": "python",
			"nbconvert_exporter": "python",
			"pygments_lexer": "ipython3"
		}
	},
	"nbformat": 4,
	"nbformat_minor": 5
}
