{
 "cells": [
  {
   "cell_type": "code",
   "execution_count": null,
   "metadata": {},
   "outputs": [],
   "source": [
    "import time\n",
    "import re\n",
    "import os\n",
    "import json\n",
    "from urllib.parse import urlparse, urlunparse, urljoin\n",
    "from pprint import pprint\n",
    "import hashlib\n",
    "\n",
    "# external modules\n",
    "from tqdm import tqdm\n",
    "import requests\n",
    "from bs4 import BeautifulSoup"
   ]
  },
  {
   "cell_type": "code",
   "execution_count": null,
   "metadata": {},
   "outputs": [],
   "source": [
    "class Encoding:\n",
    "    UTF8 = 'utf-8'\n",
    "    UTF8_WITH_BOM = 'utf-8-sig'\n",
    "    UTF16 = 'utf-16'\n",
    "    GB2312 = 'gb2312' # chinese encoding\n",
    "\n",
    "    @classmethod\n",
    "    def decode(cls, bs: bytes):\n",
    "        try:\n",
    "            return cls.UTF8_WITH_BOM, bs.decode(cls.UTF8_WITH_BOM)\n",
    "        except Exception as ex:\n",
    "            # traceback.print_exc()\n",
    "            pass\n",
    "\n",
    "        try:\n",
    "            return cls.UTF8, bs.decode(cls.UTF8)\n",
    "        except Exception as ex:\n",
    "            # traceback.print_exc()\n",
    "            pass\n",
    "\n",
    "        try:\n",
    "            return cls.UTF16, bs.decode(cls.UTF16)\n",
    "        except Exception as ex:\n",
    "            # traceback.print_exc()\n",
    "            pass\n",
    "\n",
    "        try:\n",
    "            return cls.GB2312, bs.decode(cls.GB2312)\n",
    "        except Exception as ex:\n",
    "            # traceback.print_exc()\n",
    "            pass\n",
    "\n",
    "        return None, bs"
   ]
  },
  {
   "cell_type": "code",
   "execution_count": null,
   "metadata": {},
   "outputs": [],
   "source": [
    "class GameEntry:\n",
    "    def __init__(\n",
    "        self,\n",
    "        url: str,\n",
    "        title: str,\n",
    "        banner_url: str,\n",
    "        sample_gameplay_image_urls: list,\n",
    "        versions: list,\n",
    "    ):\n",
    "        self.url = url\n",
    "        self.title = title\n",
    "        self.banner_url = banner_url\n",
    "        self.sample_gameplay_image_urls = sample_gameplay_image_urls\n",
    "        self.versions = versions\n",
    "        \n",
    "    def __repr__(self):\n",
    "        return repr(self.__dict__)"
   ]
  },
  {
   "cell_type": "code",
   "execution_count": null,
   "metadata": {},
   "outputs": [],
   "source": [
    "cache_dir = '.requests_cache'\n",
    "if not os.path.exists(cache_dir):\n",
    "    os.makedirs(cache_dir)\n",
    "\n",
    "last_response = None\n",
    "last_exception = None\n",
    "\n",
    "\n",
    "def hash_url(url: str):\n",
    "    hash_str = hashlib.md5(url.encode('utf-8')).hexdigest()\n",
    "    hash_str = hash_str.lower()\n",
    "    return hash_str\n",
    "\n",
    "\n",
    "def GET(url: str, verbose=True):\n",
    "    global last_response, last_exception\n",
    "\n",
    "    url_hash = hash_url(url)\n",
    "    cache_file = os.path.join(cache_dir, url_hash)\n",
    "    \n",
    "    if os.path.exists(cache_file):\n",
    "        if verbose:\n",
    "            print('Pulling request content from cache!')\n",
    "            print(url)\n",
    "        content = open(cache_file, mode='rb').read()\n",
    "        return content\n",
    "    else:\n",
    "        try:\n",
    "            res = requests.get(url)\n",
    "            if res.ok:\n",
    "                with open(cache_file, mode='wb') as stream:\n",
    "                    stream.write(res.content)\n",
    "\n",
    "                return res.content\n",
    "            else:\n",
    "                last_response = res\n",
    "                print('The response is not usable! Please check last_response!')\n",
    "                print('->', url)\n",
    "                return None\n",
    "        except Exception as ex:\n",
    "            last_exception = ex\n",
    "            print('Failed to request the content!')\n",
    "            print('->', url)\n",
    "            print(ex)\n",
    "    \n",
    "    return None\n",
    "\n",
    "\n",
    "def POST(url: str):\n",
    "    global last_response, last_exception\n",
    "\n",
    "    url_hash = hash_url(url)\n",
    "    cache_file = os.path.join(cache_dir, url_hash)\n",
    "    \n",
    "    if os.path.exists(cache_file):\n",
    "        content = open(cache_file, mode='rb').read()\n",
    "        return content\n",
    "    else:\n",
    "        try:\n",
    "            res = requests.post(url)\n",
    "            if res.ok:\n",
    "                with open(cache_file, mode='wb') as stream:\n",
    "                    stream.write(res.content)\n",
    "\n",
    "                return res.content\n",
    "            else:\n",
    "                last_response = res\n",
    "                print('The response is not usable! Please check last_response!')\n",
    "                print('->', url)\n",
    "                return None\n",
    "        except Exception as ex:\n",
    "            last_exception = ex\n",
    "            print('Failed to request the content!')\n",
    "            print('->', url)\n",
    "            print(ex)\n",
    "    \n",
    "    return None"
   ]
  },
  {
   "cell_type": "code",
   "execution_count": null,
   "metadata": {},
   "outputs": [],
   "source": [
    "def parse_game_entry_url(url: str):\n",
    "    content = GET(url)\n",
    "    \n",
    "    if content is None:\n",
    "        print('Please check error from global variables!')\n",
    "        return None\n",
    "    \n",
    "    _, content = Encoding.decode(content)\n",
    "    soup = BeautifulSoup(content)\n",
    "    \n",
    "    selector = '#content'\n",
    "    content_div = soup.select_one(selector)\n",
    "    if content_div is None:\n",
    "        print(f'Format for this page is not compatible! There is no element matches {selector}!')\n",
    "        print('->', url)\n",
    "        return None\n",
    "    \n",
    "    # retrieve game title\n",
    "    title = None\n",
    "    selector = '.title'\n",
    "    title_div = content_div.select_one(selector)\n",
    "    if title_div is None:\n",
    "        print(f'Cannot find title! There is no element matches {selector}!')\n",
    "        print('->', url)\n",
    "    else:\n",
    "        selector = 'h3'\n",
    "        title_heading = title_div.select_one(selector)\n",
    "        if title_heading is None:\n",
    "            print(f'Cannot find title! There is no element matches {selector}!')\n",
    "            print('->', url)\n",
    "        else:\n",
    "            title = title_heading.text\n",
    "    \n",
    "    selector = 'ul.container'\n",
    "    ul_containers = content_div.select('ul.container')\n",
    "    if not (len(ul_containers) == 3):\n",
    "        print(f'Format for this page is not compatible! Number of elements match {selector} is not supported!')\n",
    "        print('->', url)\n",
    "        return None\n",
    "\n",
    "    # retrieve game banner\n",
    "    banner_url = None\n",
    "    selector = 'img'\n",
    "    banner_img = ul_containers[0].select_one(selector)\n",
    "    if banner_img is None:\n",
    "        print(f'Failed to get game banner with selector {selector}!')\n",
    "        print('->', url)\n",
    "    else:\n",
    "        if 'src' in banner_img.attrs:\n",
    "            banner_url = banner_img.attrs['src']\n",
    "        else:\n",
    "            print(f'Failed to get game banner. The img element does not contain src attribute!')\n",
    "            print('->', url)\n",
    "    \n",
    "    # retrieve sample gameplay images\n",
    "    sample_gameplay_image_urls = [imgE.attrs['src'] for imgE in ul_containers[1].select('img')]\n",
    "    \n",
    "    # retrieve game binaries for multiple phone models\n",
    "    versions = []\n",
    "    li_containers = ul_containers[2].select('li')\n",
    "    versions = []\n",
    "    for li_container in li_containers:\n",
    "        selector = 'a'\n",
    "        anchor_element = li_container.select_one(selector)\n",
    "        if anchor_element is None:\n",
    "            print(f'Failed to select anchor with {selector}!')\n",
    "            print('->', url)\n",
    "            print('->', li_container)\n",
    "            continue\n",
    "        \n",
    "        if not 'href' in anchor_element.attrs:\n",
    "            print(f'Failed to retrieve download url. Element does not have href attribute.')\n",
    "            print('->', url)\n",
    "            print(anchor_element)\n",
    "            continue\n",
    "            \n",
    "        # send a post request to download the game\n",
    "        version_url  = anchor_element.attrs['href']\n",
    "        \n",
    "        version_resolution = None\n",
    "        version_model = None\n",
    "        version_desc = None\n",
    "        \n",
    "        selector = 'p'\n",
    "        version_desc_el = li_container.select_one(selector)\n",
    "        if version_desc_el is None:\n",
    "            print(f'Failed to retrieve game version description with {selector} selector!')\n",
    "            print('->', url)\n",
    "        else:\n",
    "            version_desc = version_desc_el.text\n",
    "            resolution_sr = re.search(r'\\((\\d+)×(\\d+)\\)', version_desc)\n",
    "            \n",
    "            if resolution_sr is None:\n",
    "                print(f'Failed to search for this game version screen resolution in description!')\n",
    "                print('->', url)\n",
    "                print('->', version_desc)\n",
    "            else:\n",
    "                version_resolution = version_desc[resolution_sr.start():resolution_sr.end()]\n",
    "                version_resolution = version_resolution.replace('×', 'x')\n",
    "                version_resolution = re.sub(r'[\\(\\)]+', '', version_resolution)\n",
    "                \n",
    "                model_sr = re.search(r'[\\x00-\\x7F]+', version_desc[:resolution_sr.start()])\n",
    "                \n",
    "                if model_sr is None:\n",
    "                    if '触摸屏通用版' in version_desc:\n",
    "                        # universal touch screen phone models\n",
    "                        version_model = 'touch'\n",
    "                    elif '屏通用版' in version_desc:\n",
    "                        # universal phone models\n",
    "                        version_model = 'universal'\n",
    "                    else:\n",
    "                        print(f'Failed to search for supported model in description!')\n",
    "                        print('->', url)\n",
    "                        print('->', version_desc)\n",
    "                else:\n",
    "                    version_model = version_desc[model_sr.start():model_sr.end()]\n",
    "                    version_model = version_model.replace(' ', '')\n",
    "\n",
    "        versions.append({\n",
    "            'url': version_url,\n",
    "            'resolution': version_resolution,\n",
    "            'model': version_model,\n",
    "            'description': version_desc,\n",
    "        })\n",
    "    \n",
    "    return GameEntry(\n",
    "        url=url,\n",
    "        title=title,\n",
    "        banner_url=banner_url,\n",
    "        sample_gameplay_image_urls=sample_gameplay_image_urls,\n",
    "        versions=versions,\n",
    "    )"
   ]
  },
  {
   "cell_type": "code",
   "execution_count": null,
   "metadata": {},
   "outputs": [],
   "source": [
    "urls = [\n",
    "    'http://www.7723.cn/download/10172.htm', # 战姬无双-花缭乱\n",
    "    'http://www.7723.cn/download/8077.htm', # 苍穹默示录完美运行版\n",
    "    'http://www.7723.cn/download/10420.htm', # 苍弓默示录－吞噬时空    \n",
    "]"
   ]
  },
  {
   "cell_type": "code",
   "execution_count": null,
   "metadata": {},
   "outputs": [],
   "source": [
    "entry_url = 'http://www.7723.cn/download/8077.htm'\n",
    "entry = parse_game_entry_url(entry_url)\n",
    "entry"
   ]
  },
  {
   "cell_type": "code",
   "execution_count": null,
   "metadata": {
    "scrolled": true
   },
   "outputs": [],
   "source": [
    "pprint(entry.__dict__)"
   ]
  },
  {
   "cell_type": "markdown",
   "metadata": {},
   "source": [
    "# Crawl all the entry urls from multiple pages from a game genre page."
   ]
  },
  {
   "cell_type": "code",
   "execution_count": null,
   "metadata": {},
   "outputs": [],
   "source": [
    "genre_first_page_urls = [\n",
    "    'http://www.7723.cn/zuixin/jiaose_1.htm', # 角色扮演 # RPG\n",
    "    'http://www.7723.cn/zuixin/yizhi_1.htm', # 益智游戏 # Puzzle games\n",
    "    'http://www.7723.cn/zuixin/dongzuo_1.htm', # 动作游戏 # Action games\n",
    "    'http://www.7723.cn/zuixin/saiche_1.htm', # 赛车游戏 # Racing games\n",
    "    'http://www.7723.cn/zuixin/maoxian_1.htm', # 冒险游戏 # Adventure games\n",
    "    'http://www.7723.cn/zuixin/yangcheng_1.htm', # 养成游戏 # Dating sim?\n",
    "    'http://www.7723.cn/zuixin/tiyu_1.htm', # 体育游戏 # Sports games\n",
    "    'http://www.7723.cn/zuixin/gedou_1.htm', # 格斗游戏 # Fighting games\n",
    "    'http://www.7723.cn/zuixin/qipai_1.htm', # 棋牌游戏 # Board games\n",
    "    'http://www.7723.cn/zuixin/celue_1.htm', # 策略游戏 # Strategy games\n",
    "    'http://www.7723.cn/zuixin/sheji_1.htm', # 射击游戏 # Shooting games\n",
    "    'http://www.7723.cn/zuixin/moni_1.htm', # 模拟经营 # Simulation (city building, shop management, etc.)\n",
    "    'http://www.7723.cn/zuixin/feixing_1.htm', # 飞行游戏 # Flying (e.g. space ship) games\n",
    "    'http://www.7723.cn/zuixin/wangyou_1.htm', # 手机网游 # online games\n",
    "]"
   ]
  },
  {
   "cell_type": "code",
   "execution_count": null,
   "metadata": {},
   "outputs": [],
   "source": [
    "for url in genre_first_page_urls:\n",
    "    print(url)\n",
    "    GET(url)"
   ]
  },
  {
   "cell_type": "markdown",
   "metadata": {},
   "source": [
    "# Note"
   ]
  },
  {
   "cell_type": "code",
   "execution_count": null,
   "metadata": {},
   "outputs": [],
   "source": [
    "content = GET(genre_first_page_urls[0])\n",
    "len(content)"
   ]
  },
  {
   "cell_type": "code",
   "execution_count": null,
   "metadata": {},
   "outputs": [],
   "source": [
    "_, content = Encoding.decode(content)\n",
    "len(content)"
   ]
  },
  {
   "cell_type": "code",
   "execution_count": null,
   "metadata": {},
   "outputs": [],
   "source": [
    "content"
   ]
  },
  {
   "cell_type": "code",
   "execution_count": null,
   "metadata": {},
   "outputs": [],
   "source": [
    "soup = BeautifulSoup(content)"
   ]
  },
  {
   "cell_type": "code",
   "execution_count": null,
   "metadata": {},
   "outputs": [],
   "source": [
    "selector = '.pagenation'\n",
    "page_container = soup.select_one(selector)\n",
    "page_container"
   ]
  },
  {
   "cell_type": "code",
   "execution_count": null,
   "metadata": {},
   "outputs": [],
   "source": [
    "selector = 'a'\n",
    "els = page_container.select(selector)\n",
    "len(els)"
   ]
  },
  {
   "cell_type": "code",
   "execution_count": null,
   "metadata": {},
   "outputs": [],
   "source": [
    "last_page_anchor = els[-1]\n",
    "last_page_anchor"
   ]
  },
  {
   "cell_type": "code",
   "execution_count": null,
   "metadata": {},
   "outputs": [],
   "source": [
    "last_page_url = last_page_anchor.attrs['href']\n",
    "last_page_url"
   ]
  },
  {
   "cell_type": "code",
   "execution_count": null,
   "metadata": {},
   "outputs": [],
   "source": [
    "genre_base, last_page_doc_name = os.path.split(last_page_url)\n",
    "genre_base, last_page_doc_name"
   ]
  },
  {
   "cell_type": "code",
   "execution_count": null,
   "metadata": {},
   "outputs": [],
   "source": [
    "num_sr = re.search(r'\\d+', last_page_doc_name)\n",
    "num_sr"
   ]
  },
  {
   "cell_type": "code",
   "execution_count": null,
   "metadata": {},
   "outputs": [],
   "source": [
    "num_text = last_page_doc_name[num_sr.start():num_sr.end()]\n",
    "num_text"
   ]
  },
  {
   "cell_type": "code",
   "execution_count": null,
   "metadata": {},
   "outputs": [],
   "source": [
    "num_pages = int(num_text)\n",
    "num_pages"
   ]
  },
  {
   "cell_type": "markdown",
   "metadata": {},
   "source": [
    "# Generate genre's page urls"
   ]
  },
  {
   "cell_type": "code",
   "execution_count": null,
   "metadata": {},
   "outputs": [],
   "source": [
    "last_page_doc_name[:num_sr.start()]"
   ]
  },
  {
   "cell_type": "code",
   "execution_count": null,
   "metadata": {},
   "outputs": [],
   "source": [
    "last_page_doc_name[num_sr.end():]"
   ]
  },
  {
   "cell_type": "code",
   "execution_count": null,
   "metadata": {},
   "outputs": [],
   "source": [
    "genre_page_urls = []\n",
    "\n",
    "for i in range(num_pages):\n",
    "    page_url = f'{genre_base}/{last_page_doc_name[:num_sr.start()]}{i+1}{last_page_doc_name[num_sr.end():]}'\n",
    "    genre_page_urls.append(page_url)\n",
    "    \n",
    "genre_page_urls"
   ]
  },
  {
   "cell_type": "markdown",
   "metadata": {},
   "source": [
    "# Pack all of them together"
   ]
  },
  {
   "cell_type": "code",
   "execution_count": null,
   "metadata": {},
   "outputs": [],
   "source": [
    "def get_all_genre_urls(url: str):\n",
    "    content = GET(url)\n",
    "    \n",
    "    if content is None:\n",
    "        return None\n",
    "    \n",
    "    _, content = Encoding.decode(content)\n",
    "    soup = BeautifulSoup(content)\n",
    "    selector = '.pagenation'\n",
    "    page_container = soup.select_one(selector)\n",
    "    \n",
    "    if page_container is None:\n",
    "        print(f'Failed to select {selector} for getting pages container!')\n",
    "        print('->', url)\n",
    "        return None\n",
    "    \n",
    "    selector = 'a'\n",
    "    els = page_container.select(selector)\n",
    "    \n",
    "    if len(els) == 0:\n",
    "        print(f'Failed to select {selector} for page navigation anchors!')\n",
    "        print('->', url)\n",
    "        return None\n",
    "    \n",
    "    last_page_anchor = els[-1]\n",
    "    if not 'href' in last_page_anchor.attrs:\n",
    "        print(f'The last anchor element does not have href attribute!')\n",
    "        print('->', url)\n",
    "        return None\n",
    "\n",
    "    last_page_url = last_page_anchor.attrs['href']\n",
    "    genre_base, last_page_doc_name = os.path.split(last_page_url)\n",
    "    \n",
    "    num_sr = re.search(r'\\d+', last_page_doc_name)\n",
    "    if num_sr is None:\n",
    "        print(f'Failed to find number of pages!')\n",
    "        print('->', url)\n",
    "        return None\n",
    "    \n",
    "    num_text = last_page_doc_name[num_sr.start():num_sr.end()]\n",
    "    num_pages = int(num_text)\n",
    "    \n",
    "    genre_page_urls = []\n",
    "\n",
    "    for i in range(num_pages):\n",
    "        page_url = f'{genre_base}/{last_page_doc_name[:num_sr.start()]}{i+1}{last_page_doc_name[num_sr.end():]}'\n",
    "        genre_page_urls.append(page_url)\n",
    "\n",
    "    return genre_page_urls"
   ]
  },
  {
   "cell_type": "code",
   "execution_count": null,
   "metadata": {
    "scrolled": true
   },
   "outputs": [],
   "source": [
    "url_list = []\n",
    "\n",
    "for first_page_url in genre_first_page_urls:\n",
    "    genre_page_urls = get_all_genre_urls(first_page_url)\n",
    "    \n",
    "    if genre_page_urls is None:\n",
    "        continue\n",
    "\n",
    "    print(len(genre_page_urls), first_page_url)\n",
    "    \n",
    "    url_list.extend(genre_page_urls)\n",
    "\n",
    "pbar = tqdm(url_list)\n",
    "for page_url in pbar:\n",
    "    pbar.set_description(page_url)\n",
    "\n",
    "    GET(page_url, verbose=False)"
   ]
  },
  {
   "cell_type": "code",
   "execution_count": null,
   "metadata": {},
   "outputs": [],
   "source": [
    "len(url_list)"
   ]
  },
  {
   "cell_type": "code",
   "execution_count": null,
   "metadata": {},
   "outputs": [],
   "source": [
    "url_set = set(url_list)\n",
    "len(url_set)"
   ]
  },
  {
   "cell_type": "code",
   "execution_count": null,
   "metadata": {},
   "outputs": [],
   "source": [
    "url_list"
   ]
  }
 ],
 "metadata": {
  "kernelspec": {
   "display_name": "Python 3",
   "language": "python",
   "name": "python3"
  },
  "language_info": {
   "codemirror_mode": {
    "name": "ipython",
    "version": 3
   },
   "file_extension": ".py",
   "mimetype": "text/x-python",
   "name": "python",
   "nbconvert_exporter": "python",
   "pygments_lexer": "ipython3",
   "version": "3.7.6"
  }
 },
 "nbformat": 4,
 "nbformat_minor": 4
}
