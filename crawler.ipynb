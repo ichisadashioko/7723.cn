{
 "cells": [
  {
   "cell_type": "code",
   "execution_count": 1,
   "metadata": {},
   "outputs": [],
   "source": [
    "import time\n",
    "import re\n",
    "import os\n",
    "import json\n",
    "from urllib.parse import urlparse, urlunparse, urljoin\n",
    "from pprint import pprint\n",
    "import pickle\n",
    "\n",
    "# external modules\n",
    "from tqdm import tqdm\n",
    "import requests\n",
    "from bs4 import BeautifulSoup\n",
    "\n",
    "# local modules\n",
    "from shared import *"
   ]
  },
  {
   "cell_type": "markdown",
   "metadata": {},
   "source": [
    "# Crawl all the entry urls from multiple pages from a game genre page."
   ]
  },
  {
   "cell_type": "markdown",
   "metadata": {},
   "source": [
    "We find the `last page` button to parse the number of page for that game genre.\n",
    "\n",
    "![](./docs/images/7723.cn-game-listing-last-page.png)"
   ]
  },
  {
   "cell_type": "code",
   "execution_count": 2,
   "metadata": {},
   "outputs": [],
   "source": [
    "def get_all_genre_urls(url: str):\n",
    "    content, response, error = GET(url)\n",
    "    \n",
    "    if content is None:\n",
    "        return None\n",
    "    \n",
    "    _, content = Encoding.decode(content)\n",
    "    soup = BeautifulSoup(content)\n",
    "    selector = '.pagenation'\n",
    "    page_container = soup.select_one(selector)\n",
    "    \n",
    "    if page_container is None:\n",
    "        print(f'Failed to select {selector} for getting pages container!')\n",
    "        print('->', url)\n",
    "        return None\n",
    "    \n",
    "    selector = 'a'\n",
    "    els = page_container.select(selector)\n",
    "    \n",
    "    if len(els) == 0:\n",
    "        print(f'Failed to select {selector} for page navigation anchors!')\n",
    "        print('->', url)\n",
    "        return None\n",
    "    \n",
    "    last_page_anchor = els[-1]\n",
    "    if not 'href' in last_page_anchor.attrs:\n",
    "        print(f'The last anchor element does not have href attribute!')\n",
    "        print('->', url)\n",
    "        return None\n",
    "\n",
    "    last_page_url = last_page_anchor.attrs['href']\n",
    "    genre_base, last_page_doc_name = os.path.split(last_page_url)\n",
    "    \n",
    "    num_sr = re.search(r'\\d+', last_page_doc_name)\n",
    "    if num_sr is None:\n",
    "        print(f'Failed to find number of pages!')\n",
    "        print('->', url)\n",
    "        return None\n",
    "    \n",
    "    num_text = last_page_doc_name[num_sr.start():num_sr.end()]\n",
    "    num_pages = int(num_text)\n",
    "    \n",
    "    genre_page_urls = []\n",
    "\n",
    "    for i in range(num_pages):\n",
    "        page_url = f'{genre_base}/{last_page_doc_name[:num_sr.start()]}{i+1}{last_page_doc_name[num_sr.end():]}'\n",
    "        genre_page_urls.append(page_url)\n",
    "\n",
    "    return genre_page_urls"
   ]
  },
  {
   "cell_type": "markdown",
   "metadata": {},
   "source": [
    "![](./docs/images/7723.cn-symbian-hp.png)"
   ]
  },
  {
   "cell_type": "code",
   "execution_count": 3,
   "metadata": {},
   "outputs": [],
   "source": [
    "genre_first_page_urls = [\n",
    "    'http://www.7723.cn/zuixin/jiaose_1.htm', # 角色扮演 # RPG\n",
    "    'http://www.7723.cn/zuixin/yizhi_1.htm', # 益智游戏 # Puzzle games\n",
    "    'http://www.7723.cn/zuixin/dongzuo_1.htm', # 动作游戏 # Action games\n",
    "    'http://www.7723.cn/zuixin/saiche_1.htm', # 赛车游戏 # Racing games\n",
    "    'http://www.7723.cn/zuixin/maoxian_1.htm', # 冒险游戏 # Adventure games\n",
    "    'http://www.7723.cn/zuixin/yangcheng_1.htm', # 养成游戏 # Dating sim?\n",
    "    'http://www.7723.cn/zuixin/tiyu_1.htm', # 体育游戏 # Sports games\n",
    "    'http://www.7723.cn/zuixin/gedou_1.htm', # 格斗游戏 # Fighting games\n",
    "    'http://www.7723.cn/zuixin/qipai_1.htm', # 棋牌游戏 # Board games\n",
    "    'http://www.7723.cn/zuixin/celue_1.htm', # 策略游戏 # Strategy games\n",
    "    'http://www.7723.cn/zuixin/sheji_1.htm', # 射击游戏 # Shooting games\n",
    "    'http://www.7723.cn/zuixin/moni_1.htm', # 模拟经营 # Simulation (city building, shop management, etc.)\n",
    "    'http://www.7723.cn/zuixin/feixing_1.htm', # 飞行游戏 # Flying (e.g. space ship) games\n",
    "    'http://www.7723.cn/zuixin/wangyou_1.htm', # 手机网游 # online games\n",
    "]"
   ]
  },
  {
   "cell_type": "code",
   "execution_count": 5,
   "metadata": {},
   "outputs": [],
   "source": [
    "# for url in genre_first_page_urls:\n",
    "#     url_hash = hash_url(url)\n",
    "#     cache_file, sub_cache_dir = get_hash_file_location(url_hash)\n",
    "\n",
    "#     print(os.path.exists(cache_file), cache_file)\n",
    "#     if os.path.exists(cache_file):\n",
    "#         content = open(cache_file, mode='rb').read()\n",
    "#         print(type(content), len(content))\n",
    "        \n",
    "#         encoding, decoded_content = Encoding.decode(content)\n",
    "#         print(encoding, type(decoded_content), len(decoded_content))"
   ]
  },
  {
   "cell_type": "code",
   "execution_count": 4,
   "metadata": {
    "scrolled": false
   },
   "outputs": [
    {
     "name": "stdout",
     "output_type": "stream",
     "text": [
      "Pulling request content from cache!\n",
      "http://www.7723.cn/zuixin/jiaose_1.htm\n",
      "181 http://www.7723.cn/zuixin/jiaose_1.htm\n",
      "Pulling request content from cache!\n",
      "http://www.7723.cn/zuixin/yizhi_1.htm\n",
      "206 http://www.7723.cn/zuixin/yizhi_1.htm\n",
      "Pulling request content from cache!\n",
      "http://www.7723.cn/zuixin/dongzuo_1.htm\n",
      "169 http://www.7723.cn/zuixin/dongzuo_1.htm\n",
      "Pulling request content from cache!\n",
      "http://www.7723.cn/zuixin/saiche_1.htm\n",
      "42 http://www.7723.cn/zuixin/saiche_1.htm\n",
      "Pulling request content from cache!\n",
      "http://www.7723.cn/zuixin/maoxian_1.htm\n",
      "58 http://www.7723.cn/zuixin/maoxian_1.htm\n",
      "Pulling request content from cache!\n",
      "http://www.7723.cn/zuixin/yangcheng_1.htm\n",
      "21 http://www.7723.cn/zuixin/yangcheng_1.htm\n",
      "Pulling request content from cache!\n",
      "http://www.7723.cn/zuixin/tiyu_1.htm\n",
      "52 http://www.7723.cn/zuixin/tiyu_1.htm\n",
      "Pulling request content from cache!\n",
      "http://www.7723.cn/zuixin/gedou_1.htm\n",
      "27 http://www.7723.cn/zuixin/gedou_1.htm\n",
      "Pulling request content from cache!\n",
      "http://www.7723.cn/zuixin/qipai_1.htm\n",
      "55 http://www.7723.cn/zuixin/qipai_1.htm\n",
      "Pulling request content from cache!\n",
      "http://www.7723.cn/zuixin/celue_1.htm\n",
      "52 http://www.7723.cn/zuixin/celue_1.htm\n",
      "Pulling request content from cache!\n",
      "http://www.7723.cn/zuixin/sheji_1.htm\n",
      "71 http://www.7723.cn/zuixin/sheji_1.htm\n",
      "Pulling request content from cache!\n",
      "http://www.7723.cn/zuixin/moni_1.htm\n",
      "31 http://www.7723.cn/zuixin/moni_1.htm\n",
      "Pulling request content from cache!\n",
      "http://www.7723.cn/zuixin/feixing_1.htm\n",
      "30 http://www.7723.cn/zuixin/feixing_1.htm\n",
      "Pulling request content from cache!\n",
      "http://www.7723.cn/zuixin/wangyou_1.htm\n",
      "2 http://www.7723.cn/zuixin/wangyou_1.htm\n"
     ]
    },
    {
     "data": {
      "text/plain": [
       "(997, 997)"
      ]
     },
     "execution_count": 4,
     "metadata": {},
     "output_type": "execute_result"
    }
   ],
   "source": [
    "game_listing_pages = []\n",
    "\n",
    "for first_page_url in genre_first_page_urls:\n",
    "    genre_page_urls = get_all_genre_urls(first_page_url)\n",
    "    \n",
    "    if genre_page_urls is None:\n",
    "        continue\n",
    "\n",
    "    print(len(genre_page_urls), first_page_url)\n",
    "    \n",
    "    game_listing_pages.extend(genre_page_urls)\n",
    "\n",
    "len(game_listing_pages), len(set(game_listing_pages))"
   ]
  },
  {
   "cell_type": "markdown",
   "metadata": {},
   "source": [
    "request and cache response for these pages"
   ]
  },
  {
   "cell_type": "code",
   "execution_count": null,
   "metadata": {},
   "outputs": [],
   "source": [
    "# pbar = tqdm(game_listing_pages)\n",
    "# for page_url in pbar:\n",
    "#     pbar.set_description(page_url)\n",
    "#     GET(page_url, verbose=False)"
   ]
  },
  {
   "cell_type": "markdown",
   "metadata": {},
   "source": [
    "# Parse game listing page for game page url"
   ]
  },
  {
   "cell_type": "markdown",
   "metadata": {},
   "source": [
    "Here is the sample of game listing page.\n",
    "\n",
    "![](./docs/images/7723.cn-game-listing-page.png)"
   ]
  },
  {
   "cell_type": "code",
   "execution_count": 5,
   "metadata": {},
   "outputs": [],
   "source": [
    "def parse_game_listing_page(url: str, verbose=True):\n",
    "    content, response, error = GET(url, verbose=verbose)\n",
    "    if content is None:\n",
    "        if verbose:\n",
    "            print('content is None!')\n",
    "        return None\n",
    "    \n",
    "    _, decoded_content = Encoding.decode(content)\n",
    "    soup = BeautifulSoup(decoded_content)\n",
    "    \n",
    "    selector = '#content'\n",
    "    content_div = soup.select_one(selector)\n",
    "    if content_div is None:\n",
    "        print(f'Failed to get content container with selector {selector}')\n",
    "        print('->', url)\n",
    "        return None\n",
    "    \n",
    "    selector = 'ul.container'\n",
    "    ul_container = content_div.select_one(selector)\n",
    "    if ul_container is None:\n",
    "        print(f'Failed to get game list container with selector {selector}')\n",
    "        print('->', url)\n",
    "        return None\n",
    "    \n",
    "    game_pages = []\n",
    "\n",
    "    els = ul_container.find_all('li', recursive=False)\n",
    "    els.extend(ul_container.select('dd>li'))\n",
    "\n",
    "    for el in els:\n",
    "        selector = 'a'\n",
    "        anchor = el.select_one(selector)\n",
    "        if anchor is None:\n",
    "            print(f'This game entry does not have an a element!')\n",
    "            print('->', el)\n",
    "            print('->', url)\n",
    "            continue\n",
    "            \n",
    "        if 'href' in anchor.attrs:\n",
    "            game_page_url = anchor.attrs['href']\n",
    "            game_pages.append(game_page_url)\n",
    "    \n",
    "    return game_pages"
   ]
  },
  {
   "cell_type": "code",
   "execution_count": 6,
   "metadata": {},
   "outputs": [
    {
     "name": "stderr",
     "output_type": "stream",
     "text": [
      "http://www.7723.cn/zuixin/jiaose_7.htm:   0%|▌                                                                                                                                  | 4/997 [00:00<00:26, 37.14it/s]"
     ]
    },
    {
     "name": "stdout",
     "output_type": "stream",
     "text": [
      "Pulling request content from cache!\n",
      "http://www.7723.cn/zuixin/jiaose_1.htm\n",
      "Pulling request content from cache!\n",
      "http://www.7723.cn/zuixin/jiaose_2.htm\n",
      "Pulling request content from cache!\n",
      "http://www.7723.cn/zuixin/jiaose_3.htm\n",
      "Pulling request content from cache!\n",
      "http://www.7723.cn/zuixin/jiaose_4.htm\n",
      "Pulling request content from cache!\n",
      "http://www.7723.cn/zuixin/jiaose_5.htm\n",
      "Pulling request content from cache!\n",
      "http://www.7723.cn/zuixin/jiaose_6.htm\n"
     ]
    },
    {
     "name": "stderr",
     "output_type": "stream",
     "text": [
      "http://www.7723.cn/zuixin/jiaose_14.htm:   1%|█▍                                                                                                                               | 11/997 [00:00<00:28, 34.42it/s]"
     ]
    },
    {
     "name": "stdout",
     "output_type": "stream",
     "text": [
      "Pulling request content from cache!\n",
      "http://www.7723.cn/zuixin/jiaose_7.htm\n",
      "Pulling request content from cache!\n",
      "http://www.7723.cn/zuixin/jiaose_8.htm\n",
      "Pulling request content from cache!\n",
      "http://www.7723.cn/zuixin/jiaose_9.htm\n",
      "Pulling request content from cache!\n",
      "http://www.7723.cn/zuixin/jiaose_10.htm\n",
      "Pulling request content from cache!\n",
      "http://www.7723.cn/zuixin/jiaose_11.htm\n",
      "Pulling request content from cache!\n",
      "http://www.7723.cn/zuixin/jiaose_12.htm\n",
      "Pulling request content from cache!\n",
      "http://www.7723.cn/zuixin/jiaose_13.htm\n"
     ]
    },
    {
     "name": "stderr",
     "output_type": "stream",
     "text": [
      "http://www.7723.cn/zuixin/jiaose_21.htm:   2%|██▍                                                                                                                              | 19/997 [00:00<00:28, 34.18it/s]"
     ]
    },
    {
     "name": "stdout",
     "output_type": "stream",
     "text": [
      "Pulling request content from cache!\n",
      "http://www.7723.cn/zuixin/jiaose_14.htm\n",
      "Pulling request content from cache!\n",
      "http://www.7723.cn/zuixin/jiaose_15.htm\n",
      "Pulling request content from cache!\n",
      "http://www.7723.cn/zuixin/jiaose_16.htm\n",
      "Pulling request content from cache!\n",
      "http://www.7723.cn/zuixin/jiaose_17.htm\n",
      "Pulling request content from cache!\n",
      "http://www.7723.cn/zuixin/jiaose_18.htm\n",
      "Pulling request content from cache!\n",
      "http://www.7723.cn/zuixin/jiaose_19.htm\n",
      "Pulling request content from cache!\n",
      "http://www.7723.cn/zuixin/jiaose_20.htm\n"
     ]
    },
    {
     "name": "stderr",
     "output_type": "stream",
     "text": [
      "http://www.7723.cn/zuixin/jiaose_27.htm:   2%|██▉                                                                                                                              | 23/997 [00:00<00:28, 34.74it/s]"
     ]
    },
    {
     "name": "stdout",
     "output_type": "stream",
     "text": [
      "Pulling request content from cache!\n",
      "http://www.7723.cn/zuixin/jiaose_21.htm\n",
      "Pulling request content from cache!\n",
      "http://www.7723.cn/zuixin/jiaose_22.htm\n",
      "Pulling request content from cache!\n",
      "http://www.7723.cn/zuixin/jiaose_23.htm\n",
      "Pulling request content from cache!\n",
      "http://www.7723.cn/zuixin/jiaose_24.htm\n",
      "Pulling request content from cache!\n",
      "http://www.7723.cn/zuixin/jiaose_25.htm\n",
      "Pulling request content from cache!\n",
      "http://www.7723.cn/zuixin/jiaose_26.htm\n",
      "Pulling request content from cache!\n",
      "http://www.7723.cn/zuixin/jiaose_27.htm\n"
     ]
    },
    {
     "name": "stderr",
     "output_type": "stream",
     "text": [
      "http://www.7723.cn/zuixin/jiaose_34.htm:   3%|████                                                                                                                             | 31/997 [00:00<00:27, 34.54it/s]"
     ]
    },
    {
     "name": "stdout",
     "output_type": "stream",
     "text": [
      "Pulling request content from cache!\n",
      "http://www.7723.cn/zuixin/jiaose_28.htm\n",
      "Pulling request content from cache!\n",
      "http://www.7723.cn/zuixin/jiaose_29.htm\n",
      "Pulling request content from cache!\n",
      "http://www.7723.cn/zuixin/jiaose_30.htm\n",
      "Pulling request content from cache!\n",
      "http://www.7723.cn/zuixin/jiaose_31.htm\n",
      "Pulling request content from cache!\n",
      "http://www.7723.cn/zuixin/jiaose_32.htm\n",
      "Pulling request content from cache!\n",
      "http://www.7723.cn/zuixin/jiaose_33.htm\n",
      "Pulling request content from cache!\n",
      "http://www.7723.cn/zuixin/jiaose_34.htm\n"
     ]
    },
    {
     "name": "stderr",
     "output_type": "stream",
     "text": [
      "http://www.7723.cn/zuixin/jiaose_40.htm:   4%|█████                                                                                                                            | 39/997 [00:01<00:29, 32.65it/s]"
     ]
    },
    {
     "name": "stdout",
     "output_type": "stream",
     "text": [
      "Pulling request content from cache!\n",
      "http://www.7723.cn/zuixin/jiaose_35.htm\n",
      "Pulling request content from cache!\n",
      "http://www.7723.cn/zuixin/jiaose_36.htm\n",
      "Pulling request content from cache!\n",
      "http://www.7723.cn/zuixin/jiaose_37.htm\n",
      "Pulling request content from cache!\n",
      "http://www.7723.cn/zuixin/jiaose_38.htm\n",
      "Pulling request content from cache!\n",
      "http://www.7723.cn/zuixin/jiaose_39.htm\n",
      "Pulling request content from cache!\n",
      "http://www.7723.cn/zuixin/jiaose_40.htm\n"
     ]
    },
    {
     "name": "stderr",
     "output_type": "stream",
     "text": [
      "http://www.7723.cn/zuixin/jiaose_47.htm:   4%|█████▌                                                                                                                           | 43/997 [00:01<00:28, 33.04it/s]"
     ]
    },
    {
     "name": "stdout",
     "output_type": "stream",
     "text": [
      "Pulling request content from cache!\n",
      "http://www.7723.cn/zuixin/jiaose_41.htm\n",
      "Pulling request content from cache!\n",
      "http://www.7723.cn/zuixin/jiaose_42.htm\n",
      "Pulling request content from cache!\n",
      "http://www.7723.cn/zuixin/jiaose_43.htm\n",
      "Pulling request content from cache!\n",
      "http://www.7723.cn/zuixin/jiaose_44.htm\n",
      "Pulling request content from cache!\n",
      "http://www.7723.cn/zuixin/jiaose_45.htm\n",
      "Pulling request content from cache!\n",
      "http://www.7723.cn/zuixin/jiaose_46.htm\n"
     ]
    },
    {
     "name": "stderr",
     "output_type": "stream",
     "text": [
      "http://www.7723.cn/zuixin/jiaose_54.htm:   5%|██████▌                                                                                                                          | 51/997 [00:01<00:27, 34.09it/s]"
     ]
    },
    {
     "name": "stdout",
     "output_type": "stream",
     "text": [
      "Pulling request content from cache!\n",
      "http://www.7723.cn/zuixin/jiaose_47.htm\n",
      "Pulling request content from cache!\n",
      "http://www.7723.cn/zuixin/jiaose_48.htm\n",
      "Pulling request content from cache!\n",
      "http://www.7723.cn/zuixin/jiaose_49.htm\n",
      "Pulling request content from cache!\n",
      "http://www.7723.cn/zuixin/jiaose_50.htm\n",
      "Pulling request content from cache!\n",
      "http://www.7723.cn/zuixin/jiaose_51.htm\n",
      "Pulling request content from cache!\n",
      "http://www.7723.cn/zuixin/jiaose_52.htm\n",
      "Pulling request content from cache!\n",
      "http://www.7723.cn/zuixin/jiaose_53.htm\n"
     ]
    },
    {
     "name": "stderr",
     "output_type": "stream",
     "text": [
      "http://www.7723.cn/zuixin/jiaose_60.htm:   6%|███████▋                                                                                                                         | 59/997 [00:01<00:27, 33.90it/s]"
     ]
    },
    {
     "name": "stdout",
     "output_type": "stream",
     "text": [
      "Pulling request content from cache!\n",
      "http://www.7723.cn/zuixin/jiaose_54.htm\n",
      "Pulling request content from cache!\n",
      "http://www.7723.cn/zuixin/jiaose_55.htm\n",
      "Pulling request content from cache!\n",
      "http://www.7723.cn/zuixin/jiaose_56.htm\n",
      "Pulling request content from cache!\n",
      "http://www.7723.cn/zuixin/jiaose_57.htm\n",
      "Pulling request content from cache!\n",
      "http://www.7723.cn/zuixin/jiaose_58.htm\n",
      "Pulling request content from cache!\n",
      "http://www.7723.cn/zuixin/jiaose_59.htm\n",
      "Pulling request content from cache!\n",
      "http://www.7723.cn/zuixin/jiaose_60.htm\n"
     ]
    },
    {
     "name": "stderr",
     "output_type": "stream",
     "text": [
      "http://www.7723.cn/zuixin/jiaose_66.htm:   6%|████████▏                                                                                                                        | 63/997 [00:01<00:28, 32.86it/s]"
     ]
    },
    {
     "name": "stdout",
     "output_type": "stream",
     "text": [
      "Pulling request content from cache!\n",
      "http://www.7723.cn/zuixin/jiaose_61.htm\n",
      "Pulling request content from cache!\n",
      "http://www.7723.cn/zuixin/jiaose_62.htm\n",
      "Pulling request content from cache!\n",
      "http://www.7723.cn/zuixin/jiaose_63.htm\n",
      "Pulling request content from cache!\n",
      "http://www.7723.cn/zuixin/jiaose_64.htm\n",
      "Pulling request content from cache!\n",
      "http://www.7723.cn/zuixin/jiaose_65.htm\n",
      "Pulling request content from cache!\n",
      "http://www.7723.cn/zuixin/jiaose_66.htm\n"
     ]
    },
    {
     "name": "stderr",
     "output_type": "stream",
     "text": [
      "http://www.7723.cn/zuixin/jiaose_74.htm:   7%|█████████▏                                                                                                                       | 71/997 [00:02<00:28, 32.74it/s]"
     ]
    },
    {
     "name": "stdout",
     "output_type": "stream",
     "text": [
      "Pulling request content from cache!\n",
      "http://www.7723.cn/zuixin/jiaose_67.htm\n",
      "Pulling request content from cache!\n",
      "http://www.7723.cn/zuixin/jiaose_68.htm\n",
      "Pulling request content from cache!\n",
      "http://www.7723.cn/zuixin/jiaose_69.htm\n",
      "Pulling request content from cache!\n",
      "http://www.7723.cn/zuixin/jiaose_70.htm\n",
      "Pulling request content from cache!\n",
      "http://www.7723.cn/zuixin/jiaose_71.htm\n",
      "Pulling request content from cache!\n",
      "http://www.7723.cn/zuixin/jiaose_72.htm\n",
      "Pulling request content from cache!\n",
      "http://www.7723.cn/zuixin/jiaose_73.htm\n"
     ]
    },
    {
     "name": "stderr",
     "output_type": "stream",
     "text": [
      "http://www.7723.cn/zuixin/jiaose_80.htm:   8%|██████████▏                                                                                                                      | 79/997 [00:02<00:27, 33.21it/s]"
     ]
    },
    {
     "name": "stdout",
     "output_type": "stream",
     "text": [
      "Pulling request content from cache!\n",
      "http://www.7723.cn/zuixin/jiaose_74.htm\n",
      "Pulling request content from cache!\n",
      "http://www.7723.cn/zuixin/jiaose_75.htm\n",
      "Pulling request content from cache!\n",
      "http://www.7723.cn/zuixin/jiaose_76.htm\n",
      "Pulling request content from cache!\n",
      "http://www.7723.cn/zuixin/jiaose_77.htm\n",
      "Pulling request content from cache!\n",
      "http://www.7723.cn/zuixin/jiaose_78.htm\n",
      "Pulling request content from cache!\n",
      "http://www.7723.cn/zuixin/jiaose_79.htm\n",
      "Pulling request content from cache!\n",
      "http://www.7723.cn/zuixin/jiaose_80.htm\n"
     ]
    },
    {
     "name": "stderr",
     "output_type": "stream",
     "text": [
      "http://www.7723.cn/zuixin/jiaose_87.htm:   8%|██████████▋                                                                                                                      | 83/997 [00:02<00:27, 32.70it/s]"
     ]
    },
    {
     "name": "stdout",
     "output_type": "stream",
     "text": [
      "Pulling request content from cache!\n",
      "http://www.7723.cn/zuixin/jiaose_81.htm\n",
      "Pulling request content from cache!\n",
      "http://www.7723.cn/zuixin/jiaose_82.htm\n",
      "Pulling request content from cache!\n",
      "http://www.7723.cn/zuixin/jiaose_83.htm\n",
      "Pulling request content from cache!\n",
      "http://www.7723.cn/zuixin/jiaose_84.htm\n",
      "Pulling request content from cache!\n",
      "http://www.7723.cn/zuixin/jiaose_85.htm\n",
      "Pulling request content from cache!\n",
      "http://www.7723.cn/zuixin/jiaose_86.htm\n",
      "Pulling request content from cache!\n",
      "http://www.7723.cn/zuixin/jiaose_87.htm\n"
     ]
    },
    {
     "name": "stderr",
     "output_type": "stream",
     "text": [
      "http://www.7723.cn/zuixin/jiaose_94.htm:   9%|███████████▊                                                                                                                     | 91/997 [00:02<00:27, 32.64it/s]"
     ]
    },
    {
     "name": "stdout",
     "output_type": "stream",
     "text": [
      "Pulling request content from cache!\n",
      "http://www.7723.cn/zuixin/jiaose_88.htm\n",
      "Pulling request content from cache!\n",
      "http://www.7723.cn/zuixin/jiaose_89.htm\n",
      "Pulling request content from cache!\n",
      "http://www.7723.cn/zuixin/jiaose_90.htm\n",
      "Pulling request content from cache!\n",
      "http://www.7723.cn/zuixin/jiaose_91.htm\n",
      "Pulling request content from cache!\n",
      "http://www.7723.cn/zuixin/jiaose_92.htm\n",
      "Pulling request content from cache!\n",
      "http://www.7723.cn/zuixin/jiaose_93.htm\n"
     ]
    },
    {
     "name": "stderr",
     "output_type": "stream",
     "text": [
      "http://www.7723.cn/zuixin/jiaose_99.htm:  10%|████████████▎                                                                                                                    | 95/997 [00:02<00:27, 32.45it/s]"
     ]
    },
    {
     "name": "stdout",
     "output_type": "stream",
     "text": [
      "Pulling request content from cache!\n",
      "http://www.7723.cn/zuixin/jiaose_94.htm\n",
      "Pulling request content from cache!\n",
      "http://www.7723.cn/zuixin/jiaose_95.htm\n",
      "Pulling request content from cache!\n",
      "http://www.7723.cn/zuixin/jiaose_96.htm\n",
      "Pulling request content from cache!\n",
      "http://www.7723.cn/zuixin/jiaose_97.htm\n",
      "Pulling request content from cache!\n",
      "http://www.7723.cn/zuixin/jiaose_98.htm\n"
     ]
    },
    {
     "name": "stderr",
     "output_type": "stream",
     "text": [
      "http://www.7723.cn/zuixin/jiaose_106.htm:  10%|█████████████                                                                                                                  | 103/997 [00:03<00:28, 31.58it/s]"
     ]
    },
    {
     "name": "stdout",
     "output_type": "stream",
     "text": [
      "Pulling request content from cache!\n",
      "http://www.7723.cn/zuixin/jiaose_99.htm\n",
      "Pulling request content from cache!\n",
      "http://www.7723.cn/zuixin/jiaose_100.htm\n",
      "Pulling request content from cache!\n",
      "http://www.7723.cn/zuixin/jiaose_101.htm\n",
      "Pulling request content from cache!\n",
      "http://www.7723.cn/zuixin/jiaose_102.htm\n",
      "Pulling request content from cache!\n",
      "http://www.7723.cn/zuixin/jiaose_103.htm\n",
      "Pulling request content from cache!\n",
      "http://www.7723.cn/zuixin/jiaose_104.htm\n",
      "Pulling request content from cache!\n",
      "http://www.7723.cn/zuixin/jiaose_105.htm\n"
     ]
    },
    {
     "name": "stderr",
     "output_type": "stream",
     "text": [
      "http://www.7723.cn/zuixin/jiaose_111.htm:  11%|█████████████▋                                                                                                                 | 107/997 [00:03<00:29, 30.12it/s]"
     ]
    },
    {
     "name": "stdout",
     "output_type": "stream",
     "text": [
      "Pulling request content from cache!\n",
      "http://www.7723.cn/zuixin/jiaose_106.htm\n",
      "Pulling request content from cache!\n",
      "http://www.7723.cn/zuixin/jiaose_107.htm\n",
      "Pulling request content from cache!\n",
      "http://www.7723.cn/zuixin/jiaose_108.htm\n",
      "Pulling request content from cache!\n",
      "http://www.7723.cn/zuixin/jiaose_109.htm\n",
      "Pulling request content from cache!\n",
      "http://www.7723.cn/zuixin/jiaose_110.htm\n",
      "Pulling request content from cache!\n",
      "http://www.7723.cn/zuixin/jiaose_111.htm\n"
     ]
    },
    {
     "name": "stderr",
     "output_type": "stream",
     "text": [
      "http://www.7723.cn/zuixin/jiaose_118.htm:  12%|██████████████▋                                                                                                                | 115/997 [00:03<00:28, 31.34it/s]"
     ]
    },
    {
     "name": "stdout",
     "output_type": "stream",
     "text": [
      "Pulling request content from cache!\n",
      "http://www.7723.cn/zuixin/jiaose_112.htm\n",
      "Pulling request content from cache!\n",
      "http://www.7723.cn/zuixin/jiaose_113.htm\n",
      "Pulling request content from cache!\n",
      "http://www.7723.cn/zuixin/jiaose_114.htm\n",
      "Pulling request content from cache!\n",
      "http://www.7723.cn/zuixin/jiaose_115.htm\n",
      "Pulling request content from cache!\n",
      "http://www.7723.cn/zuixin/jiaose_116.htm\n",
      "Pulling request content from cache!\n",
      "http://www.7723.cn/zuixin/jiaose_117.htm\n"
     ]
    },
    {
     "name": "stderr",
     "output_type": "stream",
     "text": [
      "http://www.7723.cn/zuixin/jiaose_123.htm:  12%|███████████████▋                                                                                                               | 123/997 [00:03<00:27, 32.36it/s]"
     ]
    },
    {
     "name": "stdout",
     "output_type": "stream",
     "text": [
      "Pulling request content from cache!\n",
      "http://www.7723.cn/zuixin/jiaose_118.htm\n",
      "Pulling request content from cache!\n",
      "http://www.7723.cn/zuixin/jiaose_119.htm\n",
      "Pulling request content from cache!\n",
      "http://www.7723.cn/zuixin/jiaose_120.htm\n",
      "Pulling request content from cache!\n",
      "http://www.7723.cn/zuixin/jiaose_121.htm\n",
      "Pulling request content from cache!\n",
      "http://www.7723.cn/zuixin/jiaose_122.htm\n",
      "Pulling request content from cache!\n",
      "http://www.7723.cn/zuixin/jiaose_123.htm\n"
     ]
    },
    {
     "name": "stderr",
     "output_type": "stream",
     "text": [
      "http://www.7723.cn/zuixin/jiaose_130.htm:  13%|████████████████▏                                                                                                              | 127/997 [00:03<00:27, 31.29it/s]"
     ]
    },
    {
     "name": "stdout",
     "output_type": "stream",
     "text": [
      "Pulling request content from cache!\n",
      "http://www.7723.cn/zuixin/jiaose_124.htm\n",
      "Pulling request content from cache!\n",
      "http://www.7723.cn/zuixin/jiaose_125.htm\n",
      "Pulling request content from cache!\n",
      "http://www.7723.cn/zuixin/jiaose_126.htm\n",
      "Pulling request content from cache!\n",
      "http://www.7723.cn/zuixin/jiaose_127.htm\n",
      "Pulling request content from cache!\n",
      "http://www.7723.cn/zuixin/jiaose_128.htm\n",
      "Pulling request content from cache!\n",
      "http://www.7723.cn/zuixin/jiaose_129.htm\n"
     ]
    },
    {
     "name": "stderr",
     "output_type": "stream",
     "text": [
      "http://www.7723.cn/zuixin/jiaose_136.htm:  14%|█████████████████▏                                                                                                             | 135/997 [00:04<00:26, 33.13it/s]"
     ]
    },
    {
     "name": "stdout",
     "output_type": "stream",
     "text": [
      "Pulling request content from cache!\n",
      "http://www.7723.cn/zuixin/jiaose_130.htm\n",
      "Pulling request content from cache!\n",
      "http://www.7723.cn/zuixin/jiaose_131.htm\n",
      "Pulling request content from cache!\n",
      "http://www.7723.cn/zuixin/jiaose_132.htm\n",
      "Pulling request content from cache!\n",
      "http://www.7723.cn/zuixin/jiaose_133.htm\n",
      "Pulling request content from cache!\n",
      "http://www.7723.cn/zuixin/jiaose_134.htm\n",
      "Pulling request content from cache!\n",
      "http://www.7723.cn/zuixin/jiaose_135.htm\n",
      "Pulling request content from cache!\n",
      "http://www.7723.cn/zuixin/jiaose_136.htm\n"
     ]
    },
    {
     "name": "stderr",
     "output_type": "stream",
     "text": [
      "http://www.7723.cn/zuixin/jiaose_143.htm:  14%|█████████████████▋                                                                                                             | 139/997 [00:04<00:26, 32.97it/s]"
     ]
    },
    {
     "name": "stdout",
     "output_type": "stream",
     "text": [
      "Pulling request content from cache!\n",
      "http://www.7723.cn/zuixin/jiaose_137.htm\n",
      "Pulling request content from cache!\n",
      "http://www.7723.cn/zuixin/jiaose_138.htm\n",
      "Pulling request content from cache!\n",
      "http://www.7723.cn/zuixin/jiaose_139.htm\n",
      "Pulling request content from cache!\n",
      "http://www.7723.cn/zuixin/jiaose_140.htm\n",
      "Pulling request content from cache!\n",
      "http://www.7723.cn/zuixin/jiaose_141.htm\n",
      "Pulling request content from cache!\n",
      "http://www.7723.cn/zuixin/jiaose_142.htm\n"
     ]
    },
    {
     "name": "stderr",
     "output_type": "stream",
     "text": [
      "http://www.7723.cn/zuixin/jiaose_149.htm:  15%|██████████████████▋                                                                                                            | 147/997 [00:04<00:26, 32.64it/s]"
     ]
    },
    {
     "name": "stdout",
     "output_type": "stream",
     "text": [
      "Pulling request content from cache!\n",
      "http://www.7723.cn/zuixin/jiaose_143.htm\n",
      "Pulling request content from cache!\n",
      "http://www.7723.cn/zuixin/jiaose_144.htm\n",
      "Pulling request content from cache!\n",
      "http://www.7723.cn/zuixin/jiaose_145.htm\n",
      "Pulling request content from cache!\n",
      "http://www.7723.cn/zuixin/jiaose_146.htm\n",
      "Pulling request content from cache!\n",
      "http://www.7723.cn/zuixin/jiaose_147.htm\n",
      "Pulling request content from cache!\n",
      "http://www.7723.cn/zuixin/jiaose_148.htm\n"
     ]
    },
    {
     "name": "stderr",
     "output_type": "stream",
     "text": [
      "http://www.7723.cn/zuixin/jiaose_155.htm:  15%|███████████████████▏                                                                                                           | 151/997 [00:04<00:26, 32.28it/s]"
     ]
    },
    {
     "name": "stdout",
     "output_type": "stream",
     "text": [
      "Pulling request content from cache!\n",
      "http://www.7723.cn/zuixin/jiaose_149.htm\n",
      "Pulling request content from cache!\n",
      "http://www.7723.cn/zuixin/jiaose_150.htm\n",
      "Pulling request content from cache!\n",
      "http://www.7723.cn/zuixin/jiaose_151.htm\n",
      "Pulling request content from cache!\n",
      "http://www.7723.cn/zuixin/jiaose_152.htm\n",
      "Pulling request content from cache!\n",
      "http://www.7723.cn/zuixin/jiaose_153.htm\n",
      "Pulling request content from cache!\n",
      "http://www.7723.cn/zuixin/jiaose_154.htm\n"
     ]
    },
    {
     "name": "stderr",
     "output_type": "stream",
     "text": [
      "http://www.7723.cn/zuixin/jiaose_161.htm:  16%|████████████████████▎                                                                                                          | 159/997 [00:04<00:27, 30.86it/s]"
     ]
    },
    {
     "name": "stdout",
     "output_type": "stream",
     "text": [
      "Pulling request content from cache!\n",
      "http://www.7723.cn/zuixin/jiaose_155.htm\n",
      "Pulling request content from cache!\n",
      "http://www.7723.cn/zuixin/jiaose_156.htm\n",
      "Pulling request content from cache!\n",
      "http://www.7723.cn/zuixin/jiaose_157.htm\n",
      "Pulling request content from cache!\n",
      "http://www.7723.cn/zuixin/jiaose_158.htm\n",
      "Pulling request content from cache!\n",
      "http://www.7723.cn/zuixin/jiaose_159.htm\n",
      "Pulling request content from cache!\n",
      "http://www.7723.cn/zuixin/jiaose_160.htm\n"
     ]
    },
    {
     "name": "stderr",
     "output_type": "stream",
     "text": [
      "http://www.7723.cn/zuixin/jiaose_167.htm:  17%|█████████████████████▎                                                                                                         | 167/997 [00:05<00:26, 31.90it/s]"
     ]
    },
    {
     "name": "stdout",
     "output_type": "stream",
     "text": [
      "Pulling request content from cache!\n",
      "http://www.7723.cn/zuixin/jiaose_161.htm\n",
      "Pulling request content from cache!\n",
      "http://www.7723.cn/zuixin/jiaose_162.htm\n",
      "Pulling request content from cache!\n",
      "http://www.7723.cn/zuixin/jiaose_163.htm\n",
      "Pulling request content from cache!\n",
      "http://www.7723.cn/zuixin/jiaose_164.htm\n",
      "Pulling request content from cache!\n",
      "http://www.7723.cn/zuixin/jiaose_165.htm\n",
      "Pulling request content from cache!\n",
      "http://www.7723.cn/zuixin/jiaose_166.htm\n",
      "Pulling request content from cache!\n",
      "http://www.7723.cn/zuixin/jiaose_167.htm\n"
     ]
    },
    {
     "name": "stderr",
     "output_type": "stream",
     "text": [
      "http://www.7723.cn/zuixin/jiaose_174.htm:  17%|█████████████████████▊                                                                                                         | 171/997 [00:05<00:25, 32.09it/s]"
     ]
    },
    {
     "name": "stdout",
     "output_type": "stream",
     "text": [
      "Pulling request content from cache!\n",
      "http://www.7723.cn/zuixin/jiaose_168.htm\n",
      "Pulling request content from cache!\n",
      "http://www.7723.cn/zuixin/jiaose_169.htm\n",
      "Pulling request content from cache!\n",
      "http://www.7723.cn/zuixin/jiaose_170.htm\n",
      "Pulling request content from cache!\n",
      "http://www.7723.cn/zuixin/jiaose_171.htm\n",
      "Pulling request content from cache!\n",
      "http://www.7723.cn/zuixin/jiaose_172.htm\n",
      "Pulling request content from cache!\n",
      "http://www.7723.cn/zuixin/jiaose_173.htm\n"
     ]
    },
    {
     "name": "stderr",
     "output_type": "stream",
     "text": [
      "http://www.7723.cn/zuixin/jiaose_181.htm:  18%|██████████████████████▊                                                                                                        | 179/997 [00:05<00:24, 33.16it/s]"
     ]
    },
    {
     "name": "stdout",
     "output_type": "stream",
     "text": [
      "Pulling request content from cache!\n",
      "http://www.7723.cn/zuixin/jiaose_174.htm\n",
      "Pulling request content from cache!\n",
      "http://www.7723.cn/zuixin/jiaose_175.htm\n",
      "Pulling request content from cache!\n",
      "http://www.7723.cn/zuixin/jiaose_176.htm\n",
      "Pulling request content from cache!\n",
      "http://www.7723.cn/zuixin/jiaose_177.htm\n",
      "Pulling request content from cache!\n",
      "http://www.7723.cn/zuixin/jiaose_178.htm\n",
      "Pulling request content from cache!\n",
      "http://www.7723.cn/zuixin/jiaose_179.htm\n",
      "Pulling request content from cache!\n",
      "http://www.7723.cn/zuixin/jiaose_180.htm\n"
     ]
    },
    {
     "name": "stderr",
     "output_type": "stream",
     "text": [
      "http://www.7723.cn/zuixin/yizhi_6.htm:  18%|███████████████████████▉                                                                                                          | 184/997 [00:05<00:23, 34.76it/s]"
     ]
    },
    {
     "name": "stdout",
     "output_type": "stream",
     "text": [
      "Pulling request content from cache!\n",
      "http://www.7723.cn/zuixin/jiaose_181.htm\n",
      "Pulling request content from cache!\n",
      "http://www.7723.cn/zuixin/yizhi_1.htm\n",
      "Pulling request content from cache!\n",
      "http://www.7723.cn/zuixin/yizhi_2.htm\n",
      "Pulling request content from cache!\n",
      "http://www.7723.cn/zuixin/yizhi_3.htm\n",
      "Pulling request content from cache!\n",
      "http://www.7723.cn/zuixin/yizhi_4.htm\n",
      "Pulling request content from cache!\n",
      "http://www.7723.cn/zuixin/yizhi_5.htm\n",
      "Pulling request content from cache!\n",
      "http://www.7723.cn/zuixin/yizhi_6.htm\n"
     ]
    },
    {
     "name": "stderr",
     "output_type": "stream",
     "text": [
      "http://www.7723.cn/zuixin/yizhi_12.htm:  19%|████████████████████████▊                                                                                                        | 192/997 [00:05<00:24, 32.35it/s]"
     ]
    },
    {
     "name": "stdout",
     "output_type": "stream",
     "text": [
      "Pulling request content from cache!\n",
      "http://www.7723.cn/zuixin/yizhi_7.htm\n",
      "Pulling request content from cache!\n",
      "http://www.7723.cn/zuixin/yizhi_8.htm\n",
      "Pulling request content from cache!\n",
      "http://www.7723.cn/zuixin/yizhi_9.htm\n",
      "Pulling request content from cache!\n",
      "http://www.7723.cn/zuixin/yizhi_10.htm\n",
      "Pulling request content from cache!\n",
      "http://www.7723.cn/zuixin/yizhi_11.htm\n",
      "Pulling request content from cache!\n",
      "http://www.7723.cn/zuixin/yizhi_12.htm\n"
     ]
    },
    {
     "name": "stderr",
     "output_type": "stream",
     "text": [
      "http://www.7723.cn/zuixin/yizhi_19.htm:  20%|█████████████████████████▉                                                                                                       | 200/997 [00:06<00:24, 32.95it/s]"
     ]
    },
    {
     "name": "stdout",
     "output_type": "stream",
     "text": [
      "Pulling request content from cache!\n",
      "http://www.7723.cn/zuixin/yizhi_13.htm\n",
      "Pulling request content from cache!\n",
      "http://www.7723.cn/zuixin/yizhi_14.htm\n",
      "Pulling request content from cache!\n",
      "http://www.7723.cn/zuixin/yizhi_15.htm\n",
      "Pulling request content from cache!\n",
      "http://www.7723.cn/zuixin/yizhi_16.htm\n",
      "Pulling request content from cache!\n",
      "http://www.7723.cn/zuixin/yizhi_17.htm\n",
      "Pulling request content from cache!\n",
      "http://www.7723.cn/zuixin/yizhi_18.htm\n",
      "Pulling request content from cache!\n",
      "http://www.7723.cn/zuixin/yizhi_19.htm\n"
     ]
    },
    {
     "name": "stderr",
     "output_type": "stream",
     "text": [
      "http://www.7723.cn/zuixin/yizhi_27.htm:  20%|██████████████████████████▍                                                                                                      | 204/997 [00:06<00:23, 33.34it/s]"
     ]
    },
    {
     "name": "stdout",
     "output_type": "stream",
     "text": [
      "Pulling request content from cache!\n",
      "http://www.7723.cn/zuixin/yizhi_20.htm\n",
      "Pulling request content from cache!\n",
      "http://www.7723.cn/zuixin/yizhi_21.htm\n",
      "Pulling request content from cache!\n",
      "http://www.7723.cn/zuixin/yizhi_22.htm\n",
      "Pulling request content from cache!\n",
      "http://www.7723.cn/zuixin/yizhi_23.htm\n",
      "Pulling request content from cache!\n",
      "http://www.7723.cn/zuixin/yizhi_24.htm\n",
      "Pulling request content from cache!\n",
      "http://www.7723.cn/zuixin/yizhi_25.htm\n",
      "Pulling request content from cache!\n",
      "http://www.7723.cn/zuixin/yizhi_26.htm\n"
     ]
    },
    {
     "name": "stderr",
     "output_type": "stream",
     "text": [
      "http://www.7723.cn/zuixin/yizhi_33.htm:  21%|███████████████████████████▍                                                                                                     | 212/997 [00:06<00:23, 33.04it/s]"
     ]
    },
    {
     "name": "stdout",
     "output_type": "stream",
     "text": [
      "Pulling request content from cache!\n",
      "http://www.7723.cn/zuixin/yizhi_27.htm\n",
      "Pulling request content from cache!\n",
      "http://www.7723.cn/zuixin/yizhi_28.htm\n",
      "Pulling request content from cache!\n",
      "http://www.7723.cn/zuixin/yizhi_29.htm\n",
      "Pulling request content from cache!\n",
      "http://www.7723.cn/zuixin/yizhi_30.htm\n",
      "Pulling request content from cache!\n",
      "http://www.7723.cn/zuixin/yizhi_31.htm\n",
      "Pulling request content from cache!\n",
      "http://www.7723.cn/zuixin/yizhi_32.htm\n"
     ]
    },
    {
     "name": "stderr",
     "output_type": "stream",
     "text": [
      "http://www.7723.cn/zuixin/yizhi_38.htm:  22%|███████████████████████████▉                                                                                                     | 216/997 [00:06<00:24, 32.43it/s]"
     ]
    },
    {
     "name": "stdout",
     "output_type": "stream",
     "text": [
      "Pulling request content from cache!\n",
      "http://www.7723.cn/zuixin/yizhi_33.htm\n",
      "Pulling request content from cache!\n",
      "http://www.7723.cn/zuixin/yizhi_34.htm\n",
      "Pulling request content from cache!\n",
      "http://www.7723.cn/zuixin/yizhi_35.htm\n",
      "Pulling request content from cache!\n",
      "http://www.7723.cn/zuixin/yizhi_36.htm\n",
      "Pulling request content from cache!\n",
      "http://www.7723.cn/zuixin/yizhi_37.htm\n"
     ]
    },
    {
     "name": "stderr",
     "output_type": "stream",
     "text": [
      "http://www.7723.cn/zuixin/yizhi_44.htm:  22%|████████████████████████████▉                                                                                                    | 224/997 [00:06<00:24, 31.13it/s]"
     ]
    },
    {
     "name": "stdout",
     "output_type": "stream",
     "text": [
      "Pulling request content from cache!\n",
      "http://www.7723.cn/zuixin/yizhi_38.htm\n",
      "Pulling request content from cache!\n",
      "http://www.7723.cn/zuixin/yizhi_39.htm\n",
      "Pulling request content from cache!\n",
      "http://www.7723.cn/zuixin/yizhi_40.htm\n",
      "Pulling request content from cache!\n",
      "http://www.7723.cn/zuixin/yizhi_41.htm\n",
      "Pulling request content from cache!\n",
      "http://www.7723.cn/zuixin/yizhi_42.htm\n",
      "Pulling request content from cache!\n",
      "http://www.7723.cn/zuixin/yizhi_43.htm\n"
     ]
    },
    {
     "name": "stderr",
     "output_type": "stream",
     "text": [
      "http://www.7723.cn/zuixin/yizhi_50.htm:  23%|█████████████████████████████▌                                                                                                   | 228/997 [00:07<00:24, 31.47it/s]"
     ]
    },
    {
     "name": "stdout",
     "output_type": "stream",
     "text": [
      "Pulling request content from cache!\n",
      "http://www.7723.cn/zuixin/yizhi_44.htm\n",
      "Pulling request content from cache!\n",
      "http://www.7723.cn/zuixin/yizhi_45.htm\n",
      "Pulling request content from cache!\n",
      "http://www.7723.cn/zuixin/yizhi_46.htm\n",
      "Pulling request content from cache!\n",
      "http://www.7723.cn/zuixin/yizhi_47.htm\n",
      "Pulling request content from cache!\n",
      "http://www.7723.cn/zuixin/yizhi_48.htm\n",
      "Pulling request content from cache!\n",
      "http://www.7723.cn/zuixin/yizhi_49.htm\n",
      "Pulling request content from cache!\n",
      "http://www.7723.cn/zuixin/yizhi_50.htm\n"
     ]
    },
    {
     "name": "stderr",
     "output_type": "stream",
     "text": [
      "http://www.7723.cn/zuixin/yizhi_56.htm:  24%|██████████████████████████████▌                                                                                                  | 236/997 [00:07<00:24, 31.67it/s]"
     ]
    },
    {
     "name": "stdout",
     "output_type": "stream",
     "text": [
      "Pulling request content from cache!\n",
      "http://www.7723.cn/zuixin/yizhi_51.htm\n",
      "Pulling request content from cache!\n",
      "http://www.7723.cn/zuixin/yizhi_52.htm\n",
      "Pulling request content from cache!\n",
      "http://www.7723.cn/zuixin/yizhi_53.htm\n",
      "Pulling request content from cache!\n",
      "http://www.7723.cn/zuixin/yizhi_54.htm\n",
      "Pulling request content from cache!\n",
      "http://www.7723.cn/zuixin/yizhi_55.htm\n",
      "Pulling request content from cache!\n",
      "http://www.7723.cn/zuixin/yizhi_56.htm\n"
     ]
    },
    {
     "name": "stderr",
     "output_type": "stream",
     "text": [
      "http://www.7723.cn/zuixin/yizhi_63.htm:  24%|███████████████████████████████                                                                                                  | 240/997 [00:07<00:23, 31.91it/s]"
     ]
    },
    {
     "name": "stdout",
     "output_type": "stream",
     "text": [
      "Pulling request content from cache!\n",
      "http://www.7723.cn/zuixin/yizhi_57.htm\n",
      "Pulling request content from cache!\n",
      "http://www.7723.cn/zuixin/yizhi_58.htm\n",
      "Pulling request content from cache!\n",
      "http://www.7723.cn/zuixin/yizhi_59.htm\n",
      "Pulling request content from cache!\n",
      "http://www.7723.cn/zuixin/yizhi_60.htm\n",
      "Pulling request content from cache!\n",
      "http://www.7723.cn/zuixin/yizhi_61.htm\n",
      "Pulling request content from cache!\n",
      "http://www.7723.cn/zuixin/yizhi_62.htm\n",
      "Pulling request content from cache!\n",
      "http://www.7723.cn/zuixin/yizhi_63.htm\n"
     ]
    },
    {
     "name": "stderr",
     "output_type": "stream",
     "text": [
      "http://www.7723.cn/zuixin/yizhi_68.htm:  25%|████████████████████████████████                                                                                                 | 248/997 [00:07<00:24, 30.25it/s]"
     ]
    },
    {
     "name": "stdout",
     "output_type": "stream",
     "text": [
      "Pulling request content from cache!\n",
      "http://www.7723.cn/zuixin/yizhi_64.htm\n",
      "Pulling request content from cache!\n",
      "http://www.7723.cn/zuixin/yizhi_65.htm\n",
      "Pulling request content from cache!\n",
      "http://www.7723.cn/zuixin/yizhi_66.htm\n",
      "Pulling request content from cache!\n",
      "http://www.7723.cn/zuixin/yizhi_67.htm\n",
      "Pulling request content from cache!\n",
      "http://www.7723.cn/zuixin/yizhi_68.htm\n"
     ]
    },
    {
     "name": "stderr",
     "output_type": "stream",
     "text": [
      "http://www.7723.cn/zuixin/yizhi_75.htm:  26%|█████████████████████████████████                                                                                                | 256/997 [00:07<00:23, 31.66it/s]"
     ]
    },
    {
     "name": "stdout",
     "output_type": "stream",
     "text": [
      "Pulling request content from cache!\n",
      "http://www.7723.cn/zuixin/yizhi_69.htm\n",
      "Pulling request content from cache!\n",
      "http://www.7723.cn/zuixin/yizhi_70.htm\n",
      "Pulling request content from cache!\n",
      "http://www.7723.cn/zuixin/yizhi_71.htm\n",
      "Pulling request content from cache!\n",
      "http://www.7723.cn/zuixin/yizhi_72.htm\n",
      "Pulling request content from cache!\n",
      "http://www.7723.cn/zuixin/yizhi_73.htm\n",
      "Pulling request content from cache!\n",
      "http://www.7723.cn/zuixin/yizhi_74.htm\n",
      "Pulling request content from cache!\n",
      "http://www.7723.cn/zuixin/yizhi_75.htm\n"
     ]
    },
    {
     "name": "stderr",
     "output_type": "stream",
     "text": [
      "http://www.7723.cn/zuixin/yizhi_81.htm:  26%|█████████████████████████████████▋                                                                                               | 260/997 [00:08<00:22, 32.17it/s]"
     ]
    },
    {
     "name": "stdout",
     "output_type": "stream",
     "text": [
      "Pulling request content from cache!\n",
      "http://www.7723.cn/zuixin/yizhi_76.htm\n",
      "Pulling request content from cache!\n",
      "http://www.7723.cn/zuixin/yizhi_77.htm\n",
      "Pulling request content from cache!\n",
      "http://www.7723.cn/zuixin/yizhi_78.htm\n",
      "Pulling request content from cache!\n",
      "http://www.7723.cn/zuixin/yizhi_79.htm\n",
      "Pulling request content from cache!\n",
      "http://www.7723.cn/zuixin/yizhi_80.htm\n",
      "Pulling request content from cache!\n",
      "http://www.7723.cn/zuixin/yizhi_81.htm\n"
     ]
    },
    {
     "name": "stderr",
     "output_type": "stream",
     "text": [
      "http://www.7723.cn/zuixin/yizhi_87.htm:  27%|██████████████████████████████████▋                                                                                              | 268/997 [00:08<00:23, 31.04it/s]"
     ]
    },
    {
     "name": "stdout",
     "output_type": "stream",
     "text": [
      "Pulling request content from cache!\n",
      "http://www.7723.cn/zuixin/yizhi_82.htm\n",
      "Pulling request content from cache!\n",
      "http://www.7723.cn/zuixin/yizhi_83.htm\n",
      "Pulling request content from cache!\n",
      "http://www.7723.cn/zuixin/yizhi_84.htm\n",
      "Pulling request content from cache!\n",
      "http://www.7723.cn/zuixin/yizhi_85.htm\n",
      "Pulling request content from cache!\n",
      "http://www.7723.cn/zuixin/yizhi_86.htm\n",
      "Pulling request content from cache!\n",
      "http://www.7723.cn/zuixin/yizhi_87.htm\n"
     ]
    },
    {
     "name": "stderr",
     "output_type": "stream",
     "text": [
      "http://www.7723.cn/zuixin/yizhi_94.htm:  27%|███████████████████████████████████▏                                                                                             | 272/997 [00:08<00:23, 30.70it/s]"
     ]
    },
    {
     "name": "stdout",
     "output_type": "stream",
     "text": [
      "Pulling request content from cache!\n",
      "http://www.7723.cn/zuixin/yizhi_88.htm\n",
      "Pulling request content from cache!\n",
      "http://www.7723.cn/zuixin/yizhi_89.htm\n",
      "Pulling request content from cache!\n",
      "http://www.7723.cn/zuixin/yizhi_90.htm\n",
      "Pulling request content from cache!\n",
      "http://www.7723.cn/zuixin/yizhi_91.htm\n",
      "Pulling request content from cache!\n",
      "http://www.7723.cn/zuixin/yizhi_92.htm\n",
      "Pulling request content from cache!\n",
      "http://www.7723.cn/zuixin/yizhi_93.htm\n"
     ]
    },
    {
     "name": "stderr",
     "output_type": "stream",
     "text": [
      "http://www.7723.cn/zuixin/yizhi_99.htm:  28%|████████████████████████████████████▏                                                                                            | 280/997 [00:08<00:24, 29.84it/s]"
     ]
    },
    {
     "name": "stdout",
     "output_type": "stream",
     "text": [
      "Pulling request content from cache!\n",
      "http://www.7723.cn/zuixin/yizhi_94.htm\n",
      "Pulling request content from cache!\n",
      "http://www.7723.cn/zuixin/yizhi_95.htm\n",
      "Pulling request content from cache!\n",
      "http://www.7723.cn/zuixin/yizhi_96.htm\n",
      "Pulling request content from cache!\n",
      "http://www.7723.cn/zuixin/yizhi_97.htm\n",
      "Pulling request content from cache!\n",
      "http://www.7723.cn/zuixin/yizhi_98.htm\n",
      "Pulling request content from cache!\n",
      "http://www.7723.cn/zuixin/yizhi_99.htm\n"
     ]
    },
    {
     "name": "stderr",
     "output_type": "stream",
     "text": [
      "http://www.7723.cn/zuixin/yizhi_106.htm:  28%|████████████████████████████████████▍                                                                                           | 284/997 [00:08<00:23, 30.72it/s]"
     ]
    },
    {
     "name": "stdout",
     "output_type": "stream",
     "text": [
      "Pulling request content from cache!\n",
      "http://www.7723.cn/zuixin/yizhi_100.htm\n",
      "Pulling request content from cache!\n",
      "http://www.7723.cn/zuixin/yizhi_101.htm\n",
      "Pulling request content from cache!\n",
      "http://www.7723.cn/zuixin/yizhi_102.htm\n",
      "Pulling request content from cache!\n",
      "http://www.7723.cn/zuixin/yizhi_103.htm\n",
      "Pulling request content from cache!\n",
      "http://www.7723.cn/zuixin/yizhi_104.htm\n",
      "Pulling request content from cache!\n",
      "http://www.7723.cn/zuixin/yizhi_105.htm\n"
     ]
    },
    {
     "name": "stderr",
     "output_type": "stream",
     "text": [
      "http://www.7723.cn/zuixin/yizhi_112.htm:  29%|█████████████████████████████████████▍                                                                                          | 292/997 [00:09<00:22, 31.96it/s]"
     ]
    },
    {
     "name": "stdout",
     "output_type": "stream",
     "text": [
      "Pulling request content from cache!\n",
      "http://www.7723.cn/zuixin/yizhi_106.htm\n",
      "Pulling request content from cache!\n",
      "http://www.7723.cn/zuixin/yizhi_107.htm\n",
      "Pulling request content from cache!\n",
      "http://www.7723.cn/zuixin/yizhi_108.htm\n",
      "Pulling request content from cache!\n",
      "http://www.7723.cn/zuixin/yizhi_109.htm\n",
      "Pulling request content from cache!\n",
      "http://www.7723.cn/zuixin/yizhi_110.htm\n",
      "Pulling request content from cache!\n",
      "http://www.7723.cn/zuixin/yizhi_111.htm\n",
      "Pulling request content from cache!\n",
      "http://www.7723.cn/zuixin/yizhi_112.htm\n"
     ]
    },
    {
     "name": "stderr",
     "output_type": "stream",
     "text": [
      "http://www.7723.cn/zuixin/yizhi_119.htm:  30%|██████████████████████████████████████                                                                                          | 296/997 [00:09<00:21, 32.00it/s]"
     ]
    },
    {
     "name": "stdout",
     "output_type": "stream",
     "text": [
      "Pulling request content from cache!\n",
      "http://www.7723.cn/zuixin/yizhi_113.htm\n",
      "Pulling request content from cache!\n",
      "http://www.7723.cn/zuixin/yizhi_114.htm\n",
      "Pulling request content from cache!\n",
      "http://www.7723.cn/zuixin/yizhi_115.htm\n",
      "Pulling request content from cache!\n",
      "http://www.7723.cn/zuixin/yizhi_116.htm\n",
      "Pulling request content from cache!\n",
      "http://www.7723.cn/zuixin/yizhi_117.htm\n",
      "Pulling request content from cache!\n",
      "http://www.7723.cn/zuixin/yizhi_118.htm\n"
     ]
    },
    {
     "name": "stderr",
     "output_type": "stream",
     "text": [
      "http://www.7723.cn/zuixin/yizhi_126.htm:  30%|███████████████████████████████████████                                                                                         | 304/997 [00:09<00:21, 32.56it/s]"
     ]
    },
    {
     "name": "stdout",
     "output_type": "stream",
     "text": [
      "Pulling request content from cache!\n",
      "http://www.7723.cn/zuixin/yizhi_119.htm\n",
      "Pulling request content from cache!\n",
      "http://www.7723.cn/zuixin/yizhi_120.htm\n",
      "Pulling request content from cache!\n",
      "http://www.7723.cn/zuixin/yizhi_121.htm\n",
      "Pulling request content from cache!\n",
      "http://www.7723.cn/zuixin/yizhi_122.htm\n",
      "Pulling request content from cache!\n",
      "http://www.7723.cn/zuixin/yizhi_123.htm\n",
      "Pulling request content from cache!\n",
      "http://www.7723.cn/zuixin/yizhi_124.htm\n",
      "Pulling request content from cache!\n",
      "http://www.7723.cn/zuixin/yizhi_125.htm\n"
     ]
    },
    {
     "name": "stderr",
     "output_type": "stream",
     "text": [
      "http://www.7723.cn/zuixin/yizhi_131.htm:  31%|███████████████████████████████████████▌                                                                                        | 308/997 [00:09<00:22, 31.21it/s]"
     ]
    },
    {
     "name": "stdout",
     "output_type": "stream",
     "text": [
      "Pulling request content from cache!\n",
      "http://www.7723.cn/zuixin/yizhi_126.htm\n",
      "Pulling request content from cache!\n",
      "http://www.7723.cn/zuixin/yizhi_127.htm\n",
      "Pulling request content from cache!\n",
      "http://www.7723.cn/zuixin/yizhi_128.htm\n",
      "Pulling request content from cache!\n",
      "http://www.7723.cn/zuixin/yizhi_129.htm\n",
      "Pulling request content from cache!\n",
      "http://www.7723.cn/zuixin/yizhi_130.htm\n",
      "Pulling request content from cache!\n",
      "http://www.7723.cn/zuixin/yizhi_131.htm\n"
     ]
    },
    {
     "name": "stderr",
     "output_type": "stream",
     "text": [
      "http://www.7723.cn/zuixin/yizhi_138.htm:  32%|████████████████████████████████████████▌                                                                                       | 316/997 [00:09<00:21, 32.01it/s]"
     ]
    },
    {
     "name": "stdout",
     "output_type": "stream",
     "text": [
      "Pulling request content from cache!\n",
      "http://www.7723.cn/zuixin/yizhi_132.htm\n",
      "Pulling request content from cache!\n",
      "http://www.7723.cn/zuixin/yizhi_133.htm\n",
      "Pulling request content from cache!\n",
      "http://www.7723.cn/zuixin/yizhi_134.htm\n",
      "Pulling request content from cache!\n",
      "http://www.7723.cn/zuixin/yizhi_135.htm\n",
      "Pulling request content from cache!\n",
      "http://www.7723.cn/zuixin/yizhi_136.htm\n",
      "Pulling request content from cache!\n",
      "http://www.7723.cn/zuixin/yizhi_137.htm\n"
     ]
    },
    {
     "name": "stderr",
     "output_type": "stream",
     "text": [
      "http://www.7723.cn/zuixin/yizhi_145.htm:  32%|█████████████████████████████████████████▌                                                                                      | 324/997 [00:10<00:20, 32.85it/s]"
     ]
    },
    {
     "name": "stdout",
     "output_type": "stream",
     "text": [
      "Pulling request content from cache!\n",
      "http://www.7723.cn/zuixin/yizhi_138.htm\n",
      "Pulling request content from cache!\n",
      "http://www.7723.cn/zuixin/yizhi_139.htm\n",
      "Pulling request content from cache!\n",
      "http://www.7723.cn/zuixin/yizhi_140.htm\n",
      "Pulling request content from cache!\n",
      "http://www.7723.cn/zuixin/yizhi_141.htm\n",
      "Pulling request content from cache!\n",
      "http://www.7723.cn/zuixin/yizhi_142.htm\n",
      "Pulling request content from cache!\n",
      "http://www.7723.cn/zuixin/yizhi_143.htm\n",
      "Pulling request content from cache!\n",
      "http://www.7723.cn/zuixin/yizhi_144.htm\n"
     ]
    },
    {
     "name": "stderr",
     "output_type": "stream",
     "text": [
      "http://www.7723.cn/zuixin/yizhi_150.htm:  33%|██████████████████████████████████████████                                                                                      | 328/997 [00:10<00:20, 33.02it/s]"
     ]
    },
    {
     "name": "stdout",
     "output_type": "stream",
     "text": [
      "Pulling request content from cache!\n",
      "http://www.7723.cn/zuixin/yizhi_145.htm\n",
      "Pulling request content from cache!\n",
      "http://www.7723.cn/zuixin/yizhi_146.htm\n",
      "Pulling request content from cache!\n",
      "http://www.7723.cn/zuixin/yizhi_147.htm\n",
      "Pulling request content from cache!\n",
      "http://www.7723.cn/zuixin/yizhi_148.htm\n",
      "Pulling request content from cache!\n",
      "http://www.7723.cn/zuixin/yizhi_149.htm\n",
      "Pulling request content from cache!\n",
      "http://www.7723.cn/zuixin/yizhi_150.htm\n"
     ]
    },
    {
     "name": "stderr",
     "output_type": "stream",
     "text": [
      "http://www.7723.cn/zuixin/yizhi_156.htm:  34%|███████████████████████████████████████████▏                                                                                    | 336/997 [00:10<00:20, 32.87it/s]"
     ]
    },
    {
     "name": "stdout",
     "output_type": "stream",
     "text": [
      "Pulling request content from cache!\n",
      "http://www.7723.cn/zuixin/yizhi_151.htm\n",
      "Pulling request content from cache!\n",
      "http://www.7723.cn/zuixin/yizhi_152.htm\n",
      "Pulling request content from cache!\n",
      "http://www.7723.cn/zuixin/yizhi_153.htm\n",
      "Pulling request content from cache!\n",
      "http://www.7723.cn/zuixin/yizhi_154.htm\n",
      "Pulling request content from cache!\n",
      "http://www.7723.cn/zuixin/yizhi_155.htm\n",
      "Pulling request content from cache!\n",
      "http://www.7723.cn/zuixin/yizhi_156.htm\n"
     ]
    },
    {
     "name": "stderr",
     "output_type": "stream",
     "text": [
      "http://www.7723.cn/zuixin/yizhi_162.htm:  34%|███████████████████████████████████████████▋                                                                                    | 340/997 [00:10<00:21, 31.14it/s]"
     ]
    },
    {
     "name": "stdout",
     "output_type": "stream",
     "text": [
      "Pulling request content from cache!\n",
      "http://www.7723.cn/zuixin/yizhi_157.htm\n",
      "Pulling request content from cache!\n",
      "http://www.7723.cn/zuixin/yizhi_158.htm\n",
      "Pulling request content from cache!\n",
      "http://www.7723.cn/zuixin/yizhi_159.htm\n",
      "Pulling request content from cache!\n",
      "http://www.7723.cn/zuixin/yizhi_160.htm\n",
      "Pulling request content from cache!\n",
      "http://www.7723.cn/zuixin/yizhi_161.htm\n",
      "Pulling request content from cache!\n",
      "http://www.7723.cn/zuixin/yizhi_162.htm\n"
     ]
    },
    {
     "name": "stderr",
     "output_type": "stream",
     "text": [
      "http://www.7723.cn/zuixin/yizhi_170.htm:  35%|████████████████████████████████████████████▋                                                                                   | 348/997 [00:10<00:20, 32.25it/s]"
     ]
    },
    {
     "name": "stdout",
     "output_type": "stream",
     "text": [
      "Pulling request content from cache!\n",
      "http://www.7723.cn/zuixin/yizhi_163.htm\n",
      "Pulling request content from cache!\n",
      "http://www.7723.cn/zuixin/yizhi_164.htm\n",
      "Pulling request content from cache!\n",
      "http://www.7723.cn/zuixin/yizhi_165.htm\n",
      "Pulling request content from cache!\n",
      "http://www.7723.cn/zuixin/yizhi_166.htm\n",
      "Pulling request content from cache!\n",
      "http://www.7723.cn/zuixin/yizhi_167.htm\n",
      "Pulling request content from cache!\n",
      "http://www.7723.cn/zuixin/yizhi_168.htm\n",
      "Pulling request content from cache!\n",
      "http://www.7723.cn/zuixin/yizhi_169.htm\n"
     ]
    },
    {
     "name": "stderr",
     "output_type": "stream",
     "text": [
      "http://www.7723.cn/zuixin/yizhi_177.htm:  36%|█████████████████████████████████████████████▋                                                                                  | 356/997 [00:11<00:19, 33.28it/s]"
     ]
    },
    {
     "name": "stdout",
     "output_type": "stream",
     "text": [
      "Pulling request content from cache!\n",
      "http://www.7723.cn/zuixin/yizhi_170.htm\n",
      "Pulling request content from cache!\n",
      "http://www.7723.cn/zuixin/yizhi_171.htm\n",
      "Pulling request content from cache!\n",
      "http://www.7723.cn/zuixin/yizhi_172.htm\n",
      "Pulling request content from cache!\n",
      "http://www.7723.cn/zuixin/yizhi_173.htm\n",
      "Pulling request content from cache!\n",
      "http://www.7723.cn/zuixin/yizhi_174.htm\n",
      "Pulling request content from cache!\n",
      "http://www.7723.cn/zuixin/yizhi_175.htm\n",
      "Pulling request content from cache!\n",
      "http://www.7723.cn/zuixin/yizhi_176.htm\n"
     ]
    },
    {
     "name": "stderr",
     "output_type": "stream",
     "text": [
      "http://www.7723.cn/zuixin/yizhi_182.htm:  36%|██████████████████████████████████████████████▏                                                                                 | 360/997 [00:11<00:19, 32.91it/s]"
     ]
    },
    {
     "name": "stdout",
     "output_type": "stream",
     "text": [
      "Pulling request content from cache!\n",
      "http://www.7723.cn/zuixin/yizhi_177.htm\n",
      "Pulling request content from cache!\n",
      "http://www.7723.cn/zuixin/yizhi_178.htm\n",
      "Pulling request content from cache!\n",
      "http://www.7723.cn/zuixin/yizhi_179.htm\n",
      "Pulling request content from cache!\n",
      "http://www.7723.cn/zuixin/yizhi_180.htm\n",
      "Pulling request content from cache!\n",
      "http://www.7723.cn/zuixin/yizhi_181.htm\n",
      "Pulling request content from cache!\n",
      "http://www.7723.cn/zuixin/yizhi_182.htm\n"
     ]
    },
    {
     "name": "stderr",
     "output_type": "stream",
     "text": [
      "http://www.7723.cn/zuixin/yizhi_187.htm:  37%|███████████████████████████████████████████████▏                                                                                | 368/997 [00:11<00:20, 30.43it/s]"
     ]
    },
    {
     "name": "stdout",
     "output_type": "stream",
     "text": [
      "Pulling request content from cache!\n",
      "http://www.7723.cn/zuixin/yizhi_183.htm\n",
      "Pulling request content from cache!\n",
      "http://www.7723.cn/zuixin/yizhi_184.htm\n",
      "Pulling request content from cache!\n",
      "http://www.7723.cn/zuixin/yizhi_185.htm\n",
      "Pulling request content from cache!\n",
      "http://www.7723.cn/zuixin/yizhi_186.htm\n",
      "Pulling request content from cache!\n",
      "http://www.7723.cn/zuixin/yizhi_187.htm\n"
     ]
    },
    {
     "name": "stderr",
     "output_type": "stream",
     "text": [
      "http://www.7723.cn/zuixin/yizhi_194.htm:  37%|███████████████████████████████████████████████▊                                                                                | 372/997 [00:11<00:20, 30.77it/s]"
     ]
    },
    {
     "name": "stdout",
     "output_type": "stream",
     "text": [
      "Pulling request content from cache!\n",
      "http://www.7723.cn/zuixin/yizhi_188.htm\n",
      "Pulling request content from cache!\n",
      "http://www.7723.cn/zuixin/yizhi_189.htm\n",
      "Pulling request content from cache!\n",
      "http://www.7723.cn/zuixin/yizhi_190.htm\n",
      "Pulling request content from cache!\n",
      "http://www.7723.cn/zuixin/yizhi_191.htm\n",
      "Pulling request content from cache!\n",
      "http://www.7723.cn/zuixin/yizhi_192.htm\n",
      "Pulling request content from cache!\n",
      "http://www.7723.cn/zuixin/yizhi_193.htm\n"
     ]
    },
    {
     "name": "stderr",
     "output_type": "stream",
     "text": [
      "http://www.7723.cn/zuixin/yizhi_199.htm:  38%|████████████████████████████████████████████████▊                                                                               | 380/997 [00:11<00:20, 29.99it/s]"
     ]
    },
    {
     "name": "stdout",
     "output_type": "stream",
     "text": [
      "Pulling request content from cache!\n",
      "http://www.7723.cn/zuixin/yizhi_194.htm\n",
      "Pulling request content from cache!\n",
      "http://www.7723.cn/zuixin/yizhi_195.htm\n",
      "Pulling request content from cache!\n",
      "http://www.7723.cn/zuixin/yizhi_196.htm\n",
      "Pulling request content from cache!\n",
      "http://www.7723.cn/zuixin/yizhi_197.htm\n",
      "Pulling request content from cache!\n",
      "http://www.7723.cn/zuixin/yizhi_198.htm\n",
      "Pulling request content from cache!\n",
      "http://www.7723.cn/zuixin/yizhi_199.htm\n"
     ]
    },
    {
     "name": "stderr",
     "output_type": "stream",
     "text": [
      "http://www.7723.cn/zuixin/yizhi_205.htm:  39%|█████████████████████████████████████████████████▎                                                                              | 384/997 [00:11<00:19, 30.73it/s]"
     ]
    },
    {
     "name": "stdout",
     "output_type": "stream",
     "text": [
      "Pulling request content from cache!\n",
      "http://www.7723.cn/zuixin/yizhi_200.htm\n",
      "Pulling request content from cache!\n",
      "http://www.7723.cn/zuixin/yizhi_201.htm\n",
      "Pulling request content from cache!\n",
      "http://www.7723.cn/zuixin/yizhi_202.htm\n",
      "Pulling request content from cache!\n",
      "http://www.7723.cn/zuixin/yizhi_203.htm\n",
      "Pulling request content from cache!\n",
      "http://www.7723.cn/zuixin/yizhi_204.htm\n",
      "Pulling request content from cache!\n",
      "http://www.7723.cn/zuixin/yizhi_205.htm\n"
     ]
    },
    {
     "name": "stderr",
     "output_type": "stream",
     "text": [
      "http://www.7723.cn/zuixin/dongzuo_7.htm:  39%|██████████████████████████████████████████████████▎                                                                             | 392/997 [00:12<00:18, 32.50it/s]"
     ]
    },
    {
     "name": "stdout",
     "output_type": "stream",
     "text": [
      "Pulling request content from cache!\n",
      "http://www.7723.cn/zuixin/yizhi_206.htm\n",
      "Pulling request content from cache!\n",
      "http://www.7723.cn/zuixin/dongzuo_1.htm\n",
      "Pulling request content from cache!\n",
      "http://www.7723.cn/zuixin/dongzuo_2.htm\n",
      "Pulling request content from cache!\n",
      "http://www.7723.cn/zuixin/dongzuo_3.htm\n",
      "Pulling request content from cache!\n",
      "http://www.7723.cn/zuixin/dongzuo_4.htm\n",
      "Pulling request content from cache!\n",
      "http://www.7723.cn/zuixin/dongzuo_5.htm\n",
      "Pulling request content from cache!\n",
      "http://www.7723.cn/zuixin/dongzuo_6.htm\n"
     ]
    },
    {
     "name": "stderr",
     "output_type": "stream",
     "text": [
      "http://www.7723.cn/zuixin/dongzuo_13.htm:  40%|██████████████████████████████████████████████████▍                                                                            | 396/997 [00:12<00:18, 32.69it/s]"
     ]
    },
    {
     "name": "stdout",
     "output_type": "stream",
     "text": [
      "Pulling request content from cache!\n",
      "http://www.7723.cn/zuixin/dongzuo_7.htm\n",
      "Pulling request content from cache!\n",
      "http://www.7723.cn/zuixin/dongzuo_8.htm\n",
      "Pulling request content from cache!\n",
      "http://www.7723.cn/zuixin/dongzuo_9.htm\n",
      "Pulling request content from cache!\n",
      "http://www.7723.cn/zuixin/dongzuo_10.htm\n",
      "Pulling request content from cache!\n",
      "http://www.7723.cn/zuixin/dongzuo_11.htm\n",
      "Pulling request content from cache!\n",
      "http://www.7723.cn/zuixin/dongzuo_12.htm\n"
     ]
    },
    {
     "name": "stderr",
     "output_type": "stream",
     "text": [
      "http://www.7723.cn/zuixin/dongzuo_19.htm:  41%|███████████████████████████████████████████████████▍                                                                           | 404/997 [00:12<00:19, 31.07it/s]"
     ]
    },
    {
     "name": "stdout",
     "output_type": "stream",
     "text": [
      "Pulling request content from cache!\n",
      "http://www.7723.cn/zuixin/dongzuo_13.htm\n",
      "Pulling request content from cache!\n",
      "http://www.7723.cn/zuixin/dongzuo_14.htm\n",
      "Pulling request content from cache!\n",
      "http://www.7723.cn/zuixin/dongzuo_15.htm\n",
      "Pulling request content from cache!\n",
      "http://www.7723.cn/zuixin/dongzuo_16.htm\n",
      "Pulling request content from cache!\n",
      "http://www.7723.cn/zuixin/dongzuo_17.htm\n",
      "Pulling request content from cache!\n",
      "http://www.7723.cn/zuixin/dongzuo_18.htm\n"
     ]
    },
    {
     "name": "stderr",
     "output_type": "stream",
     "text": [
      "http://www.7723.cn/zuixin/dongzuo_25.htm:  41%|███████████████████████████████████████████████████▉                                                                           | 408/997 [00:12<00:18, 31.70it/s]"
     ]
    },
    {
     "name": "stdout",
     "output_type": "stream",
     "text": [
      "Pulling request content from cache!\n",
      "http://www.7723.cn/zuixin/dongzuo_19.htm\n",
      "Pulling request content from cache!\n",
      "http://www.7723.cn/zuixin/dongzuo_20.htm\n",
      "Pulling request content from cache!\n",
      "http://www.7723.cn/zuixin/dongzuo_21.htm\n",
      "Pulling request content from cache!\n",
      "http://www.7723.cn/zuixin/dongzuo_22.htm\n",
      "Pulling request content from cache!\n",
      "http://www.7723.cn/zuixin/dongzuo_23.htm\n",
      "Pulling request content from cache!\n",
      "http://www.7723.cn/zuixin/dongzuo_24.htm\n",
      "Pulling request content from cache!\n",
      "http://www.7723.cn/zuixin/dongzuo_25.htm\n"
     ]
    },
    {
     "name": "stderr",
     "output_type": "stream",
     "text": [
      "http://www.7723.cn/zuixin/dongzuo_31.htm:  42%|████████████████████████████████████████████████████▉                                                                          | 416/997 [00:12<00:18, 32.19it/s]"
     ]
    },
    {
     "name": "stdout",
     "output_type": "stream",
     "text": [
      "Pulling request content from cache!\n",
      "http://www.7723.cn/zuixin/dongzuo_26.htm\n",
      "Pulling request content from cache!\n",
      "http://www.7723.cn/zuixin/dongzuo_27.htm\n",
      "Pulling request content from cache!\n",
      "http://www.7723.cn/zuixin/dongzuo_28.htm\n",
      "Pulling request content from cache!\n",
      "http://www.7723.cn/zuixin/dongzuo_29.htm\n",
      "Pulling request content from cache!\n",
      "http://www.7723.cn/zuixin/dongzuo_30.htm\n",
      "Pulling request content from cache!\n",
      "http://www.7723.cn/zuixin/dongzuo_31.htm\n"
     ]
    },
    {
     "name": "stderr",
     "output_type": "stream",
     "text": [
      "http://www.7723.cn/zuixin/dongzuo_38.htm:  43%|██████████████████████████████████████████████████████                                                                         | 424/997 [00:13<00:17, 32.70it/s]"
     ]
    },
    {
     "name": "stdout",
     "output_type": "stream",
     "text": [
      "Pulling request content from cache!\n",
      "http://www.7723.cn/zuixin/dongzuo_32.htm\n",
      "Pulling request content from cache!\n",
      "http://www.7723.cn/zuixin/dongzuo_33.htm\n",
      "Pulling request content from cache!\n",
      "http://www.7723.cn/zuixin/dongzuo_34.htm\n",
      "Pulling request content from cache!\n",
      "http://www.7723.cn/zuixin/dongzuo_35.htm\n",
      "Pulling request content from cache!\n",
      "http://www.7723.cn/zuixin/dongzuo_36.htm\n",
      "Pulling request content from cache!\n",
      "http://www.7723.cn/zuixin/dongzuo_37.htm\n"
     ]
    },
    {
     "name": "stderr",
     "output_type": "stream",
     "text": [
      "http://www.7723.cn/zuixin/dongzuo_44.htm:  43%|██████████████████████████████████████████████████████▌                                                                        | 428/997 [00:13<00:18, 30.44it/s]"
     ]
    },
    {
     "name": "stdout",
     "output_type": "stream",
     "text": [
      "Pulling request content from cache!\n",
      "http://www.7723.cn/zuixin/dongzuo_38.htm\n",
      "Pulling request content from cache!\n",
      "http://www.7723.cn/zuixin/dongzuo_39.htm\n",
      "Pulling request content from cache!\n",
      "http://www.7723.cn/zuixin/dongzuo_40.htm\n",
      "Pulling request content from cache!\n",
      "http://www.7723.cn/zuixin/dongzuo_41.htm\n",
      "Pulling request content from cache!\n",
      "http://www.7723.cn/zuixin/dongzuo_42.htm\n",
      "Pulling request content from cache!\n",
      "http://www.7723.cn/zuixin/dongzuo_43.htm\n"
     ]
    },
    {
     "name": "stderr",
     "output_type": "stream",
     "text": [
      "http://www.7723.cn/zuixin/dongzuo_49.htm:  44%|███████████████████████████████████████████████████████▌                                                                       | 436/997 [00:13<00:17, 31.34it/s]"
     ]
    },
    {
     "name": "stdout",
     "output_type": "stream",
     "text": [
      "Pulling request content from cache!\n",
      "http://www.7723.cn/zuixin/dongzuo_44.htm\n",
      "Pulling request content from cache!\n",
      "http://www.7723.cn/zuixin/dongzuo_45.htm\n",
      "Pulling request content from cache!\n",
      "http://www.7723.cn/zuixin/dongzuo_46.htm\n",
      "Pulling request content from cache!\n",
      "http://www.7723.cn/zuixin/dongzuo_47.htm\n",
      "Pulling request content from cache!\n",
      "http://www.7723.cn/zuixin/dongzuo_48.htm\n",
      "Pulling request content from cache!\n",
      "http://www.7723.cn/zuixin/dongzuo_49.htm\n"
     ]
    },
    {
     "name": "stderr",
     "output_type": "stream",
     "text": [
      "http://www.7723.cn/zuixin/dongzuo_55.htm:  44%|████████████████████████████████████████████████████████                                                                       | 440/997 [00:13<00:17, 31.86it/s]"
     ]
    },
    {
     "name": "stdout",
     "output_type": "stream",
     "text": [
      "Pulling request content from cache!\n",
      "http://www.7723.cn/zuixin/dongzuo_50.htm\n",
      "Pulling request content from cache!\n",
      "http://www.7723.cn/zuixin/dongzuo_51.htm\n",
      "Pulling request content from cache!\n",
      "http://www.7723.cn/zuixin/dongzuo_52.htm\n",
      "Pulling request content from cache!\n",
      "http://www.7723.cn/zuixin/dongzuo_53.htm\n",
      "Pulling request content from cache!\n",
      "http://www.7723.cn/zuixin/dongzuo_54.htm\n",
      "Pulling request content from cache!\n",
      "http://www.7723.cn/zuixin/dongzuo_55.htm\n"
     ]
    },
    {
     "name": "stderr",
     "output_type": "stream",
     "text": [
      "http://www.7723.cn/zuixin/dongzuo_61.htm:  45%|█████████████████████████████████████████████████████████                                                                      | 448/997 [00:13<00:16, 32.49it/s]"
     ]
    },
    {
     "name": "stdout",
     "output_type": "stream",
     "text": [
      "Pulling request content from cache!\n",
      "http://www.7723.cn/zuixin/dongzuo_56.htm\n",
      "Pulling request content from cache!\n",
      "http://www.7723.cn/zuixin/dongzuo_57.htm\n",
      "Pulling request content from cache!\n",
      "http://www.7723.cn/zuixin/dongzuo_58.htm\n",
      "Pulling request content from cache!\n",
      "http://www.7723.cn/zuixin/dongzuo_59.htm\n",
      "Pulling request content from cache!\n",
      "http://www.7723.cn/zuixin/dongzuo_60.htm\n",
      "Pulling request content from cache!\n",
      "http://www.7723.cn/zuixin/dongzuo_61.htm\n"
     ]
    },
    {
     "name": "stderr",
     "output_type": "stream",
     "text": [
      "http://www.7723.cn/zuixin/dongzuo_68.htm:  45%|█████████████████████████████████████████████████████████▌                                                                     | 452/997 [00:14<00:16, 32.13it/s]"
     ]
    },
    {
     "name": "stdout",
     "output_type": "stream",
     "text": [
      "Pulling request content from cache!\n",
      "http://www.7723.cn/zuixin/dongzuo_62.htm\n",
      "Pulling request content from cache!\n",
      "http://www.7723.cn/zuixin/dongzuo_63.htm\n",
      "Pulling request content from cache!\n",
      "http://www.7723.cn/zuixin/dongzuo_64.htm\n",
      "Pulling request content from cache!\n",
      "http://www.7723.cn/zuixin/dongzuo_65.htm\n",
      "Pulling request content from cache!\n",
      "http://www.7723.cn/zuixin/dongzuo_66.htm\n",
      "Pulling request content from cache!\n",
      "http://www.7723.cn/zuixin/dongzuo_67.htm\n"
     ]
    },
    {
     "name": "stderr",
     "output_type": "stream",
     "text": [
      "http://www.7723.cn/zuixin/dongzuo_73.htm:  46%|██████████████████████████████████████████████████████████                                                                     | 456/997 [00:14<00:16, 32.32it/s]"
     ]
    },
    {
     "name": "stdout",
     "output_type": "stream",
     "text": [
      "Pulling request content from cache!\n",
      "http://www.7723.cn/zuixin/dongzuo_68.htm\n",
      "Pulling request content from cache!\n",
      "http://www.7723.cn/zuixin/dongzuo_69.htm\n",
      "Pulling request content from cache!\n",
      "http://www.7723.cn/zuixin/dongzuo_70.htm\n",
      "Pulling request content from cache!\n",
      "http://www.7723.cn/zuixin/dongzuo_71.htm\n",
      "Pulling request content from cache!\n",
      "http://www.7723.cn/zuixin/dongzuo_72.htm\n",
      "Pulling request content from cache!\n",
      "http://www.7723.cn/zuixin/dongzuo_73.htm\n"
     ]
    },
    {
     "name": "stderr",
     "output_type": "stream",
     "text": [
      "http://www.7723.cn/zuixin/dongzuo_80.htm:  47%|███████████████████████████████████████████████████████████                                                                    | 464/997 [00:14<00:17, 30.71it/s]"
     ]
    },
    {
     "name": "stdout",
     "output_type": "stream",
     "text": [
      "Pulling request content from cache!\n",
      "http://www.7723.cn/zuixin/dongzuo_74.htm\n",
      "Pulling request content from cache!\n",
      "http://www.7723.cn/zuixin/dongzuo_75.htm\n",
      "Pulling request content from cache!\n",
      "http://www.7723.cn/zuixin/dongzuo_76.htm\n",
      "Pulling request content from cache!\n",
      "http://www.7723.cn/zuixin/dongzuo_77.htm\n",
      "Pulling request content from cache!\n",
      "http://www.7723.cn/zuixin/dongzuo_78.htm\n",
      "Pulling request content from cache!\n",
      "http://www.7723.cn/zuixin/dongzuo_79.htm\n"
     ]
    },
    {
     "name": "stderr",
     "output_type": "stream",
     "text": [
      "http://www.7723.cn/zuixin/dongzuo_86.htm:  47%|████████████████████████████████████████████████████████████                                                                   | 472/997 [00:14<00:16, 32.27it/s]"
     ]
    },
    {
     "name": "stdout",
     "output_type": "stream",
     "text": [
      "Pulling request content from cache!\n",
      "http://www.7723.cn/zuixin/dongzuo_80.htm\n",
      "Pulling request content from cache!\n",
      "http://www.7723.cn/zuixin/dongzuo_81.htm\n",
      "Pulling request content from cache!\n",
      "http://www.7723.cn/zuixin/dongzuo_82.htm\n",
      "Pulling request content from cache!\n",
      "http://www.7723.cn/zuixin/dongzuo_83.htm\n",
      "Pulling request content from cache!\n",
      "http://www.7723.cn/zuixin/dongzuo_84.htm\n",
      "Pulling request content from cache!\n",
      "http://www.7723.cn/zuixin/dongzuo_85.htm\n",
      "Pulling request content from cache!\n",
      "http://www.7723.cn/zuixin/dongzuo_86.htm\n"
     ]
    },
    {
     "name": "stderr",
     "output_type": "stream",
     "text": [
      "http://www.7723.cn/zuixin/dongzuo_93.htm:  48%|████████████████████████████████████████████████████████████▋                                                                  | 476/997 [00:14<00:15, 32.76it/s]"
     ]
    },
    {
     "name": "stdout",
     "output_type": "stream",
     "text": [
      "Pulling request content from cache!\n",
      "http://www.7723.cn/zuixin/dongzuo_87.htm\n",
      "Pulling request content from cache!\n",
      "http://www.7723.cn/zuixin/dongzuo_88.htm\n",
      "Pulling request content from cache!\n",
      "http://www.7723.cn/zuixin/dongzuo_89.htm\n",
      "Pulling request content from cache!\n",
      "http://www.7723.cn/zuixin/dongzuo_90.htm\n",
      "Pulling request content from cache!\n",
      "http://www.7723.cn/zuixin/dongzuo_91.htm\n",
      "Pulling request content from cache!\n",
      "http://www.7723.cn/zuixin/dongzuo_92.htm\n"
     ]
    },
    {
     "name": "stderr",
     "output_type": "stream",
     "text": [
      "http://www.7723.cn/zuixin/dongzuo_100.htm:  49%|█████████████████████████████████████████████████████████████▏                                                                | 484/997 [00:15<00:15, 33.13it/s]"
     ]
    },
    {
     "name": "stdout",
     "output_type": "stream",
     "text": [
      "Pulling request content from cache!\n",
      "http://www.7723.cn/zuixin/dongzuo_93.htm\n",
      "Pulling request content from cache!\n",
      "http://www.7723.cn/zuixin/dongzuo_94.htm\n",
      "Pulling request content from cache!\n",
      "http://www.7723.cn/zuixin/dongzuo_95.htm\n",
      "Pulling request content from cache!\n",
      "http://www.7723.cn/zuixin/dongzuo_96.htm\n",
      "Pulling request content from cache!\n",
      "http://www.7723.cn/zuixin/dongzuo_97.htm\n",
      "Pulling request content from cache!\n",
      "http://www.7723.cn/zuixin/dongzuo_98.htm\n",
      "Pulling request content from cache!\n",
      "http://www.7723.cn/zuixin/dongzuo_99.htm\n"
     ]
    },
    {
     "name": "stderr",
     "output_type": "stream",
     "text": [
      "http://www.7723.cn/zuixin/dongzuo_105.htm:  49%|█████████████████████████████████████████████████████████████▋                                                                | 488/997 [00:15<00:16, 30.92it/s]"
     ]
    },
    {
     "name": "stdout",
     "output_type": "stream",
     "text": [
      "Pulling request content from cache!\n",
      "http://www.7723.cn/zuixin/dongzuo_100.htm\n",
      "Pulling request content from cache!\n",
      "http://www.7723.cn/zuixin/dongzuo_101.htm\n",
      "Pulling request content from cache!\n",
      "http://www.7723.cn/zuixin/dongzuo_102.htm\n",
      "Pulling request content from cache!\n",
      "http://www.7723.cn/zuixin/dongzuo_103.htm\n",
      "Pulling request content from cache!\n",
      "http://www.7723.cn/zuixin/dongzuo_104.htm\n",
      "Pulling request content from cache!\n",
      "http://www.7723.cn/zuixin/dongzuo_105.htm\n"
     ]
    },
    {
     "name": "stderr",
     "output_type": "stream",
     "text": [
      "http://www.7723.cn/zuixin/dongzuo_113.htm:  50%|██████████████████████████████████████████████████████████████▋                                                               | 496/997 [00:15<00:15, 31.97it/s]"
     ]
    },
    {
     "name": "stdout",
     "output_type": "stream",
     "text": [
      "Pulling request content from cache!\n",
      "http://www.7723.cn/zuixin/dongzuo_106.htm\n",
      "Pulling request content from cache!\n",
      "http://www.7723.cn/zuixin/dongzuo_107.htm\n",
      "Pulling request content from cache!\n",
      "http://www.7723.cn/zuixin/dongzuo_108.htm\n",
      "Pulling request content from cache!\n",
      "http://www.7723.cn/zuixin/dongzuo_109.htm\n",
      "Pulling request content from cache!\n",
      "http://www.7723.cn/zuixin/dongzuo_110.htm\n",
      "Pulling request content from cache!\n",
      "http://www.7723.cn/zuixin/dongzuo_111.htm\n",
      "Pulling request content from cache!\n",
      "http://www.7723.cn/zuixin/dongzuo_112.htm\n"
     ]
    },
    {
     "name": "stderr",
     "output_type": "stream",
     "text": [
      "http://www.7723.cn/zuixin/dongzuo_118.htm:  51%|███████████████████████████████████████████████████████████████▋                                                              | 504/997 [00:15<00:15, 32.25it/s]"
     ]
    },
    {
     "name": "stdout",
     "output_type": "stream",
     "text": [
      "Pulling request content from cache!\n",
      "http://www.7723.cn/zuixin/dongzuo_113.htm\n",
      "Pulling request content from cache!\n",
      "http://www.7723.cn/zuixin/dongzuo_114.htm\n",
      "Pulling request content from cache!\n",
      "http://www.7723.cn/zuixin/dongzuo_115.htm\n",
      "Pulling request content from cache!\n",
      "http://www.7723.cn/zuixin/dongzuo_116.htm\n",
      "Pulling request content from cache!\n",
      "http://www.7723.cn/zuixin/dongzuo_117.htm\n",
      "Pulling request content from cache!\n",
      "http://www.7723.cn/zuixin/dongzuo_118.htm\n"
     ]
    },
    {
     "name": "stderr",
     "output_type": "stream",
     "text": [
      "http://www.7723.cn/zuixin/dongzuo_124.htm:  51%|████████████████████████████████████████████████████████████████▏                                                             | 508/997 [00:15<00:15, 32.41it/s]"
     ]
    },
    {
     "name": "stdout",
     "output_type": "stream",
     "text": [
      "Pulling request content from cache!\n",
      "http://www.7723.cn/zuixin/dongzuo_119.htm\n",
      "Pulling request content from cache!\n",
      "http://www.7723.cn/zuixin/dongzuo_120.htm\n",
      "Pulling request content from cache!\n",
      "http://www.7723.cn/zuixin/dongzuo_121.htm\n",
      "Pulling request content from cache!\n",
      "http://www.7723.cn/zuixin/dongzuo_122.htm\n",
      "Pulling request content from cache!\n",
      "http://www.7723.cn/zuixin/dongzuo_123.htm\n",
      "Pulling request content from cache!\n",
      "http://www.7723.cn/zuixin/dongzuo_124.htm\n"
     ]
    },
    {
     "name": "stderr",
     "output_type": "stream",
     "text": [
      "http://www.7723.cn/zuixin/dongzuo_131.htm:  52%|█████████████████████████████████████████████████████████████████▏                                                            | 516/997 [00:16<00:14, 32.83it/s]"
     ]
    },
    {
     "name": "stdout",
     "output_type": "stream",
     "text": [
      "Pulling request content from cache!\n",
      "http://www.7723.cn/zuixin/dongzuo_125.htm\n",
      "Pulling request content from cache!\n",
      "http://www.7723.cn/zuixin/dongzuo_126.htm\n",
      "Pulling request content from cache!\n",
      "http://www.7723.cn/zuixin/dongzuo_127.htm\n",
      "Pulling request content from cache!\n",
      "http://www.7723.cn/zuixin/dongzuo_128.htm\n",
      "Pulling request content from cache!\n",
      "http://www.7723.cn/zuixin/dongzuo_129.htm\n",
      "Pulling request content from cache!\n",
      "http://www.7723.cn/zuixin/dongzuo_130.htm\n",
      "Pulling request content from cache!\n",
      "http://www.7723.cn/zuixin/dongzuo_131.htm\n"
     ]
    },
    {
     "name": "stderr",
     "output_type": "stream",
     "text": [
      "http://www.7723.cn/zuixin/dongzuo_137.htm:  53%|██████████████████████████████████████████████████████████████████▏                                                           | 524/997 [00:16<00:15, 31.27it/s]"
     ]
    },
    {
     "name": "stdout",
     "output_type": "stream",
     "text": [
      "Pulling request content from cache!\n",
      "http://www.7723.cn/zuixin/dongzuo_132.htm\n",
      "Pulling request content from cache!\n",
      "http://www.7723.cn/zuixin/dongzuo_133.htm\n",
      "Pulling request content from cache!\n",
      "http://www.7723.cn/zuixin/dongzuo_134.htm\n",
      "Pulling request content from cache!\n",
      "http://www.7723.cn/zuixin/dongzuo_135.htm\n",
      "Pulling request content from cache!\n",
      "http://www.7723.cn/zuixin/dongzuo_136.htm\n",
      "Pulling request content from cache!\n",
      "http://www.7723.cn/zuixin/dongzuo_137.htm\n"
     ]
    },
    {
     "name": "stderr",
     "output_type": "stream",
     "text": [
      "http://www.7723.cn/zuixin/dongzuo_145.htm:  53%|██████████████████████████████████████████████████████████████████▋                                                           | 528/997 [00:16<00:14, 31.51it/s]"
     ]
    },
    {
     "name": "stdout",
     "output_type": "stream",
     "text": [
      "Pulling request content from cache!\n",
      "http://www.7723.cn/zuixin/dongzuo_138.htm\n",
      "Pulling request content from cache!\n",
      "http://www.7723.cn/zuixin/dongzuo_139.htm\n",
      "Pulling request content from cache!\n",
      "http://www.7723.cn/zuixin/dongzuo_140.htm\n",
      "Pulling request content from cache!\n",
      "http://www.7723.cn/zuixin/dongzuo_141.htm\n",
      "Pulling request content from cache!\n",
      "http://www.7723.cn/zuixin/dongzuo_142.htm\n",
      "Pulling request content from cache!\n",
      "http://www.7723.cn/zuixin/dongzuo_143.htm\n",
      "Pulling request content from cache!\n",
      "http://www.7723.cn/zuixin/dongzuo_144.htm\n"
     ]
    },
    {
     "name": "stderr",
     "output_type": "stream",
     "text": [
      "http://www.7723.cn/zuixin/dongzuo_152.htm:  54%|███████████████████████████████████████████████████████████████████▋                                                          | 536/997 [00:16<00:14, 32.22it/s]"
     ]
    },
    {
     "name": "stdout",
     "output_type": "stream",
     "text": [
      "Pulling request content from cache!\n",
      "http://www.7723.cn/zuixin/dongzuo_145.htm\n",
      "Pulling request content from cache!\n",
      "http://www.7723.cn/zuixin/dongzuo_146.htm\n",
      "Pulling request content from cache!\n",
      "http://www.7723.cn/zuixin/dongzuo_147.htm\n",
      "Pulling request content from cache!\n",
      "http://www.7723.cn/zuixin/dongzuo_148.htm\n",
      "Pulling request content from cache!\n",
      "http://www.7723.cn/zuixin/dongzuo_149.htm\n",
      "Pulling request content from cache!\n",
      "http://www.7723.cn/zuixin/dongzuo_150.htm\n",
      "Pulling request content from cache!\n",
      "http://www.7723.cn/zuixin/dongzuo_151.htm\n"
     ]
    },
    {
     "name": "stderr",
     "output_type": "stream",
     "text": [
      "http://www.7723.cn/zuixin/dongzuo_157.htm:  55%|████████████████████████████████████████████████████████████████████▊                                                         | 544/997 [00:16<00:13, 32.87it/s]"
     ]
    },
    {
     "name": "stdout",
     "output_type": "stream",
     "text": [
      "Pulling request content from cache!\n",
      "http://www.7723.cn/zuixin/dongzuo_152.htm\n",
      "Pulling request content from cache!\n",
      "http://www.7723.cn/zuixin/dongzuo_153.htm\n",
      "Pulling request content from cache!\n",
      "http://www.7723.cn/zuixin/dongzuo_154.htm\n",
      "Pulling request content from cache!\n",
      "http://www.7723.cn/zuixin/dongzuo_155.htm\n",
      "Pulling request content from cache!\n",
      "http://www.7723.cn/zuixin/dongzuo_156.htm\n",
      "Pulling request content from cache!\n",
      "http://www.7723.cn/zuixin/dongzuo_157.htm\n"
     ]
    },
    {
     "name": "stderr",
     "output_type": "stream",
     "text": [
      "http://www.7723.cn/zuixin/dongzuo_163.htm:  55%|█████████████████████████████████████████████████████████████████████▎                                                        | 548/997 [00:17<00:14, 30.97it/s]"
     ]
    },
    {
     "name": "stdout",
     "output_type": "stream",
     "text": [
      "Pulling request content from cache!\n",
      "http://www.7723.cn/zuixin/dongzuo_158.htm\n",
      "Pulling request content from cache!\n",
      "http://www.7723.cn/zuixin/dongzuo_159.htm\n",
      "Pulling request content from cache!\n",
      "http://www.7723.cn/zuixin/dongzuo_160.htm\n",
      "Pulling request content from cache!\n",
      "http://www.7723.cn/zuixin/dongzuo_161.htm\n",
      "Pulling request content from cache!\n",
      "http://www.7723.cn/zuixin/dongzuo_162.htm\n",
      "Pulling request content from cache!\n",
      "http://www.7723.cn/zuixin/dongzuo_163.htm\n"
     ]
    },
    {
     "name": "stderr",
     "output_type": "stream",
     "text": [
      "http://www.7723.cn/zuixin/saiche_2.htm:  56%|███████████████████████████████████████████████████████████████████████▉                                                         | 556/997 [00:17<00:13, 32.67it/s]"
     ]
    },
    {
     "name": "stdout",
     "output_type": "stream",
     "text": [
      "Pulling request content from cache!\n",
      "http://www.7723.cn/zuixin/dongzuo_164.htm\n",
      "Pulling request content from cache!\n",
      "http://www.7723.cn/zuixin/dongzuo_165.htm\n",
      "Pulling request content from cache!\n",
      "http://www.7723.cn/zuixin/dongzuo_166.htm\n",
      "Pulling request content from cache!\n",
      "http://www.7723.cn/zuixin/dongzuo_167.htm\n",
      "Pulling request content from cache!\n",
      "http://www.7723.cn/zuixin/dongzuo_168.htm\n",
      "Pulling request content from cache!\n",
      "http://www.7723.cn/zuixin/dongzuo_169.htm\n",
      "Pulling request content from cache!\n",
      "http://www.7723.cn/zuixin/saiche_1.htm\n"
     ]
    },
    {
     "name": "stderr",
     "output_type": "stream",
     "text": [
      "http://www.7723.cn/zuixin/saiche_7.htm:  56%|████████████████████████████████████████████████████████████████████████▍                                                        | 560/997 [00:17<00:13, 32.42it/s]"
     ]
    },
    {
     "name": "stdout",
     "output_type": "stream",
     "text": [
      "Pulling request content from cache!\n",
      "http://www.7723.cn/zuixin/saiche_2.htm\n",
      "Pulling request content from cache!\n",
      "http://www.7723.cn/zuixin/saiche_3.htm\n",
      "Pulling request content from cache!\n",
      "http://www.7723.cn/zuixin/saiche_4.htm\n",
      "Pulling request content from cache!\n",
      "http://www.7723.cn/zuixin/saiche_5.htm\n",
      "Pulling request content from cache!\n",
      "http://www.7723.cn/zuixin/saiche_6.htm\n",
      "Pulling request content from cache!\n",
      "http://www.7723.cn/zuixin/saiche_7.htm\n"
     ]
    },
    {
     "name": "stderr",
     "output_type": "stream",
     "text": [
      "http://www.7723.cn/zuixin/saiche_14.htm:  57%|████████████████████████████████████████████████████████████████████████▉                                                       | 568/997 [00:17<00:13, 32.50it/s]"
     ]
    },
    {
     "name": "stdout",
     "output_type": "stream",
     "text": [
      "Pulling request content from cache!\n",
      "http://www.7723.cn/zuixin/saiche_8.htm\n",
      "Pulling request content from cache!\n",
      "http://www.7723.cn/zuixin/saiche_9.htm\n",
      "Pulling request content from cache!\n",
      "http://www.7723.cn/zuixin/saiche_10.htm\n",
      "Pulling request content from cache!\n",
      "http://www.7723.cn/zuixin/saiche_11.htm\n",
      "Pulling request content from cache!\n",
      "http://www.7723.cn/zuixin/saiche_12.htm\n",
      "Pulling request content from cache!\n",
      "http://www.7723.cn/zuixin/saiche_13.htm\n"
     ]
    },
    {
     "name": "stderr",
     "output_type": "stream",
     "text": [
      "http://www.7723.cn/zuixin/saiche_20.htm:  57%|█████████████████████████████████████████████████████████████████████████▍                                                      | 572/997 [00:17<00:13, 32.53it/s]"
     ]
    },
    {
     "name": "stdout",
     "output_type": "stream",
     "text": [
      "Pulling request content from cache!\n",
      "http://www.7723.cn/zuixin/saiche_14.htm\n",
      "Pulling request content from cache!\n",
      "http://www.7723.cn/zuixin/saiche_15.htm\n",
      "Pulling request content from cache!\n",
      "http://www.7723.cn/zuixin/saiche_16.htm\n",
      "Pulling request content from cache!\n",
      "http://www.7723.cn/zuixin/saiche_17.htm\n",
      "Pulling request content from cache!\n",
      "http://www.7723.cn/zuixin/saiche_18.htm\n",
      "Pulling request content from cache!\n",
      "http://www.7723.cn/zuixin/saiche_19.htm\n",
      "Pulling request content from cache!\n",
      "http://www.7723.cn/zuixin/saiche_20.htm\n"
     ]
    },
    {
     "name": "stderr",
     "output_type": "stream",
     "text": [
      "http://www.7723.cn/zuixin/saiche_25.htm:  58%|██████████████████████████████████████████████████████████████████████████▍                                                     | 580/997 [00:18<00:13, 30.78it/s]"
     ]
    },
    {
     "name": "stdout",
     "output_type": "stream",
     "text": [
      "Pulling request content from cache!\n",
      "http://www.7723.cn/zuixin/saiche_21.htm\n",
      "Pulling request content from cache!\n",
      "http://www.7723.cn/zuixin/saiche_22.htm\n",
      "Pulling request content from cache!\n",
      "http://www.7723.cn/zuixin/saiche_23.htm\n",
      "Pulling request content from cache!\n",
      "http://www.7723.cn/zuixin/saiche_24.htm\n",
      "Pulling request content from cache!\n",
      "http://www.7723.cn/zuixin/saiche_25.htm\n"
     ]
    },
    {
     "name": "stderr",
     "output_type": "stream",
     "text": [
      "http://www.7723.cn/zuixin/saiche_32.htm:  59%|███████████████████████████████████████████████████████████████████████████▍                                                    | 588/997 [00:18<00:12, 31.63it/s]"
     ]
    },
    {
     "name": "stdout",
     "output_type": "stream",
     "text": [
      "Pulling request content from cache!\n",
      "http://www.7723.cn/zuixin/saiche_26.htm\n",
      "Pulling request content from cache!\n",
      "http://www.7723.cn/zuixin/saiche_27.htm\n",
      "Pulling request content from cache!\n",
      "http://www.7723.cn/zuixin/saiche_28.htm\n",
      "Pulling request content from cache!\n",
      "http://www.7723.cn/zuixin/saiche_29.htm\n",
      "Pulling request content from cache!\n",
      "http://www.7723.cn/zuixin/saiche_30.htm\n",
      "Pulling request content from cache!\n",
      "http://www.7723.cn/zuixin/saiche_31.htm\n",
      "Pulling request content from cache!\n",
      "http://www.7723.cn/zuixin/saiche_32.htm\n"
     ]
    },
    {
     "name": "stderr",
     "output_type": "stream",
     "text": [
      "http://www.7723.cn/zuixin/saiche_39.htm:  59%|████████████████████████████████████████████████████████████████████████████                                                    | 592/997 [00:18<00:12, 31.47it/s]"
     ]
    },
    {
     "name": "stdout",
     "output_type": "stream",
     "text": [
      "Pulling request content from cache!\n",
      "http://www.7723.cn/zuixin/saiche_33.htm\n",
      "Pulling request content from cache!\n",
      "http://www.7723.cn/zuixin/saiche_34.htm\n",
      "Pulling request content from cache!\n",
      "http://www.7723.cn/zuixin/saiche_35.htm\n",
      "Pulling request content from cache!\n",
      "http://www.7723.cn/zuixin/saiche_36.htm\n",
      "Pulling request content from cache!\n",
      "http://www.7723.cn/zuixin/saiche_37.htm\n",
      "Pulling request content from cache!\n",
      "http://www.7723.cn/zuixin/saiche_38.htm\n",
      "Pulling request content from cache!\n",
      "http://www.7723.cn/zuixin/saiche_39.htm\n"
     ]
    },
    {
     "name": "stderr",
     "output_type": "stream",
     "text": [
      "http://www.7723.cn/zuixin/maoxian_4.htm:  60%|█████████████████████████████████████████████████████████████████████████████                                                   | 600/997 [00:18<00:12, 33.00it/s]"
     ]
    },
    {
     "name": "stdout",
     "output_type": "stream",
     "text": [
      "Pulling request content from cache!\n",
      "http://www.7723.cn/zuixin/saiche_40.htm\n",
      "Pulling request content from cache!\n",
      "http://www.7723.cn/zuixin/saiche_41.htm\n",
      "Pulling request content from cache!\n",
      "http://www.7723.cn/zuixin/saiche_42.htm\n",
      "Pulling request content from cache!\n",
      "http://www.7723.cn/zuixin/maoxian_1.htm\n",
      "Pulling request content from cache!\n",
      "http://www.7723.cn/zuixin/maoxian_2.htm\n",
      "Pulling request content from cache!\n",
      "http://www.7723.cn/zuixin/maoxian_3.htm\n",
      "Pulling request content from cache!\n",
      "http://www.7723.cn/zuixin/maoxian_4.htm\n"
     ]
    },
    {
     "name": "stderr",
     "output_type": "stream",
     "text": [
      "http://www.7723.cn/zuixin/maoxian_10.htm:  61%|████████████████████████████████████████████████████████████████████████████▉                                                  | 604/997 [00:18<00:11, 33.12it/s]"
     ]
    },
    {
     "name": "stdout",
     "output_type": "stream",
     "text": [
      "Pulling request content from cache!\n",
      "http://www.7723.cn/zuixin/maoxian_5.htm\n",
      "Pulling request content from cache!\n",
      "http://www.7723.cn/zuixin/maoxian_6.htm\n",
      "Pulling request content from cache!\n",
      "http://www.7723.cn/zuixin/maoxian_7.htm\n",
      "Pulling request content from cache!\n",
      "http://www.7723.cn/zuixin/maoxian_8.htm\n",
      "Pulling request content from cache!\n",
      "http://www.7723.cn/zuixin/maoxian_9.htm\n",
      "Pulling request content from cache!\n",
      "http://www.7723.cn/zuixin/maoxian_10.htm\n"
     ]
    },
    {
     "name": "stderr",
     "output_type": "stream",
     "text": [
      "http://www.7723.cn/zuixin/maoxian_17.htm:  61%|█████████████████████████████████████████████████████████████████████████████▉                                                 | 612/997 [00:19<00:12, 31.42it/s]"
     ]
    },
    {
     "name": "stdout",
     "output_type": "stream",
     "text": [
      "Pulling request content from cache!\n",
      "http://www.7723.cn/zuixin/maoxian_11.htm\n",
      "Pulling request content from cache!\n",
      "http://www.7723.cn/zuixin/maoxian_12.htm\n",
      "Pulling request content from cache!\n",
      "http://www.7723.cn/zuixin/maoxian_13.htm\n",
      "Pulling request content from cache!\n",
      "http://www.7723.cn/zuixin/maoxian_14.htm\n",
      "Pulling request content from cache!\n",
      "http://www.7723.cn/zuixin/maoxian_15.htm\n",
      "Pulling request content from cache!\n",
      "http://www.7723.cn/zuixin/maoxian_16.htm\n"
     ]
    },
    {
     "name": "stderr",
     "output_type": "stream",
     "text": [
      "http://www.7723.cn/zuixin/maoxian_22.htm:  62%|██████████████████████████████████████████████████████████████████████████████▉                                                | 620/997 [00:19<00:11, 32.10it/s]"
     ]
    },
    {
     "name": "stdout",
     "output_type": "stream",
     "text": [
      "Pulling request content from cache!\n",
      "http://www.7723.cn/zuixin/maoxian_17.htm\n",
      "Pulling request content from cache!\n",
      "http://www.7723.cn/zuixin/maoxian_18.htm\n",
      "Pulling request content from cache!\n",
      "http://www.7723.cn/zuixin/maoxian_19.htm\n",
      "Pulling request content from cache!\n",
      "http://www.7723.cn/zuixin/maoxian_20.htm\n",
      "Pulling request content from cache!\n",
      "http://www.7723.cn/zuixin/maoxian_21.htm\n",
      "Pulling request content from cache!\n",
      "http://www.7723.cn/zuixin/maoxian_22.htm\n"
     ]
    },
    {
     "name": "stderr",
     "output_type": "stream",
     "text": [
      "http://www.7723.cn/zuixin/maoxian_29.htm:  63%|███████████████████████████████████████████████████████████████████████████████▍                                               | 624/997 [00:19<00:12, 30.80it/s]"
     ]
    },
    {
     "name": "stdout",
     "output_type": "stream",
     "text": [
      "Pulling request content from cache!\n",
      "http://www.7723.cn/zuixin/maoxian_23.htm\n",
      "Pulling request content from cache!\n",
      "http://www.7723.cn/zuixin/maoxian_24.htm\n",
      "Pulling request content from cache!\n",
      "http://www.7723.cn/zuixin/maoxian_25.htm\n",
      "Pulling request content from cache!\n",
      "http://www.7723.cn/zuixin/maoxian_26.htm\n",
      "Pulling request content from cache!\n",
      "http://www.7723.cn/zuixin/maoxian_27.htm\n",
      "Pulling request content from cache!\n",
      "http://www.7723.cn/zuixin/maoxian_28.htm\n"
     ]
    },
    {
     "name": "stderr",
     "output_type": "stream",
     "text": [
      "http://www.7723.cn/zuixin/maoxian_34.htm:  63%|████████████████████████████████████████████████████████████████████████████████▌                                              | 632/997 [00:19<00:11, 31.32it/s]"
     ]
    },
    {
     "name": "stdout",
     "output_type": "stream",
     "text": [
      "Pulling request content from cache!\n",
      "http://www.7723.cn/zuixin/maoxian_29.htm\n",
      "Pulling request content from cache!\n",
      "http://www.7723.cn/zuixin/maoxian_30.htm\n",
      "Pulling request content from cache!\n",
      "http://www.7723.cn/zuixin/maoxian_31.htm\n",
      "Pulling request content from cache!\n",
      "http://www.7723.cn/zuixin/maoxian_32.htm\n",
      "Pulling request content from cache!\n",
      "http://www.7723.cn/zuixin/maoxian_33.htm\n",
      "Pulling request content from cache!\n",
      "http://www.7723.cn/zuixin/maoxian_34.htm\n"
     ]
    },
    {
     "name": "stderr",
     "output_type": "stream",
     "text": [
      "http://www.7723.cn/zuixin/maoxian_41.htm:  64%|█████████████████████████████████████████████████████████████████████████████████                                              | 636/997 [00:19<00:11, 31.40it/s]"
     ]
    },
    {
     "name": "stdout",
     "output_type": "stream",
     "text": [
      "Pulling request content from cache!\n",
      "http://www.7723.cn/zuixin/maoxian_35.htm\n",
      "Pulling request content from cache!\n",
      "http://www.7723.cn/zuixin/maoxian_36.htm\n",
      "Pulling request content from cache!\n",
      "http://www.7723.cn/zuixin/maoxian_37.htm\n",
      "Pulling request content from cache!\n",
      "http://www.7723.cn/zuixin/maoxian_38.htm\n",
      "Pulling request content from cache!\n",
      "http://www.7723.cn/zuixin/maoxian_39.htm\n",
      "Pulling request content from cache!\n",
      "http://www.7723.cn/zuixin/maoxian_40.htm\n"
     ]
    },
    {
     "name": "stderr",
     "output_type": "stream",
     "text": [
      "http://www.7723.cn/zuixin/maoxian_46.htm:  64%|█████████████████████████████████████████████████████████████████████████████████▌                                             | 640/997 [00:20<00:11, 30.11it/s]"
     ]
    },
    {
     "name": "stdout",
     "output_type": "stream",
     "text": [
      "Pulling request content from cache!\n",
      "http://www.7723.cn/zuixin/maoxian_41.htm\n",
      "Pulling request content from cache!\n",
      "http://www.7723.cn/zuixin/maoxian_42.htm\n",
      "Pulling request content from cache!\n",
      "http://www.7723.cn/zuixin/maoxian_43.htm\n",
      "Pulling request content from cache!\n",
      "http://www.7723.cn/zuixin/maoxian_44.htm\n",
      "Pulling request content from cache!\n",
      "http://www.7723.cn/zuixin/maoxian_45.htm\n",
      "Pulling request content from cache!\n",
      "http://www.7723.cn/zuixin/maoxian_46.htm\n"
     ]
    },
    {
     "name": "stderr",
     "output_type": "stream",
     "text": [
      "http://www.7723.cn/zuixin/maoxian_53.htm:  65%|██████████████████████████████████████████████████████████████████████████████████▌                                            | 648/997 [00:20<00:11, 30.73it/s]"
     ]
    },
    {
     "name": "stdout",
     "output_type": "stream",
     "text": [
      "Pulling request content from cache!\n",
      "http://www.7723.cn/zuixin/maoxian_47.htm\n",
      "Pulling request content from cache!\n",
      "http://www.7723.cn/zuixin/maoxian_48.htm\n",
      "Pulling request content from cache!\n",
      "http://www.7723.cn/zuixin/maoxian_49.htm\n",
      "Pulling request content from cache!\n",
      "http://www.7723.cn/zuixin/maoxian_50.htm\n",
      "Pulling request content from cache!\n",
      "http://www.7723.cn/zuixin/maoxian_51.htm\n",
      "Pulling request content from cache!\n",
      "http://www.7723.cn/zuixin/maoxian_52.htm\n"
     ]
    },
    {
     "name": "stderr",
     "output_type": "stream",
     "text": [
      "http://www.7723.cn/zuixin/yangcheng_1.htm:  66%|███████████████████████████████████████████████████████████████████████████████████                                           | 657/997 [00:20<00:10, 33.26it/s]"
     ]
    },
    {
     "name": "stdout",
     "output_type": "stream",
     "text": [
      "Pulling request content from cache!\n",
      "http://www.7723.cn/zuixin/maoxian_53.htm\n",
      "Pulling request content from cache!\n",
      "http://www.7723.cn/zuixin/maoxian_54.htm\n",
      "Pulling request content from cache!\n",
      "http://www.7723.cn/zuixin/maoxian_55.htm\n",
      "Pulling request content from cache!\n",
      "http://www.7723.cn/zuixin/maoxian_56.htm\n",
      "Pulling request content from cache!\n",
      "http://www.7723.cn/zuixin/maoxian_57.htm\n",
      "Pulling request content from cache!\n",
      "http://www.7723.cn/zuixin/maoxian_58.htm\n",
      "Pulling request content from cache!\n",
      "http://www.7723.cn/zuixin/yangcheng_1.htm\n"
     ]
    },
    {
     "name": "stderr",
     "output_type": "stream",
     "text": [
      "http://www.7723.cn/zuixin/yangcheng_8.htm:  66%|███████████████████████████████████████████████████████████████████████████████████▌                                          | 661/997 [00:20<00:10, 32.82it/s]"
     ]
    },
    {
     "name": "stdout",
     "output_type": "stream",
     "text": [
      "Pulling request content from cache!\n",
      "http://www.7723.cn/zuixin/yangcheng_2.htm\n",
      "Pulling request content from cache!\n",
      "http://www.7723.cn/zuixin/yangcheng_3.htm\n",
      "Pulling request content from cache!\n",
      "http://www.7723.cn/zuixin/yangcheng_4.htm\n",
      "Pulling request content from cache!\n",
      "http://www.7723.cn/zuixin/yangcheng_5.htm\n",
      "Pulling request content from cache!\n",
      "http://www.7723.cn/zuixin/yangcheng_6.htm\n",
      "Pulling request content from cache!\n",
      "http://www.7723.cn/zuixin/yangcheng_7.htm\n",
      "Pulling request content from cache!\n",
      "http://www.7723.cn/zuixin/yangcheng_8.htm\n"
     ]
    },
    {
     "name": "stderr",
     "output_type": "stream",
     "text": [
      "http://www.7723.cn/zuixin/yangcheng_13.htm:  67%|███████████████████████████████████████████████████████████████████████████████████▍                                         | 665/997 [00:20<00:10, 32.83it/s]"
     ]
    },
    {
     "name": "stdout",
     "output_type": "stream",
     "text": [
      "Pulling request content from cache!\n",
      "http://www.7723.cn/zuixin/yangcheng_9.htm\n",
      "Pulling request content from cache!\n",
      "http://www.7723.cn/zuixin/yangcheng_10.htm\n",
      "Pulling request content from cache!\n",
      "http://www.7723.cn/zuixin/yangcheng_11.htm\n",
      "Pulling request content from cache!\n",
      "http://www.7723.cn/zuixin/yangcheng_12.htm\n",
      "Pulling request content from cache!\n",
      "http://www.7723.cn/zuixin/yangcheng_13.htm\n"
     ]
    },
    {
     "name": "stderr",
     "output_type": "stream",
     "text": [
      "http://www.7723.cn/zuixin/yangcheng_20.htm:  68%|████████████████████████████████████████████████████████████████████████████████████▍                                        | 673/997 [00:21<00:10, 30.84it/s]"
     ]
    },
    {
     "name": "stdout",
     "output_type": "stream",
     "text": [
      "Pulling request content from cache!\n",
      "http://www.7723.cn/zuixin/yangcheng_14.htm\n",
      "Pulling request content from cache!\n",
      "http://www.7723.cn/zuixin/yangcheng_15.htm\n",
      "Pulling request content from cache!\n",
      "http://www.7723.cn/zuixin/yangcheng_16.htm\n",
      "Pulling request content from cache!\n",
      "http://www.7723.cn/zuixin/yangcheng_17.htm\n",
      "Pulling request content from cache!\n",
      "http://www.7723.cn/zuixin/yangcheng_18.htm\n",
      "Pulling request content from cache!\n",
      "http://www.7723.cn/zuixin/yangcheng_19.htm\n"
     ]
    },
    {
     "name": "stderr",
     "output_type": "stream",
     "text": [
      "http://www.7723.cn/zuixin/tiyu_5.htm:  68%|█████████████████████████████████████████████████████████████████████████████████████████▌                                         | 682/997 [00:21<00:09, 33.18it/s]"
     ]
    },
    {
     "name": "stdout",
     "output_type": "stream",
     "text": [
      "Pulling request content from cache!\n",
      "http://www.7723.cn/zuixin/yangcheng_20.htm\n",
      "Pulling request content from cache!\n",
      "http://www.7723.cn/zuixin/yangcheng_21.htm\n",
      "Pulling request content from cache!\n",
      "http://www.7723.cn/zuixin/tiyu_1.htm\n",
      "Pulling request content from cache!\n",
      "http://www.7723.cn/zuixin/tiyu_2.htm\n",
      "Pulling request content from cache!\n",
      "http://www.7723.cn/zuixin/tiyu_3.htm\n",
      "Pulling request content from cache!\n",
      "http://www.7723.cn/zuixin/tiyu_4.htm\n",
      "Pulling request content from cache!\n",
      "http://www.7723.cn/zuixin/tiyu_5.htm\n"
     ]
    },
    {
     "name": "stderr",
     "output_type": "stream",
     "text": [
      "http://www.7723.cn/zuixin/tiyu_11.htm:  69%|█████████████████████████████████████████████████████████████████████████████████████████▍                                        | 686/997 [00:21<00:09, 32.53it/s]"
     ]
    },
    {
     "name": "stdout",
     "output_type": "stream",
     "text": [
      "Pulling request content from cache!\n",
      "http://www.7723.cn/zuixin/tiyu_6.htm\n",
      "Pulling request content from cache!\n",
      "http://www.7723.cn/zuixin/tiyu_7.htm\n",
      "Pulling request content from cache!\n",
      "http://www.7723.cn/zuixin/tiyu_8.htm\n",
      "Pulling request content from cache!\n",
      "http://www.7723.cn/zuixin/tiyu_9.htm\n",
      "Pulling request content from cache!\n",
      "http://www.7723.cn/zuixin/tiyu_10.htm\n",
      "Pulling request content from cache!\n",
      "http://www.7723.cn/zuixin/tiyu_11.htm\n"
     ]
    },
    {
     "name": "stderr",
     "output_type": "stream",
     "text": [
      "http://www.7723.cn/zuixin/tiyu_17.htm:  70%|██████████████████████████████████████████████████████████████████████████████████████████▍                                       | 694/997 [00:21<00:09, 32.45it/s]"
     ]
    },
    {
     "name": "stdout",
     "output_type": "stream",
     "text": [
      "Pulling request content from cache!\n",
      "http://www.7723.cn/zuixin/tiyu_12.htm\n",
      "Pulling request content from cache!\n",
      "http://www.7723.cn/zuixin/tiyu_13.htm\n",
      "Pulling request content from cache!\n",
      "http://www.7723.cn/zuixin/tiyu_14.htm\n",
      "Pulling request content from cache!\n",
      "http://www.7723.cn/zuixin/tiyu_15.htm\n",
      "Pulling request content from cache!\n",
      "http://www.7723.cn/zuixin/tiyu_16.htm\n",
      "Pulling request content from cache!\n",
      "http://www.7723.cn/zuixin/tiyu_17.htm\n"
     ]
    },
    {
     "name": "stderr",
     "output_type": "stream",
     "text": [
      "http://www.7723.cn/zuixin/tiyu_24.htm:  70%|███████████████████████████████████████████████████████████████████████████████████████████                                       | 698/997 [00:21<00:09, 32.58it/s]"
     ]
    },
    {
     "name": "stdout",
     "output_type": "stream",
     "text": [
      "Pulling request content from cache!\n",
      "http://www.7723.cn/zuixin/tiyu_18.htm\n",
      "Pulling request content from cache!\n",
      "http://www.7723.cn/zuixin/tiyu_19.htm\n",
      "Pulling request content from cache!\n",
      "http://www.7723.cn/zuixin/tiyu_20.htm\n",
      "Pulling request content from cache!\n",
      "http://www.7723.cn/zuixin/tiyu_21.htm\n",
      "Pulling request content from cache!\n",
      "http://www.7723.cn/zuixin/tiyu_22.htm\n",
      "Pulling request content from cache!\n",
      "http://www.7723.cn/zuixin/tiyu_23.htm\n"
     ]
    },
    {
     "name": "stderr",
     "output_type": "stream",
     "text": [
      "http://www.7723.cn/zuixin/tiyu_29.htm:  71%|████████████████████████████████████████████████████████████████████████████████████████████                                      | 706/997 [00:22<00:09, 31.56it/s]"
     ]
    },
    {
     "name": "stdout",
     "output_type": "stream",
     "text": [
      "Pulling request content from cache!\n",
      "http://www.7723.cn/zuixin/tiyu_24.htm\n",
      "Pulling request content from cache!\n",
      "http://www.7723.cn/zuixin/tiyu_25.htm\n",
      "Pulling request content from cache!\n",
      "http://www.7723.cn/zuixin/tiyu_26.htm\n",
      "Pulling request content from cache!\n",
      "http://www.7723.cn/zuixin/tiyu_27.htm\n",
      "Pulling request content from cache!\n",
      "http://www.7723.cn/zuixin/tiyu_28.htm\n",
      "Pulling request content from cache!\n",
      "http://www.7723.cn/zuixin/tiyu_29.htm\n"
     ]
    },
    {
     "name": "stderr",
     "output_type": "stream",
     "text": [
      "http://www.7723.cn/zuixin/tiyu_37.htm:  71%|████████████████████████████████████████████████████████████████████████████████████████████▌                                     | 710/997 [00:22<00:08, 32.02it/s]"
     ]
    },
    {
     "name": "stdout",
     "output_type": "stream",
     "text": [
      "Pulling request content from cache!\n",
      "http://www.7723.cn/zuixin/tiyu_30.htm\n",
      "Pulling request content from cache!\n",
      "http://www.7723.cn/zuixin/tiyu_31.htm\n",
      "Pulling request content from cache!\n",
      "http://www.7723.cn/zuixin/tiyu_32.htm\n",
      "Pulling request content from cache!\n",
      "http://www.7723.cn/zuixin/tiyu_33.htm\n",
      "Pulling request content from cache!\n",
      "http://www.7723.cn/zuixin/tiyu_34.htm\n",
      "Pulling request content from cache!\n",
      "http://www.7723.cn/zuixin/tiyu_35.htm\n",
      "Pulling request content from cache!\n",
      "http://www.7723.cn/zuixin/tiyu_36.htm\n"
     ]
    },
    {
     "name": "stderr",
     "output_type": "stream",
     "text": [
      "http://www.7723.cn/zuixin/tiyu_42.htm:  72%|█████████████████████████████████████████████████████████████████████████████████████████████▌                                    | 718/997 [00:22<00:08, 31.61it/s]"
     ]
    },
    {
     "name": "stdout",
     "output_type": "stream",
     "text": [
      "Pulling request content from cache!\n",
      "http://www.7723.cn/zuixin/tiyu_37.htm\n",
      "Pulling request content from cache!\n",
      "http://www.7723.cn/zuixin/tiyu_38.htm\n",
      "Pulling request content from cache!\n",
      "http://www.7723.cn/zuixin/tiyu_39.htm\n",
      "Pulling request content from cache!\n",
      "http://www.7723.cn/zuixin/tiyu_40.htm\n",
      "Pulling request content from cache!\n",
      "http://www.7723.cn/zuixin/tiyu_41.htm\n",
      "Pulling request content from cache!\n",
      "http://www.7723.cn/zuixin/tiyu_42.htm\n"
     ]
    },
    {
     "name": "stderr",
     "output_type": "stream",
     "text": [
      "http://www.7723.cn/zuixin/tiyu_48.htm:  72%|██████████████████████████████████████████████████████████████████████████████████████████████▏                                   | 722/997 [00:22<00:08, 31.49it/s]"
     ]
    },
    {
     "name": "stdout",
     "output_type": "stream",
     "text": [
      "Pulling request content from cache!\n",
      "http://www.7723.cn/zuixin/tiyu_43.htm\n",
      "Pulling request content from cache!\n",
      "http://www.7723.cn/zuixin/tiyu_44.htm\n",
      "Pulling request content from cache!\n",
      "http://www.7723.cn/zuixin/tiyu_45.htm\n",
      "Pulling request content from cache!\n",
      "http://www.7723.cn/zuixin/tiyu_46.htm\n",
      "Pulling request content from cache!\n",
      "http://www.7723.cn/zuixin/tiyu_47.htm\n",
      "Pulling request content from cache!\n",
      "http://www.7723.cn/zuixin/tiyu_48.htm\n"
     ]
    },
    {
     "name": "stderr",
     "output_type": "stream",
     "text": [
      "http://www.7723.cn/zuixin/gedou_3.htm:  73%|███████████████████████████████████████████████████████████████████████████████████████████████▏                                  | 730/997 [00:22<00:08, 31.18it/s]"
     ]
    },
    {
     "name": "stdout",
     "output_type": "stream",
     "text": [
      "Pulling request content from cache!\n",
      "http://www.7723.cn/zuixin/tiyu_49.htm\n",
      "Pulling request content from cache!\n",
      "http://www.7723.cn/zuixin/tiyu_50.htm\n",
      "Pulling request content from cache!\n",
      "http://www.7723.cn/zuixin/tiyu_51.htm\n",
      "Pulling request content from cache!\n",
      "http://www.7723.cn/zuixin/tiyu_52.htm\n",
      "Pulling request content from cache!\n",
      "http://www.7723.cn/zuixin/gedou_1.htm\n",
      "Pulling request content from cache!\n",
      "http://www.7723.cn/zuixin/gedou_2.htm\n"
     ]
    },
    {
     "name": "stderr",
     "output_type": "stream",
     "text": [
      "http://www.7723.cn/zuixin/gedou_8.htm:  74%|███████████████████████████████████████████████████████████████████████████████████████████████▋                                  | 734/997 [00:22<00:08, 31.08it/s]"
     ]
    },
    {
     "name": "stdout",
     "output_type": "stream",
     "text": [
      "Pulling request content from cache!\n",
      "http://www.7723.cn/zuixin/gedou_3.htm\n",
      "Pulling request content from cache!\n",
      "http://www.7723.cn/zuixin/gedou_4.htm\n",
      "Pulling request content from cache!\n",
      "http://www.7723.cn/zuixin/gedou_5.htm\n",
      "Pulling request content from cache!\n",
      "http://www.7723.cn/zuixin/gedou_6.htm\n",
      "Pulling request content from cache!\n",
      "http://www.7723.cn/zuixin/gedou_7.htm\n",
      "Pulling request content from cache!\n",
      "http://www.7723.cn/zuixin/gedou_8.htm\n"
     ]
    },
    {
     "name": "stderr",
     "output_type": "stream",
     "text": [
      "http://www.7723.cn/zuixin/gedou_15.htm:  74%|████████████████████████████████████████████████████████████████████████████████████████████████                                 | 742/997 [00:23<00:07, 32.21it/s]"
     ]
    },
    {
     "name": "stdout",
     "output_type": "stream",
     "text": [
      "Pulling request content from cache!\n",
      "http://www.7723.cn/zuixin/gedou_9.htm\n",
      "Pulling request content from cache!\n",
      "http://www.7723.cn/zuixin/gedou_10.htm\n",
      "Pulling request content from cache!\n",
      "http://www.7723.cn/zuixin/gedou_11.htm\n",
      "Pulling request content from cache!\n",
      "http://www.7723.cn/zuixin/gedou_12.htm\n",
      "Pulling request content from cache!\n",
      "http://www.7723.cn/zuixin/gedou_13.htm\n",
      "Pulling request content from cache!\n",
      "http://www.7723.cn/zuixin/gedou_14.htm\n",
      "Pulling request content from cache!\n",
      "http://www.7723.cn/zuixin/gedou_15.htm\n"
     ]
    },
    {
     "name": "stderr",
     "output_type": "stream",
     "text": [
      "http://www.7723.cn/zuixin/gedou_23.htm:  75%|█████████████████████████████████████████████████████████████████████████████████████████████████                                | 750/997 [00:23<00:07, 32.82it/s]"
     ]
    },
    {
     "name": "stdout",
     "output_type": "stream",
     "text": [
      "Pulling request content from cache!\n",
      "http://www.7723.cn/zuixin/gedou_16.htm\n",
      "Pulling request content from cache!\n",
      "http://www.7723.cn/zuixin/gedou_17.htm\n",
      "Pulling request content from cache!\n",
      "http://www.7723.cn/zuixin/gedou_18.htm\n",
      "Pulling request content from cache!\n",
      "http://www.7723.cn/zuixin/gedou_19.htm\n",
      "Pulling request content from cache!\n",
      "http://www.7723.cn/zuixin/gedou_20.htm\n",
      "Pulling request content from cache!\n",
      "http://www.7723.cn/zuixin/gedou_21.htm\n",
      "Pulling request content from cache!\n",
      "http://www.7723.cn/zuixin/gedou_22.htm\n"
     ]
    },
    {
     "name": "stderr",
     "output_type": "stream",
     "text": [
      "http://www.7723.cn/zuixin/qipai_2.htm:  76%|██████████████████████████████████████████████████████████████████████████████████████████████████▊                               | 758/997 [00:23<00:06, 34.52it/s]"
     ]
    },
    {
     "name": "stdout",
     "output_type": "stream",
     "text": [
      "Pulling request content from cache!\n",
      "http://www.7723.cn/zuixin/gedou_23.htm\n",
      "Pulling request content from cache!\n",
      "http://www.7723.cn/zuixin/gedou_24.htm\n",
      "Pulling request content from cache!\n",
      "http://www.7723.cn/zuixin/gedou_25.htm\n",
      "Pulling request content from cache!\n",
      "http://www.7723.cn/zuixin/gedou_26.htm\n",
      "Pulling request content from cache!\n",
      "http://www.7723.cn/zuixin/gedou_27.htm\n",
      "Pulling request content from cache!\n",
      "http://www.7723.cn/zuixin/qipai_1.htm\n",
      "Pulling request content from cache!\n",
      "http://www.7723.cn/zuixin/qipai_2.htm\n"
     ]
    },
    {
     "name": "stderr",
     "output_type": "stream",
     "text": [
      "http://www.7723.cn/zuixin/qipai_8.htm:  76%|███████████████████████████████████████████████████████████████████████████████████████████████████▎                              | 762/997 [00:23<00:07, 31.89it/s]"
     ]
    },
    {
     "name": "stdout",
     "output_type": "stream",
     "text": [
      "Pulling request content from cache!\n",
      "http://www.7723.cn/zuixin/qipai_3.htm\n",
      "Pulling request content from cache!\n",
      "http://www.7723.cn/zuixin/qipai_4.htm\n",
      "Pulling request content from cache!\n",
      "http://www.7723.cn/zuixin/qipai_5.htm\n",
      "Pulling request content from cache!\n",
      "http://www.7723.cn/zuixin/qipai_6.htm\n",
      "Pulling request content from cache!\n",
      "http://www.7723.cn/zuixin/qipai_7.htm\n",
      "Pulling request content from cache!\n",
      "http://www.7723.cn/zuixin/qipai_8.htm\n"
     ]
    },
    {
     "name": "stderr",
     "output_type": "stream",
     "text": [
      "http://www.7723.cn/zuixin/qipai_14.htm:  77%|███████████████████████████████████████████████████████████████████████████████████████████████████▋                             | 770/997 [00:23<00:07, 32.19it/s]"
     ]
    },
    {
     "name": "stdout",
     "output_type": "stream",
     "text": [
      "Pulling request content from cache!\n",
      "http://www.7723.cn/zuixin/qipai_9.htm\n",
      "Pulling request content from cache!\n",
      "http://www.7723.cn/zuixin/qipai_10.htm\n",
      "Pulling request content from cache!\n",
      "http://www.7723.cn/zuixin/qipai_11.htm\n",
      "Pulling request content from cache!\n",
      "http://www.7723.cn/zuixin/qipai_12.htm\n",
      "Pulling request content from cache!\n",
      "http://www.7723.cn/zuixin/qipai_13.htm\n",
      "Pulling request content from cache!\n",
      "http://www.7723.cn/zuixin/qipai_14.htm\n"
     ]
    },
    {
     "name": "stderr",
     "output_type": "stream",
     "text": [
      "http://www.7723.cn/zuixin/qipai_22.htm:  78%|████████████████████████████████████████████████████████████████████████████████████████████████████▏                            | 774/997 [00:24<00:06, 33.32it/s]"
     ]
    },
    {
     "name": "stdout",
     "output_type": "stream",
     "text": [
      "Pulling request content from cache!\n",
      "http://www.7723.cn/zuixin/qipai_15.htm\n",
      "Pulling request content from cache!\n",
      "http://www.7723.cn/zuixin/qipai_16.htm\n",
      "Pulling request content from cache!\n",
      "http://www.7723.cn/zuixin/qipai_17.htm\n",
      "Pulling request content from cache!\n",
      "http://www.7723.cn/zuixin/qipai_18.htm\n",
      "Pulling request content from cache!\n",
      "http://www.7723.cn/zuixin/qipai_19.htm\n",
      "Pulling request content from cache!\n",
      "http://www.7723.cn/zuixin/qipai_20.htm\n",
      "Pulling request content from cache!\n",
      "http://www.7723.cn/zuixin/qipai_21.htm\n"
     ]
    },
    {
     "name": "stderr",
     "output_type": "stream",
     "text": [
      "http://www.7723.cn/zuixin/qipai_28.htm:  78%|█████████████████████████████████████████████████████████████████████████████████████████████████████▏                           | 782/997 [00:24<00:06, 34.85it/s]"
     ]
    },
    {
     "name": "stdout",
     "output_type": "stream",
     "text": [
      "Pulling request content from cache!\n",
      "http://www.7723.cn/zuixin/qipai_22.htm\n",
      "Pulling request content from cache!\n",
      "http://www.7723.cn/zuixin/qipai_23.htm\n",
      "Pulling request content from cache!\n",
      "http://www.7723.cn/zuixin/qipai_24.htm\n",
      "Pulling request content from cache!\n",
      "http://www.7723.cn/zuixin/qipai_25.htm\n",
      "Pulling request content from cache!\n",
      "http://www.7723.cn/zuixin/qipai_26.htm\n",
      "Pulling request content from cache!\n",
      "http://www.7723.cn/zuixin/qipai_27.htm\n",
      "Pulling request content from cache!\n",
      "http://www.7723.cn/zuixin/qipai_28.htm\n"
     ]
    },
    {
     "name": "stderr",
     "output_type": "stream",
     "text": [
      "http://www.7723.cn/zuixin/qipai_35.htm:  79%|██████████████████████████████████████████████████████████████████████████████████████████████████████▏                          | 790/997 [00:24<00:05, 35.00it/s]"
     ]
    },
    {
     "name": "stdout",
     "output_type": "stream",
     "text": [
      "Pulling request content from cache!\n",
      "http://www.7723.cn/zuixin/qipai_29.htm\n",
      "Pulling request content from cache!\n",
      "http://www.7723.cn/zuixin/qipai_30.htm\n",
      "Pulling request content from cache!\n",
      "http://www.7723.cn/zuixin/qipai_31.htm\n",
      "Pulling request content from cache!\n",
      "http://www.7723.cn/zuixin/qipai_32.htm\n",
      "Pulling request content from cache!\n",
      "http://www.7723.cn/zuixin/qipai_33.htm\n",
      "Pulling request content from cache!\n",
      "http://www.7723.cn/zuixin/qipai_34.htm\n",
      "Pulling request content from cache!\n",
      "http://www.7723.cn/zuixin/qipai_35.htm\n"
     ]
    },
    {
     "name": "stderr",
     "output_type": "stream",
     "text": [
      "http://www.7723.cn/zuixin/qipai_41.htm:  80%|██████████████████████████████████████████████████████████████████████████████████████████████████████▋                          | 794/997 [00:24<00:06, 31.65it/s]"
     ]
    },
    {
     "name": "stdout",
     "output_type": "stream",
     "text": [
      "Pulling request content from cache!\n",
      "http://www.7723.cn/zuixin/qipai_36.htm\n",
      "Pulling request content from cache!\n",
      "http://www.7723.cn/zuixin/qipai_37.htm\n",
      "Pulling request content from cache!\n",
      "http://www.7723.cn/zuixin/qipai_38.htm\n",
      "Pulling request content from cache!\n",
      "http://www.7723.cn/zuixin/qipai_39.htm\n",
      "Pulling request content from cache!\n",
      "http://www.7723.cn/zuixin/qipai_40.htm\n",
      "Pulling request content from cache!\n",
      "http://www.7723.cn/zuixin/qipai_41.htm\n"
     ]
    },
    {
     "name": "stderr",
     "output_type": "stream",
     "text": [
      "http://www.7723.cn/zuixin/qipai_49.htm:  80%|███████████████████████████████████████████████████████████████████████████████████████████████████████▊                         | 802/997 [00:24<00:05, 32.97it/s]"
     ]
    },
    {
     "name": "stdout",
     "output_type": "stream",
     "text": [
      "Pulling request content from cache!\n",
      "http://www.7723.cn/zuixin/qipai_42.htm\n",
      "Pulling request content from cache!\n",
      "http://www.7723.cn/zuixin/qipai_43.htm\n",
      "Pulling request content from cache!\n",
      "http://www.7723.cn/zuixin/qipai_44.htm\n",
      "Pulling request content from cache!\n",
      "http://www.7723.cn/zuixin/qipai_45.htm\n",
      "Pulling request content from cache!\n",
      "http://www.7723.cn/zuixin/qipai_46.htm\n",
      "Pulling request content from cache!\n",
      "http://www.7723.cn/zuixin/qipai_47.htm\n",
      "Pulling request content from cache!\n",
      "http://www.7723.cn/zuixin/qipai_48.htm\n"
     ]
    },
    {
     "name": "stderr",
     "output_type": "stream",
     "text": [
      "http://www.7723.cn/zuixin/qipai_54.htm:  81%|████████████████████████████████████████████████████████████████████████████████████████████████████████▎                        | 806/997 [00:25<00:05, 32.95it/s]"
     ]
    },
    {
     "name": "stdout",
     "output_type": "stream",
     "text": [
      "Pulling request content from cache!\n",
      "http://www.7723.cn/zuixin/qipai_49.htm\n",
      "Pulling request content from cache!\n",
      "http://www.7723.cn/zuixin/qipai_50.htm\n",
      "Pulling request content from cache!\n",
      "http://www.7723.cn/zuixin/qipai_51.htm\n",
      "Pulling request content from cache!\n",
      "http://www.7723.cn/zuixin/qipai_52.htm\n",
      "Pulling request content from cache!\n",
      "http://www.7723.cn/zuixin/qipai_53.htm\n",
      "Pulling request content from cache!\n",
      "http://www.7723.cn/zuixin/qipai_54.htm\n"
     ]
    },
    {
     "name": "stderr",
     "output_type": "stream",
     "text": [
      "http://www.7723.cn/zuixin/celue_7.htm:  82%|██████████████████████████████████████████████████████████████████████████████████████████████████████████▏                       | 814/997 [00:25<00:05, 34.16it/s]"
     ]
    },
    {
     "name": "stdout",
     "output_type": "stream",
     "text": [
      "Pulling request content from cache!\n",
      "http://www.7723.cn/zuixin/qipai_55.htm\n",
      "Pulling request content from cache!\n",
      "http://www.7723.cn/zuixin/celue_1.htm\n",
      "Pulling request content from cache!\n",
      "http://www.7723.cn/zuixin/celue_2.htm\n",
      "Pulling request content from cache!\n",
      "http://www.7723.cn/zuixin/celue_3.htm\n",
      "Pulling request content from cache!\n",
      "http://www.7723.cn/zuixin/celue_4.htm\n",
      "Pulling request content from cache!\n",
      "http://www.7723.cn/zuixin/celue_5.htm\n",
      "Pulling request content from cache!\n",
      "http://www.7723.cn/zuixin/celue_6.htm\n"
     ]
    },
    {
     "name": "stderr",
     "output_type": "stream",
     "text": [
      "http://www.7723.cn/zuixin/celue_12.htm:  82%|██████████████████████████████████████████████████████████████████████████████████████████████████████████▎                      | 822/997 [00:25<00:05, 32.66it/s]"
     ]
    },
    {
     "name": "stdout",
     "output_type": "stream",
     "text": [
      "Pulling request content from cache!\n",
      "http://www.7723.cn/zuixin/celue_7.htm\n",
      "Pulling request content from cache!\n",
      "http://www.7723.cn/zuixin/celue_8.htm\n",
      "Pulling request content from cache!\n",
      "http://www.7723.cn/zuixin/celue_9.htm\n",
      "Pulling request content from cache!\n",
      "http://www.7723.cn/zuixin/celue_10.htm\n",
      "Pulling request content from cache!\n",
      "http://www.7723.cn/zuixin/celue_11.htm\n",
      "Pulling request content from cache!\n",
      "http://www.7723.cn/zuixin/celue_12.htm\n"
     ]
    },
    {
     "name": "stderr",
     "output_type": "stream",
     "text": [
      "http://www.7723.cn/zuixin/celue_19.htm:  83%|███████████████████████████████████████████████████████████████████████████████████████████████████████████▍                     | 830/997 [00:25<00:04, 34.21it/s]"
     ]
    },
    {
     "name": "stdout",
     "output_type": "stream",
     "text": [
      "Pulling request content from cache!\n",
      "http://www.7723.cn/zuixin/celue_13.htm\n",
      "Pulling request content from cache!\n",
      "http://www.7723.cn/zuixin/celue_14.htm\n",
      "Pulling request content from cache!\n",
      "http://www.7723.cn/zuixin/celue_15.htm\n",
      "Pulling request content from cache!\n",
      "http://www.7723.cn/zuixin/celue_16.htm\n",
      "Pulling request content from cache!\n",
      "http://www.7723.cn/zuixin/celue_17.htm\n",
      "Pulling request content from cache!\n",
      "http://www.7723.cn/zuixin/celue_18.htm\n",
      "Pulling request content from cache!\n",
      "http://www.7723.cn/zuixin/celue_19.htm\n"
     ]
    },
    {
     "name": "stderr",
     "output_type": "stream",
     "text": [
      "http://www.7723.cn/zuixin/celue_26.htm:  84%|███████████████████████████████████████████████████████████████████████████████████████████████████████████▉                     | 834/997 [00:25<00:04, 33.71it/s]"
     ]
    },
    {
     "name": "stdout",
     "output_type": "stream",
     "text": [
      "Pulling request content from cache!\n",
      "http://www.7723.cn/zuixin/celue_20.htm\n",
      "Pulling request content from cache!\n",
      "http://www.7723.cn/zuixin/celue_21.htm\n",
      "Pulling request content from cache!\n",
      "http://www.7723.cn/zuixin/celue_22.htm\n",
      "Pulling request content from cache!\n",
      "http://www.7723.cn/zuixin/celue_23.htm\n",
      "Pulling request content from cache!\n",
      "http://www.7723.cn/zuixin/celue_24.htm\n",
      "Pulling request content from cache!\n",
      "http://www.7723.cn/zuixin/celue_25.htm\n"
     ]
    },
    {
     "name": "stderr",
     "output_type": "stream",
     "text": [
      "http://www.7723.cn/zuixin/celue_31.htm:  84%|████████████████████████████████████████████████████████████████████████████████████████████████████████████▉                    | 842/997 [00:26<00:04, 32.98it/s]"
     ]
    },
    {
     "name": "stdout",
     "output_type": "stream",
     "text": [
      "Pulling request content from cache!\n",
      "http://www.7723.cn/zuixin/celue_26.htm\n",
      "Pulling request content from cache!\n",
      "http://www.7723.cn/zuixin/celue_27.htm\n",
      "Pulling request content from cache!\n",
      "http://www.7723.cn/zuixin/celue_28.htm\n",
      "Pulling request content from cache!\n",
      "http://www.7723.cn/zuixin/celue_29.htm\n",
      "Pulling request content from cache!\n",
      "http://www.7723.cn/zuixin/celue_30.htm\n",
      "Pulling request content from cache!\n",
      "http://www.7723.cn/zuixin/celue_31.htm\n"
     ]
    },
    {
     "name": "stderr",
     "output_type": "stream",
     "text": [
      "http://www.7723.cn/zuixin/celue_38.htm:  85%|█████████████████████████████████████████████████████████████████████████████████████████████████████████████▍                   | 846/997 [00:26<00:04, 33.28it/s]"
     ]
    },
    {
     "name": "stdout",
     "output_type": "stream",
     "text": [
      "Pulling request content from cache!\n",
      "http://www.7723.cn/zuixin/celue_32.htm\n",
      "Pulling request content from cache!\n",
      "http://www.7723.cn/zuixin/celue_33.htm\n",
      "Pulling request content from cache!\n",
      "http://www.7723.cn/zuixin/celue_34.htm\n",
      "Pulling request content from cache!\n",
      "http://www.7723.cn/zuixin/celue_35.htm\n",
      "Pulling request content from cache!\n",
      "http://www.7723.cn/zuixin/celue_36.htm\n",
      "Pulling request content from cache!\n",
      "http://www.7723.cn/zuixin/celue_37.htm\n",
      "Pulling request content from cache!\n",
      "http://www.7723.cn/zuixin/celue_38.htm\n"
     ]
    },
    {
     "name": "stderr",
     "output_type": "stream",
     "text": [
      "http://www.7723.cn/zuixin/celue_45.htm:  86%|██████████████████████████████████████████████████████████████████████████████████████████████████████████████▍                  | 854/997 [00:26<00:04, 32.16it/s]"
     ]
    },
    {
     "name": "stdout",
     "output_type": "stream",
     "text": [
      "Pulling request content from cache!\n",
      "http://www.7723.cn/zuixin/celue_39.htm\n",
      "Pulling request content from cache!\n",
      "http://www.7723.cn/zuixin/celue_40.htm\n",
      "Pulling request content from cache!\n",
      "http://www.7723.cn/zuixin/celue_41.htm\n",
      "Pulling request content from cache!\n",
      "http://www.7723.cn/zuixin/celue_42.htm\n",
      "Pulling request content from cache!\n",
      "http://www.7723.cn/zuixin/celue_43.htm\n",
      "Pulling request content from cache!\n",
      "http://www.7723.cn/zuixin/celue_44.htm\n"
     ]
    },
    {
     "name": "stderr",
     "output_type": "stream",
     "text": [
      "http://www.7723.cn/zuixin/celue_51.htm:  86%|███████████████████████████████████████████████████████████████████████████████████████████████████████████████                  | 858/997 [00:26<00:04, 32.22it/s]"
     ]
    },
    {
     "name": "stdout",
     "output_type": "stream",
     "text": [
      "Pulling request content from cache!\n",
      "http://www.7723.cn/zuixin/celue_45.htm\n",
      "Pulling request content from cache!\n",
      "http://www.7723.cn/zuixin/celue_46.htm\n",
      "Pulling request content from cache!\n",
      "http://www.7723.cn/zuixin/celue_47.htm\n",
      "Pulling request content from cache!\n",
      "http://www.7723.cn/zuixin/celue_48.htm\n",
      "Pulling request content from cache!\n",
      "http://www.7723.cn/zuixin/celue_49.htm\n",
      "Pulling request content from cache!\n",
      "http://www.7723.cn/zuixin/celue_50.htm\n",
      "Pulling request content from cache!\n",
      "http://www.7723.cn/zuixin/celue_51.htm\n"
     ]
    },
    {
     "name": "stderr",
     "output_type": "stream",
     "text": [
      "http://www.7723.cn/zuixin/sheji_6.htm:  87%|████████████████████████████████████████████████████████████████████████████████████████████████████████████████▉                 | 866/997 [00:26<00:03, 34.34it/s]"
     ]
    },
    {
     "name": "stdout",
     "output_type": "stream",
     "text": [
      "Pulling request content from cache!\n",
      "http://www.7723.cn/zuixin/celue_52.htm\n",
      "Pulling request content from cache!\n",
      "http://www.7723.cn/zuixin/sheji_1.htm\n",
      "Pulling request content from cache!\n",
      "http://www.7723.cn/zuixin/sheji_2.htm\n",
      "Pulling request content from cache!\n",
      "http://www.7723.cn/zuixin/sheji_3.htm\n",
      "Pulling request content from cache!\n",
      "http://www.7723.cn/zuixin/sheji_4.htm\n",
      "Pulling request content from cache!\n",
      "http://www.7723.cn/zuixin/sheji_5.htm\n",
      "Pulling request content from cache!\n",
      "http://www.7723.cn/zuixin/sheji_6.htm\n"
     ]
    },
    {
     "name": "stderr",
     "output_type": "stream",
     "text": [
      "http://www.7723.cn/zuixin/sheji_14.htm:  88%|█████████████████████████████████████████████████████████████████████████████████████████████████████████████████                | 874/997 [00:27<00:03, 34.35it/s]"
     ]
    },
    {
     "name": "stdout",
     "output_type": "stream",
     "text": [
      "Pulling request content from cache!\n",
      "http://www.7723.cn/zuixin/sheji_7.htm\n",
      "Pulling request content from cache!\n",
      "http://www.7723.cn/zuixin/sheji_8.htm\n",
      "Pulling request content from cache!\n",
      "http://www.7723.cn/zuixin/sheji_9.htm\n",
      "Pulling request content from cache!\n",
      "http://www.7723.cn/zuixin/sheji_10.htm\n",
      "Pulling request content from cache!\n",
      "http://www.7723.cn/zuixin/sheji_11.htm\n",
      "Pulling request content from cache!\n",
      "http://www.7723.cn/zuixin/sheji_12.htm\n",
      "Pulling request content from cache!\n",
      "http://www.7723.cn/zuixin/sheji_13.htm\n"
     ]
    },
    {
     "name": "stderr",
     "output_type": "stream",
     "text": [
      "http://www.7723.cn/zuixin/sheji_20.htm:  88%|██████████████████████████████████████████████████████████████████████████████████████████████████████████████████               | 882/997 [00:27<00:03, 34.34it/s]"
     ]
    },
    {
     "name": "stdout",
     "output_type": "stream",
     "text": [
      "Pulling request content from cache!\n",
      "http://www.7723.cn/zuixin/sheji_14.htm\n",
      "Pulling request content from cache!\n",
      "http://www.7723.cn/zuixin/sheji_15.htm\n",
      "Pulling request content from cache!\n",
      "http://www.7723.cn/zuixin/sheji_16.htm\n",
      "Pulling request content from cache!\n",
      "http://www.7723.cn/zuixin/sheji_17.htm\n",
      "Pulling request content from cache!\n",
      "http://www.7723.cn/zuixin/sheji_18.htm\n",
      "Pulling request content from cache!\n",
      "http://www.7723.cn/zuixin/sheji_19.htm\n",
      "Pulling request content from cache!\n",
      "http://www.7723.cn/zuixin/sheji_20.htm\n"
     ]
    },
    {
     "name": "stderr",
     "output_type": "stream",
     "text": [
      "http://www.7723.cn/zuixin/sheji_26.htm:  89%|██████████████████████████████████████████████████████████████████████████████████████████████████████████████████▋              | 886/997 [00:27<00:03, 32.89it/s]"
     ]
    },
    {
     "name": "stdout",
     "output_type": "stream",
     "text": [
      "Pulling request content from cache!\n",
      "http://www.7723.cn/zuixin/sheji_21.htm\n",
      "Pulling request content from cache!\n",
      "http://www.7723.cn/zuixin/sheji_22.htm\n",
      "Pulling request content from cache!\n",
      "http://www.7723.cn/zuixin/sheji_23.htm\n",
      "Pulling request content from cache!\n",
      "http://www.7723.cn/zuixin/sheji_24.htm\n",
      "Pulling request content from cache!\n",
      "http://www.7723.cn/zuixin/sheji_25.htm\n",
      "Pulling request content from cache!\n",
      "http://www.7723.cn/zuixin/sheji_26.htm\n"
     ]
    },
    {
     "name": "stderr",
     "output_type": "stream",
     "text": [
      "http://www.7723.cn/zuixin/sheji_33.htm:  90%|███████████████████████████████████████████████████████████████████████████████████████████████████████████████████▋             | 894/997 [00:27<00:03, 31.40it/s]"
     ]
    },
    {
     "name": "stdout",
     "output_type": "stream",
     "text": [
      "Pulling request content from cache!\n",
      "http://www.7723.cn/zuixin/sheji_27.htm\n",
      "Pulling request content from cache!\n",
      "http://www.7723.cn/zuixin/sheji_28.htm\n",
      "Pulling request content from cache!\n",
      "http://www.7723.cn/zuixin/sheji_29.htm\n",
      "Pulling request content from cache!\n",
      "http://www.7723.cn/zuixin/sheji_30.htm\n",
      "Pulling request content from cache!\n",
      "http://www.7723.cn/zuixin/sheji_31.htm\n",
      "Pulling request content from cache!\n",
      "http://www.7723.cn/zuixin/sheji_32.htm\n"
     ]
    },
    {
     "name": "stderr",
     "output_type": "stream",
     "text": [
      "http://www.7723.cn/zuixin/sheji_39.htm:  90%|████████████████████████████████████████████████████████████████████████████████████████████████████████████████████▋            | 902/997 [00:27<00:02, 32.91it/s]"
     ]
    },
    {
     "name": "stdout",
     "output_type": "stream",
     "text": [
      "Pulling request content from cache!\n",
      "http://www.7723.cn/zuixin/sheji_33.htm\n",
      "Pulling request content from cache!\n",
      "http://www.7723.cn/zuixin/sheji_34.htm\n",
      "Pulling request content from cache!\n",
      "http://www.7723.cn/zuixin/sheji_35.htm\n",
      "Pulling request content from cache!\n",
      "http://www.7723.cn/zuixin/sheji_36.htm\n",
      "Pulling request content from cache!\n",
      "http://www.7723.cn/zuixin/sheji_37.htm\n",
      "Pulling request content from cache!\n",
      "http://www.7723.cn/zuixin/sheji_38.htm\n",
      "Pulling request content from cache!\n",
      "http://www.7723.cn/zuixin/sheji_39.htm\n"
     ]
    },
    {
     "name": "stderr",
     "output_type": "stream",
     "text": [
      "http://www.7723.cn/zuixin/sheji_46.htm:  91%|█████████████████████████████████████████████████████████████████████████████████████████████████████████████████████▏           | 906/997 [00:28<00:02, 33.56it/s]"
     ]
    },
    {
     "name": "stdout",
     "output_type": "stream",
     "text": [
      "Pulling request content from cache!\n",
      "http://www.7723.cn/zuixin/sheji_40.htm\n",
      "Pulling request content from cache!\n",
      "http://www.7723.cn/zuixin/sheji_41.htm\n",
      "Pulling request content from cache!\n",
      "http://www.7723.cn/zuixin/sheji_42.htm\n",
      "Pulling request content from cache!\n",
      "http://www.7723.cn/zuixin/sheji_43.htm\n",
      "Pulling request content from cache!\n",
      "http://www.7723.cn/zuixin/sheji_44.htm\n",
      "Pulling request content from cache!\n",
      "http://www.7723.cn/zuixin/sheji_45.htm\n",
      "Pulling request content from cache!\n",
      "http://www.7723.cn/zuixin/sheji_46.htm\n"
     ]
    },
    {
     "name": "stderr",
     "output_type": "stream",
     "text": [
      "http://www.7723.cn/zuixin/sheji_53.htm:  92%|██████████████████████████████████████████████████████████████████████████████████████████████████████████████████████▎          | 914/997 [00:28<00:02, 31.58it/s]"
     ]
    },
    {
     "name": "stdout",
     "output_type": "stream",
     "text": [
      "Pulling request content from cache!\n",
      "http://www.7723.cn/zuixin/sheji_47.htm\n",
      "Pulling request content from cache!\n",
      "http://www.7723.cn/zuixin/sheji_48.htm\n",
      "Pulling request content from cache!\n",
      "http://www.7723.cn/zuixin/sheji_49.htm\n",
      "Pulling request content from cache!\n",
      "http://www.7723.cn/zuixin/sheji_50.htm\n",
      "Pulling request content from cache!\n",
      "http://www.7723.cn/zuixin/sheji_51.htm\n",
      "Pulling request content from cache!\n",
      "http://www.7723.cn/zuixin/sheji_52.htm\n"
     ]
    },
    {
     "name": "stderr",
     "output_type": "stream",
     "text": [
      "http://www.7723.cn/zuixin/sheji_59.htm:  92%|██████████████████████████████████████████████████████████████████████████████████████████████████████████████████████▊          | 918/997 [00:28<00:02, 32.42it/s]"
     ]
    },
    {
     "name": "stdout",
     "output_type": "stream",
     "text": [
      "Pulling request content from cache!\n",
      "http://www.7723.cn/zuixin/sheji_53.htm\n",
      "Pulling request content from cache!\n",
      "http://www.7723.cn/zuixin/sheji_54.htm\n",
      "Pulling request content from cache!\n",
      "http://www.7723.cn/zuixin/sheji_55.htm\n",
      "Pulling request content from cache!\n",
      "http://www.7723.cn/zuixin/sheji_56.htm\n",
      "Pulling request content from cache!\n",
      "http://www.7723.cn/zuixin/sheji_57.htm\n",
      "Pulling request content from cache!\n",
      "http://www.7723.cn/zuixin/sheji_58.htm\n",
      "Pulling request content from cache!\n",
      "http://www.7723.cn/zuixin/sheji_59.htm\n"
     ]
    },
    {
     "name": "stderr",
     "output_type": "stream",
     "text": [
      "http://www.7723.cn/zuixin/sheji_66.htm:  93%|███████████████████████████████████████████████████████████████████████████████████████████████████████████████████████▊         | 926/997 [00:28<00:02, 33.05it/s]"
     ]
    },
    {
     "name": "stdout",
     "output_type": "stream",
     "text": [
      "Pulling request content from cache!\n",
      "http://www.7723.cn/zuixin/sheji_60.htm\n",
      "Pulling request content from cache!\n",
      "http://www.7723.cn/zuixin/sheji_61.htm\n",
      "Pulling request content from cache!\n",
      "http://www.7723.cn/zuixin/sheji_62.htm\n",
      "Pulling request content from cache!\n",
      "http://www.7723.cn/zuixin/sheji_63.htm\n",
      "Pulling request content from cache!\n",
      "http://www.7723.cn/zuixin/sheji_64.htm\n",
      "Pulling request content from cache!\n",
      "http://www.7723.cn/zuixin/sheji_65.htm\n",
      "Pulling request content from cache!\n",
      "http://www.7723.cn/zuixin/sheji_66.htm\n"
     ]
    },
    {
     "name": "stderr",
     "output_type": "stream",
     "text": [
      "http://www.7723.cn/zuixin/moni_2.htm:  94%|██████████████████████████████████████████████████████████████████████████████████████████████████████████████████████████▊        | 935/997 [00:28<00:01, 35.09it/s]"
     ]
    },
    {
     "name": "stdout",
     "output_type": "stream",
     "text": [
      "Pulling request content from cache!\n",
      "http://www.7723.cn/zuixin/sheji_67.htm\n",
      "Pulling request content from cache!\n",
      "http://www.7723.cn/zuixin/sheji_68.htm\n",
      "Pulling request content from cache!\n",
      "http://www.7723.cn/zuixin/sheji_69.htm\n",
      "Pulling request content from cache!\n",
      "http://www.7723.cn/zuixin/sheji_70.htm\n",
      "Pulling request content from cache!\n",
      "http://www.7723.cn/zuixin/sheji_71.htm\n",
      "Pulling request content from cache!\n",
      "http://www.7723.cn/zuixin/moni_1.htm\n",
      "Pulling request content from cache!\n",
      "http://www.7723.cn/zuixin/moni_2.htm\n"
     ]
    },
    {
     "name": "stderr",
     "output_type": "stream",
     "text": [
      "http://www.7723.cn/zuixin/moni_8.htm:  94%|███████████████████████████████████████████████████████████████████████████████████████████████████████████████████████████▍       | 939/997 [00:29<00:01, 34.49it/s]"
     ]
    },
    {
     "name": "stdout",
     "output_type": "stream",
     "text": [
      "Pulling request content from cache!\n",
      "http://www.7723.cn/zuixin/moni_3.htm\n",
      "Pulling request content from cache!\n",
      "http://www.7723.cn/zuixin/moni_4.htm\n",
      "Pulling request content from cache!\n",
      "http://www.7723.cn/zuixin/moni_5.htm\n",
      "Pulling request content from cache!\n",
      "http://www.7723.cn/zuixin/moni_6.htm\n",
      "Pulling request content from cache!\n",
      "http://www.7723.cn/zuixin/moni_7.htm\n",
      "Pulling request content from cache!\n",
      "http://www.7723.cn/zuixin/moni_8.htm\n"
     ]
    },
    {
     "name": "stderr",
     "output_type": "stream",
     "text": [
      "http://www.7723.cn/zuixin/moni_15.htm:  95%|███████████████████████████████████████████████████████████████████████████████████████████████████████████████████████████▍      | 947/997 [00:29<00:01, 31.75it/s]"
     ]
    },
    {
     "name": "stdout",
     "output_type": "stream",
     "text": [
      "Pulling request content from cache!\n",
      "http://www.7723.cn/zuixin/moni_9.htm\n",
      "Pulling request content from cache!\n",
      "http://www.7723.cn/zuixin/moni_10.htm\n",
      "Pulling request content from cache!\n",
      "http://www.7723.cn/zuixin/moni_11.htm\n",
      "Pulling request content from cache!\n",
      "http://www.7723.cn/zuixin/moni_12.htm\n",
      "Pulling request content from cache!\n",
      "http://www.7723.cn/zuixin/moni_13.htm\n",
      "Pulling request content from cache!\n",
      "http://www.7723.cn/zuixin/moni_14.htm\n"
     ]
    },
    {
     "name": "stderr",
     "output_type": "stream",
     "text": [
      "http://www.7723.cn/zuixin/moni_21.htm:  96%|████████████████████████████████████████████████████████████████████████████████████████████████████████████████████████████▌     | 955/997 [00:29<00:01, 33.44it/s]"
     ]
    },
    {
     "name": "stdout",
     "output_type": "stream",
     "text": [
      "Pulling request content from cache!\n",
      "http://www.7723.cn/zuixin/moni_15.htm\n",
      "Pulling request content from cache!\n",
      "http://www.7723.cn/zuixin/moni_16.htm\n",
      "Pulling request content from cache!\n",
      "http://www.7723.cn/zuixin/moni_17.htm\n",
      "Pulling request content from cache!\n",
      "http://www.7723.cn/zuixin/moni_18.htm\n",
      "Pulling request content from cache!\n",
      "http://www.7723.cn/zuixin/moni_19.htm\n",
      "Pulling request content from cache!\n",
      "http://www.7723.cn/zuixin/moni_20.htm\n",
      "Pulling request content from cache!\n",
      "http://www.7723.cn/zuixin/moni_21.htm\n"
     ]
    },
    {
     "name": "stderr",
     "output_type": "stream",
     "text": [
      "http://www.7723.cn/zuixin/moni_29.htm:  96%|█████████████████████████████████████████████████████████████████████████████████████████████████████████████████████████████     | 959/997 [00:29<00:01, 33.69it/s]"
     ]
    },
    {
     "name": "stdout",
     "output_type": "stream",
     "text": [
      "Pulling request content from cache!\n",
      "http://www.7723.cn/zuixin/moni_22.htm\n",
      "Pulling request content from cache!\n",
      "http://www.7723.cn/zuixin/moni_23.htm\n",
      "Pulling request content from cache!\n",
      "http://www.7723.cn/zuixin/moni_24.htm\n",
      "Pulling request content from cache!\n",
      "http://www.7723.cn/zuixin/moni_25.htm\n",
      "Pulling request content from cache!\n",
      "http://www.7723.cn/zuixin/moni_26.htm\n",
      "Pulling request content from cache!\n",
      "http://www.7723.cn/zuixin/moni_27.htm\n",
      "Pulling request content from cache!\n",
      "http://www.7723.cn/zuixin/moni_28.htm\n"
     ]
    },
    {
     "name": "stderr",
     "output_type": "stream",
     "text": [
      "http://www.7723.cn/zuixin/feixing_5.htm:  97%|████████████████████████████████████████████████████████████████████████████████████████████████████████████████████████████▏   | 967/997 [00:29<00:00, 35.37it/s]"
     ]
    },
    {
     "name": "stdout",
     "output_type": "stream",
     "text": [
      "Pulling request content from cache!\n",
      "http://www.7723.cn/zuixin/moni_29.htm\n",
      "Pulling request content from cache!\n",
      "http://www.7723.cn/zuixin/moni_30.htm\n",
      "Pulling request content from cache!\n",
      "http://www.7723.cn/zuixin/moni_31.htm\n",
      "Pulling request content from cache!\n",
      "http://www.7723.cn/zuixin/feixing_1.htm\n",
      "Pulling request content from cache!\n",
      "http://www.7723.cn/zuixin/feixing_2.htm\n",
      "Pulling request content from cache!\n",
      "http://www.7723.cn/zuixin/feixing_3.htm\n",
      "Pulling request content from cache!\n",
      "http://www.7723.cn/zuixin/feixing_4.htm\n"
     ]
    },
    {
     "name": "stderr",
     "output_type": "stream",
     "text": [
      "http://www.7723.cn/zuixin/feixing_10.htm:  98%|████████████████████████████████████████████████████████████████████████████████████████████████████████████████████████████▏  | 975/997 [00:30<00:00, 31.31it/s]"
     ]
    },
    {
     "name": "stdout",
     "output_type": "stream",
     "text": [
      "Pulling request content from cache!\n",
      "http://www.7723.cn/zuixin/feixing_5.htm\n",
      "Pulling request content from cache!\n",
      "http://www.7723.cn/zuixin/feixing_6.htm\n",
      "Pulling request content from cache!\n",
      "http://www.7723.cn/zuixin/feixing_7.htm\n",
      "Pulling request content from cache!\n",
      "http://www.7723.cn/zuixin/feixing_8.htm\n",
      "Pulling request content from cache!\n",
      "http://www.7723.cn/zuixin/feixing_9.htm\n",
      "Pulling request content from cache!\n",
      "http://www.7723.cn/zuixin/feixing_10.htm\n"
     ]
    },
    {
     "name": "stderr",
     "output_type": "stream",
     "text": [
      "http://www.7723.cn/zuixin/feixing_18.htm:  98%|████████████████████████████████████████████████████████████████████████████████████████████████████████████████████████████▋  | 979/997 [00:30<00:00, 32.62it/s]"
     ]
    },
    {
     "name": "stdout",
     "output_type": "stream",
     "text": [
      "Pulling request content from cache!\n",
      "http://www.7723.cn/zuixin/feixing_11.htm\n",
      "Pulling request content from cache!\n",
      "http://www.7723.cn/zuixin/feixing_12.htm\n",
      "Pulling request content from cache!\n",
      "http://www.7723.cn/zuixin/feixing_13.htm\n",
      "Pulling request content from cache!\n",
      "http://www.7723.cn/zuixin/feixing_14.htm\n",
      "Pulling request content from cache!\n",
      "http://www.7723.cn/zuixin/feixing_15.htm\n",
      "Pulling request content from cache!\n",
      "http://www.7723.cn/zuixin/feixing_16.htm\n",
      "Pulling request content from cache!\n",
      "http://www.7723.cn/zuixin/feixing_17.htm\n"
     ]
    },
    {
     "name": "stderr",
     "output_type": "stream",
     "text": [
      "http://www.7723.cn/zuixin/feixing_25.htm:  99%|█████████████████████████████████████████████████████████████████████████████████████████████████████████████████████████████▋ | 987/997 [00:30<00:00, 33.62it/s]"
     ]
    },
    {
     "name": "stdout",
     "output_type": "stream",
     "text": [
      "Pulling request content from cache!\n",
      "http://www.7723.cn/zuixin/feixing_18.htm\n",
      "Pulling request content from cache!\n",
      "http://www.7723.cn/zuixin/feixing_19.htm\n",
      "Pulling request content from cache!\n",
      "http://www.7723.cn/zuixin/feixing_20.htm\n",
      "Pulling request content from cache!\n",
      "http://www.7723.cn/zuixin/feixing_21.htm\n",
      "Pulling request content from cache!\n",
      "http://www.7723.cn/zuixin/feixing_22.htm\n",
      "Pulling request content from cache!\n",
      "http://www.7723.cn/zuixin/feixing_23.htm\n",
      "Pulling request content from cache!\n",
      "http://www.7723.cn/zuixin/feixing_24.htm\n"
     ]
    },
    {
     "name": "stderr",
     "output_type": "stream",
     "text": [
      "http://www.7723.cn/zuixin/wangyou_2.htm: 100%|███████████████████████████████████████████████████████████████████████████████████████████████████████████████████████████████▊| 996/997 [00:30<00:00, 35.65it/s]"
     ]
    },
    {
     "name": "stdout",
     "output_type": "stream",
     "text": [
      "Pulling request content from cache!\n",
      "http://www.7723.cn/zuixin/feixing_25.htm\n",
      "Pulling request content from cache!\n",
      "http://www.7723.cn/zuixin/feixing_26.htm\n",
      "Pulling request content from cache!\n",
      "http://www.7723.cn/zuixin/feixing_27.htm\n",
      "Pulling request content from cache!\n",
      "http://www.7723.cn/zuixin/feixing_28.htm\n",
      "Pulling request content from cache!\n",
      "http://www.7723.cn/zuixin/feixing_29.htm\n",
      "Pulling request content from cache!\n",
      "http://www.7723.cn/zuixin/feixing_30.htm\n",
      "Pulling request content from cache!\n",
      "http://www.7723.cn/zuixin/wangyou_1.htm\n",
      "Pulling request content from cache!\n",
      "http://www.7723.cn/zuixin/wangyou_2.htm\n"
     ]
    },
    {
     "name": "stderr",
     "output_type": "stream",
     "text": [
      "http://www.7723.cn/zuixin/wangyou_2.htm: 100%|████████████████████████████████████████████████████████████████████████████████████████████████████████████████████████████████| 997/997 [00:30<00:00, 32.42it/s]\n"
     ]
    }
   ],
   "source": [
    "game_pages = []\n",
    "\n",
    "pbar = tqdm(game_listing_pages)\n",
    "for url in pbar:\n",
    "    pbar.set_description(url)\n",
    "    \n",
    "    _game_pages = parse_game_listing_page(url, verbose=True)\n",
    "    \n",
    "    if _game_pages is None:\n",
    "        print(f'There is some problem with this page!')\n",
    "        print('->', url)\n",
    "        print('='*32)\n",
    "    else:\n",
    "        game_pages.extend(_game_pages)"
   ]
  },
  {
   "cell_type": "code",
   "execution_count": 7,
   "metadata": {
    "scrolled": true
   },
   "outputs": [
    {
     "data": {
      "text/plain": [
       "(11732, 11732)"
      ]
     },
     "execution_count": 7,
     "metadata": {},
     "output_type": "execute_result"
    }
   ],
   "source": [
    "len(game_pages), len(set(game_pages))"
   ]
  },
  {
   "cell_type": "markdown",
   "metadata": {},
   "source": [
    "cache request response while we are doing other things"
   ]
  },
  {
   "cell_type": "code",
   "execution_count": null,
   "metadata": {
    "scrolled": false
   },
   "outputs": [],
   "source": [
    "# pbar = tqdm(game_pages)\n",
    "# for url in pbar:\n",
    "#     pbar.set_description(url)\n",
    "#     GET(url, verbose=False)"
   ]
  },
  {
   "cell_type": "markdown",
   "metadata": {},
   "source": [
    "# Parse game page for title and download link for multiple versions"
   ]
  },
  {
   "cell_type": "markdown",
   "metadata": {},
   "source": [
    "Sample game page\n",
    "\n",
    "![]()"
   ]
  },
  {
   "cell_type": "code",
   "execution_count": 8,
   "metadata": {},
   "outputs": [],
   "source": [
    "def parse_game_entry_url(url: str, verbose=True):\n",
    "    content, response, error = GET(url, verbose=verbose)\n",
    "    \n",
    "    if content is None:\n",
    "        print('Please check error from global variables!')\n",
    "        return None\n",
    "    \n",
    "    _, content = Encoding.decode(content)\n",
    "    soup = BeautifulSoup(content)\n",
    "    \n",
    "    selector = '#content'\n",
    "    content_div = soup.select_one(selector)\n",
    "    if content_div is None:\n",
    "        print(f'Format for this page is not compatible! There is no element matches {selector}!')\n",
    "        print('->', url)\n",
    "        return None\n",
    "    \n",
    "    # retrieve game title\n",
    "    title = None\n",
    "    selector = '.title'\n",
    "    title_div = content_div.select_one(selector)\n",
    "    if title_div is None:\n",
    "        print(f'Cannot find title! There is no element matches {selector}!')\n",
    "        print('->', url)\n",
    "    else:\n",
    "        selector = 'h3'\n",
    "        title_heading = title_div.select_one(selector)\n",
    "        if title_heading is None:\n",
    "            print(f'Cannot find title! There is no element matches {selector}!')\n",
    "            print('->', url)\n",
    "        else:\n",
    "            title = title_heading.text\n",
    "    \n",
    "    selector = 'ul.container'\n",
    "    ul_containers = content_div.select('ul.container')\n",
    "    if not (len(ul_containers) == 3):\n",
    "        print(f'Format for this page is not compatible! Number of elements match {selector} is not supported!')\n",
    "        print('->', url)\n",
    "        return None\n",
    "\n",
    "    # retrieve game banner\n",
    "    banner_url = None\n",
    "    selector = 'img'\n",
    "    banner_img = ul_containers[0].select_one(selector)\n",
    "    if banner_img is None:\n",
    "        print(f'Failed to get game banner with selector {selector}!')\n",
    "        print('->', url)\n",
    "    else:\n",
    "        if 'src' in banner_img.attrs:\n",
    "            banner_url = banner_img.attrs['src']\n",
    "        else:\n",
    "            print(f'Failed to get game banner. The img element does not contain src attribute!')\n",
    "            print('->', url)\n",
    "    \n",
    "    # retrieve sample gameplay images\n",
    "    sample_gameplay_image_urls = [imgE.attrs['src'] for imgE in ul_containers[1].select('img')]\n",
    "    \n",
    "    # retrieve game binaries for multiple phone models\n",
    "    versions = []\n",
    "    li_containers = ul_containers[2].select('li')\n",
    "    versions = []\n",
    "    for li_container in li_containers:\n",
    "        selector = 'a'\n",
    "        anchor_element = li_container.select_one(selector)\n",
    "        if anchor_element is None:\n",
    "            print(f'Failed to select anchor with {selector}!')\n",
    "            print('->', url)\n",
    "            print('->', li_container)\n",
    "            continue\n",
    "        \n",
    "        if not 'href' in anchor_element.attrs:\n",
    "            print(f'Failed to retrieve download url. Element does not have href attribute.')\n",
    "            print('->', url)\n",
    "            print(anchor_element)\n",
    "            continue\n",
    "            \n",
    "        # send a post request to download the game\n",
    "        version_url  = anchor_element.attrs['href']\n",
    "        \n",
    "        version_resolution = None\n",
    "        version_model = None\n",
    "        version_desc = None\n",
    "        \n",
    "        selector = 'p'\n",
    "        version_desc_el = li_container.select_one(selector)\n",
    "        if version_desc_el is None:\n",
    "            print(f'Failed to retrieve game version description with {selector} selector!')\n",
    "            print('->', url)\n",
    "        else:\n",
    "            version_desc = version_desc_el.text\n",
    "            resolution_sr = re.search(r'\\((\\d+)×(\\d+)\\)', version_desc)\n",
    "            \n",
    "            if resolution_sr is None:\n",
    "                print(f'Failed to search for this game version screen resolution in description!')\n",
    "                print('->', url)\n",
    "                print('->', version_desc)\n",
    "            else:\n",
    "                version_resolution = version_desc[resolution_sr.start():resolution_sr.end()]\n",
    "                version_resolution = version_resolution.replace('×', 'x')\n",
    "                version_resolution = re.sub(r'[\\(\\)]+', '', version_resolution)\n",
    "                \n",
    "                model_sr = re.search(r'[\\x00-\\x7F]+', version_desc[:resolution_sr.start()])\n",
    "                \n",
    "                if model_sr is None:\n",
    "                    if '触摸屏通用版' in version_desc:\n",
    "                        # universal touch screen phone models\n",
    "                        version_model = 'touch'\n",
    "                    elif '屏通用版' in version_desc:\n",
    "                        # universal phone models\n",
    "                        version_model = 'universal'\n",
    "                    else:\n",
    "                        print(f'Failed to search for supported model in description!')\n",
    "                        print('->', url)\n",
    "                        print('->', version_desc)\n",
    "                else:\n",
    "                    version_model = version_desc[model_sr.start():model_sr.end()]\n",
    "                    version_model = version_model.replace(' ', '')\n",
    "\n",
    "        versions.append(GameVersion(\n",
    "            url=version_url,\n",
    "            resolution=version_resolution,\n",
    "            model=version_model,\n",
    "            description=version_desc,\n",
    "        ))\n",
    "    \n",
    "    return GameEntry(\n",
    "        url=url,\n",
    "        title=title,\n",
    "        banner_url=banner_url,\n",
    "        sample_gameplay_image_urls=sample_gameplay_image_urls,\n",
    "        versions=versions,\n",
    "    )"
   ]
  },
  {
   "cell_type": "code",
   "execution_count": null,
   "metadata": {
    "scrolled": false
   },
   "outputs": [],
   "source": [
    "game_entries = []\n",
    "pbar = tqdm(game_pages)\n",
    "for url in pbar:\n",
    "    pbar.set_description(f'Parsing {url}')\n",
    "    \n",
    "    game_entry = parse_game_entry_url(url, verbose=False)\n",
    "    \n",
    "    if game_entry is None:\n",
    "        continue\n",
    "    \n",
    "    game_entries.append(game_entry)"
   ]
  },
  {
   "cell_type": "code",
   "execution_count": 10,
   "metadata": {},
   "outputs": [
    {
     "data": {
      "text/plain": [
       "bytes"
      ]
     },
     "execution_count": 10,
     "metadata": {},
     "output_type": "execute_result"
    }
   ],
   "source": [
    "serialized_game_entries = pickle.dumps(game_entries)\n",
    "type(serialized_game_entries)"
   ]
  },
  {
   "cell_type": "code",
   "execution_count": 10,
   "metadata": {},
   "outputs": [],
   "source": [
    "filename = 'game_entries.pickle'\n",
    "# with open(filename, mode='wb') as stream:\n",
    "#     stream.write(serialized_game_entries)\n",
    "\n",
    "game_entries = pickle.loads(open(filename, mode='rb').read())"
   ]
  },
  {
   "cell_type": "code",
   "execution_count": 11,
   "metadata": {},
   "outputs": [
    {
     "name": "stderr",
     "output_type": "stream",
     "text": [
      "100%|█████████████████████████████████████████████████████████████████████████████████████████████████████████████████████████████████████████████████████████████████| 11732/11732 [00:00<00:00, 309571.16it/s]\n"
     ]
    }
   ],
   "source": [
    "pbar = tqdm(game_entries)\n",
    "\n",
    "url_list = []\n",
    "\n",
    "for game_entry in pbar:\n",
    "    if game_entry.banner_url is not None:\n",
    "        url_list.append(game_entry.banner_url)\n",
    "#         pbar.set_description(f'{game_entry.url} - {game_entry.banner_url}')\n",
    "#         GET(game_entry.banner_url, verbose=False)\n",
    "\n",
    "    for img_url in game_entry.sample_gameplay_image_urls:\n",
    "        url_list.append(img_url)\n",
    "#         pbar.set_description(f'{game_entry.url} - {img_url}')\n",
    "#         GET(img_url, verbose=False)\n",
    "    \n",
    "    for game_version in game_entry.versions:\n",
    "        url_list.append(game_version.url)\n",
    "#         pbar.set_description(f'{game_entry.url} - {game_version.url}')\n",
    "#         POST(game_version.url, verbose=False)"
   ]
  },
  {
   "cell_type": "code",
   "execution_count": 12,
   "metadata": {},
   "outputs": [
    {
     "data": {
      "text/plain": [
       "182557"
      ]
     },
     "execution_count": 12,
     "metadata": {},
     "output_type": "execute_result"
    }
   ],
   "source": [
    "len(url_list)"
   ]
  },
  {
   "cell_type": "code",
   "execution_count": 15,
   "metadata": {},
   "outputs": [
    {
     "data": {
      "text/plain": [
       "182365"
      ]
     },
     "execution_count": 15,
     "metadata": {},
     "output_type": "execute_result"
    }
   ],
   "source": [
    "url_set = set(url_list)\n",
    "len(url_set)"
   ]
  },
  {
   "cell_type": "code",
   "execution_count": 13,
   "metadata": {},
   "outputs": [
    {
     "data": {
      "text/plain": [
       "182557"
      ]
     },
     "execution_count": 13,
     "metadata": {},
     "output_type": "execute_result"
    }
   ],
   "source": [
    "url_hashes_list = [hash_url(url) for url in url_list]\n",
    "len(url_hashes_list)"
   ]
  },
  {
   "cell_type": "code",
   "execution_count": 14,
   "metadata": {},
   "outputs": [
    {
     "data": {
      "text/plain": [
       "182365"
      ]
     },
     "execution_count": 14,
     "metadata": {},
     "output_type": "execute_result"
    }
   ],
   "source": [
    "url_hashes_set = set(url_hashes_list)\n",
    "len(url_hashes_set)"
   ]
  },
  {
   "cell_type": "code",
   "execution_count": 17,
   "metadata": {},
   "outputs": [
    {
     "data": {
      "text/plain": [
       "182365"
      ]
     },
     "execution_count": 17,
     "metadata": {},
     "output_type": "execute_result"
    }
   ],
   "source": [
    "url_list = list(url_set)\n",
    "len(url_list)"
   ]
  },
  {
   "cell_type": "code",
   "execution_count": 24,
   "metadata": {},
   "outputs": [
    {
     "name": "stderr",
     "output_type": "stream",
     "text": [
      "100%|████████████████████████████████████████████████████████████████████████████████████████████████████████████████████████████████████████████████████████████████| 182365/182365 [00:14<00:00, 12867.25it/s]\n"
     ]
    },
    {
     "data": {
      "text/plain": [
       "0"
      ]
     },
     "execution_count": 24,
     "metadata": {},
     "output_type": "execute_result"
    }
   ],
   "source": [
    "pbar = tqdm(url_list)\n",
    "\n",
    "not_cached_url_list = []\n",
    "for url in pbar:\n",
    "    url_hash = hash_url(url)\n",
    "    cache_file, sub_cache_dir = get_hash_file_location(url_hash)\n",
    "    \n",
    "    if not os.path.exists(cache_file):\n",
    "        not_cached_url_list.append(url)\n",
    "\n",
    "len(not_cached_url_list)"
   ]
  },
  {
   "cell_type": "code",
   "execution_count": 19,
   "metadata": {},
   "outputs": [
    {
     "data": {
      "text/plain": [
       "['http://www.7723.cn/downb.asp?idd=4&id=5004&ksp=1',\n",
       " 'http://www.7723.cn/downb.asp?idd=7&id=5348&ksp=1',\n",
       " 'http://www.7723.cn/downb.asp?idd=4&id=2883&ksp=2',\n",
       " 'http://www.7723.cn/downb.asp?idd=11&id=1303&ksp=9',\n",
       " 'http://www.7723.cn/downb.asp?idd=4&id=2883&ksp=3',\n",
       " 'http://www.7723.cn/downb.asp?idd=6&id=5629&ksp=1',\n",
       " 'http://www.7723.cn/downb.asp?idd=13&id=5333&ksp=1']"
      ]
     },
     "execution_count": 19,
     "metadata": {},
     "output_type": "execute_result"
    }
   ],
   "source": [
    "not_cached_url_list"
   ]
  },
  {
   "cell_type": "code",
   "execution_count": 23,
   "metadata": {},
   "outputs": [],
   "source": [
    "# All if these urls are unreachable\n",
    "# for url in not_cached_url_list:\n",
    "#     url_hash = hash_url(url)\n",
    "#     cache_file, sub_cache_dir = get_hash_file_location(url_hash)\n",
    "    \n",
    "#     open(cache_file, mode='wb').close()\n",
    "#     print(os.path.exists(cache_file), cache_file)"
   ]
  },
  {
   "cell_type": "code",
   "execution_count": 21,
   "metadata": {},
   "outputs": [
    {
     "data": {
      "text/plain": [
       "50"
      ]
     },
     "execution_count": 21,
     "metadata": {},
     "output_type": "execute_result"
    }
   ],
   "source": [
    "# split the url list into multiple list for using with other program to request them\n",
    "import numpy as np\n",
    "\n",
    "num_parts = 50\n",
    "sub_url_lists = np.array_split(np.array(url_list), num_parts)\n",
    "len(sub_url_lists)"
   ]
  },
  {
   "cell_type": "code",
   "execution_count": 25,
   "metadata": {
    "scrolled": true
   },
   "outputs": [
    {
     "name": "stdout",
     "output_type": "stream",
     "text": [
      "0 3652\n",
      "url_list_part_00\n",
      "1 3652\n",
      "url_list_part_01\n",
      "2 3652\n",
      "url_list_part_02\n",
      "3 3652\n",
      "url_list_part_03\n",
      "4 3652\n",
      "url_list_part_04\n",
      "5 3652\n",
      "url_list_part_05\n",
      "6 3652\n",
      "url_list_part_06\n",
      "7 3651\n",
      "url_list_part_07\n",
      "8 3651\n",
      "url_list_part_08\n",
      "9 3651\n",
      "url_list_part_09\n",
      "10 3651\n",
      "url_list_part_10\n",
      "11 3651\n",
      "url_list_part_11\n",
      "12 3651\n",
      "url_list_part_12\n",
      "13 3651\n",
      "url_list_part_13\n",
      "14 3651\n",
      "url_list_part_14\n",
      "15 3651\n",
      "url_list_part_15\n",
      "16 3651\n",
      "url_list_part_16\n",
      "17 3651\n",
      "url_list_part_17\n",
      "18 3651\n",
      "url_list_part_18\n",
      "19 3651\n",
      "url_list_part_19\n",
      "20 3651\n",
      "url_list_part_20\n",
      "21 3651\n",
      "url_list_part_21\n",
      "22 3651\n",
      "url_list_part_22\n",
      "23 3651\n",
      "url_list_part_23\n",
      "24 3651\n",
      "url_list_part_24\n",
      "25 3651\n",
      "url_list_part_25\n",
      "26 3651\n",
      "url_list_part_26\n",
      "27 3651\n",
      "url_list_part_27\n",
      "28 3651\n",
      "url_list_part_28\n",
      "29 3651\n",
      "url_list_part_29\n",
      "30 3651\n",
      "url_list_part_30\n",
      "31 3651\n",
      "url_list_part_31\n",
      "32 3651\n",
      "url_list_part_32\n",
      "33 3651\n",
      "url_list_part_33\n",
      "34 3651\n",
      "url_list_part_34\n",
      "35 3651\n",
      "url_list_part_35\n",
      "36 3651\n",
      "url_list_part_36\n",
      "37 3651\n",
      "url_list_part_37\n",
      "38 3651\n",
      "url_list_part_38\n",
      "39 3651\n",
      "url_list_part_39\n",
      "40 3651\n",
      "url_list_part_40\n",
      "41 3651\n",
      "url_list_part_41\n",
      "42 3651\n",
      "url_list_part_42\n",
      "43 3651\n",
      "url_list_part_43\n",
      "44 3651\n",
      "url_list_part_44\n",
      "45 3651\n",
      "url_list_part_45\n",
      "46 3651\n",
      "url_list_part_46\n",
      "47 3651\n",
      "url_list_part_47\n",
      "48 3651\n",
      "url_list_part_48\n",
      "49 3651\n",
      "url_list_part_49\n"
     ]
    }
   ],
   "source": [
    "basename = 'url_list_part_'\n",
    "\n",
    "for i in range(num_parts):\n",
    "    print(i, len(sub_url_lists[i]))\n",
    "    \n",
    "    filename = basename + repr(i).zfill(len(repr(num_parts)))\n",
    "    print(filename)\n",
    "    \n",
    "    with open(filename, mode='w', encoding='utf-8') as stream:\n",
    "        json.dump(sub_url_lists[i].tolist(), stream, indent=2)"
   ]
  },
  {
   "cell_type": "code",
   "execution_count": null,
   "metadata": {
    "scrolled": true
   },
   "outputs": [],
   "source": [
    "# CAUTION: this code might take a few days to complete\n",
    "# pbar = tqdm(url_list)\n",
    "\n",
    "# for url in pbar:\n",
    "#     pbar.set_description(url)\n",
    "#     GET(url, verbose=False)"
   ]
  },
  {
   "cell_type": "code",
   "execution_count": null,
   "metadata": {},
   "outputs": [],
   "source": [
    "sample_game_urls = [\n",
    "    'http://www.7723.cn/download/10172.htm', # 战姬无双-花缭乱\n",
    "    'http://www.7723.cn/download/8077.htm', # 苍穹默示录完美运行版\n",
    "    'http://www.7723.cn/download/10420.htm', # 苍弓默示录－吞噬时空    \n",
    "]"
   ]
  },
  {
   "cell_type": "code",
   "execution_count": null,
   "metadata": {},
   "outputs": [],
   "source": [
    "entry_url = 'http://www.7723.cn/download/8077.htm'\n",
    "entry = parse_game_entry_url(entry_url)\n",
    "entry"
   ]
  }
 ],
 "metadata": {
  "kernelspec": {
   "display_name": "Python 3",
   "language": "python",
   "name": "python3"
  },
  "language_info": {
   "codemirror_mode": {
    "name": "ipython",
    "version": 3
   },
   "file_extension": ".py",
   "mimetype": "text/x-python",
   "name": "python",
   "nbconvert_exporter": "python",
   "pygments_lexer": "ipython3",
   "version": "3.7.6"
  }
 },
 "nbformat": 4,
 "nbformat_minor": 4
}
