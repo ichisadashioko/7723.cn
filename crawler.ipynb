{
 "cells": [
  {
   "cell_type": "code",
   "execution_count": 1,
   "metadata": {},
   "outputs": [],
   "source": [
    "import time\n",
    "import re\n",
    "import os\n",
    "import json\n",
    "from urllib.parse import urlparse, urlunparse, urljoin\n",
    "from pprint import pprint\n",
    "import pickle\n",
    "\n",
    "# external modules\n",
    "from tqdm import tqdm\n",
    "import requests\n",
    "from bs4 import BeautifulSoup\n",
    "\n",
    "# local modules\n",
    "from shared import *"
   ]
  },
  {
   "cell_type": "markdown",
   "metadata": {},
   "source": [
    "# Crawl all the entry urls from multiple pages from a game genre page."
   ]
  },
  {
   "cell_type": "markdown",
   "metadata": {},
   "source": [
    "We find the `last page` button to parse the number of page for that game genre.\n",
    "\n",
    "![](./docs/images/7723.cn-game-listing-last-page.png)"
   ]
  },
  {
   "cell_type": "code",
   "execution_count": 2,
   "metadata": {},
   "outputs": [],
   "source": [
    "def get_all_genre_urls(url: str):\n",
    "    content = GET(url)\n",
    "    \n",
    "    if content is None:\n",
    "        return None\n",
    "    \n",
    "    _, content = Encoding.decode(content)\n",
    "    soup = BeautifulSoup(content)\n",
    "    selector = '.pagenation'\n",
    "    page_container = soup.select_one(selector)\n",
    "    \n",
    "    if page_container is None:\n",
    "        print(f'Failed to select {selector} for getting pages container!')\n",
    "        print('->', url)\n",
    "        return None\n",
    "    \n",
    "    selector = 'a'\n",
    "    els = page_container.select(selector)\n",
    "    \n",
    "    if len(els) == 0:\n",
    "        print(f'Failed to select {selector} for page navigation anchors!')\n",
    "        print('->', url)\n",
    "        return None\n",
    "    \n",
    "    last_page_anchor = els[-1]\n",
    "    if not 'href' in last_page_anchor.attrs:\n",
    "        print(f'The last anchor element does not have href attribute!')\n",
    "        print('->', url)\n",
    "        return None\n",
    "\n",
    "    last_page_url = last_page_anchor.attrs['href']\n",
    "    genre_base, last_page_doc_name = os.path.split(last_page_url)\n",
    "    \n",
    "    num_sr = re.search(r'\\d+', last_page_doc_name)\n",
    "    if num_sr is None:\n",
    "        print(f'Failed to find number of pages!')\n",
    "        print('->', url)\n",
    "        return None\n",
    "    \n",
    "    num_text = last_page_doc_name[num_sr.start():num_sr.end()]\n",
    "    num_pages = int(num_text)\n",
    "    \n",
    "    genre_page_urls = []\n",
    "\n",
    "    for i in range(num_pages):\n",
    "        page_url = f'{genre_base}/{last_page_doc_name[:num_sr.start()]}{i+1}{last_page_doc_name[num_sr.end():]}'\n",
    "        genre_page_urls.append(page_url)\n",
    "\n",
    "    return genre_page_urls"
   ]
  },
  {
   "cell_type": "markdown",
   "metadata": {},
   "source": [
    "![](./docs/images/7723.cn-symbian-hp.png)"
   ]
  },
  {
   "cell_type": "code",
   "execution_count": 3,
   "metadata": {},
   "outputs": [],
   "source": [
    "genre_first_page_urls = [\n",
    "    'http://www.7723.cn/zuixin/jiaose_1.htm', # 角色扮演 # RPG\n",
    "    'http://www.7723.cn/zuixin/yizhi_1.htm', # 益智游戏 # Puzzle games\n",
    "    'http://www.7723.cn/zuixin/dongzuo_1.htm', # 动作游戏 # Action games\n",
    "    'http://www.7723.cn/zuixin/saiche_1.htm', # 赛车游戏 # Racing games\n",
    "    'http://www.7723.cn/zuixin/maoxian_1.htm', # 冒险游戏 # Adventure games\n",
    "    'http://www.7723.cn/zuixin/yangcheng_1.htm', # 养成游戏 # Dating sim?\n",
    "    'http://www.7723.cn/zuixin/tiyu_1.htm', # 体育游戏 # Sports games\n",
    "    'http://www.7723.cn/zuixin/gedou_1.htm', # 格斗游戏 # Fighting games\n",
    "    'http://www.7723.cn/zuixin/qipai_1.htm', # 棋牌游戏 # Board games\n",
    "    'http://www.7723.cn/zuixin/celue_1.htm', # 策略游戏 # Strategy games\n",
    "    'http://www.7723.cn/zuixin/sheji_1.htm', # 射击游戏 # Shooting games\n",
    "    'http://www.7723.cn/zuixin/moni_1.htm', # 模拟经营 # Simulation (city building, shop management, etc.)\n",
    "    'http://www.7723.cn/zuixin/feixing_1.htm', # 飞行游戏 # Flying (e.g. space ship) games\n",
    "    'http://www.7723.cn/zuixin/wangyou_1.htm', # 手机网游 # online games\n",
    "]"
   ]
  },
  {
   "cell_type": "code",
   "execution_count": 4,
   "metadata": {
    "scrolled": true
   },
   "outputs": [
    {
     "name": "stdout",
     "output_type": "stream",
     "text": [
      "Pulling request content from cache!\n",
      "http://www.7723.cn/zuixin/jiaose_1.htm\n",
      "181 http://www.7723.cn/zuixin/jiaose_1.htm\n",
      "Pulling request content from cache!\n",
      "http://www.7723.cn/zuixin/yizhi_1.htm\n",
      "206 http://www.7723.cn/zuixin/yizhi_1.htm\n",
      "Pulling request content from cache!\n",
      "http://www.7723.cn/zuixin/dongzuo_1.htm\n",
      "169 http://www.7723.cn/zuixin/dongzuo_1.htm\n",
      "Pulling request content from cache!\n",
      "http://www.7723.cn/zuixin/saiche_1.htm\n",
      "42 http://www.7723.cn/zuixin/saiche_1.htm\n",
      "Pulling request content from cache!\n",
      "http://www.7723.cn/zuixin/maoxian_1.htm\n",
      "58 http://www.7723.cn/zuixin/maoxian_1.htm\n",
      "Pulling request content from cache!\n",
      "http://www.7723.cn/zuixin/yangcheng_1.htm\n",
      "21 http://www.7723.cn/zuixin/yangcheng_1.htm\n",
      "Pulling request content from cache!\n",
      "http://www.7723.cn/zuixin/tiyu_1.htm\n",
      "52 http://www.7723.cn/zuixin/tiyu_1.htm\n",
      "Pulling request content from cache!\n",
      "http://www.7723.cn/zuixin/gedou_1.htm\n",
      "27 http://www.7723.cn/zuixin/gedou_1.htm\n",
      "Pulling request content from cache!\n",
      "http://www.7723.cn/zuixin/qipai_1.htm\n",
      "55 http://www.7723.cn/zuixin/qipai_1.htm\n",
      "Pulling request content from cache!\n",
      "http://www.7723.cn/zuixin/celue_1.htm\n",
      "52 http://www.7723.cn/zuixin/celue_1.htm\n",
      "Pulling request content from cache!\n",
      "http://www.7723.cn/zuixin/sheji_1.htm\n",
      "71 http://www.7723.cn/zuixin/sheji_1.htm\n",
      "Pulling request content from cache!\n",
      "http://www.7723.cn/zuixin/moni_1.htm\n",
      "31 http://www.7723.cn/zuixin/moni_1.htm\n",
      "Pulling request content from cache!\n",
      "http://www.7723.cn/zuixin/feixing_1.htm\n",
      "30 http://www.7723.cn/zuixin/feixing_1.htm\n",
      "Pulling request content from cache!\n",
      "http://www.7723.cn/zuixin/wangyou_1.htm\n",
      "2 http://www.7723.cn/zuixin/wangyou_1.htm\n"
     ]
    },
    {
     "data": {
      "text/plain": [
       "(997, 997)"
      ]
     },
     "execution_count": 4,
     "metadata": {},
     "output_type": "execute_result"
    }
   ],
   "source": [
    "game_listing_pages = []\n",
    "\n",
    "for first_page_url in genre_first_page_urls:\n",
    "    genre_page_urls = get_all_genre_urls(first_page_url)\n",
    "    \n",
    "    if genre_page_urls is None:\n",
    "        continue\n",
    "\n",
    "    print(len(genre_page_urls), first_page_url)\n",
    "    \n",
    "    game_listing_pages.extend(genre_page_urls)\n",
    "\n",
    "len(game_listing_pages), len(set(game_listing_pages))"
   ]
  },
  {
   "cell_type": "markdown",
   "metadata": {},
   "source": [
    "request and cache response for these pages"
   ]
  },
  {
   "cell_type": "code",
   "execution_count": null,
   "metadata": {},
   "outputs": [],
   "source": [
    "# pbar = tqdm(game_listing_pages)\n",
    "# for page_url in pbar:\n",
    "#     pbar.set_description(page_url)\n",
    "#     GET(page_url, verbose=False)"
   ]
  },
  {
   "cell_type": "markdown",
   "metadata": {},
   "source": [
    "# Parse game listing page for game page url"
   ]
  },
  {
   "cell_type": "markdown",
   "metadata": {},
   "source": [
    "Here is the sample of game listing page.\n",
    "\n",
    "![](./docs/images/7723.cn-game-listing-page.png)"
   ]
  },
  {
   "cell_type": "code",
   "execution_count": 5,
   "metadata": {},
   "outputs": [],
   "source": [
    "def parse_game_listing_page(url: str, verbose=True):\n",
    "    content = GET(url, verbose=verbose)\n",
    "    if content is None:\n",
    "        return None\n",
    "    \n",
    "    _, content = Encoding.decode(content)\n",
    "    soup = BeautifulSoup(content)\n",
    "    \n",
    "    selector = '#content'\n",
    "    content_div = soup.select_one(selector)\n",
    "    if content_div is None:\n",
    "        print(f'Failed to get content container with selector {selector}')\n",
    "        print('->', url)\n",
    "        return None\n",
    "    \n",
    "    selector = 'ul.container'\n",
    "    ul_container = content_div.select_one(selector)\n",
    "    if ul_container is None:\n",
    "        print(f'Failed to get game list container with selector {selector}')\n",
    "        print('->', url)\n",
    "        return None\n",
    "    \n",
    "    game_pages = []\n",
    "\n",
    "    els = ul_container.find_all('li', recursive=False)\n",
    "    els.extend(ul_container.select('dd>li'))\n",
    "\n",
    "    for el in els:\n",
    "        selector = 'a'\n",
    "        anchor = el.select_one(selector)\n",
    "        if anchor is None:\n",
    "            print(f'This game entry does not have an a element!')\n",
    "            print('->', el)\n",
    "            print('->', url)\n",
    "            continue\n",
    "            \n",
    "        if 'href' in anchor.attrs:\n",
    "            game_page_url = anchor.attrs['href']\n",
    "            game_pages.append(game_page_url)\n",
    "    \n",
    "    return game_pages"
   ]
  },
  {
   "cell_type": "code",
   "execution_count": 6,
   "metadata": {},
   "outputs": [
    {
     "name": "stderr",
     "output_type": "stream",
     "text": [
      "http://www.7723.cn/zuixin/wangyou_2.htm: 100%|████████████████████████████████████| 997/997 [01:15<00:00, 13.18it/s]\n"
     ]
    }
   ],
   "source": [
    "game_pages = []\n",
    "\n",
    "pbar = tqdm(game_listing_pages)\n",
    "for url in pbar:\n",
    "    pbar.set_description(url)\n",
    "    \n",
    "    _game_pages = parse_game_listing_page(url, verbose=False)\n",
    "    \n",
    "    if _game_pages is None:\n",
    "        print(f'There is some problem with this page!')\n",
    "        print('->', url)\n",
    "    else:\n",
    "        game_pages.extend(_game_pages)"
   ]
  },
  {
   "cell_type": "code",
   "execution_count": 7,
   "metadata": {
    "scrolled": true
   },
   "outputs": [
    {
     "data": {
      "text/plain": [
       "(11732, 11732)"
      ]
     },
     "execution_count": 7,
     "metadata": {},
     "output_type": "execute_result"
    }
   ],
   "source": [
    "len(game_pages), len(set(game_pages))"
   ]
  },
  {
   "cell_type": "markdown",
   "metadata": {},
   "source": [
    "cache request response while we are doing other things"
   ]
  },
  {
   "cell_type": "code",
   "execution_count": null,
   "metadata": {
    "scrolled": false
   },
   "outputs": [],
   "source": [
    "# pbar = tqdm(game_pages)\n",
    "# for url in pbar:\n",
    "#     pbar.set_description(url)\n",
    "#     GET(url, verbose=False)"
   ]
  },
  {
   "cell_type": "markdown",
   "metadata": {},
   "source": [
    "# Parse game page for title and download link for multiple versions"
   ]
  },
  {
   "cell_type": "markdown",
   "metadata": {},
   "source": [
    "Sample game page\n",
    "\n",
    "![]()"
   ]
  },
  {
   "cell_type": "code",
   "execution_count": 8,
   "metadata": {},
   "outputs": [],
   "source": [
    "def parse_game_entry_url(url: str, verbose=True):\n",
    "    content = GET(url, verbose=verbose)\n",
    "    \n",
    "    if content is None:\n",
    "        print('Please check error from global variables!')\n",
    "        return None\n",
    "    \n",
    "    _, content = Encoding.decode(content)\n",
    "    soup = BeautifulSoup(content)\n",
    "    \n",
    "    selector = '#content'\n",
    "    content_div = soup.select_one(selector)\n",
    "    if content_div is None:\n",
    "        print(f'Format for this page is not compatible! There is no element matches {selector}!')\n",
    "        print('->', url)\n",
    "        return None\n",
    "    \n",
    "    # retrieve game title\n",
    "    title = None\n",
    "    selector = '.title'\n",
    "    title_div = content_div.select_one(selector)\n",
    "    if title_div is None:\n",
    "        print(f'Cannot find title! There is no element matches {selector}!')\n",
    "        print('->', url)\n",
    "    else:\n",
    "        selector = 'h3'\n",
    "        title_heading = title_div.select_one(selector)\n",
    "        if title_heading is None:\n",
    "            print(f'Cannot find title! There is no element matches {selector}!')\n",
    "            print('->', url)\n",
    "        else:\n",
    "            title = title_heading.text\n",
    "    \n",
    "    selector = 'ul.container'\n",
    "    ul_containers = content_div.select('ul.container')\n",
    "    if not (len(ul_containers) == 3):\n",
    "        print(f'Format for this page is not compatible! Number of elements match {selector} is not supported!')\n",
    "        print('->', url)\n",
    "        return None\n",
    "\n",
    "    # retrieve game banner\n",
    "    banner_url = None\n",
    "    selector = 'img'\n",
    "    banner_img = ul_containers[0].select_one(selector)\n",
    "    if banner_img is None:\n",
    "        print(f'Failed to get game banner with selector {selector}!')\n",
    "        print('->', url)\n",
    "    else:\n",
    "        if 'src' in banner_img.attrs:\n",
    "            banner_url = banner_img.attrs['src']\n",
    "        else:\n",
    "            print(f'Failed to get game banner. The img element does not contain src attribute!')\n",
    "            print('->', url)\n",
    "    \n",
    "    # retrieve sample gameplay images\n",
    "    sample_gameplay_image_urls = [imgE.attrs['src'] for imgE in ul_containers[1].select('img')]\n",
    "    \n",
    "    # retrieve game binaries for multiple phone models\n",
    "    versions = []\n",
    "    li_containers = ul_containers[2].select('li')\n",
    "    versions = []\n",
    "    for li_container in li_containers:\n",
    "        selector = 'a'\n",
    "        anchor_element = li_container.select_one(selector)\n",
    "        if anchor_element is None:\n",
    "            print(f'Failed to select anchor with {selector}!')\n",
    "            print('->', url)\n",
    "            print('->', li_container)\n",
    "            continue\n",
    "        \n",
    "        if not 'href' in anchor_element.attrs:\n",
    "            print(f'Failed to retrieve download url. Element does not have href attribute.')\n",
    "            print('->', url)\n",
    "            print(anchor_element)\n",
    "            continue\n",
    "            \n",
    "        # send a post request to download the game\n",
    "        version_url  = anchor_element.attrs['href']\n",
    "        \n",
    "        version_resolution = None\n",
    "        version_model = None\n",
    "        version_desc = None\n",
    "        \n",
    "        selector = 'p'\n",
    "        version_desc_el = li_container.select_one(selector)\n",
    "        if version_desc_el is None:\n",
    "            print(f'Failed to retrieve game version description with {selector} selector!')\n",
    "            print('->', url)\n",
    "        else:\n",
    "            version_desc = version_desc_el.text\n",
    "            resolution_sr = re.search(r'\\((\\d+)×(\\d+)\\)', version_desc)\n",
    "            \n",
    "            if resolution_sr is None:\n",
    "                print(f'Failed to search for this game version screen resolution in description!')\n",
    "                print('->', url)\n",
    "                print('->', version_desc)\n",
    "            else:\n",
    "                version_resolution = version_desc[resolution_sr.start():resolution_sr.end()]\n",
    "                version_resolution = version_resolution.replace('×', 'x')\n",
    "                version_resolution = re.sub(r'[\\(\\)]+', '', version_resolution)\n",
    "                \n",
    "                model_sr = re.search(r'[\\x00-\\x7F]+', version_desc[:resolution_sr.start()])\n",
    "                \n",
    "                if model_sr is None:\n",
    "                    if '触摸屏通用版' in version_desc:\n",
    "                        # universal touch screen phone models\n",
    "                        version_model = 'touch'\n",
    "                    elif '屏通用版' in version_desc:\n",
    "                        # universal phone models\n",
    "                        version_model = 'universal'\n",
    "                    else:\n",
    "                        print(f'Failed to search for supported model in description!')\n",
    "                        print('->', url)\n",
    "                        print('->', version_desc)\n",
    "                else:\n",
    "                    version_model = version_desc[model_sr.start():model_sr.end()]\n",
    "                    version_model = version_model.replace(' ', '')\n",
    "\n",
    "        versions.append(GameVersion(\n",
    "            url=version_url,\n",
    "            resolution=version_resolution,\n",
    "            model=version_model,\n",
    "            description=version_desc,\n",
    "        ))\n",
    "    \n",
    "    return GameEntry(\n",
    "        url=url,\n",
    "        title=title,\n",
    "        banner_url=banner_url,\n",
    "        sample_gameplay_image_urls=sample_gameplay_image_urls,\n",
    "        versions=versions,\n",
    "    )"
   ]
  },
  {
   "cell_type": "code",
   "execution_count": 9,
   "metadata": {
    "scrolled": false
   },
   "outputs": [
    {
     "name": "stderr",
     "output_type": "stream",
     "text": [
      "Parsing http://www.7723.cn/download/9657.htm:   5%|█▎                           | 543/11732 [00:46<14:37, 12.75it/s]"
     ]
    },
    {
     "name": "stdout",
     "output_type": "stream",
     "text": [
      "Failed to search for this game version screen resolution in description!\n",
      "-> http://www.7723.cn/download/9495.htm\n",
      "-> \n"
     ]
    },
    {
     "name": "stderr",
     "output_type": "stream",
     "text": [
      "Parsing http://www.7723.cn/download/7019.htm:   9%|██▍                         | 1032/11732 [01:26<13:20, 13.36it/s]"
     ]
    },
    {
     "name": "stdout",
     "output_type": "stream",
     "text": [
      "Failed to search for this game version screen resolution in description!\n",
      "-> http://www.7723.cn/download/7029.htm\n",
      "-> \n",
      "Failed to search for this game version screen resolution in description!\n",
      "-> http://www.7723.cn/download/7029.htm\n",
      "-> \n",
      "Failed to search for this game version screen resolution in description!\n",
      "-> http://www.7723.cn/download/7029.htm\n",
      "-> \n",
      "Failed to search for this game version screen resolution in description!\n",
      "-> http://www.7723.cn/download/7029.htm\n",
      "-> \n",
      "Failed to search for this game version screen resolution in description!\n",
      "-> http://www.7723.cn/download/7029.htm\n",
      "-> \n",
      "Failed to search for this game version screen resolution in description!\n",
      "-> http://www.7723.cn/download/7029.htm\n",
      "-> \n",
      "Failed to search for this game version screen resolution in description!\n",
      "-> http://www.7723.cn/download/7029.htm\n",
      "-> \n",
      "Failed to search for this game version screen resolution in description!\n",
      "-> http://www.7723.cn/download/7029.htm\n",
      "-> \n",
      "Failed to search for this game version screen resolution in description!\n",
      "-> http://www.7723.cn/download/7029.htm\n",
      "-> \n",
      "Failed to search for this game version screen resolution in description!\n",
      "-> http://www.7723.cn/download/7029.htm\n",
      "-> \n",
      "Failed to search for this game version screen resolution in description!\n",
      "-> http://www.7723.cn/download/7029.htm\n",
      "-> \n",
      "Failed to search for this game version screen resolution in description!\n",
      "-> http://www.7723.cn/download/7029.htm\n",
      "-> \n",
      "Failed to search for this game version screen resolution in description!\n",
      "-> http://www.7723.cn/download/7029.htm\n",
      "-> \n",
      "Failed to search for this game version screen resolution in description!\n",
      "-> http://www.7723.cn/download/7029.htm\n",
      "-> \n",
      "Failed to search for this game version screen resolution in description!\n",
      "-> http://www.7723.cn/download/7029.htm\n",
      "-> \n",
      "Failed to search for this game version screen resolution in description!\n",
      "-> http://www.7723.cn/download/7029.htm\n",
      "-> \n",
      "Failed to search for this game version screen resolution in description!\n",
      "-> http://www.7723.cn/download/7029.htm\n",
      "-> \n",
      "Failed to search for this game version screen resolution in description!\n",
      "-> http://www.7723.cn/download/7029.htm\n",
      "-> \n",
      "Failed to search for this game version screen resolution in description!\n",
      "-> http://www.7723.cn/download/7029.htm\n",
      "-> \n",
      "Failed to search for this game version screen resolution in description!\n",
      "-> http://www.7723.cn/download/7029.htm\n",
      "-> \n",
      "Failed to search for this game version screen resolution in description!\n",
      "-> http://www.7723.cn/download/7029.htm\n",
      "-> \n",
      "Failed to search for this game version screen resolution in description!\n",
      "-> http://www.7723.cn/download/7029.htm\n",
      "-> \n",
      "Failed to search for this game version screen resolution in description!\n",
      "-> http://www.7723.cn/download/7029.htm\n",
      "-> \n"
     ]
    },
    {
     "name": "stderr",
     "output_type": "stream",
     "text": [
      "Parsing http://www.7723.cn/download/6815.htm:   9%|██▌                         | 1080/11732 [01:30<13:25, 13.23it/s]"
     ]
    },
    {
     "name": "stdout",
     "output_type": "stream",
     "text": [
      "Failed to search for this game version screen resolution in description!\n",
      "-> http://www.7723.cn/download/6855.htm\n",
      "-> \n"
     ]
    },
    {
     "name": "stderr",
     "output_type": "stream",
     "text": [
      "Parsing http://www.7723.cn/download/6805.htm:   9%|██▌                         | 1084/11732 [01:30<13:48, 12.85it/s]"
     ]
    },
    {
     "name": "stdout",
     "output_type": "stream",
     "text": [
      "Failed to search for this game version screen resolution in description!\n",
      "-> http://www.7723.cn/download/6814.htm\n",
      "-> \n"
     ]
    },
    {
     "name": "stderr",
     "output_type": "stream",
     "text": [
      "Parsing http://www.7723.cn/download/6780.htm:   9%|██▌                         | 1090/11732 [01:30<13:17, 13.34it/s]"
     ]
    },
    {
     "name": "stdout",
     "output_type": "stream",
     "text": [
      "Failed to search for this game version screen resolution in description!\n",
      "-> http://www.7723.cn/download/6783.htm\n",
      "-> \n"
     ]
    },
    {
     "name": "stderr",
     "output_type": "stream",
     "text": [
      "Parsing http://www.7723.cn/download/6759.htm:   9%|██▌                         | 1094/11732 [01:31<13:00, 13.64it/s]"
     ]
    },
    {
     "name": "stdout",
     "output_type": "stream",
     "text": [
      "Failed to search for this game version screen resolution in description!\n",
      "-> http://www.7723.cn/download/6773.htm\n",
      "-> \n"
     ]
    },
    {
     "name": "stderr",
     "output_type": "stream",
     "text": [
      "Parsing http://www.7723.cn/download/6732.htm:   9%|██▋                         | 1100/11732 [01:31<13:33, 13.07it/s]"
     ]
    },
    {
     "name": "stdout",
     "output_type": "stream",
     "text": [
      "Failed to search for this game version screen resolution in description!\n",
      "-> http://www.7723.cn/download/6749.htm\n",
      "-> \n",
      "Failed to search for this game version screen resolution in description!\n",
      "-> http://www.7723.cn/download/6744.htm\n",
      "-> \n"
     ]
    },
    {
     "name": "stderr",
     "output_type": "stream",
     "text": [
      "Parsing http://www.7723.cn/download/6721.htm:   9%|██▋                         | 1106/11732 [01:32<13:36, 13.02it/s]"
     ]
    },
    {
     "name": "stdout",
     "output_type": "stream",
     "text": [
      "Failed to search for this game version screen resolution in description!\n",
      "-> http://www.7723.cn/download/6730.htm\n",
      "-> \n",
      "Failed to search for this game version screen resolution in description!\n",
      "-> http://www.7723.cn/download/6726.htm\n",
      "-> \n"
     ]
    },
    {
     "name": "stderr",
     "output_type": "stream",
     "text": [
      "Parsing http://www.7723.cn/download/6713.htm:   9%|██▋                         | 1110/11732 [01:32<13:22, 13.23it/s]"
     ]
    },
    {
     "name": "stdout",
     "output_type": "stream",
     "text": [
      "Failed to search for this game version screen resolution in description!\n",
      "-> http://www.7723.cn/download/6719.htm\n",
      "-> \n",
      "Failed to search for this game version screen resolution in description!\n",
      "-> http://www.7723.cn/download/6716.htm\n",
      "-> \n"
     ]
    },
    {
     "name": "stderr",
     "output_type": "stream",
     "text": [
      "Parsing http://www.7723.cn/download/6706.htm:   9%|██▋                         | 1114/11732 [01:32<14:03, 12.58it/s]"
     ]
    },
    {
     "name": "stdout",
     "output_type": "stream",
     "text": [
      "Failed to search for this game version screen resolution in description!\n",
      "-> http://www.7723.cn/download/6713.htm\n",
      "-> \n",
      "Failed to search for this game version screen resolution in description!\n",
      "-> http://www.7723.cn/download/6712.htm\n",
      "-> \n",
      "Failed to search for this game version screen resolution in description!\n",
      "-> http://www.7723.cn/download/6711.htm\n",
      "-> \n"
     ]
    },
    {
     "name": "stderr",
     "output_type": "stream",
     "text": [
      "Parsing http://www.7723.cn/download/6692.htm:  10%|██▋                         | 1122/11732 [01:33<13:12, 13.39it/s]"
     ]
    },
    {
     "name": "stdout",
     "output_type": "stream",
     "text": [
      "Failed to search for this game version screen resolution in description!\n",
      "-> http://www.7723.cn/download/6697.htm\n",
      "-> \n",
      "Failed to search for this game version screen resolution in description!\n",
      "-> http://www.7723.cn/download/6695.htm\n",
      "-> \n"
     ]
    },
    {
     "name": "stderr",
     "output_type": "stream",
     "text": [
      "Parsing http://www.7723.cn/download/6686.htm:  10%|██▋                         | 1124/11732 [01:33<13:18, 13.29it/s]"
     ]
    },
    {
     "name": "stdout",
     "output_type": "stream",
     "text": [
      "Failed to search for this game version screen resolution in description!\n",
      "-> http://www.7723.cn/download/6692.htm\n",
      "-> \n",
      "Failed to search for this game version screen resolution in description!\n",
      "-> http://www.7723.cn/download/6688.htm\n",
      "-> \n"
     ]
    },
    {
     "name": "stderr",
     "output_type": "stream",
     "text": [
      "Parsing http://www.7723.cn/download/6669.htm:  10%|██▋                         | 1128/11732 [01:33<13:08, 13.45it/s]"
     ]
    },
    {
     "name": "stdout",
     "output_type": "stream",
     "text": [
      "Failed to search for this game version screen resolution in description!\n",
      "-> http://www.7723.cn/download/6686.htm\n",
      "-> \n",
      "Failed to search for this game version screen resolution in description!\n",
      "-> http://www.7723.cn/download/6679.htm\n",
      "-> \n",
      "Failed to search for this game version screen resolution in description!\n",
      "-> http://www.7723.cn/download/6679.htm\n",
      "-> \n",
      "Failed to search for this game version screen resolution in description!\n",
      "-> http://www.7723.cn/download/6675.htm\n",
      "-> \n"
     ]
    },
    {
     "name": "stderr",
     "output_type": "stream",
     "text": [
      "Parsing http://www.7723.cn/download/6658.htm:  10%|██▋                         | 1130/11732 [01:33<13:32, 13.05it/s]"
     ]
    },
    {
     "name": "stdout",
     "output_type": "stream",
     "text": [
      "Failed to search for this game version screen resolution in description!\n",
      "-> http://www.7723.cn/download/6669.htm\n",
      "-> \n"
     ]
    },
    {
     "name": "stderr",
     "output_type": "stream",
     "text": [
      "Parsing http://www.7723.cn/download/6592.htm:  10%|██▋                         | 1144/11732 [01:34<12:15, 14.39it/s]"
     ]
    },
    {
     "name": "stdout",
     "output_type": "stream",
     "text": [
      "Failed to search for this game version screen resolution in description!\n",
      "-> http://www.7723.cn/download/6609.htm\n",
      "-> \n"
     ]
    },
    {
     "name": "stderr",
     "output_type": "stream",
     "text": [
      "Parsing http://www.7723.cn/download/6579.htm:  10%|██▋                         | 1150/11732 [01:35<12:36, 13.98it/s]"
     ]
    },
    {
     "name": "stdout",
     "output_type": "stream",
     "text": [
      "Failed to search for this game version screen resolution in description!\n",
      "-> http://www.7723.cn/download/6584.htm\n",
      "-> \n",
      "Failed to search for this game version screen resolution in description!\n",
      "-> http://www.7723.cn/download/6582.htm\n",
      "-> \n"
     ]
    },
    {
     "name": "stderr",
     "output_type": "stream",
     "text": [
      "Parsing http://www.7723.cn/download/6570.htm:  10%|██▊                         | 1154/11732 [01:35<13:42, 12.86it/s]"
     ]
    },
    {
     "name": "stdout",
     "output_type": "stream",
     "text": [
      "Failed to search for this game version screen resolution in description!\n",
      "-> http://www.7723.cn/download/6575.htm\n",
      "-> \n"
     ]
    },
    {
     "name": "stderr",
     "output_type": "stream",
     "text": [
      "Parsing http://www.7723.cn/download/6549.htm:  10%|██▊                         | 1158/11732 [01:35<14:06, 12.50it/s]"
     ]
    },
    {
     "name": "stdout",
     "output_type": "stream",
     "text": [
      "Failed to search for this game version screen resolution in description!\n",
      "-> http://www.7723.cn/download/6570.htm\n",
      "-> \n"
     ]
    },
    {
     "name": "stderr",
     "output_type": "stream",
     "text": [
      "Parsing http://www.7723.cn/download/6530.htm:  10%|██▊                         | 1164/11732 [01:36<14:00, 12.58it/s]"
     ]
    },
    {
     "name": "stdout",
     "output_type": "stream",
     "text": [
      "Failed to search for this game version screen resolution in description!\n",
      "-> http://www.7723.cn/download/6540.htm\n",
      "-> \n",
      "Failed to search for this game version screen resolution in description!\n",
      "-> http://www.7723.cn/download/6537.htm\n",
      "-> \n"
     ]
    },
    {
     "name": "stderr",
     "output_type": "stream",
     "text": [
      "Parsing http://www.7723.cn/download/6520.htm:  10%|██▊                         | 1166/11732 [01:36<14:25, 12.21it/s]"
     ]
    },
    {
     "name": "stdout",
     "output_type": "stream",
     "text": [
      "Failed to search for this game version screen resolution in description!\n",
      "-> http://www.7723.cn/download/6530.htm\n",
      "-> \n",
      "Failed to search for this game version screen resolution in description!\n",
      "-> http://www.7723.cn/download/6528.htm\n",
      "-> \n"
     ]
    },
    {
     "name": "stderr",
     "output_type": "stream",
     "text": [
      "Parsing http://www.7723.cn/download/6502.htm:  10%|██▊                         | 1172/11732 [01:37<13:30, 13.03it/s]"
     ]
    },
    {
     "name": "stdout",
     "output_type": "stream",
     "text": [
      "Failed to search for this game version screen resolution in description!\n",
      "-> http://www.7723.cn/download/6513.htm\n",
      "-> \n"
     ]
    },
    {
     "name": "stderr",
     "output_type": "stream",
     "text": [
      "Parsing http://www.7723.cn/download/6479.htm:  10%|██▊                         | 1180/11732 [01:37<14:17, 12.30it/s]"
     ]
    },
    {
     "name": "stdout",
     "output_type": "stream",
     "text": [
      "Failed to search for this game version screen resolution in description!\n",
      "-> http://www.7723.cn/download/6488.htm\n",
      "-> \n"
     ]
    },
    {
     "name": "stderr",
     "output_type": "stream",
     "text": [
      "Parsing http://www.7723.cn/download/6469.htm:  10%|██▊                         | 1182/11732 [01:37<13:54, 12.65it/s]"
     ]
    },
    {
     "name": "stdout",
     "output_type": "stream",
     "text": [
      "Failed to search for this game version screen resolution in description!\n",
      "-> http://www.7723.cn/download/6479.htm\n",
      "-> \n"
     ]
    },
    {
     "name": "stderr",
     "output_type": "stream",
     "text": [
      "Parsing http://www.7723.cn/download/6434.htm:  10%|██▊                         | 1190/11732 [01:38<12:48, 13.71it/s]"
     ]
    },
    {
     "name": "stdout",
     "output_type": "stream",
     "text": [
      "Failed to search for this game version screen resolution in description!\n",
      "-> http://www.7723.cn/download/6442.htm\n",
      "-> \n"
     ]
    },
    {
     "name": "stderr",
     "output_type": "stream",
     "text": [
      "Parsing http://www.7723.cn/download/6416.htm:  10%|██▊                         | 1192/11732 [01:38<13:02, 13.46it/s]"
     ]
    },
    {
     "name": "stdout",
     "output_type": "stream",
     "text": [
      "Failed to search for this game version screen resolution in description!\n",
      "-> http://www.7723.cn/download/6434.htm\n",
      "-> \n",
      "Failed to search for this game version screen resolution in description!\n",
      "-> http://www.7723.cn/download/6426.htm\n",
      "-> \n",
      "Failed to search for this game version screen resolution in description!\n",
      "-> http://www.7723.cn/download/6422.htm\n",
      "-> \n"
     ]
    },
    {
     "name": "stderr",
     "output_type": "stream",
     "text": [
      "Parsing http://www.7723.cn/download/6348.htm:  10%|██▊                         | 1202/11732 [01:39<14:01, 12.51it/s]"
     ]
    },
    {
     "name": "stdout",
     "output_type": "stream",
     "text": [
      "Failed to search for this game version screen resolution in description!\n",
      "-> http://www.7723.cn/download/6363.htm\n",
      "-> \n",
      "Failed to search for this game version screen resolution in description!\n",
      "-> http://www.7723.cn/download/6357.htm\n",
      "-> \n"
     ]
    },
    {
     "name": "stderr",
     "output_type": "stream",
     "text": [
      "Parsing http://www.7723.cn/download/6328.htm:  10%|██▉                         | 1206/11732 [01:39<13:57, 12.56it/s]"
     ]
    },
    {
     "name": "stdout",
     "output_type": "stream",
     "text": [
      "Failed to search for this game version screen resolution in description!\n",
      "-> http://www.7723.cn/download/6348.htm\n",
      "-> \n"
     ]
    },
    {
     "name": "stderr",
     "output_type": "stream",
     "text": [
      "Parsing http://www.7723.cn/download/6298.htm:  10%|██▉                         | 1208/11732 [01:39<13:57, 12.57it/s]"
     ]
    },
    {
     "name": "stdout",
     "output_type": "stream",
     "text": [
      "Failed to search for this game version screen resolution in description!\n",
      "-> http://www.7723.cn/download/6328.htm\n",
      "-> \n",
      "Failed to search for this game version screen resolution in description!\n",
      "-> http://www.7723.cn/download/6316.htm\n",
      "-> \n"
     ]
    },
    {
     "name": "stderr",
     "output_type": "stream",
     "text": [
      "Parsing http://www.7723.cn/download/6278.htm:  10%|██▉                         | 1216/11732 [01:40<14:16, 12.28it/s]"
     ]
    },
    {
     "name": "stdout",
     "output_type": "stream",
     "text": [
      "Failed to search for this game version screen resolution in description!\n",
      "-> http://www.7723.cn/download/6288.htm\n",
      "-> \n",
      "Failed to search for this game version screen resolution in description!\n",
      "-> http://www.7723.cn/download/6287.htm\n",
      "-> \n"
     ]
    },
    {
     "name": "stderr",
     "output_type": "stream",
     "text": [
      "Parsing http://www.7723.cn/download/6258.htm:  10%|██▉                         | 1220/11732 [01:40<13:48, 12.69it/s]"
     ]
    },
    {
     "name": "stdout",
     "output_type": "stream",
     "text": [
      "Failed to search for this game version screen resolution in description!\n",
      "-> http://www.7723.cn/download/6272.htm\n",
      "-> \n",
      "Failed to search for this game version screen resolution in description!\n",
      "-> http://www.7723.cn/download/6263.htm\n",
      "-> \n"
     ]
    },
    {
     "name": "stderr",
     "output_type": "stream",
     "text": [
      "Parsing http://www.7723.cn/download/6250.htm:  10%|██▉                         | 1224/11732 [01:41<13:47, 12.69it/s]"
     ]
    },
    {
     "name": "stdout",
     "output_type": "stream",
     "text": [
      "Failed to search for this game version screen resolution in description!\n",
      "-> http://www.7723.cn/download/6257.htm\n",
      "-> \n"
     ]
    },
    {
     "name": "stderr",
     "output_type": "stream",
     "text": [
      "Parsing http://www.7723.cn/download/6237.htm:  10%|██▉                         | 1228/11732 [01:41<14:18, 12.24it/s]"
     ]
    },
    {
     "name": "stdout",
     "output_type": "stream",
     "text": [
      "Failed to search for this game version screen resolution in description!\n",
      "-> http://www.7723.cn/download/6245.htm\n",
      "-> \n",
      "Failed to search for this game version screen resolution in description!\n",
      "-> http://www.7723.cn/download/6239.htm\n",
      "-> \n"
     ]
    },
    {
     "name": "stderr",
     "output_type": "stream",
     "text": [
      "Parsing http://www.7723.cn/download/6217.htm:  11%|██▉                         | 1232/11732 [01:41<14:12, 12.31it/s]"
     ]
    },
    {
     "name": "stdout",
     "output_type": "stream",
     "text": [
      "Failed to search for this game version screen resolution in description!\n",
      "-> http://www.7723.cn/download/6237.htm\n",
      "-> \n",
      "Failed to search for this game version screen resolution in description!\n",
      "-> http://www.7723.cn/download/6223.htm\n",
      "-> \n"
     ]
    },
    {
     "name": "stderr",
     "output_type": "stream",
     "text": [
      "Parsing http://www.7723.cn/download/6198.htm:  11%|██▉                         | 1236/11732 [01:42<13:05, 13.37it/s]"
     ]
    },
    {
     "name": "stdout",
     "output_type": "stream",
     "text": [
      "Failed to search for this game version screen resolution in description!\n",
      "-> http://www.7723.cn/download/6207.htm\n",
      "-> \n"
     ]
    },
    {
     "name": "stderr",
     "output_type": "stream",
     "text": [
      "Parsing http://www.7723.cn/download/6188.htm:  11%|██▉                         | 1240/11732 [01:42<13:06, 13.35it/s]"
     ]
    },
    {
     "name": "stdout",
     "output_type": "stream",
     "text": [
      "Failed to search for this game version screen resolution in description!\n",
      "-> http://www.7723.cn/download/6198.htm\n",
      "-> \n"
     ]
    },
    {
     "name": "stderr",
     "output_type": "stream",
     "text": [
      "Parsing http://www.7723.cn/download/6174.htm:  11%|██▉                         | 1244/11732 [01:42<16:26, 10.63it/s]"
     ]
    },
    {
     "name": "stdout",
     "output_type": "stream",
     "text": [
      "Failed to search for this game version screen resolution in description!\n",
      "-> http://www.7723.cn/download/6185.htm\n",
      "-> \n",
      "Failed to search for this game version screen resolution in description!\n",
      "-> http://www.7723.cn/download/6180.htm\n",
      "-> \n"
     ]
    },
    {
     "name": "stderr",
     "output_type": "stream",
     "text": [
      "Parsing http://www.7723.cn/download/6135.htm:  11%|██▉                         | 1250/11732 [01:43<14:18, 12.22it/s]"
     ]
    },
    {
     "name": "stdout",
     "output_type": "stream",
     "text": [
      "Failed to search for this game version screen resolution in description!\n",
      "-> http://www.7723.cn/download/6152.htm\n",
      "-> \n",
      "Failed to search for this game version screen resolution in description!\n",
      "-> http://www.7723.cn/download/6151.htm\n",
      "-> \n",
      "Failed to search for this game version screen resolution in description!\n",
      "-> http://www.7723.cn/download/6137.htm\n",
      "-> \n"
     ]
    },
    {
     "name": "stderr",
     "output_type": "stream",
     "text": [
      "Parsing http://www.7723.cn/download/6112.htm:  11%|███                         | 1260/11732 [01:43<12:33, 13.90it/s]"
     ]
    },
    {
     "name": "stdout",
     "output_type": "stream",
     "text": [
      "Failed to search for this game version screen resolution in description!\n",
      "-> http://www.7723.cn/download/6117.htm\n",
      "-> \n",
      "Failed to search for this game version screen resolution in description!\n",
      "-> http://www.7723.cn/download/6115.htm\n",
      "-> \n"
     ]
    },
    {
     "name": "stderr",
     "output_type": "stream",
     "text": [
      "Parsing http://www.7723.cn/download/6065.htm:  11%|███                         | 1264/11732 [01:44<12:09, 14.36it/s]"
     ]
    },
    {
     "name": "stdout",
     "output_type": "stream",
     "text": [
      "Failed to search for this game version screen resolution in description!\n",
      "-> http://www.7723.cn/download/6086.htm\n",
      "-> \n"
     ]
    },
    {
     "name": "stderr",
     "output_type": "stream",
     "text": [
      "Parsing http://www.7723.cn/download/6051.htm:  11%|███                         | 1272/11732 [01:44<12:12, 14.27it/s]"
     ]
    },
    {
     "name": "stdout",
     "output_type": "stream",
     "text": [
      "Failed to search for this game version screen resolution in description!\n",
      "-> http://www.7723.cn/download/6055.htm\n",
      "-> \n"
     ]
    },
    {
     "name": "stderr",
     "output_type": "stream",
     "text": [
      "Parsing http://www.7723.cn/download/6035.htm:  11%|███                         | 1274/11732 [01:45<12:18, 14.16it/s]"
     ]
    },
    {
     "name": "stdout",
     "output_type": "stream",
     "text": [
      "Failed to search for this game version screen resolution in description!\n",
      "-> http://www.7723.cn/download/6039.htm\n",
      "-> \n"
     ]
    },
    {
     "name": "stderr",
     "output_type": "stream",
     "text": [
      "Parsing http://www.7723.cn/download/6029.htm:  11%|███                         | 1278/11732 [01:45<14:31, 11.99it/s]"
     ]
    },
    {
     "name": "stdout",
     "output_type": "stream",
     "text": [
      "Failed to search for this game version screen resolution in description!\n",
      "-> http://www.7723.cn/download/6035.htm\n",
      "-> \n",
      "Failed to search for this game version screen resolution in description!\n",
      "-> http://www.7723.cn/download/6033.htm\n",
      "-> \n"
     ]
    },
    {
     "name": "stderr",
     "output_type": "stream",
     "text": [
      "Parsing http://www.7723.cn/download/6012.htm:  11%|███                         | 1282/11732 [01:45<14:13, 12.24it/s]"
     ]
    },
    {
     "name": "stdout",
     "output_type": "stream",
     "text": [
      "Failed to search for this game version screen resolution in description!\n",
      "-> http://www.7723.cn/download/6028.htm\n",
      "-> \n",
      "Failed to search for this game version screen resolution in description!\n",
      "-> http://www.7723.cn/download/6025.htm\n",
      "-> \n"
     ]
    },
    {
     "name": "stderr",
     "output_type": "stream",
     "text": [
      "Parsing http://www.7723.cn/download/6003.htm:  11%|███                         | 1284/11732 [01:45<13:41, 12.72it/s]"
     ]
    },
    {
     "name": "stdout",
     "output_type": "stream",
     "text": [
      "Failed to search for this game version screen resolution in description!\n",
      "-> http://www.7723.cn/download/6012.htm\n",
      "-> \n",
      "Failed to search for this game version screen resolution in description!\n",
      "-> http://www.7723.cn/download/6005.htm\n",
      "-> \n"
     ]
    },
    {
     "name": "stderr",
     "output_type": "stream",
     "text": [
      "Parsing http://www.7723.cn/download/5988.htm:  11%|███                         | 1288/11732 [01:46<13:38, 12.76it/s]"
     ]
    },
    {
     "name": "stdout",
     "output_type": "stream",
     "text": [
      "Failed to search for this game version screen resolution in description!\n",
      "-> http://www.7723.cn/download/6003.htm\n",
      "-> \n"
     ]
    },
    {
     "name": "stderr",
     "output_type": "stream",
     "text": [
      "Parsing http://www.7723.cn/download/5969.htm:  11%|███                         | 1296/11732 [01:46<12:47, 13.60it/s]"
     ]
    },
    {
     "name": "stdout",
     "output_type": "stream",
     "text": [
      "Failed to search for this game version screen resolution in description!\n",
      "-> http://www.7723.cn/download/5975.htm\n",
      "-> \n",
      "Failed to search for this game version screen resolution in description!\n",
      "-> http://www.7723.cn/download/5971.htm\n",
      "-> \n",
      "Failed to search for this game version screen resolution in description!\n",
      "-> http://www.7723.cn/download/5971.htm\n",
      "-> \n"
     ]
    },
    {
     "name": "stderr",
     "output_type": "stream",
     "text": [
      "Parsing http://www.7723.cn/download/5959.htm:  11%|███                         | 1298/11732 [01:46<13:23, 12.99it/s]"
     ]
    },
    {
     "name": "stdout",
     "output_type": "stream",
     "text": [
      "Failed to search for this game version screen resolution in description!\n",
      "-> http://www.7723.cn/download/5969.htm\n",
      "-> \n"
     ]
    },
    {
     "name": "stderr",
     "output_type": "stream",
     "text": [
      "Parsing http://www.7723.cn/download/5953.htm:  11%|███                         | 1302/11732 [01:47<14:29, 11.99it/s]"
     ]
    },
    {
     "name": "stdout",
     "output_type": "stream",
     "text": [
      "Failed to search for this game version screen resolution in description!\n",
      "-> http://www.7723.cn/download/5959.htm\n",
      "-> \n"
     ]
    },
    {
     "name": "stderr",
     "output_type": "stream",
     "text": [
      "Parsing http://www.7723.cn/download/5942.htm:  11%|███                         | 1304/11732 [01:47<14:34, 11.93it/s]"
     ]
    },
    {
     "name": "stdout",
     "output_type": "stream",
     "text": [
      "Failed to search for this game version screen resolution in description!\n",
      "-> http://www.7723.cn/download/5951.htm\n",
      "-> \n"
     ]
    },
    {
     "name": "stderr",
     "output_type": "stream",
     "text": [
      "Parsing http://www.7723.cn/download/5928.htm:  11%|███▏                        | 1312/11732 [01:48<13:43, 12.65it/s]"
     ]
    },
    {
     "name": "stdout",
     "output_type": "stream",
     "text": [
      "Failed to search for this game version screen resolution in description!\n",
      "-> http://www.7723.cn/download/5934.htm\n",
      "-> \n"
     ]
    },
    {
     "name": "stderr",
     "output_type": "stream",
     "text": [
      "Parsing http://www.7723.cn/download/5914.htm:  11%|███▏                        | 1316/11732 [01:48<14:17, 12.14it/s]"
     ]
    },
    {
     "name": "stdout",
     "output_type": "stream",
     "text": [
      "Failed to search for this game version screen resolution in description!\n",
      "-> http://www.7723.cn/download/5927.htm\n",
      "-> \n",
      "Failed to search for this game version screen resolution in description!\n",
      "-> http://www.7723.cn/download/5925.htm\n",
      "-> \n"
     ]
    },
    {
     "name": "stderr",
     "output_type": "stream",
     "text": [
      "Parsing http://www.7723.cn/download/5885.htm:  11%|███▏                        | 1320/11732 [01:48<13:04, 13.28it/s]"
     ]
    },
    {
     "name": "stdout",
     "output_type": "stream",
     "text": [
      "Failed to search for this game version screen resolution in description!\n",
      "-> http://www.7723.cn/download/5902.htm\n",
      "-> \n",
      "Failed to search for this game version screen resolution in description!\n",
      "-> http://www.7723.cn/download/5898.htm\n",
      "-> \n"
     ]
    },
    {
     "name": "stderr",
     "output_type": "stream",
     "text": [
      "Parsing http://www.7723.cn/download/5879.htm:  11%|███▏                        | 1324/11732 [01:48<13:00, 13.34it/s]"
     ]
    },
    {
     "name": "stdout",
     "output_type": "stream",
     "text": [
      "Failed to search for this game version screen resolution in description!\n",
      "-> http://www.7723.cn/download/5885.htm\n",
      "-> \n"
     ]
    },
    {
     "name": "stderr",
     "output_type": "stream",
     "text": [
      "Parsing http://www.7723.cn/download/5866.htm:  11%|███▏                        | 1330/11732 [01:49<12:38, 13.72it/s]"
     ]
    },
    {
     "name": "stdout",
     "output_type": "stream",
     "text": [
      "Failed to search for this game version screen resolution in description!\n",
      "-> http://www.7723.cn/download/5873.htm\n",
      "-> \n"
     ]
    },
    {
     "name": "stderr",
     "output_type": "stream",
     "text": [
      "Parsing http://www.7723.cn/download/5842.htm:  11%|███▏                        | 1334/11732 [01:49<12:37, 13.74it/s]"
     ]
    },
    {
     "name": "stdout",
     "output_type": "stream",
     "text": [
      "Failed to search for this game version screen resolution in description!\n",
      "-> http://www.7723.cn/download/5863.htm\n",
      "-> \n"
     ]
    },
    {
     "name": "stderr",
     "output_type": "stream",
     "text": [
      "Parsing http://www.7723.cn/download/5824.htm:  11%|███▏                        | 1338/11732 [01:50<13:12, 13.12it/s]"
     ]
    },
    {
     "name": "stdout",
     "output_type": "stream",
     "text": [
      "Failed to search for this game version screen resolution in description!\n",
      "-> http://www.7723.cn/download/5838.htm\n",
      "-> \n",
      "Failed to search for this game version screen resolution in description!\n",
      "-> http://www.7723.cn/download/5827.htm\n",
      "-> \n"
     ]
    },
    {
     "name": "stderr",
     "output_type": "stream",
     "text": [
      "Parsing http://www.7723.cn/download/5805.htm:  11%|███▏                        | 1346/11732 [01:50<12:52, 13.45it/s]"
     ]
    },
    {
     "name": "stdout",
     "output_type": "stream",
     "text": [
      "Failed to search for this game version screen resolution in description!\n",
      "-> http://www.7723.cn/download/5810.htm\n",
      "-> \n"
     ]
    },
    {
     "name": "stderr",
     "output_type": "stream",
     "text": [
      "Parsing http://www.7723.cn/download/5801.htm:  12%|███▏                        | 1350/11732 [01:50<14:01, 12.34it/s]"
     ]
    },
    {
     "name": "stdout",
     "output_type": "stream",
     "text": [
      "Failed to search for this game version screen resolution in description!\n",
      "-> http://www.7723.cn/download/5805.htm\n",
      "-> \n",
      "Failed to search for this game version screen resolution in description!\n",
      "-> http://www.7723.cn/download/5803.htm\n",
      "-> \n",
      "Failed to search for this game version screen resolution in description!\n",
      "-> http://www.7723.cn/download/5801.htm\n",
      "-> \n"
     ]
    },
    {
     "name": "stderr",
     "output_type": "stream",
     "text": [
      "Parsing http://www.7723.cn/download/5782.htm:  12%|███▏                        | 1354/11732 [01:51<14:00, 12.35it/s]"
     ]
    },
    {
     "name": "stdout",
     "output_type": "stream",
     "text": [
      "Failed to search for this game version screen resolution in description!\n",
      "-> http://www.7723.cn/download/5793.htm\n",
      "-> \n",
      "Failed to search for this game version screen resolution in description!\n",
      "-> http://www.7723.cn/download/5792.htm\n",
      "-> \n"
     ]
    },
    {
     "name": "stderr",
     "output_type": "stream",
     "text": [
      "Parsing http://www.7723.cn/download/5764.htm:  12%|███▏                        | 1356/11732 [01:51<13:30, 12.81it/s]"
     ]
    },
    {
     "name": "stdout",
     "output_type": "stream",
     "text": [
      "Failed to search for this game version screen resolution in description!\n",
      "-> http://www.7723.cn/download/5782.htm\n",
      "-> \n"
     ]
    },
    {
     "name": "stderr",
     "output_type": "stream",
     "text": [
      "Parsing http://www.7723.cn/download/5747.htm:  12%|███▎                        | 1364/11732 [01:52<14:22, 12.02it/s]"
     ]
    },
    {
     "name": "stdout",
     "output_type": "stream",
     "text": [
      "Failed to search for this game version screen resolution in description!\n",
      "-> http://www.7723.cn/download/5753.htm\n",
      "-> \n"
     ]
    },
    {
     "name": "stderr",
     "output_type": "stream",
     "text": [
      "Parsing http://www.7723.cn/download/5707.htm:  12%|███▎                        | 1372/11732 [01:52<12:57, 13.32it/s]"
     ]
    },
    {
     "name": "stdout",
     "output_type": "stream",
     "text": [
      "Failed to search for this game version screen resolution in description!\n",
      "-> http://www.7723.cn/download/5727.htm\n",
      "-> \n",
      "Failed to search for this game version screen resolution in description!\n",
      "-> http://www.7723.cn/download/5715.htm\n",
      "-> \n"
     ]
    },
    {
     "name": "stderr",
     "output_type": "stream",
     "text": [
      "Parsing http://www.7723.cn/download/5680.htm:  12%|███▎                        | 1378/11732 [01:53<12:33, 13.74it/s]"
     ]
    },
    {
     "name": "stdout",
     "output_type": "stream",
     "text": [
      "Failed to search for this game version screen resolution in description!\n",
      "-> http://www.7723.cn/download/5690.htm\n",
      "-> \n",
      "Failed to search for this game version screen resolution in description!\n",
      "-> http://www.7723.cn/download/5689.htm\n",
      "-> \n"
     ]
    },
    {
     "name": "stderr",
     "output_type": "stream",
     "text": [
      "Parsing http://www.7723.cn/download/5672.htm:  12%|███▎                        | 1382/11732 [01:53<12:28, 13.83it/s]"
     ]
    },
    {
     "name": "stdout",
     "output_type": "stream",
     "text": [
      "Failed to search for this game version screen resolution in description!\n",
      "-> http://www.7723.cn/download/5678.htm\n",
      "-> \n",
      "Failed to search for this game version screen resolution in description!\n",
      "-> http://www.7723.cn/download/5676.htm\n",
      "-> \n"
     ]
    },
    {
     "name": "stderr",
     "output_type": "stream",
     "text": [
      "Parsing http://www.7723.cn/download/5642.htm:  12%|███▎                        | 1388/11732 [01:53<13:10, 13.09it/s]"
     ]
    },
    {
     "name": "stdout",
     "output_type": "stream",
     "text": [
      "Failed to search for this game version screen resolution in description!\n",
      "-> http://www.7723.cn/download/5653.htm\n",
      "-> \n",
      "Failed to search for this game version screen resolution in description!\n",
      "-> http://www.7723.cn/download/5647.htm\n",
      "-> \n"
     ]
    },
    {
     "name": "stderr",
     "output_type": "stream",
     "text": [
      "Parsing http://www.7723.cn/download/5633.htm:  12%|███▎                        | 1392/11732 [01:54<13:07, 13.13it/s]"
     ]
    },
    {
     "name": "stdout",
     "output_type": "stream",
     "text": [
      "Failed to search for this game version screen resolution in description!\n",
      "-> http://www.7723.cn/download/5642.htm\n",
      "-> \n",
      "Failed to search for this game version screen resolution in description!\n",
      "-> http://www.7723.cn/download/5639.htm\n",
      "-> \n"
     ]
    },
    {
     "name": "stderr",
     "output_type": "stream",
     "text": [
      "Parsing http://www.7723.cn/download/5608.htm:  12%|███▎                        | 1396/11732 [01:54<12:55, 13.33it/s]"
     ]
    },
    {
     "name": "stdout",
     "output_type": "stream",
     "text": [
      "Failed to search for this game version screen resolution in description!\n",
      "-> http://www.7723.cn/download/5621.htm\n",
      "-> \n",
      "Failed to search for this game version screen resolution in description!\n",
      "-> http://www.7723.cn/download/5614.htm\n",
      "-> \n"
     ]
    },
    {
     "name": "stderr",
     "output_type": "stream",
     "text": [
      "Parsing http://www.7723.cn/download/5606.htm:  12%|███▎                        | 1398/11732 [01:54<15:55, 10.82it/s]"
     ]
    },
    {
     "name": "stdout",
     "output_type": "stream",
     "text": [
      "Failed to search for this game version screen resolution in description!\n",
      "-> http://www.7723.cn/download/5608.htm\n",
      "-> \n",
      "Failed to search for this game version screen resolution in description!\n",
      "-> http://www.7723.cn/download/5606.htm\n",
      "-> \n"
     ]
    },
    {
     "name": "stderr",
     "output_type": "stream",
     "text": [
      "Parsing http://www.7723.cn/download/5588.htm:  12%|███▎                        | 1400/11732 [01:54<14:42, 11.71it/s]"
     ]
    },
    {
     "name": "stdout",
     "output_type": "stream",
     "text": [
      "Failed to search for this game version screen resolution in description!\n",
      "-> http://www.7723.cn/download/5603.htm\n",
      "-> \n",
      "Failed to search for this game version screen resolution in description!\n",
      "-> http://www.7723.cn/download/5598.htm\n",
      "-> \n"
     ]
    },
    {
     "name": "stderr",
     "output_type": "stream",
     "text": [
      "Parsing http://www.7723.cn/download/5578.htm:  12%|███▎                        | 1404/11732 [01:55<13:29, 12.76it/s]"
     ]
    },
    {
     "name": "stdout",
     "output_type": "stream",
     "text": [
      "Failed to search for this game version screen resolution in description!\n",
      "-> http://www.7723.cn/download/5587.htm\n",
      "-> \n"
     ]
    },
    {
     "name": "stderr",
     "output_type": "stream",
     "text": [
      "Parsing http://www.7723.cn/download/5558.htm:  12%|███▎                        | 1408/11732 [01:55<12:47, 13.45it/s]"
     ]
    },
    {
     "name": "stdout",
     "output_type": "stream",
     "text": [
      "Failed to search for this game version screen resolution in description!\n",
      "-> http://www.7723.cn/download/5578.htm\n",
      "-> \n"
     ]
    },
    {
     "name": "stderr",
     "output_type": "stream",
     "text": [
      "Parsing http://www.7723.cn/download/5548.htm:  12%|███▎                        | 1410/11732 [01:55<12:44, 13.50it/s]"
     ]
    },
    {
     "name": "stdout",
     "output_type": "stream",
     "text": [
      "Failed to search for this game version screen resolution in description!\n",
      "-> http://www.7723.cn/download/5558.htm\n",
      "-> \n",
      "Failed to search for this game version screen resolution in description!\n",
      "-> http://www.7723.cn/download/5553.htm\n",
      "-> \n"
     ]
    },
    {
     "name": "stderr",
     "output_type": "stream",
     "text": [
      "Parsing http://www.7723.cn/download/5530.htm:  12%|███▎                        | 1414/11732 [01:55<12:50, 13.40it/s]"
     ]
    },
    {
     "name": "stdout",
     "output_type": "stream",
     "text": [
      "Failed to search for this game version screen resolution in description!\n",
      "-> http://www.7723.cn/download/5548.htm\n",
      "-> \n",
      "Failed to search for this game version screen resolution in description!\n",
      "-> http://www.7723.cn/download/5542.htm\n",
      "-> \n",
      "Failed to search for this game version screen resolution in description!\n",
      "-> http://www.7723.cn/download/5542.htm\n",
      "-> \n",
      "Failed to search for this game version screen resolution in description!\n",
      "-> http://www.7723.cn/download/5539.htm\n",
      "-> \n"
     ]
    },
    {
     "name": "stderr",
     "output_type": "stream",
     "text": [
      "Parsing http://www.7723.cn/download/5512.htm:  12%|███▍                        | 1416/11732 [01:56<14:01, 12.26it/s]"
     ]
    },
    {
     "name": "stdout",
     "output_type": "stream",
     "text": [
      "Failed to search for this game version screen resolution in description!\n",
      "-> http://www.7723.cn/download/5530.htm\n",
      "-> \n",
      "Failed to search for this game version screen resolution in description!\n",
      "-> http://www.7723.cn/download/5523.htm\n",
      "-> \n",
      "Failed to search for this game version screen resolution in description!\n",
      "-> http://www.7723.cn/download/5518.htm\n",
      "-> \n"
     ]
    },
    {
     "name": "stderr",
     "output_type": "stream",
     "text": [
      "Parsing http://www.7723.cn/download/5489.htm:  12%|███▍                        | 1420/11732 [01:56<13:19, 12.90it/s]"
     ]
    },
    {
     "name": "stdout",
     "output_type": "stream",
     "text": [
      "Failed to search for this game version screen resolution in description!\n",
      "-> http://www.7723.cn/download/5512.htm\n",
      "-> \n"
     ]
    },
    {
     "name": "stderr",
     "output_type": "stream",
     "text": [
      "Parsing http://www.7723.cn/download/5454.htm:  12%|███▍                        | 1426/11732 [01:56<12:38, 13.59it/s]"
     ]
    },
    {
     "name": "stdout",
     "output_type": "stream",
     "text": [
      "Failed to search for this game version screen resolution in description!\n",
      "-> http://www.7723.cn/download/5469.htm\n",
      "-> \n",
      "Failed to search for this game version screen resolution in description!\n",
      "-> http://www.7723.cn/download/5458.htm\n",
      "-> \n"
     ]
    },
    {
     "name": "stderr",
     "output_type": "stream",
     "text": [
      "Parsing http://www.7723.cn/download/5446.htm:  12%|███▍                        | 1428/11732 [01:56<12:42, 13.51it/s]"
     ]
    },
    {
     "name": "stdout",
     "output_type": "stream",
     "text": [
      "Failed to search for this game version screen resolution in description!\n",
      "-> http://www.7723.cn/download/5454.htm\n",
      "-> \n",
      "Failed to search for this game version screen resolution in description!\n",
      "-> http://www.7723.cn/download/5451.htm\n",
      "-> \n",
      "Failed to search for this game version screen resolution in description!\n",
      "-> http://www.7723.cn/download/5449.htm\n",
      "-> \n"
     ]
    },
    {
     "name": "stderr",
     "output_type": "stream",
     "text": [
      "Parsing http://www.7723.cn/download/5409.htm:  12%|███▍                        | 1436/11732 [01:57<12:21, 13.89it/s]"
     ]
    },
    {
     "name": "stdout",
     "output_type": "stream",
     "text": [
      "Failed to search for this game version screen resolution in description!\n",
      "-> http://www.7723.cn/download/5425.htm\n",
      "-> \n"
     ]
    },
    {
     "name": "stderr",
     "output_type": "stream",
     "text": [
      "Parsing http://www.7723.cn/download/5375.htm:  12%|███▍                        | 1440/11732 [01:57<12:50, 13.36it/s]"
     ]
    },
    {
     "name": "stdout",
     "output_type": "stream",
     "text": [
      "Failed to search for this game version screen resolution in description!\n",
      "-> http://www.7723.cn/download/5403.htm\n",
      "-> \n",
      "Failed to search for this game version screen resolution in description!\n",
      "-> http://www.7723.cn/download/5397.htm\n",
      "-> \n",
      "Failed to search for this game version screen resolution in description!\n",
      "-> http://www.7723.cn/download/5376.htm\n",
      "-> \n"
     ]
    },
    {
     "name": "stderr",
     "output_type": "stream",
     "text": [
      "Parsing http://www.7723.cn/download/5322.htm:  12%|███▍                        | 1448/11732 [01:58<12:19, 13.91it/s]"
     ]
    },
    {
     "name": "stdout",
     "output_type": "stream",
     "text": [
      "Failed to search for this game version screen resolution in description!\n",
      "-> http://www.7723.cn/download/5335.htm\n",
      "-> \n",
      "Failed to search for this game version screen resolution in description!\n",
      "-> http://www.7723.cn/download/5324.htm\n",
      "-> \n"
     ]
    },
    {
     "name": "stderr",
     "output_type": "stream",
     "text": [
      "Parsing http://www.7723.cn/download/5287.htm:  12%|███▍                        | 1456/11732 [01:59<12:45, 13.43it/s]"
     ]
    },
    {
     "name": "stdout",
     "output_type": "stream",
     "text": [
      "Failed to search for this game version screen resolution in description!\n",
      "-> http://www.7723.cn/download/5305.htm\n",
      "-> \n",
      "Failed to search for this game version screen resolution in description!\n",
      "-> http://www.7723.cn/download/5295.htm\n",
      "-> \n"
     ]
    },
    {
     "name": "stderr",
     "output_type": "stream",
     "text": [
      "Parsing http://www.7723.cn/download/5276.htm:  12%|███▍                        | 1462/11732 [01:59<12:29, 13.70it/s]"
     ]
    },
    {
     "name": "stdout",
     "output_type": "stream",
     "text": [
      "Failed to search for this game version screen resolution in description!\n",
      "-> http://www.7723.cn/download/5279.htm\n",
      "-> \n"
     ]
    },
    {
     "name": "stderr",
     "output_type": "stream",
     "text": [
      "Parsing http://www.7723.cn/download/5249.htm:  13%|███▌                        | 1468/11732 [01:59<12:38, 13.53it/s]"
     ]
    },
    {
     "name": "stdout",
     "output_type": "stream",
     "text": [
      "Failed to search for this game version screen resolution in description!\n",
      "-> http://www.7723.cn/download/5261.htm\n",
      "-> \n",
      "Failed to search for this game version screen resolution in description!\n",
      "-> http://www.7723.cn/download/5259.htm\n",
      "-> \n"
     ]
    },
    {
     "name": "stderr",
     "output_type": "stream",
     "text": [
      "Parsing http://www.7723.cn/download/5217.htm:  13%|███▌                        | 1474/11732 [02:00<11:56, 14.31it/s]"
     ]
    },
    {
     "name": "stdout",
     "output_type": "stream",
     "text": [
      "Failed to search for this game version screen resolution in description!\n",
      "-> http://www.7723.cn/download/5233.htm\n",
      "-> \n",
      "Failed to search for this game version screen resolution in description!\n",
      "-> http://www.7723.cn/download/5219.htm\n",
      "-> \n"
     ]
    },
    {
     "name": "stderr",
     "output_type": "stream",
     "text": [
      "Parsing http://www.7723.cn/download/5181.htm:  13%|███▌                        | 1478/11732 [02:00<11:38, 14.67it/s]"
     ]
    },
    {
     "name": "stdout",
     "output_type": "stream",
     "text": [
      "Failed to search for this game version screen resolution in description!\n",
      "-> http://www.7723.cn/download/5212.htm\n",
      "-> \n",
      "Failed to search for this game version screen resolution in description!\n",
      "-> http://www.7723.cn/download/5206.htm\n",
      "-> \n"
     ]
    },
    {
     "name": "stderr",
     "output_type": "stream",
     "text": [
      "Parsing http://www.7723.cn/download/5171.htm:  13%|███▌                        | 1482/11732 [02:00<12:16, 13.91it/s]"
     ]
    },
    {
     "name": "stdout",
     "output_type": "stream",
     "text": [
      "Failed to search for this game version screen resolution in description!\n",
      "-> http://www.7723.cn/download/5178.htm\n",
      "-> \n"
     ]
    },
    {
     "name": "stderr",
     "output_type": "stream",
     "text": [
      "Parsing http://www.7723.cn/download/5162.htm:  13%|███▌                        | 1486/11732 [02:01<13:19, 12.82it/s]"
     ]
    },
    {
     "name": "stdout",
     "output_type": "stream",
     "text": [
      "Failed to search for this game version screen resolution in description!\n",
      "-> http://www.7723.cn/download/5170.htm\n",
      "-> \n",
      "Failed to search for this game version screen resolution in description!\n",
      "-> http://www.7723.cn/download/5163.htm\n",
      "-> \n"
     ]
    },
    {
     "name": "stderr",
     "output_type": "stream",
     "text": [
      "Parsing http://www.7723.cn/download/5153.htm:  13%|███▌                        | 1490/11732 [02:01<13:07, 13.00it/s]"
     ]
    },
    {
     "name": "stdout",
     "output_type": "stream",
     "text": [
      "Failed to search for this game version screen resolution in description!\n",
      "-> http://www.7723.cn/download/5162.htm\n",
      "-> \n"
     ]
    },
    {
     "name": "stderr",
     "output_type": "stream",
     "text": [
      "Parsing http://www.7723.cn/download/5136.htm:  13%|███▌                        | 1492/11732 [02:01<13:09, 12.96it/s]"
     ]
    },
    {
     "name": "stdout",
     "output_type": "stream",
     "text": [
      "Failed to search for this game version screen resolution in description!\n",
      "-> http://www.7723.cn/download/5153.htm\n",
      "-> \n",
      "Failed to search for this game version screen resolution in description!\n",
      "-> http://www.7723.cn/download/5151.htm\n",
      "-> \n"
     ]
    },
    {
     "name": "stderr",
     "output_type": "stream",
     "text": [
      "Parsing http://www.7723.cn/download/5095.htm:  13%|███▌                        | 1502/11732 [02:02<14:21, 11.88it/s]"
     ]
    },
    {
     "name": "stdout",
     "output_type": "stream",
     "text": [
      "Failed to search for this game version screen resolution in description!\n",
      "-> http://www.7723.cn/download/5100.htm\n",
      "-> \n",
      "Failed to search for this game version screen resolution in description!\n",
      "-> http://www.7723.cn/download/5098.htm\n",
      "-> \n",
      "Failed to search for this game version screen resolution in description!\n",
      "-> http://www.7723.cn/download/5096.htm\n",
      "-> \n"
     ]
    },
    {
     "name": "stderr",
     "output_type": "stream",
     "text": [
      "Parsing http://www.7723.cn/download/5089.htm:  13%|███▌                        | 1504/11732 [02:02<13:33, 12.57it/s]"
     ]
    },
    {
     "name": "stdout",
     "output_type": "stream",
     "text": [
      "Failed to search for this game version screen resolution in description!\n",
      "-> http://www.7723.cn/download/5095.htm\n",
      "-> \n"
     ]
    },
    {
     "name": "stderr",
     "output_type": "stream",
     "text": [
      "Parsing http://www.7723.cn/download/5083.htm:  13%|███▌                        | 1508/11732 [02:02<12:28, 13.65it/s]"
     ]
    },
    {
     "name": "stdout",
     "output_type": "stream",
     "text": [
      "Failed to search for this game version screen resolution in description!\n",
      "-> http://www.7723.cn/download/5089.htm\n",
      "-> \n",
      "Failed to search for this game version screen resolution in description!\n",
      "-> http://www.7723.cn/download/5085.htm\n",
      "-> \n",
      "Failed to search for this game version screen resolution in description!\n",
      "-> http://www.7723.cn/download/5084.htm\n",
      "-> \n"
     ]
    },
    {
     "name": "stderr",
     "output_type": "stream",
     "text": [
      "Parsing http://www.7723.cn/download/5080.htm:  13%|███▌                        | 1510/11732 [02:03<12:58, 13.13it/s]"
     ]
    },
    {
     "name": "stdout",
     "output_type": "stream",
     "text": [
      "Failed to search for this game version screen resolution in description!\n",
      "-> http://www.7723.cn/download/5083.htm\n",
      "-> \n",
      "Failed to search for this game version screen resolution in description!\n",
      "-> http://www.7723.cn/download/5082.htm\n",
      "-> \n",
      "Failed to search for this game version screen resolution in description!\n",
      "-> http://www.7723.cn/download/5082.htm\n",
      "-> \n",
      "Failed to search for this game version screen resolution in description!\n",
      "-> http://www.7723.cn/download/5082.htm\n",
      "-> \n",
      "Failed to search for this game version screen resolution in description!\n",
      "-> http://www.7723.cn/download/5081.htm\n",
      "-> \n",
      "Failed to search for this game version screen resolution in description!\n",
      "-> http://www.7723.cn/download/5081.htm\n",
      "-> \n"
     ]
    },
    {
     "name": "stderr",
     "output_type": "stream",
     "text": [
      "Parsing http://www.7723.cn/download/5072.htm:  13%|███▌                        | 1514/11732 [02:03<12:27, 13.67it/s]"
     ]
    },
    {
     "name": "stdout",
     "output_type": "stream",
     "text": [
      "Failed to search for this game version screen resolution in description!\n",
      "-> http://www.7723.cn/download/5078.htm\n",
      "-> \n",
      "Failed to search for this game version screen resolution in description!\n",
      "-> http://www.7723.cn/download/5078.htm\n",
      "-> \n",
      "Failed to search for this game version screen resolution in description!\n",
      "-> http://www.7723.cn/download/5077.htm\n",
      "-> \n",
      "Failed to search for this game version screen resolution in description!\n",
      "-> http://www.7723.cn/download/5077.htm\n",
      "-> \n",
      "Failed to search for this game version screen resolution in description!\n",
      "-> http://www.7723.cn/download/5077.htm\n",
      "-> \n"
     ]
    },
    {
     "name": "stderr",
     "output_type": "stream",
     "text": [
      "Parsing http://www.7723.cn/download/5042.htm:  13%|███▋                        | 1522/11732 [02:03<11:29, 14.82it/s]"
     ]
    },
    {
     "name": "stdout",
     "output_type": "stream",
     "text": [
      "Failed to search for this game version screen resolution in description!\n",
      "-> http://www.7723.cn/download/5067.htm\n",
      "-> \n"
     ]
    },
    {
     "name": "stderr",
     "output_type": "stream",
     "text": [
      "Parsing http://www.7723.cn/download/5001.htm:  13%|███▋                        | 1532/11732 [02:04<13:33, 12.55it/s]"
     ]
    },
    {
     "name": "stdout",
     "output_type": "stream",
     "text": [
      "Failed to search for this game version screen resolution in description!\n",
      "-> http://www.7723.cn/download/5016.htm\n",
      "-> \n"
     ]
    },
    {
     "name": "stderr",
     "output_type": "stream",
     "text": [
      "Parsing http://www.7723.cn/download/4986.htm:  13%|███▋                        | 1536/11732 [02:05<16:03, 10.58it/s]"
     ]
    },
    {
     "name": "stdout",
     "output_type": "stream",
     "text": [
      "Failed to search for this game version screen resolution in description!\n",
      "-> http://www.7723.cn/download/4994.htm\n",
      "-> \n"
     ]
    },
    {
     "name": "stderr",
     "output_type": "stream",
     "text": [
      "Parsing http://www.7723.cn/download/4869.htm:  13%|███▋                        | 1544/11732 [02:06<20:17,  8.37it/s]"
     ]
    },
    {
     "name": "stdout",
     "output_type": "stream",
     "text": [
      "Failed to search for this game version screen resolution in description!\n",
      "-> http://www.7723.cn/download/4947.htm\n",
      "-> \n"
     ]
    },
    {
     "name": "stderr",
     "output_type": "stream",
     "text": [
      "Parsing http://www.7723.cn/download/4859.htm:  13%|███▋                        | 1550/11732 [02:06<14:28, 11.73it/s]"
     ]
    },
    {
     "name": "stdout",
     "output_type": "stream",
     "text": [
      "Failed to search for this game version screen resolution in description!\n",
      "-> http://www.7723.cn/download/4866.htm\n",
      "-> \n"
     ]
    },
    {
     "name": "stderr",
     "output_type": "stream",
     "text": [
      "Parsing http://www.7723.cn/download/4758.htm:  13%|███▋                        | 1566/11732 [02:07<12:32, 13.52it/s]"
     ]
    },
    {
     "name": "stdout",
     "output_type": "stream",
     "text": [
      "Failed to search for this game version screen resolution in description!\n",
      "-> http://www.7723.cn/download/4769.htm\n",
      "-> \n"
     ]
    },
    {
     "name": "stderr",
     "output_type": "stream",
     "text": [
      "Parsing http://www.7723.cn/download/4668.htm:  14%|███▊                        | 1586/11732 [02:09<11:28, 14.73it/s]"
     ]
    },
    {
     "name": "stdout",
     "output_type": "stream",
     "text": [
      "Failed to search for this game version screen resolution in description!\n",
      "-> http://www.7723.cn/download/4689.htm\n",
      "-> \n"
     ]
    },
    {
     "name": "stderr",
     "output_type": "stream",
     "text": [
      "Parsing http://www.7723.cn/download/4443.htm:  14%|███▉                        | 1630/11732 [02:12<11:55, 14.13it/s]"
     ]
    },
    {
     "name": "stdout",
     "output_type": "stream",
     "text": [
      "Failed to search for this game version screen resolution in description!\n",
      "-> http://www.7723.cn/download/4471.htm\n",
      "-> \n"
     ]
    },
    {
     "name": "stderr",
     "output_type": "stream",
     "text": [
      "Parsing http://www.7723.cn/download/4430.htm:  14%|███▉                        | 1634/11732 [02:12<11:20, 14.85it/s]"
     ]
    },
    {
     "name": "stdout",
     "output_type": "stream",
     "text": [
      "Failed to search for this game version screen resolution in description!\n",
      "-> http://www.7723.cn/download/4441.htm\n",
      "-> \n"
     ]
    },
    {
     "name": "stderr",
     "output_type": "stream",
     "text": [
      "Parsing http://www.7723.cn/download/4209.htm:  14%|███▉                        | 1654/11732 [02:14<10:53, 15.42it/s]"
     ]
    },
    {
     "name": "stdout",
     "output_type": "stream",
     "text": [
      "Failed to search for this game version screen resolution in description!\n",
      "-> http://www.7723.cn/download/4233.htm\n",
      "-> \n",
      "Failed to search for this game version screen resolution in description!\n",
      "-> http://www.7723.cn/download/4233.htm\n",
      "-> \n"
     ]
    },
    {
     "name": "stderr",
     "output_type": "stream",
     "text": [
      "Parsing http://www.7723.cn/download/3999.htm:  14%|████                        | 1684/11732 [02:16<11:28, 14.58it/s]"
     ]
    },
    {
     "name": "stdout",
     "output_type": "stream",
     "text": [
      "Failed to search for this game version screen resolution in description!\n",
      "-> http://www.7723.cn/download/4011.htm\n",
      "-> \n",
      "Failed to search for this game version screen resolution in description!\n",
      "-> http://www.7723.cn/download/4002.htm\n",
      "-> \n"
     ]
    },
    {
     "name": "stderr",
     "output_type": "stream",
     "text": [
      "Parsing http://www.7723.cn/download/3848.htm:  15%|████                        | 1722/11732 [02:18<11:17, 14.78it/s]"
     ]
    },
    {
     "name": "stdout",
     "output_type": "stream",
     "text": [
      "Failed to search for this game version screen resolution in description!\n",
      "-> http://www.7723.cn/download/3865.htm\n",
      "-> \n",
      "Failed to search for this game version screen resolution in description!\n",
      "-> http://www.7723.cn/download/3865.htm\n",
      "-> \n",
      "Failed to search for this game version screen resolution in description!\n",
      "-> http://www.7723.cn/download/3860.htm\n",
      "-> \n",
      "Failed to search for this game version screen resolution in description!\n",
      "-> http://www.7723.cn/download/3860.htm\n",
      "-> \n"
     ]
    },
    {
     "name": "stderr",
     "output_type": "stream",
     "text": [
      "Parsing http://www.7723.cn/download/3805.htm:  15%|████▏                       | 1732/11732 [02:19<11:00, 15.15it/s]"
     ]
    },
    {
     "name": "stdout",
     "output_type": "stream",
     "text": [
      "Failed to search for this game version screen resolution in description!\n",
      "-> http://www.7723.cn/download/3815.htm\n",
      "-> \n"
     ]
    },
    {
     "name": "stderr",
     "output_type": "stream",
     "text": [
      "Parsing http://www.7723.cn/download/3773.htm:  15%|████▏                       | 1738/11732 [02:19<10:27, 15.94it/s]"
     ]
    },
    {
     "name": "stdout",
     "output_type": "stream",
     "text": [
      "Failed to search for this game version screen resolution in description!\n",
      "-> http://www.7723.cn/download/3796.htm\n",
      "-> \n",
      "Failed to search for this game version screen resolution in description!\n",
      "-> http://www.7723.cn/download/3796.htm\n",
      "-> \n",
      "Failed to search for this game version screen resolution in description!\n",
      "->"
     ]
    },
    {
     "name": "stderr",
     "output_type": "stream",
     "text": [
      "Parsing http://www.7723.cn/download/3753.htm:  15%|████▏                       | 1740/11732 [02:20<11:30, 14.46it/s]"
     ]
    },
    {
     "name": "stdout",
     "output_type": "stream",
     "text": [
      " http://www.7723.cn/download/3773.htm\n",
      "-> \n",
      "Failed to search for this game version screen resolution in description!\n",
      "-> http://www.7723.cn/download/3773.htm\n",
      "-> \n"
     ]
    },
    {
     "name": "stderr",
     "output_type": "stream",
     "text": [
      "Parsing http://www.7723.cn/download/3657.htm:  15%|████▏                       | 1750/11732 [02:20<10:58, 15.15it/s]"
     ]
    },
    {
     "name": "stdout",
     "output_type": "stream",
     "text": [
      "Failed to search for this game version screen resolution in description!\n",
      "-> http://www.7723.cn/download/3700.htm\n",
      "-> \n",
      "Failed to search for this game version screen resolution in description!\n",
      "-> http://www.7723.cn/download/3700.htm\n",
      "-> \n"
     ]
    },
    {
     "name": "stderr",
     "output_type": "stream",
     "text": [
      "Parsing http://www.7723.cn/download/3611.htm:  15%|████▏                       | 1760/11732 [02:21<10:42, 15.52it/s]"
     ]
    },
    {
     "name": "stdout",
     "output_type": "stream",
     "text": [
      "Failed to search for this game version screen resolution in description!\n",
      "-> http://www.7723.cn/download/3625.htm\n",
      "-> \n",
      "Failed to search for this game version screen resolution in description!\n",
      "-> http://www.7723.cn/download/3625.htm\n",
      "-> \n"
     ]
    },
    {
     "name": "stderr",
     "output_type": "stream",
     "text": [
      "Parsing http://www.7723.cn/download/3507.htm:  15%|████▎                       | 1782/11732 [02:22<10:12, 16.25it/s]"
     ]
    },
    {
     "name": "stdout",
     "output_type": "stream",
     "text": [
      "Failed to search for this game version screen resolution in description!\n",
      "-> http://www.7723.cn/download/3517.htm\n",
      "-> \n"
     ]
    },
    {
     "name": "stderr",
     "output_type": "stream",
     "text": [
      "Parsing http://www.7723.cn/download/3210.htm:  16%|████▍                       | 1836/11732 [02:26<10:38, 15.51it/s]"
     ]
    },
    {
     "name": "stdout",
     "output_type": "stream",
     "text": [
      "Failed to search for this game version screen resolution in description!\n",
      "-> http://www.7723.cn/download/3250.htm\n",
      "-> \n"
     ]
    },
    {
     "name": "stderr",
     "output_type": "stream",
     "text": [
      "Parsing http://www.7723.cn/download/3176.htm:  16%|████▍                       | 1842/11732 [02:26<10:20, 15.95it/s]"
     ]
    },
    {
     "name": "stdout",
     "output_type": "stream",
     "text": [
      "Failed to search for this game version screen resolution in description!\n",
      "-> http://www.7723.cn/download/3189.htm\n",
      "-> \n",
      "Failed to search for this game version screen resolution in description!\n",
      "-> http://www.7723.cn/download/3189.htm\n",
      "-> \n",
      "Failed to search for this game version screen resolution in description!\n",
      "-> http://www.7723.cn/download/3185.htm\n",
      "-> \n",
      "Failed to search for this game version screen resolution in description!\n",
      "-> http://www.7723.cn/download/3181.htm\n",
      "-> \n"
     ]
    },
    {
     "name": "stderr",
     "output_type": "stream",
     "text": [
      "Parsing http://www.7723.cn/download/3162.htm:  16%|████▍                       | 1848/11732 [02:26<10:27, 15.76it/s]"
     ]
    },
    {
     "name": "stdout",
     "output_type": "stream",
     "text": [
      "Failed to search for this game version screen resolution in description!\n",
      "-> http://www.7723.cn/download/3172.htm\n",
      "-> \n",
      "Failed to search for this game version screen resolution in description!\n",
      "-> http://www.7723.cn/download/3169.htm\n",
      "-> \n",
      "Failed to search for this game version screen resolution in description!\n",
      "-> http://www.7723.cn/download/3169.htm\n",
      "-> \n"
     ]
    },
    {
     "name": "stderr",
     "output_type": "stream",
     "text": [
      "Parsing http://www.7723.cn/download/3030.htm:  16%|████▍                       | 1860/11732 [02:27<10:11, 16.15it/s]"
     ]
    },
    {
     "name": "stdout",
     "output_type": "stream",
     "text": [
      "Failed to search for this game version screen resolution in description!\n",
      "-> http://www.7723.cn/download/3056.htm\n",
      "-> \n",
      "Failed to search for this game version screen resolution in description!\n",
      "-> http://www.7723.cn/download/3056.htm\n",
      "-> \n",
      "Failed to search for this game version screen resolution in description!\n",
      "-> http://www.7723.cn/download/3030.htm\n",
      "-> \n"
     ]
    },
    {
     "name": "stderr",
     "output_type": "stream",
     "text": [
      "Parsing http://www.7723.cn/download/3001.htm:  16%|████▍                       | 1864/11732 [02:27<10:20, 15.90it/s]"
     ]
    },
    {
     "name": "stdout",
     "output_type": "stream",
     "text": [
      "Failed to search for this game version screen resolution in description!\n",
      "-> http://www.7723.cn/download/3022.htm\n",
      "-> \n"
     ]
    },
    {
     "name": "stderr",
     "output_type": "stream",
     "text": [
      "Parsing http://www.7723.cn/download/1837.htm:  17%|████▊                       | 2008/11732 [02:37<10:34, 15.33it/s]"
     ]
    },
    {
     "name": "stdout",
     "output_type": "stream",
     "text": [
      "Failed to search for this game version screen resolution in description!\n",
      "-> http://www.7723.cn/download/1856.htm\n",
      "-> \n"
     ]
    },
    {
     "name": "stderr",
     "output_type": "stream",
     "text": [
      "Parsing http://www.7723.cn/download/1498.htm:  17%|████▉                       | 2048/11732 [02:39<11:09, 14.47it/s]"
     ]
    },
    {
     "name": "stdout",
     "output_type": "stream",
     "text": [
      "Failed to search for this game version screen resolution in description!\n",
      "-> http://www.7723.cn/download/1516.htm\n",
      "-> \n"
     ]
    },
    {
     "name": "stderr",
     "output_type": "stream",
     "text": [
      "Parsing http://www.7723.cn/download/272.htm:  18%|█████▎                       | 2128/11732 [02:45<10:49, 14.78it/s]"
     ]
    },
    {
     "name": "stdout",
     "output_type": "stream",
     "text": [
      "Failed to search for this game version screen resolution in description!\n",
      "-> http://www.7723.cn/download/290.htm\n",
      "-> \n"
     ]
    },
    {
     "name": "stderr",
     "output_type": "stream",
     "text": [
      "Parsing http://www.7723.cn/download/45.htm:  18%|█████▍                        | 2146/11732 [02:46<10:29, 15.24it/s]"
     ]
    },
    {
     "name": "stdout",
     "output_type": "stream",
     "text": [
      "Failed to search for this game version screen resolution in description!\n",
      "-> http://www.7723.cn/download/54.htm\n",
      "-> \n"
     ]
    },
    {
     "name": "stderr",
     "output_type": "stream",
     "text": [
      "Parsing http://www.7723.cn/download/12137.htm:  18%|████▉                      | 2158/11732 [02:47<12:15, 13.02it/s]"
     ]
    },
    {
     "name": "stdout",
     "output_type": "stream",
     "text": [
      "Failed to search for this game version screen resolution in description!\n",
      "-> http://www.7723.cn/download/12144.htm\n",
      "-> \n"
     ]
    },
    {
     "name": "stderr",
     "output_type": "stream",
     "text": [
      "Parsing http://www.7723.cn/download/11962.htm:  19%|█████                      | 2210/11732 [02:51<11:41, 13.56it/s]"
     ]
    },
    {
     "name": "stdout",
     "output_type": "stream",
     "text": [
      "Failed to search for this game version screen resolution in description!\n",
      "-> http://www.7723.cn/download/5453.htm\n",
      "-> \n"
     ]
    },
    {
     "name": "stderr",
     "output_type": "stream",
     "text": [
      "Parsing http://www.7723.cn/download/11399.htm:  20%|█████▎                     | 2314/11732 [02:59<12:30, 12.54it/s]"
     ]
    },
    {
     "name": "stdout",
     "output_type": "stream",
     "text": [
      "Failed to search for this game version screen resolution in description!\n",
      "-> http://www.7723.cn/download/11441.htm\n",
      "-> \n",
      "Failed to search for this game version screen resolution in description!\n",
      "-> http://www.7723.cn/download/11441.htm\n",
      "-> \n",
      "Failed to search for this game version screen resolution in description!\n",
      "-> http://www.7723.cn/download/11441.htm\n",
      "-> \n",
      "Failed to search for this game version screen resolution in description!\n",
      "-> http://www.7723.cn/download/11441.htm\n",
      "-> \n",
      "Failed to search for this game version screen resolution in description!\n",
      "-> http://www.7723.cn/download/11441.htm\n",
      "-> \n",
      "Failed to search for this game version screen resolution in description!\n",
      "-> http://www.7723.cn/download/11441.htm\n",
      "-> \n",
      "Failed to search for this game version screen resolution in description!\n",
      "-> http://www.7723.cn/download/11441.htm\n",
      "-> \n",
      "Failed to search for this game version screen resolution in description!\n",
      "-> http://www.7723.cn/download/11441.htm\n",
      "-> \n",
      "Failed to search for this game version screen resolution in description!\n",
      "-> http://www.7723.cn/download/11441.htm\n",
      "-> \n",
      "Failed to search for this game version screen resolution in description!\n",
      "-> http://www.7723.cn/download/11441.htm\n",
      "-> \n",
      "Failed to search for this game version screen resolution in description!\n",
      "-> http://www.7723.cn/download/11441.htm\n",
      "-> \n",
      "Failed to search for this game version screen resolution in description!\n",
      "-> http://www.7723.cn/download/11441.htm\n",
      "-> \n",
      "Failed to search for this game version screen resolution in description!\n",
      "-> http://www.7723.cn/download/11441.htm\n",
      "-> \n",
      "Failed to search for this game version screen resolution in description!\n",
      "-> http://www.7723.cn/download/11441.htm\n",
      "-> \n",
      "Failed to search for this game version screen resolution in description!\n",
      "-> http://www.7723.cn/download/11441.htm\n",
      "-> \n",
      "Failed to search for this game version screen resolution in description!\n",
      "-> http://www.7723.cn/download/11441.htm\n",
      "-> \n",
      "Failed to search for this game version screen resolution in description!\n",
      "-> http://www.7723.cn/download/11441.htm\n",
      "-> \n",
      "Failed to search for this game version screen resolution in description!\n",
      "-> http://www.7723.cn/download/11441.htm\n",
      "-> \n",
      "Failed to search for this game version screen resolution in description!\n",
      "-> http://www.7723.cn/download/11441.htm\n",
      "-> \n",
      "Failed to search for this game version screen resolution in description!\n",
      "-> http://www.7723.cn/download/11441.htm\n",
      "-> \n",
      "Failed to search for this game version screen resolution in description!\n",
      "-> http://www.7723.cn/download/11441.htm\n",
      "-> \n",
      "Failed to search for this game version screen resolution in description!\n",
      "-> http://www.7723.cn/download/11441.htm\n",
      "-> \n",
      "Failed to search for this game version screen resolution in description!\n",
      "-> http://www.7723.cn/download/11441.htm\n",
      "-> \n",
      "Failed to search for this game version screen resolution in description!\n",
      "-> http://www.7723.cn/download/11441.htm\n",
      "-> \n",
      "Failed to search for this game version screen resolution in description!\n",
      "-> http://www.7723.cn/download/11441.htm\n",
      "-> \n",
      "Failed to search for this game version screen resolution in description!\n",
      "-> http://www.7723.cn/download/11441.htm\n",
      "-> \n",
      "Failed to search for this game version screen resolution in description!\n",
      "-> http://www.7723.cn/download/11441.htm\n",
      "-> \n",
      "Failed to search for this game version screen resolution in description!\n",
      "-> http://www.7723.cn/download/11441.htm\n",
      "-> \n"
     ]
    },
    {
     "name": "stderr",
     "output_type": "stream",
     "text": [
      "Parsing http://www.7723.cn/download/9098.htm:  24%|██████▊                     | 2829/11732 [03:41<11:03, 13.41it/s]"
     ]
    },
    {
     "name": "stdout",
     "output_type": "stream",
     "text": [
      "Failed to search for this game version screen resolution in description!\n",
      "-> http://www.7723.cn/download/9110.htm\n",
      "-> \n"
     ]
    },
    {
     "name": "stderr",
     "output_type": "stream",
     "text": [
      "Parsing http://www.7723.cn/download/6847.htm:  29%|███████▉                    | 3347/11732 [04:19<09:29, 14.71it/s]"
     ]
    },
    {
     "name": "stdout",
     "output_type": "stream",
     "text": [
      "Failed to search for this game version screen resolution in description!\n",
      "-> http://www.7723.cn/download/6859.htm\n",
      "-> \n"
     ]
    },
    {
     "name": "stderr",
     "output_type": "stream",
     "text": [
      "Parsing http://www.7723.cn/download/6810.htm:  29%|████████                    | 3361/11732 [04:20<08:57, 15.58it/s]"
     ]
    },
    {
     "name": "stdout",
     "output_type": "stream",
     "text": [
      "Failed to search for this game version screen resolution in description!\n",
      "-> http://www.7723.cn/download/6822.htm\n",
      "-> \n"
     ]
    },
    {
     "name": "stderr",
     "output_type": "stream",
     "text": [
      "Parsing http://www.7723.cn/download/6802.htm:  29%|████████                    | 3365/11732 [04:20<09:16, 15.04it/s]"
     ]
    },
    {
     "name": "stdout",
     "output_type": "stream",
     "text": [
      "Failed to search for this game version screen resolution in description!\n",
      "-> http://www.7723.cn/download/6810.htm\n",
      "-> \n",
      "Failed to search for this game version screen resolution in description!\n",
      "-> http://www.7723.cn/download/6809.htm\n",
      "-> \n"
     ]
    },
    {
     "name": "stderr",
     "output_type": "stream",
     "text": [
      "Parsing http://www.7723.cn/download/6792.htm:  29%|████████                    | 3367/11732 [04:20<09:33, 14.58it/s]"
     ]
    },
    {
     "name": "stdout",
     "output_type": "stream",
     "text": [
      "Failed to search for this game version screen resolution in description!\n",
      "-> http://www.7723.cn/download/6802.htm\n",
      "-> \n"
     ]
    },
    {
     "name": "stderr",
     "output_type": "stream",
     "text": [
      "Parsing http://www.7723.cn/download/6768.htm:  29%|████████                    | 3373/11732 [04:21<10:07, 13.76it/s]"
     ]
    },
    {
     "name": "stdout",
     "output_type": "stream",
     "text": [
      "Failed to search for this game version screen resolution in description!\n",
      "-> http://www.7723.cn/download/6777.htm\n",
      "-> \n",
      "Failed to search for this game version screen resolution in description!\n",
      "-> http://www.7723.cn/download/6775.htm\n",
      "-> \n",
      "Failed to search for this game version screen resolution in description!\n",
      "->"
     ]
    },
    {
     "name": "stderr",
     "output_type": "stream",
     "text": [
      "Parsing http://www.7723.cn/download/6752.htm:  29%|████████                    | 3375/11732 [04:21<10:28, 13.30it/s]"
     ]
    },
    {
     "name": "stdout",
     "output_type": "stream",
     "text": [
      " http://www.7723.cn/download/6768.htm\n",
      "-> \n",
      "Failed to search for this game version screen resolution in description!\n",
      "-> http://www.7723.cn/download/6763.htm\n",
      "-> \n"
     ]
    },
    {
     "name": "stderr",
     "output_type": "stream",
     "text": [
      "Parsing http://www.7723.cn/download/6740.htm:  29%|████████                    | 3379/11732 [04:21<10:14, 13.59it/s]"
     ]
    },
    {
     "name": "stdout",
     "output_type": "stream",
     "text": [
      "Failed to search for this game version screen resolution in description!\n",
      "-> http://www.7723.cn/download/6751.htm\n",
      "-> \n",
      "Failed to search for this game version screen resolution in description!\n",
      "-> http://www.7723.cn/download/6741.htm\n",
      "-> \n"
     ]
    },
    {
     "name": "stderr",
     "output_type": "stream",
     "text": [
      "Parsing http://www.7723.cn/download/6717.htm:  29%|████████                    | 3385/11732 [04:22<09:39, 14.41it/s]"
     ]
    },
    {
     "name": "stdout",
     "output_type": "stream",
     "text": [
      "Failed to search for this game version screen resolution in description!\n",
      "-> http://www.7723.cn/download/6729.htm\n",
      "-> \n",
      "Failed to search for this game version screen resolution in description!\n",
      "-> http://www.7723.cn/download/6727.htm\n",
      "-> \n",
      "Failed to search for this game version screen resolution in description!\n",
      "-> http://www.7723.cn/download/6724.htm\n",
      "-> \n"
     ]
    },
    {
     "name": "stderr",
     "output_type": "stream",
     "text": [
      "Parsing http://www.7723.cn/download/6666.htm:  29%|████████                    | 3395/11732 [04:22<09:25, 14.75it/s]"
     ]
    },
    {
     "name": "stdout",
     "output_type": "stream",
     "text": [
      "Failed to search for this game version screen resolution in description!\n",
      "-> http://www.7723.cn/download/6673.htm\n",
      "-> \n",
      "Failed to search for this game version screen resolution in description!\n",
      "-> http://www.7723.cn/download/6672.htm\n",
      "-> \n"
     ]
    },
    {
     "name": "stderr",
     "output_type": "stream",
     "text": [
      "Parsing http://www.7723.cn/download/6624.htm:  29%|████████                    | 3403/11732 [04:23<09:29, 14.62it/s]"
     ]
    },
    {
     "name": "stdout",
     "output_type": "stream",
     "text": [
      "Failed to search for this game version screen resolution in description!\n",
      "-> http://www.7723.cn/download/6653.htm\n",
      "-> \n",
      "Failed to search for this game version screen resolution in description!\n",
      "-> http://www.7723.cn/download/6638.htm\n",
      "-> \n"
     ]
    },
    {
     "name": "stderr",
     "output_type": "stream",
     "text": [
      "Parsing http://www.7723.cn/download/6598.htm:  29%|████████▏                   | 3409/11732 [04:23<10:04, 13.77it/s]"
     ]
    },
    {
     "name": "stdout",
     "output_type": "stream",
     "text": [
      "Failed to search for this game version screen resolution in description!\n",
      "-> http://www.7723.cn/download/6607.htm\n",
      "-> \n",
      "Failed to search for this game version screen resolution in description!\n",
      "-> http://www.7723.cn/download/6605.htm\n",
      "-> \n",
      "Failed to search for this game version screen resolution in description!\n",
      "-> http://www.7723.cn/download/6601.htm\n",
      "-> \n"
     ]
    },
    {
     "name": "stderr",
     "output_type": "stream",
     "text": [
      "Parsing http://www.7723.cn/download/6507.htm:  29%|████████▏                   | 3425/11732 [04:24<10:08, 13.65it/s]"
     ]
    },
    {
     "name": "stdout",
     "output_type": "stream",
     "text": [
      "Failed to search for this game version screen resolution in description!\n",
      "-> http://www.7723.cn/download/6521.htm\n",
      "-> \n",
      "Failed to search for this game version screen resolution in description!\n",
      "-> http://www.7723.cn/download/6512.htm\n",
      "-> \n"
     ]
    },
    {
     "name": "stderr",
     "output_type": "stream",
     "text": [
      "Parsing http://www.7723.cn/download/6483.htm:  29%|████████▏                   | 3431/11732 [04:25<10:00, 13.83it/s]"
     ]
    },
    {
     "name": "stdout",
     "output_type": "stream",
     "text": [
      "Failed to search for this game version screen resolution in description!\n",
      "-> http://www.7723.cn/download/6498.htm\n",
      "-> \n",
      "Failed to search for this game version screen resolution in description!\n",
      "-> http://www.7723.cn/download/6494.htm\n",
      "-> \n"
     ]
    },
    {
     "name": "stderr",
     "output_type": "stream",
     "text": [
      "Parsing http://www.7723.cn/download/6468.htm:  29%|████████▏                   | 3435/11732 [04:25<10:11, 13.57it/s]"
     ]
    },
    {
     "name": "stdout",
     "output_type": "stream",
     "text": [
      "Failed to search for this game version screen resolution in description!\n",
      "-> http://www.7723.cn/download/6478.htm\n",
      "-> \n",
      "Failed to search for this game version screen resolution in description!\n",
      "-> http://www.7723.cn/download/6475.htm\n",
      "-> \n"
     ]
    },
    {
     "name": "stderr",
     "output_type": "stream",
     "text": [
      "Parsing http://www.7723.cn/download/6458.htm:  29%|████████▏                   | 3437/11732 [04:25<09:54, 13.96it/s]"
     ]
    },
    {
     "name": "stdout",
     "output_type": "stream",
     "text": [
      "Failed to search for this game version screen resolution in description!\n",
      "-> http://www.7723.cn/download/6468.htm\n",
      "-> \n"
     ]
    },
    {
     "name": "stderr",
     "output_type": "stream",
     "text": [
      "Parsing http://www.7723.cn/download/6430.htm:  29%|████████▏                   | 3443/11732 [04:26<09:32, 14.47it/s]"
     ]
    },
    {
     "name": "stdout",
     "output_type": "stream",
     "text": [
      "Failed to search for this game version screen resolution in description!\n",
      "-> http://www.7723.cn/download/6451.htm\n",
      "-> \n"
     ]
    },
    {
     "name": "stderr",
     "output_type": "stream",
     "text": [
      "Parsing http://www.7723.cn/download/6404.htm:  29%|████████▏                   | 3447/11732 [04:26<09:29, 14.54it/s]"
     ]
    },
    {
     "name": "stdout",
     "output_type": "stream",
     "text": [
      "Failed to search for this game version screen resolution in description!\n",
      "-> http://www.7723.cn/download/6425.htm\n",
      "-> \n",
      "Failed to search for this game version screen resolution in description!\n",
      "-> http://www.7723.cn/download/6419.htm\n",
      "-> \n"
     ]
    },
    {
     "name": "stderr",
     "output_type": "stream",
     "text": [
      "Parsing http://www.7723.cn/download/6388.htm:  29%|████████▏                   | 3453/11732 [04:26<09:17, 14.85it/s]"
     ]
    },
    {
     "name": "stdout",
     "output_type": "stream",
     "text": [
      "Failed to search for this game version screen resolution in description!\n",
      "-> http://www.7723.cn/download/6400.htm\n",
      "-> \n"
     ]
    },
    {
     "name": "stderr",
     "output_type": "stream",
     "text": [
      "Parsing http://www.7723.cn/download/6368.htm:  29%|████████▎                   | 3459/11732 [04:27<10:28, 13.15it/s]"
     ]
    },
    {
     "name": "stdout",
     "output_type": "stream",
     "text": [
      "Failed to search for this game version screen resolution in description!\n",
      "-> http://www.7723.cn/download/6379.htm\n",
      "-> \n",
      "Failed to search for this game version screen resolution in description!\n",
      "-> http://www.7723.cn/download/6373.htm\n",
      "-> \n"
     ]
    },
    {
     "name": "stderr",
     "output_type": "stream",
     "text": [
      "Parsing http://www.7723.cn/download/6344.htm:  30%|████████▎                   | 3465/11732 [04:27<10:44, 12.83it/s]"
     ]
    },
    {
     "name": "stdout",
     "output_type": "stream",
     "text": [
      "Failed to search for this game version screen resolution in description!\n",
      "-> http://www.7723.cn/download/6354.htm\n",
      "-> \n",
      "Failed to search for this game version screen resolution in description!\n",
      "-> http://www.7723.cn/download/6353.htm\n",
      "-> \n"
     ]
    },
    {
     "name": "stderr",
     "output_type": "stream",
     "text": [
      "Parsing http://www.7723.cn/download/6313.htm:  30%|████████▎                   | 3471/11732 [04:28<09:28, 14.53it/s]"
     ]
    },
    {
     "name": "stdout",
     "output_type": "stream",
     "text": [
      "Failed to search for this game version screen resolution in description!\n",
      "-> http://www.7723.cn/download/6327.htm\n",
      "-> \n"
     ]
    },
    {
     "name": "stderr",
     "output_type": "stream",
     "text": [
      "Parsing http://www.7723.cn/download/6304.htm:  30%|████████▎                   | 3475/11732 [04:28<09:14, 14.89it/s]"
     ]
    },
    {
     "name": "stdout",
     "output_type": "stream",
     "text": [
      "Failed to search for this game version screen resolution in description!\n",
      "-> http://www.7723.cn/download/6312.htm\n",
      "-> \n",
      "Failed to search for this game version screen resolution in description!\n",
      "-> http://www.7723.cn/download/6307.htm\n",
      "-> \n",
      "Failed to search for this game version screen resolution in description!\n",
      "-> http://www.7723.cn/download/6306.htm\n",
      "-> \n"
     ]
    },
    {
     "name": "stderr",
     "output_type": "stream",
     "text": [
      "Parsing http://www.7723.cn/download/6286.htm:  30%|████████▎                   | 3479/11732 [04:28<09:34, 14.37it/s]"
     ]
    },
    {
     "name": "stdout",
     "output_type": "stream",
     "text": [
      "Failed to search for this game version screen resolution in description!\n",
      "-> http://www.7723.cn/download/6304.htm\n",
      "-> \n",
      "Failed to search for this game version screen resolution in description!\n",
      "-> http://www.7723.cn/download/6294.htm\n",
      "-> \n"
     ]
    },
    {
     "name": "stderr",
     "output_type": "stream",
     "text": [
      "Parsing http://www.7723.cn/download/6201.htm:  30%|████████▎                   | 3489/11732 [04:29<09:42, 14.15it/s]"
     ]
    },
    {
     "name": "stdout",
     "output_type": "stream",
     "text": [
      "Failed to search for this game version screen resolution in description!\n",
      "-> http://www.7723.cn/download/6220.htm\n",
      "-> \n",
      "Failed to search for this game version screen resolution in description!\n",
      "-> http://www.7723.cn/download/6211.htm\n",
      "-> \n"
     ]
    },
    {
     "name": "stderr",
     "output_type": "stream",
     "text": [
      "Parsing http://www.7723.cn/download/6183.htm:  30%|████████▎                   | 3493/11732 [04:29<09:23, 14.62it/s]"
     ]
    },
    {
     "name": "stdout",
     "output_type": "stream",
     "text": [
      "Failed to search for this game version screen resolution in description!\n",
      "-> http://www.7723.cn/download/6201.htm\n",
      "-> \n"
     ]
    },
    {
     "name": "stderr",
     "output_type": "stream",
     "text": [
      "Parsing http://www.7723.cn/download/6169.htm:  30%|████████▎                   | 3497/11732 [04:29<09:02, 15.19it/s]"
     ]
    },
    {
     "name": "stdout",
     "output_type": "stream",
     "text": [
      "Failed to search for this game version screen resolution in description!\n",
      "-> http://www.7723.cn/download/6183.htm\n",
      "-> \n",
      "Failed to search for this game version screen resolution in description!\n",
      "-> http://www.7723.cn/download/6177.htm\n",
      "-> \n"
     ]
    },
    {
     "name": "stderr",
     "output_type": "stream",
     "text": [
      "Parsing http://www.7723.cn/download/6150.htm:  30%|████████▎                   | 3501/11732 [04:30<09:27, 14.50it/s]"
     ]
    },
    {
     "name": "stdout",
     "output_type": "stream",
     "text": [
      "Failed to search for this game version screen resolution in description!\n",
      "-> http://www.7723.cn/download/6162.htm\n",
      "-> \n"
     ]
    },
    {
     "name": "stderr",
     "output_type": "stream",
     "text": [
      "Parsing http://www.7723.cn/download/6114.htm:  30%|████████▎                   | 3505/11732 [04:30<09:29, 14.45it/s]"
     ]
    },
    {
     "name": "stdout",
     "output_type": "stream",
     "text": [
      "Failed to search for this game version screen resolution in description!\n",
      "-> http://www.7723.cn/download/6146.htm\n",
      "-> \n"
     ]
    },
    {
     "name": "stderr",
     "output_type": "stream",
     "text": [
      "Parsing http://www.7723.cn/download/6097.htm:  30%|████████▎                   | 3509/11732 [04:30<09:11, 14.90it/s]"
     ]
    },
    {
     "name": "stdout",
     "output_type": "stream",
     "text": [
      "Failed to search for this game version screen resolution in description!\n",
      "-> http://www.7723.cn/download/6106.htm\n",
      "-> \n"
     ]
    },
    {
     "name": "stderr",
     "output_type": "stream",
     "text": [
      "Parsing http://www.7723.cn/download/6084.htm:  30%|████████▍                   | 3515/11732 [04:31<10:15, 13.35it/s]"
     ]
    },
    {
     "name": "stdout",
     "output_type": "stream",
     "text": [
      "Failed to search for this game version screen resolution in description!\n",
      "-> http://www.7723.cn/download/6089.htm\n",
      "-> \n",
      "Failed to search for this game version screen resolution in description!\n",
      "-> http://www.7723.cn/download/6088.htm\n",
      "-> \n",
      "Failed to search for this game version screen resolution in description!\n",
      "-> http://www.7723.cn/download/6085.htm\n",
      "-> \n"
     ]
    },
    {
     "name": "stderr",
     "output_type": "stream",
     "text": [
      "Parsing http://www.7723.cn/download/6080.htm:  30%|████████▍                   | 3517/11732 [04:31<10:19, 13.27it/s]"
     ]
    },
    {
     "name": "stdout",
     "output_type": "stream",
     "text": [
      "Failed to search for this game version screen resolution in description!\n",
      "-> http://www.7723.cn/download/6084.htm\n",
      "-> \n"
     ]
    },
    {
     "name": "stderr",
     "output_type": "stream",
     "text": [
      "Parsing http://www.7723.cn/download/6047.htm:  30%|████████▍                   | 3523/11732 [04:31<09:19, 14.66it/s]"
     ]
    },
    {
     "name": "stdout",
     "output_type": "stream",
     "text": [
      "Failed to search for this game version screen resolution in description!\n",
      "-> http://www.7723.cn/download/6060.htm\n",
      "-> \n",
      "Failed to search for this game version screen resolution in description!\n",
      "-> http://www.7723.cn/download/6057.htm\n",
      "-> \n",
      "Failed to search for this game version screen resolution in description!\n",
      "-> http://www.7723.cn/download/6050.htm\n",
      "-> \n"
     ]
    },
    {
     "name": "stderr",
     "output_type": "stream",
     "text": [
      "Parsing http://www.7723.cn/download/5970.htm:  30%|████████▍                   | 3535/11732 [04:32<09:31, 14.34it/s]"
     ]
    },
    {
     "name": "stdout",
     "output_type": "stream",
     "text": [
      "Failed to search for this game version screen resolution in description!\n",
      "-> http://www.7723.cn/download/5994.htm\n",
      "-> \n",
      "Failed to search for this game version screen resolution in description!\n",
      "-> http://www.7723.cn/download/5990.htm\n",
      "-> \n"
     ]
    },
    {
     "name": "stderr",
     "output_type": "stream",
     "text": [
      "Parsing http://www.7723.cn/download/5958.htm:  30%|████████▍                   | 3539/11732 [04:32<09:32, 14.31it/s]"
     ]
    },
    {
     "name": "stdout",
     "output_type": "stream",
     "text": [
      "Failed to search for this game version screen resolution in description!\n",
      "-> http://www.7723.cn/download/5963.htm\n",
      "-> \n",
      "Failed to search for this game version screen resolution in description!\n",
      "-> http://www.7723.cn/download/5962.htm\n",
      "-> \n"
     ]
    },
    {
     "name": "stderr",
     "output_type": "stream",
     "text": [
      "Parsing http://www.7723.cn/download/5919.htm:  30%|████████▍                   | 3545/11732 [04:33<08:54, 15.31it/s]"
     ]
    },
    {
     "name": "stdout",
     "output_type": "stream",
     "text": [
      "Failed to search for this game version screen resolution in description!\n",
      "-> http://www.7723.cn/download/5946.htm\n",
      "-> \n",
      "Failed to search for this game version screen resolution in description!"
     ]
    },
    {
     "name": "stderr",
     "output_type": "stream",
     "text": [
      "Parsing http://www.7723.cn/download/5904.htm:  30%|████████▍                   | 3549/11732 [04:33<09:25, 14.48it/s]"
     ]
    },
    {
     "name": "stdout",
     "output_type": "stream",
     "text": [
      "\n",
      "-> http://www.7723.cn/download/5919.htm\n",
      "-> \n"
     ]
    },
    {
     "name": "stderr",
     "output_type": "stream",
     "text": [
      "Parsing http://www.7723.cn/download/5835.htm:  30%|████████▍                   | 3559/11732 [04:34<10:17, 13.23it/s]"
     ]
    },
    {
     "name": "stdout",
     "output_type": "stream",
     "text": [
      "Failed to search for this game version screen resolution in description!\n",
      "-> http://www.7723.cn/download/5837.htm\n",
      "-> \n",
      "Failed to search for this game version screen resolution in description!\n",
      "-> http://www.7723.cn/download/5836.htm\n",
      "-> \n",
      "Failed to search for this game version screen resolution in description!\n",
      "-> http://www.7723.cn/download/5835.htm\n",
      "-> \n"
     ]
    },
    {
     "name": "stderr",
     "output_type": "stream",
     "text": [
      "Parsing http://www.7723.cn/download/5820.htm:  30%|████████▌                   | 3563/11732 [04:34<09:27, 14.38it/s]"
     ]
    },
    {
     "name": "stdout",
     "output_type": "stream",
     "text": [
      "Failed to search for this game version screen resolution in description!\n",
      "-> http://www.7723.cn/download/5828.htm\n",
      "-> \n",
      "Failed to search for this game version screen resolution in description!"
     ]
    },
    {
     "name": "stderr",
     "output_type": "stream",
     "text": [
      "Parsing http://www.7723.cn/download/5798.htm:  30%|████████▌                   | 3565/11732 [04:34<09:25, 14.43it/s]"
     ]
    },
    {
     "name": "stdout",
     "output_type": "stream",
     "text": [
      "\n",
      "-> http://www.7723.cn/download/5820.htm\n",
      "-> \n",
      "Failed to search for this game version screen resolution in description!\n",
      "-> http://www.7723.cn/download/5818.htm\n",
      "-> \n",
      "Failed to search for this game version screen resolution in description!\n",
      "-> http://www.7723.cn/download/5809.htm\n",
      "-> \n"
     ]
    },
    {
     "name": "stderr",
     "output_type": "stream",
     "text": [
      "Parsing http://www.7723.cn/download/5779.htm:  30%|████████▌                   | 3569/11732 [04:34<09:27, 14.37it/s]"
     ]
    },
    {
     "name": "stdout",
     "output_type": "stream",
     "text": [
      "Failed to search for this game version screen resolution in description!\n",
      "-> http://www.7723.cn/download/5790.htm\n",
      "-> \n",
      "Failed to search for this game version screen resolution in description!\n",
      "-> http://www.7723.cn/download/5789.htm\n",
      "-> \n",
      "Failed to search for this game version screen resolution in description!\n",
      "-> http://www.7723.cn/download/5781.htm\n",
      "-> \n"
     ]
    },
    {
     "name": "stderr",
     "output_type": "stream",
     "text": [
      "Parsing http://www.7723.cn/download/5771.htm:  30%|████████▌                   | 3575/11732 [04:35<09:09, 14.83it/s]"
     ]
    },
    {
     "name": "stdout",
     "output_type": "stream",
     "text": [
      "Failed to search for this game version screen resolution in description!\n",
      "-> http://www.7723.cn/download/5778.htm\n",
      "-> \n",
      "Failed to search for this game version screen resolution in description!\n",
      "-> http://www.7723.cn/download/5774.htm\n",
      "-> \n",
      "Failed to search for this game version screen resolution in description!\n",
      "-> http://www.7723.cn/download/5771.htm\n",
      "-> \n"
     ]
    },
    {
     "name": "stderr",
     "output_type": "stream",
     "text": [
      "Parsing http://www.7723.cn/download/5754.htm:  31%|████████▌                   | 3579/11732 [04:35<09:12, 14.75it/s]"
     ]
    },
    {
     "name": "stdout",
     "output_type": "stream",
     "text": [
      "Failed to search for this game version screen resolution in description!\n",
      "-> http://www.7723.cn/download/5765.htm\n",
      "-> \n",
      "Failed to search for this game version screen resolution in description!\n",
      "-> http://www.7723.cn/download/5763.htm\n",
      "-> \n",
      "Failed to search for this game version screen resolution in description!\n",
      "-> http://www.7723.cn/download/5761.htm\n",
      "-> \n"
     ]
    },
    {
     "name": "stderr",
     "output_type": "stream",
     "text": [
      "Parsing http://www.7723.cn/download/5744.htm:  31%|████████▌                   | 3583/11732 [04:35<09:13, 14.73it/s]"
     ]
    },
    {
     "name": "stdout",
     "output_type": "stream",
     "text": [
      "Failed to search for this game version screen resolution in description!\n",
      "-> http://www.7723.cn/download/5754.htm\n",
      "-> \n",
      "Failed to search for this game version screen resolution in description!\n",
      "-> http://www.7723.cn/download/5750.htm\n",
      "-> \n",
      "Failed to search for this game version screen resolution in description!\n",
      "-> http://www.7723.cn/download/5746.htm\n",
      "-> \n"
     ]
    },
    {
     "name": "stderr",
     "output_type": "stream",
     "text": [
      "Parsing http://www.7723.cn/download/5733.htm:  31%|████████▌                   | 3585/11732 [04:36<09:25, 14.41it/s]"
     ]
    },
    {
     "name": "stdout",
     "output_type": "stream",
     "text": [
      "Failed to search for this game version screen resolution in description!\n",
      "-> http://www.7723.cn/download/5743.htm\n",
      "-> \n",
      "Failed to search for this game version screen resolution in description!\n",
      "-> http://www.7723.cn/download/5734.htm\n",
      "-> \n"
     ]
    },
    {
     "name": "stderr",
     "output_type": "stream",
     "text": [
      "Parsing http://www.7723.cn/download/5723.htm:  31%|████████▌                   | 3589/11732 [04:36<09:08, 14.84it/s]"
     ]
    },
    {
     "name": "stdout",
     "output_type": "stream",
     "text": [
      "Failed to search for this game version screen resolution in description!\n",
      "-> http://www.7723.cn/download/5733.htm\n",
      "-> \n"
     ]
    },
    {
     "name": "stderr",
     "output_type": "stream",
     "text": [
      "Parsing http://www.7723.cn/download/5710.htm:  31%|████████▌                   | 3593/11732 [04:36<09:01, 15.03it/s]"
     ]
    },
    {
     "name": "stdout",
     "output_type": "stream",
     "text": [
      "Failed to search for this game version screen resolution in description!\n",
      "-> http://www.7723.cn/download/5723.htm\n",
      "-> \n"
     ]
    },
    {
     "name": "stderr",
     "output_type": "stream",
     "text": [
      "Parsing http://www.7723.cn/download/5688.htm:  31%|████████▌                   | 3595/11732 [04:36<09:03, 14.97it/s]"
     ]
    },
    {
     "name": "stdout",
     "output_type": "stream",
     "text": [
      "Failed to search for this game version screen resolution in description!\n",
      "-> http://www.7723.cn/download/5706.htm\n",
      "-> \n",
      "Failed to search for this game version screen resolution in description!\n",
      "-> http://www.7723.cn/download/5702.htm\n",
      "-> \n",
      "Failed to search for this game version screen resolution in description!\n",
      "-> http://www.7723.cn/download/5698.htm\n",
      "-> \n"
     ]
    },
    {
     "name": "stderr",
     "output_type": "stream",
     "text": [
      "Parsing http://www.7723.cn/download/5673.htm:  31%|████████▌                   | 3601/11732 [04:37<08:53, 15.24it/s]"
     ]
    },
    {
     "name": "stdout",
     "output_type": "stream",
     "text": [
      "Failed to search for this game version screen resolution in description!\n",
      "-> http://www.7723.cn/download/5687.htm\n",
      "-> \n"
     ]
    },
    {
     "name": "stderr",
     "output_type": "stream",
     "text": [
      "Parsing http://www.7723.cn/download/5662.htm:  31%|████████▌                   | 3603/11732 [04:37<08:50, 15.31it/s]"
     ]
    },
    {
     "name": "stdout",
     "output_type": "stream",
     "text": [
      "Failed to search for this game version screen resolution in description!\n",
      "-> http://www.7723.cn/download/5666.htm\n",
      "-> \n"
     ]
    },
    {
     "name": "stderr",
     "output_type": "stream",
     "text": [
      "Parsing http://www.7723.cn/download/5650.htm:  31%|████████▌                   | 3609/11732 [04:37<09:25, 14.37it/s]"
     ]
    },
    {
     "name": "stdout",
     "output_type": "stream",
     "text": [
      "Failed to search for this game version screen resolution in description!\n",
      "-> http://www.7723.cn/download/5657.htm\n",
      "-> \n"
     ]
    },
    {
     "name": "stderr",
     "output_type": "stream",
     "text": [
      "Parsing http://www.7723.cn/download/5618.htm:  31%|████████▌                   | 3611/11732 [04:37<09:21, 14.47it/s]"
     ]
    },
    {
     "name": "stdout",
     "output_type": "stream",
     "text": [
      "Failed to search for this game version screen resolution in description!\n",
      "-> http://www.7723.cn/download/5641.htm\n",
      "-> \n",
      "Failed to search for this game version screen resolution in description!\n",
      "-> http://www.7723.cn/download/5619.htm\n",
      "-> \n",
      "Failed to search for this game version screen resolution in description!"
     ]
    },
    {
     "name": "stderr",
     "output_type": "stream",
     "text": [
      "Parsing http://www.7723.cn/download/5583.htm:  31%|████████▋                   | 3615/11732 [04:37<09:12, 14.70it/s]"
     ]
    },
    {
     "name": "stdout",
     "output_type": "stream",
     "text": [
      "\n",
      "-> http://www.7723.cn/download/5618.htm\n",
      "-> \n"
     ]
    },
    {
     "name": "stderr",
     "output_type": "stream",
     "text": [
      "Parsing http://www.7723.cn/download/5575.htm:  31%|████████▋                   | 3619/11732 [04:38<09:02, 14.95it/s]"
     ]
    },
    {
     "name": "stdout",
     "output_type": "stream",
     "text": [
      "Failed to search for this game version screen resolution in description!\n",
      "-> http://www.7723.cn/download/5582.htm\n",
      "-> \n",
      "Failed to search for this game version screen resolution in description!\n",
      "-> http://www.7723.cn/download/5577.htm\n",
      "-> \n"
     ]
    },
    {
     "name": "stderr",
     "output_type": "stream",
     "text": [
      "Parsing http://www.7723.cn/download/5555.htm:  31%|████████▋                   | 3621/11732 [04:38<09:03, 14.92it/s]"
     ]
    },
    {
     "name": "stdout",
     "output_type": "stream",
     "text": [
      "Failed to search for this game version screen resolution in description!\n",
      "-> http://www.7723.cn/download/5575.htm\n",
      "-> \n",
      "Failed to search for this game version screen resolution in description!\n",
      "-> http://www.7723.cn/download/5573.htm\n",
      "-> \n",
      "Failed to search for this game version screen resolution in description!"
     ]
    },
    {
     "name": "stderr",
     "output_type": "stream",
     "text": [
      "Parsing http://www.7723.cn/download/5535.htm:  31%|████████▋                   | 3625/11732 [04:38<09:02, 14.96it/s]"
     ]
    },
    {
     "name": "stdout",
     "output_type": "stream",
     "text": [
      "\n",
      "-> http://www.7723.cn/download/5555.htm\n",
      "-> \n"
     ]
    },
    {
     "name": "stderr",
     "output_type": "stream",
     "text": [
      "Parsing http://www.7723.cn/download/5528.htm:  31%|████████▋                   | 3629/11732 [04:38<08:52, 15.22it/s]"
     ]
    },
    {
     "name": "stdout",
     "output_type": "stream",
     "text": [
      "Failed to search for this game version screen resolution in description!\n",
      "-> http://www.7723.cn/download/5535.htm\n",
      "-> \n"
     ]
    },
    {
     "name": "stderr",
     "output_type": "stream",
     "text": [
      "Parsing http://www.7723.cn/download/5519.htm:  31%|████████▋                   | 3633/11732 [04:39<09:03, 14.91it/s]"
     ]
    },
    {
     "name": "stdout",
     "output_type": "stream",
     "text": [
      "Failed to search for this game version screen resolution in description!\n",
      "-> http://www.7723.cn/download/5527.htm\n",
      "-> \n",
      "Failed to search for this game version screen resolution in description!\n",
      "-> http://www.7723.cn/download/5526.htm\n",
      "-> \n"
     ]
    },
    {
     "name": "stderr",
     "output_type": "stream",
     "text": [
      "Parsing http://www.7723.cn/download/5485.htm:  31%|████████▋                   | 3637/11732 [04:39<08:47, 15.36it/s]"
     ]
    },
    {
     "name": "stdout",
     "output_type": "stream",
     "text": [
      "Failed to search for this game version screen resolution in description!\n",
      "-> http://www.7723.cn/download/5499.htm\n",
      "-> \n",
      "Failed to search for this game version screen resolution in description!\n",
      "-> http://www.7723.cn/download/5494.htm\n",
      "-> \n"
     ]
    },
    {
     "name": "stderr",
     "output_type": "stream",
     "text": [
      "Parsing http://www.7723.cn/download/5479.htm:  31%|████████▋                   | 3641/11732 [04:39<08:49, 15.29it/s]"
     ]
    },
    {
     "name": "stdout",
     "output_type": "stream",
     "text": [
      "Failed to search for this game version screen resolution in description!\n",
      "-> http://www.7723.cn/download/5485.htm\n",
      "-> \n"
     ]
    },
    {
     "name": "stderr",
     "output_type": "stream",
     "text": [
      "Parsing http://www.7723.cn/download/5466.htm:  31%|████████▋                   | 3645/11732 [04:39<08:58, 15.03it/s]"
     ]
    },
    {
     "name": "stdout",
     "output_type": "stream",
     "text": [
      "Failed to search for this game version screen resolution in description!\n",
      "-> http://www.7723.cn/download/5479.htm\n",
      "-> \n",
      "Failed to search for this game version screen resolution in description!\n",
      "-> http://www.7723.cn/download/5477.htm\n",
      "-> \n"
     ]
    },
    {
     "name": "stderr",
     "output_type": "stream",
     "text": [
      "Parsing http://www.7723.cn/download/5440.htm:  31%|████████▋                   | 3649/11732 [04:40<08:38, 15.59it/s]"
     ]
    },
    {
     "name": "stdout",
     "output_type": "stream",
     "text": [
      "Failed to search for this game version screen resolution in description!\n",
      "-> http://www.7723.cn/download/5466.htm\n",
      "-> \n"
     ]
    },
    {
     "name": "stderr",
     "output_type": "stream",
     "text": [
      "Parsing http://www.7723.cn/download/5413.htm:  31%|████████▋                   | 3651/11732 [04:40<10:04, 13.37it/s]"
     ]
    },
    {
     "name": "stdout",
     "output_type": "stream",
     "text": [
      "Failed to search for this game version screen resolution in description!\n",
      "-> http://www.7723.cn/download/5431.htm\n",
      "-> \n",
      "Failed to search for this game version screen resolution in description!\n",
      "-> http://www.7723.cn/download/5423.htm\n",
      "-> \n"
     ]
    },
    {
     "name": "stderr",
     "output_type": "stream",
     "text": [
      "Parsing http://www.7723.cn/download/5393.htm:  31%|████████▋                   | 3655/11732 [04:40<09:29, 14.19it/s]"
     ]
    },
    {
     "name": "stdout",
     "output_type": "stream",
     "text": [
      "Failed to search for this game version screen resolution in description!\n",
      "-> http://www.7723.cn/download/5412.htm\n",
      "-> \n",
      "Failed to search for this game version screen resolution in description!\n",
      "-> http://www.7723.cn/download/5401.htm\n",
      "-> \n"
     ]
    },
    {
     "name": "stderr",
     "output_type": "stream",
     "text": [
      "Parsing http://www.7723.cn/download/5356.htm:  31%|████████▋                   | 3665/11732 [04:41<08:52, 15.15it/s]"
     ]
    },
    {
     "name": "stdout",
     "output_type": "stream",
     "text": [
      "Failed to search for this game version screen resolution in description!\n",
      "-> http://www.7723.cn/download/5369.htm\n",
      "-> \n"
     ]
    },
    {
     "name": "stderr",
     "output_type": "stream",
     "text": [
      "Parsing http://www.7723.cn/download/5340.htm:  31%|████████▊                   | 3669/11732 [04:41<09:18, 14.43it/s]"
     ]
    },
    {
     "name": "stdout",
     "output_type": "stream",
     "text": [
      "Failed to search for this game version screen resolution in description!\n",
      "-> http://www.7723.cn/download/5344.htm\n",
      "-> \n",
      "Failed to search for this game version screen resolution in description!\n",
      "-> http://www.7723.cn/download/5342.htm\n",
      "-> \n",
      "Failed to search for this game version screen resolution in description!\n",
      "-> http://www.7723.cn/download/5341.htm\n",
      "-> \n"
     ]
    },
    {
     "name": "stderr",
     "output_type": "stream",
     "text": [
      "Parsing http://www.7723.cn/download/5313.htm:  31%|████████▊                   | 3673/11732 [04:41<09:18, 14.42it/s]"
     ]
    },
    {
     "name": "stdout",
     "output_type": "stream",
     "text": [
      "Failed to search for this game version screen resolution in description!\n",
      "-> http://www.7723.cn/download/5337.htm\n",
      "-> \n",
      "Failed to search for this game version screen resolution in description!\n",
      "-> http://www.7723.cn/download/5326.htm\n",
      "-> \n"
     ]
    },
    {
     "name": "stderr",
     "output_type": "stream",
     "text": [
      "Parsing http://www.7723.cn/download/5297.htm:  31%|████████▊                   | 3677/11732 [04:42<09:21, 14.35it/s]"
     ]
    },
    {
     "name": "stdout",
     "output_type": "stream",
     "text": [
      "Failed to search for this game version screen resolution in description!\n",
      "-> http://www.7723.cn/download/5304.htm\n",
      "-> \n"
     ]
    },
    {
     "name": "stderr",
     "output_type": "stream",
     "text": [
      "Parsing http://www.7723.cn/download/5292.htm:  31%|████████▊                   | 3679/11732 [04:42<09:20, 14.38it/s]"
     ]
    },
    {
     "name": "stdout",
     "output_type": "stream",
     "text": [
      "Failed to search for this game version screen resolution in description!\n",
      "-> http://www.7723.cn/download/5297.htm\n",
      "-> \n",
      "Failed to search for this game version screen resolution in description!\n",
      "-> http://www.7723.cn/download/5296.htm\n",
      "-> \n"
     ]
    },
    {
     "name": "stderr",
     "output_type": "stream",
     "text": [
      "Parsing http://www.7723.cn/download/5266.htm:  31%|████████▊                   | 3689/11732 [04:43<13:59,  9.58it/s]"
     ]
    },
    {
     "name": "stdout",
     "output_type": "stream",
     "text": [
      "Failed to search for this game version screen resolution in description!\n",
      "-> http://www.7723.cn/download/5282.htm\n",
      "-> \n"
     ]
    },
    {
     "name": "stderr",
     "output_type": "stream",
     "text": [
      "Parsing http://www.7723.cn/download/5235.htm:  32%|████████▊                   | 3697/11732 [04:44<13:21, 10.03it/s]"
     ]
    },
    {
     "name": "stdout",
     "output_type": "stream",
     "text": [
      "Failed to search for this game version screen resolution in description!\n",
      "-> http://www.7723.cn/download/5243.htm\n",
      "-> \n"
     ]
    },
    {
     "name": "stderr",
     "output_type": "stream",
     "text": [
      "Parsing http://www.7723.cn/download/5225.htm:  32%|████████▊                   | 3701/11732 [04:44<11:19, 11.82it/s]"
     ]
    },
    {
     "name": "stdout",
     "output_type": "stream",
     "text": [
      "Failed to search for this game version screen resolution in description!\n",
      "-> http://www.7723.cn/download/5231.htm\n",
      "-> \n",
      "Failed to search for this game version screen resolution in description!\n",
      "-> http://www.7723.cn/download/5228.htm\n",
      "-> \n",
      "Failed to search for this game version screen resolution in description!\n",
      "-> "
     ]
    },
    {
     "name": "stderr",
     "output_type": "stream",
     "text": [
      "Parsing http://www.7723.cn/download/5196.htm:  32%|████████▊                   | 3703/11732 [04:44<11:46, 11.36it/s]"
     ]
    },
    {
     "name": "stdout",
     "output_type": "stream",
     "text": [
      "http://www.7723.cn/download/5225.htm\n",
      "-> \n",
      "Failed to search for this game version screen resolution in description!\n",
      "-> http://www.7723.cn/download/5205.htm\n",
      "-> \n"
     ]
    },
    {
     "name": "stderr",
     "output_type": "stream",
     "text": [
      "Parsing http://www.7723.cn/download/5105.htm:  32%|████████▊                   | 3713/11732 [04:45<10:20, 12.92it/s]"
     ]
    },
    {
     "name": "stdout",
     "output_type": "stream",
     "text": [
      "Failed to search for this game version screen resolution in description!\n",
      "-> http://www.7723.cn/download/5161.htm\n",
      "-> \n",
      "Failed to search for this game version screen resolution in description!\n",
      "-> http://www.7723.cn/download/5106.htm\n",
      "-> \n"
     ]
    },
    {
     "name": "stderr",
     "output_type": "stream",
     "text": [
      "Parsing http://www.7723.cn/download/5087.htm:  32%|████████▊                   | 3715/11732 [04:45<10:06, 13.22it/s]"
     ]
    },
    {
     "name": "stdout",
     "output_type": "stream",
     "text": [
      "Failed to search for this game version screen resolution in description!\n",
      "-> http://www.7723.cn/download/5105.htm\n",
      "-> \n",
      "Failed to search for this game version screen resolution in description!\n",
      "-> http://www.7723.cn/download/5102.htm\n",
      "-> \n"
     ]
    },
    {
     "name": "stderr",
     "output_type": "stream",
     "text": [
      "Parsing http://www.7723.cn/download/5046.htm:  32%|████████▉                   | 3721/11732 [04:46<09:31, 14.03it/s]"
     ]
    },
    {
     "name": "stdout",
     "output_type": "stream",
     "text": [
      "Failed to search for this game version screen resolution in description!\n",
      "-> http://www.7723.cn/download/5062.htm\n",
      "-> \n",
      "Failed to search for this game version screen resolution in description!\n",
      "-> http://www.7723.cn/download/5058.htm\n",
      "-> \n",
      "Failed to search for this game version screen resolution in description!\n",
      "-> http://www.7723.cn/download/5050.htm\n",
      "-> \n",
      "Failed to search for this game version screen resolution in description!\n",
      "-> http://www.7723.cn/download/5050.htm\n",
      "-> \n"
     ]
    },
    {
     "name": "stderr",
     "output_type": "stream",
     "text": [
      "Parsing http://www.7723.cn/download/5010.htm:  32%|████████▉                   | 3725/11732 [04:46<09:17, 14.36it/s]"
     ]
    },
    {
     "name": "stdout",
     "output_type": "stream",
     "text": [
      "Failed to search for this game version screen resolution in description!\n",
      "-> http://www.7723.cn/download/5046.htm\n",
      "-> \n",
      "Failed to search for this game version screen resolution in description!\n",
      "-> http://www.7723.cn/download/5046.htm\n",
      "-> \n",
      "Failed to search for this game version screen resolution in description!\n",
      "-> http://www.7723.cn/download/5033.htm\n",
      "-> \n"
     ]
    },
    {
     "name": "stderr",
     "output_type": "stream",
     "text": [
      "Parsing http://www.7723.cn/download/4993.htm:  32%|████████▉                   | 3731/11732 [04:46<08:52, 15.03it/s]"
     ]
    },
    {
     "name": "stdout",
     "output_type": "stream",
     "text": [
      "Failed to search for this game version screen resolution in description!\n",
      "-> http://www.7723.cn/download/4999.htm\n",
      "-> \n"
     ]
    },
    {
     "name": "stderr",
     "output_type": "stream",
     "text": [
      "Parsing http://www.7723.cn/download/4985.htm:  32%|████████▉                   | 3735/11732 [04:47<08:46, 15.20it/s]"
     ]
    },
    {
     "name": "stdout",
     "output_type": "stream",
     "text": [
      "Failed to search for this game version screen resolution in description!\n",
      "-> http://www.7723.cn/download/4993.htm\n",
      "-> \n",
      "Failed to search for this game version screen resolution in description!\n",
      "-> http://www.7723.cn/download/4992.htm\n",
      "-> \n",
      "Failed to search for this game version screen resolution in description!"
     ]
    },
    {
     "name": "stderr",
     "output_type": "stream",
     "text": [
      "Parsing http://www.7723.cn/download/4973.htm:  32%|████████▉                   | 3737/11732 [04:47<08:49, 15.10it/s]"
     ]
    },
    {
     "name": "stdout",
     "output_type": "stream",
     "text": [
      "\n",
      "-> http://www.7723.cn/download/4985.htm\n",
      "-> \n",
      "Failed to search for this game version screen resolution in description!\n",
      "-> http://www.7723.cn/download/4980.htm\n",
      "-> \n"
     ]
    },
    {
     "name": "stderr",
     "output_type": "stream",
     "text": [
      "Parsing http://www.7723.cn/download/4950.htm:  32%|████████▉                   | 3747/11732 [04:47<09:26, 14.09it/s]"
     ]
    },
    {
     "name": "stdout",
     "output_type": "stream",
     "text": [
      "Failed to search for this game version screen resolution in description!\n",
      "-> http://www.7723.cn/download/4960.htm\n",
      "-> \n",
      "Failed to search for this game version screen resolution in description!\n",
      "-> http://www.7723.cn/download/4954.htm\n",
      "-> \n"
     ]
    },
    {
     "name": "stderr",
     "output_type": "stream",
     "text": [
      "Parsing http://www.7723.cn/download/4932.htm:  32%|████████▉                   | 3749/11732 [04:48<09:19, 14.26it/s]"
     ]
    },
    {
     "name": "stdout",
     "output_type": "stream",
     "text": [
      "Failed to search for this game version screen resolution in description!\n",
      "-> http://www.7723.cn/download/4950.htm\n",
      "-> \n"
     ]
    },
    {
     "name": "stderr",
     "output_type": "stream",
     "text": [
      "Parsing http://www.7723.cn/download/4919.htm:  32%|████████▉                   | 3751/11732 [04:48<09:44, 13.65it/s]"
     ]
    },
    {
     "name": "stdout",
     "output_type": "stream",
     "text": [
      "Failed to search for this game version screen resolution in description!\n",
      "-> http://www.7723.cn/download/4932.htm\n",
      "-> \n"
     ]
    },
    {
     "name": "stderr",
     "output_type": "stream",
     "text": [
      "Parsing http://www.7723.cn/download/4909.htm:  32%|████████▉                   | 3755/11732 [04:48<09:53, 13.43it/s]"
     ]
    },
    {
     "name": "stdout",
     "output_type": "stream",
     "text": [
      "Failed to search for this game version screen resolution in description!\n",
      "-> http://www.7723.cn/download/4915.htm\n",
      "-> \n"
     ]
    },
    {
     "name": "stderr",
     "output_type": "stream",
     "text": [
      "Parsing http://www.7723.cn/download/4890.htm:  32%|████████▉                   | 3759/11732 [04:48<09:37, 13.82it/s]"
     ]
    },
    {
     "name": "stdout",
     "output_type": "stream",
     "text": [
      "Failed to search for this game version screen resolution in description!\n",
      "-> http://www.7723.cn/download/4902.htm\n",
      "-> \n",
      "Failed to search for this game version screen resolution in description!\n",
      "-> http://www.7723.cn/download/4901.htm\n",
      "-> \n"
     ]
    },
    {
     "name": "stderr",
     "output_type": "stream",
     "text": [
      "Parsing http://www.7723.cn/download/4867.htm:  32%|████████▉                   | 3765/11732 [04:49<09:45, 13.61it/s]"
     ]
    },
    {
     "name": "stdout",
     "output_type": "stream",
     "text": [
      "Failed to search for this game version screen resolution in description!\n",
      "-> http://www.7723.cn/download/5574.htm\n",
      "-> \n"
     ]
    },
    {
     "name": "stderr",
     "output_type": "stream",
     "text": [
      "Parsing http://www.7723.cn/download/4836.htm:  32%|█████████                   | 3773/11732 [04:49<09:39, 13.75it/s]"
     ]
    },
    {
     "name": "stdout",
     "output_type": "stream",
     "text": [
      "Failed to search for this game version screen resolution in description!\n",
      "-> http://www.7723.cn/download/4845.htm\n",
      "-> \n"
     ]
    },
    {
     "name": "stderr",
     "output_type": "stream",
     "text": [
      "Parsing http://www.7723.cn/download/4746.htm:  32%|█████████                   | 3777/11732 [04:50<09:22, 14.13it/s]"
     ]
    },
    {
     "name": "stdout",
     "output_type": "stream",
     "text": [
      "Failed to search for this game version screen resolution in description!\n",
      "-> http://www.7723.cn/download/4794.htm\n",
      "-> \n",
      "Failed to search for this game version screen resolution in description!\n",
      "-> http://www.7723.cn/download/4770.htm\n",
      "-> \n",
      "Failed to search for this game version screen resolution in description!\n",
      "-> http://www.7723.cn/download/4770.htm\n",
      "-> \n",
      "Failed to search for this game version screen resolution in description!\n",
      "-> http://www.7723.cn/download/4770.htm\n",
      "-> \n",
      "Failed to search for this game version screen resolution in description!\n",
      "-> http://www.7723.cn/download/4770.htm\n",
      "-> \n",
      "Failed to search for this game version screen resolution in description!\n",
      "-> http://www.7723.cn/download/4770.htm\n",
      "-> \n",
      "Failed to search for this game version screen resolution in description!\n",
      "-> http://www.7723.cn/download/4770.htm\n",
      "-> \n",
      "Failed to search for this game version screen resolution in description!\n",
      "-> http://www.7723.cn/download/4770.htm\n",
      "-> \n",
      "Failed to search for this game version screen resolution in description!\n",
      "-> http://www.7723.cn/download/4770.htm\n",
      "-> \n",
      "Failed to search for this game version screen resolution in description!\n",
      "-> http://www.7723.cn/download/4770.htm\n",
      "-> \n",
      "Failed to search for this game version screen resolution in description!\n",
      "-> http://www.7723.cn/download/4770.htm\n",
      "-> \n",
      "Failed to search for this game version screen resolution in description!\n",
      "-> http://www.7723.cn/download/4770.htm\n",
      "-> \n",
      "Failed to search for this game version screen resolution in description!\n",
      "-> http://www.7723.cn/download/4770.htm\n",
      "-> \n"
     ]
    },
    {
     "name": "stderr",
     "output_type": "stream",
     "text": [
      "Parsing http://www.7723.cn/download/4731.htm:  32%|█████████                   | 3781/11732 [04:50<09:23, 14.12it/s]"
     ]
    },
    {
     "name": "stdout",
     "output_type": "stream",
     "text": [
      "Failed to search for this game version screen resolution in description!\n",
      "-> http://www.7723.cn/download/4741.htm\n",
      "-> \n",
      "Failed to search for this game version screen resolution in description!\n",
      "-> http://www.7723.cn/download/4740.htm\n",
      "-> \n"
     ]
    },
    {
     "name": "stderr",
     "output_type": "stream",
     "text": [
      "Parsing http://www.7723.cn/download/4711.htm:  32%|█████████                   | 3789/11732 [04:50<09:03, 14.62it/s]"
     ]
    },
    {
     "name": "stdout",
     "output_type": "stream",
     "text": [
      "Failed to search for this game version screen resolution in description!\n",
      "-> http://www.7723.cn/download/4718.htm\n",
      "-> \n",
      "Failed to search for this game version screen resolution in description!\n",
      "-> http://www.7723.cn/download/4718.htm\n",
      "-> \n"
     ]
    },
    {
     "name": "stderr",
     "output_type": "stream",
     "text": [
      "Parsing http://www.7723.cn/download/4663.htm:  32%|█████████                   | 3799/11732 [04:51<09:11, 14.40it/s]"
     ]
    },
    {
     "name": "stdout",
     "output_type": "stream",
     "text": [
      "Failed to search for this game version screen resolution in description!\n",
      "-> http://www.7723.cn/download/4673.htm\n",
      "-> I-mate i9150系列5150 6150 7150 8150 9150\n"
     ]
    },
    {
     "name": "stderr",
     "output_type": "stream",
     "text": [
      "Parsing http://www.7723.cn/download/4647.htm:  32%|█████████                   | 3807/11732 [04:52<09:31, 13.86it/s]"
     ]
    },
    {
     "name": "stdout",
     "output_type": "stream",
     "text": [
      "Failed to search for this game version screen resolution in description!\n",
      "-> http://www.7723.cn/download/4656.htm\n",
      "-> \n"
     ]
    },
    {
     "name": "stderr",
     "output_type": "stream",
     "text": [
      "Parsing http://www.7723.cn/download/4604.htm:  33%|█████████                   | 3813/11732 [04:52<09:29, 13.91it/s]"
     ]
    },
    {
     "name": "stdout",
     "output_type": "stream",
     "text": [
      "Failed to search for this game version screen resolution in description!\n",
      "-> http://www.7723.cn/download/4635.htm\n",
      "-> \n",
      "Failed to search for this game version screen resolution in description!\n",
      "-> http://www.7723.cn/download/4635.htm\n",
      "-> \n",
      "Failed to search for this game version screen resolution in description!\n",
      "-> http://www.7723.cn/download/4635.htm\n",
      "-> \n",
      "Failed to search for this game version screen resolution in description!\n",
      "-> http://www.7723.cn/download/4635.htm\n",
      "-> \n",
      "Failed to search for this game version screen resolution in description!\n",
      "-> http://www.7723.cn/download/4635.htm\n",
      "-> \n",
      "Failed to search for this game version screen resolution in description!\n",
      "-> http://www.7723.cn/download/4635.htm\n",
      "-> \n",
      "Failed to search for this game version screen resolution in description!\n",
      "-> http://www.7723.cn/download/4635.htm\n",
      "-> \n",
      "Failed to search for this game version screen resolution in description!\n",
      "-> http://www.7723.cn/download/4635.htm\n",
      "-> \n",
      "Failed to search for this game version screen resolution in description!\n",
      "-> http://www.7723.cn/download/4635.htm\n",
      "-> \n",
      "Failed to search for this game version screen resolution in description!\n",
      "-> http://www.7723.cn/download/4635.htm\n",
      "-> \n",
      "Failed to search for this game version screen resolution in description!\n",
      "-> http://www.7723.cn/download/4635.htm\n",
      "-> \n",
      "Failed to search for this game version screen resolution in description!\n",
      "-> http://www.7723.cn/download/4635.htm\n",
      "-> \n",
      "Failed to search for this game version screen resolution in description!\n",
      "-> http://www.7723.cn/download/4635.htm\n",
      "-> \n",
      "Failed to search for this game version screen resolution in description!\n",
      "-> http://www.7723.cn/download/4635.htm\n",
      "-> \n",
      "Failed to search for this game version screen resolution in description!\n",
      "-> http://www.7723.cn/download/4635.htm\n",
      "-> \n",
      "Failed to search for this game version screen resolution in description!\n",
      "-> http://www.7723.cn/download/4635.htm\n",
      "-> \n",
      "Failed to search for this game version screen resolution in description!\n",
      "-> http://www.7723.cn/download/4635.htm\n",
      "-> \n",
      "Failed to search for this game version screen resolution in description!\n",
      "-> http://www.7723.cn/download/4635.htm\n",
      "-> \n"
     ]
    },
    {
     "name": "stderr",
     "output_type": "stream",
     "text": [
      "Parsing http://www.7723.cn/download/4568.htm:  33%|█████████                   | 3819/11732 [04:53<09:01, 14.61it/s]"
     ]
    },
    {
     "name": "stdout",
     "output_type": "stream",
     "text": [
      "Failed to search for this game version screen resolution in description!\n",
      "-> http://www.7723.cn/download/4580.htm\n",
      "-> \n"
     ]
    },
    {
     "name": "stderr",
     "output_type": "stream",
     "text": [
      "Parsing http://www.7723.cn/download/4494.htm:  33%|█████████▏                  | 3833/11732 [04:54<09:02, 14.56it/s]"
     ]
    },
    {
     "name": "stdout",
     "output_type": "stream",
     "text": [
      "Failed to search for this game version screen resolution in description!\n",
      "-> http://www.7723.cn/download/4500.htm\n",
      "-> \n"
     ]
    },
    {
     "name": "stderr",
     "output_type": "stream",
     "text": [
      "Parsing http://www.7723.cn/download/4423.htm:  33%|█████████▏                  | 3847/11732 [04:55<08:44, 15.04it/s]"
     ]
    },
    {
     "name": "stdout",
     "output_type": "stream",
     "text": [
      "Failed to search for this game version screen resolution in description!\n",
      "-> http://www.7723.cn/download/4434.htm\n",
      "-> \n"
     ]
    },
    {
     "name": "stderr",
     "output_type": "stream",
     "text": [
      "Parsing http://www.7723.cn/download/4252.htm:  33%|█████████▎                  | 3909/11732 [04:59<08:33, 15.22it/s]"
     ]
    },
    {
     "name": "stdout",
     "output_type": "stream",
     "text": [
      "Failed to search for this game version screen resolution in description!\n",
      "-> http://www.7723.cn/download/4259.htm\n",
      "-> \n"
     ]
    },
    {
     "name": "stderr",
     "output_type": "stream",
     "text": [
      "Parsing http://www.7723.cn/download/4185.htm:  33%|█████████▎                  | 3925/11732 [05:00<09:20, 13.94it/s]"
     ]
    },
    {
     "name": "stdout",
     "output_type": "stream",
     "text": [
      "Failed to search for this game version screen resolution in description!\n",
      "-> http://www.7723.cn/download/4194.htm\n",
      "-> \n"
     ]
    },
    {
     "name": "stderr",
     "output_type": "stream",
     "text": [
      "Parsing http://www.7723.cn/download/4170.htm:  33%|█████████▍                  | 3929/11732 [05:00<09:12, 14.12it/s]"
     ]
    },
    {
     "name": "stdout",
     "output_type": "stream",
     "text": [
      "Failed to search for this game version screen resolution in description!\n",
      "-> http://www.7723.cn/download/4178.htm\n",
      "-> \n"
     ]
    },
    {
     "name": "stderr",
     "output_type": "stream",
     "text": [
      "Parsing http://www.7723.cn/download/4099.htm:  34%|█████████▍                  | 3945/11732 [05:01<08:43, 14.86it/s]"
     ]
    },
    {
     "name": "stdout",
     "output_type": "stream",
     "text": [
      "Failed to search for this game version screen resolution in description!\n",
      "-> http://www.7723.cn/download/4112.htm\n",
      "-> \n",
      "Failed to search for this game version screen resolution in description!\n",
      "-> http://www.7723.cn/download/4099.htm\n",
      "-> \n",
      "Failed to search for this game version screen resolution in description!\n",
      "-> http://www.7723.cn/download/4099.htm\n",
      "-> \n",
      "Failed to search for this game version screen resolution in description!\n",
      "-> http://www.7723.cn/download/4099.htm\n",
      "-> \n"
     ]
    },
    {
     "name": "stderr",
     "output_type": "stream",
     "text": [
      "Parsing http://www.7723.cn/download/4067.htm:  34%|█████████▍                  | 3951/11732 [05:01<08:28, 15.31it/s]"
     ]
    },
    {
     "name": "stdout",
     "output_type": "stream",
     "text": [
      "Failed to search for this game version screen resolution in description!\n",
      "-> http://www.7723.cn/download/4084.htm\n",
      "-> \n"
     ]
    },
    {
     "name": "stderr",
     "output_type": "stream",
     "text": [
      "Parsing http://www.7723.cn/download/4039.htm:  34%|█████████▍                  | 3955/11732 [05:02<08:35, 15.09it/s]"
     ]
    },
    {
     "name": "stdout",
     "output_type": "stream",
     "text": [
      "Failed to search for this game version screen resolution in description!\n",
      "-> http://www.7723.cn/download/4050.htm\n",
      "-> \n",
      "Failed to search for this game version screen resolution in description!\n",
      "-> http://www.7723.cn/download/4048.htm\n",
      "-> \n",
      "Failed to search for this game version screen resolution in description!\n",
      "-> http://www.7723.cn/download/4046.htm\n",
      "-> \n"
     ]
    },
    {
     "name": "stderr",
     "output_type": "stream",
     "text": [
      "Parsing http://www.7723.cn/download/4017.htm:  34%|█████████▍                  | 3961/11732 [05:02<09:21, 13.83it/s]"
     ]
    },
    {
     "name": "stdout",
     "output_type": "stream",
     "text": [
      "Failed to search for this game version screen resolution in description!\n",
      "-> http://www.7723.cn/download/4031.htm\n",
      "-> \n",
      "Failed to search for this game version screen resolution in description!\n",
      "-> http://www.7723.cn/download/4031.htm\n",
      "-> \n"
     ]
    },
    {
     "name": "stderr",
     "output_type": "stream",
     "text": [
      "Parsing http://www.7723.cn/download/4006.htm:  34%|█████████▍                  | 3963/11732 [05:02<09:14, 14.02it/s]"
     ]
    },
    {
     "name": "stdout",
     "output_type": "stream",
     "text": [
      "Failed to search for this game version screen resolution in description!\n",
      "-> http://www.7723.cn/download/4017.htm\n",
      "-> \n"
     ]
    },
    {
     "name": "stderr",
     "output_type": "stream",
     "text": [
      "Parsing http://www.7723.cn/download/3930.htm:  34%|█████████▌                  | 3983/11732 [05:04<10:07, 12.76it/s]"
     ]
    },
    {
     "name": "stdout",
     "output_type": "stream",
     "text": [
      "Failed to search for this game version screen resolution in description!\n",
      "-> http://www.7723.cn/download/3938.htm\n",
      "-> \n"
     ]
    },
    {
     "name": "stderr",
     "output_type": "stream",
     "text": [
      "Parsing http://www.7723.cn/download/3891.htm:  34%|█████████▌                  | 3991/11732 [05:05<09:01, 14.30it/s]"
     ]
    },
    {
     "name": "stdout",
     "output_type": "stream",
     "text": [
      "Failed to search for this game version screen resolution in description!\n",
      "-> http://www.7723.cn/download/3907.htm\n",
      "-> \n",
      "Failed to search for this game version screen resolution in description!\n",
      "-> http://www.7723.cn/download/3901.htm\n",
      "-> \n",
      "Failed to search for this game version screen resolution in description!\n",
      "-> http://www.7723.cn/download/3895.htm\n",
      "-> \n"
     ]
    },
    {
     "name": "stderr",
     "output_type": "stream",
     "text": [
      "Parsing http://www.7723.cn/download/3854.htm:  34%|█████████▌                  | 3997/11732 [05:05<09:35, 13.44it/s]"
     ]
    },
    {
     "name": "stdout",
     "output_type": "stream",
     "text": [
      "Failed to search for this game version screen resolution in description!\n",
      "-> http://www.7723.cn/download/3869.htm\n",
      "-> \n"
     ]
    },
    {
     "name": "stderr",
     "output_type": "stream",
     "text": [
      "Parsing http://www.7723.cn/download/3784.htm:  34%|█████████▌                  | 4013/11732 [05:06<08:13, 15.65it/s]"
     ]
    },
    {
     "name": "stdout",
     "output_type": "stream",
     "text": [
      "Failed to search for this game version screen resolution in description!\n",
      "-> http://www.7723.cn/download/3810.htm\n",
      "-> \n"
     ]
    },
    {
     "name": "stderr",
     "output_type": "stream",
     "text": [
      "Parsing http://www.7723.cn/download/3759.htm:  34%|█████████▌                  | 4021/11732 [05:07<09:35, 13.40it/s]"
     ]
    },
    {
     "name": "stdout",
     "output_type": "stream",
     "text": [
      "Failed to search for this game version screen resolution in description!\n",
      "-> http://www.7723.cn/download/3769.htm\n",
      "-> \n"
     ]
    },
    {
     "name": "stderr",
     "output_type": "stream",
     "text": [
      "Parsing http://www.7723.cn/download/3495.htm:  35%|█████████▋                  | 4063/11732 [05:09<08:32, 14.96it/s]"
     ]
    },
    {
     "name": "stdout",
     "output_type": "stream",
     "text": [
      "Failed to search for this game version screen resolution in description!\n",
      "-> http://www.7723.cn/download/3521.htm\n",
      "-> \n"
     ]
    },
    {
     "name": "stderr",
     "output_type": "stream",
     "text": [
      "Parsing http://www.7723.cn/download/3451.htm:  35%|█████████▋                  | 4075/11732 [05:10<08:34, 14.89it/s]"
     ]
    },
    {
     "name": "stdout",
     "output_type": "stream",
     "text": [
      "Failed to search for this game version screen resolution in description!\n",
      "-> http://www.7723.cn/download/3465.htm\n",
      "-> \n",
      "Failed to search for this game version screen resolution in description!\n",
      "-> http://www.7723.cn/download/3465.htm\n",
      "-> \n",
      "Failed to search for this game version screen resolution in description!\n",
      "-> http://www.7723.cn/download/3465.htm\n",
      "-> \n"
     ]
    },
    {
     "name": "stderr",
     "output_type": "stream",
     "text": [
      "Parsing http://www.7723.cn/download/3353.htm:  35%|█████████▊                  | 4091/11732 [05:12<09:16, 13.74it/s]"
     ]
    },
    {
     "name": "stdout",
     "output_type": "stream",
     "text": [
      "Failed to search for this game version screen resolution in description!\n",
      "-> http://www.7723.cn/download/3369.htm\n",
      "-> \n",
      "Failed to search for this game version screen resolution in description!\n",
      "-> http://www.7723.cn/download/3369.htm\n",
      "-> \n",
      "Failed to search for this game version screen resolution in description!\n",
      "-> http://www.7723.cn/download/3369.htm\n",
      "-> \n",
      "Failed to search for this game version screen resolution in description!\n",
      "-> http://www.7723.cn/download/3369.htm\n",
      "-> \n"
     ]
    },
    {
     "name": "stderr",
     "output_type": "stream",
     "text": [
      "Parsing http://www.7723.cn/download/3308.htm:  35%|█████████▊                  | 4099/11732 [05:12<09:52, 12.88it/s]"
     ]
    },
    {
     "name": "stdout",
     "output_type": "stream",
     "text": [
      "Failed to search for this game version screen resolution in description!\n",
      "-> http://www.7723.cn/download/3321.htm\n",
      "-> \n"
     ]
    },
    {
     "name": "stderr",
     "output_type": "stream",
     "text": [
      "Parsing http://www.7723.cn/download/2997.htm:  35%|█████████▉                  | 4149/11732 [05:19<23:21,  5.41it/s]"
     ]
    },
    {
     "name": "stdout",
     "output_type": "stream",
     "text": [
      "Failed to search for this game version screen resolution in description!\n",
      "-> http://www.7723.cn/download/3000.htm\n",
      "-> \n"
     ]
    },
    {
     "name": "stderr",
     "output_type": "stream",
     "text": [
      "Parsing http://www.7723.cn/download/2848.htm:  36%|█████████▉                  | 4182/11732 [05:22<09:26, 13.34it/s]"
     ]
    },
    {
     "name": "stdout",
     "output_type": "stream",
     "text": [
      "Failed to search for this game version screen resolution in description!\n",
      "-> http://www.7723.cn/download/2863.htm\n",
      "-> \n"
     ]
    },
    {
     "name": "stderr",
     "output_type": "stream",
     "text": [
      "Parsing http://www.7723.cn/download/2636.htm:  36%|██████████                  | 4226/11732 [05:25<09:10, 13.63it/s]"
     ]
    },
    {
     "name": "stdout",
     "output_type": "stream",
     "text": [
      "Failed to search for this game version screen resolution in description!\n",
      "-> http://www.7723.cn/download/2649.htm\n",
      "-> \n",
      "Failed to search for this game version screen resolution in description!\n",
      "-> http://www.7723.cn/download/2649.htm\n",
      "-> \n"
     ]
    },
    {
     "name": "stderr",
     "output_type": "stream",
     "text": [
      "Parsing http://www.7723.cn/download/2542.htm:  36%|██████████▏                 | 4250/11732 [05:27<08:26, 14.77it/s]"
     ]
    },
    {
     "name": "stdout",
     "output_type": "stream",
     "text": [
      "Failed to search for this game version screen resolution in description!\n",
      "-> http://www.7723.cn/download/2553.htm\n",
      "-> \n"
     ]
    },
    {
     "name": "stderr",
     "output_type": "stream",
     "text": [
      "Parsing http://www.7723.cn/download/2458.htm:  36%|██████████▏                 | 4272/11732 [05:29<09:19, 13.34it/s]"
     ]
    },
    {
     "name": "stdout",
     "output_type": "stream",
     "text": [
      "Failed to search for this game version screen resolution in description!\n",
      "-> http://www.7723.cn/download/2472.htm\n",
      "-> \n"
     ]
    },
    {
     "name": "stderr",
     "output_type": "stream",
     "text": [
      "Parsing http://www.7723.cn/download/2426.htm:  36%|██████████▏                 | 4280/11732 [05:29<09:19, 13.33it/s]"
     ]
    },
    {
     "name": "stdout",
     "output_type": "stream",
     "text": [
      "Failed to search for this game version screen resolution in description!\n",
      "-> http://www.7723.cn/download/2434.htm\n",
      "-> \n"
     ]
    },
    {
     "name": "stderr",
     "output_type": "stream",
     "text": [
      "Parsing http://www.7723.cn/download/2341.htm:  37%|██████████▎                 | 4302/11732 [05:31<08:18, 14.91it/s]"
     ]
    },
    {
     "name": "stdout",
     "output_type": "stream",
     "text": [
      "Failed to search for this game version screen resolution in description!\n",
      "-> http://www.7723.cn/download/2353.htm\n",
      "-> \n"
     ]
    },
    {
     "name": "stderr",
     "output_type": "stream",
     "text": [
      "Parsing http://www.7723.cn/download/2333.htm:  37%|██████████▎                 | 4306/11732 [05:31<08:16, 14.95it/s]"
     ]
    },
    {
     "name": "stdout",
     "output_type": "stream",
     "text": [
      "Failed to search for this game version screen resolution in description!\n",
      "-> http://www.7723.cn/download/2341.htm\n",
      "-> \n"
     ]
    },
    {
     "name": "stderr",
     "output_type": "stream",
     "text": [
      "Parsing http://www.7723.cn/download/2310.htm:  37%|██████████▎                 | 4312/11732 [05:32<07:59, 15.47it/s]"
     ]
    },
    {
     "name": "stdout",
     "output_type": "stream",
     "text": [
      "Failed to search for this game version screen resolution in description!\n",
      "-> http://www.7723.cn/download/2329.htm\n",
      "-> \n",
      "Failed to search for this game version screen resolution in description!\n",
      "-> http://www.7723.cn/download/2329.htm\n",
      "-> \n",
      "Failed to search for this game version screen resolution in description!\n",
      "-> http://www.7723.cn/download/2329.htm\n",
      "-> \n",
      "Failed to search for this game version screen resolution in description!\n",
      "-> http://www.7723.cn/download/2329.htm\n",
      "-> \n"
     ]
    },
    {
     "name": "stderr",
     "output_type": "stream",
     "text": [
      "Parsing http://www.7723.cn/download/2029.htm:  37%|██████████▍                 | 4364/11732 [05:35<07:37, 16.11it/s]"
     ]
    },
    {
     "name": "stdout",
     "output_type": "stream",
     "text": [
      "Failed to search for this game version screen resolution in description!\n",
      "-> http://www.7723.cn/download/2043.htm\n",
      "-> \n",
      "Failed to search for this game version screen resolution in description!\n",
      "-> http://www.7723.cn/download/2043.htm\n",
      "-> \n"
     ]
    },
    {
     "name": "stderr",
     "output_type": "stream",
     "text": [
      "Parsing http://www.7723.cn/download/1942.htm:  37%|██████████▍                 | 4382/11732 [05:36<08:36, 14.22it/s]"
     ]
    },
    {
     "name": "stdout",
     "output_type": "stream",
     "text": [
      "Failed to search for this game version screen resolution in description!\n",
      "-> http://www.7723.cn/download/1961.htm\n",
      "-> \n"
     ]
    },
    {
     "name": "stderr",
     "output_type": "stream",
     "text": [
      "Parsing http://www.7723.cn/download/1832.htm:  38%|██████████▌                 | 4400/11732 [05:37<07:37, 16.02it/s]"
     ]
    },
    {
     "name": "stdout",
     "output_type": "stream",
     "text": [
      "Failed to search for this game version screen resolution in description!\n",
      "-> http://www.7723.cn/download/1855.htm\n",
      "-> \n"
     ]
    },
    {
     "name": "stderr",
     "output_type": "stream",
     "text": [
      "Parsing http://www.7723.cn/download/1685.htm:  38%|██████████▌                 | 4424/11732 [05:39<07:58, 15.26it/s]"
     ]
    },
    {
     "name": "stdout",
     "output_type": "stream",
     "text": [
      "Failed to search for this game version screen resolution in description!\n",
      "-> http://www.7723.cn/download/1712.htm\n",
      "-> \n",
      "Failed to search for this game version screen resolution in description!\n",
      "-> http://www.7723.cn/download/1712.htm\n",
      "-> \n"
     ]
    },
    {
     "name": "stderr",
     "output_type": "stream",
     "text": [
      "Parsing http://www.7723.cn/download/1655.htm:  38%|██████████▌                 | 4426/11732 [05:39<08:22, 14.55it/s]"
     ]
    },
    {
     "name": "stdout",
     "output_type": "stream",
     "text": [
      "Failed to search for this game version screen resolution in description!\n",
      "-> http://www.7723.cn/download/1680.htm\n",
      "-> \n"
     ]
    },
    {
     "name": "stderr",
     "output_type": "stream",
     "text": [
      "Parsing http://www.7723.cn/download/1437.htm:  38%|██████████▌                 | 4446/11732 [05:40<07:50, 15.48it/s]"
     ]
    },
    {
     "name": "stdout",
     "output_type": "stream",
     "text": [
      "Failed to search for this game version screen resolution in description!\n",
      "-> http://www.7723.cn/download/1487.htm\n",
      "-> \n"
     ]
    },
    {
     "name": "stderr",
     "output_type": "stream",
     "text": [
      "Parsing http://www.7723.cn/download/1321.htm:  38%|██████████▋                 | 4460/11732 [05:41<08:00, 15.12it/s]"
     ]
    },
    {
     "name": "stdout",
     "output_type": "stream",
     "text": [
      "Failed to search for this game version screen resolution in description!\n",
      "-> http://www.7723.cn/download/1350.htm\n",
      "-> \n",
      "Failed to search for this game version screen resolution in description!\n",
      "-> http://www.7723.cn/download/1350.htm\n",
      "-> \n"
     ]
    },
    {
     "name": "stderr",
     "output_type": "stream",
     "text": [
      "Parsing http://www.7723.cn/download/1243.htm:  38%|██████████▋                 | 4470/11732 [05:42<09:01, 13.41it/s]"
     ]
    },
    {
     "name": "stdout",
     "output_type": "stream",
     "text": [
      "Failed to search for this game version screen resolution in description!\n",
      "-> http://www.7723.cn/download/1273.htm\n",
      "-> \n",
      "Failed to search for this game version screen resolution in description!\n",
      "-> http://www.7723.cn/download/1273.htm\n",
      "-> \n",
      "Failed to search for this game version screen resolution in description!\n",
      "-> http://www.7723.cn/download/1273.htm\n",
      "-> \n",
      "Failed to search for this game version screen resolution in description!\n",
      "-> http://www.7723.cn/download/1273.htm\n",
      "-> \n",
      "Failed to search for this game version screen resolution in description!\n",
      "-> http://www.7723.cn/download/1273.htm\n",
      "-> I-mate i9150系列5150 6150 7150 8150 9150\n"
     ]
    },
    {
     "name": "stderr",
     "output_type": "stream",
     "text": [
      "Parsing http://www.7723.cn/download/1189.htm:  38%|██████████▋                 | 4474/11732 [05:42<08:39, 13.98it/s]"
     ]
    },
    {
     "name": "stdout",
     "output_type": "stream",
     "text": [
      "Failed to search for this game version screen resolution in description!\n",
      "-> http://www.7723.cn/download/1230.htm\n",
      "-> \n",
      "Failed to search for this game version screen resolution in description!\n",
      "-> http://www.7723.cn/download/1230.htm\n",
      "-> \n"
     ]
    },
    {
     "name": "stderr",
     "output_type": "stream",
     "text": [
      "Parsing http://www.7723.cn/download/1106.htm:  38%|██████████▋                 | 4492/11732 [05:43<07:48, 15.44it/s]"
     ]
    },
    {
     "name": "stdout",
     "output_type": "stream",
     "text": [
      "Failed to search for this game version screen resolution in description!\n",
      "-> http://www.7723.cn/download/1121.htm\n",
      "-> \n",
      "Failed to search for this game version screen resolution in description!\n",
      "-> http://www.7723.cn/download/1117.htm\n",
      "-> \n"
     ]
    },
    {
     "name": "stderr",
     "output_type": "stream",
     "text": [
      "Parsing http://www.7723.cn/download/904.htm:  38%|███████████▏                 | 4514/11732 [05:45<07:54, 15.22it/s]"
     ]
    },
    {
     "name": "stdout",
     "output_type": "stream",
     "text": [
      "Failed to search for this game version screen resolution in description!\n",
      "-> http://www.7723.cn/download/923.htm\n",
      "-> \n",
      "Failed to search for this game version screen resolution in description!\n",
      "-> http://www.7723.cn/download/912.htm\n",
      "-> \n"
     ]
    },
    {
     "name": "stderr",
     "output_type": "stream",
     "text": [
      "Parsing http://www.7723.cn/download/610.htm:  39%|███████████▏                 | 4548/11732 [05:47<08:23, 14.27it/s]"
     ]
    },
    {
     "name": "stdout",
     "output_type": "stream",
     "text": [
      "Failed to search for this game version screen resolution in description!\n",
      "-> http://www.7723.cn/download/640.htm\n",
      "-> \n"
     ]
    },
    {
     "name": "stderr",
     "output_type": "stream",
     "text": [
      "Parsing http://www.7723.cn/download/547.htm:  39%|███████████▎                 | 4556/11732 [05:48<07:39, 15.61it/s]"
     ]
    },
    {
     "name": "stdout",
     "output_type": "stream",
     "text": [
      "Failed to search for this game version screen resolution in description!\n",
      "-> http://www.7723.cn/download/585.htm\n",
      "-> \n"
     ]
    },
    {
     "name": "stderr",
     "output_type": "stream",
     "text": [
      "Parsing http://www.7723.cn/download/472.htm:  39%|███████████▎                 | 4560/11732 [05:48<08:11, 14.60it/s]"
     ]
    },
    {
     "name": "stdout",
     "output_type": "stream",
     "text": [
      "Failed to search for this game version screen resolution in description!\n",
      "-> http://www.7723.cn/download/535.htm\n",
      "-> \n"
     ]
    },
    {
     "name": "stderr",
     "output_type": "stream",
     "text": [
      "Parsing http://www.7723.cn/download/436.htm:  39%|███████████▎                 | 4564/11732 [05:48<08:23, 14.24it/s]"
     ]
    },
    {
     "name": "stdout",
     "output_type": "stream",
     "text": [
      "Failed to search for this game version screen resolution in description!\n",
      "-> http://www.7723.cn/download/472.htm\n",
      "-> \n",
      "Failed to search for this game version screen resolution in description!\n",
      "-> http://www.7723.cn/download/472.htm\n",
      "-> \n"
     ]
    },
    {
     "name": "stderr",
     "output_type": "stream",
     "text": [
      "Parsing http://www.7723.cn/download/323.htm:  39%|███████████▎                 | 4572/11732 [05:49<07:49, 15.26it/s]"
     ]
    },
    {
     "name": "stdout",
     "output_type": "stream",
     "text": [
      "Failed to search for this game version screen resolution in description!\n",
      "-> http://www.7723.cn/download/350.htm\n",
      "-> \n"
     ]
    },
    {
     "name": "stderr",
     "output_type": "stream",
     "text": [
      "Parsing http://www.7723.cn/download/81.htm:  39%|███████████▊                  | 4596/11732 [05:50<07:31, 15.80it/s]"
     ]
    },
    {
     "name": "stdout",
     "output_type": "stream",
     "text": [
      "Failed to search for this game version screen resolution in description!\n",
      "-> http://www.7723.cn/download/111.htm\n",
      "-> \n",
      "Failed to search for this game version screen resolution in description!\n",
      "-> http://www.7723.cn/download/111.htm\n",
      "-> \n",
      "Failed to search for this game version screen resolution in description!\n",
      "-> http://www.7723.cn/download/111.htm\n",
      "-> \n",
      "Failed to search for this game version screen resolution in description!\n",
      "-> http://www.7723.cn/download/111.htm\n",
      "-> \n"
     ]
    },
    {
     "name": "stderr",
     "output_type": "stream",
     "text": [
      "Parsing http://www.7723.cn/download/11917.htm:  40%|██████████▋                | 4658/11732 [05:55<09:19, 12.64it/s]"
     ]
    },
    {
     "name": "stdout",
     "output_type": "stream",
     "text": [
      "Failed to search for this game version screen resolution in description!\n",
      "-> http://www.7723.cn/download/2632.htm\n",
      "-> \n"
     ]
    },
    {
     "name": "stderr",
     "output_type": "stream",
     "text": [
      "Parsing http://www.7723.cn/download/10159.htm:  43%|███████████▌               | 5040/11732 [06:27<08:29, 13.15it/s]"
     ]
    },
    {
     "name": "stdout",
     "output_type": "stream",
     "text": [
      "Failed to search for this game version screen resolution in description!\n",
      "-> http://www.7723.cn/download/10194.htm\n",
      "-> \n"
     ]
    },
    {
     "name": "stderr",
     "output_type": "stream",
     "text": [
      "Parsing http://www.7723.cn/download/6799.htm:  48%|█████████████▍              | 5640/11732 [07:16<07:59, 12.69it/s]"
     ]
    },
    {
     "name": "stdout",
     "output_type": "stream",
     "text": [
      "Failed to search for this game version screen resolution in description!\n",
      "-> http://www.7723.cn/download/6854.htm\n",
      "-> \n",
      "Failed to search for this game version screen resolution in description!\n",
      "-> http://www.7723.cn/download/6853.htm\n",
      "-> \n"
     ]
    },
    {
     "name": "stderr",
     "output_type": "stream",
     "text": [
      "Parsing http://www.7723.cn/download/6758.htm:  48%|█████████████▍              | 5648/11732 [07:17<07:16, 13.93it/s]"
     ]
    },
    {
     "name": "stdout",
     "output_type": "stream",
     "text": [
      "Failed to search for this game version screen resolution in description!\n",
      "-> http://www.7723.cn/download/6766.htm\n",
      "-> \n",
      "Failed to search for this game version screen resolution in description!\n",
      "-> http://www.7723.cn/download/6765.htm\n",
      "-> \n"
     ]
    },
    {
     "name": "stderr",
     "output_type": "stream",
     "text": [
      "Parsing http://www.7723.cn/download/6701.htm:  48%|█████████████▍              | 5650/11732 [07:17<07:21, 13.76it/s]"
     ]
    },
    {
     "name": "stdout",
     "output_type": "stream",
     "text": [
      "Failed to search for this game version screen resolution in description!\n",
      "-> http://www.7723.cn/download/6758.htm\n",
      "-> \n",
      "Failed to search for this game version screen resolution in description!\n",
      "-> http://www.7723.cn/download/6757.htm\n",
      "-> \n"
     ]
    },
    {
     "name": "stderr",
     "output_type": "stream",
     "text": [
      "Parsing http://www.7723.cn/download/6644.htm:  48%|█████████████▍              | 5656/11732 [07:17<07:30, 13.48it/s]"
     ]
    },
    {
     "name": "stdout",
     "output_type": "stream",
     "text": [
      "Failed to search for this game version screen resolution in description!\n",
      "-> http://www.7723.cn/download/6674.htm\n",
      "-> \n",
      "Failed to search for this game version screen resolution in description!\n",
      "-> http://www.7723.cn/download/6670.htm\n",
      "-> \n",
      "Failed to search for this game version screen resolution in description!\n",
      "-> http://www.7723.cn/download/6662.htm\n",
      "-> \n"
     ]
    },
    {
     "name": "stderr",
     "output_type": "stream",
     "text": [
      "Parsing http://www.7723.cn/download/6629.htm:  48%|█████████████▌              | 5660/11732 [07:18<07:40, 13.20it/s]"
     ]
    },
    {
     "name": "stdout",
     "output_type": "stream",
     "text": [
      "Failed to search for this game version screen resolution in description!\n",
      "-> http://www.7723.cn/download/6643.htm\n",
      "-> \n",
      "Failed to search for this game version screen resolution in description!\n",
      "-> http://www.7723.cn/download/6640.htm\n",
      "-> \n"
     ]
    },
    {
     "name": "stderr",
     "output_type": "stream",
     "text": [
      "Parsing http://www.7723.cn/download/6590.htm:  48%|█████████████▌              | 5666/11732 [07:18<07:07, 14.18it/s]"
     ]
    },
    {
     "name": "stdout",
     "output_type": "stream",
     "text": [
      "Failed to search for this game version screen resolution in description!\n",
      "-> http://www.7723.cn/download/6621.htm\n",
      "-> \n",
      "Failed to search for this game version screen resolution in description!\n",
      "-> http://www.7723.cn/download/6602.htm\n",
      "-> \n"
     ]
    },
    {
     "name": "stderr",
     "output_type": "stream",
     "text": [
      "Parsing http://www.7723.cn/download/6558.htm:  48%|█████████████▌              | 5670/11732 [07:19<07:03, 14.32it/s]"
     ]
    },
    {
     "name": "stdout",
     "output_type": "stream",
     "text": [
      "Failed to search for this game version screen resolution in description!\n",
      "-> http://www.7723.cn/download/6588.htm\n",
      "-> \n",
      "Failed to search for this game version screen resolution in description!\n",
      "-> http://www.7723.cn/download/6587.htm\n",
      "-> \n",
      "Failed to search for this game version screen resolution in description!\n",
      "-> http://www.7723.cn/download/6583.htm\n",
      "-> \n"
     ]
    },
    {
     "name": "stderr",
     "output_type": "stream",
     "text": [
      "Parsing http://www.7723.cn/download/6541.htm:  48%|█████████████▌              | 5674/11732 [07:19<07:19, 13.79it/s]"
     ]
    },
    {
     "name": "stdout",
     "output_type": "stream",
     "text": [
      "Failed to search for this game version screen resolution in description!\n",
      "-> http://www.7723.cn/download/6558.htm\n",
      "-> \n",
      "Failed to search for this game version screen resolution in description!\n",
      "-> http://www.7723.cn/download/6555.htm\n",
      "-> \n"
     ]
    },
    {
     "name": "stderr",
     "output_type": "stream",
     "text": [
      "Parsing http://www.7723.cn/download/6503.htm:  48%|█████████████▌              | 5678/11732 [07:19<07:34, 13.33it/s]"
     ]
    },
    {
     "name": "stdout",
     "output_type": "stream",
     "text": [
      "Failed to search for this game version screen resolution in description!\n",
      "-> http://www.7723.cn/download/6518.htm\n",
      "-> \n",
      "Failed to search for this game version screen resolution in description!\n",
      "-> http://www.7723.cn/download/6515.htm\n",
      "-> \n"
     ]
    },
    {
     "name": "stderr",
     "output_type": "stream",
     "text": [
      "Parsing http://www.7723.cn/download/6486.htm:  48%|█████████████▌              | 5682/11732 [07:20<09:02, 11.16it/s]"
     ]
    },
    {
     "name": "stdout",
     "output_type": "stream",
     "text": [
      "Failed to search for this game version screen resolution in description!\n",
      "-> http://www.7723.cn/download/6492.htm\n",
      "-> \n",
      "Failed to search for this game version screen resolution in description!\n",
      "-> http://www.7723.cn/download/6489.htm\n",
      "-> \n"
     ]
    },
    {
     "name": "stderr",
     "output_type": "stream",
     "text": [
      "Parsing http://www.7723.cn/download/6462.htm:  48%|█████████████▌              | 5686/11732 [07:20<08:17, 12.14it/s]"
     ]
    },
    {
     "name": "stdout",
     "output_type": "stream",
     "text": [
      "Failed to search for this game version screen resolution in description!\n",
      "-> http://www.7723.cn/download/6482.htm\n",
      "-> \n"
     ]
    },
    {
     "name": "stderr",
     "output_type": "stream",
     "text": [
      "Parsing http://www.7723.cn/download/6436.htm:  48%|█████████████▌              | 5690/11732 [07:20<07:51, 12.80it/s]"
     ]
    },
    {
     "name": "stdout",
     "output_type": "stream",
     "text": [
      "Failed to search for this game version screen resolution in description!\n",
      "-> http://www.7723.cn/download/6462.htm\n",
      "-> \n",
      "Failed to search for this game version screen resolution in description!\n",
      "-> http://www.7723.cn/download/6446.htm\n",
      "-> \n"
     ]
    },
    {
     "name": "stderr",
     "output_type": "stream",
     "text": [
      "Parsing http://www.7723.cn/download/6409.htm:  49%|█████████████▌              | 5692/11732 [07:20<07:36, 13.22it/s]"
     ]
    },
    {
     "name": "stdout",
     "output_type": "stream",
     "text": [
      "Failed to search for this game version screen resolution in description!\n",
      "-> http://www.7723.cn/download/6436.htm\n",
      "-> \n",
      "Failed to search for this game version screen resolution in description!\n",
      "-> http://www.7723.cn/download/6427.htm\n",
      "-> \n",
      "Failed to search for this game version screen resolution in description!\n",
      "-> http://www.7723.cn/download/6421.htm\n",
      "-> \n"
     ]
    },
    {
     "name": "stderr",
     "output_type": "stream",
     "text": [
      "Parsing http://www.7723.cn/download/6366.htm:  49%|█████████████▌              | 5700/11732 [07:21<07:20, 13.70it/s]"
     ]
    },
    {
     "name": "stdout",
     "output_type": "stream",
     "text": [
      "Failed to search for this game version screen resolution in description!\n",
      "-> http://www.7723.cn/download/6383.htm\n",
      "-> \n",
      "Failed to search for this game version screen resolution in description!\n",
      "-> http://www.7723.cn/download/6375.htm\n",
      "-> \n",
      "Failed to search for this game version screen resolution in description!\n",
      "-> http://www.7723.cn/download/6367.htm\n",
      "-> \n"
     ]
    },
    {
     "name": "stderr",
     "output_type": "stream",
     "text": [
      "Parsing http://www.7723.cn/download/6319.htm:  49%|█████████████▌              | 5708/11732 [07:21<07:14, 13.87it/s]"
     ]
    },
    {
     "name": "stdout",
     "output_type": "stream",
     "text": [
      "Failed to search for this game version screen resolution in description!\n",
      "-> http://www.7723.cn/download/6342.htm\n",
      "-> \n",
      "Failed to search for this game version screen resolution in description!\n",
      "-> http://www.7723.cn/download/6339.htm\n",
      "-> \n"
     ]
    },
    {
     "name": "stderr",
     "output_type": "stream",
     "text": [
      "Parsing http://www.7723.cn/download/6289.htm:  49%|█████████████▋              | 5710/11732 [07:22<07:16, 13.80it/s]"
     ]
    },
    {
     "name": "stdout",
     "output_type": "stream",
     "text": [
      "Failed to search for this game version screen resolution in description!\n",
      "-> http://www.7723.cn/download/6319.htm\n",
      "-> \n",
      "Failed to search for this game version screen resolution in description!\n",
      "-> http://www.7723.cn/download/6300.htm\n",
      "-> \n"
     ]
    },
    {
     "name": "stderr",
     "output_type": "stream",
     "text": [
      "Parsing http://www.7723.cn/download/6275.htm:  49%|█████████████▋              | 5714/11732 [07:22<07:17, 13.76it/s]"
     ]
    },
    {
     "name": "stdout",
     "output_type": "stream",
     "text": [
      "Failed to search for this game version screen resolution in description!\n",
      "-> http://www.7723.cn/download/6289.htm\n",
      "-> \n",
      "Failed to search for this game version screen resolution in description!\n",
      "-> http://www.7723.cn/download/6279.htm\n",
      "-> \n"
     ]
    },
    {
     "name": "stderr",
     "output_type": "stream",
     "text": [
      "Parsing http://www.7723.cn/download/6254.htm:  49%|█████████████▋              | 5718/11732 [07:22<07:56, 12.63it/s]"
     ]
    },
    {
     "name": "stdout",
     "output_type": "stream",
     "text": [
      "Failed to search for this game version screen resolution in description!\n",
      "-> http://www.7723.cn/download/6261.htm\n",
      "-> \n"
     ]
    },
    {
     "name": "stderr",
     "output_type": "stream",
     "text": [
      "Parsing http://www.7723.cn/download/6221.htm:  49%|█████████████▋              | 5720/11732 [07:22<08:04, 12.40it/s]"
     ]
    },
    {
     "name": "stdout",
     "output_type": "stream",
     "text": [
      "Failed to search for this game version screen resolution in description!\n",
      "-> http://www.7723.cn/download/6241.htm\n",
      "-> \n",
      "Failed to search for this game version screen resolution in description!\n",
      "-> http://www.7723.cn/download/6236.htm\n",
      "-> \n",
      "Failed to search for this game version screen resolution in description!\n",
      "-> http://www.7723.cn/download/6227.htm\n",
      "-> \n"
     ]
    },
    {
     "name": "stderr",
     "output_type": "stream",
     "text": [
      "Parsing http://www.7723.cn/download/6202.htm:  49%|█████████████▋              | 5724/11732 [07:23<07:39, 13.08it/s]"
     ]
    },
    {
     "name": "stdout",
     "output_type": "stream",
     "text": [
      "Failed to search for this game version screen resolution in description!\n",
      "-> http://www.7723.cn/download/6221.htm\n",
      "-> \n",
      "Failed to search for this game version screen resolution in description!\n",
      "-> http://www.7723.cn/download/6218.htm\n",
      "-> \n",
      "Failed to search for this game version screen resolution in description!\n",
      "-> http://www.7723.cn/download/6206.htm\n",
      "-> \n"
     ]
    },
    {
     "name": "stderr",
     "output_type": "stream",
     "text": [
      "Parsing http://www.7723.cn/download/6167.htm:  49%|█████████████▋              | 5732/11732 [07:23<08:46, 11.39it/s]"
     ]
    },
    {
     "name": "stdout",
     "output_type": "stream",
     "text": [
      "Failed to search for this game version screen resolution in description!\n",
      "-> http://www.7723.cn/download/6179.htm\n",
      "-> \n",
      "Failed to search for this game version screen resolution in description!\n",
      "-> http://www.7723.cn/download/6176.htm\n",
      "-> \n",
      "Failed to search for this game version screen resolution in description!\n",
      "-> http://www.7723.cn/download/6173.htm\n",
      "-> \n"
     ]
    },
    {
     "name": "stderr",
     "output_type": "stream",
     "text": [
      "Parsing http://www.7723.cn/download/6147.htm:  49%|█████████████▋              | 5734/11732 [07:24<08:32, 11.70it/s]"
     ]
    },
    {
     "name": "stdout",
     "output_type": "stream",
     "text": [
      "Failed to search for this game version screen resolution in description!\n",
      "-> http://www.7723.cn/download/6167.htm\n",
      "-> \n",
      "Failed to search for this game version screen resolution in description!\n",
      "-> http://www.7723.cn/download/6156.htm\n",
      "-> \n"
     ]
    },
    {
     "name": "stderr",
     "output_type": "stream",
     "text": [
      "Parsing http://www.7723.cn/download/6132.htm:  49%|█████████████▋              | 5738/11732 [07:24<08:01, 12.45it/s]"
     ]
    },
    {
     "name": "stdout",
     "output_type": "stream",
     "text": [
      "Failed to search for this game version screen resolution in description!\n",
      "-> http://www.7723.cn/download/6147.htm\n",
      "-> \n"
     ]
    },
    {
     "name": "stderr",
     "output_type": "stream",
     "text": [
      "Parsing http://www.7723.cn/download/6128.htm:  49%|█████████████▋              | 5740/11732 [07:24<07:55, 12.60it/s]"
     ]
    },
    {
     "name": "stdout",
     "output_type": "stream",
     "text": [
      "Failed to search for this game version screen resolution in description!\n",
      "-> http://www.7723.cn/download/6132.htm\n",
      "-> \n",
      "Failed to search for this game version screen resolution in description!\n",
      "-> http://www.7723.cn/download/6130.htm\n",
      "-> \n"
     ]
    },
    {
     "name": "stderr",
     "output_type": "stream",
     "text": [
      "Parsing http://www.7723.cn/download/6110.htm:  49%|█████████████▋              | 5744/11732 [07:24<07:34, 13.18it/s]"
     ]
    },
    {
     "name": "stdout",
     "output_type": "stream",
     "text": [
      "Failed to search for this game version screen resolution in description!\n",
      "-> http://www.7723.cn/download/6123.htm\n",
      "-> \n",
      "Failed to search for this game version screen resolution in description!\n",
      "-> http://www.7723.cn/download/6113.htm\n",
      "-> \n"
     ]
    },
    {
     "name": "stderr",
     "output_type": "stream",
     "text": [
      "Parsing http://www.7723.cn/download/6070.htm:  49%|█████████████▋              | 5750/11732 [07:25<08:16, 12.05it/s]"
     ]
    },
    {
     "name": "stdout",
     "output_type": "stream",
     "text": [
      "Failed to search for this game version screen resolution in description!\n",
      "-> http://www.7723.cn/download/6093.htm\n",
      "-> \n",
      "Failed to search for this game version screen resolution in description!\n",
      "-> http://www.7723.cn/download/6079.htm\n",
      "-> \n",
      "Failed to search for this game version screen resolution in description!\n",
      "-> http://www.7723.cn/download/6076.htm\n",
      "-> \n"
     ]
    },
    {
     "name": "stderr",
     "output_type": "stream",
     "text": [
      "Parsing http://www.7723.cn/download/6017.htm:  49%|█████████████▋              | 5756/11732 [07:25<07:43, 12.88it/s]"
     ]
    },
    {
     "name": "stdout",
     "output_type": "stream",
     "text": [
      "Failed to search for this game version screen resolution in description!\n",
      "-> http://www.7723.cn/download/6032.htm\n",
      "-> \n",
      "Failed to search for this game version screen resolution in description!\n",
      "-> http://www.7723.cn/download/6024.htm\n",
      "-> \n"
     ]
    },
    {
     "name": "stderr",
     "output_type": "stream",
     "text": [
      "Parsing http://www.7723.cn/download/5930.htm:  49%|█████████████▊              | 5766/11732 [07:26<07:07, 13.94it/s]"
     ]
    },
    {
     "name": "stdout",
     "output_type": "stream",
     "text": [
      "Failed to search for this game version screen resolution in description!\n",
      "-> http://www.7723.cn/download/5965.htm\n",
      "-> \n"
     ]
    },
    {
     "name": "stderr",
     "output_type": "stream",
     "text": [
      "Parsing http://www.7723.cn/download/5887.htm:  49%|█████████████▊              | 5774/11732 [07:27<07:30, 13.21it/s]"
     ]
    },
    {
     "name": "stdout",
     "output_type": "stream",
     "text": [
      "Failed to search for this game version screen resolution in description!\n",
      "-> http://www.7723.cn/download/5903.htm\n",
      "-> \n"
     ]
    },
    {
     "name": "stderr",
     "output_type": "stream",
     "text": [
      "Parsing http://www.7723.cn/download/5841.htm:  49%|█████████████▊              | 5780/11732 [07:27<09:42, 10.23it/s]"
     ]
    },
    {
     "name": "stdout",
     "output_type": "stream",
     "text": [
      "Failed to search for this game version screen resolution in description!\n",
      "-> http://www.7723.cn/download/5874.htm\n",
      "-> \n",
      "Failed to search for this game version screen resolution in description!\n",
      "-> http://www.7723.cn/download/5848.htm\n",
      "-> \n",
      "Failed to search for this game version screen resolution in description!\n",
      "-> http://www.7723.cn/download/5846.htm\n",
      "-> \n"
     ]
    },
    {
     "name": "stderr",
     "output_type": "stream",
     "text": [
      "Parsing http://www.7723.cn/download/5821.htm:  49%|█████████████▊              | 5782/11732 [07:27<09:41, 10.24it/s]"
     ]
    },
    {
     "name": "stdout",
     "output_type": "stream",
     "text": [
      "Failed to search for this game version screen resolution in description!\n",
      "-> http://www.7723.cn/download/5841.htm\n",
      "-> \n",
      "Failed to search for this game version screen resolution in description!\n",
      "-> http://www.7723.cn/download/5830.htm\n",
      "-> \n"
     ]
    },
    {
     "name": "stderr",
     "output_type": "stream",
     "text": [
      "Parsing http://www.7723.cn/download/5709.htm:  49%|█████████████▊              | 5786/11732 [07:28<09:35, 10.34it/s]"
     ]
    },
    {
     "name": "stdout",
     "output_type": "stream",
     "text": [
      "Failed to search for this game version screen resolution in description!\n",
      "-> http://www.7723.cn/download/5794.htm\n",
      "-> \n",
      "Failed to search for this game version screen resolution in description!\n",
      "-> http://www.7723.cn/download/5769.htm\n",
      "-> \n",
      "Failed to search for this game version screen resolution in description!\n",
      "-> http://www.7723.cn/download/5751.htm\n",
      "-> \n"
     ]
    },
    {
     "name": "stderr",
     "output_type": "stream",
     "text": [
      "Parsing http://www.7723.cn/download/5669.htm:  49%|█████████████▊              | 5790/11732 [07:28<08:25, 11.74it/s]"
     ]
    },
    {
     "name": "stdout",
     "output_type": "stream",
     "text": [
      "Failed to search for this game version screen resolution in description!\n",
      "-> http://www.7723.cn/download/5699.htm\n",
      "-> \n",
      "Failed to search for this game version screen resolution in description!\n",
      "-> http://www.7723.cn/download/5675.htm\n",
      "-> \n"
     ]
    },
    {
     "name": "stderr",
     "output_type": "stream",
     "text": [
      "Parsing http://www.7723.cn/download/5632.htm:  49%|█████████████▊              | 5792/11732 [07:28<08:09, 12.14it/s]"
     ]
    },
    {
     "name": "stdout",
     "output_type": "stream",
     "text": [
      "Failed to search for this game version screen resolution in description!\n",
      "-> http://www.7723.cn/download/5654.htm\n",
      "-> \n",
      "Failed to search for this game version screen resolution in description!\n",
      "-> http://www.7723.cn/download/5645.htm\n",
      "-> \n"
     ]
    },
    {
     "name": "stderr",
     "output_type": "stream",
     "text": [
      "Parsing http://www.7723.cn/download/5613.htm:  49%|█████████████▊              | 5796/11732 [07:29<08:25, 11.75it/s]"
     ]
    },
    {
     "name": "stdout",
     "output_type": "stream",
     "text": [
      "Failed to search for this game version screen resolution in description!\n",
      "-> http://www.7723.cn/download/5630.htm\n",
      "-> \n",
      "Failed to search for this game version screen resolution in description!\n",
      "-> http://www.7723.cn/download/5627.htm\n",
      "-> \n"
     ]
    },
    {
     "name": "stderr",
     "output_type": "stream",
     "text": [
      "Parsing http://www.7723.cn/download/5593.htm:  49%|█████████████▊              | 5800/11732 [07:29<08:40, 11.40it/s]"
     ]
    },
    {
     "name": "stdout",
     "output_type": "stream",
     "text": [
      "Failed to search for this game version screen resolution in description!\n",
      "-> http://www.7723.cn/download/5605.htm\n",
      "-> \n"
     ]
    },
    {
     "name": "stderr",
     "output_type": "stream",
     "text": [
      "Parsing http://www.7723.cn/download/5562.htm:  49%|█████████████▊              | 5804/11732 [07:29<08:43, 11.32it/s]"
     ]
    },
    {
     "name": "stdout",
     "output_type": "stream",
     "text": [
      "Failed to search for this game version screen resolution in description!\n",
      "-> http://www.7723.cn/download/5591.htm\n",
      "-> \n",
      "Failed to search for this game version screen resolution in description!\n",
      "-> http://www.7723.cn/download/5569.htm\n",
      "-> \n"
     ]
    },
    {
     "name": "stderr",
     "output_type": "stream",
     "text": [
      "Parsing http://www.7723.cn/download/5543.htm:  50%|█████████████▊              | 5808/11732 [07:30<08:09, 12.10it/s]"
     ]
    },
    {
     "name": "stdout",
     "output_type": "stream",
     "text": [
      "Failed to search for this game version screen resolution in description!\n",
      "-> http://www.7723.cn/download/5556.htm\n",
      "-> \n",
      "Failed to search for this game version screen resolution in description!\n",
      "-> http://www.7723.cn/download/5554.htm\n",
      "-> \n"
     ]
    },
    {
     "name": "stderr",
     "output_type": "stream",
     "text": [
      "Parsing http://www.7723.cn/download/5529.htm:  50%|█████████████▉              | 5814/11732 [07:30<07:36, 12.97it/s]"
     ]
    },
    {
     "name": "stdout",
     "output_type": "stream",
     "text": [
      "Failed to search for this game version screen resolution in description!\n",
      "-> http://www.7723.cn/download/5538.htm\n",
      "-> \n",
      "Failed to search for this game version screen resolution in description!\n",
      "-> http://www.7723.cn/download/5536.htm\n",
      "-> \n"
     ]
    },
    {
     "name": "stderr",
     "output_type": "stream",
     "text": [
      "Parsing http://www.7723.cn/download/5481.htm:  50%|█████████████▉              | 5816/11732 [07:30<07:46, 12.69it/s]"
     ]
    },
    {
     "name": "stdout",
     "output_type": "stream",
     "text": [
      "Failed to search for this game version screen resolution in description!\n",
      "-> http://www.7723.cn/download/5529.htm\n",
      "-> \n",
      "Failed to search for this game version screen resolution in description!\n",
      "-> http://www.7723.cn/download/5514.htm\n",
      "-> \n"
     ]
    },
    {
     "name": "stderr",
     "output_type": "stream",
     "text": [
      "Parsing http://www.7723.cn/download/5456.htm:  50%|█████████████▉              | 5820/11732 [07:31<07:41, 12.81it/s]"
     ]
    },
    {
     "name": "stdout",
     "output_type": "stream",
     "text": [
      "Failed to search for this game version screen resolution in description!\n",
      "-> http://www.7723.cn/download/5481.htm\n",
      "-> \n",
      "Failed to search for this game version screen resolution in description!\n",
      "-> http://www.7723.cn/download/5465.htm\n",
      "-> \n"
     ]
    },
    {
     "name": "stderr",
     "output_type": "stream",
     "text": [
      "Parsing http://www.7723.cn/download/5442.htm:  50%|█████████████▉              | 5822/11732 [07:31<07:51, 12.53it/s]"
     ]
    },
    {
     "name": "stdout",
     "output_type": "stream",
     "text": [
      "Failed to search for this game version screen resolution in description!\n",
      "-> http://www.7723.cn/download/5456.htm\n",
      "-> \n"
     ]
    },
    {
     "name": "stderr",
     "output_type": "stream",
     "text": [
      "Parsing http://www.7723.cn/download/5410.htm:  50%|█████████████▉              | 5824/11732 [07:31<09:21, 10.53it/s]"
     ]
    },
    {
     "name": "stdout",
     "output_type": "stream",
     "text": [
      "Failed to search for this game version screen resolution in description!\n",
      "-> http://www.7723.cn/download/5442.htm\n",
      "-> \n"
     ]
    },
    {
     "name": "stderr",
     "output_type": "stream",
     "text": [
      "Parsing http://www.7723.cn/download/5383.htm:  50%|█████████████▉              | 5828/11732 [07:31<09:31, 10.33it/s]"
     ]
    },
    {
     "name": "stdout",
     "output_type": "stream",
     "text": [
      "Failed to search for this game version screen resolution in description!\n",
      "-> http://www.7723.cn/download/5410.htm\n",
      "-> \n",
      "Failed to search for this game version screen resolution in description!\n",
      "-> http://www.7723.cn/download/5395.htm\n",
      "-> \n"
     ]
    },
    {
     "name": "stderr",
     "output_type": "stream",
     "text": [
      "Parsing http://www.7723.cn/download/5363.htm:  50%|█████████████▉              | 5832/11732 [07:32<09:31, 10.32it/s]"
     ]
    },
    {
     "name": "stdout",
     "output_type": "stream",
     "text": [
      "Failed to search for this game version screen resolution in description!\n",
      "-> http://www.7723.cn/download/5372.htm\n",
      "-> \n",
      "Failed to search for this game version screen resolution in description!\n",
      "-> http://www.7723.cn/download/5370.htm\n",
      "-> \n",
      "Failed to search for this game version screen resolution in description!\n",
      "-> http://www.7723.cn/download/5364.htm\n",
      "-> \n"
     ]
    },
    {
     "name": "stderr",
     "output_type": "stream",
     "text": [
      "Parsing http://www.7723.cn/download/5352.htm:  50%|█████████████▉              | 5836/11732 [07:32<08:36, 11.42it/s]"
     ]
    },
    {
     "name": "stdout",
     "output_type": "stream",
     "text": [
      "Failed to search for this game version screen resolution in description!\n",
      "-> http://www.7723.cn/download/5363.htm\n",
      "-> \n",
      "Failed to search for this game version screen resolution in description!\n",
      "-> http://www.7723.cn/download/5361.htm\n",
      "-> \n"
     ]
    },
    {
     "name": "stderr",
     "output_type": "stream",
     "text": [
      "Parsing http://www.7723.cn/download/5318.htm:  50%|█████████████▉              | 5838/11732 [07:32<08:55, 11.01it/s]"
     ]
    },
    {
     "name": "stdout",
     "output_type": "stream",
     "text": [
      "Failed to search for this game version screen resolution in description!\n",
      "-> http://www.7723.cn/download/5352.htm\n",
      "-> \n"
     ]
    },
    {
     "name": "stderr",
     "output_type": "stream",
     "text": [
      "Parsing http://www.7723.cn/download/5308.htm:  50%|█████████████▉              | 5842/11732 [07:33<08:04, 12.16it/s]"
     ]
    },
    {
     "name": "stdout",
     "output_type": "stream",
     "text": [
      "Failed to search for this game version screen resolution in description!\n",
      "-> http://www.7723.cn/download/5318.htm\n",
      "-> \n",
      "Failed to search for this game version screen resolution in description!\n",
      "-> http://www.7723.cn/download/5309.htm\n",
      "-> \n"
     ]
    },
    {
     "name": "stderr",
     "output_type": "stream",
     "text": [
      "Parsing http://www.7723.cn/download/5293.htm:  50%|█████████████▉              | 5844/11732 [07:33<08:29, 11.56it/s]"
     ]
    },
    {
     "name": "stdout",
     "output_type": "stream",
     "text": [
      "Failed to search for this game version screen resolution in description!\n",
      "-> http://www.7723.cn/download/5308.htm\n",
      "-> \n",
      "Failed to search for this game version screen resolution in description!\n",
      "->"
     ]
    },
    {
     "name": "stderr",
     "output_type": "stream",
     "text": [
      "Parsing http://www.7723.cn/download/5250.htm:  50%|█████████████▉              | 5846/11732 [07:33<08:27, 11.61it/s]"
     ]
    },
    {
     "name": "stdout",
     "output_type": "stream",
     "text": [
      " http://www.7723.cn/download/5293.htm\n",
      "-> \n",
      "Failed to search for this game version screen resolution in description!\n",
      "-> http://www.7723.cn/download/5256.htm\n",
      "-> \n",
      "Failed to search for this game version screen resolution in description!\n",
      "-> http://www.7723.cn/download/5254.htm\n",
      "-> \n"
     ]
    },
    {
     "name": "stderr",
     "output_type": "stream",
     "text": [
      "Parsing http://www.7723.cn/download/5227.htm:  50%|█████████████▉              | 5850/11732 [07:33<08:37, 11.36it/s]"
     ]
    },
    {
     "name": "stdout",
     "output_type": "stream",
     "text": [
      "Failed to search for this game version screen resolution in description!\n",
      "-> http://www.7723.cn/download/5248.htm\n",
      "-> \n",
      "Failed to search for this game version screen resolution in description!\n",
      "-> http://www.7723.cn/download/5230.htm\n",
      "-> \n"
     ]
    },
    {
     "name": "stderr",
     "output_type": "stream",
     "text": [
      "Parsing http://www.7723.cn/download/5202.htm:  50%|█████████████▉              | 5858/11732 [07:34<08:15, 11.87it/s]"
     ]
    },
    {
     "name": "stdout",
     "output_type": "stream",
     "text": [
      "Failed to search for this game version screen resolution in description!\n",
      "-> http://www.7723.cn/download/5213.htm\n",
      "-> \n",
      "Failed to search for this game version screen resolution in description!\n",
      "-> http://www.7723.cn/download/5209.htm\n",
      "-> \n"
     ]
    },
    {
     "name": "stderr",
     "output_type": "stream",
     "text": [
      "Parsing http://www.7723.cn/download/5194.htm:  50%|█████████████▉              | 5862/11732 [07:34<08:29, 11.52it/s]"
     ]
    },
    {
     "name": "stdout",
     "output_type": "stream",
     "text": [
      "Failed to search for this game version screen resolution in description!\n",
      "-> http://www.7723.cn/download/5201.htm\n",
      "-> \n",
      "Failed to search for this game version screen resolution in description!\n",
      "-> http://www.7723.cn/download/5195.htm\n",
      "-> \n"
     ]
    },
    {
     "name": "stderr",
     "output_type": "stream",
     "text": [
      "Parsing http://www.7723.cn/download/5179.htm:  50%|█████████████▉              | 5864/11732 [07:35<08:22, 11.68it/s]"
     ]
    },
    {
     "name": "stdout",
     "output_type": "stream",
     "text": [
      "Failed to search for this game version screen resolution in description!\n",
      "-> http://www.7723.cn/download/5194.htm\n",
      "-> \n",
      "Failed to search for this game version screen resolution in description!\n",
      "-> http://www.7723.cn/download/5185.htm\n",
      "-> \n"
     ]
    },
    {
     "name": "stderr",
     "output_type": "stream",
     "text": [
      "Parsing http://www.7723.cn/download/5138.htm:  50%|██████████████              | 5872/11732 [07:35<07:54, 12.34it/s]"
     ]
    },
    {
     "name": "stdout",
     "output_type": "stream",
     "text": [
      "Failed to search for this game version screen resolution in description!\n",
      "-> http://www.7723.cn/download/5145.htm\n",
      "-> \n"
     ]
    },
    {
     "name": "stderr",
     "output_type": "stream",
     "text": [
      "Parsing http://www.7723.cn/download/5124.htm:  50%|██████████████              | 5876/11732 [07:35<07:22, 13.22it/s]"
     ]
    },
    {
     "name": "stdout",
     "output_type": "stream",
     "text": [
      "Failed to search for this game version screen resolution in description!\n",
      "-> http://www.7723.cn/download/5137.htm\n",
      "-> \n"
     ]
    },
    {
     "name": "stderr",
     "output_type": "stream",
     "text": [
      "Parsing http://www.7723.cn/download/5097.htm:  50%|██████████████              | 5878/11732 [07:36<07:51, 12.41it/s]"
     ]
    },
    {
     "name": "stdout",
     "output_type": "stream",
     "text": [
      "Failed to search for this game version screen resolution in description!\n",
      "-> http://www.7723.cn/download/5124.htm\n",
      "-> \n"
     ]
    },
    {
     "name": "stderr",
     "output_type": "stream",
     "text": [
      "Parsing http://www.7723.cn/download/5086.htm:  50%|██████████████              | 5880/11732 [07:36<08:17, 11.77it/s]"
     ]
    },
    {
     "name": "stdout",
     "output_type": "stream",
     "text": [
      "Failed to search for this game version screen resolution in description!\n",
      "-> http://www.7723.cn/download/5097.htm\n",
      "-> \n",
      "Failed to search for this game version screen resolution in description!\n",
      "-> http://www.7723.cn/download/5088.htm\n",
      "-> \n"
     ]
    },
    {
     "name": "stderr",
     "output_type": "stream",
     "text": [
      "Parsing http://www.7723.cn/download/5060.htm:  50%|██████████████              | 5884/11732 [07:36<09:09, 10.64it/s]"
     ]
    },
    {
     "name": "stdout",
     "output_type": "stream",
     "text": [
      "Failed to search for this game version screen resolution in description!\n",
      "-> http://www.7723.cn/download/5086.htm\n",
      "-> \n"
     ]
    },
    {
     "name": "stderr",
     "output_type": "stream",
     "text": [
      "Parsing http://www.7723.cn/download/5032.htm:  50%|██████████████              | 5890/11732 [07:37<07:05, 13.72it/s]"
     ]
    },
    {
     "name": "stdout",
     "output_type": "stream",
     "text": [
      "Failed to search for this game version screen resolution in description!\n",
      "-> http://www.7723.cn/download/5057.htm\n",
      "-> \n"
     ]
    },
    {
     "name": "stderr",
     "output_type": "stream",
     "text": [
      "Parsing http://www.7723.cn/download/5020.htm:  50%|██████████████              | 5894/11732 [07:37<07:32, 12.91it/s]"
     ]
    },
    {
     "name": "stdout",
     "output_type": "stream",
     "text": [
      "Failed to search for this game version screen resolution in description!\n",
      "-> http://www.7723.cn/download/5027.htm\n",
      "-> \n",
      "Failed to search for this game version screen resolution in description!\n",
      "-> http://www.7723.cn/download/5024.htm\n",
      "-> \n"
     ]
    },
    {
     "name": "stderr",
     "output_type": "stream",
     "text": [
      "Parsing http://www.7723.cn/download/4976.htm:  50%|██████████████              | 5900/11732 [07:37<07:16, 13.36it/s]"
     ]
    },
    {
     "name": "stdout",
     "output_type": "stream",
     "text": [
      "Failed to search for this game version screen resolution in description!\n",
      "-> http://www.7723.cn/download/5006.htm\n",
      "-> \n",
      "Failed to search for this game version screen resolution in description!\n",
      "-> http://www.7723.cn/download/4998.htm\n",
      "-> \n",
      "Failed to search for this game version screen resolution in description!\n",
      "-> http://www.7723.cn/download/4990.htm\n",
      "-> \n"
     ]
    },
    {
     "name": "stderr",
     "output_type": "stream",
     "text": [
      "Parsing http://www.7723.cn/download/4941.htm:  50%|██████████████              | 5904/11732 [07:38<07:15, 13.39it/s]"
     ]
    },
    {
     "name": "stdout",
     "output_type": "stream",
     "text": [
      "Failed to search for this game version screen resolution in description!\n",
      "-> http://www.7723.cn/download/4955.htm\n",
      "-> \n",
      "Failed to search for this game version screen resolution in description!\n",
      "-> http://www.7723.cn/download/4944.htm\n",
      "-> \n",
      "Failed to search for this game version screen resolution in description!"
     ]
    },
    {
     "name": "stderr",
     "output_type": "stream",
     "text": [
      "Parsing http://www.7723.cn/download/4937.htm:  50%|██████████████              | 5908/11732 [07:38<07:36, 12.76it/s]"
     ]
    },
    {
     "name": "stdout",
     "output_type": "stream",
     "text": [
      "\n",
      "-> http://www.7723.cn/download/4941.htm\n",
      "-> \n",
      "Failed to search for this game version screen resolution in description!\n",
      "-> http://www.7723.cn/download/4940.htm\n",
      "-> \n"
     ]
    },
    {
     "name": "stderr",
     "output_type": "stream",
     "text": [
      "Parsing http://www.7723.cn/download/4906.htm:  50%|██████████████              | 5916/11732 [07:39<07:17, 13.29it/s]"
     ]
    },
    {
     "name": "stdout",
     "output_type": "stream",
     "text": [
      "Failed to search for this game version screen resolution in description!\n",
      "-> http://www.7723.cn/download/4930.htm\n",
      "-> \n",
      "Failed to search for this game version screen resolution in description!\n",
      "-> http://www.7723.cn/download/4927.htm\n",
      "-> \n"
     ]
    },
    {
     "name": "stderr",
     "output_type": "stream",
     "text": [
      "Parsing http://www.7723.cn/download/4889.htm:  50%|██████████████▏             | 5920/11732 [07:39<07:03, 13.71it/s]"
     ]
    },
    {
     "name": "stdout",
     "output_type": "stream",
     "text": [
      "Failed to search for this game version screen resolution in description!\n",
      "-> http://www.7723.cn/download/4895.htm\n",
      "-> \n",
      "Failed to search for this game version screen resolution in description!"
     ]
    },
    {
     "name": "stderr",
     "output_type": "stream",
     "text": [
      "Parsing http://www.7723.cn/download/4878.htm:  50%|██████████████▏             | 5924/11732 [07:39<06:59, 13.84it/s]"
     ]
    },
    {
     "name": "stdout",
     "output_type": "stream",
     "text": [
      "\n",
      "-> http://www.7723.cn/download/4889.htm\n",
      "-> \n",
      "Failed to search for this game version screen resolution in description!\n",
      "-> http://www.7723.cn/download/4889.htm\n",
      "-> \n"
     ]
    },
    {
     "name": "stderr",
     "output_type": "stream",
     "text": [
      "Parsing http://www.7723.cn/download/4829.htm:  51%|██████████████▏             | 5932/11732 [07:40<07:40, 12.59it/s]"
     ]
    },
    {
     "name": "stdout",
     "output_type": "stream",
     "text": [
      "Failed to search for this game version screen resolution in description!\n",
      "-> http://www.7723.cn/download/4857.htm\n",
      "-> \n"
     ]
    },
    {
     "name": "stderr",
     "output_type": "stream",
     "text": [
      "Parsing http://www.7723.cn/download/4807.htm:  51%|██████████████▏             | 5936/11732 [07:40<07:28, 12.93it/s]"
     ]
    },
    {
     "name": "stdout",
     "output_type": "stream",
     "text": [
      "Failed to search for this game version screen resolution in description!\n",
      "-> http://www.7723.cn/download/4822.htm\n",
      "-> \n",
      "Failed to search for this game version screen resolution in description!\n",
      "-> http://www.7723.cn/download/4812.htm\n",
      "-> \n"
     ]
    },
    {
     "name": "stderr",
     "output_type": "stream",
     "text": [
      "Parsing http://www.7723.cn/download/4777.htm:  51%|██████████████▏             | 5938/11732 [07:40<07:34, 12.74it/s]"
     ]
    },
    {
     "name": "stdout",
     "output_type": "stream",
     "text": [
      "Failed to search for this game version screen resolution in description!\n",
      "-> http://www.7723.cn/download/4807.htm\n",
      "-> \n",
      "Failed to search for this game version screen resolution in description!\n",
      "-> http://www.7723.cn/download/4807.htm\n",
      "-> \n",
      "Failed to search for this game version screen resolution in description!\n",
      "-> http://www.7723.cn/download/4807.htm\n",
      "-> \n",
      "Failed to search for this game version screen resolution in description!\n",
      "-> http://www.7723.cn/download/4807.htm\n",
      "-> \n",
      "Failed to search for this game version screen resolution in description!\n",
      "-> http://www.7723.cn/download/4807.htm\n",
      "-> \n",
      "Failed to search for this game version screen resolution in description!\n",
      "-> http://www.7723.cn/download/4807.htm\n",
      "-> \n",
      "Failed to search for this game version screen resolution in description!\n",
      "-> http://www.7723.cn/download/4807.htm\n",
      "-> \n",
      "Failed to search for this game version screen resolution in description!\n",
      "-> http://www.7723.cn/download/4807.htm\n",
      "-> \n",
      "Failed to search for this game version screen resolution in description!\n",
      "-> http://www.7723.cn/download/4807.htm\n",
      "-> \n",
      "Failed to search for this game version screen resolution in description!\n",
      "-> http://www.7723.cn/download/4807.htm\n",
      "-> \n",
      "Failed to search for this game version screen resolution in description!\n",
      "-> http://www.7723.cn/download/4807.htm\n",
      "-> \n",
      "Failed to search for this game version screen resolution in description!\n",
      "-> http://www.7723.cn/download/4807.htm\n",
      "-> \n",
      "Failed to search for this game version screen resolution in description!\n",
      "-> http://www.7723.cn/download/4807.htm\n",
      "-> \n",
      "Failed to search for this game version screen resolution in description!\n",
      "-> http://www.7723.cn/download/4807.htm\n",
      "-> \n",
      "Failed to search for this game version screen resolution in description!\n",
      "-> http://www.7723.cn/download/4807.htm\n",
      "-> \n",
      "Failed to search for this game version screen resolution in description!\n",
      "-> http://www.7723.cn/download/4807.htm\n",
      "-> \n",
      "Failed to search for this game version screen resolution in description!\n",
      "-> http://www.7723.cn/download/4807.htm\n",
      "-> \n",
      "Failed to search for this game version screen resolution in description!\n",
      "-> http://www.7723.cn/download/4807.htm\n",
      "-> \n"
     ]
    },
    {
     "name": "stderr",
     "output_type": "stream",
     "text": [
      "Parsing http://www.7723.cn/download/4739.htm:  51%|██████████████▏             | 5944/11732 [07:41<08:24, 11.47it/s]"
     ]
    },
    {
     "name": "stdout",
     "output_type": "stream",
     "text": [
      "Failed to search for this game version screen resolution in description!\n",
      "-> http://www.7723.cn/download/4755.htm\n",
      "-> \n",
      "Failed to search for this game version screen resolution in description!\n",
      "-> http://www.7723.cn/download/4755.htm\n",
      "-> \n",
      "Failed to search for this game version screen resolution in description!\n",
      "-> http://www.7723.cn/download/4755.htm\n",
      "-> \n",
      "Failed to search for this game version screen resolution in description!\n",
      "-> http://www.7723.cn/download/4755.htm\n",
      "-> \n",
      "Failed to search for this game version screen resolution in description!\n",
      "-> http://www.7723.cn/download/4755.htm\n",
      "-> \n",
      "Failed to search for this game version screen resolution in description!\n",
      "-> http://www.7723.cn/download/4755.htm\n",
      "-> \n",
      "Failed to search for this game version screen resolution in description!\n",
      "-> http://www.7723.cn/download/4755.htm\n",
      "-> \n",
      "Failed to search for this game version screen resolution in description!\n",
      "-> http://www.7723.cn/download/4755.htm\n",
      "-> \n",
      "Failed to search for this game version screen resolution in description!\n",
      "-> http://www.7723.cn/download/4755.htm\n",
      "-> \n",
      "Failed to search for this game version screen resolution in description!\n",
      "-> http://www.7723.cn/download/4755.htm\n",
      "-> \n",
      "Failed to search for this game version screen resolution in description!\n",
      "-> http://www.7723.cn/download/4755.htm\n",
      "-> \n",
      "Failed to search for this game version screen resolution in description!\n",
      "-> http://www.7723.cn/download/4755.htm\n",
      "-> \n",
      "Failed to search for this game version screen resolution in description!\n",
      "-> http://www.7723.cn/download/4755.htm\n",
      "-> \n",
      "Failed to search for this game version screen resolution in description!\n",
      "-> http://www.7723.cn/download/4755.htm\n",
      "-> \n",
      "Failed to search for this game version screen resolution in description!\n",
      "-> http://www.7723.cn/download/4755.htm\n",
      "-> \n",
      "Failed to search for this game version screen resolution in description!\n",
      "-> http://www.7723.cn/download/4755.htm\n",
      "-> \n",
      "Failed to search for this game version screen resolution in description!\n",
      "-> http://www.7723.cn/download/4755.htm\n",
      "-> \n",
      "Failed to search for this game version screen resolution in description!\n",
      "-> http://www.7723.cn/download/4755.htm\n",
      "-> \n",
      "Failed to search for this game version screen resolution in description!\n",
      "-> http://www.7723.cn/download/4755.htm\n",
      "-> \n"
     ]
    },
    {
     "name": "stderr",
     "output_type": "stream",
     "text": [
      "Parsing http://www.7723.cn/download/4708.htm:  51%|██████████████▏             | 5948/11732 [07:41<08:02, 11.98it/s]"
     ]
    },
    {
     "name": "stdout",
     "output_type": "stream",
     "text": [
      "Failed to search for this game version screen resolution in description!\n",
      "-> http://www.7723.cn/download/4734.htm\n",
      "-> \n",
      "Failed to search for this game version screen resolution in description!\n",
      "-> http://www.7723.cn/download/4734.htm\n",
      "-> \n",
      "Failed to search for this game version screen resolution in description!\n",
      "-> http://www.7723.cn/download/4734.htm\n",
      "-> \n",
      "Failed to search for this game version screen resolution in description!\n",
      "-> http://www.7723.cn/download/4734.htm\n",
      "-> \n",
      "Failed to search for this game version screen resolution in description!\n",
      "-> http://www.7723.cn/download/4734.htm\n",
      "-> \n",
      "Failed to search for this game version screen resolution in description!\n",
      "-> http://www.7723.cn/download/4734.htm\n",
      "-> \n",
      "Failed to search for this game version screen resolution in description!\n",
      "-> http://www.7723.cn/download/4734.htm\n",
      "-> \n",
      "Failed to search for this game version screen resolution in description!\n",
      "-> http://www.7723.cn/download/4734.htm\n",
      "-> \n",
      "Failed to search for this game version screen resolution in description!\n",
      "-> http://www.7723.cn/download/4734.htm\n",
      "-> \n",
      "Failed to search for this game version screen resolution in description!\n",
      "-> http://www.7723.cn/download/4734.htm\n",
      "-> \n",
      "Failed to search for this game version screen resolution in description!\n",
      "-> http://www.7723.cn/download/4734.htm\n",
      "-> \n",
      "Failed to search for this game version screen resolution in description!\n",
      "-> http://www.7723.cn/download/4734.htm\n",
      "-> \n",
      "Failed to search for this game version screen resolution in description!\n",
      "-> http://www.7723.cn/download/4734.htm\n",
      "-> \n",
      "Failed to search for this game version screen resolution in description!\n",
      "-> http://www.7723.cn/download/4734.htm\n",
      "-> \n",
      "Failed to search for this game version screen resolution in description!\n",
      "-> http://www.7723.cn/download/4734.htm\n",
      "-> \n",
      "Failed to search for this game version screen resolution in description!\n",
      "-> http://www.7723.cn/download/4734.htm\n",
      "-> \n",
      "Failed to search for this game version screen resolution in description!\n",
      "-> http://www.7723.cn/download/4734.htm\n",
      "-> \n",
      "Failed to search for this game version screen resolution in description!\n",
      "-> http://www.7723.cn/download/4734.htm\n",
      "-> \n"
     ]
    },
    {
     "name": "stderr",
     "output_type": "stream",
     "text": [
      "Parsing http://www.7723.cn/download/4577.htm:  51%|██████████████▏             | 5962/11732 [07:42<06:44, 14.27it/s]"
     ]
    },
    {
     "name": "stdout",
     "output_type": "stream",
     "text": [
      "Failed to search for this game version screen resolution in description!\n",
      "-> http://www.7723.cn/download/4588.htm\n",
      "-> \n",
      "Failed to search for this game version screen resolution in description!\n",
      "-> http://www.7723.cn/download/4588.htm\n",
      "-> \n",
      "Failed to search for this game version screen resolution in description!\n",
      "-> http://www.7723.cn/download/4588.htm\n",
      "-> \n",
      "Failed to search for this game version screen resolution in description!\n",
      "-> http://www.7723.cn/download/4588.htm\n",
      "-> \n",
      "Failed to search for this game version screen resolution in description!\n",
      "-> http://www.7723.cn/download/4588.htm\n",
      "-> \n",
      "Failed to search for this game version screen resolution in description!\n",
      "-> http://www.7723.cn/download/4588.htm\n",
      "-> \n",
      "Failed to search for this game version screen resolution in description!\n",
      "-> http://www.7723.cn/download/4588.htm\n",
      "-> \n",
      "Failed to search for this game version screen resolution in description!\n",
      "-> http://www.7723.cn/download/4588.htm\n",
      "-> \n",
      "Failed to search for this game version screen resolution in description!\n",
      "-> http://www.7723.cn/download/4588.htm\n",
      "-> \n",
      "Failed to search for this game version screen resolution in description!\n",
      "-> http://www.7723.cn/download/4588.htm\n",
      "-> \n",
      "Failed to search for this game version screen resolution in description!\n",
      "-> http://www.7723.cn/download/4588.htm\n",
      "-> \n",
      "Failed to search for this game version screen resolution in description!\n",
      "-> http://www.7723.cn/download/4588.htm\n",
      "-> \n",
      "Failed to search for this game version screen resolution in description!\n",
      "-> http://www.7723.cn/download/4588.htm\n",
      "-> \n",
      "Failed to search for this game version screen resolution in description!\n",
      "-> http://www.7723.cn/download/4588.htm\n",
      "-> \n",
      "Failed to search for this game version screen resolution in description!\n",
      "-> http://www.7723.cn/download/4588.htm\n",
      "-> \n",
      "Failed to search for this game version screen resolution in description!\n",
      "-> http://www.7723.cn/download/4588.htm\n",
      "-> \n",
      "Failed to search for this game version screen resolution in description!\n",
      "-> http://www.7723.cn/download/4588.htm\n",
      "-> \n"
     ]
    },
    {
     "name": "stderr",
     "output_type": "stream",
     "text": [
      "Parsing http://www.7723.cn/download/4544.htm:  51%|██████████████▏             | 5970/11732 [07:43<06:47, 14.13it/s]"
     ]
    },
    {
     "name": "stdout",
     "output_type": "stream",
     "text": [
      "Failed to search for this game version screen resolution in description!\n",
      "-> http://www.7723.cn/download/4555.htm\n",
      "-> \n",
      "Failed to search for this game version screen resolution in description!\n",
      "-> http://www.7723.cn/download/4555.htm\n",
      "-> \n",
      "Failed to search for this game version screen resolution in description!\n",
      "-> http://www.7723.cn/download/4555.htm\n",
      "-> \n",
      "Failed to search for this game version screen resolution in description!\n",
      "-> http://www.7723.cn/download/4555.htm\n",
      "-> \n"
     ]
    },
    {
     "name": "stderr",
     "output_type": "stream",
     "text": [
      "Parsing http://www.7723.cn/download/4457.htm:  51%|██████████████▎             | 5982/11732 [07:44<06:50, 14.00it/s]"
     ]
    },
    {
     "name": "stdout",
     "output_type": "stream",
     "text": [
      "Failed to search for this game version screen resolution in description!\n",
      "-> http://www.7723.cn/download/4485.htm\n",
      "-> \n"
     ]
    },
    {
     "name": "stderr",
     "output_type": "stream",
     "text": [
      "Parsing http://www.7723.cn/download/4435.htm:  51%|██████████████▎             | 5988/11732 [07:44<07:31, 12.73it/s]"
     ]
    },
    {
     "name": "stdout",
     "output_type": "stream",
     "text": [
      "Failed to search for this game version screen resolution in description!\n",
      "-> http://www.7723.cn/download/4446.htm\n",
      "-> \n"
     ]
    },
    {
     "name": "stderr",
     "output_type": "stream",
     "text": [
      "Parsing http://www.7723.cn/download/4360.htm:  51%|██████████████▎             | 6000/11732 [07:45<07:31, 12.69it/s]"
     ]
    },
    {
     "name": "stdout",
     "output_type": "stream",
     "text": [
      "Failed to search for this game version screen resolution in description!\n",
      "-> http://www.7723.cn/download/4383.htm\n",
      "-> \n"
     ]
    },
    {
     "name": "stderr",
     "output_type": "stream",
     "text": [
      "Parsing http://www.7723.cn/download/4103.htm:  51%|██████████████▍             | 6038/11732 [07:48<06:55, 13.69it/s]"
     ]
    },
    {
     "name": "stdout",
     "output_type": "stream",
     "text": [
      "Failed to search for this game version screen resolution in description!\n",
      "-> http://www.7723.cn/download/4124.htm\n",
      "-> \n",
      "Failed to search for this game version screen resolution in description!\n",
      "-> http://www.7723.cn/download/4106.htm\n",
      "-> \n"
     ]
    },
    {
     "name": "stderr",
     "output_type": "stream",
     "text": [
      "Parsing http://www.7723.cn/download/4083.htm:  52%|██████████████▍             | 6042/11732 [07:48<07:11, 13.19it/s]"
     ]
    },
    {
     "name": "stdout",
     "output_type": "stream",
     "text": [
      "Failed to search for this game version screen resolution in description!\n",
      "-> http://www.7723.cn/download/4103.htm\n",
      "-> \n"
     ]
    },
    {
     "name": "stderr",
     "output_type": "stream",
     "text": [
      "Parsing http://www.7723.cn/download/4066.htm:  52%|██████████████▍             | 6044/11732 [07:48<07:27, 12.72it/s]"
     ]
    },
    {
     "name": "stdout",
     "output_type": "stream",
     "text": [
      "Failed to search for this game version screen resolution in description!\n",
      "-> http://www.7723.cn/download/4083.htm\n",
      "-> \n"
     ]
    },
    {
     "name": "stderr",
     "output_type": "stream",
     "text": [
      "Parsing http://www.7723.cn/download/3967.htm:  52%|██████████████▍             | 6060/11732 [07:49<06:51, 13.79it/s]"
     ]
    },
    {
     "name": "stdout",
     "output_type": "stream",
     "text": [
      "Failed to search for this game version screen resolution in description!\n",
      "-> http://www.7723.cn/download/3983.htm\n",
      "-> \n"
     ]
    },
    {
     "name": "stderr",
     "output_type": "stream",
     "text": [
      "Parsing http://www.7723.cn/download/3851.htm:  52%|██████████████▌             | 6076/11732 [07:51<08:21, 11.28it/s]"
     ]
    },
    {
     "name": "stdout",
     "output_type": "stream",
     "text": [
      "Failed to search for this game version screen resolution in description!\n",
      "-> http://www.7723.cn/download/3884.htm\n",
      "-> \n"
     ]
    },
    {
     "name": "stderr",
     "output_type": "stream",
     "text": [
      "Parsing http://www.7723.cn/download/3781.htm:  52%|██████████████▌             | 6088/11732 [07:51<06:21, 14.78it/s]"
     ]
    },
    {
     "name": "stdout",
     "output_type": "stream",
     "text": [
      "Failed to search for this game version screen resolution in description!\n",
      "-> http://www.7723.cn/download/3801.htm\n",
      "-> \n"
     ]
    },
    {
     "name": "stderr",
     "output_type": "stream",
     "text": [
      "Parsing http://www.7723.cn/download/3733.htm:  52%|██████████████▌             | 6096/11732 [07:52<06:20, 14.83it/s]"
     ]
    },
    {
     "name": "stdout",
     "output_type": "stream",
     "text": [
      "Failed to search for this game version screen resolution in description!\n",
      "-> http://www.7723.cn/download/3754.htm\n",
      "-> \n",
      "Failed to search for this game version screen resolution in description!\n",
      "-> http://www.7723.cn/download/3746.htm\n",
      "-> \n"
     ]
    },
    {
     "name": "stderr",
     "output_type": "stream",
     "text": [
      "Parsing http://www.7723.cn/download/3346.htm:  52%|██████████████▋             | 6156/11732 [07:56<06:17, 14.79it/s]"
     ]
    },
    {
     "name": "stdout",
     "output_type": "stream",
     "text": [
      "Failed to search for this game version screen resolution in description!\n",
      "-> http://www.7723.cn/download/3368.htm\n",
      "-> \n"
     ]
    },
    {
     "name": "stderr",
     "output_type": "stream",
     "text": [
      "Parsing http://www.7723.cn/download/3208.htm:  53%|██████████████▋             | 6176/11732 [07:58<06:09, 15.04it/s]"
     ]
    },
    {
     "name": "stdout",
     "output_type": "stream",
     "text": [
      "Failed to search for this game version screen resolution in description!\n",
      "-> http://www.7723.cn/download/3223.htm\n",
      "-> \n",
      "Failed to search for this game version screen resolution in description!\n",
      "-> http://www.7723.cn/download/3208.htm\n",
      "-> \n"
     ]
    },
    {
     "name": "stderr",
     "output_type": "stream",
     "text": [
      "Parsing http://www.7723.cn/download/3156.htm:  53%|██████████████▊             | 6186/11732 [07:58<06:06, 15.12it/s]"
     ]
    },
    {
     "name": "stdout",
     "output_type": "stream",
     "text": [
      "Failed to search for this game version screen resolution in description!\n",
      "-> http://www.7723.cn/download/3170.htm\n",
      "-> \n"
     ]
    },
    {
     "name": "stderr",
     "output_type": "stream",
     "text": [
      "Parsing http://www.7723.cn/download/3031.htm:  53%|██████████████▊             | 6208/11732 [08:00<06:22, 14.45it/s]"
     ]
    },
    {
     "name": "stdout",
     "output_type": "stream",
     "text": [
      "Failed to search for this game version screen resolution in description!\n",
      "-> http://www.7723.cn/download/3050.htm\n",
      "-> \n",
      "Failed to search for this game version screen resolution in description!\n",
      "-> http://www.7723.cn/download/3050.htm\n",
      "-> \n",
      "Failed to search for this game version screen resolution in description!\n",
      "-> http://www.7723.cn/download/3050.htm\n",
      "-> \n"
     ]
    },
    {
     "name": "stderr",
     "output_type": "stream",
     "text": [
      "Parsing http://www.7723.cn/download/2846.htm:  53%|██████████████▊             | 6230/11732 [08:01<06:16, 14.61it/s]"
     ]
    },
    {
     "name": "stdout",
     "output_type": "stream",
     "text": [
      "Failed to search for this game version screen resolution in description!\n",
      "-> http://www.7723.cn/download/2867.htm\n",
      "-> \n"
     ]
    },
    {
     "name": "stderr",
     "output_type": "stream",
     "text": [
      "Parsing http://www.7723.cn/download/2794.htm:  53%|██████████████▉             | 6242/11732 [08:02<06:07, 14.92it/s]"
     ]
    },
    {
     "name": "stdout",
     "output_type": "stream",
     "text": [
      "Failed to search for this game version screen resolution in description!\n",
      "-> http://www.7723.cn/download/2819.htm\n",
      "-> \n",
      "Failed to search for this game version screen resolution in description!\n",
      "-> http://www.7723.cn/download/2819.htm\n",
      "-> \n"
     ]
    },
    {
     "name": "stderr",
     "output_type": "stream",
     "text": [
      "Parsing http://www.7723.cn/download/2703.htm:  53%|██████████████▉             | 6258/11732 [08:03<05:59, 15.24it/s]"
     ]
    },
    {
     "name": "stdout",
     "output_type": "stream",
     "text": [
      "Failed to search for this game version screen resolution in description!\n",
      "-> http://www.7723.cn/download/2714.htm\n",
      "-> \n"
     ]
    },
    {
     "name": "stderr",
     "output_type": "stream",
     "text": [
      "Parsing http://www.7723.cn/download/2514.htm:  54%|███████████████             | 6300/11732 [08:06<05:58, 15.13it/s]"
     ]
    },
    {
     "name": "stdout",
     "output_type": "stream",
     "text": [
      "Failed to search for this game version screen resolution in description!\n",
      "-> http://www.7723.cn/download/2525.htm\n",
      "-> \n"
     ]
    },
    {
     "name": "stderr",
     "output_type": "stream",
     "text": [
      "Parsing http://www.7723.cn/download/2483.htm:  54%|███████████████             | 6310/11732 [08:07<05:49, 15.52it/s]"
     ]
    },
    {
     "name": "stdout",
     "output_type": "stream",
     "text": [
      "Failed to search for this game version screen resolution in description!\n",
      "-> http://www.7723.cn/download/2488.htm\n",
      "-> \n"
     ]
    },
    {
     "name": "stderr",
     "output_type": "stream",
     "text": [
      "Parsing http://www.7723.cn/download/2431.htm:  54%|███████████████             | 6324/11732 [08:07<05:42, 15.78it/s]"
     ]
    },
    {
     "name": "stdout",
     "output_type": "stream",
     "text": [
      "Failed to search for this game version screen resolution in description!\n",
      "-> http://www.7723.cn/download/2437.htm\n",
      "-> \n",
      "Failed to search for this game version screen resolution in description!\n",
      "-> http://www.7723.cn/download/2433.htm\n",
      "-> \n"
     ]
    },
    {
     "name": "stderr",
     "output_type": "stream",
     "text": [
      "Parsing http://www.7723.cn/download/2403.htm:  54%|███████████████             | 6330/11732 [08:08<05:40, 15.84it/s]"
     ]
    },
    {
     "name": "stdout",
     "output_type": "stream",
     "text": [
      "Failed to search for this game version screen resolution in description!\n",
      "-> http://www.7723.cn/download/2415.htm\n",
      "-> \n",
      "Failed to search for this game version screen resolution in description!\n",
      "-> http://www.7723.cn/download/2403.htm\n",
      "-> "
     ]
    },
    {
     "name": "stderr",
     "output_type": "stream",
     "text": [
      "Parsing http://www.7723.cn/download/2391.htm:  54%|███████████████             | 6334/11732 [08:08<05:48, 15.50it/s]"
     ]
    },
    {
     "name": "stdout",
     "output_type": "stream",
     "text": [
      "\n",
      "Failed to search for this game version screen resolution in description!\n",
      "-> http://www.7723.cn/download/2403.htm\n",
      "-> \n",
      "Failed to search for this game version screen resolution in description!\n",
      "-> http://www.7723.cn/download/2403.htm\n",
      "-> \n",
      "Failed to search for this game version screen resolution in description!\n",
      "-> http://www.7723.cn/download/2403.htm\n",
      "-> \n",
      "Failed to search for this game version screen resolution in description!\n",
      "-> http://www.7723.cn/download/2403.htm\n",
      "-> \n"
     ]
    },
    {
     "name": "stderr",
     "output_type": "stream",
     "text": [
      "Parsing http://www.7723.cn/download/2303.htm:  54%|███████████████▏            | 6352/11732 [08:09<05:49, 15.40it/s]"
     ]
    },
    {
     "name": "stdout",
     "output_type": "stream",
     "text": [
      "Failed to search for this game version screen resolution in description!\n",
      "-> http://www.7723.cn/download/2319.htm\n",
      "-> \n"
     ]
    },
    {
     "name": "stderr",
     "output_type": "stream",
     "text": [
      "Parsing http://www.7723.cn/download/2201.htm:  54%|███████████████▏            | 6370/11732 [08:11<05:56, 15.04it/s]"
     ]
    },
    {
     "name": "stdout",
     "output_type": "stream",
     "text": [
      "Failed to search for this game version screen resolution in description!\n",
      "-> http://www.7723.cn/download/2227.htm\n",
      "-> \n"
     ]
    },
    {
     "name": "stderr",
     "output_type": "stream",
     "text": [
      "Parsing http://www.7723.cn/download/2141.htm:  54%|███████████████▏            | 6380/11732 [08:11<05:51, 15.25it/s]"
     ]
    },
    {
     "name": "stdout",
     "output_type": "stream",
     "text": [
      "Failed to search for this game version screen resolution in description!\n",
      "-> http://www.7723.cn/download/2169.htm\n",
      "-> \n"
     ]
    },
    {
     "name": "stderr",
     "output_type": "stream",
     "text": [
      "Parsing http://www.7723.cn/download/2086.htm:  55%|███████████████▎            | 6394/11732 [08:12<05:35, 15.90it/s]"
     ]
    },
    {
     "name": "stdout",
     "output_type": "stream",
     "text": [
      "Failed to search for this game version screen resolution in description!\n",
      "-> http://www.7723.cn/download/2097.htm\n",
      "-> \n"
     ]
    },
    {
     "name": "stderr",
     "output_type": "stream",
     "text": [
      "Parsing http://www.7723.cn/download/2055.htm:  55%|███████████████▎            | 6398/11732 [08:12<05:40, 15.66it/s]"
     ]
    },
    {
     "name": "stdout",
     "output_type": "stream",
     "text": [
      "Failed to search for this game version screen resolution in description!\n",
      "-> http://www.7723.cn/download/2082.htm\n",
      "-> \n",
      "Failed to search for this game version screen resolution in description!\n",
      "-> http://www.7723.cn/download/2055.htm\n",
      "-> \n"
     ]
    },
    {
     "name": "stderr",
     "output_type": "stream",
     "text": [
      "Parsing http://www.7723.cn/download/1914.htm:  55%|███████████████▎            | 6422/11732 [08:14<06:09, 14.35it/s]"
     ]
    },
    {
     "name": "stdout",
     "output_type": "stream",
     "text": [
      "Failed to search for this game version screen resolution in description!\n",
      "-> http://www.7723.cn/download/1935.htm\n",
      "-> \n",
      "Failed to search for this game version screen resolution in description!\n",
      "-> http://www.7723.cn/download/1935.htm\n",
      "-> \n",
      "Failed to search for this game version screen resolution in description!\n",
      "-> http://www.7723.cn/download/1935.htm\n",
      "-> \n",
      "Failed to search for this game version screen resolution in description!\n",
      "-> http://www.7723.cn/download/1935.htm\n",
      "-> \n",
      "Failed to search for this game version screen resolution in description!\n",
      "-> http://www.7723.cn/download/1935.htm\n",
      "-> \n",
      "Failed to search for this game version screen resolution in description!\n",
      "-> http://www.7723.cn/download/1935.htm\n",
      "-> \n",
      "Failed to search for this game version screen resolution in description!\n",
      "-> http://www.7723.cn/download/1935.htm\n",
      "-> \n",
      "Failed to search for this game version screen resolution in description!\n",
      "-> http://www.7723.cn/download/1935.htm\n",
      "-> \n",
      "Failed to search for this game version screen resolution in description!\n",
      "-> http://www.7723.cn/download/1935.htm\n",
      "-> \n",
      "Failed to search for this game version screen resolution in description!\n",
      "-> http://www.7723.cn/download/1935.htm\n",
      "-> \n"
     ]
    },
    {
     "name": "stderr",
     "output_type": "stream",
     "text": [
      "Parsing http://www.7723.cn/download/1854.htm:  55%|███████████████▎            | 6434/11732 [08:15<06:28, 13.63it/s]"
     ]
    },
    {
     "name": "stdout",
     "output_type": "stream",
     "text": [
      "Failed to search for this game version screen resolution in description!\n",
      "-> http://www.7723.cn/download/1871.htm\n",
      "-> \n",
      "Failed to search for this game version screen resolution in description!\n",
      "-> http://www.7723.cn/download/1871.htm\n",
      "-> \n",
      "Failed to search for this game version screen resolution in description!\n",
      "-> http://www.7723.cn/download/1871.htm\n",
      "-> \n",
      "Failed to search for this game version screen resolution in description!\n",
      "-> http://www.7723.cn/download/1871.htm\n",
      "-> \n",
      "Failed to search for this game version screen resolution in description!\n",
      "-> http://www.7723.cn/download/1871.htm\n",
      "-> \n",
      "Failed to search for this game version screen resolution in description!\n",
      "-> http://www.7723.cn/download/1871.htm\n",
      "-> \n",
      "Failed to search for this game version screen resolution in description!\n",
      "-> http://www.7723.cn/download/1871.htm\n",
      "-> \n"
     ]
    },
    {
     "name": "stderr",
     "output_type": "stream",
     "text": [
      "Parsing http://www.7723.cn/download/1633.htm:  55%|███████████████▍            | 6466/11732 [08:17<06:16, 14.00it/s]"
     ]
    },
    {
     "name": "stdout",
     "output_type": "stream",
     "text": [
      "Failed to search for this game version screen resolution in description!\n",
      "-> http://www.7723.cn/download/1654.htm\n",
      "-> \n",
      "Failed to search for this game version screen resolution in description!\n",
      "-> "
     ]
    },
    {
     "name": "stderr",
     "output_type": "stream",
     "text": [
      "Parsing http://www.7723.cn/download/1576.htm:  55%|███████████████▍            | 6470/11732 [08:17<05:54, 14.85it/s]"
     ]
    },
    {
     "name": "stdout",
     "output_type": "stream",
     "text": [
      "http://www.7723.cn/download/1633.htm\n",
      "-> \n"
     ]
    },
    {
     "name": "stderr",
     "output_type": "stream",
     "text": [
      "Parsing http://www.7723.cn/download/1546.htm:  55%|███████████████▍            | 6476/11732 [08:18<05:36, 15.63it/s]"
     ]
    },
    {
     "name": "stdout",
     "output_type": "stream",
     "text": [
      "Failed to search for this game version screen resolution in description!\n",
      "-> http://www.7723.cn/download/1573.htm\n",
      "-> \n",
      "Failed to search for this game version screen resolution in description!\n",
      "-> http://www.7723.cn/download/1573.htm\n",
      "-> I-mate i9150系列5150 6150 7150 8150 9150\n"
     ]
    },
    {
     "name": "stderr",
     "output_type": "stream",
     "text": [
      "Parsing http://www.7723.cn/download/1332.htm:  55%|███████████████▌            | 6498/11732 [08:19<05:34, 15.63it/s]"
     ]
    },
    {
     "name": "stdout",
     "output_type": "stream",
     "text": [
      "Failed to search for this game version screen resolution in description!\n",
      "-> http://www.7723.cn/download/1346.htm\n",
      "-> \n",
      "Failed to search for this game version screen resolution in description!\n",
      "-> http://www.7723.cn/download/1346.htm\n",
      "-> \n"
     ]
    },
    {
     "name": "stderr",
     "output_type": "stream",
     "text": [
      "Parsing http://www.7723.cn/download/1151.htm:  56%|███████████████▌            | 6518/11732 [08:20<05:26, 15.99it/s]"
     ]
    },
    {
     "name": "stdout",
     "output_type": "stream",
     "text": [
      "Failed to search for this game version screen resolution in description!\n",
      "-> http://www.7723.cn/download/1202.htm\n",
      "-> \n"
     ]
    },
    {
     "name": "stderr",
     "output_type": "stream",
     "text": [
      "Parsing http://www.7723.cn/download/1054.htm:  56%|███████████████▌            | 6522/11732 [08:21<05:40, 15.31it/s]"
     ]
    },
    {
     "name": "stdout",
     "output_type": "stream",
     "text": [
      "Failed to search for this game version screen resolution in description!\n",
      "-> http://www.7723.cn/download/1095.htm\n",
      "-> \n"
     ]
    },
    {
     "name": "stderr",
     "output_type": "stream",
     "text": [
      "Parsing http://www.7723.cn/download/992.htm:  56%|████████████████▏            | 6530/11732 [08:21<05:52, 14.75it/s]"
     ]
    },
    {
     "name": "stdout",
     "output_type": "stream",
     "text": [
      "Failed to search for this game version screen resolution in description!\n",
      "-> http://www.7723.cn/download/1012.htm\n",
      "-> \n"
     ]
    },
    {
     "name": "stderr",
     "output_type": "stream",
     "text": [
      "Parsing http://www.7723.cn/download/886.htm:  56%|████████████████▏            | 6542/11732 [08:22<05:33, 15.55it/s]"
     ]
    },
    {
     "name": "stdout",
     "output_type": "stream",
     "text": [
      "Failed to search for this game version screen resolution in description!\n",
      "-> http://www.7723.cn/download/906.htm\n",
      "-> \n",
      "Failed to search for this game version screen resolution in description!\n",
      "-> http://www.7723.cn/download/894.htm\n",
      "-> \n"
     ]
    },
    {
     "name": "stderr",
     "output_type": "stream",
     "text": [
      "Parsing http://www.7723.cn/download/604.htm:  56%|████████████████▏            | 6564/11732 [08:23<05:59, 14.38it/s]"
     ]
    },
    {
     "name": "stdout",
     "output_type": "stream",
     "text": [
      "Failed to search for this game version screen resolution in description!\n",
      "-> http://www.7723.cn/download/639.htm\n",
      "-> \n"
     ]
    },
    {
     "name": "stderr",
     "output_type": "stream",
     "text": [
      "Parsing http://www.7723.cn/download/270.htm:  56%|████████████████▎            | 6596/11732 [08:26<05:38, 15.18it/s]"
     ]
    },
    {
     "name": "stdout",
     "output_type": "stream",
     "text": [
      "Failed to search for this game version screen resolution in description!\n",
      "-> http://www.7723.cn/download/315.htm\n",
      "-> \n",
      "Failed to search for this game version screen resolution in description!\n",
      "-> http://www.7723.cn/download/315.htm\n",
      "-> \n"
     ]
    },
    {
     "name": "stderr",
     "output_type": "stream",
     "text": [
      "Parsing http://www.7723.cn/download/11530.htm:  56%|███████████████▏           | 6620/11732 [08:27<05:40, 15.00it/s]"
     ]
    },
    {
     "name": "stdout",
     "output_type": "stream",
     "text": [
      "Failed to search for this game version screen resolution in description!\n",
      "-> http://www.7723.cn/download/31.htm\n",
      "-> \n"
     ]
    },
    {
     "name": "stderr",
     "output_type": "stream",
     "text": [
      "Parsing http://www.7723.cn/download/6652.htm:  58%|████████████████▏           | 6766/11732 [08:39<06:31, 12.69it/s]"
     ]
    },
    {
     "name": "stdout",
     "output_type": "stream",
     "text": [
      "Failed to search for this game version screen resolution in description!\n",
      "-> http://www.7723.cn/download/6755.htm\n",
      "-> \n",
      "Failed to search for this game version screen resolution in description!\n",
      "-> http://www.7723.cn/download/6755.htm\n",
      "-> \n"
     ]
    },
    {
     "name": "stderr",
     "output_type": "stream",
     "text": [
      "Parsing http://www.7723.cn/download/6544.htm:  58%|████████████████▏           | 6768/11732 [08:39<06:19, 13.08it/s]"
     ]
    },
    {
     "name": "stdout",
     "output_type": "stream",
     "text": [
      "Failed to search for this game version screen resolution in description!\n",
      "-> http://www.7723.cn/download/6651.htm\n",
      "-> \n"
     ]
    },
    {
     "name": "stderr",
     "output_type": "stream",
     "text": [
      "Parsing http://www.7723.cn/download/6330.htm:  58%|████████████████▏           | 6772/11732 [08:39<07:07, 11.61it/s]"
     ]
    },
    {
     "name": "stdout",
     "output_type": "stream",
     "text": [
      "Failed to search for this game version screen resolution in description!\n",
      "-> http://www.7723.cn/download/6544.htm\n",
      "-> \n",
      "Failed to search for this game version screen resolution in description!\n",
      "-> http://www.7723.cn/download/6536.htm\n",
      "-> \n",
      "Failed to search for this game version screen resolution in description!\n",
      "-> http://www.7723.cn/download/6499.htm\n",
      "-> \n"
     ]
    },
    {
     "name": "stderr",
     "output_type": "stream",
     "text": [
      "Parsing http://www.7723.cn/download/6301.htm:  58%|████████████████▏           | 6774/11732 [08:40<06:44, 12.25it/s]"
     ]
    },
    {
     "name": "stdout",
     "output_type": "stream",
     "text": [
      "Failed to search for this game version screen resolution in description!\n",
      "-> http://www.7723.cn/download/6330.htm\n",
      "-> \n",
      "Failed to search for this game version screen resolution in description!\n",
      "-> http://www.7723.cn/download/6311.htm\n",
      "-> \n"
     ]
    },
    {
     "name": "stderr",
     "output_type": "stream",
     "text": [
      "Parsing http://www.7723.cn/download/6215.htm:  58%|████████████████▏           | 6778/11732 [08:40<06:49, 12.10it/s]"
     ]
    },
    {
     "name": "stdout",
     "output_type": "stream",
     "text": [
      "Failed to search for this game version screen resolution in description!\n",
      "-> http://www.7723.cn/download/6301.htm\n",
      "-> \n",
      "Failed to search for this game version screen resolution in description!\n",
      "-> http://www.7723.cn/download/6264.htm\n",
      "-> \n"
     ]
    },
    {
     "name": "stderr",
     "output_type": "stream",
     "text": [
      "Parsing http://www.7723.cn/download/6043.htm:  58%|████████████████▏           | 6784/11732 [08:40<06:16, 13.13it/s]"
     ]
    },
    {
     "name": "stdout",
     "output_type": "stream",
     "text": [
      "Failed to search for this game version screen resolution in description!\n",
      "-> http://www.7723.cn/download/6098.htm\n",
      "-> \n",
      "Failed to search for this game version screen resolution in description!\n",
      "-> http://www.7723.cn/download/6075.htm\n",
      "-> \n"
     ]
    },
    {
     "name": "stderr",
     "output_type": "stream",
     "text": [
      "Parsing http://www.7723.cn/download/5933.htm:  58%|████████████████▏           | 6788/11732 [08:41<05:50, 14.12it/s]"
     ]
    },
    {
     "name": "stdout",
     "output_type": "stream",
     "text": [
      "Failed to search for this game version screen resolution in description!\n",
      "-> http://www.7723.cn/download/6009.htm\n",
      "-> \n",
      "Failed to search for this game version screen resolution in description!\n",
      "-> http://www.7723.cn/download/5976.htm\n",
      "-> \n"
     ]
    },
    {
     "name": "stderr",
     "output_type": "stream",
     "text": [
      "Parsing http://www.7723.cn/download/5852.htm:  58%|████████████████▏           | 6794/11732 [08:41<06:03, 13.59it/s]"
     ]
    },
    {
     "name": "stdout",
     "output_type": "stream",
     "text": [
      "Failed to search for this game version screen resolution in description!\n",
      "-> http://www.7723.cn/download/5894.htm\n",
      "-> \n"
     ]
    },
    {
     "name": "stderr",
     "output_type": "stream",
     "text": [
      "Parsing http://www.7723.cn/download/5708.htm:  58%|████████████████▏           | 6798/11732 [08:41<06:26, 12.78it/s]"
     ]
    },
    {
     "name": "stdout",
     "output_type": "stream",
     "text": [
      "Failed to search for this game version screen resolution in description!\n",
      "-> http://www.7723.cn/download/5780.htm\n",
      "-> \n",
      "Failed to search for this game version screen resolution in description!\n",
      "-> http://www.7723.cn/download/5749.htm\n",
      "-> \n",
      "Failed to search for this game version screen resolution in description!\n",
      "-> http://www.7723.cn/download/5719.htm\n",
      "-> \n"
     ]
    },
    {
     "name": "stderr",
     "output_type": "stream",
     "text": [
      "Parsing http://www.7723.cn/download/5601.htm:  58%|████████████████▏           | 6804/11732 [08:42<05:55, 13.87it/s]"
     ]
    },
    {
     "name": "stdout",
     "output_type": "stream",
     "text": [
      "Failed to search for this game version screen resolution in description!\n",
      "-> http://www.7723.cn/download/5629.htm\n",
      "-> \n",
      "Failed to search for this game version screen resolution in description!\n",
      "-> http://www.7723.cn/download/5620.htm\n",
      "-> \n",
      "Failed to search for this game version screen resolution in description!\n",
      "-> http://www.7723.cn/download/5607.htm\n",
      "-> \n"
     ]
    },
    {
     "name": "stderr",
     "output_type": "stream",
     "text": [
      "Parsing http://www.7723.cn/download/5501.htm:  58%|████████████████▏           | 6806/11732 [08:42<05:57, 13.78it/s]"
     ]
    },
    {
     "name": "stdout",
     "output_type": "stream",
     "text": [
      "Failed to search for this game version screen resolution in description!\n",
      "-> http://www.7723.cn/download/5601.htm\n",
      "-> \n"
     ]
    },
    {
     "name": "stderr",
     "output_type": "stream",
     "text": [
      "Parsing http://www.7723.cn/download/5427.htm:  58%|████████████████▎           | 6810/11732 [08:42<05:55, 13.85it/s]"
     ]
    },
    {
     "name": "stdout",
     "output_type": "stream",
     "text": [
      "Failed to search for this game version screen resolution in description!\n",
      "-> http://www.7723.cn/download/5484.htm\n",
      "-> \n"
     ]
    },
    {
     "name": "stderr",
     "output_type": "stream",
     "text": [
      "Parsing http://www.7723.cn/download/5239.htm:  58%|████████████████▎           | 6820/11732 [08:43<05:47, 14.14it/s]"
     ]
    },
    {
     "name": "stdout",
     "output_type": "stream",
     "text": [
      "Failed to search for this game version screen resolution in description!\n",
      "-> http://www.7723.cn/download/5339.htm\n",
      "-> \n",
      "Failed to search for this game version screen resolution in description!\n",
      "-> http://www.7723.cn/download/5338.htm\n",
      "-> \n"
     ]
    },
    {
     "name": "stderr",
     "output_type": "stream",
     "text": [
      "Parsing http://www.7723.cn/download/5110.htm:  58%|████████████████▎           | 6824/11732 [08:43<05:37, 14.56it/s]"
     ]
    },
    {
     "name": "stdout",
     "output_type": "stream",
     "text": [
      "Failed to search for this game version screen resolution in description!\n",
      "-> http://www.7723.cn/download/5224.htm\n",
      "-> \n"
     ]
    },
    {
     "name": "stderr",
     "output_type": "stream",
     "text": [
      "Parsing http://www.7723.cn/download/4982.htm:  58%|████████████████▎           | 6828/11732 [08:43<05:26, 15.01it/s]"
     ]
    },
    {
     "name": "stdout",
     "output_type": "stream",
     "text": [
      "Failed to search for this game version screen resolution in description!\n",
      "-> http://www.7723.cn/download/5108.htm\n",
      "-> \n"
     ]
    },
    {
     "name": "stderr",
     "output_type": "stream",
     "text": [
      "Parsing http://www.7723.cn/download/4920.htm:  58%|████████████████▎           | 6830/11732 [08:44<06:37, 12.32it/s]"
     ]
    },
    {
     "name": "stdout",
     "output_type": "stream",
     "text": [
      "Failed to search for this game version screen resolution in description!\n",
      "-> http://www.7723.cn/download/4981.htm\n",
      "-> \n",
      "Failed to search for this game version screen resolution in description!"
     ]
    },
    {
     "name": "stderr",
     "output_type": "stream",
     "text": [
      "Parsing http://www.7723.cn/download/4873.htm:  58%|████████████████▎           | 6834/11732 [08:44<06:34, 12.40it/s]"
     ]
    },
    {
     "name": "stdout",
     "output_type": "stream",
     "text": [
      "\n",
      "-> http://www.7723.cn/download/4920.htm\n",
      "-> \n",
      "Failed to search for this game version screen resolution in description!\n",
      "-> http://www.7723.cn/download/4903.htm\n",
      "-> \n"
     ]
    },
    {
     "name": "stderr",
     "output_type": "stream",
     "text": [
      "Parsing http://www.7723.cn/download/4501.htm:  58%|████████████████▎           | 6848/11732 [08:45<05:35, 14.57it/s]"
     ]
    },
    {
     "name": "stdout",
     "output_type": "stream",
     "text": [
      "Failed to search for this game version screen resolution in description!\n",
      "-> http://www.7723.cn/download/4560.htm\n",
      "-> \n"
     ]
    },
    {
     "name": "stderr",
     "output_type": "stream",
     "text": [
      "Parsing http://www.7723.cn/download/4447.htm:  58%|████████████████▎           | 6854/11732 [08:45<05:24, 15.03it/s]"
     ]
    },
    {
     "name": "stdout",
     "output_type": "stream",
     "text": [
      "Failed to search for this game version screen resolution in description!\n",
      "-> http://www.7723.cn/download/4480.htm\n",
      "-> \n"
     ]
    },
    {
     "name": "stderr",
     "output_type": "stream",
     "text": [
      "Parsing http://www.7723.cn/download/4274.htm:  59%|████████████████▍           | 6864/11732 [08:46<05:48, 13.96it/s]"
     ]
    },
    {
     "name": "stdout",
     "output_type": "stream",
     "text": [
      "Failed to search for this game version screen resolution in description!\n",
      "-> http://www.7723.cn/download/4294.htm\n",
      "-> \n"
     ]
    },
    {
     "name": "stderr",
     "output_type": "stream",
     "text": [
      "Parsing http://www.7723.cn/download/4117.htm:  59%|████████████████▍           | 6874/11732 [08:47<05:34, 14.54it/s]"
     ]
    },
    {
     "name": "stdout",
     "output_type": "stream",
     "text": [
      "Failed to search for this game version screen resolution in description!\n",
      "-> http://www.7723.cn/download/4153.htm\n",
      "-> \n",
      "Failed to search for this game version screen resolution in description!\n",
      "-> http://www.7723.cn/download/4129.htm\n",
      "-> \n",
      "Failed to search for this game version screen resolution in description!\n",
      "-> http://www.7723.cn/download/4117.htm\n",
      "-> "
     ]
    },
    {
     "name": "stderr",
     "output_type": "stream",
     "text": [
      "Parsing http://www.7723.cn/download/4057.htm:  59%|████████████████▍           | 6878/11732 [08:47<05:18, 15.24it/s]"
     ]
    },
    {
     "name": "stdout",
     "output_type": "stream",
     "text": [
      "\n",
      "Failed to search for this game version screen resolution in description!\n",
      "-> http://www.7723.cn/download/4117.htm\n",
      "-> \n"
     ]
    },
    {
     "name": "stderr",
     "output_type": "stream",
     "text": [
      "Parsing http://www.7723.cn/download/3827.htm:  59%|████████████████▍           | 6886/11732 [08:48<05:08, 15.72it/s]"
     ]
    },
    {
     "name": "stdout",
     "output_type": "stream",
     "text": [
      "Failed to search for this game version screen resolution in description!\n",
      "-> http://www.7723.cn/download/3966.htm\n",
      "-> \n"
     ]
    },
    {
     "name": "stderr",
     "output_type": "stream",
     "text": [
      "Parsing http://www.7723.cn/download/2791.htm:  59%|████████████████▌           | 6950/11732 [08:52<05:11, 15.36it/s]"
     ]
    },
    {
     "name": "stdout",
     "output_type": "stream",
     "text": [
      "Failed to search for this game version screen resolution in description!\n",
      "-> http://www.7723.cn/download/2814.htm\n",
      "-> \n"
     ]
    },
    {
     "name": "stderr",
     "output_type": "stream",
     "text": [
      "Parsing http://www.7723.cn/download/2513.htm:  59%|████████████████▋           | 6968/11732 [08:53<04:58, 15.96it/s]"
     ]
    },
    {
     "name": "stdout",
     "output_type": "stream",
     "text": [
      "Failed to search for this game version screen resolution in description!\n",
      "-> http://www.7723.cn/download/2634.htm\n",
      "-> \n",
      "Failed to search for this game version screen resolution in description!\n",
      "-> http://www.7723.cn/download/2634.htm\n",
      "-> \n"
     ]
    },
    {
     "name": "stderr",
     "output_type": "stream",
     "text": [
      "Parsing http://www.7723.cn/download/2104.htm:  59%|████████████████▋           | 6978/11732 [08:54<04:58, 15.94it/s]"
     ]
    },
    {
     "name": "stdout",
     "output_type": "stream",
     "text": [
      "Failed to search for this game version screen resolution in description!\n",
      "-> http://www.7723.cn/download/2137.htm\n",
      "-> \n"
     ]
    },
    {
     "name": "stderr",
     "output_type": "stream",
     "text": [
      "Parsing http://www.7723.cn/download/1693.htm:  60%|████████████████▋           | 7008/11732 [08:56<05:10, 15.24it/s]"
     ]
    },
    {
     "name": "stdout",
     "output_type": "stream",
     "text": [
      "Failed to search for this game version screen resolution in description!\n",
      "-> http://www.7723.cn/download/1747.htm\n",
      "-> \n"
     ]
    },
    {
     "name": "stderr",
     "output_type": "stream",
     "text": [
      "Parsing http://www.7723.cn/download/1613.htm:  60%|████████████████▋           | 7016/11732 [08:56<05:04, 15.47it/s]"
     ]
    },
    {
     "name": "stdout",
     "output_type": "stream",
     "text": [
      "Failed to search for this game version screen resolution in description!\n",
      "-> http://www.7723.cn/download/1673.htm\n",
      "-> \n",
      "Failed to search for this game version screen resolution in description!\n",
      "-> http://www.7723.cn/download/1627.htm\n",
      "-> \n",
      "Failed to search for this game version screen resolution in description!\n",
      "-> http://www.7723.cn/download/1627.htm\n",
      "-> \n"
     ]
    },
    {
     "name": "stderr",
     "output_type": "stream",
     "text": [
      "Parsing http://www.7723.cn/download/1049.htm:  60%|████████████████▊           | 7046/11732 [08:58<04:46, 16.37it/s]"
     ]
    },
    {
     "name": "stdout",
     "output_type": "stream",
     "text": [
      "Failed to search for this game version screen resolution in description!\n",
      "-> http://www.7723.cn/download/1102.htm\n",
      "-> \n",
      "Failed to search for this game version screen resolution in description!\n",
      "-> http://www.7723.cn/download/1102.htm\n",
      "-> \n"
     ]
    },
    {
     "name": "stderr",
     "output_type": "stream",
     "text": [
      "Parsing http://www.7723.cn/download/542.htm:  60%|█████████████████▍           | 7068/11732 [09:00<05:14, 14.81it/s]"
     ]
    },
    {
     "name": "stdout",
     "output_type": "stream",
     "text": [
      "Failed to search for this game version screen resolution in description!\n",
      "-> http://www.7723.cn/download/699.htm\n",
      "-> \n",
      "Failed to search for this game version screen resolution in description!\n",
      "-> http://www.7723.cn/download/573.htm\n",
      "-> \n"
     ]
    },
    {
     "name": "stderr",
     "output_type": "stream",
     "text": [
      "Parsing http://www.7723.cn/download/107.htm:  60%|█████████████████▌           | 7094/11732 [09:01<04:51, 15.89it/s]"
     ]
    },
    {
     "name": "stdout",
     "output_type": "stream",
     "text": [
      "Failed to search for this game version screen resolution in description!\n",
      "-> http://www.7723.cn/download/134.htm\n",
      "-> \n",
      "Failed to search for this game version screen resolution in description!\n",
      "-> http://www.7723.cn/download/134.htm\n",
      "-> \n",
      "Failed to search for this game version screen resolution in description!\n",
      "-> http://www.7723.cn/download/134.htm\n",
      "-> \n"
     ]
    },
    {
     "name": "stderr",
     "output_type": "stream",
     "text": [
      "Parsing http://www.7723.cn/download/43.htm:  61%|██████████████████▏           | 7100/11732 [09:02<05:02, 15.30it/s]"
     ]
    },
    {
     "name": "stdout",
     "output_type": "stream",
     "text": [
      "Failed to search for this game version screen resolution in description!\n",
      "-> http://www.7723.cn/download/53.htm\n",
      "-> \n",
      "Failed to search for this game version screen resolution in description!\n",
      "-> http://www.7723.cn/download/43.htm\n",
      "-> \n",
      "Failed to search for this game version screen resolution in description!\n",
      "-> http://www.7723.cn/download/43.htm\n",
      "-> \n"
     ]
    },
    {
     "name": "stderr",
     "output_type": "stream",
     "text": [
      "Parsing http://www.7723.cn/download/15.htm:  61%|██████████████████▏           | 7104/11732 [09:02<04:54, 15.70it/s]"
     ]
    },
    {
     "name": "stdout",
     "output_type": "stream",
     "text": [
      "Failed to retrieve game version description with p selector!\n",
      "-> http://www.7723.cn/download/22.htm\n",
      "Failed to search for this game version screen resolution in description!\n",
      "-> http://www.7723.cn/download/18.htm\n",
      "-> \n"
     ]
    },
    {
     "name": "stderr",
     "output_type": "stream",
     "text": [
      "Parsing http://www.7723.cn/download/6285.htm:  61%|█████████████████           | 7130/11732 [09:04<06:19, 12.12it/s]"
     ]
    },
    {
     "name": "stdout",
     "output_type": "stream",
     "text": [
      "Failed to search for this game version screen resolution in description!\n",
      "-> http://www.7723.cn/download/6398.htm\n",
      "-> \n"
     ]
    },
    {
     "name": "stderr",
     "output_type": "stream",
     "text": [
      "Parsing http://www.7723.cn/download/9491.htm:  61%|█████████████████▏          | 7188/11732 [09:09<05:36, 13.52it/s]"
     ]
    },
    {
     "name": "stdout",
     "output_type": "stream",
     "text": [
      "Failed to search for this game version screen resolution in description!\n",
      "-> http://www.7723.cn/download/9577.htm\n",
      "-> \n"
     ]
    },
    {
     "name": "stderr",
     "output_type": "stream",
     "text": [
      "Parsing http://www.7723.cn/download/7445.htm:  62%|█████████████████▎          | 7262/11732 [09:14<05:41, 13.07it/s]"
     ]
    },
    {
     "name": "stdout",
     "output_type": "stream",
     "text": [
      "Failed to search for this game version screen resolution in description!\n",
      "-> http://www.7723.cn/download/7509.htm\n",
      "-> \n",
      "Failed to search for this game version screen resolution in description!\n",
      "-> http://www.7723.cn/download/7484.htm\n",
      "-> \n"
     ]
    },
    {
     "name": "stderr",
     "output_type": "stream",
     "text": [
      "Parsing http://www.7723.cn/download/6824.htm:  62%|█████████████████▍          | 7296/11732 [09:17<05:16, 14.01it/s]"
     ]
    },
    {
     "name": "stdout",
     "output_type": "stream",
     "text": [
      "Failed to search for this game version screen resolution in description!\n",
      "-> http://www.7723.cn/download/6860.htm\n",
      "-> \n",
      "Failed to search for this game version screen resolution in description!\n",
      "-> http://www.7723.cn/download/6849.htm\n",
      "-> \n",
      "Failed to search for this game version screen resolution in description!\n",
      "-> http://www.7723.cn/download/6831.htm\n",
      "-> \n"
     ]
    },
    {
     "name": "stderr",
     "output_type": "stream",
     "text": [
      "Parsing http://www.7723.cn/download/6812.htm:  62%|█████████████████▍          | 7298/11732 [09:17<05:57, 12.41it/s]"
     ]
    },
    {
     "name": "stdout",
     "output_type": "stream",
     "text": [
      "Failed to search for this game version screen resolution in description!\n",
      "-> http://www.7723.cn/download/6824.htm\n",
      "-> \n",
      "Failed to search for this game version screen resolution in description!\n",
      "-> http://www.7723.cn/download/6817.htm\n",
      "-> \n",
      "Failed to search for this game version screen resolution in description!\n",
      "-> http://www.7723.cn/download/6816.htm\n",
      "-> \n",
      "Failed to search for this game version screen resolution in description!\n",
      "-> http://www.7723.cn/download/6816.htm\n",
      "-> \n",
      "Failed to search for this game version screen resolution in description!\n",
      "-> http://www.7723.cn/download/6816.htm\n",
      "-> \n",
      "Failed to search for this game version screen resolution in description!\n",
      "-> http://www.7723.cn/download/6816.htm\n",
      "-> \n",
      "Failed to search for this game version screen resolution in description!\n",
      "-> http://www.7723.cn/download/6816.htm\n",
      "-> \n",
      "Failed to search for this game version screen resolution in description!\n",
      "-> http://www.7723.cn/download/6816.htm\n",
      "-> \n",
      "Failed to search for this game version screen resolution in description!\n",
      "-> http://www.7723.cn/download/6816.htm\n",
      "-> \n",
      "Failed to search for this game version screen resolution in description!\n",
      "-> http://www.7723.cn/download/6816.htm\n",
      "-> \n",
      "Failed to search for this game version screen resolution in description!\n",
      "-> http://www.7723.cn/download/6816.htm\n",
      "-> \n",
      "Failed to search for this game version screen resolution in description!\n",
      "-> http://www.7723.cn/download/6816.htm\n",
      "-> \n"
     ]
    },
    {
     "name": "stderr",
     "output_type": "stream",
     "text": [
      "Parsing http://www.7723.cn/download/6769.htm:  62%|█████████████████▍          | 7300/11732 [09:17<05:42, 12.93it/s]"
     ]
    },
    {
     "name": "stdout",
     "output_type": "stream",
     "text": [
      "Failed to search for this game version screen resolution in description!\n",
      "-> http://www.7723.cn/download/6812.htm\n",
      "-> \n",
      "Failed to search for this game version screen resolution in description!\n",
      "-> http://www.7723.cn/download/6787.htm\n",
      "-> \n"
     ]
    },
    {
     "name": "stderr",
     "output_type": "stream",
     "text": [
      "Parsing http://www.7723.cn/download/6708.htm:  62%|█████████████████▍          | 7304/11732 [09:18<06:38, 11.10it/s]"
     ]
    },
    {
     "name": "stdout",
     "output_type": "stream",
     "text": [
      "Failed to search for this game version screen resolution in description!\n",
      "-> http://www.7723.cn/download/6769.htm\n",
      "-> \n",
      "Failed to search for this game version screen resolution in description!\n",
      "-> http://www.7723.cn/download/6734.htm\n",
      "-> \n"
     ]
    },
    {
     "name": "stderr",
     "output_type": "stream",
     "text": [
      "Parsing http://www.7723.cn/download/6543.htm:  62%|█████████████████▍          | 7306/11732 [09:18<06:21, 11.61it/s]"
     ]
    },
    {
     "name": "stdout",
     "output_type": "stream",
     "text": [
      "Failed to search for this game version screen resolution in description!\n",
      "-> http://www.7723.cn/download/6708.htm\n",
      "-> \n"
     ]
    },
    {
     "name": "stderr",
     "output_type": "stream",
     "text": [
      "Parsing http://www.7723.cn/download/6465.htm:  62%|█████████████████▍          | 7310/11732 [09:18<05:50, 12.61it/s]"
     ]
    },
    {
     "name": "stdout",
     "output_type": "stream",
     "text": [
      "Failed to search for this game version screen resolution in description!\n",
      "-> http://www.7723.cn/download/6510.htm\n",
      "-> \n",
      "Failed to search for this game version screen resolution in description!\n",
      "-> http://www.7723.cn/download/6496.htm\n",
      "-> \n"
     ]
    },
    {
     "name": "stderr",
     "output_type": "stream",
     "text": [
      "Parsing http://www.7723.cn/download/6438.htm:  62%|█████████████████▍          | 7312/11732 [09:19<08:09,  9.03it/s]"
     ]
    },
    {
     "name": "stdout",
     "output_type": "stream",
     "text": [
      "Failed to search for this game version screen resolution in description!\n",
      "-> http://www.7723.cn/download/6465.htm\n",
      "-> \n"
     ]
    },
    {
     "name": "stderr",
     "output_type": "stream",
     "text": [
      "Parsing http://www.7723.cn/download/6359.htm:  62%|█████████████████▍          | 7316/11732 [09:19<07:14, 10.17it/s]"
     ]
    },
    {
     "name": "stdout",
     "output_type": "stream",
     "text": [
      "Failed to search for this game version screen resolution in description!\n",
      "-> http://www.7723.cn/download/6401.htm\n",
      "-> \n"
     ]
    },
    {
     "name": "stderr",
     "output_type": "stream",
     "text": [
      "Parsing http://www.7723.cn/download/6290.htm:  62%|█████████████████▍          | 7322/11732 [09:19<06:30, 11.29it/s]"
     ]
    },
    {
     "name": "stdout",
     "output_type": "stream",
     "text": [
      "Failed to search for this game version screen resolution in description!\n",
      "-> http://www.7723.cn/download/6337.htm\n",
      "-> \n",
      "Failed to search for this game version screen resolution in description!\n",
      "-> http://www.7723.cn/download/6331.htm\n",
      "-> \n"
     ]
    },
    {
     "name": "stderr",
     "output_type": "stream",
     "text": [
      "Parsing http://www.7723.cn/download/6240.htm:  62%|█████████████████▍          | 7326/11732 [09:20<05:50, 12.57it/s]"
     ]
    },
    {
     "name": "stdout",
     "output_type": "stream",
     "text": [
      "Failed to search for this game version screen resolution in description!\n",
      "-> http://www.7723.cn/download/6290.htm\n",
      "-> \n",
      "Failed to search for this game version screen resolution in description!\n",
      "-> http://www.7723.cn/download/6267.htm\n",
      "-> \n"
     ]
    },
    {
     "name": "stderr",
     "output_type": "stream",
     "text": [
      "Parsing http://www.7723.cn/download/6171.htm:  62%|█████████████████▍          | 7328/11732 [09:20<05:36, 13.08it/s]"
     ]
    },
    {
     "name": "stdout",
     "output_type": "stream",
     "text": [
      "Failed to search for this game version screen resolution in description!\n",
      "-> http://www.7723.cn/download/6240.htm\n",
      "-> \n",
      "Failed to search for this game version screen resolution in description!\n",
      "-> http://www.7723.cn/download/6230.htm\n",
      "-> \n"
     ]
    },
    {
     "name": "stderr",
     "output_type": "stream",
     "text": [
      "Parsing http://www.7723.cn/download/6072.htm:  63%|█████████████████▌          | 7334/11732 [09:20<05:25, 13.53it/s]"
     ]
    },
    {
     "name": "stdout",
     "output_type": "stream",
     "text": [
      "Failed to search for this game version screen resolution in description!\n",
      "-> http://www.7723.cn/download/6111.htm\n",
      "-> \n",
      "Failed to search for this game version screen resolution in description!\n",
      "-> http://www.7723.cn/download/6104.htm\n",
      "-> \n"
     ]
    },
    {
     "name": "stderr",
     "output_type": "stream",
     "text": [
      "Parsing http://www.7723.cn/download/5999.htm:  63%|█████████████████▌          | 7338/11732 [09:21<05:18, 13.81it/s]"
     ]
    },
    {
     "name": "stdout",
     "output_type": "stream",
     "text": [
      "Failed to search for this game version screen resolution in description!\n",
      "-> http://www.7723.cn/download/6062.htm\n",
      "-> \n",
      "Failed to search for this game version screen resolution in description!\n",
      "-> http://www.7723.cn/download/6041.htm\n",
      "-> \n"
     ]
    },
    {
     "name": "stderr",
     "output_type": "stream",
     "text": [
      "Parsing http://www.7723.cn/download/5960.htm:  63%|█████████████████▌          | 7342/11732 [09:21<05:38, 12.97it/s]"
     ]
    },
    {
     "name": "stdout",
     "output_type": "stream",
     "text": [
      "Failed to search for this game version screen resolution in description!\n",
      "-> http://www.7723.cn/download/5999.htm\n",
      "-> \n",
      "Failed to search for this game version screen resolution in description!\n",
      "-> http://www.7723.cn/download/5985.htm\n",
      "-> \n"
     ]
    },
    {
     "name": "stderr",
     "output_type": "stream",
     "text": [
      "Parsing http://www.7723.cn/download/5922.htm:  63%|█████████████████▌          | 7346/11732 [09:21<05:22, 13.62it/s]"
     ]
    },
    {
     "name": "stdout",
     "output_type": "stream",
     "text": [
      "Failed to search for this game version screen resolution in description!\n",
      "-> http://www.7723.cn/download/5950.htm\n",
      "-> \n"
     ]
    },
    {
     "name": "stderr",
     "output_type": "stream",
     "text": [
      "Parsing http://www.7723.cn/download/5833.htm:  63%|█████████████████▌          | 7348/11732 [09:21<05:13, 14.00it/s]"
     ]
    },
    {
     "name": "stdout",
     "output_type": "stream",
     "text": [
      "Failed to search for this game version screen resolution in description!\n",
      "-> http://www.7723.cn/download/5922.htm\n",
      "-> \n"
     ]
    },
    {
     "name": "stderr",
     "output_type": "stream",
     "text": [
      "Parsing http://www.7723.cn/download/5785.htm:  63%|█████████████████▌          | 7352/11732 [09:22<05:32, 13.17it/s]"
     ]
    },
    {
     "name": "stdout",
     "output_type": "stream",
     "text": [
      "Failed to search for this game version screen resolution in description!\n",
      "-> http://www.7723.cn/download/5833.htm\n",
      "-> \n",
      "Failed to search for this game version screen resolution in description!\n",
      "-> http://www.7723.cn/download/5814.htm\n",
      "-> \n"
     ]
    },
    {
     "name": "stderr",
     "output_type": "stream",
     "text": [
      "Parsing http://www.7723.cn/download/5732.htm:  63%|█████████████████▌          | 7354/11732 [09:22<05:38, 12.95it/s]"
     ]
    },
    {
     "name": "stdout",
     "output_type": "stream",
     "text": [
      "Failed to search for this game version screen resolution in description!\n",
      "-> http://www.7723.cn/download/5785.htm\n",
      "-> \n"
     ]
    },
    {
     "name": "stderr",
     "output_type": "stream",
     "text": [
      "Parsing http://www.7723.cn/download/5656.htm:  63%|█████████████████▌          | 7360/11732 [09:22<05:57, 12.22it/s]"
     ]
    },
    {
     "name": "stdout",
     "output_type": "stream",
     "text": [
      "Failed to search for this game version screen resolution in description!\n",
      "-> http://www.7723.cn/download/5703.htm\n",
      "-> \n",
      "Failed to search for this game version screen resolution in description!\n",
      "-> http://www.7723.cn/download/5692.htm\n",
      "-> \n",
      "Failed to search for this game version screen resolution in description!\n",
      "-> http://www.7723.cn/download/5677.htm\n",
      "-> \n"
     ]
    },
    {
     "name": "stderr",
     "output_type": "stream",
     "text": [
      "Parsing http://www.7723.cn/download/5637.htm:  63%|█████████████████▌          | 7364/11732 [09:23<06:54, 10.55it/s]"
     ]
    },
    {
     "name": "stdout",
     "output_type": "stream",
     "text": [
      "Failed to search for this game version screen resolution in description!\n",
      "-> http://www.7723.cn/download/5656.htm\n",
      "-> \n",
      "Failed to search for this game version screen resolution in description!\n",
      "-> http://www.7723.cn/download/5655.htm\n",
      "-> \n",
      "Failed to search for this game version screen resolution in description!\n",
      "-> http://www.7723.cn/download/5637.htm\n",
      "-> \n"
     ]
    },
    {
     "name": "stderr",
     "output_type": "stream",
     "text": [
      "Parsing http://www.7723.cn/download/5560.htm:  63%|█████████████████▌          | 7370/11732 [09:23<05:42, 12.72it/s]"
     ]
    },
    {
     "name": "stdout",
     "output_type": "stream",
     "text": [
      "Failed to search for this game version screen resolution in description!\n",
      "-> http://www.7723.cn/download/5612.htm\n",
      "-> \n",
      "Failed to search for this game version screen resolution in description!\n",
      "-> http://www.7723.cn/download/5580.htm\n",
      "-> \n",
      "Failed to search for this game version screen resolution in description!\n",
      "-> http://www.7723.cn/download/5560.htm\n",
      "-> \n"
     ]
    },
    {
     "name": "stderr",
     "output_type": "stream",
     "text": [
      "Parsing http://www.7723.cn/download/5508.htm:  63%|█████████████████▌          | 7374/11732 [09:23<05:38, 12.88it/s]"
     ]
    },
    {
     "name": "stdout",
     "output_type": "stream",
     "text": [
      "Failed to search for this game version screen resolution in description!\n",
      "-> http://www.7723.cn/download/5517.htm\n",
      "-> \n",
      "Failed to search for this game version screen resolution in description!\n",
      "-> http://www.7723.cn/download/5513.htm\n",
      "-> \n"
     ]
    },
    {
     "name": "stderr",
     "output_type": "stream",
     "text": [
      "Parsing http://www.7723.cn/download/5488.htm:  63%|█████████████████▌          | 7378/11732 [09:24<05:34, 13.01it/s]"
     ]
    },
    {
     "name": "stdout",
     "output_type": "stream",
     "text": [
      "Failed to search for this game version screen resolution in description!\n",
      "-> http://www.7723.cn/download/5502.htm\n",
      "-> \n",
      "Failed to search for this game version screen resolution in description!\n",
      "-> http://www.7723.cn/download/5490.htm\n",
      "-> \n"
     ]
    },
    {
     "name": "stderr",
     "output_type": "stream",
     "text": [
      "Parsing http://www.7723.cn/download/5433.htm:  63%|█████████████████▌          | 7382/11732 [09:24<05:31, 13.12it/s]"
     ]
    },
    {
     "name": "stdout",
     "output_type": "stream",
     "text": [
      "Failed to search for this game version screen resolution in description!\n",
      "-> http://www.7723.cn/download/5488.htm\n",
      "-> \n"
     ]
    },
    {
     "name": "stderr",
     "output_type": "stream",
     "text": [
      "Parsing http://www.7723.cn/download/5420.htm:  63%|█████████████████▌          | 7384/11732 [09:24<05:45, 12.59it/s]"
     ]
    },
    {
     "name": "stdout",
     "output_type": "stream",
     "text": [
      "Failed to search for this game version screen resolution in description!\n",
      "-> http://www.7723.cn/download/5433.htm\n",
      "-> \n"
     ]
    },
    {
     "name": "stderr",
     "output_type": "stream",
     "text": [
      "Parsing http://www.7723.cn/download/5345.htm:  63%|█████████████████▋          | 7392/11732 [09:25<05:16, 13.71it/s]"
     ]
    },
    {
     "name": "stdout",
     "output_type": "stream",
     "text": [
      "Failed to search for this game version screen resolution in description!\n",
      "-> http://www.7723.cn/download/5368.htm\n",
      "-> \n",
      "Failed to search for this game version screen resolution in description!\n",
      "-> http://www.7723.cn/download/5347.htm\n",
      "-> \n"
     ]
    },
    {
     "name": "stderr",
     "output_type": "stream",
     "text": [
      "Parsing http://www.7723.cn/download/5312.htm:  63%|█████████████████▋          | 7396/11732 [09:25<05:19, 13.59it/s]"
     ]
    },
    {
     "name": "stdout",
     "output_type": "stream",
     "text": [
      "Failed to search for this game version screen resolution in description!\n",
      "-> http://www.7723.cn/download/5345.htm\n",
      "-> \n",
      "Failed to search for this game version screen resolution in description!\n",
      "-> http://www.7723.cn/download/5332.htm\n",
      "-> \n"
     ]
    },
    {
     "name": "stderr",
     "output_type": "stream",
     "text": [
      "Parsing http://www.7723.cn/download/5204.htm:  63%|█████████████████▋          | 7402/11732 [09:26<05:08, 14.04it/s]"
     ]
    },
    {
     "name": "stdout",
     "output_type": "stream",
     "text": [
      "Failed to search for this game version screen resolution in description!\n",
      "-> http://www.7723.cn/download/5253.htm\n",
      "-> \n",
      "Failed to search for this game version screen resolution in description!\n",
      "-> http://www.7723.cn/download/5236.htm\n",
      "-> \n",
      "Failed to search for this game version screen resolution in description!\n",
      "-> http://www.7723.cn/download/5234.htm\n",
      "-> \n"
     ]
    },
    {
     "name": "stderr",
     "output_type": "stream",
     "text": [
      "Parsing http://www.7723.cn/download/5093.htm:  63%|█████████████████▋          | 7406/11732 [09:26<05:01, 14.36it/s]"
     ]
    },
    {
     "name": "stdout",
     "output_type": "stream",
     "text": [
      "Failed to search for this game version screen resolution in description!\n",
      "-> http://www.7723.cn/download/5154.htm\n",
      "-> \n"
     ]
    },
    {
     "name": "stderr",
     "output_type": "stream",
     "text": [
      "Parsing http://www.7723.cn/download/5048.htm:  63%|█████████████████▋          | 7410/11732 [09:26<05:53, 12.22it/s]"
     ]
    },
    {
     "name": "stdout",
     "output_type": "stream",
     "text": [
      "Failed to search for this game version screen resolution in description!\n",
      "-> http://www.7723.cn/download/5093.htm\n",
      "-> \n",
      "Failed to search for this game version screen resolution in description!\n",
      "-> http://www.7723.cn/download/5093.htm\n",
      "-> \n"
     ]
    },
    {
     "name": "stderr",
     "output_type": "stream",
     "text": [
      "Parsing http://www.7723.cn/download/4897.htm:  63%|█████████████████▋          | 7418/11732 [09:27<05:19, 13.52it/s]"
     ]
    },
    {
     "name": "stdout",
     "output_type": "stream",
     "text": [
      "Failed to search for this game version screen resolution in description!\n",
      "-> http://www.7723.cn/download/4977.htm\n",
      "-> \n",
      "Failed to search for this game version screen resolution in description!\n",
      "-> http://www.7723.cn/download/4921.htm\n",
      "-> \n",
      "Failed to search for this game version screen resolution in description!\n",
      "-> http://www.7723.cn/download/4911.htm\n",
      "-> \n",
      "Failed to search for this game version screen resolution in description!\n",
      "-> http://www.7723.cn/download/4897.htm\n",
      "-> \n"
     ]
    },
    {
     "name": "stderr",
     "output_type": "stream",
     "text": [
      "Parsing http://www.7723.cn/download/4676.htm:  63%|█████████████████▋          | 7428/11732 [09:27<05:44, 12.50it/s]"
     ]
    },
    {
     "name": "stdout",
     "output_type": "stream",
     "text": [
      "Failed to search for this game version screen resolution in description!\n",
      "-> http://www.7723.cn/download/4744.htm\n",
      "-> \n"
     ]
    },
    {
     "name": "stderr",
     "output_type": "stream",
     "text": [
      "Parsing http://www.7723.cn/download/4197.htm:  63%|█████████████████▊          | 7444/11732 [09:29<04:53, 14.61it/s]"
     ]
    },
    {
     "name": "stdout",
     "output_type": "stream",
     "text": [
      "Failed to search for this game version screen resolution in description!\n",
      "-> http://www.7723.cn/download/4240.htm\n",
      "-> \n",
      "Failed to search for this game version screen resolution in description!\n",
      "-> http://www.7723.cn/download/4240.htm\n",
      "-> \n",
      "Failed to search for this game version screen resolution in description!\n",
      "-> http://www.7723.cn/download/4235.htm\n",
      "-> \n",
      "Failed to search for this game version screen resolution in description!\n",
      "-> http://www.7723.cn/download/4235.htm\n",
      "-> \n",
      "Failed to search for this game version screen resolution in description!\n",
      "->"
     ]
    },
    {
     "name": "stderr",
     "output_type": "stream",
     "text": [
      "Parsing http://www.7723.cn/download/4149.htm:  63%|█████████████████▊          | 7448/11732 [09:29<04:41, 15.21it/s]"
     ]
    },
    {
     "name": "stdout",
     "output_type": "stream",
     "text": [
      " http://www.7723.cn/download/4197.htm\n",
      "-> \n",
      "Failed to search for this game version screen resolution in description!\n",
      "-> http://www.7723.cn/download/4152.htm\n",
      "-> \n"
     ]
    },
    {
     "name": "stderr",
     "output_type": "stream",
     "text": [
      "Parsing http://www.7723.cn/download/3760.htm:  64%|█████████████████▊          | 7468/11732 [09:30<05:04, 14.02it/s]"
     ]
    },
    {
     "name": "stdout",
     "output_type": "stream",
     "text": [
      "Failed to search for this game version screen resolution in description!\n",
      "-> http://www.7723.cn/download/3790.htm\n",
      "-> \n",
      "Failed to search for this game version screen resolution in description!\n",
      "-> http://www.7723.cn/download/3790.htm\n",
      "-> \n"
     ]
    },
    {
     "name": "stderr",
     "output_type": "stream",
     "text": [
      "Parsing http://www.7723.cn/download/3609.htm:  64%|█████████████████▊          | 7484/11732 [09:31<04:43, 15.00it/s]"
     ]
    },
    {
     "name": "stdout",
     "output_type": "stream",
     "text": [
      "Failed to search for this game version screen resolution in description!\n",
      "-> http://www.7723.cn/download/3643.htm\n",
      "-> \n",
      "Failed to search for this game version screen resolution in description!\n",
      "-> http://www.7723.cn/download/3643.htm\n",
      "-> \n"
     ]
    },
    {
     "name": "stderr",
     "output_type": "stream",
     "text": [
      "Parsing http://www.7723.cn/download/3365.htm:  64%|█████████████████▉          | 7514/11732 [09:34<05:20, 13.17it/s]"
     ]
    },
    {
     "name": "stdout",
     "output_type": "stream",
     "text": [
      "Failed to search for this game version screen resolution in description!\n",
      "-> http://www.7723.cn/download/3390.htm\n",
      "-> \n"
     ]
    },
    {
     "name": "stderr",
     "output_type": "stream",
     "text": [
      "Parsing http://www.7723.cn/download/3177.htm:  64%|█████████████████▉          | 7534/11732 [09:35<04:32, 15.39it/s]"
     ]
    },
    {
     "name": "stdout",
     "output_type": "stream",
     "text": [
      "Failed to search for this game version screen resolution in description!\n",
      "-> http://www.7723.cn/download/3222.htm\n",
      "-> \n"
     ]
    },
    {
     "name": "stderr",
     "output_type": "stream",
     "text": [
      "Parsing http://www.7723.cn/download/3161.htm:  64%|█████████████████▉          | 7538/11732 [09:35<04:29, 15.55it/s]"
     ]
    },
    {
     "name": "stdout",
     "output_type": "stream",
     "text": [
      "Failed to search for this game version screen resolution in description!\n",
      "-> http://www.7723.cn/download/3177.htm\n",
      "-> \n",
      "Failed to search for this game version screen resolution in description!\n",
      "-> http://www.7723.cn/download/3177.htm\n",
      "-> \n",
      "Failed to search for this game version screen resolution in description!\n",
      "-> http://www.7723.cn/download/3175.htm\n",
      "-> \n",
      "Failed to search for this game version screen resolution in description!\n",
      "-> http://www.7723.cn/download/3173.htm\n",
      "-> \n"
     ]
    },
    {
     "name": "stderr",
     "output_type": "stream",
     "text": [
      "Parsing http://www.7723.cn/download/2969.htm:  64%|██████████████████          | 7564/11732 [09:37<04:17, 16.18it/s]"
     ]
    },
    {
     "name": "stdout",
     "output_type": "stream",
     "text": [
      "Failed to search for this game version screen resolution in description!\n",
      "-> http://www.7723.cn/download/2985.htm\n",
      "-> \n",
      "Failed to search for this game version screen resolution in description!\n",
      "-> http://www.7723.cn/download/2979.htm\n",
      "-> \n"
     ]
    },
    {
     "name": "stderr",
     "output_type": "stream",
     "text": [
      "Parsing http://www.7723.cn/download/2934.htm:  64%|██████████████████          | 7566/11732 [09:37<04:23, 15.83it/s]"
     ]
    },
    {
     "name": "stdout",
     "output_type": "stream",
     "text": [
      "Failed to search for this game version screen resolution in description!\n",
      "-> http://www.7723.cn/download/2964.htm\n",
      "-> \n"
     ]
    },
    {
     "name": "stderr",
     "output_type": "stream",
     "text": [
      "Parsing http://www.7723.cn/download/2482.htm:  65%|██████████████████▏         | 7616/11732 [09:41<04:51, 14.14it/s]"
     ]
    },
    {
     "name": "stdout",
     "output_type": "stream",
     "text": [
      "Failed to search for this game version screen resolution in description!\n",
      "-> http://www.7723.cn/download/2546.htm\n",
      "-> \n"
     ]
    },
    {
     "name": "stderr",
     "output_type": "stream",
     "text": [
      "Parsing http://www.7723.cn/download/2302.htm:  65%|██████████████████▏         | 7630/11732 [09:42<04:57, 13.80it/s]"
     ]
    },
    {
     "name": "stdout",
     "output_type": "stream",
     "text": [
      "Failed to search for this game version screen resolution in description!\n",
      "-> http://www.7723.cn/download/2351.htm\n",
      "-> \n"
     ]
    },
    {
     "name": "stderr",
     "output_type": "stream",
     "text": [
      "Parsing http://www.7723.cn/download/2188.htm:  65%|██████████████████▏         | 7642/11732 [09:42<04:35, 14.83it/s]"
     ]
    },
    {
     "name": "stdout",
     "output_type": "stream",
     "text": [
      "Failed to search for this game version screen resolution in description!\n",
      "-> http://www.7723.cn/download/2199.htm\n",
      "-> \n"
     ]
    },
    {
     "name": "stderr",
     "output_type": "stream",
     "text": [
      "Parsing http://www.7723.cn/download/1614.htm:  65%|██████████████████▎         | 7684/11732 [09:45<04:50, 13.95it/s]"
     ]
    },
    {
     "name": "stdout",
     "output_type": "stream",
     "text": [
      "Failed to search for this game version screen resolution in description!\n",
      "-> http://www.7723.cn/download/1631.htm\n",
      "-> \n",
      "Failed to search for this game version screen resolution in description!\n",
      "-> http://www.7723.cn/download/1631.htm\n",
      "-> \n",
      "Failed to search for this game version screen resolution in description!\n",
      "-> http://www.7723.cn/download/1631.htm\n",
      "-> \n"
     ]
    },
    {
     "name": "stderr",
     "output_type": "stream",
     "text": [
      "Parsing http://www.7723.cn/download/1583.htm:  66%|██████████████████▎         | 7686/11732 [09:46<04:58, 13.54it/s]"
     ]
    },
    {
     "name": "stdout",
     "output_type": "stream",
     "text": [
      "Failed to search for this game version screen resolution in description!\n",
      "-> http://www.7723.cn/download/1614.htm\n",
      "-> \n",
      "Failed to search for this game version screen resolution in description!\n",
      "-> http://www.7723.cn/download/1614.htm\n",
      "-> \n"
     ]
    },
    {
     "name": "stderr",
     "output_type": "stream",
     "text": [
      "Parsing http://www.7723.cn/download/1499.htm:  66%|██████████████████▎         | 7694/11732 [09:46<04:48, 13.98it/s]"
     ]
    },
    {
     "name": "stdout",
     "output_type": "stream",
     "text": [
      "Failed to search for this game version screen resolution in description!\n",
      "-> http://www.7723.cn/download/1556.htm\n",
      "-> \n"
     ]
    },
    {
     "name": "stderr",
     "output_type": "stream",
     "text": [
      "Parsing http://www.7723.cn/download/697.htm:  66%|███████████████████          | 7732/11732 [09:49<04:29, 14.83it/s]"
     ]
    },
    {
     "name": "stdout",
     "output_type": "stream",
     "text": [
      "Failed to search for this game version screen resolution in description!\n",
      "-> http://www.7723.cn/download/734.htm\n",
      "-> \n",
      "Failed to search for this game version screen resolution in description!\n",
      "-> http://www.7723.cn/download/700.htm\n",
      "-> \n",
      "Failed to search for this game version screen resolution in description!\n",
      "-> http://www.7723.cn/download/700.htm\n",
      "-> \n"
     ]
    },
    {
     "name": "stderr",
     "output_type": "stream",
     "text": [
      "Parsing http://www.7723.cn/download/574.htm:  66%|███████████████████▏         | 7738/11732 [09:49<05:32, 12.00it/s]"
     ]
    },
    {
     "name": "stdout",
     "output_type": "stream",
     "text": [
      "Failed to search for this game version screen resolution in description!\n",
      "-> http://www.7723.cn/download/633.htm\n",
      "-> \n",
      "Failed to search for this game version screen resolution in description!\n",
      "-> http://www.7723.cn/download/633.htm\n",
      "-> \n"
     ]
    },
    {
     "name": "stderr",
     "output_type": "stream",
     "text": [
      "Parsing http://www.7723.cn/download/537.htm:  66%|███████████████████▏         | 7742/11732 [09:49<05:03, 13.15it/s]"
     ]
    },
    {
     "name": "stdout",
     "output_type": "stream",
     "text": [
      "Failed to search for this game version screen resolution in description!\n",
      "-> http://www.7723.cn/download/569.htm\n",
      "-> \n"
     ]
    },
    {
     "name": "stderr",
     "output_type": "stream",
     "text": [
      "Parsing http://www.7723.cn/download/407.htm:  66%|███████████████████▏         | 7754/11732 [09:50<04:52, 13.59it/s]"
     ]
    },
    {
     "name": "stdout",
     "output_type": "stream",
     "text": [
      "Failed to search for this game version screen resolution in description!\n",
      "-> http://www.7723.cn/download/442.htm\n",
      "-> \n"
     ]
    },
    {
     "name": "stderr",
     "output_type": "stream",
     "text": [
      "Parsing http://www.7723.cn/download/341.htm:  66%|███████████████████▏         | 7760/11732 [09:51<05:03, 13.08it/s]"
     ]
    },
    {
     "name": "stdout",
     "output_type": "stream",
     "text": [
      "Failed to search for this game version screen resolution in description!\n",
      "-> http://www.7723.cn/download/375.htm\n",
      "-> \n"
     ]
    },
    {
     "name": "stderr",
     "output_type": "stream",
     "text": [
      "Parsing http://www.7723.cn/download/104.htm:  66%|███████████████████▏         | 7782/11732 [09:53<04:59, 13.19it/s]"
     ]
    },
    {
     "name": "stdout",
     "output_type": "stream",
     "text": [
      "Failed to search for this game version screen resolution in description!\n",
      "-> http://www.7723.cn/download/131.htm\n",
      "-> \n"
     ]
    },
    {
     "name": "stderr",
     "output_type": "stream",
     "text": [
      "Parsing http://www.7723.cn/download/6276.htm:  67%|██████████████████▋         | 7852/11732 [09:58<04:19, 14.95it/s]"
     ]
    },
    {
     "name": "stdout",
     "output_type": "stream",
     "text": [
      "Failed to search for this game version screen resolution in description!\n",
      "-> http://www.7723.cn/download/6392.htm\n",
      "-> \n"
     ]
    },
    {
     "name": "stderr",
     "output_type": "stream",
     "text": [
      "Parsing http://www.7723.cn/download/6268.htm:  67%|██████████████████▋         | 7856/11732 [09:58<04:19, 14.94it/s]"
     ]
    },
    {
     "name": "stdout",
     "output_type": "stream",
     "text": [
      "Failed to search for this game version screen resolution in description!\n",
      "-> http://www.7723.cn/download/6276.htm\n",
      "-> \n",
      "Failed to search for this game version screen resolution in description!\n",
      "-> http://www.7723.cn/download/6271.htm\n",
      "-> \n"
     ]
    },
    {
     "name": "stderr",
     "output_type": "stream",
     "text": [
      "Parsing http://www.7723.cn/download/6134.htm:  67%|██████████████████▊         | 7860/11732 [09:58<04:17, 15.04it/s]"
     ]
    },
    {
     "name": "stdout",
     "output_type": "stream",
     "text": [
      "Failed to search for this game version screen resolution in description!\n",
      "-> http://www.7723.cn/download/6255.htm\n",
      "-> \n",
      "Failed to search for this game version screen resolution in description!\n",
      "-> http://www.7723.cn/download/6252.htm\n",
      "-> \n"
     ]
    },
    {
     "name": "stderr",
     "output_type": "stream",
     "text": [
      "Parsing http://www.7723.cn/download/5980.htm:  67%|██████████████████▊         | 7866/11732 [09:59<05:09, 12.51it/s]"
     ]
    },
    {
     "name": "stdout",
     "output_type": "stream",
     "text": [
      "Failed to search for this game version screen resolution in description!\n",
      "-> http://www.7723.cn/download/6031.htm\n",
      "-> \n",
      "Failed to search for this game version screen resolution in description!\n",
      "-> http://www.7723.cn/download/5996.htm\n",
      "-> \n"
     ]
    },
    {
     "name": "stderr",
     "output_type": "stream",
     "text": [
      "Parsing http://www.7723.cn/download/5617.htm:  67%|██████████████████▊         | 7872/11732 [09:59<05:07, 12.55it/s]"
     ]
    },
    {
     "name": "stdout",
     "output_type": "stream",
     "text": [
      "Failed to search for this game version screen resolution in description!\n",
      "-> http://www.7723.cn/download/5849.htm\n",
      "-> \n",
      "Failed to search for this game version screen resolution in description!\n",
      "-> http://www.7723.cn/download/5697.htm\n",
      "-> \n"
     ]
    },
    {
     "name": "stderr",
     "output_type": "stream",
     "text": [
      "Parsing http://www.7723.cn/download/5252.htm:  67%|██████████████████▊         | 7878/11732 [10:00<04:53, 13.15it/s]"
     ]
    },
    {
     "name": "stdout",
     "output_type": "stream",
     "text": [
      "Failed to search for this game version screen resolution in description!\n",
      "-> http://www.7723.cn/download/5406.htm\n",
      "-> \n",
      "Failed to search for this game version screen resolution in description!\n",
      "-> http://www.7723.cn/download/5387.htm\n",
      "-> \n",
      "Failed to search for this game version screen resolution in description!\n",
      "-> http://www.7723.cn/download/5331.htm\n",
      "-> \n"
     ]
    },
    {
     "name": "stderr",
     "output_type": "stream",
     "text": [
      "Parsing http://www.7723.cn/download/4750.htm:  67%|██████████████████▊         | 7880/11732 [10:00<04:48, 13.37it/s]"
     ]
    },
    {
     "name": "stdout",
     "output_type": "stream",
     "text": [
      "Failed to search for this game version screen resolution in description!\n",
      "-> http://www.7723.cn/download/5252.htm\n",
      "-> \n",
      "Failed to search for this game version screen resolution in description!\n",
      "-> http://www.7723.cn/download/5023.htm\n",
      "-> \n"
     ]
    },
    {
     "name": "stderr",
     "output_type": "stream",
     "text": [
      "Parsing http://www.7723.cn/download/4201.htm:  67%|██████████████████▊         | 7886/11732 [10:00<04:27, 14.36it/s]"
     ]
    },
    {
     "name": "stdout",
     "output_type": "stream",
     "text": [
      "Failed to search for this game version screen resolution in description!\n",
      "-> http://www.7723.cn/download/4645.htm\n",
      "-> \n"
     ]
    },
    {
     "name": "stderr",
     "output_type": "stream",
     "text": [
      "Parsing http://www.7723.cn/download/3665.htm:  67%|██████████████████▊         | 7900/11732 [10:01<04:07, 15.50it/s]"
     ]
    },
    {
     "name": "stdout",
     "output_type": "stream",
     "text": [
      "Failed to search for this game version screen resolution in description!\n",
      "-> http://www.7723.cn/download/3843.htm\n",
      "-> I-mate i9150系列5150 6150 7150 8150 9150\n"
     ]
    },
    {
     "name": "stderr",
     "output_type": "stream",
     "text": [
      "Parsing http://www.7723.cn/download/1417.htm:  68%|██████████████████▉         | 7928/11732 [10:03<04:06, 15.43it/s]"
     ]
    },
    {
     "name": "stdout",
     "output_type": "stream",
     "text": [
      "Failed to search for this game version screen resolution in description!\n",
      "-> http://www.7723.cn/download/1480.htm\n",
      "-> \n",
      "Failed to search for this game version screen resolution in description!\n",
      "-> http://www.7723.cn/download/1478.htm\n",
      "-> \n",
      "Failed to search for this game version screen resolution in description!\n",
      "-> http://www.7723.cn/download/1476.htm\n",
      "-> \n",
      "Failed to search for this game version screen resolution in description!\n",
      "-> http://www.7723.cn/download/1476.htm\n",
      "-> \n",
      "Failed to search for this game version screen resolution in description!\n",
      "-> http://www.7723.cn/download/1419.htm\n",
      "-> \n"
     ]
    },
    {
     "name": "stderr",
     "output_type": "stream",
     "text": [
      "Parsing http://www.7723.cn/download/1362.htm:  68%|██████████████████▉         | 7932/11732 [10:03<04:01, 15.75it/s]"
     ]
    },
    {
     "name": "stdout",
     "output_type": "stream",
     "text": [
      "Failed to search for this game version screen resolution in description!\n",
      "-> http://www.7723.cn/download/1417.htm\n",
      "-> \n",
      "Failed to search for this game version screen resolution in description!\n",
      "-> http://www.7723.cn/download/1415.htm\n",
      "-> \n",
      "Failed to search for this game version screen resolution in description!\n",
      "-> http://www.7723.cn/download/1371.htm\n",
      "-> \n",
      "Failed to search for this game version screen resolution in description!\n",
      "-> http://www.7723.cn/download/1367.htm\n",
      "-> \n"
     ]
    },
    {
     "name": "stderr",
     "output_type": "stream",
     "text": [
      "Parsing http://www.7723.cn/download/1325.htm:  68%|██████████████████▉         | 7936/11732 [10:04<04:02, 15.64it/s]"
     ]
    },
    {
     "name": "stdout",
     "output_type": "stream",
     "text": [
      "Failed to search for this game version screen resolution in description!\n",
      "-> http://www.7723.cn/download/1362.htm\n",
      "-> \n",
      "Failed to search for this game version screen resolution in description!\n",
      "-> http://www.7723.cn/download/1344.htm\n",
      "-> \n"
     ]
    },
    {
     "name": "stderr",
     "output_type": "stream",
     "text": [
      "Parsing http://www.7723.cn/download/1007.htm:  68%|███████████████████         | 7966/11732 [10:06<04:23, 14.28it/s]"
     ]
    },
    {
     "name": "stdout",
     "output_type": "stream",
     "text": [
      "Failed to search for this game version screen resolution in description!\n",
      "-> http://www.7723.cn/download/1038.htm\n",
      "-> \n"
     ]
    },
    {
     "name": "stderr",
     "output_type": "stream",
     "text": [
      "Parsing http://www.7723.cn/download/727.htm:  68%|███████████████████▋         | 7980/11732 [10:06<03:58, 15.74it/s]"
     ]
    },
    {
     "name": "stdout",
     "output_type": "stream",
     "text": [
      "Failed to search for this game version screen resolution in description!\n",
      "-> http://www.7723.cn/download/771.htm\n",
      "-> \n"
     ]
    },
    {
     "name": "stderr",
     "output_type": "stream",
     "text": [
      "Parsing http://www.7723.cn/download/577.htm:  68%|███████████████████▋         | 7984/11732 [10:07<03:53, 16.03it/s]"
     ]
    },
    {
     "name": "stdout",
     "output_type": "stream",
     "text": [
      "Failed to search for this game version screen resolution in description!\n",
      "-> http://www.7723.cn/download/727.htm\n",
      "-> \n",
      "Failed to search for this game version screen resolution in description!\n",
      "-> http://www.7723.cn/download/727.htm\n",
      "-> \n",
      "Failed to search for this game version screen resolution in description!\n",
      "-> http://www.7723.cn/download/727.htm\n",
      "-> \n",
      "Failed to search for this game version screen resolution in description!\n",
      "-> http://www.7723.cn/download/727.htm\n",
      "-> \n",
      "Failed to search for this game version screen resolution in description!\n",
      "-> http://www.7723.cn/download/727.htm\n",
      "-> \n",
      "Failed to search for this game version screen resolution in description!\n",
      "-> http://www.7723.cn/download/727.htm\n",
      "-> \n",
      "Failed to search for this game version screen resolution in description!\n",
      "-> http://www.7723.cn/download/727.htm\n",
      "-> \n",
      "Failed to search for this game version screen resolution in description!\n",
      "-> http://www.7723.cn/download/727.htm\n",
      "-> \n",
      "Failed to search for this game version screen resolution in description!\n",
      "-> http://www.7723.cn/download/727.htm\n",
      "-> \n"
     ]
    },
    {
     "name": "stderr",
     "output_type": "stream",
     "text": [
      "Parsing http://www.7723.cn/download/373.htm:  68%|███████████████████▊         | 7998/11732 [10:08<04:37, 13.47it/s]"
     ]
    },
    {
     "name": "stdout",
     "output_type": "stream",
     "text": [
      "Failed to search for this game version screen resolution in description!\n",
      "-> http://www.7723.cn/download/392.htm\n",
      "-> \n",
      "Failed to search for this game version screen resolution in description!\n",
      "-> http://www.7723.cn/download/392.htm\n",
      "-> I-mate i9150系列5150 6150 7150 8150 9150\n"
     ]
    },
    {
     "name": "stderr",
     "output_type": "stream",
     "text": [
      "Parsing http://www.7723.cn/download/6776.htm:  70%|███████████████████▌        | 8190/11732 [10:22<03:59, 14.78it/s]"
     ]
    },
    {
     "name": "stdout",
     "output_type": "stream",
     "text": [
      "Failed to search for this game version screen resolution in description!\n",
      "-> http://www.7723.cn/download/6852.htm\n",
      "-> \n"
     ]
    },
    {
     "name": "stderr",
     "output_type": "stream",
     "text": [
      "Parsing http://www.7723.cn/download/6597.htm:  70%|███████████████████▌        | 8194/11732 [10:23<04:02, 14.60it/s]"
     ]
    },
    {
     "name": "stdout",
     "output_type": "stream",
     "text": [
      "Failed to search for this game version screen resolution in description!\n",
      "-> http://www.7723.cn/download/6618.htm\n",
      "-> \n",
      "Failed to search for this game version screen resolution in description!\n",
      "-> http://www.7723.cn/download/6597.htm\n"
     ]
    },
    {
     "name": "stderr",
     "output_type": "stream",
     "text": [
      "Parsing http://www.7723.cn/download/6514.htm:  70%|███████████████████▌        | 8198/11732 [10:23<04:00, 14.72it/s]"
     ]
    },
    {
     "name": "stdout",
     "output_type": "stream",
     "text": [
      "-> \n",
      "Failed to search for this game version screen resolution in description!\n",
      "-> http://www.7723.cn/download/6559.htm\n",
      "-> \n",
      "Failed to search for this game version screen resolution in description!\n",
      "-> http://www.7723.cn/download/6531.htm\n",
      "-> \n"
     ]
    },
    {
     "name": "stderr",
     "output_type": "stream",
     "text": [
      "Parsing http://www.7723.cn/download/6432.htm:  70%|███████████████████▌        | 8202/11732 [10:23<04:00, 14.67it/s]"
     ]
    },
    {
     "name": "stdout",
     "output_type": "stream",
     "text": [
      "Failed to search for this game version screen resolution in description!\n",
      "-> http://www.7723.cn/download/6505.htm\n",
      "-> \n"
     ]
    },
    {
     "name": "stderr",
     "output_type": "stream",
     "text": [
      "Parsing http://www.7723.cn/download/6389.htm:  70%|███████████████████▌        | 8208/11732 [10:24<04:13, 13.92it/s]"
     ]
    },
    {
     "name": "stdout",
     "output_type": "stream",
     "text": [
      "Failed to search for this game version screen resolution in description!\n",
      "-> http://www.7723.cn/download/6415.htm\n",
      "-> \n",
      "Failed to search for this game version screen resolution in description!\n",
      "-> http://www.7723.cn/download/6414.htm\n",
      "-> \n",
      "Failed to search for this game version screen resolution in description!\n",
      "-> http://www.7723.cn/download/6413.htm\n",
      "-> \n"
     ]
    },
    {
     "name": "stderr",
     "output_type": "stream",
     "text": [
      "Parsing http://www.7723.cn/download/6213.htm:  70%|███████████████████▌        | 8216/11732 [10:24<04:35, 12.76it/s]"
     ]
    },
    {
     "name": "stdout",
     "output_type": "stream",
     "text": [
      "Failed to search for this game version screen resolution in description!\n",
      "-> http://www.7723.cn/download/6231.htm\n",
      "-> \n",
      "Failed to search for this game version screen resolution in description!\n",
      "-> http://www.7723.cn/download/6228.htm\n",
      "-> \n"
     ]
    },
    {
     "name": "stderr",
     "output_type": "stream",
     "text": [
      "Parsing http://www.7723.cn/download/6145.htm:  70%|███████████████████▌        | 8220/11732 [10:25<04:25, 13.22it/s]"
     ]
    },
    {
     "name": "stdout",
     "output_type": "stream",
     "text": [
      "Failed to search for this game version screen resolution in description!\n",
      "-> http://www.7723.cn/download/6213.htm\n",
      "-> \n",
      "Failed to search for this game version screen resolution in description!\n",
      "-> http://www.7723.cn/download/6186.htm\n",
      "-> \n"
     ]
    },
    {
     "name": "stderr",
     "output_type": "stream",
     "text": [
      "Parsing http://www.7723.cn/download/5987.htm:  70%|███████████████████▋        | 8228/11732 [10:25<04:07, 14.15it/s]"
     ]
    },
    {
     "name": "stdout",
     "output_type": "stream",
     "text": [
      "Failed to search for this game version screen resolution in description!\n",
      "-> http://www.7723.cn/download/6056.htm\n",
      "-> \n",
      "Failed to search for this game version screen resolution in description!\n",
      "-> http://www.7723.cn/download/6016.htm\n",
      "-> \n"
     ]
    },
    {
     "name": "stderr",
     "output_type": "stream",
     "text": [
      "Parsing http://www.7723.cn/download/5851.htm:  70%|███████████████████▋        | 8234/11732 [10:26<04:02, 14.41it/s]"
     ]
    },
    {
     "name": "stdout",
     "output_type": "stream",
     "text": [
      "Failed to search for this game version screen resolution in description!\n",
      "-> http://www.7723.cn/download/5901.htm\n",
      "-> \n",
      "Failed to search for this game version screen resolution in description!\n",
      "-> "
     ]
    },
    {
     "name": "stderr",
     "output_type": "stream",
     "text": [
      "Parsing http://www.7723.cn/download/5829.htm:  70%|███████████████████▋        | 8238/11732 [10:26<04:01, 14.45it/s]"
     ]
    },
    {
     "name": "stdout",
     "output_type": "stream",
     "text": [
      "http://www.7723.cn/download/5851.htm\n",
      "-> \n",
      "Failed to search for this game version screen resolution in description!\n",
      "-> http://www.7723.cn/download/5850.htm\n",
      "-> \n"
     ]
    },
    {
     "name": "stderr",
     "output_type": "stream",
     "text": [
      "Parsing http://www.7723.cn/download/5795.htm:  70%|███████████████████▋        | 8242/11732 [10:26<05:27, 10.64it/s]"
     ]
    },
    {
     "name": "stdout",
     "output_type": "stream",
     "text": [
      "Failed to search for this game version screen resolution in description!\n",
      "-> http://www.7723.cn/download/5819.htm\n",
      "-> \n"
     ]
    },
    {
     "name": "stderr",
     "output_type": "stream",
     "text": [
      "Parsing http://www.7723.cn/download/5695.htm:  70%|███████████████████▋        | 8244/11732 [10:27<05:24, 10.74it/s]"
     ]
    },
    {
     "name": "stdout",
     "output_type": "stream",
     "text": [
      "Failed to search for this game version screen resolution in description!\n",
      "-> http://www.7723.cn/download/5791.htm\n",
      "-> \n"
     ]
    },
    {
     "name": "stderr",
     "output_type": "stream",
     "text": [
      "Parsing http://www.7723.cn/download/5664.htm:  70%|███████████████████▋        | 8248/11732 [10:27<05:20, 10.87it/s]"
     ]
    },
    {
     "name": "stdout",
     "output_type": "stream",
     "text": [
      "Failed to search for this game version screen resolution in description!\n",
      "-> http://www.7723.cn/download/5695.htm\n",
      "-> \n"
     ]
    },
    {
     "name": "stderr",
     "output_type": "stream",
     "text": [
      "Parsing http://www.7723.cn/download/5503.htm:  70%|███████████████████▋        | 8252/11732 [10:27<04:45, 12.18it/s]"
     ]
    },
    {
     "name": "stdout",
     "output_type": "stream",
     "text": [
      "Failed to search for this game version screen resolution in description!\n",
      "-> http://www.7723.cn/download/5572.htm\n",
      "-> \n",
      "Failed to search for this game version screen resolution in description!\n",
      "-> http://www.7723.cn/download/5563.htm\n",
      "-> \n"
     ]
    },
    {
     "name": "stderr",
     "output_type": "stream",
     "text": [
      "Parsing http://www.7723.cn/download/5468.htm:  70%|███████████████████▋        | 8254/11732 [10:27<04:32, 12.76it/s]"
     ]
    },
    {
     "name": "stdout",
     "output_type": "stream",
     "text": [
      "Failed to search for this game version screen resolution in description!\n",
      "-> http://www.7723.cn/download/5503.htm\n",
      "-> \n",
      "Failed to search for this game version screen resolution in description!\n",
      "-> http://www.7723.cn/download/5497.htm\n",
      "-> \n"
     ]
    },
    {
     "name": "stderr",
     "output_type": "stream",
     "text": [
      "Parsing http://www.7723.cn/download/5414.htm:  70%|███████████████████▋        | 8260/11732 [10:28<04:42, 12.27it/s]"
     ]
    },
    {
     "name": "stdout",
     "output_type": "stream",
     "text": [
      "Failed to search for this game version screen resolution in description!\n",
      "-> http://www.7723.cn/download/5450.htm\n",
      "-> \n",
      "Failed to search for this game version screen resolution in description!\n",
      "-> http://www.7723.cn/download/5445.htm\n",
      "-> \n"
     ]
    },
    {
     "name": "stderr",
     "output_type": "stream",
     "text": [
      "Parsing http://www.7723.cn/download/5353.htm:  70%|███████████████████▋        | 8264/11732 [10:28<04:21, 13.28it/s]"
     ]
    },
    {
     "name": "stdout",
     "output_type": "stream",
     "text": [
      "Failed to search for this game version screen resolution in description!\n",
      "-> http://www.7723.cn/download/5396.htm\n",
      "-> \n"
     ]
    },
    {
     "name": "stderr",
     "output_type": "stream",
     "text": [
      "Parsing http://www.7723.cn/download/5267.htm:  70%|███████████████████▋        | 8268/11732 [10:28<04:34, 12.61it/s]"
     ]
    },
    {
     "name": "stdout",
     "output_type": "stream",
     "text": [
      "Failed to search for this game version screen resolution in description!\n",
      "-> http://www.7723.cn/download/5353.htm\n",
      "-> \n"
     ]
    },
    {
     "name": "stderr",
     "output_type": "stream",
     "text": [
      "Parsing http://www.7723.cn/download/5150.htm:  71%|███████████████████▋        | 8272/11732 [10:29<05:08, 11.22it/s]"
     ]
    },
    {
     "name": "stdout",
     "output_type": "stream",
     "text": [
      "Failed to search for this game version screen resolution in description!\n",
      "-> http://www.7723.cn/download/5203.htm\n",
      "-> \n"
     ]
    },
    {
     "name": "stderr",
     "output_type": "stream",
     "text": [
      "Parsing http://www.7723.cn/download/4984.htm:  71%|███████████████████▊        | 8276/11732 [10:29<04:22, 13.16it/s]"
     ]
    },
    {
     "name": "stdout",
     "output_type": "stream",
     "text": [
      "Failed to search for this game version screen resolution in description!\n",
      "-> http://www.7723.cn/download/5066.htm\n",
      "-> \n",
      "Failed to search for this game version screen resolution in description!\n",
      "-> http://www.7723.cn/download/5028.htm\n",
      "-> \n"
     ]
    },
    {
     "name": "stderr",
     "output_type": "stream",
     "text": [
      "Parsing http://www.7723.cn/download/4907.htm:  71%|███████████████████▊        | 8280/11732 [10:29<04:09, 13.84it/s]"
     ]
    },
    {
     "name": "stdout",
     "output_type": "stream",
     "text": [
      "Failed to search for this game version screen resolution in description!\n",
      "-> http://www.7723.cn/download/4959.htm\n",
      "-> \n",
      "Failed to search for this game version screen resolution in description!\n",
      "-> http://www.7723.cn/download/4929.htm\n",
      "-> \n"
     ]
    },
    {
     "name": "stderr",
     "output_type": "stream",
     "text": [
      "Parsing http://www.7723.cn/download/4833.htm:  71%|███████████████████▊        | 8284/11732 [10:30<05:10, 11.11it/s]"
     ]
    },
    {
     "name": "stdout",
     "output_type": "stream",
     "text": [
      "Failed to search for this game version screen resolution in description!\n",
      "-> http://www.7723.cn/download/4907.htm\n",
      "-> \n",
      "Failed to search for this game version screen resolution in description!\n",
      "-> http://www.7723.cn/download/4892.htm\n",
      "-> \n"
     ]
    },
    {
     "name": "stderr",
     "output_type": "stream",
     "text": [
      "Parsing http://www.7723.cn/download/4669.htm:  71%|███████████████████▊        | 8286/11732 [10:30<05:01, 11.43it/s]"
     ]
    },
    {
     "name": "stdout",
     "output_type": "stream",
     "text": [
      "Failed to search for this game version screen resolution in description!\n",
      "-> http://www.7723.cn/download/4810.htm\n",
      "-> \n",
      "Failed to search for this game version screen resolution in description!\n",
      "-> http://www.7723.cn/download/4810.htm\n",
      "-> \n",
      "Failed to search for this game version screen resolution in description!\n",
      "-> http://www.7723.cn/download/4810.htm\n",
      "-> \n",
      "Failed to search for this game version screen resolution in description!\n",
      "-> http://www.7723.cn/download/4810.htm\n",
      "-> \n",
      "Failed to search for this game version screen resolution in description!\n",
      "-> http://www.7723.cn/download/4810.htm\n",
      "-> \n",
      "Failed to search for this game version screen resolution in description!\n",
      "-> http://www.7723.cn/download/4810.htm\n",
      "-> \n",
      "Failed to search for this game version screen resolution in description!\n",
      "-> http://www.7723.cn/download/4810.htm\n",
      "-> \n",
      "Failed to search for this game version screen resolution in description!\n",
      "-> http://www.7723.cn/download/4810.htm\n",
      "-> \n",
      "Failed to search for this game version screen resolution in description!\n",
      "-> http://www.7723.cn/download/4810.htm\n",
      "-> \n",
      "Failed to search for this game version screen resolution in description!\n",
      "-> http://www.7723.cn/download/4810.htm\n",
      "-> \n",
      "Failed to search for this game version screen resolution in description!\n",
      "-> http://www.7723.cn/download/4810.htm\n",
      "-> \n"
     ]
    },
    {
     "name": "stderr",
     "output_type": "stream",
     "text": [
      "Parsing http://www.7723.cn/download/4649.htm:  71%|███████████████████▊        | 8290/11732 [10:30<04:35, 12.50it/s]"
     ]
    },
    {
     "name": "stdout",
     "output_type": "stream",
     "text": [
      "Failed to search for this game version screen resolution in description!\n",
      "-> http://www.7723.cn/download/4669.htm\n",
      "-> \n",
      "Failed to search for this game version screen resolution in description!\n",
      "-> http://www.7723.cn/download/4669.htm\n",
      "-> \n",
      "Failed to search for this game version screen resolution in description!\n",
      "-> http://www.7723.cn/download/4669.htm\n",
      "-> \n",
      "Failed to search for this game version screen resolution in description!\n",
      "-> http://www.7723.cn/download/4669.htm\n",
      "-> \n",
      "Failed to search for this game version screen resolution in description!\n",
      "-> http://www.7723.cn/download/4669.htm\n",
      "-> \n",
      "Failed to search for this game version screen resolution in description!\n",
      "-> http://www.7723.cn/download/4669.htm\n",
      "-> \n",
      "Failed to search for this game version screen resolution in description!\n",
      "-> http://www.7723.cn/download/4669.htm\n",
      "-> \n",
      "Failed to search for this game version screen resolution in description!\n",
      "-> http://www.7723.cn/download/4669.htm\n",
      "-> \n",
      "Failed to search for this game version screen resolution in description!\n",
      "-> http://www.7723.cn/download/4669.htm\n",
      "-> \n",
      "Failed to search for this game version screen resolution in description!\n",
      "-> http://www.7723.cn/download/4669.htm\n",
      "-> \n",
      "Failed to search for this game version screen resolution in description!\n",
      "-> http://www.7723.cn/download/4669.htm\n",
      "-> \n",
      "Failed to search for this game version screen resolution in description!\n",
      "-> http://www.7723.cn/download/4669.htm\n",
      "-> \n",
      "Failed to search for this game version screen resolution in description!\n",
      "-> http://www.7723.cn/download/4669.htm\n",
      "-> \n",
      "Failed to search for this game version screen resolution in description!\n",
      "-> http://www.7723.cn/download/4669.htm\n",
      "-> \n",
      "Failed to search for this game version screen resolution in description!\n",
      "-> http://www.7723.cn/download/4669.htm\n",
      "-> \n",
      "Failed to search for this game version screen resolution in description!\n",
      "-> http://www.7723.cn/download/4669.htm\n",
      "-> \n"
     ]
    },
    {
     "name": "stderr",
     "output_type": "stream",
     "text": [
      "Parsing http://www.7723.cn/download/4369.htm:  71%|███████████████████▊        | 8308/11732 [10:32<04:17, 13.31it/s]"
     ]
    },
    {
     "name": "stdout",
     "output_type": "stream",
     "text": [
      "Failed to search for this game version screen resolution in description!\n",
      "-> http://www.7723.cn/download/4382.htm\n",
      "-> \n"
     ]
    },
    {
     "name": "stderr",
     "output_type": "stream",
     "text": [
      "Parsing http://www.7723.cn/download/4356.htm:  71%|███████████████████▊        | 8312/11732 [10:32<04:10, 13.67it/s]"
     ]
    },
    {
     "name": "stdout",
     "output_type": "stream",
     "text": [
      "Failed to search for this game version screen resolution in description!\n",
      "-> http://www.7723.cn/download/4369.htm\n",
      "-> \n",
      "Failed to search for this game version screen resolution in description!\n",
      "-> http://www.7723.cn/download/4369.htm\n",
      "-> \n",
      "Failed to search for this game version screen resolution in description!\n",
      "-> http://www.7723.cn/download/4363.htm\n",
      "-> \n"
     ]
    },
    {
     "name": "stderr",
     "output_type": "stream",
     "text": [
      "Parsing http://www.7723.cn/download/4296.htm:  71%|███████████████████▊        | 8314/11732 [10:32<04:14, 13.44it/s]"
     ]
    },
    {
     "name": "stdout",
     "output_type": "stream",
     "text": [
      "Failed to search for this game version screen resolution in description!\n",
      "-> http://www.7723.cn/download/4356.htm\n",
      "-> \n"
     ]
    },
    {
     "name": "stderr",
     "output_type": "stream",
     "text": [
      "Parsing http://www.7723.cn/download/3937.htm:  71%|███████████████████▉        | 8344/11732 [10:34<03:44, 15.10it/s]"
     ]
    },
    {
     "name": "stdout",
     "output_type": "stream",
     "text": [
      "Failed to search for this game version screen resolution in description!\n",
      "-> http://www.7723.cn/download/3998.htm\n",
      "-> \n"
     ]
    },
    {
     "name": "stderr",
     "output_type": "stream",
     "text": [
      "Parsing http://www.7723.cn/download/3588.htm:  71%|███████████████████▉        | 8368/11732 [10:36<03:46, 14.85it/s]"
     ]
    },
    {
     "name": "stdout",
     "output_type": "stream",
     "text": [
      "Failed to search for this game version screen resolution in description!\n",
      "-> http://www.7723.cn/download/3598.htm\n",
      "-> \n"
     ]
    },
    {
     "name": "stderr",
     "output_type": "stream",
     "text": [
      "Parsing http://www.7723.cn/download/2786.htm:  72%|████████████████████▏       | 8438/11732 [10:40<03:24, 16.08it/s]"
     ]
    },
    {
     "name": "stdout",
     "output_type": "stream",
     "text": [
      "Failed to search for this game version screen resolution in description!\n",
      "-> http://www.7723.cn/download/2813.htm\n",
      "-> \n"
     ]
    },
    {
     "name": "stderr",
     "output_type": "stream",
     "text": [
      "Parsing http://www.7723.cn/download/2747.htm:  72%|████████████████████▏       | 8446/11732 [10:41<03:43, 14.73it/s]"
     ]
    },
    {
     "name": "stdout",
     "output_type": "stream",
     "text": [
      "Failed to search for this game version screen resolution in description!\n",
      "-> http://www.7723.cn/download/2761.htm\n",
      "-> \n"
     ]
    },
    {
     "name": "stderr",
     "output_type": "stream",
     "text": [
      "Parsing http://www.7723.cn/download/2540.htm:  72%|████████████████████▏       | 8462/11732 [10:42<03:28, 15.65it/s]"
     ]
    },
    {
     "name": "stdout",
     "output_type": "stream",
     "text": [
      "Failed to search for this game version screen resolution in description!\n",
      "-> http://www.7723.cn/download/2570.htm\n",
      "-> \n"
     ]
    },
    {
     "name": "stderr",
     "output_type": "stream",
     "text": [
      "Parsing http://www.7723.cn/download/2470.htm:  72%|████████████████████▏       | 8466/11732 [10:42<04:18, 12.65it/s]"
     ]
    },
    {
     "name": "stdout",
     "output_type": "stream",
     "text": [
      "Failed to search for this game version screen resolution in description!\n",
      "-> http://www.7723.cn/download/2540.htm\n",
      "-> \n",
      "Failed to search for this game version screen resolution in description!\n",
      "-> http://www.7723.cn/download/2540.htm\n",
      "-> \n",
      "Failed to search for this game version screen resolution in description!\n",
      "-> http://www.7723.cn/download/2540.htm\n",
      "-> \n",
      "Failed to search for this game version screen resolution in description!\n",
      "-> http://www.7723.cn/download/2474.htm\n",
      "-> \n"
     ]
    },
    {
     "name": "stderr",
     "output_type": "stream",
     "text": [
      "Parsing http://www.7723.cn/download/1579.htm:  73%|████████████████████▎       | 8526/11732 [10:46<03:28, 15.39it/s]"
     ]
    },
    {
     "name": "stdout",
     "output_type": "stream",
     "text": [
      "Failed to search for this game version screen resolution in description!\n",
      "-> http://www.7723.cn/download/1608.htm\n",
      "-> \n",
      "Failed to search for this game version screen resolution in description!\n",
      "-> http://www.7723.cn/download/1579.htm\n",
      "-> \n"
     ]
    },
    {
     "name": "stderr",
     "output_type": "stream",
     "text": [
      "Parsing http://www.7723.cn/download/1420.htm:  73%|████████████████████▎       | 8536/11732 [10:47<03:21, 15.85it/s]"
     ]
    },
    {
     "name": "stdout",
     "output_type": "stream",
     "text": [
      "Failed to search for this game version screen resolution in description!\n",
      "-> http://www.7723.cn/download/1479.htm\n",
      "-> \n"
     ]
    },
    {
     "name": "stderr",
     "output_type": "stream",
     "text": [
      "Parsing http://www.7723.cn/download/1359.htm:  73%|████████████████████▍       | 8542/11732 [10:47<03:20, 15.95it/s]"
     ]
    },
    {
     "name": "stdout",
     "output_type": "stream",
     "text": [
      "Failed to search for this game version screen resolution in description!\n",
      "-> http://www.7723.cn/download/1414.htm\n",
      "-> \n"
     ]
    },
    {
     "name": "stderr",
     "output_type": "stream",
     "text": [
      "Parsing http://www.7723.cn/download/1313.htm:  73%|████████████████████▍       | 8546/11732 [10:48<04:33, 11.64it/s]"
     ]
    },
    {
     "name": "stdout",
     "output_type": "stream",
     "text": [
      "Failed to search for this game version screen resolution in description!\n",
      "-> http://www.7723.cn/download/1343.htm\n",
      "-> \n"
     ]
    },
    {
     "name": "stderr",
     "output_type": "stream",
     "text": [
      "Parsing http://www.7723.cn/download/1227.htm:  73%|████████████████████▍       | 8552/11732 [10:48<03:54, 13.58it/s]"
     ]
    },
    {
     "name": "stdout",
     "output_type": "stream",
     "text": [
      "Failed to search for this game version screen resolution in description!\n",
      "-> http://www.7723.cn/download/1310.htm\n",
      "-> \n"
     ]
    },
    {
     "name": "stderr",
     "output_type": "stream",
     "text": [
      "Parsing http://www.7723.cn/download/1080.htm:  73%|████████████████████▍       | 8560/11732 [10:49<03:41, 14.31it/s]"
     ]
    },
    {
     "name": "stdout",
     "output_type": "stream",
     "text": [
      "Failed to search for this game version screen resolution in description!\n",
      "-> http://www.7723.cn/download/1136.htm\n",
      "-> \n",
      "Failed to search for this game version screen resolution in description!\n",
      "-> http://www.7723.cn/download/1082.htm\n",
      "-> \n"
     ]
    },
    {
     "name": "stderr",
     "output_type": "stream",
     "text": [
      "Parsing http://www.7723.cn/download/493.htm:  73%|█████████████████████▎       | 8598/11732 [10:51<03:22, 15.50it/s]"
     ]
    },
    {
     "name": "stdout",
     "output_type": "stream",
     "text": [
      "Failed to search for this game version screen resolution in description!\n",
      "-> http://www.7723.cn/download/563.htm\n",
      "-> \n"
     ]
    },
    {
     "name": "stderr",
     "output_type": "stream",
     "text": [
      "Parsing http://www.7723.cn/download/7436.htm:  74%|████████████████████▊       | 8696/11732 [10:59<03:59, 12.65it/s]"
     ]
    },
    {
     "name": "stdout",
     "output_type": "stream",
     "text": [
      "Failed to search for this game version screen resolution in description!\n",
      "-> http://www.7723.cn/download/6591.htm\n",
      "-> \n"
     ]
    },
    {
     "name": "stderr",
     "output_type": "stream",
     "text": [
      "Parsing http://www.7723.cn/download/6320.htm:  74%|████████████████████▊       | 8714/11732 [11:00<03:32, 14.23it/s]"
     ]
    },
    {
     "name": "stdout",
     "output_type": "stream",
     "text": [
      "Failed to search for this game version screen resolution in description!\n",
      "-> http://www.7723.cn/download/6501.htm\n",
      "-> \n"
     ]
    },
    {
     "name": "stderr",
     "output_type": "stream",
     "text": [
      "Parsing http://www.7723.cn/download/6149.htm:  74%|████████████████████▊       | 8716/11732 [11:00<03:33, 14.14it/s]"
     ]
    },
    {
     "name": "stdout",
     "output_type": "stream",
     "text": [
      "Failed to search for this game version screen resolution in description!\n",
      "-> http://www.7723.cn/download/6320.htm\n",
      "-> \n",
      "Failed to search for this game version screen resolution in description!\n",
      "-> http://www.7723.cn/download/6168.htm\n",
      "-> \n"
     ]
    },
    {
     "name": "stderr",
     "output_type": "stream",
     "text": [
      "Parsing http://www.7723.cn/download/5616.htm:  74%|████████████████████▊       | 8722/11732 [11:01<03:53, 12.87it/s]"
     ]
    },
    {
     "name": "stdout",
     "output_type": "stream",
     "text": [
      "Failed to search for this game version screen resolution in description!\n",
      "-> http://www.7723.cn/download/5756.htm\n",
      "-> \n",
      "Failed to search for this game version screen resolution in description!\n",
      "-> http://www.7723.cn/download/5721.htm\n",
      "-> \n"
     ]
    },
    {
     "name": "stderr",
     "output_type": "stream",
     "text": [
      "Parsing http://www.7723.cn/download/4885.htm:  74%|████████████████████▊       | 8730/11732 [11:01<03:34, 14.02it/s]"
     ]
    },
    {
     "name": "stdout",
     "output_type": "stream",
     "text": [
      "Failed to search for this game version screen resolution in description!\n",
      "-> http://www.7723.cn/download/5134.htm\n",
      "-> \n"
     ]
    },
    {
     "name": "stderr",
     "output_type": "stream",
     "text": [
      "Parsing http://www.7723.cn/download/2882.htm:  75%|████████████████████▉       | 8762/11732 [11:04<03:13, 15.33it/s]"
     ]
    },
    {
     "name": "stdout",
     "output_type": "stream",
     "text": [
      "Failed to search for this game version screen resolution in description!\n",
      "-> http://www.7723.cn/download/2946.htm\n",
      "-> \n",
      "Failed to search for this game version screen resolution in description!\n",
      "-> http://www.7723.cn/download/2896.htm\n",
      "-> \n",
      "Failed to search for this game version screen resolution in description!\n",
      "-> http://www.7723.cn/download/2896.htm\n",
      "-> \n"
     ]
    },
    {
     "name": "stderr",
     "output_type": "stream",
     "text": [
      "Parsing http://www.7723.cn/download/1266.htm:  75%|█████████████████████       | 8820/11732 [11:07<03:06, 15.60it/s]"
     ]
    },
    {
     "name": "stdout",
     "output_type": "stream",
     "text": [
      "Failed to search for this game version screen resolution in description!\n",
      "-> http://www.7723.cn/download/1306.htm\n",
      "-> \n"
     ]
    },
    {
     "name": "stderr",
     "output_type": "stream",
     "text": [
      "Parsing http://www.7723.cn/download/664.htm:  76%|█████████████████████▉       | 8888/11732 [11:12<03:02, 15.57it/s]"
     ]
    },
    {
     "name": "stdout",
     "output_type": "stream",
     "text": [
      "Failed to search for this game version screen resolution in description!\n",
      "-> http://www.7723.cn/download/677.htm\n",
      "-> \n",
      "Failed to search for this game version screen resolution in description!\n",
      "-> http://www.7723.cn/download/670.htm\n",
      "-> \n"
     ]
    },
    {
     "name": "stderr",
     "output_type": "stream",
     "text": [
      "Parsing http://www.7723.cn/download/454.htm:  76%|██████████████████████       | 8910/11732 [11:13<02:59, 15.75it/s]"
     ]
    },
    {
     "name": "stdout",
     "output_type": "stream",
     "text": [
      "Failed to search for this game version screen resolution in description!\n",
      "-> http://www.7723.cn/download/484.htm\n",
      "-> \n",
      "Failed to search for this game version screen resolution in description!\n",
      "-> http://www.7723.cn/download/454.htm\n",
      "->"
     ]
    },
    {
     "name": "stderr",
     "output_type": "stream",
     "text": [
      "Parsing http://www.7723.cn/download/425.htm:  76%|██████████████████████       | 8914/11732 [11:14<03:01, 15.49it/s]"
     ]
    },
    {
     "name": "stdout",
     "output_type": "stream",
     "text": [
      " \n",
      "Failed to search for this game version screen resolution in description!\n",
      "-> http://www.7723.cn/download/425.htm\n",
      "-> \n"
     ]
    },
    {
     "name": "stderr",
     "output_type": "stream",
     "text": [
      "Parsing http://www.7723.cn/download/238.htm:  76%|██████████████████████       | 8926/11732 [11:14<02:51, 16.38it/s]"
     ]
    },
    {
     "name": "stdout",
     "output_type": "stream",
     "text": [
      "Failed to search for this game version screen resolution in description!\n",
      "-> http://www.7723.cn/download/254.htm\n",
      "-> \n"
     ]
    },
    {
     "name": "stderr",
     "output_type": "stream",
     "text": [
      "Parsing http://www.7723.cn/download/6743.htm:  79%|██████████████████████      | 9264/11732 [11:41<02:56, 13.97it/s]"
     ]
    },
    {
     "name": "stdout",
     "output_type": "stream",
     "text": [
      "Failed to search for this game version screen resolution in description!\n",
      "-> http://www.7723.cn/download/6770.htm\n",
      "-> \n"
     ]
    },
    {
     "name": "stderr",
     "output_type": "stream",
     "text": [
      "Parsing http://www.7723.cn/download/6723.htm:  79%|██████████████████████      | 9268/11732 [11:41<02:52, 14.24it/s]"
     ]
    },
    {
     "name": "stdout",
     "output_type": "stream",
     "text": [
      "Failed to search for this game version screen resolution in description!\n",
      "-> http://www.7723.cn/download/6743.htm\n",
      "-> \n",
      "Failed to search for this game version screen resolution in description!\n",
      "-> http://www.7723.cn/download/6738.htm\n",
      "-> \n"
     ]
    },
    {
     "name": "stderr",
     "output_type": "stream",
     "text": [
      "Parsing http://www.7723.cn/download/6691.htm:  79%|██████████████████████      | 9270/11732 [11:41<03:03, 13.44it/s]"
     ]
    },
    {
     "name": "stdout",
     "output_type": "stream",
     "text": [
      "Failed to search for this game version screen resolution in description!\n",
      "-> http://www.7723.cn/download/6722.htm\n",
      "-> \n",
      "Failed to search for this game version screen resolution in description!\n",
      "-> http://www.7723.cn/download/6710.htm\n",
      "-> \n"
     ]
    },
    {
     "name": "stderr",
     "output_type": "stream",
     "text": [
      "Parsing http://www.7723.cn/download/6594.htm:  79%|██████████████████████▏     | 9276/11732 [11:41<02:51, 14.35it/s]"
     ]
    },
    {
     "name": "stdout",
     "output_type": "stream",
     "text": [
      "Failed to search for this game version screen resolution in description!\n",
      "-> http://www.7723.cn/download/6656.htm\n",
      "-> \n"
     ]
    },
    {
     "name": "stderr",
     "output_type": "stream",
     "text": [
      "Parsing http://www.7723.cn/download/6525.htm:  79%|██████████████████████▏     | 9280/11732 [11:42<02:47, 14.60it/s]"
     ]
    },
    {
     "name": "stdout",
     "output_type": "stream",
     "text": [
      "Failed to search for this game version screen resolution in description!\n",
      "-> http://www.7723.cn/download/6594.htm\n",
      "-> \n"
     ]
    },
    {
     "name": "stderr",
     "output_type": "stream",
     "text": [
      "Parsing http://www.7723.cn/download/6385.htm:  79%|██████████████████████▏     | 9284/11732 [11:42<02:52, 14.16it/s]"
     ]
    },
    {
     "name": "stdout",
     "output_type": "stream",
     "text": [
      "Failed to search for this game version screen resolution in description!\n",
      "-> http://www.7723.cn/download/6525.htm\n",
      "-> \n",
      "Failed to search for this game version screen resolution in description!\n",
      "-> http://www.7723.cn/download/6484.htm\n",
      "-> \n"
     ]
    },
    {
     "name": "stderr",
     "output_type": "stream",
     "text": [
      "\r",
      "Parsing http://www.7723.cn/download/6364.htm:  79%|██████████████████████▏     | 9284/11732 [11:42<02:52, 14.16it/s]"
     ]
    },
    {
     "name": "stdout",
     "output_type": "stream",
     "text": [
      "Failed to search for this game version screen resolution in description!\n",
      "-> http://www.7723.cn/download/6385.htm\n",
      "-> \n",
      "Failed to search for this game version screen resolution in description!\n",
      "-> http://www.7723.cn/download/6364.htm\n",
      "-> \n"
     ]
    },
    {
     "name": "stderr",
     "output_type": "stream",
     "text": [
      "Parsing http://www.7723.cn/download/6326.htm:  79%|██████████████████████▏     | 9288/11732 [11:42<03:22, 12.05it/s]"
     ]
    },
    {
     "name": "stdout",
     "output_type": "stream",
     "text": [
      "Failed to search for this game version screen resolution in description!\n",
      "-> http://www.7723.cn/download/6356.htm\n",
      "-> \n"
     ]
    },
    {
     "name": "stderr",
     "output_type": "stream",
     "text": [
      "Parsing http://www.7723.cn/download/6266.htm:  79%|██████████████████████▏     | 9292/11732 [11:43<03:11, 12.75it/s]"
     ]
    },
    {
     "name": "stdout",
     "output_type": "stream",
     "text": [
      "Failed to search for this game version screen resolution in description!\n",
      "-> http://www.7723.cn/download/6315.htm\n",
      "-> \n",
      "Failed to search for this game version screen resolution in description!\n",
      "-> http://www.7723.cn/download/6295.htm\n",
      "-> \n"
     ]
    },
    {
     "name": "stderr",
     "output_type": "stream",
     "text": [
      "Parsing http://www.7723.cn/download/6224.htm:  79%|██████████████████████▏     | 9294/11732 [11:43<03:07, 13.01it/s]"
     ]
    },
    {
     "name": "stdout",
     "output_type": "stream",
     "text": [
      "Failed to search for this game version screen resolution in description!\n",
      "-> http://www.7723.cn/download/6266.htm\n",
      "-> \n",
      "Failed to search for this game version screen resolution in description!\n",
      "-> http://www.7723.cn/download/6265.htm\n",
      "-> \n",
      "Failed to search for this game version screen resolution in description!\n",
      "-> http://www.7723.cn/download/6234.htm\n",
      "-> \n"
     ]
    },
    {
     "name": "stderr",
     "output_type": "stream",
     "text": [
      "Parsing http://www.7723.cn/download/6030.htm:  79%|██████████████████████▏     | 9302/11732 [11:43<02:46, 14.58it/s]"
     ]
    },
    {
     "name": "stdout",
     "output_type": "stream",
     "text": [
      "Failed to search for this game version screen resolution in description!\n",
      "-> http://www.7723.cn/download/6073.htm\n",
      "-> \n"
     ]
    },
    {
     "name": "stderr",
     "output_type": "stream",
     "text": [
      "Parsing http://www.7723.cn/download/5968.htm:  79%|██████████████████████▏     | 9304/11732 [11:44<02:42, 14.92it/s]"
     ]
    },
    {
     "name": "stdout",
     "output_type": "stream",
     "text": [
      "Failed to search for this game version screen resolution in description!\n",
      "-> http://www.7723.cn/download/6030.htm\n",
      "-> \n"
     ]
    },
    {
     "name": "stderr",
     "output_type": "stream",
     "text": [
      "Parsing http://www.7723.cn/download/5549.htm:  79%|██████████████████████▏     | 9322/11732 [11:45<03:06, 12.94it/s]"
     ]
    },
    {
     "name": "stdout",
     "output_type": "stream",
     "text": [
      "Failed to search for this game version screen resolution in description!\n",
      "-> http://www.7723.cn/download/5659.htm\n",
      "-> \n",
      "Failed to search for this game version screen resolution in description!\n",
      "-> http://www.7723.cn/download/5565.htm\n",
      "-> \n"
     ]
    },
    {
     "name": "stderr",
     "output_type": "stream",
     "text": [
      "Parsing http://www.7723.cn/download/5362.htm:  80%|██████████████████████▎     | 9330/11732 [11:45<02:50, 14.09it/s]"
     ]
    },
    {
     "name": "stdout",
     "output_type": "stream",
     "text": [
      "Failed to search for this game version screen resolution in description!\n",
      "-> http://www.7723.cn/download/5434.htm\n",
      "-> \n",
      "Failed to search for this game version screen resolution in description!\n",
      "-> http://www.7723.cn/download/5386.htm\n",
      "-> \n"
     ]
    },
    {
     "name": "stderr",
     "output_type": "stream",
     "text": [
      "Parsing http://www.7723.cn/download/5329.htm:  80%|██████████████████████▎     | 9332/11732 [11:46<02:49, 14.16it/s]"
     ]
    },
    {
     "name": "stdout",
     "output_type": "stream",
     "text": [
      "Failed to search for this game version screen resolution in description!\n",
      "-> http://www.7723.cn/download/5362.htm\n",
      "-> \n"
     ]
    },
    {
     "name": "stderr",
     "output_type": "stream",
     "text": [
      "Parsing http://www.7723.cn/download/5220.htm:  80%|██████████████████████▎     | 9336/11732 [11:46<02:54, 13.70it/s]"
     ]
    },
    {
     "name": "stdout",
     "output_type": "stream",
     "text": [
      "Failed to search for this game version screen resolution in description!\n",
      "-> http://www.7723.cn/download/5298.htm\n",
      "-> \n",
      "Failed to search for this game version screen resolution in description!\n",
      "-> http://www.7723.cn/download/5269.htm\n",
      "-> \n"
     ]
    },
    {
     "name": "stderr",
     "output_type": "stream",
     "text": [
      "Parsing http://www.7723.cn/download/4380.htm:  80%|██████████████████████▎     | 9362/11732 [11:48<02:34, 15.34it/s]"
     ]
    },
    {
     "name": "stdout",
     "output_type": "stream",
     "text": [
      "Failed to search for this game version screen resolution in description!\n",
      "-> http://www.7723.cn/download/4495.htm\n",
      "-> \n",
      "Failed to search for this game version screen resolution in description!\n",
      "-> http://www.7723.cn/download/4495.htm\n",
      "-> \n"
     ]
    },
    {
     "name": "stderr",
     "output_type": "stream",
     "text": [
      "Parsing http://www.7723.cn/download/4054.htm:  80%|██████████████████████▍     | 9380/11732 [11:49<02:35, 15.16it/s]"
     ]
    },
    {
     "name": "stdout",
     "output_type": "stream",
     "text": [
      "Failed to search for this game version screen resolution in description!\n",
      "-> http://www.7723.cn/download/4087.htm\n",
      "-> \n",
      "Failed to search for this game version screen resolution in description!\n",
      "-> http://www.7723.cn/download/4082.htm\n",
      "-> \n",
      "Failed to search for this game version screen resolution in description!\n",
      "-> http://www.7723.cn/download/4082.htm\n",
      "-> \n",
      "Failed to search for this game version screen resolution in description!\n",
      "-> http://www.7723.cn/download/4064.htm\n",
      "-> \n",
      "Failed to search for this game version screen resolution in description!\n",
      "-> http://www.7723.cn/download/4064.htm\n",
      "-> \n"
     ]
    },
    {
     "name": "stderr",
     "output_type": "stream",
     "text": [
      "Parsing http://www.7723.cn/download/3424.htm:  80%|██████████████████████▍     | 9406/11732 [11:51<02:42, 14.32it/s]"
     ]
    },
    {
     "name": "stdout",
     "output_type": "stream",
     "text": [
      "Failed to search for this game version screen resolution in description!\n",
      "-> http://www.7723.cn/download/3457.htm\n",
      "-> \n"
     ]
    },
    {
     "name": "stderr",
     "output_type": "stream",
     "text": [
      "Parsing http://www.7723.cn/download/3092.htm:  80%|██████████████████████▍     | 9418/11732 [11:52<02:30, 15.36it/s]"
     ]
    },
    {
     "name": "stdout",
     "output_type": "stream",
     "text": [
      "Failed to search for this game version screen resolution in description!\n",
      "-> http://www.7723.cn/download/3148.htm\n",
      "-> \n"
     ]
    },
    {
     "name": "stderr",
     "output_type": "stream",
     "text": [
      "Parsing http://www.7723.cn/download/2348.htm:  80%|██████████████████████▌     | 9442/11732 [11:53<02:38, 14.41it/s]"
     ]
    },
    {
     "name": "stdout",
     "output_type": "stream",
     "text": [
      "Failed to search for this game version screen resolution in description!\n",
      "-> http://www.7723.cn/download/2385.htm\n",
      "-> \n",
      "Failed to search for this game version screen resolution in description!\n",
      "-> http://www.7723.cn/download/2381.htm\n",
      "-> \n"
     ]
    },
    {
     "name": "stderr",
     "output_type": "stream",
     "text": [
      "Parsing http://www.7723.cn/download/1085.htm:  81%|██████████████████████▋     | 9508/11732 [11:58<02:29, 14.85it/s]"
     ]
    },
    {
     "name": "stdout",
     "output_type": "stream",
     "text": [
      "Failed to search for this game version screen resolution in description!\n",
      "-> http://www.7723.cn/download/1128.htm\n",
      "-> \n"
     ]
    },
    {
     "name": "stderr",
     "output_type": "stream",
     "text": [
      "Parsing http://www.7723.cn/download/456.htm:  81%|███████████████████████▌     | 9546/11732 [12:00<02:17, 15.88it/s]"
     ]
    },
    {
     "name": "stdout",
     "output_type": "stream",
     "text": [
      "Failed to search for this game version screen resolution in description!\n",
      "-> http://www.7723.cn/download/517.htm\n",
      "-> \n"
     ]
    },
    {
     "name": "stderr",
     "output_type": "stream",
     "text": [
      "Parsing http://www.7723.cn/download/234.htm:  81%|███████████████████████▋     | 9560/11732 [12:01<02:30, 14.46it/s]"
     ]
    },
    {
     "name": "stdout",
     "output_type": "stream",
     "text": [
      "Failed to search for this game version screen resolution in description!\n",
      "-> http://www.7723.cn/download/284.htm\n",
      "-> \n"
     ]
    },
    {
     "name": "stderr",
     "output_type": "stream",
     "text": [
      "Parsing http://www.7723.cn/download/10.htm:  82%|████████████████████████▍     | 9578/11732 [12:03<02:21, 15.17it/s]"
     ]
    },
    {
     "name": "stdout",
     "output_type": "stream",
     "text": [
      "Failed to search for this game version screen resolution in description!\n",
      "-> http://www.7723.cn/download/21.htm\n",
      "-> \n"
     ]
    },
    {
     "name": "stderr",
     "output_type": "stream",
     "text": [
      "Parsing http://www.7723.cn/download/11362.htm:  82%|██████████████████████▏    | 9620/11732 [12:06<03:44,  9.41it/s]"
     ]
    },
    {
     "name": "stdout",
     "output_type": "stream",
     "text": [
      "Failed to search for this game version screen resolution in description!\n",
      "-> http://www.7723.cn/download/6139.htm\n",
      "-> \n"
     ]
    },
    {
     "name": "stderr",
     "output_type": "stream",
     "text": [
      "Parsing http://www.7723.cn/download/6779.htm:  84%|███████████████████████▍    | 9798/11732 [12:20<02:50, 11.36it/s]"
     ]
    },
    {
     "name": "stdout",
     "output_type": "stream",
     "text": [
      "Failed to search for this game version screen resolution in description!\n",
      "-> http://www.7723.cn/download/6828.htm\n",
      "-> \n"
     ]
    },
    {
     "name": "stderr",
     "output_type": "stream",
     "text": [
      "Parsing http://www.7723.cn/download/6603.htm:  84%|███████████████████████▍    | 9804/11732 [12:21<02:18, 13.90it/s]"
     ]
    },
    {
     "name": "stdout",
     "output_type": "stream",
     "text": [
      "Failed to search for this game version screen resolution in description!\n",
      "-> http://www.7723.cn/download/6639.htm\n",
      "-> \n"
     ]
    },
    {
     "name": "stderr",
     "output_type": "stream",
     "text": [
      "Parsing http://www.7723.cn/download/6546.htm:  84%|███████████████████████▍    | 9806/11732 [12:21<02:19, 13.81it/s]"
     ]
    },
    {
     "name": "stdout",
     "output_type": "stream",
     "text": [
      "Failed to search for this game version screen resolution in description!\n",
      "-> http://www.7723.cn/download/6567.htm\n",
      "-> \n",
      "Failed to search for this game version screen resolution in description!\n",
      "-> http://www.7723.cn/download/6556.htm\n",
      "-> \n"
     ]
    },
    {
     "name": "stderr",
     "output_type": "stream",
     "text": [
      "Parsing http://www.7723.cn/download/6452.htm:  84%|███████████████████████▍    | 9810/11732 [12:21<02:18, 13.91it/s]"
     ]
    },
    {
     "name": "stdout",
     "output_type": "stream",
     "text": [
      "Failed to search for this game version screen resolution in description!\n",
      "-> http://www.7723.cn/download/6504.htm\n",
      "-> \n",
      "Failed to search for this game version screen resolution in description!\n",
      "-> http://www.7723.cn/download/6456.htm\n",
      "-> \n",
      "Failed to search for this game version screen resolution in description!\n",
      "-> http://www.7723.cn/download/6455.htm\n",
      "-> \n"
     ]
    },
    {
     "name": "stderr",
     "output_type": "stream",
     "text": [
      "Parsing http://www.7723.cn/download/6433.htm:  84%|███████████████████████▍    | 9814/11732 [12:22<02:15, 14.10it/s]"
     ]
    },
    {
     "name": "stdout",
     "output_type": "stream",
     "text": [
      "Failed to search for this game version screen resolution in description!\n",
      "-> http://www.7723.cn/download/6452.htm\n",
      "-> \n",
      "Failed to search for this game version screen resolution in description!\n",
      "-> http://www.7723.cn/download/6441.htm\n",
      "-> \n",
      "Failed to search for this game version screen resolution in description!\n",
      "-> http://www.7723.cn/download/6435.htm\n",
      "-> \n"
     ]
    },
    {
     "name": "stderr",
     "output_type": "stream",
     "text": [
      "Parsing http://www.7723.cn/download/6403.htm:  84%|███████████████████████▍    | 9818/11732 [12:22<02:45, 11.53it/s]"
     ]
    },
    {
     "name": "stdout",
     "output_type": "stream",
     "text": [
      "Failed to search for this game version screen resolution in description!\n",
      "-> http://www.7723.cn/download/6423.htm\n",
      "-> \n",
      "Failed to search for this game version screen resolution in description!\n",
      "-> http://www.7723.cn/download/6405.htm\n",
      "-> \n"
     ]
    },
    {
     "name": "stderr",
     "output_type": "stream",
     "text": [
      "Parsing http://www.7723.cn/download/6148.htm:  84%|███████████████████████▍    | 9828/11732 [12:23<02:20, 13.52it/s]"
     ]
    },
    {
     "name": "stdout",
     "output_type": "stream",
     "text": [
      "Failed to search for this game version screen resolution in description!\n",
      "-> http://www.7723.cn/download/6203.htm\n",
      "-> \n",
      "Failed to search for this game version screen resolution in description!\n",
      "-> http://www.7723.cn/download/6197.htm\n",
      "-> \n"
     ]
    },
    {
     "name": "stderr",
     "output_type": "stream",
     "text": [
      "Parsing http://www.7723.cn/download/6019.htm:  84%|███████████████████████▍    | 9832/11732 [12:23<02:17, 13.80it/s]"
     ]
    },
    {
     "name": "stdout",
     "output_type": "stream",
     "text": [
      "Failed to search for this game version screen resolution in description!\n",
      "-> http://www.7723.cn/download/6148.htm\n",
      "-> \n"
     ]
    },
    {
     "name": "stderr",
     "output_type": "stream",
     "text": [
      "Parsing http://www.7723.cn/download/5944.htm:  84%|███████████████████████▍    | 9836/11732 [12:23<02:19, 13.55it/s]"
     ]
    },
    {
     "name": "stdout",
     "output_type": "stream",
     "text": [
      "Failed to search for this game version screen resolution in description!\n",
      "-> http://www.7723.cn/download/5979.htm\n",
      "-> \n",
      "Failed to search for this game version screen resolution in description!\n",
      "-> http://www.7723.cn/download/5979.htm\n",
      "-> \n"
     ]
    },
    {
     "name": "stderr",
     "output_type": "stream",
     "text": [
      "Parsing http://www.7723.cn/download/5787.htm:  84%|███████████████████████▍    | 9842/11732 [12:24<02:16, 13.86it/s]"
     ]
    },
    {
     "name": "stdout",
     "output_type": "stream",
     "text": [
      "Failed to search for this game version screen resolution in description!\n",
      "-> http://www.7723.cn/download/5788.htm\n",
      "-> \n"
     ]
    },
    {
     "name": "stderr",
     "output_type": "stream",
     "text": [
      "Parsing http://www.7723.cn/download/5711.htm:  84%|███████████████████████▍    | 9844/11732 [12:24<03:03, 10.31it/s]"
     ]
    },
    {
     "name": "stdout",
     "output_type": "stream",
     "text": [
      "Failed to search for this game version screen resolution in description!\n",
      "-> http://www.7723.cn/download/5787.htm\n",
      "-> \n",
      "Failed to search for this game version screen resolution in description!\n",
      "-> http://www.7723.cn/download/5735.htm\n",
      "-> \n",
      "Failed to search for this game version screen resolution in description!\n",
      "-> http://www.7723.cn/download/5717.htm\n",
      "-> \n"
     ]
    },
    {
     "name": "stderr",
     "output_type": "stream",
     "text": [
      "Parsing http://www.7723.cn/download/5658.htm:  84%|███████████████████████▌    | 9848/11732 [12:24<02:41, 11.68it/s]"
     ]
    },
    {
     "name": "stdout",
     "output_type": "stream",
     "text": [
      "Failed to search for this game version screen resolution in description!\n",
      "-> http://www.7723.cn/download/5711.htm\n",
      "-> \n",
      "Failed to search for this game version screen resolution in description!\n",
      "-> http://www.7723.cn/download/5682.htm\n",
      "-> \n",
      "Failed to search for this game version screen resolution in description!\n",
      "-> http://www.7723.cn/download/5681.htm\n",
      "-> \n"
     ]
    },
    {
     "name": "stderr",
     "output_type": "stream",
     "text": [
      "Parsing http://www.7723.cn/download/5585.htm:  84%|███████████████████████▌    | 9852/11732 [12:25<02:26, 12.88it/s]"
     ]
    },
    {
     "name": "stdout",
     "output_type": "stream",
     "text": [
      "Failed to search for this game version screen resolution in description!\n",
      "-> http://www.7723.cn/download/5646.htm\n",
      "-> \n",
      "Failed to search for this game version screen resolution in description!\n",
      "-> http://www.7723.cn/download/5626.htm\n",
      "-> \n"
     ]
    },
    {
     "name": "stderr",
     "output_type": "stream",
     "text": [
      "Parsing http://www.7723.cn/download/5462.htm:  84%|███████████████████████▌    | 9854/11732 [12:25<02:22, 13.19it/s]"
     ]
    },
    {
     "name": "stdout",
     "output_type": "stream",
     "text": [
      "Failed to search for this game version screen resolution in description!\n",
      "-> http://www.7723.cn/download/5585.htm\n",
      "-> \n",
      "Failed to search for this game version screen resolution in description!\n",
      "-> http://www.7723.cn/download/5521.htm\n",
      "-> \n"
     ]
    },
    {
     "name": "stderr",
     "output_type": "stream",
     "text": [
      "Parsing http://www.7723.cn/download/5245.htm:  84%|███████████████████████▌    | 9860/11732 [12:25<02:33, 12.18it/s]"
     ]
    },
    {
     "name": "stdout",
     "output_type": "stream",
     "text": [
      "Failed to search for this game version screen resolution in description!\n",
      "-> http://www.7723.cn/download/5408.htm\n",
      "-> \n"
     ]
    },
    {
     "name": "stderr",
     "output_type": "stream",
     "text": [
      "Parsing http://www.7723.cn/download/5190.htm:  84%|███████████████████████▌    | 9864/11732 [12:26<02:23, 13.03it/s]"
     ]
    },
    {
     "name": "stdout",
     "output_type": "stream",
     "text": [
      "Failed to search for this game version screen resolution in description!\n",
      "-> http://www.7723.cn/download/5199.htm\n",
      "-> \n"
     ]
    },
    {
     "name": "stderr",
     "output_type": "stream",
     "text": [
      "Parsing http://www.7723.cn/download/5107.htm:  84%|███████████████████████▌    | 9870/11732 [12:26<02:17, 13.59it/s]"
     ]
    },
    {
     "name": "stdout",
     "output_type": "stream",
     "text": [
      "Failed to search for this game version screen resolution in description!\n",
      "-> http://www.7723.cn/download/5169.htm\n",
      "-> \n",
      "Failed to search for this game version screen resolution in description!"
     ]
    },
    {
     "name": "stderr",
     "output_type": "stream",
     "text": [
      "Parsing http://www.7723.cn/download/5029.htm:  84%|███████████████████████▌    | 9874/11732 [12:26<02:15, 13.75it/s]"
     ]
    },
    {
     "name": "stdout",
     "output_type": "stream",
     "text": [
      "\n",
      "-> http://www.7723.cn/download/5107.htm\n",
      "-> \n",
      "Failed to search for this game version screen resolution in description!\n",
      "-> http://www.7723.cn/download/5079.htm\n",
      "-> \n"
     ]
    },
    {
     "name": "stderr",
     "output_type": "stream",
     "text": [
      "Parsing http://www.7723.cn/download/4768.htm:  84%|███████████████████████▌    | 9882/11732 [12:27<02:11, 14.02it/s]"
     ]
    },
    {
     "name": "stdout",
     "output_type": "stream",
     "text": [
      "Failed to search for this game version screen resolution in description!\n",
      "-> http://www.7723.cn/download/4821.htm\n",
      "-> \n",
      "Failed to search for this game version screen resolution in description!\n",
      "-> http://www.7723.cn/download/4800.htm\n",
      "-> \n",
      "Failed to search for this game version screen resolution in description!\n",
      "-> http://www.7723.cn/download/4800.htm\n",
      "-> \n",
      "Failed to search for this game version screen resolution in description!\n",
      "-> http://www.7723.cn/download/4800.htm\n",
      "-> \n",
      "Failed to search for this game version screen resolution in description!\n",
      "-> http://www.7723.cn/download/4800.htm\n",
      "-> \n",
      "Failed to search for this game version screen resolution in description!\n",
      "-> http://www.7723.cn/download/4800.htm\n",
      "-> \n",
      "Failed to search for this game version screen resolution in description!\n",
      "-> http://www.7723.cn/download/4800.htm\n",
      "-> \n",
      "Failed to search for this game version screen resolution in description!\n",
      "-> http://www.7723.cn/download/4800.htm\n",
      "-> \n",
      "Failed to search for this game version screen resolution in description!\n",
      "-> http://www.7723.cn/download/4800.htm\n",
      "-> \n",
      "Failed to search for this game version screen resolution in description!\n",
      "-> http://www.7723.cn/download/4800.htm\n",
      "-> \n",
      "Failed to search for this game version screen resolution in description!\n",
      "-> http://www.7723.cn/download/4800.htm\n",
      "-> \n",
      "Failed to search for this game version screen resolution in description!\n",
      "-> http://www.7723.cn/download/4800.htm\n",
      "-> \n",
      "Failed to search for this game version screen resolution in description!\n",
      "-> http://www.7723.cn/download/4800.htm\n",
      "-> \n"
     ]
    },
    {
     "name": "stderr",
     "output_type": "stream",
     "text": [
      "Parsing http://www.7723.cn/download/4642.htm:  84%|███████████████████████▌    | 9886/11732 [12:27<02:13, 13.87it/s]"
     ]
    },
    {
     "name": "stdout",
     "output_type": "stream",
     "text": [
      "Failed to search for this game version screen resolution in description!\n",
      "-> http://www.7723.cn/download/4765.htm\n",
      "-> \n",
      "Failed to search for this game version screen resolution in description!\n",
      "-> http://www.7723.cn/download/4765.htm\n",
      "-> \n"
     ]
    },
    {
     "name": "stderr",
     "output_type": "stream",
     "text": [
      "Parsing http://www.7723.cn/download/4550.htm:  84%|███████████████████████▌    | 9890/11732 [12:27<02:08, 14.33it/s]"
     ]
    },
    {
     "name": "stdout",
     "output_type": "stream",
     "text": [
      "Failed to search for this game version screen resolution in description!\n",
      "-> http://www.7723.cn/download/4587.htm\n",
      "-> I-mate i9150系列5150 6150 7150 8150 9150\n"
     ]
    },
    {
     "name": "stderr",
     "output_type": "stream",
     "text": [
      "Parsing http://www.7723.cn/download/4353.htm:  84%|███████████████████████▌    | 9896/11732 [12:28<02:13, 13.80it/s]"
     ]
    },
    {
     "name": "stdout",
     "output_type": "stream",
     "text": [
      "Failed to search for this game version screen resolution in description!\n",
      "-> http://www.7723.cn/download/4432.htm\n",
      "-> \n"
     ]
    },
    {
     "name": "stderr",
     "output_type": "stream",
     "text": [
      "Parsing http://www.7723.cn/download/3792.htm:  85%|███████████████████████▋    | 9926/11732 [12:30<02:06, 14.23it/s]"
     ]
    },
    {
     "name": "stdout",
     "output_type": "stream",
     "text": [
      "Failed to search for this game version screen resolution in description!\n",
      "-> http://www.7723.cn/download/3878.htm\n",
      "-> \n"
     ]
    },
    {
     "name": "stderr",
     "output_type": "stream",
     "text": [
      "Parsing http://www.7723.cn/download/3738.htm:  85%|███████████████████████▋    | 9932/11732 [12:30<02:02, 14.66it/s]"
     ]
    },
    {
     "name": "stdout",
     "output_type": "stream",
     "text": [
      "Failed to search for this game version screen resolution in description!\n",
      "-> http://www.7723.cn/download/3750.htm\n",
      "-> \n",
      "Failed to search for this game version screen resolution in description!\n",
      "-> http://www.7723.cn/download/3750.htm\n",
      "-> \n"
     ]
    },
    {
     "name": "stderr",
     "output_type": "stream",
     "text": [
      "Parsing http://www.7723.cn/download/3546.htm:  85%|███████████████████████▊    | 9952/11732 [12:32<01:55, 15.41it/s]"
     ]
    },
    {
     "name": "stdout",
     "output_type": "stream",
     "text": [
      "Failed to search for this game version screen resolution in description!\n",
      "-> http://www.7723.cn/download/3552.htm\n",
      "-> \n",
      "Failed to search for this game version screen resolution in description!\n",
      "-> http://www.7723.cn/download/3552.htm\n",
      "-> \n",
      "Failed to search for this game version screen resolution in description!\n",
      "-> http://www.7723.cn/download/3548.htm\n",
      "-> \n",
      "Failed to search for this game version screen resolution in description!\n",
      "-> http://www.7723.cn/download/3548.htm\n",
      "-> \n",
      "Failed to search for this game version screen resolution in description!\n",
      "-> http://www.7723.cn/download/3546.htm\n",
      "-> \n",
      "Failed to search for this game version screen resolution in description!\n",
      "-> http://www.7723.cn/download/3546.htm\n",
      "-> \n"
     ]
    },
    {
     "name": "stderr",
     "output_type": "stream",
     "text": [
      "Parsing http://www.7723.cn/download/3427.htm:  85%|███████████████████████▊    | 9956/11732 [12:32<01:53, 15.71it/s]"
     ]
    },
    {
     "name": "stdout",
     "output_type": "stream",
     "text": [
      "Failed to search for this game version screen resolution in description!\n",
      "-> http://www.7723.cn/download/3543.htm\n",
      "-> \n",
      "Failed to search for this game version screen resolution in description!\n",
      "-> http://www.7723.cn/download/3543.htm\n",
      "-> \n"
     ]
    },
    {
     "name": "stderr",
     "output_type": "stream",
     "text": [
      "Parsing http://www.7723.cn/download/3165.htm:  85%|███████████████████████▊    | 9974/11732 [12:33<01:57, 14.95it/s]"
     ]
    },
    {
     "name": "stdout",
     "output_type": "stream",
     "text": [
      "Failed to search for this game version screen resolution in description!\n",
      "-> http://www.7723.cn/download/3243.htm\n",
      "-> \n"
     ]
    },
    {
     "name": "stderr",
     "output_type": "stream",
     "text": [
      "Parsing http://www.7723.cn/download/3097.htm:  85%|███████████████████████▊    | 9980/11732 [12:34<01:56, 15.08it/s]"
     ]
    },
    {
     "name": "stdout",
     "output_type": "stream",
     "text": [
      "Failed to search for this game version screen resolution in description!\n",
      "-> http://www.7723.cn/download/3140.htm\n",
      "-> \n",
      "Failed to search for this game version screen resolution in description!\n",
      "-> http://www.7723.cn/download/3137.htm\n",
      "-> \n",
      "Failed to search for this game version screen resolution in description!\n",
      "-> http://www.7723.cn/download/3126.htm\n",
      "-> \n"
     ]
    },
    {
     "name": "stderr",
     "output_type": "stream",
     "text": [
      "Parsing http://www.7723.cn/download/2897.htm:  85%|███████████████████████▊    | 9994/11732 [12:34<01:56, 14.86it/s]"
     ]
    },
    {
     "name": "stdout",
     "output_type": "stream",
     "text": [
      "Failed to search for this game version screen resolution in description!\n",
      "-> http://www.7723.cn/download/2951.htm\n",
      "-> \n"
     ]
    },
    {
     "name": "stderr",
     "output_type": "stream",
     "text": [
      "Parsing http://www.7723.cn/download/2830.htm:  85%|███████████████████████    | 10002/11732 [12:35<01:52, 15.34it/s]"
     ]
    },
    {
     "name": "stdout",
     "output_type": "stream",
     "text": [
      "Failed to search for this game version screen resolution in description!\n",
      "-> http://www.7723.cn/download/2870.htm\n",
      "-> \n",
      "Failed to search for this game version screen resolution in description!\n",
      "-> http://www.7723.cn/download/2839.htm\n",
      "-> \n",
      "Failed to search for this game version screen resolution in description!\n",
      "-> http://www.7723.cn/download/2839.htm\n",
      "-> \n",
      "Failed to search for this game version screen resolution in description!"
     ]
    },
    {
     "name": "stderr",
     "output_type": "stream",
     "text": [
      "Parsing http://www.7723.cn/download/2812.htm:  85%|███████████████████████    | 10006/11732 [12:35<01:50, 15.66it/s]"
     ]
    },
    {
     "name": "stdout",
     "output_type": "stream",
     "text": [
      "\n",
      "-> http://www.7723.cn/download/2830.htm\n",
      "-> \n",
      "Failed to search for this game version screen resolution in description!\n",
      "-> http://www.7723.cn/download/2830.htm\n",
      "-> \n",
      "Failed to search for this game version screen resolution in description!\n",
      "-> http://www.7723.cn/download/2820.htm\n",
      "-> \n"
     ]
    },
    {
     "name": "stderr",
     "output_type": "stream",
     "text": [
      "Parsing http://www.7723.cn/download/2689.htm:  85%|███████████████████████    | 10016/11732 [12:36<02:24, 11.91it/s]"
     ]
    },
    {
     "name": "stdout",
     "output_type": "stream",
     "text": [
      "Failed to search for this game version screen resolution in description!\n",
      "-> http://www.7723.cn/download/2728.htm\n",
      "-> \n"
     ]
    },
    {
     "name": "stderr",
     "output_type": "stream",
     "text": [
      "Parsing http://www.7723.cn/download/2119.htm:  86%|███████████████████████    | 10042/11732 [12:38<01:51, 15.17it/s]"
     ]
    },
    {
     "name": "stdout",
     "output_type": "stream",
     "text": [
      "Failed to search for this game version screen resolution in description!\n",
      "-> http://www.7723.cn/download/2166.htm\n",
      "-> \n"
     ]
    },
    {
     "name": "stderr",
     "output_type": "stream",
     "text": [
      "Parsing http://www.7723.cn/download/1922.htm:  86%|███████████████████████▏   | 10054/11732 [12:39<01:53, 14.73it/s]"
     ]
    },
    {
     "name": "stdout",
     "output_type": "stream",
     "text": [
      "Failed to search for this game version screen resolution in description!\n",
      "-> http://www.7723.cn/download/1975.htm\n",
      "-> \n"
     ]
    },
    {
     "name": "stderr",
     "output_type": "stream",
     "text": [
      "Parsing http://www.7723.cn/download/1798.htm:  86%|███████████████████████▏   | 10058/11732 [12:39<01:50, 15.14it/s]"
     ]
    },
    {
     "name": "stdout",
     "output_type": "stream",
     "text": [
      "Failed to search for this game version screen resolution in description!\n",
      "-> http://www.7723.cn/download/1922.htm\n",
      "-> \n"
     ]
    },
    {
     "name": "stderr",
     "output_type": "stream",
     "text": [
      "Parsing http://www.7723.cn/download/1602.htm:  86%|███████████████████████▏   | 10074/11732 [12:40<02:42, 10.19it/s]"
     ]
    },
    {
     "name": "stdout",
     "output_type": "stream",
     "text": [
      "Failed to search for this game version screen resolution in description!\n",
      "-> http://www.7723.cn/download/1636.htm\n",
      "-> \n",
      "Failed to search for this game version screen resolution in description!\n",
      "-> http://www.7723.cn/download/1629.htm\n",
      "-> \n",
      "Failed to search for this game version screen resolution in description!\n",
      "-> http://www.7723.cn/download/1629.htm\n",
      "-> I-mate i9150系列5150 6150 7150 8150 9150\n"
     ]
    },
    {
     "name": "stderr",
     "output_type": "stream",
     "text": [
      "Parsing http://www.7723.cn/download/1592.htm:  86%|███████████████████████▏   | 10076/11732 [12:41<03:17,  8.37it/s]"
     ]
    },
    {
     "name": "stdout",
     "output_type": "stream",
     "text": [
      "Failed to search for this game version screen resolution in description!\n",
      "-> http://www.7723.cn/download/1602.htm\n",
      "-> \n"
     ]
    },
    {
     "name": "stderr",
     "output_type": "stream",
     "text": [
      "Parsing http://www.7723.cn/download/1455.htm:  86%|███████████████████████▏   | 10090/11732 [12:42<02:20, 11.72it/s]"
     ]
    },
    {
     "name": "stdout",
     "output_type": "stream",
     "text": [
      "Failed to search for this game version screen resolution in description!\n",
      "-> http://www.7723.cn/download/1466.htm\n",
      "-> \n"
     ]
    },
    {
     "name": "stderr",
     "output_type": "stream",
     "text": [
      "Parsing http://www.7723.cn/download/1358.htm:  86%|███████████████████████▏   | 10094/11732 [12:42<02:06, 12.95it/s]"
     ]
    },
    {
     "name": "stdout",
     "output_type": "stream",
     "text": [
      "Failed to search for this game version screen resolution in description!\n",
      "-> http://www.7723.cn/download/1406.htm\n",
      "-> \n"
     ]
    },
    {
     "name": "stderr",
     "output_type": "stream",
     "text": [
      "Parsing http://www.7723.cn/download/1074.htm:  86%|███████████████████████▎   | 10104/11732 [12:43<02:17, 11.80it/s]"
     ]
    },
    {
     "name": "stdout",
     "output_type": "stream",
     "text": [
      "Failed to search for this game version screen resolution in description!\n",
      "-> http://www.7723.cn/download/1076.htm\n",
      "-> \n"
     ]
    },
    {
     "name": "stderr",
     "output_type": "stream",
     "text": [
      "Parsing http://www.7723.cn/download/964.htm:  86%|████████████████████████▏   | 10110/11732 [12:44<03:23,  7.98it/s]"
     ]
    },
    {
     "name": "stdout",
     "output_type": "stream",
     "text": [
      "Failed to search for this game version screen resolution in description!\n",
      "-> http://www.7723.cn/download/1027.htm\n",
      "-> \n"
     ]
    },
    {
     "name": "stderr",
     "output_type": "stream",
     "text": [
      "Parsing http://www.7723.cn/download/920.htm:  86%|████████████████████████▏   | 10117/11732 [12:45<02:57,  9.12it/s]"
     ]
    },
    {
     "name": "stdout",
     "output_type": "stream",
     "text": [
      "Failed to search for this game version screen resolution in description!\n",
      "-> http://www.7723.cn/download/935.htm\n",
      "-> \n"
     ]
    },
    {
     "name": "stderr",
     "output_type": "stream",
     "text": [
      "Parsing http://www.7723.cn/download/649.htm:  86%|████████████████████████▏   | 10140/11732 [12:47<02:23, 11.12it/s]"
     ]
    },
    {
     "name": "stdout",
     "output_type": "stream",
     "text": [
      "Failed to search for this game version screen resolution in description!\n",
      "-> http://www.7723.cn/download/654.htm\n",
      "-> \n"
     ]
    },
    {
     "name": "stderr",
     "output_type": "stream",
     "text": [
      "Parsing http://www.7723.cn/download/11600.htm:  87%|██████████████████████▋   | 10235/11732 [13:01<02:55,  8.51it/s]"
     ]
    },
    {
     "name": "stdout",
     "output_type": "stream",
     "text": [
      "Failed to search for this game version screen resolution in description!\n",
      "-> http://www.7723.cn/download/11641.htm\n",
      "-> \n"
     ]
    },
    {
     "name": "stderr",
     "output_type": "stream",
     "text": [
      "Parsing http://www.7723.cn/download/6834.htm:  90%|████████████████████████▎  | 10586/11732 [13:34<01:29, 12.81it/s]"
     ]
    },
    {
     "name": "stdout",
     "output_type": "stream",
     "text": [
      "Failed to search for this game version screen resolution in description!\n",
      "-> http://www.7723.cn/download/6844.htm\n",
      "-> \n",
      "Failed to search for this game version screen resolution in description!\n",
      "-> http://www.7723.cn/download/6841.htm\n",
      "-> \n"
     ]
    },
    {
     "name": "stderr",
     "output_type": "stream",
     "text": [
      "Parsing http://www.7723.cn/download/6733.htm:  90%|████████████████████████▎  | 10590/11732 [13:35<01:46, 10.70it/s]"
     ]
    },
    {
     "name": "stdout",
     "output_type": "stream",
     "text": [
      "Failed to search for this game version screen resolution in description!\n",
      "-> http://www.7723.cn/download/6808.htm\n",
      "-> \n",
      "Failed to search for this game version screen resolution in description!\n",
      "-> http://www.7723.cn/download/6753.htm\n",
      "-> \n"
     ]
    },
    {
     "name": "stderr",
     "output_type": "stream",
     "text": [
      "Parsing http://www.7723.cn/download/6655.htm:  90%|████████████████████████▍  | 10594/11732 [13:35<01:39, 11.49it/s]"
     ]
    },
    {
     "name": "stdout",
     "output_type": "stream",
     "text": [
      "Failed to search for this game version screen resolution in description!\n",
      "-> http://www.7723.cn/download/6733.htm\n",
      "-> \n",
      "Failed to search for this game version screen resolution in description!\n",
      "-> http://www.7723.cn/download/6685.htm\n",
      "-> \n"
     ]
    },
    {
     "name": "stderr",
     "output_type": "stream",
     "text": [
      "Parsing http://www.7723.cn/download/6613.htm:  90%|████████████████████████▍  | 10600/11732 [13:35<01:30, 12.47it/s]"
     ]
    },
    {
     "name": "stdout",
     "output_type": "stream",
     "text": [
      "Failed to search for this game version screen resolution in description!\n",
      "-> http://www.7723.cn/download/6636.htm\n",
      "-> \n"
     ]
    },
    {
     "name": "stderr",
     "output_type": "stream",
     "text": [
      "Parsing http://www.7723.cn/download/6568.htm:  90%|████████████████████████▍  | 10602/11732 [13:36<01:31, 12.38it/s]"
     ]
    },
    {
     "name": "stdout",
     "output_type": "stream",
     "text": [
      "Failed to search for this game version screen resolution in description!\n",
      "-> http://www.7723.cn/download/6595.htm\n",
      "-> \n",
      "Failed to search for this game version screen resolution in description!\n",
      "-> http://www.7723.cn/download/6569.htm\n",
      "-> \n",
      "Failed to search for this game version screen resolution in description!"
     ]
    },
    {
     "name": "stderr",
     "output_type": "stream",
     "text": [
      "Parsing http://www.7723.cn/download/6459.htm:  90%|████████████████████████▍  | 10606/11732 [13:36<01:34, 11.89it/s]"
     ]
    },
    {
     "name": "stdout",
     "output_type": "stream",
     "text": [
      "\n",
      "-> http://www.7723.cn/download/6568.htm\n",
      "-> \n",
      "Failed to search for this game version screen resolution in description!\n",
      "-> http://www.7723.cn/download/6460.htm\n",
      "-> \n"
     ]
    },
    {
     "name": "stderr",
     "output_type": "stream",
     "text": [
      "Parsing http://www.7723.cn/download/6210.htm:  90%|████████████████████████▍  | 10616/11732 [13:37<01:28, 12.55it/s]"
     ]
    },
    {
     "name": "stdout",
     "output_type": "stream",
     "text": [
      "Failed to search for this game version screen resolution in description!\n",
      "-> http://www.7723.cn/download/6253.htm\n",
      "-> \n",
      "Failed to search for this game version screen resolution in description!\n",
      "-> http://www.7723.cn/download/6244.htm\n",
      "-> \n",
      "Failed to search for this game version screen resolution in description!\n",
      "-> http://www.7723.cn/download/6243.htm\n",
      "-> \n"
     ]
    },
    {
     "name": "stderr",
     "output_type": "stream",
     "text": [
      "Parsing http://www.7723.cn/download/6038.htm:  91%|████████████████████████▍  | 10624/11732 [13:37<01:24, 13.15it/s]"
     ]
    },
    {
     "name": "stdout",
     "output_type": "stream",
     "text": [
      "Failed to search for this game version screen resolution in description!\n",
      "-> http://www.7723.cn/download/6099.htm\n",
      "-> \n",
      "Failed to search for this game version screen resolution in description!\n",
      "-> http://www.7723.cn/download/6092.htm\n",
      "-> \n"
     ]
    },
    {
     "name": "stderr",
     "output_type": "stream",
     "text": [
      "Parsing http://www.7723.cn/download/5740.htm:  91%|████████████████████████▍  | 10632/11732 [13:38<01:19, 13.77it/s]"
     ]
    },
    {
     "name": "stdout",
     "output_type": "stream",
     "text": [
      "Failed to search for this game version screen resolution in description!\n",
      "-> http://www.7723.cn/download/5889.htm\n",
      "-> \n",
      "Failed to search for this game version screen resolution in description!\n",
      "-> http://www.7723.cn/download/5766.htm\n",
      "-> \n",
      "Failed to search for this game version screen resolution in description!\n",
      "-> http://www.7723.cn/download/5757.htm\n",
      "-> \n"
     ]
    },
    {
     "name": "stderr",
     "output_type": "stream",
     "text": [
      "Parsing http://www.7723.cn/download/5713.htm:  91%|████████████████████████▍  | 10634/11732 [13:38<01:23, 13.20it/s]"
     ]
    },
    {
     "name": "stdout",
     "output_type": "stream",
     "text": [
      "Failed to search for this game version screen resolution in description!\n",
      "-> http://www.7723.cn/download/5740.htm\n",
      "-> \n",
      "Failed to search for this game version screen resolution in description!\n",
      "-> http://www.7723.cn/download/5722.htm\n",
      "-> \n"
     ]
    },
    {
     "name": "stderr",
     "output_type": "stream",
     "text": [
      "Parsing http://www.7723.cn/download/5602.htm:  91%|████████████████████████▍  | 10640/11732 [13:39<01:24, 13.00it/s]"
     ]
    },
    {
     "name": "stdout",
     "output_type": "stream",
     "text": [
      "Failed to search for this game version screen resolution in description!\n",
      "-> http://www.7723.cn/download/5679.htm\n",
      "-> \n",
      "Failed to search for this game version screen resolution in description!\n",
      "-> http://www.7723.cn/download/5634.htm\n",
      "-> \n"
     ]
    },
    {
     "name": "stderr",
     "output_type": "stream",
     "text": [
      "Parsing http://www.7723.cn/download/5584.htm:  91%|████████████████████████▍  | 10644/11732 [13:39<01:25, 12.79it/s]"
     ]
    },
    {
     "name": "stdout",
     "output_type": "stream",
     "text": [
      "Failed to search for this game version screen resolution in description!\n",
      "-> http://www.7723.cn/download/5602.htm\n",
      "-> \n",
      "Failed to search for this game version screen resolution in description!\n",
      "-> http://www.7723.cn/download/5600.htm\n",
      "-> \n"
     ]
    },
    {
     "name": "stderr",
     "output_type": "stream",
     "text": [
      "Parsing http://www.7723.cn/download/5531.htm:  91%|████████████████████████▌  | 10646/11732 [13:39<01:22, 13.10it/s]"
     ]
    },
    {
     "name": "stdout",
     "output_type": "stream",
     "text": [
      "Failed to search for this game version screen resolution in description!\n",
      "-> http://www.7723.cn/download/5584.htm\n",
      "-> \n",
      "Failed to search for this game version screen resolution in description!\n",
      "-> http://www.7723.cn/download/5545.htm\n",
      "-> \n"
     ]
    },
    {
     "name": "stderr",
     "output_type": "stream",
     "text": [
      "Parsing http://www.7723.cn/download/5516.htm:  91%|████████████████████████▌  | 10650/11732 [13:39<01:25, 12.67it/s]"
     ]
    },
    {
     "name": "stdout",
     "output_type": "stream",
     "text": [
      "Failed to search for this game version screen resolution in description!\n",
      "-> http://www.7723.cn/download/5531.htm\n",
      "-> \n",
      "Failed to search for this game version screen resolution in description!\n",
      "-> http://www.7723.cn/download/5525.htm\n",
      "-> \n",
      "Failed to search for this game version screen resolution in description!\n",
      "-> http://www.7723.cn/download/5524.htm\n",
      "-> \n"
     ]
    },
    {
     "name": "stderr",
     "output_type": "stream",
     "text": [
      "Parsing http://www.7723.cn/download/5500.htm:  91%|████████████████████████▌  | 10652/11732 [13:39<01:22, 13.10it/s]"
     ]
    },
    {
     "name": "stdout",
     "output_type": "stream",
     "text": [
      "Failed to search for this game version screen resolution in description!\n",
      "-> http://www.7723.cn/download/5516.htm\n",
      "-> \n"
     ]
    },
    {
     "name": "stderr",
     "output_type": "stream",
     "text": [
      "Parsing http://www.7723.cn/download/5429.htm:  91%|████████████████████████▌  | 10656/11732 [13:40<01:19, 13.47it/s]"
     ]
    },
    {
     "name": "stdout",
     "output_type": "stream",
     "text": [
      "Failed to search for this game version screen resolution in description!\n",
      "-> http://www.7723.cn/download/5495.htm\n",
      "-> \n"
     ]
    },
    {
     "name": "stderr",
     "output_type": "stream",
     "text": [
      "Parsing http://www.7723.cn/download/5388.htm:  91%|████████████████████████▌  | 10660/11732 [13:40<01:20, 13.27it/s]"
     ]
    },
    {
     "name": "stdout",
     "output_type": "stream",
     "text": [
      "Failed to search for this game version screen resolution in description!\n",
      "-> http://www.7723.cn/download/5419.htm\n",
      "-> \n"
     ]
    },
    {
     "name": "stderr",
     "output_type": "stream",
     "text": [
      "Parsing http://www.7723.cn/download/5333.htm:  91%|████████████████████████▌  | 10666/11732 [13:40<01:17, 13.79it/s]"
     ]
    },
    {
     "name": "stdout",
     "output_type": "stream",
     "text": [
      "Failed to search for this game version screen resolution in description!\n",
      "-> http://www.7723.cn/download/5380.htm\n",
      "-> \n",
      "Failed to search for this game version screen resolution in description!\n",
      "-> http://www.7723.cn/download/5380.htm\n",
      "-> \n"
     ]
    },
    {
     "name": "stderr",
     "output_type": "stream",
     "text": [
      "Parsing http://www.7723.cn/download/5300.htm:  91%|████████████████████████▌  | 10670/11732 [13:41<01:39, 10.64it/s]"
     ]
    },
    {
     "name": "stdout",
     "output_type": "stream",
     "text": [
      "Failed to search for this game version screen resolution in description!\n",
      "-> http://www.7723.cn/download/5320.htm\n",
      "-> \n"
     ]
    },
    {
     "name": "stderr",
     "output_type": "stream",
     "text": [
      "Parsing http://www.7723.cn/download/5226.htm:  91%|████████████████████████▌  | 10672/11732 [13:41<01:49,  9.70it/s]"
     ]
    },
    {
     "name": "stdout",
     "output_type": "stream",
     "text": [
      "Failed to search for this game version screen resolution in description!\n",
      "-> http://www.7723.cn/download/5270.htm\n",
      "-> \n",
      "Failed to search for this game version screen resolution in description!\n",
      "-> http://www.7723.cn/download/5232.htm\n",
      "-> \n"
     ]
    },
    {
     "name": "stderr",
     "output_type": "stream",
     "text": [
      "Parsing http://www.7723.cn/download/5189.htm:  91%|████████████████████████▌  | 10676/11732 [13:41<01:36, 10.95it/s]"
     ]
    },
    {
     "name": "stdout",
     "output_type": "stream",
     "text": [
      "Failed to search for this game version screen resolution in description!\n",
      "-> http://www.7723.cn/download/5226.htm\n",
      "-> \n",
      "Failed to search for this game version screen resolution in description!\n",
      "-> http://www.7723.cn/download/5193.htm\n",
      "-> \n"
     ]
    },
    {
     "name": "stderr",
     "output_type": "stream",
     "text": [
      "Parsing http://www.7723.cn/download/5142.htm:  91%|████████████████████████▌  | 10680/11732 [13:42<01:27, 12.07it/s]"
     ]
    },
    {
     "name": "stdout",
     "output_type": "stream",
     "text": [
      "Failed to search for this game version screen resolution in description!\n",
      "-> http://www.7723.cn/download/5184.htm\n",
      "-> \n"
     ]
    },
    {
     "name": "stderr",
     "output_type": "stream",
     "text": [
      "Parsing http://www.7723.cn/download/5129.htm:  91%|████████████████████████▌  | 10682/11732 [13:42<01:25, 12.30it/s]"
     ]
    },
    {
     "name": "stdout",
     "output_type": "stream",
     "text": [
      "Failed to search for this game version screen resolution in description!\n",
      "-> http://www.7723.cn/download/5142.htm\n",
      "-> \n",
      "Failed to search for this game version screen resolution in description!\n",
      "-> http://www.7723.cn/download/5141.htm\n",
      "-> \n"
     ]
    },
    {
     "name": "stderr",
     "output_type": "stream",
     "text": [
      "Parsing http://www.7723.cn/download/5119.htm:  91%|████████████████████████▌  | 10686/11732 [13:42<01:23, 12.60it/s]"
     ]
    },
    {
     "name": "stdout",
     "output_type": "stream",
     "text": [
      "Failed to search for this game version screen resolution in description!\n",
      "-> http://www.7723.cn/download/5129.htm\n",
      "-> \n",
      "Failed to search for this game version screen resolution in description!\n",
      "-> http://www.7723.cn/download/5125.htm\n",
      "-> \n"
     ]
    },
    {
     "name": "stderr",
     "output_type": "stream",
     "text": [
      "Parsing http://www.7723.cn/download/5109.htm:  91%|████████████████████████▌  | 10688/11732 [13:42<01:24, 12.34it/s]"
     ]
    },
    {
     "name": "stdout",
     "output_type": "stream",
     "text": [
      "Failed to search for this game version screen resolution in description!\n",
      "-> http://www.7723.cn/download/5119.htm\n",
      "-> \n"
     ]
    },
    {
     "name": "stderr",
     "output_type": "stream",
     "text": [
      "Parsing http://www.7723.cn/download/5053.htm:  91%|████████████████████████▌  | 10694/11732 [13:43<01:19, 13.07it/s]"
     ]
    },
    {
     "name": "stdout",
     "output_type": "stream",
     "text": [
      "Failed to search for this game version screen resolution in description!\n",
      "-> http://www.7723.cn/download/5073.htm\n",
      "-> \n",
      "Failed to search for this game version screen resolution in description!\n",
      "-> http://www.7723.cn/download/5056.htm\n",
      "-> \n"
     ]
    },
    {
     "name": "stderr",
     "output_type": "stream",
     "text": [
      "Parsing http://www.7723.cn/download/4996.htm:  91%|████████████████████████▌  | 10698/11732 [13:43<01:19, 12.95it/s]"
     ]
    },
    {
     "name": "stdout",
     "output_type": "stream",
     "text": [
      "Failed to search for this game version screen resolution in description!\n",
      "-> http://www.7723.cn/download/5030.htm\n",
      "-> \n",
      "Failed to search for this game version screen resolution in description!\n",
      "-> http://www.7723.cn/download/5030.htm\n",
      "-> \n",
      "Failed to search for this game version screen resolution in description!\n",
      "-> http://www.7723.cn/download/5017.htm\n",
      "-> \n"
     ]
    },
    {
     "name": "stderr",
     "output_type": "stream",
     "text": [
      "Parsing http://www.7723.cn/download/4917.htm:  91%|████████████████████████▋  | 10704/11732 [13:44<01:14, 13.82it/s]"
     ]
    },
    {
     "name": "stdout",
     "output_type": "stream",
     "text": [
      "Failed to search for this game version screen resolution in description!\n",
      "-> http://www.7723.cn/download/4943.htm\n",
      "-> \n",
      "Failed to search for this game version screen resolution in description!\n",
      "-> http://www.7723.cn/download/4939.htm\n",
      "-> \n"
     ]
    },
    {
     "name": "stderr",
     "output_type": "stream",
     "text": [
      "Parsing http://www.7723.cn/download/4880.htm:  91%|████████████████████████▋  | 10710/11732 [13:44<01:15, 13.62it/s]"
     ]
    },
    {
     "name": "stdout",
     "output_type": "stream",
     "text": [
      "Failed to search for this game version screen resolution in description!\n",
      "-> http://www.7723.cn/download/4913.htm\n",
      "-> \n"
     ]
    },
    {
     "name": "stderr",
     "output_type": "stream",
     "text": [
      "Parsing http://www.7723.cn/download/4841.htm:  91%|████████████████████████▋  | 10714/11732 [13:44<01:16, 13.35it/s]"
     ]
    },
    {
     "name": "stdout",
     "output_type": "stream",
     "text": [
      "Failed to search for this game version screen resolution in description!\n",
      "-> http://www.7723.cn/download/4852.htm\n",
      "-> \n",
      "Failed to search for this game version screen resolution in description!\n",
      "-> http://www.7723.cn/download/4852.htm\n",
      "-> \n",
      "Failed to search for this game version screen resolution in description!\n",
      "-> http://www.7723.cn/download/4852.htm\n",
      "-> \n",
      "Failed to search for this game version screen resolution in description!\n",
      "-> http://www.7723.cn/download/4852.htm\n",
      "-> \n",
      "Failed to search for this game version screen resolution in description!\n",
      "-> http://www.7723.cn/download/4852.htm\n",
      "-> \n",
      "Failed to search for this game version screen resolution in description!\n",
      "-> http://www.7723.cn/download/4852.htm\n",
      "-> \n",
      "Failed to search for this game version screen resolution in description!\n",
      "-> http://www.7723.cn/download/4852.htm\n",
      "-> \n",
      "Failed to search for this game version screen resolution in description!\n",
      "-> http://www.7723.cn/download/4852.htm\n",
      "-> \n",
      "Failed to search for this game version screen resolution in description!\n",
      "-> http://www.7723.cn/download/4852.htm\n",
      "-> \n",
      "Failed to search for this game version screen resolution in description!\n",
      "-> http://www.7723.cn/download/4852.htm\n",
      "-> \n",
      "Failed to search for this game version screen resolution in description!\n",
      "-> http://www.7723.cn/download/4852.htm\n",
      "-> \n",
      "Failed to search for this game version screen resolution in description!\n",
      "-> http://www.7723.cn/download/4852.htm\n",
      "-> \n",
      "Failed to search for this game version screen resolution in description!\n",
      "-> http://www.7723.cn/download/4852.htm\n",
      "-> \n",
      "Failed to search for this game version screen resolution in description!\n",
      "-> http://www.7723.cn/download/4852.htm\n",
      "-> \n",
      "Failed to search for this game version screen resolution in description!\n",
      "-> http://www.7723.cn/download/4852.htm\n",
      "-> \n",
      "Failed to search for this game version screen resolution in description!\n",
      "-> http://www.7723.cn/download/4852.htm\n",
      "-> \n",
      "Failed to search for this game version screen resolution in description!\n",
      "-> http://www.7723.cn/download/4852.htm\n",
      "-> \n",
      "Failed to search for this game version screen resolution in description!\n",
      "-> http://www.7723.cn/download/4852.htm\n",
      "-> \n",
      "Failed to search for this game version screen resolution in description!\n",
      "-> http://www.7723.cn/download/4852.htm\n",
      "-> \n"
     ]
    },
    {
     "name": "stderr",
     "output_type": "stream",
     "text": [
      "Parsing http://www.7723.cn/download/4692.htm:  91%|████████████████████████▋  | 10722/11732 [13:45<01:24, 11.94it/s]"
     ]
    },
    {
     "name": "stdout",
     "output_type": "stream",
     "text": [
      "Failed to search for this game version screen resolution in description!\n",
      "-> http://www.7723.cn/download/4745.htm\n",
      "-> \n"
     ]
    },
    {
     "name": "stderr",
     "output_type": "stream",
     "text": [
      "Parsing http://www.7723.cn/download/4636.htm:  91%|████████████████████████▋  | 10726/11732 [13:45<01:20, 12.50it/s]"
     ]
    },
    {
     "name": "stdout",
     "output_type": "stream",
     "text": [
      "Failed to search for this game version screen resolution in description!\n",
      "-> http://www.7723.cn/download/4686.htm\n",
      "-> \n",
      "Failed to search for this game version screen resolution in description!\n",
      "-> http://www.7723.cn/download/4686.htm\n",
      "-> \n",
      "Failed to search for this game version screen resolution in description!\n",
      "-> http://www.7723.cn/download/4686.htm\n",
      "-> \n",
      "Failed to search for this game version screen resolution in description!\n",
      "-> http://www.7723.cn/download/4686.htm\n",
      "-> \n",
      "Failed to search for this game version screen resolution in description!\n",
      "-> http://www.7723.cn/download/4686.htm\n",
      "-> \n",
      "Failed to search for this game version screen resolution in description!\n",
      "-> http://www.7723.cn/download/4686.htm\n",
      "-> \n",
      "Failed to search for this game version screen resolution in description!\n",
      "-> http://www.7723.cn/download/4686.htm\n",
      "-> \n",
      "Failed to search for this game version screen resolution in description!\n",
      "-> http://www.7723.cn/download/4686.htm\n",
      "-> \n",
      "Failed to search for this game version screen resolution in description!\n",
      "-> http://www.7723.cn/download/4686.htm\n",
      "-> \n",
      "Failed to search for this game version screen resolution in description!\n",
      "-> http://www.7723.cn/download/4686.htm\n",
      "-> \n",
      "Failed to search for this game version screen resolution in description!\n",
      "-> http://www.7723.cn/download/4686.htm\n",
      "-> \n",
      "Failed to search for this game version screen resolution in description!\n",
      "-> http://www.7723.cn/download/4686.htm\n",
      "-> \n",
      "Failed to search for this game version screen resolution in description!\n",
      "-> http://www.7723.cn/download/4686.htm\n",
      "-> \n",
      "Failed to search for this game version screen resolution in description!\n",
      "-> http://www.7723.cn/download/4686.htm\n",
      "-> \n",
      "Failed to search for this game version screen resolution in description!\n",
      "-> http://www.7723.cn/download/4686.htm\n",
      "-> \n"
     ]
    },
    {
     "name": "stderr",
     "output_type": "stream",
     "text": [
      "Parsing http://www.7723.cn/download/4482.htm:  92%|████████████████████████▋  | 10738/11732 [13:46<01:14, 13.31it/s]"
     ]
    },
    {
     "name": "stdout",
     "output_type": "stream",
     "text": [
      "Failed to search for this game version screen resolution in description!\n",
      "-> http://www.7723.cn/download/4499.htm\n",
      "-> \n",
      "Failed to search for this game version screen resolution in description!\n",
      "-> http://www.7723.cn/download/4486.htm\n",
      "-> \n"
     ]
    },
    {
     "name": "stderr",
     "output_type": "stream",
     "text": [
      "Parsing http://www.7723.cn/download/4306.htm:  92%|████████████████████████▋  | 10750/11732 [13:47<01:11, 13.71it/s]"
     ]
    },
    {
     "name": "stdout",
     "output_type": "stream",
     "text": [
      "Failed to search for this game version screen resolution in description!\n",
      "-> http://www.7723.cn/download/4400.htm\n",
      "-> \n",
      "Failed to search for this game version screen resolution in description!\n",
      "-> http://www.7723.cn/download/4400.htm\n",
      "-> \n",
      "Failed to search for this game version screen resolution in description!\n",
      "-> http://www.7723.cn/download/4400.htm\n",
      "-> \n",
      "Failed to search for this game version screen resolution in description!\n",
      "-> http://www.7723.cn/download/4400.htm\n",
      "-> \n",
      "Failed to search for this game version screen resolution in description!\n",
      "-> http://www.7723.cn/download/4400.htm\n",
      "-> \n",
      "Failed to search for this game version screen resolution in description!\n",
      "-> http://www.7723.cn/download/4400.htm\n",
      "-> \n",
      "Failed to search for this game version screen resolution in description!\n",
      "-> http://www.7723.cn/download/4386.htm\n",
      "-> \n"
     ]
    },
    {
     "name": "stderr",
     "output_type": "stream",
     "text": [
      "Parsing http://www.7723.cn/download/2271.htm:  93%|█████████████████████████  | 10866/11732 [13:56<01:07, 12.85it/s]"
     ]
    },
    {
     "name": "stdout",
     "output_type": "stream",
     "text": [
      "Failed to search for this game version screen resolution in description!\n",
      "-> http://www.7723.cn/download/2321.htm\n",
      "-> \n"
     ]
    },
    {
     "name": "stderr",
     "output_type": "stream",
     "text": [
      "Parsing http://www.7723.cn/download/1297.htm:  93%|█████████████████████████▏ | 10930/11732 [14:00<01:02, 12.82it/s]"
     ]
    },
    {
     "name": "stdout",
     "output_type": "stream",
     "text": [
      "Failed to search for this game version screen resolution in description!\n",
      "-> http://www.7723.cn/download/1402.htm\n",
      "-> \n"
     ]
    },
    {
     "name": "stderr",
     "output_type": "stream",
     "text": [
      "Parsing http://www.7723.cn/download/934.htm:  93%|██████████████████████████▏ | 10950/11732 [14:02<00:54, 14.24it/s]"
     ]
    },
    {
     "name": "stdout",
     "output_type": "stream",
     "text": [
      "Failed to search for this game version screen resolution in description!\n",
      "-> http://www.7723.cn/download/960.htm\n",
      "-> \n"
     ]
    },
    {
     "name": "stderr",
     "output_type": "stream",
     "text": [
      "Parsing http://www.7723.cn/download/758.htm:  93%|██████████████████████████▏ | 10958/11732 [14:02<00:55, 13.98it/s]"
     ]
    },
    {
     "name": "stdout",
     "output_type": "stream",
     "text": [
      "Failed to search for this game version screen resolution in description!\n",
      "-> http://www.7723.cn/download/817.htm\n",
      "-> \n"
     ]
    },
    {
     "name": "stderr",
     "output_type": "stream",
     "text": [
      "Parsing http://www.7723.cn/download/619.htm:  94%|██████████████████████████▏ | 10972/11732 [14:04<00:58, 13.08it/s]"
     ]
    },
    {
     "name": "stdout",
     "output_type": "stream",
     "text": [
      "Failed to search for this game version screen resolution in description!\n",
      "-> http://www.7723.cn/download/648.htm\n",
      "-> \n"
     ]
    },
    {
     "name": "stderr",
     "output_type": "stream",
     "text": [
      "Parsing http://www.7723.cn/download/592.htm:  94%|██████████████████████████▏ | 10976/11732 [14:04<00:57, 13.23it/s]"
     ]
    },
    {
     "name": "stdout",
     "output_type": "stream",
     "text": [
      "Failed to search for this game version screen resolution in description!\n",
      "-> http://www.7723.cn/download/619.htm\n",
      "-> \n"
     ]
    },
    {
     "name": "stderr",
     "output_type": "stream",
     "text": [
      "Parsing http://www.7723.cn/download/450.htm:  94%|██████████████████████████▏ | 10988/11732 [14:05<00:55, 13.49it/s]"
     ]
    },
    {
     "name": "stdout",
     "output_type": "stream",
     "text": [
      "Failed to search for this game version screen resolution in description!\n",
      "-> http://www.7723.cn/download/473.htm\n",
      "-> \n"
     ]
    },
    {
     "name": "stderr",
     "output_type": "stream",
     "text": [
      "Parsing http://www.7723.cn/download/66.htm:  94%|███████████████████████████▏ | 11020/11732 [14:07<00:49, 14.33it/s]"
     ]
    },
    {
     "name": "stdout",
     "output_type": "stream",
     "text": [
      "Failed to search for this game version screen resolution in description!\n",
      "-> http://www.7723.cn/download/128.htm\n",
      "-> \n"
     ]
    },
    {
     "name": "stderr",
     "output_type": "stream",
     "text": [
      "Parsing http://www.7723.cn/download/6563.htm:  95%|█████████████████████████▋ | 11142/11732 [14:17<00:47, 12.46it/s]"
     ]
    },
    {
     "name": "stdout",
     "output_type": "stream",
     "text": [
      "Failed to search for this game version screen resolution in description!\n",
      "-> http://www.7723.cn/download/6677.htm\n",
      "-> \n"
     ]
    },
    {
     "name": "stderr",
     "output_type": "stream",
     "text": [
      "Parsing http://www.7723.cn/download/6305.htm:  95%|█████████████████████████▋ | 11146/11732 [14:18<00:45, 12.93it/s]"
     ]
    },
    {
     "name": "stdout",
     "output_type": "stream",
     "text": [
      "Failed to search for this game version screen resolution in description!\n",
      "-> http://www.7723.cn/download/6529.htm\n",
      "-> \n"
     ]
    },
    {
     "name": "stderr",
     "output_type": "stream",
     "text": [
      "Parsing http://www.7723.cn/download/6165.htm:  95%|█████████████████████████▋ | 11150/11732 [14:18<00:45, 12.69it/s]"
     ]
    },
    {
     "name": "stdout",
     "output_type": "stream",
     "text": [
      "Failed to search for this game version screen resolution in description!\n",
      "-> http://www.7723.cn/download/6297.htm\n",
      "-> \n",
      "Failed to search for this game version screen resolution in description!\n",
      "-> http://www.7723.cn/download/6219.htm\n",
      "-> \n"
     ]
    },
    {
     "name": "stderr",
     "output_type": "stream",
     "text": [
      "Parsing http://www.7723.cn/download/6091.htm:  95%|█████████████████████████▋ | 11152/11732 [14:18<00:50, 11.56it/s]"
     ]
    },
    {
     "name": "stdout",
     "output_type": "stream",
     "text": [
      "Failed to search for this game version screen resolution in description!\n",
      "-> http://www.7723.cn/download/6165.htm\n",
      "-> \n"
     ]
    },
    {
     "name": "stderr",
     "output_type": "stream",
     "text": [
      "Parsing http://www.7723.cn/download/6000.htm:  95%|█████████████████████████▋ | 11156/11732 [14:19<00:47, 12.11it/s]"
     ]
    },
    {
     "name": "stdout",
     "output_type": "stream",
     "text": [
      "Failed to search for this game version screen resolution in description!\n",
      "-> http://www.7723.cn/download/6091.htm\n",
      "-> \n"
     ]
    },
    {
     "name": "stderr",
     "output_type": "stream",
     "text": [
      "Parsing http://www.7723.cn/download/5908.htm:  95%|█████████████████████████▋ | 11160/11732 [14:19<00:47, 12.11it/s]"
     ]
    },
    {
     "name": "stdout",
     "output_type": "stream",
     "text": [
      "Failed to search for this game version screen resolution in description!\n",
      "-> http://www.7723.cn/download/5961.htm\n",
      "-> \n",
      "Failed to search for this game version screen resolution in description!\n",
      "-> http://www.7723.cn/download/5916.htm\n",
      "-> \n"
     ]
    },
    {
     "name": "stderr",
     "output_type": "stream",
     "text": [
      "Parsing http://www.7723.cn/download/5665.htm:  95%|█████████████████████████▋ | 11166/11732 [14:19<00:43, 13.10it/s]"
     ]
    },
    {
     "name": "stdout",
     "output_type": "stream",
     "text": [
      "Failed to search for this game version screen resolution in description!\n",
      "-> http://www.7723.cn/download/5859.htm\n",
      "-> \n"
     ]
    },
    {
     "name": "stderr",
     "output_type": "stream",
     "text": [
      "Parsing http://www.7723.cn/download/5207.htm:  95%|█████████████████████████▋ | 11172/11732 [14:20<00:42, 13.19it/s]"
     ]
    },
    {
     "name": "stdout",
     "output_type": "stream",
     "text": [
      "Failed to search for this game version screen resolution in description!\n",
      "-> http://www.7723.cn/download/5323.htm\n",
      "-> \n",
      "Failed to search for this game version screen resolution in description!\n",
      "-> http://www.7723.cn/download/5303.htm\n",
      "-> \n"
     ]
    },
    {
     "name": "stderr",
     "output_type": "stream",
     "text": [
      "Parsing http://www.7723.cn/download/5149.htm:  95%|█████████████████████████▋ | 11174/11732 [14:20<00:42, 13.10it/s]"
     ]
    },
    {
     "name": "stdout",
     "output_type": "stream",
     "text": [
      "Failed to search for this game version screen resolution in description!\n",
      "-> http://www.7723.cn/download/5207.htm\n",
      "-> \n"
     ]
    },
    {
     "name": "stderr",
     "output_type": "stream",
     "text": [
      "Parsing http://www.7723.cn/download/4965.htm:  95%|█████████████████████████▋ | 11180/11732 [14:20<00:42, 12.92it/s]"
     ]
    },
    {
     "name": "stdout",
     "output_type": "stream",
     "text": [
      "Failed to search for this game version screen resolution in description!\n",
      "-> http://www.7723.cn/download/5103.htm\n",
      "-> \n",
      "Failed to search for this game version screen resolution in description!\n",
      "-> http://www.7723.cn/download/5099.htm\n",
      "-> \n"
     ]
    },
    {
     "name": "stderr",
     "output_type": "stream",
     "text": [
      "Parsing http://www.7723.cn/download/4905.htm:  95%|█████████████████████████▋ | 11184/11732 [14:21<00:43, 12.47it/s]"
     ]
    },
    {
     "name": "stdout",
     "output_type": "stream",
     "text": [
      "Failed to search for this game version screen resolution in description!\n",
      "-> http://www.7723.cn/download/4962.htm\n",
      "-> \n"
     ]
    },
    {
     "name": "stderr",
     "output_type": "stream",
     "text": [
      "Parsing http://www.7723.cn/download/4883.htm:  95%|█████████████████████████▋ | 11186/11732 [14:21<00:44, 12.39it/s]"
     ]
    },
    {
     "name": "stdout",
     "output_type": "stream",
     "text": [
      "Failed to search for this game version screen resolution in description!\n",
      "-> http://www.7723.cn/download/4905.htm\n",
      "-> \n",
      "Failed to search for this game version screen resolution in description!\n",
      "-> http://www.7723.cn/download/4896.htm\n",
      "-> \n"
     ]
    },
    {
     "name": "stderr",
     "output_type": "stream",
     "text": [
      "Parsing http://www.7723.cn/download/3918.htm:  95%|█████████████████████████▊ | 11204/11732 [14:22<00:49, 10.72it/s]"
     ]
    },
    {
     "name": "stdout",
     "output_type": "stream",
     "text": [
      "Failed to search for this game version screen resolution in description!\n",
      "-> http://www.7723.cn/download/4137.htm\n",
      "-> \n"
     ]
    },
    {
     "name": "stderr",
     "output_type": "stream",
     "text": [
      "Parsing http://www.7723.cn/download/3409.htm:  96%|█████████████████████████▊ | 11208/11732 [14:23<00:43, 12.14it/s]"
     ]
    },
    {
     "name": "stdout",
     "output_type": "stream",
     "text": [
      "Failed to search for this game version screen resolution in description!\n",
      "-> http://www.7723.cn/download/3918.htm\n",
      "-> \n",
      "Failed to search for this game version screen resolution in description!\n",
      "-> http://www.7723.cn/download/3900.htm\n",
      "-> \n"
     ]
    },
    {
     "name": "stderr",
     "output_type": "stream",
     "text": [
      "Parsing http://www.7723.cn/download/1597.htm:  96%|█████████████████████████▉ | 11250/11732 [14:26<00:34, 13.78it/s]"
     ]
    },
    {
     "name": "stdout",
     "output_type": "stream",
     "text": [
      "Failed to search for this game version screen resolution in description!\n",
      "-> http://www.7723.cn/download/1647.htm\n",
      "-> \n",
      "Failed to search for this game version screen resolution in description!\n",
      "-> http://www.7723.cn/download/1618.htm\n",
      "-> \n"
     ]
    },
    {
     "name": "stderr",
     "output_type": "stream",
     "text": [
      "Parsing http://www.7723.cn/download/1518.htm:  96%|█████████████████████████▉ | 11254/11732 [14:26<00:37, 12.88it/s]"
     ]
    },
    {
     "name": "stdout",
     "output_type": "stream",
     "text": [
      "Failed to search for this game version screen resolution in description!\n",
      "-> http://www.7723.cn/download/1593.htm\n",
      "-> \n"
     ]
    },
    {
     "name": "stderr",
     "output_type": "stream",
     "text": [
      "Parsing http://www.7723.cn/download/1264.htm:  96%|█████████████████████████▉ | 11274/11732 [14:28<00:32, 13.93it/s]"
     ]
    },
    {
     "name": "stdout",
     "output_type": "stream",
     "text": [
      "Failed to search for this game version screen resolution in description!\n",
      "-> http://www.7723.cn/download/1283.htm\n",
      "-> \n"
     ]
    },
    {
     "name": "stderr",
     "output_type": "stream",
     "text": [
      "Parsing http://www.7723.cn/download/1114.htm:  96%|█████████████████████████▉ | 11288/11732 [14:29<00:31, 14.13it/s]"
     ]
    },
    {
     "name": "stdout",
     "output_type": "stream",
     "text": [
      "Failed to search for this game version screen resolution in description!\n",
      "-> http://www.7723.cn/download/1190.htm\n",
      "-> \n"
     ]
    },
    {
     "name": "stderr",
     "output_type": "stream",
     "text": [
      "Parsing http://www.7723.cn/download/927.htm:  96%|██████████████████████████▉ | 11304/11732 [14:31<01:10,  6.08it/s]"
     ]
    },
    {
     "name": "stdout",
     "output_type": "stream",
     "text": [
      "Failed to search for this game version screen resolution in description!\n",
      "-> http://www.7723.cn/download/959.htm\n",
      "-> \n",
      "Failed to search for this game version screen resolution in description!\n",
      "-> http://www.7723.cn/download/959.htm\n",
      "-> \n",
      "Failed to search for this game version screen resolution in description!\n",
      "-> http://www.7723.cn/download/959.htm\n",
      "-> \n",
      "Failed to search for this game version screen resolution in description!\n",
      "-> http://www.7723.cn/download/959.htm\n",
      "-> \n"
     ]
    },
    {
     "name": "stderr",
     "output_type": "stream",
     "text": [
      "Parsing http://www.7723.cn/download/674.htm:  97%|███████████████████████████ | 11328/11732 [14:33<00:30, 13.38it/s]"
     ]
    },
    {
     "name": "stdout",
     "output_type": "stream",
     "text": [
      "Failed to search for this game version screen resolution in description!\n",
      "-> http://www.7723.cn/download/709.htm\n",
      "-> \n",
      "Failed to search for this game version screen resolution in description!\n",
      "-> http://www.7723.cn/download/680.htm\n",
      "-> \n"
     ]
    },
    {
     "name": "stderr",
     "output_type": "stream",
     "text": [
      "Parsing http://www.7723.cn/download/357.htm:  97%|███████████████████████████ | 11356/11732 [14:35<00:26, 14.09it/s]"
     ]
    },
    {
     "name": "stdout",
     "output_type": "stream",
     "text": [
      "Failed to search for this game version screen resolution in description!\n",
      "-> http://www.7723.cn/download/416.htm\n",
      "-> \n",
      "Failed to search for this game version screen resolution in description!\n",
      "-> http://www.7723.cn/download/416.htm\n",
      "-> \n",
      "Failed to search for this game version screen resolution in description!\n",
      "-> http://www.7723.cn/download/416.htm\n",
      "-> \n"
     ]
    },
    {
     "name": "stderr",
     "output_type": "stream",
     "text": [
      "Parsing http://www.7723.cn/download/322.htm:  97%|███████████████████████████ | 11362/11732 [14:35<00:27, 13.54it/s]"
     ]
    },
    {
     "name": "stdout",
     "output_type": "stream",
     "text": [
      "Failed to search for this game version screen resolution in description!\n",
      "-> http://www.7723.cn/download/352.htm\n",
      "-> \n",
      "Failed to search for this game version screen resolution in description!\n",
      "-> http://www.7723.cn/download/352.htm\n",
      "-> \n"
     ]
    },
    {
     "name": "stderr",
     "output_type": "stream",
     "text": [
      "Parsing http://www.7723.cn/download/153.htm:  97%|███████████████████████████▏| 11374/11732 [14:36<00:27, 13.24it/s]"
     ]
    },
    {
     "name": "stdout",
     "output_type": "stream",
     "text": [
      "Failed to search for this game version screen resolution in description!\n",
      "-> http://www.7723.cn/download/179.htm\n",
      "-> \n",
      "Failed to search for this game version screen resolution in description!\n",
      "-> http://www.7723.cn/download/179.htm\n",
      "-> \n",
      "Failed to search for this game version screen resolution in description!\n",
      "-> http://www.7723.cn/download/174.htm\n",
      "-> \n"
     ]
    },
    {
     "name": "stderr",
     "output_type": "stream",
     "text": [
      "Parsing http://www.7723.cn/download/6742.htm:  98%|██████████████████████████▍| 11472/11732 [14:45<00:22, 11.57it/s]"
     ]
    },
    {
     "name": "stdout",
     "output_type": "stream",
     "text": [
      "Failed to search for this game version screen resolution in description!\n",
      "-> http://www.7723.cn/download/6820.htm\n",
      "-> \n",
      "Failed to search for this game version screen resolution in description!\n",
      "-> http://www.7723.cn/download/6819.htm\n",
      "-> \n"
     ]
    },
    {
     "name": "stderr",
     "output_type": "stream",
     "text": [
      "Parsing http://www.7723.cn/download/6527.htm:  98%|██████████████████████████▍| 11476/11732 [14:45<00:21, 11.90it/s]"
     ]
    },
    {
     "name": "stdout",
     "output_type": "stream",
     "text": [
      "Failed to search for this game version screen resolution in description!\n",
      "-> http://www.7723.cn/download/6707.htm\n",
      "-> \n"
     ]
    },
    {
     "name": "stderr",
     "output_type": "stream",
     "text": [
      "Parsing http://www.7723.cn/download/6445.htm:  98%|██████████████████████████▍| 11480/11732 [14:45<00:21, 11.86it/s]"
     ]
    },
    {
     "name": "stdout",
     "output_type": "stream",
     "text": [
      "Failed to search for this game version screen resolution in description!\n",
      "-> http://www.7723.cn/download/6477.htm\n",
      "-> \n",
      "Failed to search for this game version screen resolution in description!\n",
      "-> http://www.7723.cn/download/6447.htm\n",
      "-> \n",
      "Failed to search for this game version screen resolution in description!\n",
      "-> http://www.7723.cn/download/6445.htm\n",
      "-> \n"
     ]
    },
    {
     "name": "stderr",
     "output_type": "stream",
     "text": [
      "Parsing http://www.7723.cn/download/6164.htm:  98%|██████████████████████████▍| 11482/11732 [14:46<00:20, 11.95it/s]"
     ]
    },
    {
     "name": "stdout",
     "output_type": "stream",
     "text": [
      "Failed to search for this game version screen resolution in description!\n",
      "-> http://www.7723.cn/download/6214.htm\n",
      "-> \n"
     ]
    },
    {
     "name": "stderr",
     "output_type": "stream",
     "text": [
      "Parsing http://www.7723.cn/download/5773.htm:  98%|██████████████████████████▍| 11490/11732 [14:46<00:19, 12.14it/s]"
     ]
    },
    {
     "name": "stdout",
     "output_type": "stream",
     "text": [
      "Failed to search for this game version screen resolution in description!\n",
      "-> http://www.7723.cn/download/5911.htm\n",
      "-> \n"
     ]
    },
    {
     "name": "stderr",
     "output_type": "stream",
     "text": [
      "Parsing http://www.7723.cn/download/5522.htm:  98%|██████████████████████████▍| 11496/11732 [14:47<00:18, 12.51it/s]"
     ]
    },
    {
     "name": "stdout",
     "output_type": "stream",
     "text": [
      "Failed to search for this game version screen resolution in description!\n",
      "-> http://www.7723.cn/download/5635.htm\n",
      "-> \n"
     ]
    },
    {
     "name": "stderr",
     "output_type": "stream",
     "text": [
      "Parsing http://www.7723.cn/download/5117.htm:  98%|██████████████████████████▍| 11502/11732 [14:47<00:18, 12.27it/s]"
     ]
    },
    {
     "name": "stdout",
     "output_type": "stream",
     "text": [
      "Failed to search for this game version screen resolution in description!\n",
      "-> http://www.7723.cn/download/5191.htm\n",
      "-> \n",
      "Failed to search for this game version screen resolution in description!\n",
      "-> http://www.7723.cn/download/5155.htm\n",
      "-> \n",
      "Failed to search for this game version screen resolution in description!\n",
      "-> http://www.7723.cn/download/5133.htm\n",
      "-> \n"
     ]
    },
    {
     "name": "stderr",
     "output_type": "stream",
     "text": [
      "Parsing http://www.7723.cn/download/4969.htm:  98%|██████████████████████████▍| 11506/11732 [14:47<00:19, 11.39it/s]"
     ]
    },
    {
     "name": "stdout",
     "output_type": "stream",
     "text": [
      "Failed to search for this game version screen resolution in description!\n",
      "-> http://www.7723.cn/download/5117.htm\n",
      "-> \n",
      "Failed to search for this game version screen resolution in description!\n",
      "-> http://www.7723.cn/download/5101.htm\n",
      "-> \n"
     ]
    },
    {
     "name": "stderr",
     "output_type": "stream",
     "text": [
      "Parsing http://www.7723.cn/download/4643.htm:  98%|██████████████████████████▍| 11510/11732 [14:48<00:18, 12.28it/s]"
     ]
    },
    {
     "name": "stdout",
     "output_type": "stream",
     "text": [
      "Failed to search for this game version screen resolution in description!\n",
      "-> http://www.7723.cn/download/4854.htm\n",
      "-> \n"
     ]
    },
    {
     "name": "stderr",
     "output_type": "stream",
     "text": [
      "Parsing http://www.7723.cn/download/3856.htm:  98%|██████████████████████████▌| 11528/11732 [14:49<00:15, 13.60it/s]"
     ]
    },
    {
     "name": "stdout",
     "output_type": "stream",
     "text": [
      "Failed to search for this game version screen resolution in description!\n",
      "-> http://www.7723.cn/download/3920.htm\n",
      "-> \n"
     ]
    },
    {
     "name": "stderr",
     "output_type": "stream",
     "text": [
      "Parsing http://www.7723.cn/download/2943.htm:  98%|██████████████████████████▌| 11552/11732 [14:51<00:14, 12.29it/s]"
     ]
    },
    {
     "name": "stdout",
     "output_type": "stream",
     "text": [
      "Failed to search for this game version screen resolution in description!\n",
      "-> http://www.7723.cn/download/3212.htm\n",
      "-> \n"
     ]
    },
    {
     "name": "stderr",
     "output_type": "stream",
     "text": [
      "Parsing http://www.7723.cn/download/2829.htm:  98%|██████████████████████████▌| 11556/11732 [14:51<00:13, 13.19it/s]"
     ]
    },
    {
     "name": "stdout",
     "output_type": "stream",
     "text": [
      "Failed to search for this game version screen resolution in description!\n",
      "-> http://www.7723.cn/download/2943.htm\n",
      "-> \n"
     ]
    },
    {
     "name": "stderr",
     "output_type": "stream",
     "text": [
      "Parsing http://www.7723.cn/download/1526.htm:  99%|██████████████████████████▋| 11588/11732 [14:54<00:10, 13.50it/s]"
     ]
    },
    {
     "name": "stdout",
     "output_type": "stream",
     "text": [
      "Failed to search for this game version screen resolution in description!\n",
      "-> http://www.7723.cn/download/1591.htm\n",
      "-> \n"
     ]
    },
    {
     "name": "stderr",
     "output_type": "stream",
     "text": [
      "Parsing http://www.7723.cn/download/1355.htm:  99%|██████████████████████████▋| 11604/11732 [14:55<00:09, 12.81it/s]"
     ]
    },
    {
     "name": "stdout",
     "output_type": "stream",
     "text": [
      "Failed to search for this game version screen resolution in description!\n",
      "-> http://www.7723.cn/download/1394.htm\n",
      "-> \n"
     ]
    },
    {
     "name": "stderr",
     "output_type": "stream",
     "text": [
      "Parsing http://www.7723.cn/download/868.htm:  99%|███████████████████████████▊| 11648/11732 [14:58<00:05, 14.22it/s]"
     ]
    },
    {
     "name": "stdout",
     "output_type": "stream",
     "text": [
      "Failed to search for this game version screen resolution in description!\n",
      "-> http://www.7723.cn/download/900.htm\n",
      "-> \n"
     ]
    },
    {
     "name": "stderr",
     "output_type": "stream",
     "text": [
      "Parsing http://www.7723.cn/download/9785.htm: 100%|██████████████████████████▉| 11724/11732 [15:04<00:00, 12.54it/s]"
     ]
    },
    {
     "name": "stdout",
     "output_type": "stream",
     "text": [
      "Failed to search for this game version screen resolution in description!\n",
      "-> http://www.7723.cn/download/12016.htm\n",
      "-> \n",
      "Failed to search for this game version screen resolution in description!\n",
      "-> http://www.7723.cn/download/11670.htm\n",
      "-> \n"
     ]
    },
    {
     "name": "stderr",
     "output_type": "stream",
     "text": [
      "Parsing http://www.7723.cn/download/10513.htm: 100%|█████████████████████████▉| 11728/11732 [15:04<00:00, 11.97it/s]"
     ]
    },
    {
     "name": "stdout",
     "output_type": "stream",
     "text": [
      "Failed to search for this game version screen resolution in description!\n",
      "-> http://www.7723.cn/download/8740.htm\n",
      "-> \n"
     ]
    },
    {
     "name": "stderr",
     "output_type": "stream",
     "text": [
      "Parsing http://www.7723.cn/download/10090.htm: 100%|██████████████████████████| 11732/11732 [15:05<00:00, 12.96it/s]"
     ]
    },
    {
     "name": "stdout",
     "output_type": "stream",
     "text": [
      "Failed to search for this game version screen resolution in description!\n",
      "-> http://www.7723.cn/download/10090.htm\n",
      "-> \n"
     ]
    },
    {
     "name": "stderr",
     "output_type": "stream",
     "text": [
      "\n"
     ]
    }
   ],
   "source": [
    "game_entries = []\n",
    "pbar = tqdm(game_pages)\n",
    "for url in pbar:\n",
    "    pbar.set_description(f'Parsing {url}')\n",
    "    \n",
    "    game_entry = parse_game_entry_url(url, verbose=False)\n",
    "    \n",
    "    if game_entry is None:\n",
    "        continue\n",
    "    \n",
    "    game_entries.append(game_entry)"
   ]
  },
  {
   "cell_type": "code",
   "execution_count": 10,
   "metadata": {},
   "outputs": [
    {
     "data": {
      "text/plain": [
       "bytes"
      ]
     },
     "execution_count": 10,
     "metadata": {},
     "output_type": "execute_result"
    }
   ],
   "source": [
    "serialized_game_entries = pickle.dumps(game_entries)\n",
    "type(serialized_game_entries)"
   ]
  },
  {
   "cell_type": "code",
   "execution_count": 11,
   "metadata": {},
   "outputs": [],
   "source": [
    "filename = 'game_entries.pickle'\n",
    "with open(filename, mode='wb') as stream:\n",
    "    stream.write(serialized_game_entries)\n",
    "\n",
    "# game_entries = pickle.loads(open(filename, mode='rb').read())"
   ]
  },
  {
   "cell_type": "code",
   "execution_count": 12,
   "metadata": {},
   "outputs": [
    {
     "name": "stderr",
     "output_type": "stream",
     "text": [
      "100%|█████████████████████████████████████████████████████████████████████| 11732/11732 [00:00<00:00, 107921.76it/s]\n"
     ]
    }
   ],
   "source": [
    "pbar = tqdm(game_entries)\n",
    "\n",
    "url_list = []\n",
    "\n",
    "for game_entry in pbar:\n",
    "    if game_entry.banner_url is not None:\n",
    "        url_list.append(game_entry.banner_url)\n",
    "#         pbar.set_description(f'{game_entry.url} - {game_entry.banner_url}')\n",
    "#         GET(game_entry.banner_url, verbose=False)\n",
    "\n",
    "    for img_url in game_entry.sample_gameplay_image_urls:\n",
    "        url_list.append(img_url)\n",
    "#         pbar.set_description(f'{game_entry.url} - {img_url}')\n",
    "#         GET(img_url, verbose=False)\n",
    "    \n",
    "    for game_version in game_entry.versions:\n",
    "        url_list.append(game_version.url)\n",
    "#         pbar.set_description(f'{game_entry.url} - {game_version.url}')\n",
    "#         POST(game_version.url, verbose=False)"
   ]
  },
  {
   "cell_type": "code",
   "execution_count": 13,
   "metadata": {},
   "outputs": [
    {
     "data": {
      "text/plain": [
       "182557"
      ]
     },
     "execution_count": 13,
     "metadata": {},
     "output_type": "execute_result"
    }
   ],
   "source": [
    "len(url_list)"
   ]
  },
  {
   "cell_type": "code",
   "execution_count": 21,
   "metadata": {},
   "outputs": [
    {
     "data": {
      "text/plain": [
       "50"
      ]
     },
     "execution_count": 21,
     "metadata": {},
     "output_type": "execute_result"
    }
   ],
   "source": [
    "# split the url list into multiple list for using with other program to request them\n",
    "import numpy as np\n",
    "\n",
    "num_parts = 50\n",
    "sub_url_lists = np.array_split(np.array(url_list), num_parts)\n",
    "len(sub_url_lists)"
   ]
  },
  {
   "cell_type": "code",
   "execution_count": 25,
   "metadata": {
    "scrolled": true
   },
   "outputs": [
    {
     "name": "stdout",
     "output_type": "stream",
     "text": [
      "0 3652\n",
      "url_list_part_00\n",
      "1 3652\n",
      "url_list_part_01\n",
      "2 3652\n",
      "url_list_part_02\n",
      "3 3652\n",
      "url_list_part_03\n",
      "4 3652\n",
      "url_list_part_04\n",
      "5 3652\n",
      "url_list_part_05\n",
      "6 3652\n",
      "url_list_part_06\n",
      "7 3651\n",
      "url_list_part_07\n",
      "8 3651\n",
      "url_list_part_08\n",
      "9 3651\n",
      "url_list_part_09\n",
      "10 3651\n",
      "url_list_part_10\n",
      "11 3651\n",
      "url_list_part_11\n",
      "12 3651\n",
      "url_list_part_12\n",
      "13 3651\n",
      "url_list_part_13\n",
      "14 3651\n",
      "url_list_part_14\n",
      "15 3651\n",
      "url_list_part_15\n",
      "16 3651\n",
      "url_list_part_16\n",
      "17 3651\n",
      "url_list_part_17\n",
      "18 3651\n",
      "url_list_part_18\n",
      "19 3651\n",
      "url_list_part_19\n",
      "20 3651\n",
      "url_list_part_20\n",
      "21 3651\n",
      "url_list_part_21\n",
      "22 3651\n",
      "url_list_part_22\n",
      "23 3651\n",
      "url_list_part_23\n",
      "24 3651\n",
      "url_list_part_24\n",
      "25 3651\n",
      "url_list_part_25\n",
      "26 3651\n",
      "url_list_part_26\n",
      "27 3651\n",
      "url_list_part_27\n",
      "28 3651\n",
      "url_list_part_28\n",
      "29 3651\n",
      "url_list_part_29\n",
      "30 3651\n",
      "url_list_part_30\n",
      "31 3651\n",
      "url_list_part_31\n",
      "32 3651\n",
      "url_list_part_32\n",
      "33 3651\n",
      "url_list_part_33\n",
      "34 3651\n",
      "url_list_part_34\n",
      "35 3651\n",
      "url_list_part_35\n",
      "36 3651\n",
      "url_list_part_36\n",
      "37 3651\n",
      "url_list_part_37\n",
      "38 3651\n",
      "url_list_part_38\n",
      "39 3651\n",
      "url_list_part_39\n",
      "40 3651\n",
      "url_list_part_40\n",
      "41 3651\n",
      "url_list_part_41\n",
      "42 3651\n",
      "url_list_part_42\n",
      "43 3651\n",
      "url_list_part_43\n",
      "44 3651\n",
      "url_list_part_44\n",
      "45 3651\n",
      "url_list_part_45\n",
      "46 3651\n",
      "url_list_part_46\n",
      "47 3651\n",
      "url_list_part_47\n",
      "48 3651\n",
      "url_list_part_48\n",
      "49 3651\n",
      "url_list_part_49\n"
     ]
    }
   ],
   "source": [
    "basename = 'url_list_part_'\n",
    "\n",
    "for i in range(num_parts):\n",
    "    print(i, len(sub_url_lists[i]))\n",
    "    \n",
    "    filename = basename + repr(i).zfill(len(repr(num_parts)))\n",
    "    print(filename)\n",
    "    \n",
    "    with open(filename, mode='w', encoding='utf-8') as stream:\n",
    "        json.dump(sub_url_lists[i].tolist(), stream, indent=2)"
   ]
  },
  {
   "cell_type": "code",
   "execution_count": null,
   "metadata": {
    "scrolled": true
   },
   "outputs": [],
   "source": [
    "# CAUTION: this code might take a few days to complete\n",
    "# pbar = tqdm(url_list)\n",
    "\n",
    "# for url in pbar:\n",
    "#     pbar.set_description(url)\n",
    "#     GET(url, verbose=False)"
   ]
  },
  {
   "cell_type": "code",
   "execution_count": null,
   "metadata": {},
   "outputs": [],
   "source": [
    "sample_game_urls = [\n",
    "    'http://www.7723.cn/download/10172.htm', # 战姬无双-花缭乱\n",
    "    'http://www.7723.cn/download/8077.htm', # 苍穹默示录完美运行版\n",
    "    'http://www.7723.cn/download/10420.htm', # 苍弓默示录－吞噬时空    \n",
    "]"
   ]
  },
  {
   "cell_type": "code",
   "execution_count": null,
   "metadata": {},
   "outputs": [],
   "source": [
    "entry_url = 'http://www.7723.cn/download/8077.htm'\n",
    "entry = parse_game_entry_url(entry_url)\n",
    "entry"
   ]
  }
 ],
 "metadata": {
  "kernelspec": {
   "display_name": "Python 3",
   "language": "python",
   "name": "python3"
  },
  "language_info": {
   "codemirror_mode": {
    "name": "ipython",
    "version": 3
   },
   "file_extension": ".py",
   "mimetype": "text/x-python",
   "name": "python",
   "nbconvert_exporter": "python",
   "pygments_lexer": "ipython3",
   "version": "3.7.6"
  }
 },
 "nbformat": 4,
 "nbformat_minor": 4
}
