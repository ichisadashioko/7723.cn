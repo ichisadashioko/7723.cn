{
	"cells": [
		{
			"cell_type": "code",
			"execution_count": 1,
			"id": "c9a164f0",
			"metadata": {},
			"outputs": [],
			"source": [
				"import os\n",
				"import pickle\n",
				"import posixpath\n",
				"import argparse\n",
				"import time\n",
				"import io\n",
				"import threading\n",
				"import json\n",
				"import re\n",
				"import stat\n",
				"import math\n",
				"import traceback\n",
				"import gzip\n",
				"import sys\n",
				"\n",
				"import urllib\n",
				"import urllib.parse\n",
				"import wsgiref.handlers\n",
				"\n",
				"import tqdm"
			]
		},
		{
			"cell_type": "code",
			"execution_count": 5,
			"id": "67796dba",
			"metadata": {},
			"outputs": [],
			"source": [
				"json_config_file = 'webconfig.json'\n",
				"content_bs = open(json_config_file, 'rb').read()\n",
				"content_str = content_bs.decode('utf-8')\n",
				"config_obj = json.loads(content_str)\n",
				"\n",
				"game_info_list_filepath = config_obj['game_info_list_filepath']\n",
				"game_binary_url_list_filepath = config_obj['game_binary_url_list_filepath']\n",
				"image_url_info_dict_filepath = config_obj['image_url_info_dict_filepath']\n",
				"\n",
				"with open(game_info_list_filepath, 'rb') as infile:\n",
				"    game_info_list = pickle.load(infile)\n",
				"with open(game_binary_url_list_filepath, 'rb') as infile:\n",
				"    game_binary_url_list = pickle.load(infile)\n",
				"with open(image_url_info_dict_filepath, 'rb') as infile:\n",
				"    image_url_info_dict = pickle.load(infile)"
			]
		},
		{
			"cell_type": "code",
			"execution_count": 7,
			"id": "f6df8683",
			"metadata": {},
			"outputs": [
				{
					"data": {
						"text/plain": [
							"11732"
						]
					},
					"execution_count": 7,
					"metadata": {},
					"output_type": "execute_result"
				}
			],
			"source": [
				"len(game_info_list)"
			]
		},
		{
			"cell_type": "code",
			"execution_count": 6,
			"id": "b39a396d",
			"metadata": {},
			"outputs": [
				{
					"name": "stdout",
					"output_type": "stream",
					"text": [
						"taken_time_ns 34212800\n",
						"taken_time_seconds: 0.003\n"
					]
				}
			],
			"source": [
				"start_time_ns = time.perf_counter_ns()\n",
				"game_info_list.sort(key=lambda x: x['name'])\n",
				"end_time_ns = time.perf_counter_ns()\n",
				"taken_time_ns = end_time_ns - start_time_ns\n",
				"print('taken_time_ns', taken_time_ns)\n",
				"print(f'taken_time_seconds: {(taken_time_ns/10e9):.3f}')"
			]
		}
	],
	"metadata": {
		"kernelspec": {
			"display_name": "Python 3",
			"language": "python",
			"name": "python3"
		},
		"language_info": {
			"codemirror_mode": {
				"name": "ipython",
				"version": 3
			},
			"file_extension": ".py",
			"mimetype": "text/x-python",
			"name": "python",
			"nbconvert_exporter": "python",
			"pygments_lexer": "ipython3"
		}
	},
	"nbformat": 4,
	"nbformat_minor": 5
}
