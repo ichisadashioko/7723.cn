{
	"cells": [
		{
			"cell_type": "code",
			"execution_count": 1,
			"id": "440534d1",
			"metadata": {},
			"outputs": [],
			"source": [
				"import time\n",
				"import re\n",
				"import os\n",
				"from typing import List, Dict\n",
				"import hashlib\n",
				"import traceback"
			]
		},
		{
			"cell_type": "code",
			"execution_count": 2,
			"id": "e6b37d50",
			"metadata": {},
			"outputs": [],
			"source": [
				"cache_dir = '.requests_cache'\n",
				"hash_prefix_length = 2"
			]
		},
		{
			"cell_type": "code",
			"execution_count": 3,
			"id": "8e430136",
			"metadata": {},
			"outputs": [],
			"source": [
				"class TermColor:\n",
				"    PURPLE = '\\033[95m'\n",
				"    BLUE = '\\033[94m'\n",
				"    GREEN = '\\033[92m'\n",
				"    YELLOW = '\\033[93m'\n",
				"    RED = '\\033[91m'\n",
				"    ENDC = '\\033[0m'\n",
				"\n",
				"\n",
				"class Encoding:\n",
				"    UTF8 = 'utf-8'\n",
				"    UTF8_WITH_BOM = 'utf-8-sig'\n",
				"    UTF16 = 'utf-16'\n",
				"    GB2312 = 'gb2312'\n",
				"    SHIFT_JIS = 'shift-jis'\n",
				"\n",
				"    @classmethod\n",
				"    def decode(cls, bs: bytes):\n",
				"        try:\n",
				"            encoding = cls.UTF8_WITH_BOM\n",
				"            decoded_content = bs.decode(encoding)\n",
				"            return encoding, decoded_content\n",
				"        except Exception as ex:\n",
				"            # traceback.print_exc()\n",
				"            pass\n",
				"\n",
				"        try:\n",
				"            encoding = cls.UTF8\n",
				"            decoded_content = bs.decode(encoding)\n",
				"            return encoding, decoded_content\n",
				"        except Exception as ex:\n",
				"            # traceback.print_exc()\n",
				"            pass\n",
				"\n",
				"        try:\n",
				"            encoding = cls.UTF16\n",
				"            decoded_content = bs.decode(encoding)\n",
				"            return encoding, decoded_content\n",
				"        except Exception as ex:\n",
				"            # traceback.print_exc()\n",
				"            pass\n",
				"\n",
				"        try:\n",
				"            encoding = cls.GB2312\n",
				"            decoded_content = bs.decode(encoding)\n",
				"            return encoding, decoded_content\n",
				"        except Exception as ex:\n",
				"            # traceback.print_exc()\n",
				"            pass\n",
				"\n",
				"        try:\n",
				"            encoding = cls.SHIFT_JIS\n",
				"            decoded_content = bs.decode(encoding)\n",
				"            return encoding, decoded_content\n",
				"        except Exception as ex:\n",
				"            # traceback.print_exc()\n",
				"            pass\n",
				"\n",
				"        return None, bs"
			]
		},
		{
			"cell_type": "code",
			"execution_count": 4,
			"id": "093993f4",
			"metadata": {},
			"outputs": [],
			"source": [
				"def hash_url(url: str):\n",
				"    hash_str = hashlib.md5(url.encode('utf-8')).hexdigest()\n",
				"    hash_str = hash_str.lower()\n",
				"    return hash_str\n",
				"\n",
				"\n",
				"def get_hash_file_location(hash_str: str):\n",
				"    hash_prefix = hash_str[:hash_prefix_length]\n",
				"\n",
				"    sub_cache_dir = os.path.join(cache_dir, hash_prefix)\n",
				"    cache_file = os.path.join(sub_cache_dir, hash_str)\n",
				"\n",
				"    return cache_file, sub_cache_dir"
			]
		},
		{
			"cell_type": "code",
			"execution_count": 5,
			"id": "b6634b10",
			"metadata": {},
			"outputs": [],
			"source": [
				"def get_response_from_cache(url: str):\n",
				"    url_hash = hash_url(url)\n",
				"\n",
				"    cache_file, sub_cache_dir = get_hash_file_location(url_hash)\n",
				"\n",
				"    if os.path.exists(cache_file):\n",
				"        content = open(cache_file, mode='rb').read()\n",
				"        return content"
			]
		},
		{
			"cell_type": "code",
			"execution_count": 6,
			"id": "e0696b0a",
			"metadata": {},
			"outputs": [
				{
					"data": {
						"text/plain": [
							"bytes"
						]
					},
					"execution_count": 6,
					"metadata": {},
					"output_type": "execute_result"
				}
			],
			"source": [
				"content_bs = get_response_from_cache('http://www.7723.cn/download/10172.htm')\n",
				"type(content_bs)"
			]
		},
		{
			"cell_type": "code",
			"execution_count": 7,
			"id": "68186ded",
			"metadata": {},
			"outputs": [
				{
					"data": {
						"text/plain": [
							"23152"
						]
					},
					"execution_count": 7,
					"metadata": {},
					"output_type": "execute_result"
				}
			],
			"source": [
				"len(content_bs)"
			]
		},
		{
			"cell_type": "code",
			"execution_count": 10,
			"id": "52a3673b",
			"metadata": {},
			"outputs": [
				{
					"data": {
						"text/plain": [
							"20187"
						]
					},
					"execution_count": 10,
					"metadata": {},
					"output_type": "execute_result"
				}
			],
			"source": [
				"_, html_str = Encoding.decode(content_bs)\n",
				"len(html_str)"
			]
		},
		{
			"cell_type": "code",
			"execution_count": null,
			"id": "130064b0",
			"metadata": {},
			"outputs": [],
			"source": [
				"html_str"
			]
		},
		{
			"cell_type": "code",
			"execution_count": null,
			"id": "4a6fc4e6",
			"metadata": {},
			"outputs": [],
			"source": [
				"file_list = os.listdir('.')\n",
				"file_list"
			]
		},
		{
			"cell_type": "code",
			"execution_count": 13,
			"id": "be2fd369",
			"metadata": {},
			"outputs": [
				{
					"data": {
						"text/plain": [
							"[]"
						]
					},
					"execution_count": 13,
					"metadata": {},
					"output_type": "execute_result"
				}
			],
			"source": [
				"url_list_part_file_path = []\n",
				"url_list_part_file_path"
			]
		},
		{
			"cell_type": "code",
			"execution_count": null,
			"id": "5a2cf551",
			"metadata": {},
			"outputs": [],
			"source": [
				"for fn in file_list:\n",
				"    if 'url_list_part' in fn:\n",
				"        url_list_part_file_path.append(fn)\n",
				"url_list_part_file_path"
			]
		},
		{
			"cell_type": "code",
			"execution_count": 26,
			"id": "51c2e2bf",
			"metadata": {},
			"outputs": [
				{
					"data": {
						"text/plain": [
							"[]"
						]
					},
					"execution_count": 26,
					"metadata": {},
					"output_type": "execute_result"
				}
			],
			"source": [
				"url_line_list = []\n",
				"url_line_list"
			]
		},
		{
			"cell_type": "code",
			"execution_count": 25,
			"id": "3921fb7c",
			"metadata": {},
			"outputs": [],
			"source": [
				"import json"
			]
		},
		{
			"cell_type": "code",
			"execution_count": 27,
			"id": "ef100fec",
			"metadata": {},
			"outputs": [
				{
					"data": {
						"text/plain": [
							"182557"
						]
					},
					"execution_count": 27,
					"metadata": {},
					"output_type": "execute_result"
				}
			],
			"source": [
				"for fpath in url_list_part_file_path:\n",
				"    content_bs = open(fpath, mode='rb').read()\n",
				"    url_list = json.loads(content_bs)\n",
				"    url_line_list.extend(url_list)\n",
				"#     _, content_str = Encoding.decode(content_bs)\n",
				"#     line_list = content_str.splitlines(False)\n",
				"#     # filter empty line\n",
				"#     for line in line_list:\n",
				"#         line = line.strip()\n",
				"#         if len(line) > 0:\n",
				"#             url_line_list.append(line)\n",
				"len(url_line_list)"
			]
		},
		{
			"cell_type": "code",
			"execution_count": 28,
			"id": "2514394e",
			"metadata": {},
			"outputs": [],
			"source": [
				"url_line_list.sort()"
			]
		},
		{
			"cell_type": "code",
			"execution_count": null,
			"id": "ceef8b17",
			"metadata": {},
			"outputs": [],
			"source": [
				"url_line_list[0:40]"
			]
		},
		{
			"cell_type": "code",
			"execution_count": 31,
			"id": "18a9f30d",
			"metadata": {},
			"outputs": [
				{
					"data": {
						"text/plain": [
							"'http://image.7723.cn/ 101-TRIAL- | 278'"
						]
					},
					"execution_count": 31,
					"metadata": {},
					"output_type": "execute_result"
				}
			],
			"source": [
				"sample_url = url_line_list[0]\n",
				"sample_url"
			]
		},
		{
			"cell_type": "code",
			"execution_count": 32,
			"id": "8229ba5d",
			"metadata": {},
			"outputs": [
				{
					"data": {
						"text/plain": [
							"bytes"
						]
					},
					"execution_count": 32,
					"metadata": {},
					"output_type": "execute_result"
				}
			],
			"source": [
				"response_bs = get_response_from_cache(sample_url)\n",
				"type(response_bs)"
			]
		},
		{
			"cell_type": "code",
			"execution_count": 33,
			"id": "cc2d1404",
			"metadata": {},
			"outputs": [
				{
					"data": {
						"text/plain": [
							"0"
						]
					},
					"execution_count": 33,
					"metadata": {},
					"output_type": "execute_result"
				}
			],
			"source": [
				"len(response_bs)"
			]
		},
		{
			"cell_type": "code",
			"execution_count": 34,
			"id": "bbc07da4",
			"metadata": {},
			"outputs": [
				{
					"data": {
						"text/plain": [
							"0"
						]
					},
					"execution_count": 34,
					"metadata": {},
					"output_type": "execute_result"
				}
			],
			"source": [
				"url_index = 0\n",
				"url_index"
			]
		},
		{
			"cell_type": "code",
			"execution_count": 35,
			"id": "4d858680",
			"metadata": {},
			"outputs": [
				{
					"data": {
						"text/plain": [
							"182557"
						]
					},
					"execution_count": 35,
					"metadata": {},
					"output_type": "execute_result"
				}
			],
			"source": [
				"number_of_urls = len(url_line_list)\n",
				"number_of_urls"
			]
		},
		{
			"cell_type": "code",
			"execution_count": 38,
			"id": "453e2535",
			"metadata": {},
			"outputs": [],
			"source": [
				"from tqdm import tqdm"
			]
		},
		{
			"cell_type": "code",
			"execution_count": 39,
			"id": "243f935e",
			"metadata": {},
			"outputs": [
				{
					"name": "stderr",
					"output_type": "stream",
					"text": [
						"  3%|█▉                                                                        | 4784/182557 [00:02<01:41, 1745.78it/s]"
					]
				},
				{
					"name": "stdout",
					"output_type": "stream",
					"text": [
						"4784 http://image.7723.cn/attachments/icons/1/37171396590141.jpg\n"
					]
				},
				{
					"name": "stderr",
					"output_type": "stream",
					"text": [
						"\n"
					]
				}
			],
			"source": [
				"for url_index in tqdm(range(number_of_urls)):\n",
				"    entry_url = url_line_list[url_index]\n",
				"    response_bs = get_response_from_cache(entry_url)\n",
				"    if response_bs is None:\n",
				"        print(f'{entry_url} response is not in cache')\n",
				"    else:\n",
				"        if len(response_bs) > 0:\n",
				"            print(url_index, entry_url)\n",
				"            break"
			]
		},
		{
			"cell_type": "code",
			"execution_count": 43,
			"id": "b2518d86",
			"metadata": {},
			"outputs": [],
			"source": [
				"import PIL\n",
				"import PIL.Image\n",
				"import io"
			]
		},
		{
			"cell_type": "code",
			"execution_count": 41,
			"id": "de3a8fe1",
			"metadata": {},
			"outputs": [
				{
					"data": {
						"text/plain": [
							"11054"
						]
					},
					"execution_count": 41,
					"metadata": {},
					"output_type": "execute_result"
				}
			],
			"source": [
				"len(response_bs)"
			]
		},
		{
			"cell_type": "code",
			"execution_count": 44,
			"id": "97c1f159",
			"metadata": {},
			"outputs": [
				{
					"data": {
						"image/png": "[encoded data removed]",
						"text/plain": [
							"<PIL.JpegImagePlugin.JpegImageFile image mode=RGB size=140x155 at 0x27DCC465F08>"
						]
					},
					"execution_count": 44,
					"metadata": {},
					"output_type": "execute_result"
				}
			],
			"source": [
				"pil_image = PIL.Image.open(io.BytesIO(response_bs))\n",
				"pil_image"
			]
		},
		{
			"cell_type": "markdown",
			"id": "78b64cad",
			"metadata": {},
			"source": [
				"# start parsing"
			]
		},
		{
			"cell_type": "code",
			"execution_count": 45,
			"id": "fcd9fb37",
			"metadata": {},
			"outputs": [
				{
					"data": {
						"text/plain": [
							"'http://www.7723.cn/download/10420.htm'"
						]
					},
					"execution_count": 45,
					"metadata": {},
					"output_type": "execute_result"
				}
			],
			"source": [
				"sample_game_page_url = 'http://www.7723.cn/download/10420.htm'\n",
				"sample_game_page_url"
			]
		},
		{
			"cell_type": "markdown",
			"id": "b4428d7e",
			"metadata": {},
			"source": [
				"# game id"
			]
		},
		{
			"cell_type": "code",
			"execution_count": 57,
			"id": "858bf405",
			"metadata": {},
			"outputs": [],
			"source": [
				"import urllib\n",
				"import urllib.parse"
			]
		},
		{
			"cell_type": "code",
			"execution_count": 58,
			"id": "c6db9eef",
			"metadata": {},
			"outputs": [
				{
					"data": {
						"text/plain": [
							"ParseResult(scheme='http', netloc='www.7723.cn', path='/download/10420.htm', params='', query='', fragment='')"
						]
					},
					"execution_count": 58,
					"metadata": {},
					"output_type": "execute_result"
				}
			],
			"source": [
				"parse_result = urllib.parse.urlparse(sample_game_page_url)\n",
				"parse_result"
			]
		},
		{
			"cell_type": "code",
			"execution_count": 60,
			"id": "08348901",
			"metadata": {},
			"outputs": [
				{
					"data": {
						"text/plain": [
							"['', 'download', '10420.htm']"
						]
					},
					"execution_count": 60,
					"metadata": {},
					"output_type": "execute_result"
				}
			],
			"source": [
				"path_part_list = parse_result.path.split('/')\n",
				"path_part_list"
			]
		},
		{
			"cell_type": "code",
			"execution_count": 61,
			"id": "ae0f10f5",
			"metadata": {},
			"outputs": [
				{
					"data": {
						"text/plain": [
							"'10420'"
						]
					},
					"execution_count": 61,
					"metadata": {},
					"output_type": "execute_result"
				}
			],
			"source": [
				"game_id = os.path.splitext(path_part_list[-1])[0]\n",
				"game_id"
			]
		},
		{
			"cell_type": "markdown",
			"id": "b2110d12",
			"metadata": {},
			"source": [
				"# parse html"
			]
		},
		{
			"cell_type": "code",
			"execution_count": 46,
			"id": "fcc2954e",
			"metadata": {},
			"outputs": [
				{
					"data": {
						"text/plain": [
							"bytes"
						]
					},
					"execution_count": 46,
					"metadata": {},
					"output_type": "execute_result"
				}
			],
			"source": [
				"content_bs = get_response_from_cache(sample_game_page_url)\n",
				"type(content_bs)"
			]
		},
		{
			"cell_type": "code",
			"execution_count": 47,
			"id": "f2bf451e",
			"metadata": {},
			"outputs": [
				{
					"data": {
						"text/plain": [
							"22255"
						]
					},
					"execution_count": 47,
					"metadata": {},
					"output_type": "execute_result"
				}
			],
			"source": [
				"# TODO check for None and 0 size response\n",
				"len(content_bs)"
			]
		},
		{
			"cell_type": "code",
			"execution_count": 48,
			"id": "9dedae16",
			"metadata": {},
			"outputs": [
				{
					"data": {
						"text/plain": [
							"19201"
						]
					},
					"execution_count": 48,
					"metadata": {},
					"output_type": "execute_result"
				}
			],
			"source": [
				"_, html_str = Encoding.decode(content_bs)\n",
				"len(html_str)"
			]
		},
		{
			"cell_type": "code",
			"execution_count": 49,
			"id": "82c237d1",
			"metadata": {},
			"outputs": [],
			"source": [
				"import bs4"
			]
		},
		{
			"cell_type": "code",
			"execution_count": 50,
			"id": "7d3c8b55",
			"metadata": {},
			"outputs": [],
			"source": [
				"soup = bs4.BeautifulSoup(html_str)"
			]
		},
		{
			"cell_type": "code",
			"execution_count": 51,
			"id": "74f9d36b",
			"metadata": {},
			"outputs": [],
			"source": [
				"filename = 'game_page_prettified.html'\n",
				"prettified_html_str = soup.prettify()\n",
				"with open(filename, mode='wb') as outfile:\n",
				"    outfile.write(prettified_html_str.encode('utf-8'))"
			]
		},
		{
			"cell_type": "markdown",
			"id": "7538fd64",
			"metadata": {},
			"source": [
				"# game title/name"
			]
		},
		{
			"cell_type": "code",
			"execution_count": 55,
			"id": "ee8649a5",
			"metadata": {},
			"outputs": [
				{
					"data": {
						"text/plain": [
							"[<h3>苍弓默示录－吞噬时空</h3>,\n",
							" <h3>游戏简介</h3>,\n",
							" <h3>游戏截图</h3>,\n",
							" <h3>游戏下载</h3>,\n",
							" <h3>手机用户评论<span>( 请用手机登陆 wap.7723.cn 发表游戏评论与网友分享游戏心得。)</span></h3>]"
						]
					},
					"execution_count": 55,
					"metadata": {},
					"output_type": "execute_result"
				}
			],
			"source": [
				"title_element_list = soup.select('#content .title h3')\n",
				"title_element_list"
			]
		},
		{
			"cell_type": "code",
			"execution_count": 56,
			"id": "c5a28356",
			"metadata": {},
			"outputs": [
				{
					"data": {
						"text/plain": [
							"'苍弓默示录－吞噬时空'"
						]
					},
					"execution_count": 56,
					"metadata": {},
					"output_type": "execute_result"
				}
			],
			"source": [
				"# TODO check len of result\n",
				"game_name = title_element_list[0].text\n",
				"game_name"
			]
		},
		{
			"cell_type": "markdown",
			"id": "38d71e20",
			"metadata": {},
			"source": [
				"# game banner and game play images"
			]
		},
		{
			"cell_type": "code",
			"execution_count": 63,
			"id": "e4297619",
			"metadata": {},
			"outputs": [
				{
					"data": {
						"text/plain": [
							"[<img alt=\"苍弓默示录－吞噬时空\" height=\"80\" src=\"http://image.7723.cn/wuza/pico/2011111O8007024.jpg\" width=\"120\"/>,\n",
							" <img alt=\"苍弓默示录－吞噬时空\" height=\"208\" src=\"http://images.7723.cn/wuza/pico/2011111O800703.jpg\" width=\"172\"/>,\n",
							" <img alt=\"苍弓默示录－吞噬时空\" height=\"208\" src=\"http://images.7723.cn/wuza/pico/2011111O8037376.jpg\" width=\"172\"/>,\n",
							" <img alt=\"苍弓默示录－吞噬时空\" height=\"208\" src=\"http://images.7723.cn/wuza/pico/2011111O8037478.jpg\" width=\"172\"/>,\n",
							" <img alt=\"苍弓默示录－吞噬时空\" height=\"208\" src=\"http://images.7723.cn/wuza/pico/2011111O8037431.jpg\" width=\"172\"/>,\n",
							" <img alt=\"苍弓默示录－吞噬时空\" height=\"208\" src=\"http://images.7723.cn/wuza/pico/2011111O8037492.jpg\" width=\"172\"/>,\n",
							" <img alt=\"苍弓默示录－吞噬时空\" height=\"208\" src=\"http://images.7723.cn/wuza/pico/2011111O8037477.jpg\" width=\"172\"/>]"
						]
					},
					"execution_count": 63,
					"metadata": {},
					"output_type": "execute_result"
				}
			],
			"source": [
				"img_list = soup.select('#content ul.container img')\n",
				"img_list"
			]
		},
		{
			"cell_type": "code",
			"execution_count": 65,
			"id": "5271f529",
			"metadata": {},
			"outputs": [
				{
					"data": {
						"text/plain": [
							"['http://image.7723.cn/wuza/pico/2011111O8007024.jpg',\n",
							" 'http://images.7723.cn/wuza/pico/2011111O800703.jpg',\n",
							" 'http://images.7723.cn/wuza/pico/2011111O8037376.jpg',\n",
							" 'http://images.7723.cn/wuza/pico/2011111O8037478.jpg',\n",
							" 'http://images.7723.cn/wuza/pico/2011111O8037431.jpg',\n",
							" 'http://images.7723.cn/wuza/pico/2011111O8037492.jpg',\n",
							" 'http://images.7723.cn/wuza/pico/2011111O8037477.jpg']"
						]
					},
					"execution_count": 65,
					"metadata": {},
					"output_type": "execute_result"
				}
			],
			"source": [
				"img_url_list = [x.attrs['src'] for x in img_list]\n",
				"img_url_list"
			]
		},
		{
			"cell_type": "code",
			"execution_count": 66,
			"id": "5ed73019",
			"metadata": {},
			"outputs": [
				{
					"data": {
						"text/plain": [
							"'http://image.7723.cn/wuza/pico/2011111O8007024.jpg'"
						]
					},
					"execution_count": 66,
					"metadata": {},
					"output_type": "execute_result"
				}
			],
			"source": [
				"banner_image_url = img_url_list[0]\n",
				"banner_image_url"
			]
		},
		{
			"cell_type": "code",
			"execution_count": 67,
			"id": "eecbc8bd",
			"metadata": {},
			"outputs": [
				{
					"data": {
						"text/plain": [
							"['http://images.7723.cn/wuza/pico/2011111O800703.jpg',\n",
							" 'http://images.7723.cn/wuza/pico/2011111O8037376.jpg',\n",
							" 'http://images.7723.cn/wuza/pico/2011111O8037478.jpg',\n",
							" 'http://images.7723.cn/wuza/pico/2011111O8037431.jpg',\n",
							" 'http://images.7723.cn/wuza/pico/2011111O8037492.jpg',\n",
							" 'http://images.7723.cn/wuza/pico/2011111O8037477.jpg']"
						]
					},
					"execution_count": 67,
					"metadata": {},
					"output_type": "execute_result"
				}
			],
			"source": [
				"game_play_image_url_list = img_url_list[1:]\n",
				"game_play_image_url_list"
			]
		},
		{
			"cell_type": "markdown",
			"id": "cb635759",
			"metadata": {},
			"source": [
				"# game binaries"
			]
		},
		{
			"cell_type": "code",
			"execution_count": 73,
			"id": "2b252af4",
			"metadata": {},
			"outputs": [
				{
					"data": {
						"text/plain": [
							"3"
						]
					},
					"execution_count": 73,
					"metadata": {},
					"output_type": "execute_result"
				}
			],
			"source": [
				"container_element_list = li_element_list = soup.select('#content ul.container')\n",
				"len(container_element_list)"
			]
		},
		{
			"cell_type": "code",
			"execution_count": 75,
			"id": "91f0acce",
			"metadata": {},
			"outputs": [
				{
					"data": {
						"text/plain": [
							"16"
						]
					},
					"execution_count": 75,
					"metadata": {},
					"output_type": "execute_result"
				}
			],
			"source": [
				"# TODO check len\n",
				"li_element_list = container_element_list[2].select('li')\n",
				"len(li_element_list)"
			]
		},
		{
			"cell_type": "code",
			"execution_count": 76,
			"id": "95f772fe",
			"metadata": {},
			"outputs": [
				{
					"data": {
						"text/plain": [
							"<li>\n",
							"<h3><a href=\"http://www.7723.cn/downb.asp?idd=5&amp;id=10420&amp;ksp=1\" target=\"_blank\">点击下载[jar] 883K</a></h3>\n",
							"<p>诺基亚 N70系列(176×208)<br/>7610 3230 6600 6260 6620 6630 6670 6680 6681 6682 N70 N72 ;松下: X700 X800 ;联想: P930<br/></p>\n",
							"</li>"
						]
					},
					"execution_count": 76,
					"metadata": {},
					"output_type": "execute_result"
				}
			],
			"source": [
				"li_element_list[0]"
			]
		},
		{
			"cell_type": "code",
			"execution_count": 77,
			"id": "83bacc89",
			"metadata": {
				"scrolled": true
			},
			"outputs": [
				{
					"data": {
						"text/plain": [
							"[<li>\n",
							" <h3><a href=\"http://www.7723.cn/downb.asp?idd=5&amp;id=10420&amp;ksp=1\" target=\"_blank\">点击下载[jar] 883K</a></h3>\n",
							" <p>诺基亚 N70系列(176×208)<br/>7610 3230 6600 6260 6620 6630 6670 6680 6681 6682 N70 N72 ;松下: X700 X800 ;联想: P930<br/></p>\n",
							" </li>,\n",
							" <li>\n",
							" <h3><a href=\"http://www.7723.cn/downb.asp?idd=5&amp;id=10420&amp;ksp=2\" target=\"_blank\">点击下载[jar] 1,281K</a></h3>\n",
							" <p>诺基亚 N73系列(240×320)<br/>N73 5320 5320XM 5320di_XM 5630XM 5700 5700XM 5710XM 5730XM 6110 6110N 6120 6120C 6120ci 6121 6122C 6124C 6210S 6210ci 6220C 6290 6650F 6700S 6702S 6710N 6720C 6730c 6788 6788I 6790 C5 C5-01 E101 E50 E51 E52 E55 E65 E66 E75 X5-00 X5-01 N71 N73ie N75 N76 N76-1 N77 N78 N79 N79 Eco N81 N81 8GB N82 N85 N86 N92 N93 N93I N95 N958G N95 8GB N95-3 NAM N96<br/></p>\n",
							" </li>,\n",
							" <li>\n",
							" <h3><a href=\"http://www.7723.cn/downb.asp?idd=5&amp;id=10420&amp;ksp=3\" target=\"_blank\">点击下载[jar] 913K</a></h3>\n",
							" <p>诺基亚 N7370系列(240×320)<br/>7370 2700C 2710C 2710N 2730C 3120C 3208C 3600S 3602S 3610A 3610F 3620 3710F 3711 3720C 3806 5000 5000D 5130 5130C 5132 5132XM 5220 5220XM 5300 5310 5310XM 5330XM 5610 5610D 5610XM 5611 5611XM 6126 6131 6131I 6131NF 6133 6202C 6208C 6212 6233 6234 6263 6265 6265I 6267 6268 6270 6275 6275I 6280 6282 6288 6300 6300I 6301 6303C 6303CI 6303CLASSIC 6303I 6316S 6350 6500 6500C 6500S 6555 6600F 6600I 6600S 6600IS 6650T 6700S 6750 7020 7100 7100S 7205 7230 7210S 7212C 7230 7310C 7373 7390 7500 7500P 7510A 7510S 7610S 7612S 7705 7900 7900P 8208 8600 8600L 8800A 8800CA 8800DA 8800E 8800GA 8900 C2-01 C2-06 C3-01 C3-01M C3-03<br/></p>\n",
							" </li>,\n",
							" <li>\n",
							" <h3><a href=\"http://www.7723.cn/downb.asp?idd=5&amp;id=10420&amp;ksp=4\" target=\"_blank\">点击下载[jar] 1,314K</a></h3>\n",
							" <p>诺基亚 N97系列(360×640)<br/>N97 5228 5230 5230XM 5232 5233 5235 5236 5238 5250 5530 5530XM 5800 5800I 5800XM 5800W 5802XM 5900XM 6788I C5-03 C5-04 C6 C6-00 C6-01 C7 C7-00I E7 E7-00 I8910 SAGA SATIO X6 X6M X7 N8 N8-00 N97I N97MINI NURON ；索爱：U1I U5I(VIVAZ) U8I Satio IDOU ；三星：I8910 I8910U M8;000<br/></p>\n",
							" </li>,\n",
							" <li>\n",
							" <h3><a href=\"http://www.7723.cn/downb.asp?idd=5&amp;id=10420&amp;ksp=5\" target=\"_blank\">点击下载[jar] 883K</a></h3>\n",
							" <p>诺基亚 3250系列(176×208)<br/>3250 N91 N91 8GB<br/></p>\n",
							" </li>,\n",
							" <li>\n",
							" <h3><a href=\"http://www.7723.cn/downb.asp?idd=5&amp;id=10420&amp;ksp=6\" target=\"_blank\">点击下载[jar] 913K</a></h3>\n",
							" <p>摩托罗拉 A1000系列(208×320)<br/>A920 A925 A1000 A1010 M1000<br/></p>\n",
							" </li>,\n",
							" <li>\n",
							" <h3><a href=\"http://www.7723.cn/downb.asp?idd=5&amp;id=10420&amp;ksp=7\" target=\"_blank\">点击下载[jar] 918K</a></h3>\n",
							" <p>摩托罗拉 E6系列(240×320)<br/>E6 E6E A1200 A1200E A1200R A1208 A1600 A1800 ROKRE6<br/></p>\n",
							" </li>,\n",
							" <li>\n",
							" <h3><a href=\"http://www.7723.cn/downb.asp?idd=5&amp;id=10420&amp;ksp=8\" target=\"_blank\">点击下载[jar] 1,270K</a></h3>\n",
							" <p>诺基亚 E62系列(320×240)<br 5630xm=\"\" 7100s=\"\" c3=\"\" e5=\"\" e5-00=\"\" e5-00m=\"\" e61=\"\" e61i=\"\" e62=\"\" e63=\"\" e71=\"\" e71x=\"\" e72=\"\" e72i=\"\" e73=\"\" mythic=\"\" x2-01=\"\" x2-03=\"\" x5-01<br=\"\"/></p>\n",
							" </li>,\n",
							" <li>\n",
							" <h3><a href=\"http://www.7723.cn/downb.asp?idd=5&amp;id=10420&amp;ksp=9\" target=\"_blank\">点击下载[jar] 918K</a></h3>\n",
							" <p>摩托罗拉 E680系列(240×320)<br/>E680 A780 E680i E680g E690<br/></p>\n",
							" </li>,\n",
							" <li>\n",
							" <h3><a href=\"http://www.7723.cn/downb.asp?idd=5&amp;id=10420&amp;ksp=10\" target=\"_blank\">点击下载[jar] 1,276K</a></h3>\n",
							" <p>索爱 K790系列(240×320)<br/>K790 C510 C702 C702C G900C C901 C902 C902C C903 C905 C905C G502 G502C G700C G705 K660 K660I K770 K770I K790C K800 K800C K800I K810 K810C K810I K818 K818C K850 K850I K858 K858C K880 T650I T658 T658C T700 T707 T715 W508 W518A W580 W580C W580I W595 W595C W660I W705 W707 W715 W760 W760C W760I W830 W830C W830I W850 w880 W880I W888 W888C W890 W890I W898 W898C W900 W900C W900I W902 W908 W908C W910 W910I W980 W995 M1I J20 JALOU J105I S500 S500C S500I U100I Z750 Z750I Z770 Z770I Z780 Z780I<br/></p>\n",
							" </li>,\n",
							" <li>\n",
							" <h3><a href=\"http://www.7723.cn/downb.asp?idd=5&amp;id=10420&amp;ksp=11\" target=\"_blank\">点击下载[jar] 1,281K</a></h3>\n",
							" <p>三星 I450系列(240×320)<br/>B5210U G810 G818 G818E I400 I408 I450 I458 I520 I550 I550W I558 I560 I568 I570 I7110 I780 I8510 I8510C I900 INNOV8 L870 L878 L878E SGH-I570<br/></p>\n",
							" </li>,\n",
							" <li>\n",
							" <h3><a href=\"http://www.7723.cn/downb.asp?idd=5&amp;id=10420&amp;ksp=12\" target=\"_blank\">点击下载[jar] 913K</a></h3>\n",
							" <p>摩托罗 V8拉系列(240×320)<br/>E895 V8 V82GB RAZRV8 RAZRV82GB RAZRV6 RAZRV3xx RIZR-Z8 ROKR Z6 Z10<br/></p>\n",
							" </li>,\n",
							" <li>\n",
							" <h3><a href=\"http://www.7723.cn/downb.asp?idd=5&amp;id=10420&amp;ksp=13\" target=\"_blank\">点击下载[jar] 913K</a></h3>\n",
							" <p>诺基亚 X3系列(240×320)<br/>X3 6700C X2 X2-01 X2-03 X3-01 X3-02 X3 S40<br/></p>\n",
							" </li>,\n",
							" <li>\n",
							" <h3><a href=\"http://www.7723.cn/downb.asp?idd=5&amp;id=10420&amp;ksp=14\" target=\"_blank\">点击下载[jar] 913K</a></h3>\n",
							" <p>大屏通用版(240×320)<br/>支持分辨率为 240x320 的大屏幕手机<br/></p>\n",
							" </li>,\n",
							" <li>\n",
							" <h3><a href=\"http://www.7723.cn/downb.asp?idd=5&amp;id=10420&amp;ksp=15\" target=\"_blank\">点击下载[jar] 918K</a></h3>\n",
							" <p>触摸屏通用版(240×320)<br/>支持分辨率为 240x320 触摸屏的手机<br/></p>\n",
							" </li>,\n",
							" <li>\n",
							" <h3><a href=\"http://www.7723.cn/downb.asp?idd=5&amp;id=10420&amp;ksp=16\" target=\"_blank\">点击下载[jar] 1,314K</a></h3>\n",
							" <p>触摸屏通用版(360×640)<br/>支持分辨率为 360x640 触摸屏的手机<br/></p>\n",
							" </li>]"
						]
					},
					"execution_count": 77,
					"metadata": {},
					"output_type": "execute_result"
				}
			],
			"source": [
				"li_element_list"
			]
		},
		{
			"cell_type": "code",
			"execution_count": 78,
			"id": "c4c15ef2",
			"metadata": {},
			"outputs": [
				{
					"data": {
						"text/plain": [
							"<li>\n",
							"<h3><a href=\"http://www.7723.cn/downb.asp?idd=5&amp;id=10420&amp;ksp=1\" target=\"_blank\">点击下载[jar] 883K</a></h3>\n",
							"<p>诺基亚 N70系列(176×208)<br/>7610 3230 6600 6260 6620 6630 6670 6680 6681 6682 N70 N72 ;松下: X700 X800 ;联想: P930<br/></p>\n",
							"</li>"
						]
					},
					"execution_count": 78,
					"metadata": {},
					"output_type": "execute_result"
				}
			],
			"source": [
				"li_element = li_element_list[0]\n",
				"li_element"
			]
		},
		{
			"cell_type": "code",
			"execution_count": 85,
			"id": "6724ac75",
			"metadata": {},
			"outputs": [
				{
					"data": {
						"text/plain": [
							"'http://www.7723.cn/downb.asp?idd=5&id=10420&ksp=1'"
						]
					},
					"execution_count": 85,
					"metadata": {},
					"output_type": "execute_result"
				}
			],
			"source": [
				"li_element.select_one('a').attrs['href']"
			]
		},
		{
			"cell_type": "code",
			"execution_count": 86,
			"id": "c5912893",
			"metadata": {},
			"outputs": [
				{
					"data": {
						"text/plain": [
							"<p>诺基亚 N70系列(176×208)<br/>7610 3230 6600 6260 6620 6630 6670 6680 6681 6682 N70 N72 ;松下: X700 X800 ;联想: P930<br/></p>"
						]
					},
					"execution_count": 86,
					"metadata": {},
					"output_type": "execute_result"
				}
			],
			"source": [
				"# TODO replace br with new line\n",
				"description_element = li_element.select_one('p')\n",
				"description_element"
			]
		},
		{
			"cell_type": "code",
			"execution_count": 89,
			"id": "f9e3a0f6",
			"metadata": {},
			"outputs": [
				{
					"name": "stdout",
					"output_type": "stream",
					"text": [
						"诺基亚 N70系列(176×208)\n",
						"7610 3230 6600 6260 6620 6630 6670 6680 6681 6682 N70 N72 ;松下: X700 X800 ;联想: P930\n"
					]
				}
			],
			"source": [
				"description_text = description_element.get_text('\\n')\n",
				"print(description_text)"
			]
		},
		{
			"cell_type": "code",
			"execution_count": 90,
			"id": "73eec756",
			"metadata": {},
			"outputs": [],
			"source": [
				"def is_game_page_url(url: str):\n",
				"    parse_result = urllib.parse.urlparse(url)\n",
				"    path_parts = parse_result.path.split('/')\n",
				"    # filter out empty strings\n",
				"    path_parts = [part for part in path_parts if part]\n",
				"    if len(path_parts) != 2:\n",
				"        return False\n",
				"\n",
				"    if path_parts[0] != 'download':\n",
				"        return False\n",
				"\n",
				"    if not path_parts[1].endswith('.htm'):\n",
				"        return False\n",
				"\n",
				"    return True"
			]
		},
		{
			"cell_type": "code",
			"execution_count": 91,
			"id": "b72de8e3",
			"metadata": {},
			"outputs": [],
			"source": [
				"def parse_game_page_url(url: str):\n",
				"    if not is_game_page_url(url):\n",
				"        raise Exception(f'Not a game page url {url}')\n",
				"\n",
				"    content_bs = get_response_from_cache(url)\n",
				"    if (content_bs is None) or (len(content_bs) == 0):\n",
				"        raise Exception(f'Could not get response from cache for {url}')\n",
				"\n",
				"    _, html_str = Encoding.decode(content_bs)\n",
				"\n",
				"    game_page_obj = {\n",
				"        'url': url,\n",
				"    }\n",
				"\n",
				"    soup = bs4.BeautifulSoup(html_str)\n",
				"    ####################################################################\n",
				"    title_element_list = soup.select('#content .title h3')\n",
				"    if len(title_element_list) > 1:\n",
				"        game_name = title_element_list[0].text\n",
				"        game_page_obj['name'] = game_name\n",
				"    ####################################################################\n",
				"    img_element_list = soup.select('#content ul.container img')\n",
				"    img_url_list = []\n",
				"    for img_element in img_element_list:\n",
				"        if 'src' in img_element.attrs:\n",
				"            img_url_list.append(img_element.attrs['src'])\n",
				"\n",
				"    if len(img_url_list) > 0:\n",
				"        game_page_obj['banner_image'] = {\n",
				"            'url': img_url_list[0],\n",
				"        }\n",
				"\n",
				"        gameplay_image_info_list = []\n",
				"        for img_url in img_url_list:\n",
				"            gameplay_image_info_list.append({\n",
				"                'url': img_url,\n",
				"            })\n",
				"\n",
				"        game_page_obj['gameplay_image_list'] = gameplay_image_info_list\n",
				"    ####################################################################\n",
				"    container_element_list = soup.select('#content ul.container')\n",
				"    if len(container_element_list) > 3:\n",
				"        li_element_list = container_element_list[2].select('li')\n",
				"\n",
				"        game_binary_info_list = []\n",
				"        for li_element in li_element_list:\n",
				"            anchor_element = li_element.select_one('a')\n",
				"            if anchor_element is None:\n",
				"                continue\n",
				"\n",
				"            if 'href' not in anchor_element.attrs:\n",
				"                continue\n",
				"\n",
				"            download_url = anchor_element.attrs['href']\n",
				"            game_binary_info = {\n",
				"                'url': download_url,\n",
				"            }\n",
				"            description_element = li_element.select_one('p')\n",
				"            if description_element is not None:\n",
				"                description_text = description_element.get_text('\\n')\n",
				"                game_binary_info['description'] = description_text\n",
				"\n",
				"            game_binary_info_list.append(game_binary_info)\n",
				"\n",
				"        game_page_obj['binary_info_list'] = game_binary_info_list\n",
				"    ####################################################################\n",
				"    return game_page_obj"
			]
		},
		{
			"cell_type": "code",
			"execution_count": 92,
			"id": "eb31d4ed",
			"metadata": {},
			"outputs": [
				{
					"data": {
						"text/plain": [
							"182557"
						]
					},
					"execution_count": 92,
					"metadata": {},
					"output_type": "execute_result"
				}
			],
			"source": [
				"len(url_line_list)"
			]
		},
		{
			"cell_type": "code",
			"execution_count": 93,
			"id": "d2c8653c",
			"metadata": {},
			"outputs": [
				{
					"data": {
						"text/plain": [
							"[]"
						]
					},
					"execution_count": 93,
					"metadata": {},
					"output_type": "execute_result"
				}
			],
			"source": [
				"game_page_url_list = []\n",
				"game_page_url_list"
			]
		},
		{
			"cell_type": "code",
			"execution_count": 94,
			"id": "36ab89c9",
			"metadata": {},
			"outputs": [
				{
					"data": {
						"text/plain": [
							"0"
						]
					},
					"execution_count": 94,
					"metadata": {},
					"output_type": "execute_result"
				}
			],
			"source": [
				"for url_str in url_line_list:\n",
				"    if is_game_page_url(url_str):\n",
				"        game_page_url_list.append(url_str)\n",
				"len(game_page_url_list)"
			]
		},
		{
			"cell_type": "code",
			"execution_count": 95,
			"id": "fe5157df",
			"metadata": {},
			"outputs": [
				{
					"data": {
						"text/plain": [
							"['http://www.7723.cn/zuixin/jiaose_1.htm',\n",
							" 'http://www.7723.cn/zuixin/yizhi_1.htm',\n",
							" 'http://www.7723.cn/zuixin/dongzuo_1.htm',\n",
							" 'http://www.7723.cn/zuixin/saiche_1.htm',\n",
							" 'http://www.7723.cn/zuixin/maoxian_1.htm',\n",
							" 'http://www.7723.cn/zuixin/yangcheng_1.htm',\n",
							" 'http://www.7723.cn/zuixin/tiyu_1.htm',\n",
							" 'http://www.7723.cn/zuixin/gedou_1.htm',\n",
							" 'http://www.7723.cn/zuixin/qipai_1.htm',\n",
							" 'http://www.7723.cn/zuixin/celue_1.htm',\n",
							" 'http://www.7723.cn/zuixin/sheji_1.htm',\n",
							" 'http://www.7723.cn/zuixin/moni_1.htm',\n",
							" 'http://www.7723.cn/zuixin/feixing_1.htm',\n",
							" 'http://www.7723.cn/zuixin/wangyou_1.htm']"
						]
					},
					"execution_count": 95,
					"metadata": {},
					"output_type": "execute_result"
				}
			],
			"source": [
				"genre_first_page_urls = [\n",
				"    'http://www.7723.cn/zuixin/jiaose_1.htm', # 角色扮演 # RPG\n",
				"    'http://www.7723.cn/zuixin/yizhi_1.htm', # 益智游戏 # Puzzle games\n",
				"    'http://www.7723.cn/zuixin/dongzuo_1.htm', # 动作游戏 # Action games\n",
				"    'http://www.7723.cn/zuixin/saiche_1.htm', # 赛车游戏 # Racing games\n",
				"    'http://www.7723.cn/zuixin/maoxian_1.htm', # 冒险游戏 # Adventure games\n",
				"    'http://www.7723.cn/zuixin/yangcheng_1.htm', # 养成游戏 # Dating sim?\n",
				"    'http://www.7723.cn/zuixin/tiyu_1.htm', # 体育游戏 # Sports games\n",
				"    'http://www.7723.cn/zuixin/gedou_1.htm', # 格斗游戏 # Fighting games\n",
				"    'http://www.7723.cn/zuixin/qipai_1.htm', # 棋牌游戏 # Board games\n",
				"    'http://www.7723.cn/zuixin/celue_1.htm', # 策略游戏 # Strategy games\n",
				"    'http://www.7723.cn/zuixin/sheji_1.htm', # 射击游戏 # Shooting games\n",
				"    'http://www.7723.cn/zuixin/moni_1.htm', # 模拟经营 # Simulation (city building, shop management, etc.)\n",
				"    'http://www.7723.cn/zuixin/feixing_1.htm', # 飞行游戏 # Flying (e.g. space ship) games\n",
				"    'http://www.7723.cn/zuixin/wangyou_1.htm', # 手机网游 # online games\n",
				"]\n",
				"\n",
				"genre_first_page_urls"
			]
		}
	],
	"metadata": {
		"kernelspec": {
			"display_name": "Python 3",
			"language": "python",
			"name": "python3"
		},
		"language_info": {
			"codemirror_mode": {
				"name": "ipython",
				"version": 3
			},
			"file_extension": ".py",
			"mimetype": "text/x-python",
			"name": "python",
			"nbconvert_exporter": "python",
			"pygments_lexer": "ipython3"
		}
	},
	"nbformat": 4,
	"nbformat_minor": 5
}
